{
 "cells": [
  {
   "cell_type": "markdown",
   "metadata": {},
   "source": [
    "# Исследование гипотез для увеличения выручки интернет-магазина\n",
    "<br>\n",
    "\n",
    "\n",
    "**Описание проекта**<br>\n",
    "\n",
    "Вместе с отделом маркетинга крупного интернет-магазина мы подготовили список гипотез для увеличения выручки. <br>\n",
    "Приоритизируем гипотезы, запустим A/B-тест и проанализируем результаты.\n",
    "\n",
    "Проект разделим на 2 части:\n",
    "\n",
    "**Часть 1. Приоритизация гипотез**<br> \n",
    "В файле hypothesis.csv 9 гипотез по увеличению выручки интернет-магазина с указанными параметрами Reach, Impact, Confidence, Effort. <br>\n",
    "Описание данных:\n",
    " - Hypothesis — краткое описание гипотезы,\n",
    " - Reach — охват пользователей по 10-балльной шкале,\n",
    " - Impact — влияние на пользователей по 10-балльной шкале,\n",
    " - Confidence — уверенность в гипотезе по 10-балльной шкале,\n",
    " - Efforts — затраты ресурсов на проверку гипотезы по 10-балльной шкале. Чем больше значение Efforts, тем дороже проверка гипотезы.\n",
    "\n",
    "Цель исследования: определить гипотезу, которая приведет к наибольшему увеличению выручки.\n",
    "\n",
    "**Часть 2. Анализ A/B-теста**<br> \n",
    "У нас есть результаты A/B-теста, которые собраны в файлах orders.csv и visitors.csv.<br>\n",
    "Задача - проанализировать эти результаты.<br>\n",
    "\n",
    "Описание данных:<br>\n",
    "\n",
    "*Файл orders.csv.*\n",
    " - transactionId — идентификатор заказа,\n",
    " - visitorId — идентификатор пользователя, совершившего заказ,\n",
    " - date — дата, когда был совершён заказ,\n",
    " - revenue — выручка заказа,\n",
    " - group — группа A/B-теста, в которую попал заказ.\n",
    "\n",
    "*Файл visitors.csv.*\n",
    " - date — дата,\n",
    " - group — группа A/B-теста,\n",
    " - visitors — количество пользователей в указанную дату в указанной группе A/B-теста.\n",
    "\n",
    "По итогам анализа нам будет нужно сделать выбор:\n",
    "   1. Остановить тест, зафиксировать победу одной из групп,\n",
    "   2. Остановить тест, зафиксировать отсутствие различий между группами,\n",
    "   3. Продолжить тест.\n",
    "\n",
    "**Итак, общий план исследования:**\n",
    "\n",
    "1. Обзор данных,\n",
    "2. Предобработка данных,\n",
    "3. Приоритизация гипотез,\n",
    "4. Анализ результатов A/B-теста, принятие решения по по дальнейшим действиям.\n"
   ]
  },
  {
   "cell_type": "markdown",
   "metadata": {},
   "source": [
    "### часть: Приоритизация гипотез"
   ]
  },
  {
   "cell_type": "code",
   "execution_count": 1,
   "metadata": {},
   "outputs": [],
   "source": [
    "# Импортируем нужные библиотеки для чтения файлов, построения графиков и проведения расчетов\n",
    "\n",
    "import pandas as pd\n",
    "import numpy as np\n",
    "from matplotlib import pyplot as plt\n",
    "import math\n",
    "import seaborn as sns\n",
    "from scipy import stats\n",
    "from datetime import timedelta\n",
    "import datetime as dt"
   ]
  },
  {
   "cell_type": "code",
   "execution_count": 2,
   "metadata": {},
   "outputs": [
    {
     "data": {
      "text/html": [
       "<div>\n",
       "<style scoped>\n",
       "    .dataframe tbody tr th:only-of-type {\n",
       "        vertical-align: middle;\n",
       "    }\n",
       "\n",
       "    .dataframe tbody tr th {\n",
       "        vertical-align: top;\n",
       "    }\n",
       "\n",
       "    .dataframe thead th {\n",
       "        text-align: right;\n",
       "    }\n",
       "</style>\n",
       "<table border=\"1\" class=\"dataframe\">\n",
       "  <thead>\n",
       "    <tr style=\"text-align: right;\">\n",
       "      <th></th>\n",
       "      <th>Hypothesis</th>\n",
       "      <th>Reach</th>\n",
       "      <th>Impact</th>\n",
       "      <th>Confidence</th>\n",
       "      <th>Efforts</th>\n",
       "    </tr>\n",
       "  </thead>\n",
       "  <tbody>\n",
       "    <tr>\n",
       "      <th>0</th>\n",
       "      <td>Добавить два новых канала привлечения трафика, что позволит привлекать на 30% больше пользователей</td>\n",
       "      <td>3</td>\n",
       "      <td>10</td>\n",
       "      <td>8</td>\n",
       "      <td>6</td>\n",
       "    </tr>\n",
       "    <tr>\n",
       "      <th>1</th>\n",
       "      <td>Запустить собственную службу доставки, что сократит срок доставки заказов</td>\n",
       "      <td>2</td>\n",
       "      <td>5</td>\n",
       "      <td>4</td>\n",
       "      <td>10</td>\n",
       "    </tr>\n",
       "    <tr>\n",
       "      <th>2</th>\n",
       "      <td>Добавить блоки рекомендаций товаров на сайт интернет магазина, чтобы повысить конверсию и средний чек заказа</td>\n",
       "      <td>8</td>\n",
       "      <td>3</td>\n",
       "      <td>7</td>\n",
       "      <td>3</td>\n",
       "    </tr>\n",
       "    <tr>\n",
       "      <th>3</th>\n",
       "      <td>Изменить структура категорий, что увеличит конверсию, т.к. пользователи быстрее найдут нужный товар</td>\n",
       "      <td>8</td>\n",
       "      <td>3</td>\n",
       "      <td>3</td>\n",
       "      <td>8</td>\n",
       "    </tr>\n",
       "    <tr>\n",
       "      <th>4</th>\n",
       "      <td>Изменить цвет фона главной страницы, чтобы увеличить вовлеченность пользователей</td>\n",
       "      <td>3</td>\n",
       "      <td>1</td>\n",
       "      <td>1</td>\n",
       "      <td>1</td>\n",
       "    </tr>\n",
       "    <tr>\n",
       "      <th>5</th>\n",
       "      <td>Добавить страницу отзывов клиентов о магазине, что позволит увеличить количество заказов</td>\n",
       "      <td>3</td>\n",
       "      <td>2</td>\n",
       "      <td>2</td>\n",
       "      <td>3</td>\n",
       "    </tr>\n",
       "    <tr>\n",
       "      <th>6</th>\n",
       "      <td>Показать на главной странице баннеры с актуальными акциями и распродажами, чтобы увеличить конверсию</td>\n",
       "      <td>5</td>\n",
       "      <td>3</td>\n",
       "      <td>8</td>\n",
       "      <td>3</td>\n",
       "    </tr>\n",
       "    <tr>\n",
       "      <th>7</th>\n",
       "      <td>Добавить форму подписки на все основные страницы, чтобы собрать базу клиентов для email-рассылок</td>\n",
       "      <td>10</td>\n",
       "      <td>7</td>\n",
       "      <td>8</td>\n",
       "      <td>5</td>\n",
       "    </tr>\n",
       "    <tr>\n",
       "      <th>8</th>\n",
       "      <td>Запустить акцию, дающую скидку на товар в день рождения</td>\n",
       "      <td>1</td>\n",
       "      <td>9</td>\n",
       "      <td>9</td>\n",
       "      <td>5</td>\n",
       "    </tr>\n",
       "  </tbody>\n",
       "</table>\n",
       "</div>"
      ],
      "text/plain": [
       "                                                                                                     Hypothesis  \\\n",
       "0            Добавить два новых канала привлечения трафика, что позволит привлекать на 30% больше пользователей   \n",
       "1                                     Запустить собственную службу доставки, что сократит срок доставки заказов   \n",
       "2  Добавить блоки рекомендаций товаров на сайт интернет магазина, чтобы повысить конверсию и средний чек заказа   \n",
       "3           Изменить структура категорий, что увеличит конверсию, т.к. пользователи быстрее найдут нужный товар   \n",
       "4                              Изменить цвет фона главной страницы, чтобы увеличить вовлеченность пользователей   \n",
       "5                      Добавить страницу отзывов клиентов о магазине, что позволит увеличить количество заказов   \n",
       "6          Показать на главной странице баннеры с актуальными акциями и распродажами, чтобы увеличить конверсию   \n",
       "7              Добавить форму подписки на все основные страницы, чтобы собрать базу клиентов для email-рассылок   \n",
       "8                                                       Запустить акцию, дающую скидку на товар в день рождения   \n",
       "\n",
       "   Reach  Impact  Confidence  Efforts  \n",
       "0      3      10           8        6  \n",
       "1      2       5           4       10  \n",
       "2      8       3           7        3  \n",
       "3      8       3           3        8  \n",
       "4      3       1           1        1  \n",
       "5      3       2           2        3  \n",
       "6      5       3           8        3  \n",
       "7     10       7           8        5  \n",
       "8      1       9           9        5  "
      ]
     },
     "execution_count": 2,
     "metadata": {},
     "output_type": "execute_result"
    }
   ],
   "source": [
    "# Загрузим файл\n",
    "hypothesis = pd.read_csv('/datasets/hypothesis.csv', sep=',')\n",
    "pd.options.display.max_colwidth = 150  \n",
    "\n",
    "# Сразу ограничим показ данных формата float до 3х символов после точки\n",
    "pd.options.display.float_format = '{:,.3f}'.format\n",
    "\n",
    "hypothesis.head(9)"
   ]
  },
  {
   "cell_type": "code",
   "execution_count": 3,
   "metadata": {},
   "outputs": [
    {
     "name": "stdout",
     "output_type": "stream",
     "text": [
      "<class 'pandas.core.frame.DataFrame'>\n",
      "RangeIndex: 9 entries, 0 to 8\n",
      "Data columns (total 5 columns):\n",
      " #   Column      Non-Null Count  Dtype \n",
      "---  ------      --------------  ----- \n",
      " 0   Hypothesis  9 non-null      object\n",
      " 1   Reach       9 non-null      int64 \n",
      " 2   Impact      9 non-null      int64 \n",
      " 3   Confidence  9 non-null      int64 \n",
      " 4   Efforts     9 non-null      int64 \n",
      "dtypes: int64(4), object(1)\n",
      "memory usage: 488.0+ bytes\n"
     ]
    }
   ],
   "source": [
    "# Изучим общую информацию о файле\n",
    "hypothesis.info()"
   ]
  },
  {
   "cell_type": "code",
   "execution_count": 4,
   "metadata": {},
   "outputs": [],
   "source": [
    "# Переведем названия столбцов в нижний регистр\n",
    "hypothesis.columns = hypothesis.columns.str.lower()\n",
    "\n",
    "# Оптимизируем память\n",
    "hypothesis['reach'] = hypothesis['reach'].astype('int32')\n",
    "hypothesis['impact'] = hypothesis['impact'].astype('int32')\n",
    "hypothesis['confidence'] = hypothesis['confidence'].astype('int32')\n",
    "hypothesis['efforts'] = hypothesis['efforts'].astype('int32')"
   ]
  },
  {
   "cell_type": "code",
   "execution_count": 5,
   "metadata": {},
   "outputs": [
    {
     "name": "stdout",
     "output_type": "stream",
     "text": [
      "<class 'pandas.core.frame.DataFrame'>\n",
      "RangeIndex: 9 entries, 0 to 8\n",
      "Data columns (total 5 columns):\n",
      " #   Column      Non-Null Count  Dtype \n",
      "---  ------      --------------  ----- \n",
      " 0   hypothesis  9 non-null      object\n",
      " 1   reach       9 non-null      int32 \n",
      " 2   impact      9 non-null      int32 \n",
      " 3   confidence  9 non-null      int32 \n",
      " 4   efforts     9 non-null      int32 \n",
      "dtypes: int32(4), object(1)\n",
      "memory usage: 344.0+ bytes\n"
     ]
    }
   ],
   "source": [
    "# Проверим изменения\n",
    "hypothesis.info()"
   ]
  },
  {
   "cell_type": "markdown",
   "metadata": {},
   "source": [
    "**Посчитаем ICE для гипотез и отсортируем их по убыванию приоритета**"
   ]
  },
  {
   "cell_type": "code",
   "execution_count": 6,
   "metadata": {},
   "outputs": [
    {
     "data": {
      "text/html": [
       "<div>\n",
       "<style scoped>\n",
       "    .dataframe tbody tr th:only-of-type {\n",
       "        vertical-align: middle;\n",
       "    }\n",
       "\n",
       "    .dataframe tbody tr th {\n",
       "        vertical-align: top;\n",
       "    }\n",
       "\n",
       "    .dataframe thead th {\n",
       "        text-align: right;\n",
       "    }\n",
       "</style>\n",
       "<table border=\"1\" class=\"dataframe\">\n",
       "  <thead>\n",
       "    <tr style=\"text-align: right;\">\n",
       "      <th></th>\n",
       "      <th>hypothesis</th>\n",
       "      <th>ICE</th>\n",
       "    </tr>\n",
       "  </thead>\n",
       "  <tbody>\n",
       "    <tr>\n",
       "      <th>8</th>\n",
       "      <td>Запустить акцию, дающую скидку на товар в день рождения</td>\n",
       "      <td>16.200</td>\n",
       "    </tr>\n",
       "    <tr>\n",
       "      <th>0</th>\n",
       "      <td>Добавить два новых канала привлечения трафика, что позволит привлекать на 30% больше пользователей</td>\n",
       "      <td>13.330</td>\n",
       "    </tr>\n",
       "    <tr>\n",
       "      <th>7</th>\n",
       "      <td>Добавить форму подписки на все основные страницы, чтобы собрать базу клиентов для email-рассылок</td>\n",
       "      <td>11.200</td>\n",
       "    </tr>\n",
       "    <tr>\n",
       "      <th>6</th>\n",
       "      <td>Показать на главной странице баннеры с актуальными акциями и распродажами, чтобы увеличить конверсию</td>\n",
       "      <td>8.000</td>\n",
       "    </tr>\n",
       "    <tr>\n",
       "      <th>2</th>\n",
       "      <td>Добавить блоки рекомендаций товаров на сайт интернет магазина, чтобы повысить конверсию и средний чек заказа</td>\n",
       "      <td>7.000</td>\n",
       "    </tr>\n",
       "    <tr>\n",
       "      <th>1</th>\n",
       "      <td>Запустить собственную службу доставки, что сократит срок доставки заказов</td>\n",
       "      <td>2.000</td>\n",
       "    </tr>\n",
       "    <tr>\n",
       "      <th>5</th>\n",
       "      <td>Добавить страницу отзывов клиентов о магазине, что позволит увеличить количество заказов</td>\n",
       "      <td>1.330</td>\n",
       "    </tr>\n",
       "    <tr>\n",
       "      <th>3</th>\n",
       "      <td>Изменить структура категорий, что увеличит конверсию, т.к. пользователи быстрее найдут нужный товар</td>\n",
       "      <td>1.120</td>\n",
       "    </tr>\n",
       "    <tr>\n",
       "      <th>4</th>\n",
       "      <td>Изменить цвет фона главной страницы, чтобы увеличить вовлеченность пользователей</td>\n",
       "      <td>1.000</td>\n",
       "    </tr>\n",
       "  </tbody>\n",
       "</table>\n",
       "</div>"
      ],
      "text/plain": [
       "                                                                                                     hypothesis  \\\n",
       "8                                                       Запустить акцию, дающую скидку на товар в день рождения   \n",
       "0            Добавить два новых канала привлечения трафика, что позволит привлекать на 30% больше пользователей   \n",
       "7              Добавить форму подписки на все основные страницы, чтобы собрать базу клиентов для email-рассылок   \n",
       "6          Показать на главной странице баннеры с актуальными акциями и распродажами, чтобы увеличить конверсию   \n",
       "2  Добавить блоки рекомендаций товаров на сайт интернет магазина, чтобы повысить конверсию и средний чек заказа   \n",
       "1                                     Запустить собственную службу доставки, что сократит срок доставки заказов   \n",
       "5                      Добавить страницу отзывов клиентов о магазине, что позволит увеличить количество заказов   \n",
       "3           Изменить структура категорий, что увеличит конверсию, т.к. пользователи быстрее найдут нужный товар   \n",
       "4                              Изменить цвет фона главной страницы, чтобы увеличить вовлеченность пользователей   \n",
       "\n",
       "     ICE  \n",
       "8 16.200  \n",
       "0 13.330  \n",
       "7 11.200  \n",
       "6  8.000  \n",
       "2  7.000  \n",
       "1  2.000  \n",
       "5  1.330  \n",
       "3  1.120  \n",
       "4  1.000  "
      ]
     },
     "execution_count": 6,
     "metadata": {},
     "output_type": "execute_result"
    }
   ],
   "source": [
    "hypothesis['ICE'] = (hypothesis['impact'] * hypothesis['confidence']) / hypothesis['efforts']\n",
    "hypothesis[['hypothesis', 'ICE']].sort_values(by='ICE', ascending=False).round(2)"
   ]
  },
  {
   "cell_type": "markdown",
   "metadata": {},
   "source": [
    "Видим, что топ 3 гипотезы по ICE - это:<br>\n",
    "\n",
    " - \"Запустить акцию, дающую скидку на товар в день рождения\",<br>\n",
    " - \"Добавить два новых канала привлечения трафика, что позволит привлекать на 30% больше пользователей\",<br>\n",
    " - \"Добавить форму подписки на все основные страницы, чтобы собрать базу клиентов для email-рассылок\"."
   ]
  },
  {
   "cell_type": "markdown",
   "metadata": {},
   "source": [
    "**Посчитаем RICE для гипотез и отсортируем их по убыванию приоритета**"
   ]
  },
  {
   "cell_type": "code",
   "execution_count": 7,
   "metadata": {},
   "outputs": [
    {
     "data": {
      "text/html": [
       "<div>\n",
       "<style scoped>\n",
       "    .dataframe tbody tr th:only-of-type {\n",
       "        vertical-align: middle;\n",
       "    }\n",
       "\n",
       "    .dataframe tbody tr th {\n",
       "        vertical-align: top;\n",
       "    }\n",
       "\n",
       "    .dataframe thead th {\n",
       "        text-align: right;\n",
       "    }\n",
       "</style>\n",
       "<table border=\"1\" class=\"dataframe\">\n",
       "  <thead>\n",
       "    <tr style=\"text-align: right;\">\n",
       "      <th></th>\n",
       "      <th>hypothesis</th>\n",
       "      <th>RICE</th>\n",
       "    </tr>\n",
       "  </thead>\n",
       "  <tbody>\n",
       "    <tr>\n",
       "      <th>7</th>\n",
       "      <td>Добавить форму подписки на все основные страницы, чтобы собрать базу клиентов для email-рассылок</td>\n",
       "      <td>112.000</td>\n",
       "    </tr>\n",
       "    <tr>\n",
       "      <th>2</th>\n",
       "      <td>Добавить блоки рекомендаций товаров на сайт интернет магазина, чтобы повысить конверсию и средний чек заказа</td>\n",
       "      <td>56.000</td>\n",
       "    </tr>\n",
       "    <tr>\n",
       "      <th>0</th>\n",
       "      <td>Добавить два новых канала привлечения трафика, что позволит привлекать на 30% больше пользователей</td>\n",
       "      <td>40.000</td>\n",
       "    </tr>\n",
       "    <tr>\n",
       "      <th>6</th>\n",
       "      <td>Показать на главной странице баннеры с актуальными акциями и распродажами, чтобы увеличить конверсию</td>\n",
       "      <td>40.000</td>\n",
       "    </tr>\n",
       "    <tr>\n",
       "      <th>8</th>\n",
       "      <td>Запустить акцию, дающую скидку на товар в день рождения</td>\n",
       "      <td>16.200</td>\n",
       "    </tr>\n",
       "    <tr>\n",
       "      <th>3</th>\n",
       "      <td>Изменить структура категорий, что увеличит конверсию, т.к. пользователи быстрее найдут нужный товар</td>\n",
       "      <td>9.000</td>\n",
       "    </tr>\n",
       "    <tr>\n",
       "      <th>1</th>\n",
       "      <td>Запустить собственную службу доставки, что сократит срок доставки заказов</td>\n",
       "      <td>4.000</td>\n",
       "    </tr>\n",
       "    <tr>\n",
       "      <th>5</th>\n",
       "      <td>Добавить страницу отзывов клиентов о магазине, что позволит увеличить количество заказов</td>\n",
       "      <td>4.000</td>\n",
       "    </tr>\n",
       "    <tr>\n",
       "      <th>4</th>\n",
       "      <td>Изменить цвет фона главной страницы, чтобы увеличить вовлеченность пользователей</td>\n",
       "      <td>3.000</td>\n",
       "    </tr>\n",
       "  </tbody>\n",
       "</table>\n",
       "</div>"
      ],
      "text/plain": [
       "                                                                                                     hypothesis  \\\n",
       "7              Добавить форму подписки на все основные страницы, чтобы собрать базу клиентов для email-рассылок   \n",
       "2  Добавить блоки рекомендаций товаров на сайт интернет магазина, чтобы повысить конверсию и средний чек заказа   \n",
       "0            Добавить два новых канала привлечения трафика, что позволит привлекать на 30% больше пользователей   \n",
       "6          Показать на главной странице баннеры с актуальными акциями и распродажами, чтобы увеличить конверсию   \n",
       "8                                                       Запустить акцию, дающую скидку на товар в день рождения   \n",
       "3           Изменить структура категорий, что увеличит конверсию, т.к. пользователи быстрее найдут нужный товар   \n",
       "1                                     Запустить собственную службу доставки, что сократит срок доставки заказов   \n",
       "5                      Добавить страницу отзывов клиентов о магазине, что позволит увеличить количество заказов   \n",
       "4                              Изменить цвет фона главной страницы, чтобы увеличить вовлеченность пользователей   \n",
       "\n",
       "     RICE  \n",
       "7 112.000  \n",
       "2  56.000  \n",
       "0  40.000  \n",
       "6  40.000  \n",
       "8  16.200  \n",
       "3   9.000  \n",
       "1   4.000  \n",
       "5   4.000  \n",
       "4   3.000  "
      ]
     },
     "execution_count": 7,
     "metadata": {},
     "output_type": "execute_result"
    }
   ],
   "source": [
    "hypothesis['RICE'] = (hypothesis['reach'] * hypothesis['impact'] * hypothesis['confidence']) / hypothesis['efforts']\n",
    "hypothesis[['hypothesis', 'RICE']].sort_values(by='RICE', ascending=False).round(2)"
   ]
  },
  {
   "cell_type": "markdown",
   "metadata": {},
   "source": [
    "Топ 3 гипотезы по RICE:<br>\n",
    "\n",
    " - \"Добавить форму подписки на все основные страницы, чтобы собрать базу клиентов для email-рассылок\".\n",
    " - \"Добавить блоки рекомендаций товаров на сайт интернет магазина, чтобы повысить конверсию и средний чек заказа\",<br>\n",
    " - \"Добавить два новых канала привлечения трафика, что позволит привлекать на 30% больше пользователей\".<br>"
   ]
  },
  {
   "cell_type": "markdown",
   "metadata": {},
   "source": [
    "**Посмотим, как изменилась приоритизация гипотез при применении RICE вместо ICE**"
   ]
  },
  {
   "cell_type": "code",
   "execution_count": 8,
   "metadata": {},
   "outputs": [
    {
     "data": {
      "text/html": [
       "<div>\n",
       "<style scoped>\n",
       "    .dataframe tbody tr th:only-of-type {\n",
       "        vertical-align: middle;\n",
       "    }\n",
       "\n",
       "    .dataframe tbody tr th {\n",
       "        vertical-align: top;\n",
       "    }\n",
       "\n",
       "    .dataframe thead th {\n",
       "        text-align: right;\n",
       "    }\n",
       "</style>\n",
       "<table border=\"1\" class=\"dataframe\">\n",
       "  <thead>\n",
       "    <tr style=\"text-align: right;\">\n",
       "      <th></th>\n",
       "      <th>hypothesis</th>\n",
       "      <th>reach</th>\n",
       "      <th>impact</th>\n",
       "      <th>confidence</th>\n",
       "      <th>efforts</th>\n",
       "      <th>ICE</th>\n",
       "      <th>RICE</th>\n",
       "    </tr>\n",
       "  </thead>\n",
       "  <tbody>\n",
       "    <tr>\n",
       "      <th>7</th>\n",
       "      <td>Добавить форму подписки на все основные страницы, чтобы собрать базу клиентов для email-рассылок</td>\n",
       "      <td>10</td>\n",
       "      <td>7</td>\n",
       "      <td>8</td>\n",
       "      <td>5</td>\n",
       "      <td>11.200</td>\n",
       "      <td>112.000</td>\n",
       "    </tr>\n",
       "    <tr>\n",
       "      <th>2</th>\n",
       "      <td>Добавить блоки рекомендаций товаров на сайт интернет магазина, чтобы повысить конверсию и средний чек заказа</td>\n",
       "      <td>8</td>\n",
       "      <td>3</td>\n",
       "      <td>7</td>\n",
       "      <td>3</td>\n",
       "      <td>7.000</td>\n",
       "      <td>56.000</td>\n",
       "    </tr>\n",
       "    <tr>\n",
       "      <th>0</th>\n",
       "      <td>Добавить два новых канала привлечения трафика, что позволит привлекать на 30% больше пользователей</td>\n",
       "      <td>3</td>\n",
       "      <td>10</td>\n",
       "      <td>8</td>\n",
       "      <td>6</td>\n",
       "      <td>13.333</td>\n",
       "      <td>40.000</td>\n",
       "    </tr>\n",
       "    <tr>\n",
       "      <th>6</th>\n",
       "      <td>Показать на главной странице баннеры с актуальными акциями и распродажами, чтобы увеличить конверсию</td>\n",
       "      <td>5</td>\n",
       "      <td>3</td>\n",
       "      <td>8</td>\n",
       "      <td>3</td>\n",
       "      <td>8.000</td>\n",
       "      <td>40.000</td>\n",
       "    </tr>\n",
       "    <tr>\n",
       "      <th>8</th>\n",
       "      <td>Запустить акцию, дающую скидку на товар в день рождения</td>\n",
       "      <td>1</td>\n",
       "      <td>9</td>\n",
       "      <td>9</td>\n",
       "      <td>5</td>\n",
       "      <td>16.200</td>\n",
       "      <td>16.200</td>\n",
       "    </tr>\n",
       "    <tr>\n",
       "      <th>3</th>\n",
       "      <td>Изменить структура категорий, что увеличит конверсию, т.к. пользователи быстрее найдут нужный товар</td>\n",
       "      <td>8</td>\n",
       "      <td>3</td>\n",
       "      <td>3</td>\n",
       "      <td>8</td>\n",
       "      <td>1.125</td>\n",
       "      <td>9.000</td>\n",
       "    </tr>\n",
       "    <tr>\n",
       "      <th>1</th>\n",
       "      <td>Запустить собственную службу доставки, что сократит срок доставки заказов</td>\n",
       "      <td>2</td>\n",
       "      <td>5</td>\n",
       "      <td>4</td>\n",
       "      <td>10</td>\n",
       "      <td>2.000</td>\n",
       "      <td>4.000</td>\n",
       "    </tr>\n",
       "    <tr>\n",
       "      <th>5</th>\n",
       "      <td>Добавить страницу отзывов клиентов о магазине, что позволит увеличить количество заказов</td>\n",
       "      <td>3</td>\n",
       "      <td>2</td>\n",
       "      <td>2</td>\n",
       "      <td>3</td>\n",
       "      <td>1.333</td>\n",
       "      <td>4.000</td>\n",
       "    </tr>\n",
       "    <tr>\n",
       "      <th>4</th>\n",
       "      <td>Изменить цвет фона главной страницы, чтобы увеличить вовлеченность пользователей</td>\n",
       "      <td>3</td>\n",
       "      <td>1</td>\n",
       "      <td>1</td>\n",
       "      <td>1</td>\n",
       "      <td>1.000</td>\n",
       "      <td>3.000</td>\n",
       "    </tr>\n",
       "  </tbody>\n",
       "</table>\n",
       "</div>"
      ],
      "text/plain": [
       "                                                                                                     hypothesis  \\\n",
       "7              Добавить форму подписки на все основные страницы, чтобы собрать базу клиентов для email-рассылок   \n",
       "2  Добавить блоки рекомендаций товаров на сайт интернет магазина, чтобы повысить конверсию и средний чек заказа   \n",
       "0            Добавить два новых канала привлечения трафика, что позволит привлекать на 30% больше пользователей   \n",
       "6          Показать на главной странице баннеры с актуальными акциями и распродажами, чтобы увеличить конверсию   \n",
       "8                                                       Запустить акцию, дающую скидку на товар в день рождения   \n",
       "3           Изменить структура категорий, что увеличит конверсию, т.к. пользователи быстрее найдут нужный товар   \n",
       "1                                     Запустить собственную службу доставки, что сократит срок доставки заказов   \n",
       "5                      Добавить страницу отзывов клиентов о магазине, что позволит увеличить количество заказов   \n",
       "4                              Изменить цвет фона главной страницы, чтобы увеличить вовлеченность пользователей   \n",
       "\n",
       "   reach  impact  confidence  efforts    ICE    RICE  \n",
       "7     10       7           8        5 11.200 112.000  \n",
       "2      8       3           7        3  7.000  56.000  \n",
       "0      3      10           8        6 13.333  40.000  \n",
       "6      5       3           8        3  8.000  40.000  \n",
       "8      1       9           9        5 16.200  16.200  \n",
       "3      8       3           3        8  1.125   9.000  \n",
       "1      2       5           4       10  2.000   4.000  \n",
       "5      3       2           2        3  1.333   4.000  \n",
       "4      3       1           1        1  1.000   3.000  "
      ]
     },
     "execution_count": 8,
     "metadata": {},
     "output_type": "execute_result"
    }
   ],
   "source": [
    "hypothesis.sort_values(by='RICE', ascending=False)"
   ]
  },
  {
   "cell_type": "markdown",
   "metadata": {},
   "source": [
    "Результаты по расчетам ICE и RICE сильно отличаются.<br>\n",
    "Секрет кроется в параметре Reach: RICE учитывает охват, а ICE - нет.<br>\n",
    "\n",
    "При расчёте RICE на первом месте гипотеза №7: её параметр reach равен 10, у остальных гипотез он меньше.<br>\n",
    "Получается, важна не только сила гипотезы, но и сколько пользователей она затронет."
   ]
  },
  {
   "cell_type": "markdown",
   "metadata": {},
   "source": [
    "**Общий вывод по Части 1:**\n",
    "\n",
    "Мы изучили файл с 9 гипотезами по увеличению выручки интернет-магазина с указанными параметрами Reach, Impact, Confidence, Effort.<br>\n",
    "Также скорректировали названия столбцов.\n",
    "\n",
    "Применили фреймворк ICE для приоритизации гипотез.<br>\n",
    "*Топ 3 гипотезы по ICE:*<br>\n",
    " - \"Запустить акцию, дающую скидку на товар в день рождения\",<br>\n",
    " - \"Добавить два новых канала привлечения трафика, что позволит привлекать на 30% больше пользователей\",<br>\n",
    " - \"Добавить форму подписки на все основные страницы, чтобы собрать базу клиентов для email-рассылок\".\n",
    "\n",
    "Применили фреймворк RICE для приоритизации гипотез.<br>\n",
    "*Топ 3 гипотезы по RICE:*<br>\n",
    "\n",
    " - \"Добавить форму подписки на все основные страницы, чтобы собрать базу клиентов для email-рассылок\".\n",
    " - \"Добавить блоки рекомендаций товаров на сайт интернет магазина, чтобы повысить конверсию и средний чек заказа\",<br>\n",
    " - \"Добавить два новых канала привлечения трафика, что позволит привлекать на 30% больше пользователей\".<br>\n",
    " \n",
    "В итоге выяснили, что результаты по расчетам ICE и RICE сильно отличаются.<br>\n",
    "Секрет кроется в параметре Reach: RICE учитывает охват, а ICE - нет.<br>\n",
    "\n",
    "При расчёте RICE на первом месте гипотеза №7: её параметр reach равен 10, у остальных гипотез он меньше.<br>\n",
    "Итак, важна не только сила гипотезы, но и сколько пользователей она затронет."
   ]
  },
  {
   "cell_type": "markdown",
   "metadata": {},
   "source": [
    "### часть: Анализ A/B-теста"
   ]
  },
  {
   "cell_type": "markdown",
   "metadata": {},
   "source": [
    "Мы провели A/B-тест и получили результаты, которые описаны в файлах:<br>\n",
    " - /datasets/orders.csv,\n",
    " - /datasets/visitors.csv.\n",
    "\n",
    "Описание данных из /datasets/orders.csv\n",
    "\n",
    " - transactionId — идентификатор заказа;\n",
    " - visitorId — идентификатор пользователя, совершившего заказ;\n",
    " - date — дата, когда был совершён заказ;\n",
    " - revenue — выручка заказа;\n",
    " - group — группа A/B-теста, в которую попал заказ.\n",
    "\n",
    "Описание данных из /datasets/visitors.csv\n",
    "\n",
    " - date — дата;\n",
    " - group — группа A/B-теста;\n",
    " - visitors — количество пользователей в указанную дату в указанной группе A/B-теста"
   ]
  },
  {
   "cell_type": "markdown",
   "metadata": {},
   "source": [
    "**Предобработка данных**"
   ]
  },
  {
   "cell_type": "code",
   "execution_count": 9,
   "metadata": {},
   "outputs": [],
   "source": [
    "# Загрузим данные\n",
    "orders = pd.read_csv('/datasets/orders.csv', sep=',')\n",
    "visitors = pd.read_csv('/datasets/visitors.csv', sep=',')"
   ]
  },
  {
   "cell_type": "code",
   "execution_count": 10,
   "metadata": {},
   "outputs": [
    {
     "name": "stdout",
     "output_type": "stream",
     "text": [
      "<class 'pandas.core.frame.DataFrame'>\n",
      "RangeIndex: 1197 entries, 0 to 1196\n",
      "Data columns (total 5 columns):\n",
      " #   Column         Non-Null Count  Dtype \n",
      "---  ------         --------------  ----- \n",
      " 0   transactionId  1197 non-null   int64 \n",
      " 1   visitorId      1197 non-null   int64 \n",
      " 2   date           1197 non-null   object\n",
      " 3   revenue        1197 non-null   int64 \n",
      " 4   group          1197 non-null   object\n",
      "dtypes: int64(3), object(2)\n",
      "memory usage: 46.9+ KB\n"
     ]
    }
   ],
   "source": [
    "# Изучаем файлы по порядку, сначала заказы\n",
    "orders.info()"
   ]
  },
  {
   "cell_type": "code",
   "execution_count": 11,
   "metadata": {},
   "outputs": [
    {
     "data": {
      "text/html": [
       "<div>\n",
       "<style scoped>\n",
       "    .dataframe tbody tr th:only-of-type {\n",
       "        vertical-align: middle;\n",
       "    }\n",
       "\n",
       "    .dataframe tbody tr th {\n",
       "        vertical-align: top;\n",
       "    }\n",
       "\n",
       "    .dataframe thead th {\n",
       "        text-align: right;\n",
       "    }\n",
       "</style>\n",
       "<table border=\"1\" class=\"dataframe\">\n",
       "  <thead>\n",
       "    <tr style=\"text-align: right;\">\n",
       "      <th></th>\n",
       "      <th>transactionId</th>\n",
       "      <th>visitorId</th>\n",
       "      <th>date</th>\n",
       "      <th>revenue</th>\n",
       "      <th>group</th>\n",
       "    </tr>\n",
       "  </thead>\n",
       "  <tbody>\n",
       "    <tr>\n",
       "      <th>0</th>\n",
       "      <td>3667963787</td>\n",
       "      <td>3312258926</td>\n",
       "      <td>2019-08-15</td>\n",
       "      <td>1650</td>\n",
       "      <td>B</td>\n",
       "    </tr>\n",
       "    <tr>\n",
       "      <th>1</th>\n",
       "      <td>2804400009</td>\n",
       "      <td>3642806036</td>\n",
       "      <td>2019-08-15</td>\n",
       "      <td>730</td>\n",
       "      <td>B</td>\n",
       "    </tr>\n",
       "    <tr>\n",
       "      <th>2</th>\n",
       "      <td>2961555356</td>\n",
       "      <td>4069496402</td>\n",
       "      <td>2019-08-15</td>\n",
       "      <td>400</td>\n",
       "      <td>A</td>\n",
       "    </tr>\n",
       "    <tr>\n",
       "      <th>3</th>\n",
       "      <td>3797467345</td>\n",
       "      <td>1196621759</td>\n",
       "      <td>2019-08-15</td>\n",
       "      <td>9759</td>\n",
       "      <td>B</td>\n",
       "    </tr>\n",
       "    <tr>\n",
       "      <th>4</th>\n",
       "      <td>2282983706</td>\n",
       "      <td>2322279887</td>\n",
       "      <td>2019-08-15</td>\n",
       "      <td>2308</td>\n",
       "      <td>B</td>\n",
       "    </tr>\n",
       "  </tbody>\n",
       "</table>\n",
       "</div>"
      ],
      "text/plain": [
       "   transactionId   visitorId        date  revenue group\n",
       "0     3667963787  3312258926  2019-08-15     1650     B\n",
       "1     2804400009  3642806036  2019-08-15      730     B\n",
       "2     2961555356  4069496402  2019-08-15      400     A\n",
       "3     3797467345  1196621759  2019-08-15     9759     B\n",
       "4     2282983706  2322279887  2019-08-15     2308     B"
      ]
     },
     "execution_count": 11,
     "metadata": {},
     "output_type": "execute_result"
    }
   ],
   "source": [
    "orders.head()"
   ]
  },
  {
   "cell_type": "markdown",
   "metadata": {},
   "source": [
    "Видим 5 столбцов.<br>\n",
    "Дату приведем к типу datetime, а также оптимизируем память."
   ]
  },
  {
   "cell_type": "code",
   "execution_count": 12,
   "metadata": {},
   "outputs": [],
   "source": [
    "orders['date'] = orders['date'].map(\n",
    "    lambda x: dt.datetime.strptime(x, '%Y-%m-%d')\n",
    ")\n",
    "\n",
    "orders['transactionId'] = orders['transactionId'].astype('int32')\n",
    "orders['visitorId'] = orders['visitorId'].astype('int32')\n",
    "orders['revenue'] = orders['revenue'].astype('int32')"
   ]
  },
  {
   "cell_type": "code",
   "execution_count": 13,
   "metadata": {},
   "outputs": [
    {
     "name": "stdout",
     "output_type": "stream",
     "text": [
      "<class 'pandas.core.frame.DataFrame'>\n",
      "RangeIndex: 1197 entries, 0 to 1196\n",
      "Data columns (total 5 columns):\n",
      " #   Column         Non-Null Count  Dtype         \n",
      "---  ------         --------------  -----         \n",
      " 0   transactionId  1197 non-null   int32         \n",
      " 1   visitorId      1197 non-null   int32         \n",
      " 2   date           1197 non-null   datetime64[ns]\n",
      " 3   revenue        1197 non-null   int32         \n",
      " 4   group          1197 non-null   object        \n",
      "dtypes: datetime64[ns](1), int32(3), object(1)\n",
      "memory usage: 32.9+ KB\n"
     ]
    }
   ],
   "source": [
    "# Проверим изменения\n",
    "orders.info()"
   ]
  },
  {
   "cell_type": "code",
   "execution_count": 14,
   "metadata": {},
   "outputs": [
    {
     "data": {
      "text/plain": [
       "1031"
      ]
     },
     "execution_count": 14,
     "metadata": {},
     "output_type": "execute_result"
    }
   ],
   "source": [
    "# Далее посмотрим количество уникальных пользователей\n",
    "orders['visitorId'].nunique()"
   ]
  },
  {
   "cell_type": "code",
   "execution_count": 15,
   "metadata": {},
   "outputs": [
    {
     "data": {
      "text/plain": [
       "0"
      ]
     },
     "execution_count": 15,
     "metadata": {},
     "output_type": "execute_result"
    }
   ],
   "source": [
    "# Проверим отсутствие дубликатов\n",
    "orders.duplicated().sum()"
   ]
  },
  {
   "cell_type": "code",
   "execution_count": 16,
   "metadata": {},
   "outputs": [
    {
     "name": "stdout",
     "output_type": "stream",
     "text": [
      "<class 'pandas.core.frame.DataFrame'>\n",
      "RangeIndex: 62 entries, 0 to 61\n",
      "Data columns (total 3 columns):\n",
      " #   Column    Non-Null Count  Dtype \n",
      "---  ------    --------------  ----- \n",
      " 0   date      62 non-null     object\n",
      " 1   group     62 non-null     object\n",
      " 2   visitors  62 non-null     int64 \n",
      "dtypes: int64(1), object(2)\n",
      "memory usage: 1.6+ KB\n"
     ]
    }
   ],
   "source": [
    "# Теперь изучим файл с пользователями\n",
    "visitors.info()"
   ]
  },
  {
   "cell_type": "code",
   "execution_count": 17,
   "metadata": {},
   "outputs": [
    {
     "data": {
      "text/html": [
       "<div>\n",
       "<style scoped>\n",
       "    .dataframe tbody tr th:only-of-type {\n",
       "        vertical-align: middle;\n",
       "    }\n",
       "\n",
       "    .dataframe tbody tr th {\n",
       "        vertical-align: top;\n",
       "    }\n",
       "\n",
       "    .dataframe thead th {\n",
       "        text-align: right;\n",
       "    }\n",
       "</style>\n",
       "<table border=\"1\" class=\"dataframe\">\n",
       "  <thead>\n",
       "    <tr style=\"text-align: right;\">\n",
       "      <th></th>\n",
       "      <th>date</th>\n",
       "      <th>group</th>\n",
       "      <th>visitors</th>\n",
       "    </tr>\n",
       "  </thead>\n",
       "  <tbody>\n",
       "    <tr>\n",
       "      <th>0</th>\n",
       "      <td>2019-08-01</td>\n",
       "      <td>A</td>\n",
       "      <td>719</td>\n",
       "    </tr>\n",
       "    <tr>\n",
       "      <th>1</th>\n",
       "      <td>2019-08-02</td>\n",
       "      <td>A</td>\n",
       "      <td>619</td>\n",
       "    </tr>\n",
       "    <tr>\n",
       "      <th>2</th>\n",
       "      <td>2019-08-03</td>\n",
       "      <td>A</td>\n",
       "      <td>507</td>\n",
       "    </tr>\n",
       "    <tr>\n",
       "      <th>3</th>\n",
       "      <td>2019-08-04</td>\n",
       "      <td>A</td>\n",
       "      <td>717</td>\n",
       "    </tr>\n",
       "    <tr>\n",
       "      <th>4</th>\n",
       "      <td>2019-08-05</td>\n",
       "      <td>A</td>\n",
       "      <td>756</td>\n",
       "    </tr>\n",
       "  </tbody>\n",
       "</table>\n",
       "</div>"
      ],
      "text/plain": [
       "         date group  visitors\n",
       "0  2019-08-01     A       719\n",
       "1  2019-08-02     A       619\n",
       "2  2019-08-03     A       507\n",
       "3  2019-08-04     A       717\n",
       "4  2019-08-05     A       756"
      ]
     },
     "execution_count": 17,
     "metadata": {},
     "output_type": "execute_result"
    }
   ],
   "source": [
    "visitors.head()"
   ]
  },
  {
   "cell_type": "markdown",
   "metadata": {},
   "source": [
    "Снова скорректируем тип данных - приведем столбец date к типу datetime, а также оптимизируем память."
   ]
  },
  {
   "cell_type": "code",
   "execution_count": 18,
   "metadata": {},
   "outputs": [],
   "source": [
    "visitors['date'] = visitors['date'].map(\n",
    "    lambda x: dt.datetime.strptime(x, '%Y-%m-%d')\n",
    ")\n",
    "\n",
    "visitors['visitors'] = visitors['visitors'].astype('int32')"
   ]
  },
  {
   "cell_type": "code",
   "execution_count": 19,
   "metadata": {},
   "outputs": [
    {
     "name": "stdout",
     "output_type": "stream",
     "text": [
      "<class 'pandas.core.frame.DataFrame'>\n",
      "RangeIndex: 62 entries, 0 to 61\n",
      "Data columns (total 3 columns):\n",
      " #   Column    Non-Null Count  Dtype         \n",
      "---  ------    --------------  -----         \n",
      " 0   date      62 non-null     datetime64[ns]\n",
      " 1   group     62 non-null     object        \n",
      " 2   visitors  62 non-null     int32         \n",
      "dtypes: datetime64[ns](1), int32(1), object(1)\n",
      "memory usage: 1.3+ KB\n"
     ]
    }
   ],
   "source": [
    "# Проверим изменения\n",
    "visitors.info()"
   ]
  },
  {
   "cell_type": "code",
   "execution_count": 20,
   "metadata": {},
   "outputs": [
    {
     "data": {
      "text/plain": [
       "0"
      ]
     },
     "execution_count": 20,
     "metadata": {},
     "output_type": "execute_result"
    }
   ],
   "source": [
    "# Проверим отсутствие дубликатов\n",
    "visitors.duplicated().sum()"
   ]
  },
  {
   "cell_type": "code",
   "execution_count": 21,
   "metadata": {},
   "outputs": [
    {
     "data": {
      "text/plain": [
       "B    31\n",
       "A    31\n",
       "Name: group, dtype: int64"
      ]
     },
     "execution_count": 21,
     "metadata": {},
     "output_type": "execute_result"
    }
   ],
   "source": [
    "# Проверим распределение по группам\n",
    "visitors['group'].value_counts()"
   ]
  },
  {
   "cell_type": "code",
   "execution_count": 22,
   "metadata": {},
   "outputs": [
    {
     "name": "stdout",
     "output_type": "stream",
     "text": [
      "Сколько пользователей попало в обе группы: 58\n",
      "Количество пользователей в группе А: 503\n",
      "Количество пользователей в группе В: 586\n"
     ]
    }
   ],
   "source": [
    "# Проверим, есть ли значения, которые встречаются в обеих группах\n",
    "# Заодно посмотрим количество пользователей в каждой группе\n",
    "                                                                                                     \n",
    "duplicated_users = len(np.intersect1d(orders.query('group == \"A\"')['visitorId'].unique(), orders.query('group == \"B\"')['visitorId'].unique()))\n",
    "print('Сколько пользователей попало в обе группы:', duplicated_users)\n",
    "print('Количество пользователей в группе А:', orders.query('group == \"A\"')['visitorId'].nunique())\n",
    "print('Количество пользователей в группе В:', orders.query('group == \"B\"')['visitorId'].nunique())"
   ]
  },
  {
   "cell_type": "markdown",
   "metadata": {},
   "source": [
    "В обе группы попало 58 пользователей, то есть около 10% от каждой группы.<br>\n",
    "Лучше исключить их из анализа, чтобы не искажать результаты теста."
   ]
  },
  {
   "cell_type": "code",
   "execution_count": 23,
   "metadata": {},
   "outputs": [],
   "source": [
    "# Определим id тех пользователей, кто попал в обе группы\n",
    "list_id = np.intersect1d(orders.query('group == \"A\"')['visitorId'].unique(), \n",
    "                         orders.query('group == \"B\"')['visitorId'].unique())\n",
    "\n",
    "# Переведем массив в список\n",
    "list_id = list_id.tolist()\n",
    "\n",
    "# Исключим повторные id\n",
    "orders = orders[~orders.visitorId.isin(list_id)]"
   ]
  },
  {
   "cell_type": "code",
   "execution_count": 24,
   "metadata": {},
   "outputs": [
    {
     "data": {
      "text/plain": [
       "0"
      ]
     },
     "execution_count": 24,
     "metadata": {},
     "output_type": "execute_result"
    }
   ],
   "source": [
    "# Проверим, есть ли теперь значения, которые встречаются в обеих группах\n",
    "                                                                                                     \n",
    "len(np.intersect1d(orders.query('group == \"A\"')['visitorId'].unique(), orders.query('group == \"B\"')['visitorId'].unique()))"
   ]
  },
  {
   "cell_type": "markdown",
   "metadata": {},
   "source": [
    "**Вывод по предобработке таблиц orders и visitors**\n",
    "\n",
    "Мы скорректировали неверные типы данных в столбцах со временем. <br>\n",
    "Дубликаты не обнаружили, кроме того исключили значения, повторяющиеся в обеих группах.<br>\n",
    "\n",
    "Можем приступать к анализу А/В-теста."
   ]
  },
  {
   "cell_type": "markdown",
   "metadata": {},
   "source": [
    "Для начала соберем все коммулятивные данные.<br>\n",
    "Объединим таблицы и добавим в новую таблицу: \n",
    " - дату, \n",
    " - группу A/B-теста, \n",
    " - число уникальных заказов в группе теста по указанную дату включительно,\n",
    " - число уникальных пользователей, совершивших хотя бы 1 заказ в группе теста по указанную дату включительно, \n",
    " - суммарную выручку заказов в группе теста по указанную дату включительно."
   ]
  },
  {
   "cell_type": "code",
   "execution_count": 25,
   "metadata": {},
   "outputs": [],
   "source": [
    "datesGroups = orders[['date', 'group']].drop_duplicates()\n",
    "\n",
    "ordersAggregated = datesGroups.apply(\n",
    "    lambda x: orders[\n",
    "        np.logical_and(\n",
    "            orders['date'] <= x['date'], orders['group'] == x['group']\n",
    "        )\n",
    "    ].agg(\n",
    "        {\n",
    "            'date': 'max',\n",
    "            'group': 'max',\n",
    "            'transactionId': 'nunique',\n",
    "            'visitorId': 'nunique',\n",
    "            'revenue': 'sum',\n",
    "        }\n",
    "    ),\n",
    "    axis=1,\n",
    ").sort_values(by=['date', 'group'])\n",
    "\n",
    "visitorsAggregated = datesGroups.apply(\n",
    "    lambda x: visitors[\n",
    "        np.logical_and(\n",
    "            visitors['date'] <= x['date'], visitors['group'] == x['group']\n",
    "        )\n",
    "    ].agg({'date': 'max', 'group': 'max', 'visitors': 'sum'}),\n",
    "    axis=1,\n",
    ").sort_values(by=['date', 'group'])\n",
    "\n",
    "cumulativeData = ordersAggregated.merge(\n",
    "    visitorsAggregated, left_on=['date', 'group'], right_on=['date', 'group']\n",
    ")\n",
    "cumulativeData.columns = [\n",
    "    'date',\n",
    "    'group',\n",
    "    'orders',\n",
    "    'buyers',\n",
    "    'revenue',\n",
    "    'visitors',\n",
    "]"
   ]
  },
  {
   "cell_type": "code",
   "execution_count": 26,
   "metadata": {},
   "outputs": [
    {
     "data": {
      "text/html": [
       "<div>\n",
       "<style scoped>\n",
       "    .dataframe tbody tr th:only-of-type {\n",
       "        vertical-align: middle;\n",
       "    }\n",
       "\n",
       "    .dataframe tbody tr th {\n",
       "        vertical-align: top;\n",
       "    }\n",
       "\n",
       "    .dataframe thead th {\n",
       "        text-align: right;\n",
       "    }\n",
       "</style>\n",
       "<table border=\"1\" class=\"dataframe\">\n",
       "  <thead>\n",
       "    <tr style=\"text-align: right;\">\n",
       "      <th></th>\n",
       "      <th>date</th>\n",
       "      <th>group</th>\n",
       "      <th>orders</th>\n",
       "      <th>buyers</th>\n",
       "      <th>revenue</th>\n",
       "      <th>visitors</th>\n",
       "    </tr>\n",
       "  </thead>\n",
       "  <tbody>\n",
       "    <tr>\n",
       "      <th>11</th>\n",
       "      <td>2019-08-06</td>\n",
       "      <td>B</td>\n",
       "      <td>112</td>\n",
       "      <td>109</td>\n",
       "      <td>690490</td>\n",
       "      <td>3935</td>\n",
       "    </tr>\n",
       "    <tr>\n",
       "      <th>10</th>\n",
       "      <td>2019-08-06</td>\n",
       "      <td>A</td>\n",
       "      <td>114</td>\n",
       "      <td>104</td>\n",
       "      <td>515332</td>\n",
       "      <td>3985</td>\n",
       "    </tr>\n",
       "    <tr>\n",
       "      <th>18</th>\n",
       "      <td>2019-08-10</td>\n",
       "      <td>A</td>\n",
       "      <td>170</td>\n",
       "      <td>158</td>\n",
       "      <td>1013731</td>\n",
       "      <td>6262</td>\n",
       "    </tr>\n",
       "    <tr>\n",
       "      <th>2</th>\n",
       "      <td>2019-08-02</td>\n",
       "      <td>A</td>\n",
       "      <td>42</td>\n",
       "      <td>36</td>\n",
       "      <td>234381</td>\n",
       "      <td>1338</td>\n",
       "    </tr>\n",
       "    <tr>\n",
       "      <th>49</th>\n",
       "      <td>2019-08-25</td>\n",
       "      <td>B</td>\n",
       "      <td>440</td>\n",
       "      <td>424</td>\n",
       "      <td>4294526</td>\n",
       "      <td>15127</td>\n",
       "    </tr>\n",
       "    <tr>\n",
       "      <th>54</th>\n",
       "      <td>2019-08-28</td>\n",
       "      <td>A</td>\n",
       "      <td>434</td>\n",
       "      <td>413</td>\n",
       "      <td>3036933</td>\n",
       "      <td>16970</td>\n",
       "    </tr>\n",
       "    <tr>\n",
       "      <th>17</th>\n",
       "      <td>2019-08-09</td>\n",
       "      <td>B</td>\n",
       "      <td>176</td>\n",
       "      <td>173</td>\n",
       "      <td>1162961</td>\n",
       "      <td>5908</td>\n",
       "    </tr>\n",
       "    <tr>\n",
       "      <th>48</th>\n",
       "      <td>2019-08-25</td>\n",
       "      <td>A</td>\n",
       "      <td>380</td>\n",
       "      <td>362</td>\n",
       "      <td>2597907</td>\n",
       "      <td>14943</td>\n",
       "    </tr>\n",
       "    <tr>\n",
       "      <th>16</th>\n",
       "      <td>2019-08-09</td>\n",
       "      <td>A</td>\n",
       "      <td>155</td>\n",
       "      <td>143</td>\n",
       "      <td>861456</td>\n",
       "      <td>5856</td>\n",
       "    </tr>\n",
       "    <tr>\n",
       "      <th>6</th>\n",
       "      <td>2019-08-04</td>\n",
       "      <td>A</td>\n",
       "      <td>77</td>\n",
       "      <td>71</td>\n",
       "      <td>388030</td>\n",
       "      <td>2562</td>\n",
       "    </tr>\n",
       "  </tbody>\n",
       "</table>\n",
       "</div>"
      ],
      "text/plain": [
       "         date group  orders  buyers  revenue  visitors\n",
       "11 2019-08-06     B     112     109   690490      3935\n",
       "10 2019-08-06     A     114     104   515332      3985\n",
       "18 2019-08-10     A     170     158  1013731      6262\n",
       "2  2019-08-02     A      42      36   234381      1338\n",
       "49 2019-08-25     B     440     424  4294526     15127\n",
       "54 2019-08-28     A     434     413  3036933     16970\n",
       "17 2019-08-09     B     176     173  1162961      5908\n",
       "48 2019-08-25     A     380     362  2597907     14943\n",
       "16 2019-08-09     A     155     143   861456      5856\n",
       "6  2019-08-04     A      77      71   388030      2562"
      ]
     },
     "execution_count": 26,
     "metadata": {},
     "output_type": "execute_result"
    }
   ],
   "source": [
    "# Просмотрим случайно выбранные строки\n",
    "cumulativeData.sample(10)"
   ]
  },
  {
   "cell_type": "markdown",
   "metadata": {},
   "source": [
    "Проверим, корректно ли был содан датафрейм cummulativeData.<br>\n",
    "Совпадают ли минимальная и максимальная даты в этом датафрейме с минимальной и максимальной датой в исходных данных: "
   ]
  },
  {
   "cell_type": "code",
   "execution_count": 47,
   "metadata": {},
   "outputs": [
    {
     "data": {
      "text/html": [
       "<div>\n",
       "<style scoped>\n",
       "    .dataframe tbody tr th:only-of-type {\n",
       "        vertical-align: middle;\n",
       "    }\n",
       "\n",
       "    .dataframe tbody tr th {\n",
       "        vertical-align: top;\n",
       "    }\n",
       "\n",
       "    .dataframe thead th {\n",
       "        text-align: right;\n",
       "    }\n",
       "</style>\n",
       "<table border=\"1\" class=\"dataframe\">\n",
       "  <thead>\n",
       "    <tr style=\"text-align: right;\">\n",
       "      <th></th>\n",
       "      <th>date</th>\n",
       "      <th>group</th>\n",
       "      <th>orders</th>\n",
       "      <th>buyers</th>\n",
       "      <th>revenue</th>\n",
       "      <th>visitors</th>\n",
       "      <th>conversion</th>\n",
       "    </tr>\n",
       "  </thead>\n",
       "  <tbody>\n",
       "    <tr>\n",
       "      <th>0</th>\n",
       "      <td>2019-08-01</td>\n",
       "      <td>A</td>\n",
       "      <td>23</td>\n",
       "      <td>19</td>\n",
       "      <td>142779</td>\n",
       "      <td>719</td>\n",
       "      <td>0.032</td>\n",
       "    </tr>\n",
       "    <tr>\n",
       "      <th>1</th>\n",
       "      <td>2019-08-01</td>\n",
       "      <td>B</td>\n",
       "      <td>17</td>\n",
       "      <td>17</td>\n",
       "      <td>59758</td>\n",
       "      <td>713</td>\n",
       "      <td>0.024</td>\n",
       "    </tr>\n",
       "    <tr>\n",
       "      <th>2</th>\n",
       "      <td>2019-08-02</td>\n",
       "      <td>A</td>\n",
       "      <td>42</td>\n",
       "      <td>36</td>\n",
       "      <td>234381</td>\n",
       "      <td>1338</td>\n",
       "      <td>0.031</td>\n",
       "    </tr>\n",
       "    <tr>\n",
       "      <th>3</th>\n",
       "      <td>2019-08-02</td>\n",
       "      <td>B</td>\n",
       "      <td>40</td>\n",
       "      <td>39</td>\n",
       "      <td>221801</td>\n",
       "      <td>1294</td>\n",
       "      <td>0.031</td>\n",
       "    </tr>\n",
       "    <tr>\n",
       "      <th>4</th>\n",
       "      <td>2019-08-03</td>\n",
       "      <td>A</td>\n",
       "      <td>66</td>\n",
       "      <td>60</td>\n",
       "      <td>346854</td>\n",
       "      <td>1845</td>\n",
       "      <td>0.036</td>\n",
       "    </tr>\n",
       "    <tr>\n",
       "      <th>...</th>\n",
       "      <td>...</td>\n",
       "      <td>...</td>\n",
       "      <td>...</td>\n",
       "      <td>...</td>\n",
       "      <td>...</td>\n",
       "      <td>...</td>\n",
       "      <td>...</td>\n",
       "    </tr>\n",
       "    <tr>\n",
       "      <th>57</th>\n",
       "      <td>2019-08-29</td>\n",
       "      <td>B</td>\n",
       "      <td>510</td>\n",
       "      <td>490</td>\n",
       "      <td>4746610</td>\n",
       "      <td>17708</td>\n",
       "      <td>0.029</td>\n",
       "    </tr>\n",
       "    <tr>\n",
       "      <th>58</th>\n",
       "      <td>2019-08-30</td>\n",
       "      <td>A</td>\n",
       "      <td>460</td>\n",
       "      <td>437</td>\n",
       "      <td>3311413</td>\n",
       "      <td>18037</td>\n",
       "      <td>0.026</td>\n",
       "    </tr>\n",
       "    <tr>\n",
       "      <th>59</th>\n",
       "      <td>2019-08-30</td>\n",
       "      <td>B</td>\n",
       "      <td>531</td>\n",
       "      <td>511</td>\n",
       "      <td>4955833</td>\n",
       "      <td>18198</td>\n",
       "      <td>0.029</td>\n",
       "    </tr>\n",
       "    <tr>\n",
       "      <th>60</th>\n",
       "      <td>2019-08-31</td>\n",
       "      <td>A</td>\n",
       "      <td>468</td>\n",
       "      <td>445</td>\n",
       "      <td>3364656</td>\n",
       "      <td>18736</td>\n",
       "      <td>0.025</td>\n",
       "    </tr>\n",
       "    <tr>\n",
       "      <th>61</th>\n",
       "      <td>2019-08-31</td>\n",
       "      <td>B</td>\n",
       "      <td>548</td>\n",
       "      <td>528</td>\n",
       "      <td>5068972</td>\n",
       "      <td>18916</td>\n",
       "      <td>0.029</td>\n",
       "    </tr>\n",
       "  </tbody>\n",
       "</table>\n",
       "<p>62 rows × 7 columns</p>\n",
       "</div>"
      ],
      "text/plain": [
       "         date group  orders  buyers  revenue  visitors  conversion\n",
       "0  2019-08-01     A      23      19   142779       719       0.032\n",
       "1  2019-08-01     B      17      17    59758       713       0.024\n",
       "2  2019-08-02     A      42      36   234381      1338       0.031\n",
       "3  2019-08-02     B      40      39   221801      1294       0.031\n",
       "4  2019-08-03     A      66      60   346854      1845       0.036\n",
       "..        ...   ...     ...     ...      ...       ...         ...\n",
       "57 2019-08-29     B     510     490  4746610     17708       0.029\n",
       "58 2019-08-30     A     460     437  3311413     18037       0.026\n",
       "59 2019-08-30     B     531     511  4955833     18198       0.029\n",
       "60 2019-08-31     A     468     445  3364656     18736       0.025\n",
       "61 2019-08-31     B     548     528  5068972     18916       0.029\n",
       "\n",
       "[62 rows x 7 columns]"
      ]
     },
     "execution_count": 47,
     "metadata": {},
     "output_type": "execute_result"
    }
   ],
   "source": [
    "# Отсортируем датафрейм cummulativeData по дате:\n",
    "cumulativeData.sort_values(by='date')"
   ]
  },
  {
   "cell_type": "code",
   "execution_count": 54,
   "metadata": {},
   "outputs": [
    {
     "name": "stdout",
     "output_type": "stream",
     "text": [
      "Минимальная дата файла orders: 2019-08-01 00:00:00\n",
      "Максимальная дата файла orders: 2019-08-31 00:00:00\n",
      "\n",
      "Минимальная дата файла visitors: 2019-08-01 00:00:00\n",
      "Максимальная дата файла visitors: 2019-08-31 00:00:00\n"
     ]
    }
   ],
   "source": [
    "# Теперь посмотрим минимальные и максимальные даты исходных файлов orders и visitors:\n",
    "\n",
    "print('Минимальная дата файла orders:', orders['date'].min())\n",
    "print('Максимальная дата файла orders:', orders['date'].max())\n",
    "print()\n",
    "print('Минимальная дата файла visitors:', visitors['date'].min())\n",
    "print('Максимальная дата файла visitors:', visitors['date'].max())"
   ]
  },
  {
   "cell_type": "markdown",
   "metadata": {},
   "source": [
    "Как видим, даты совпадают: первая дата 01 августа 2019, финальная - 31 августа 2019."
   ]
  },
  {
   "cell_type": "markdown",
   "metadata": {},
   "source": [
    "#### График кумулятивной выручки по группам."
   ]
  },
  {
   "cell_type": "code",
   "execution_count": 28,
   "metadata": {},
   "outputs": [
    {
     "data": {
      "image/png": "[encoded data removed]",
      "text/plain": [
       "<Figure size 432x288 with 1 Axes>"
      ]
     },
     "metadata": {
      "needs_background": "light"
     },
     "output_type": "display_data"
    }
   ],
   "source": [
    "# датафрейм с кумулятивным количеством заказов и кумулятивной выручкой по дням в группе А\n",
    "cumulativeRevenueA = cumulativeData[cumulativeData['group']=='A'][['date','revenue', 'orders']]\n",
    "\n",
    "# датафрейм с кумулятивным количеством заказов и кумулятивной выручкой по дням в группе B\n",
    "cumulativeRevenueB = cumulativeData[cumulativeData['group']=='B'][['date','revenue', 'orders']]\n",
    "\n",
    "# Строим график выручки группы А\n",
    "plt.plot(cumulativeRevenueA['date'], cumulativeRevenueA['revenue'], label='A')\n",
    "\n",
    "# Строим график выручки группы B\n",
    "plt.plot(cumulativeRevenueB['date'], cumulativeRevenueB['revenue'], label='B')\n",
    "\n",
    "plt.title('График кумулятивной выручки по группам')\n",
    "plt.ylabel(\"Выручка\")\n",
    "plt.xticks(rotation=45)\n",
    "plt.legend() \n",
    "plt.show()"
   ]
  },
  {
   "cell_type": "markdown",
   "metadata": {},
   "source": [
    "Видим резкий скачок у группы В: возможно из-за аномально большого количества заказов или выброса по среднему чеку."
   ]
  },
  {
   "cell_type": "markdown",
   "metadata": {},
   "source": [
    "#### График кумулятивного среднего чека по группам."
   ]
  },
  {
   "cell_type": "code",
   "execution_count": 29,
   "metadata": {},
   "outputs": [
    {
     "data": {
      "image/png": "[encoded data removed]",
      "text/plain": [
       "<Figure size 432x288 with 1 Axes>"
      ]
     },
     "metadata": {
      "needs_background": "light"
     },
     "output_type": "display_data"
    }
   ],
   "source": [
    "# Для среднего кумулятивного чека по группам разделим кумулятивную выручку на кумулятивное число заказов\n",
    "plt.plot(cumulativeRevenueA['date'], cumulativeRevenueA['revenue']/cumulativeRevenueA['orders'], label='A')\n",
    "plt.plot(cumulativeRevenueB['date'], cumulativeRevenueB['revenue']/cumulativeRevenueB['orders'], label='B')\n",
    "plt.title('График кумулятивного среднего чека по группам')\n",
    "plt.ylabel(\"Выручка\")\n",
    "plt.xticks(rotation=45)\n",
    "plt.legend()\n",
    "plt.show()"
   ]
  },
  {
   "cell_type": "markdown",
   "metadata": {},
   "source": [
    "Кумулятивное значение среднего чека по сегментам нестабильно.<br>\n",
    "Выделяется резкий скачок у группы В после 17 августа.<br>\n",
    "Понадобится анализ выбросов, которые сильно влияют на данные."
   ]
  },
  {
   "cell_type": "markdown",
   "metadata": {},
   "source": [
    "#### График относительного изменения кумулятивного среднего чека группы B к группе A."
   ]
  },
  {
   "cell_type": "code",
   "execution_count": 30,
   "metadata": {},
   "outputs": [
    {
     "data": {
      "image/png": "[encoded data removed]",
      "text/plain": [
       "<Figure size 432x288 with 1 Axes>"
      ]
     },
     "metadata": {
      "needs_background": "light"
     },
     "output_type": "display_data"
    }
   ],
   "source": [
    "# Соберем данные в одном датафрейме\n",
    "mergedCumulativeRevenue = cumulativeRevenueA.merge(\n",
    "    cumulativeRevenueB, left_on='date', right_on='date', how='left', suffixes=['A', 'B']\n",
    ")\n",
    "\n",
    "# Построим график отношения средних чеков\n",
    "plt.plot(mergedCumulativeRevenue['date'],\n",
    "         (mergedCumulativeRevenue['revenueB']/mergedCumulativeRevenue['ordersB'])/\n",
    "         (mergedCumulativeRevenue['revenueA']/mergedCumulativeRevenue['ordersA'])-1)\n",
    "\n",
    "# Добавим ось X\n",
    "plt.axhline(y=0, color='black', linestyle='--') \n",
    "plt.title('График относительного изменения кумулятивного среднего чека группы B к группе A')\n",
    "plt.xticks(rotation=45)\n",
    "plt.show()"
   ]
  },
  {
   "cell_type": "markdown",
   "metadata": {},
   "source": [
    "Значения сильно меняются в определенные даты.<br>\n",
    "Видимо, именно тогда были аномальные заказы."
   ]
  },
  {
   "cell_type": "markdown",
   "metadata": {},
   "source": [
    "#### График кумулятивной конверсии по группам."
   ]
  },
  {
   "cell_type": "code",
   "execution_count": 31,
   "metadata": {},
   "outputs": [
    {
     "data": {
      "image/png": "[encoded data removed]",
      "text/plain": [
       "<Figure size 432x288 with 1 Axes>"
      ]
     },
     "metadata": {
      "needs_background": "light"
     },
     "output_type": "display_data"
    }
   ],
   "source": [
    "# Посчитаем кумулятивную конверсию\n",
    "cumulativeData['conversion'] = cumulativeData['orders']/cumulativeData['visitors']\n",
    "\n",
    "# Выделим данные по группе A\n",
    "cumulativeDataA = cumulativeData[cumulativeData['group']=='A']\n",
    "\n",
    "# Выделим данные по группе B\n",
    "cumulativeDataB = cumulativeData[cumulativeData['group']=='B']\n",
    "\n",
    "# Построим графики\n",
    "plt.plot(cumulativeDataA['date'], cumulativeDataA['conversion'], label='A')\n",
    "plt.plot(cumulativeDataB['date'], cumulativeDataB['conversion'], label='B')\n",
    "plt.title('График кумулятивной конверсии по группам')\n",
    "plt.ylabel('Conversion')\n",
    "plt.xticks(rotation=45)\n",
    "plt.legend()\n",
    "plt.show()"
   ]
  },
  {
   "cell_type": "markdown",
   "metadata": {},
   "source": [
    "В начале теста группы стартовали с разных значений.<br>\n",
    "Конверсия группы А была больше, но быстро снизилась и уступила лидерство группе В."
   ]
  },
  {
   "cell_type": "markdown",
   "metadata": {},
   "source": [
    "#### График относительного изменения кумулятивной конверсии группы B к группе A."
   ]
  },
  {
   "cell_type": "code",
   "execution_count": 32,
   "metadata": {},
   "outputs": [
    {
     "data": {
      "image/png": "[encoded data removed]",
      "text/plain": [
       "<Figure size 432x288 with 1 Axes>"
      ]
     },
     "metadata": {
      "needs_background": "light"
     },
     "output_type": "display_data"
    }
   ],
   "source": [
    "# Соединим данные по группам А и В и построим график\n",
    "mergedCumulativeConversions = cumulativeDataA[['date','conversion']].merge(\n",
    "    cumulativeDataB[['date','conversion']], left_on='date', right_on='date', how='left', suffixes=['A', 'B']\n",
    ")\n",
    "plt.plot(\n",
    "    mergedCumulativeConversions['date'], mergedCumulativeConversions['conversionB']/\n",
    "    mergedCumulativeConversions['conversionA']-1, label=\"Относительный прирост конверсии группы B относительно группы A\")\n",
    "\n",
    "plt.legend()\n",
    "\n",
    "# Добавим ось X черным цветом на уровне у=0\n",
    "plt.axhline(y=0, color='black', linestyle='--')\n",
    "\n",
    "# Добавим еще одну ось X серым цветом на уровне у=-0.1\n",
    "plt.axhline(y=-0.1, color='grey', linestyle='--')\n",
    "plt.title('График относительного изменения кумулятивной конверсии группы B к группе A')\n",
    "plt.xticks(rotation=45)\n",
    "plt.show()"
   ]
  },
  {
   "cell_type": "markdown",
   "metadata": {},
   "source": [
    "Группа В лидирует по конверсии практически с самого начала теста: стабильные +15 и до 20% относительно группы А."
   ]
  },
  {
   "cell_type": "markdown",
   "metadata": {},
   "source": [
    "#### Точечный график количества заказов по пользователям."
   ]
  },
  {
   "cell_type": "code",
   "execution_count": 33,
   "metadata": {},
   "outputs": [
    {
     "data": {
      "image/png": "[encoded data removed]",
      "text/plain": [
       "<Figure size 432x288 with 1 Axes>"
      ]
     },
     "metadata": {
      "needs_background": "light"
     },
     "output_type": "display_data"
    }
   ],
   "source": [
    "# Создадим таблицу с заказами:\n",
    "orders_per_user = orders.groupby('visitorId', as_index=False).agg({'transactionId':pd.Series.nunique})\\\n",
    "                         .rename(columns={'transactionId':'orders'})\n",
    "\n",
    "# Построим точечный график:\n",
    "x_values = pd.Series(range(0,len(orders_per_user['orders'])))\n",
    "plt.title('Точечный график количества заказов по пользователям')\n",
    "plt.scatter(x_values, orders_per_user['orders'])\n",
    "plt.show()"
   ]
  },
  {
   "cell_type": "markdown",
   "metadata": {},
   "source": [
    "Больше всего пользователей, которые совершили 1 заказ. <br>\n",
    "Пользователей с двумя заказами значительно меньше. <br>\n",
    "Совершивших 3 заказа всего семеро, возможно, здесь скрываются выбросы."
   ]
  },
  {
   "cell_type": "markdown",
   "metadata": {},
   "source": [
    "#### 95-й и 99-й перцентили количества заказов на пользователя,  выбор границы для определения аномальных пользователей."
   ]
  },
  {
   "cell_type": "code",
   "execution_count": 34,
   "metadata": {},
   "outputs": [
    {
     "name": "stdout",
     "output_type": "stream",
     "text": [
      "[1. 2.]\n"
     ]
    }
   ],
   "source": [
    "print(np.percentile(orders_per_user['orders'], [95, 99])) "
   ]
  },
  {
   "cell_type": "markdown",
   "metadata": {},
   "source": [
    " - 95% пользователей совершают не больше 1 заказа, <br>\n",
    " - 99% совершают 2 заказа.<br>\n",
    "\n",
    "Значит, ситуации с 3 заказами будем считать аномалией."
   ]
  },
  {
   "cell_type": "markdown",
   "metadata": {},
   "source": [
    "#### Точечный график стоимостей заказов."
   ]
  },
  {
   "cell_type": "code",
   "execution_count": 35,
   "metadata": {},
   "outputs": [
    {
     "data": {
      "image/png": "[encoded data removed]",
      "text/plain": [
       "<Figure size 432x288 with 1 Axes>"
      ]
     },
     "metadata": {
      "needs_background": "light"
     },
     "output_type": "display_data"
    }
   ],
   "source": [
    "x_values = pd.Series(range(0,len(orders['revenue'])))\n",
    "\n",
    "plt.scatter(x_values, orders['revenue'])\n",
    "plt.title('Точечный график стоимостей заказов');\n",
    "plt.show()"
   ]
  },
  {
   "cell_type": "markdown",
   "metadata": {},
   "source": [
    "Очевидно выделяются 2 выброса, один из них - заказ стоимостью почти 1,3 миллиона. Видимо, именно здесь причина резкого скачка на первых графиках кумулятивной выручки и среднего чека.<br>\n",
    "\n",
    "Уберем выбросы из графика и увеличим масштаб для остальных данных."
   ]
  },
  {
   "cell_type": "code",
   "execution_count": 36,
   "metadata": {},
   "outputs": [
    {
     "data": {
      "image/png": "[encoded data removed]",
      "text/plain": [
       "<Figure size 720x720 with 1 Axes>"
      ]
     },
     "metadata": {
      "needs_background": "light"
     },
     "output_type": "display_data"
    }
   ],
   "source": [
    "orders_ok = orders.query('revenue<200000')\n",
    "\n",
    "x_values = pd.Series(range(0,orders_ok['revenue'].count()))\n",
    "plt.figure(figsize=(10, 10))\n",
    "sns.scatterplot(x=x_values, y=\"revenue\", hue=\"group\",\n",
    "                     data=orders_ok)\n",
    "plt.title('Точечный график стоимостей заказов');"
   ]
  },
  {
   "cell_type": "markdown",
   "metadata": {},
   "source": [
    "Основная часть всех заказов - стоимостью до 20 000."
   ]
  },
  {
   "cell_type": "markdown",
   "metadata": {},
   "source": [
    "#### 95-й и 99-й перцентили стоимости заказов, выбор границы для определения аномальных заказов."
   ]
  },
  {
   "cell_type": "code",
   "execution_count": 37,
   "metadata": {},
   "outputs": [
    {
     "data": {
      "text/plain": [
       "array([26785., 53904.])"
      ]
     },
     "execution_count": 37,
     "metadata": {},
     "output_type": "execute_result"
    }
   ],
   "source": [
    "np.percentile(orders['revenue'], [95, 99])"
   ]
  },
  {
   "cell_type": "markdown",
   "metadata": {},
   "source": [
    " - до 95% заказов с чеком 26 785, и<br>\n",
    " - до 99% заказов с чеком 53 904.<br>\n",
    "\n",
    "Границей для определения аномальных заказов определим значение 53 904."
   ]
  },
  {
   "cell_type": "markdown",
   "metadata": {},
   "source": [
    "#### Статистическая значимость различий в конверсии между группами по «сырым» данным."
   ]
  },
  {
   "cell_type": "markdown",
   "metadata": {},
   "source": [
    "Подготовим данные:<br>\n",
    "Соберем в общую таблицу все данные по заказам и визитам, добавим кумулятивные показатели."
   ]
  },
  {
   "cell_type": "code",
   "execution_count": 38,
   "metadata": {},
   "outputs": [],
   "source": [
    "visitorsADaily = visitors[visitors['group'] == 'A'][['date', 'visitors']]\n",
    "visitorsADaily.columns = ['date', 'visitorsPerDateA']\n",
    "\n",
    "visitorsACummulative = visitorsADaily.apply(\n",
    "    lambda x: visitorsADaily[visitorsADaily['date'] <= x['date']].agg(\n",
    "        {'date': 'max', 'visitorsPerDateA': 'sum'}\n",
    "    ),\n",
    "    axis=1,\n",
    ")\n",
    "visitorsACummulative.columns = ['date', 'visitorsCummulativeA']\n",
    "\n",
    "visitorsBDaily = visitors[visitors['group'] == 'B'][['date', 'visitors']]\n",
    "visitorsBDaily.columns = ['date', 'visitorsPerDateB']\n",
    "\n",
    "visitorsBCummulative = visitorsBDaily.apply(\n",
    "    lambda x: visitorsBDaily[visitorsBDaily['date'] <= x['date']].agg(\n",
    "        {'date': 'max', 'visitorsPerDateB': 'sum'}\n",
    "    ),\n",
    "    axis=1,\n",
    ")\n",
    "visitorsBCummulative.columns = ['date', 'visitorsCummulativeB']\n",
    "\n",
    "ordersADaily = (\n",
    "    orders[orders['group'] == 'A'][['date', 'transactionId', 'visitorId', 'revenue']]\n",
    "    .groupby('date', as_index=False)\n",
    "    .agg({'transactionId': pd.Series.nunique, 'revenue': 'sum'})\n",
    ")\n",
    "ordersADaily.columns = ['date', 'ordersPerDateA', 'revenuePerDateA']\n",
    "\n",
    "ordersACummulative = ordersADaily.apply(\n",
    "    lambda x: ordersADaily[ordersADaily['date'] <= x['date']].agg(\n",
    "        {'date': 'max', 'ordersPerDateA': 'sum', 'revenuePerDateA': 'sum'}\n",
    "    ),\n",
    "    axis=1,\n",
    ").sort_values(by=['date'])\n",
    "ordersACummulative.columns = [\n",
    "    'date',\n",
    "    'ordersCummulativeA',\n",
    "    'revenueCummulativeA',\n",
    "]\n",
    "\n",
    "ordersBDaily = (\n",
    "    orders[orders['group'] == 'B'][['date', 'transactionId', 'visitorId', 'revenue']]\n",
    "    .groupby('date', as_index=False)\n",
    "    .agg({'transactionId': pd.Series.nunique, 'revenue': 'sum'})\n",
    ")\n",
    "ordersBDaily.columns = ['date', 'ordersPerDateB', 'revenuePerDateB']\n",
    "\n",
    "ordersBCummulative = ordersBDaily.apply(\n",
    "    lambda x: ordersBDaily[ordersBDaily['date'] <= x['date']].agg(\n",
    "        {'date': 'max', 'ordersPerDateB': 'sum', 'revenuePerDateB': 'sum'}\n",
    "    ),\n",
    "    axis=1,\n",
    ").sort_values(by=['date'])\n",
    "ordersBCummulative.columns = [\n",
    "    'date',\n",
    "    'ordersCummulativeB',\n",
    "    'revenueCummulativeB',\n",
    "]\n",
    "\n",
    "cummulative = (\n",
    "    ordersADaily.merge(\n",
    "        ordersBDaily, left_on='date', right_on='date', how='left'\n",
    "    )\n",
    "    .merge(ordersACummulative, left_on='date', right_on='date', how='left')\n",
    "    .merge(ordersBCummulative, left_on='date', right_on='date', how='left')\n",
    "    .merge(visitorsADaily, left_on='date', right_on='date', how='left')\n",
    "    .merge(visitorsBDaily, left_on='date', right_on='date', how='left')\n",
    "    .merge(visitorsACummulative, left_on='date', right_on='date', how='left')\n",
    "    .merge(visitorsBCummulative, left_on='date', right_on='date', how='left')\n",
    ")"
   ]
  },
  {
   "cell_type": "markdown",
   "metadata": {},
   "source": [
    "Теперь мы можем посчитать статистическую значимость различия в конверсии между группами.<br>\n",
    "Создадим переменные ordersByUsersA и ordersByUsersB со столбцами ['userId', 'orders'].<br>\n",
    "Укажем число совершённых заказов для пользователей, которые заказывали хотя бы 1 раз. "
   ]
  },
  {
   "cell_type": "code",
   "execution_count": 39,
   "metadata": {},
   "outputs": [],
   "source": [
    "ordersByUsersA = (\n",
    "    orders[orders['group'] == 'A']\n",
    "    .groupby('visitorId', as_index=False)\n",
    "    .agg({'transactionId': pd.Series.nunique})\n",
    ")\n",
    "ordersByUsersA.columns = ['userId', 'orders']\n",
    "\n",
    "ordersByUsersB = (\n",
    "    orders[orders['group'] == 'B']\n",
    "    .groupby('visitorId', as_index=False)\n",
    "    .agg({'transactionId': pd.Series.nunique})\n",
    ")\n",
    "ordersByUsersB.columns = ['userId', 'orders']"
   ]
  },
  {
   "cell_type": "markdown",
   "metadata": {},
   "source": [
    "Объявим переменные sampleA и sampleB, в которых пользователям из разных групп будет соответствовать количество заказов.<br>\n",
    "Чтобы подготовить выборки к проверке критерием Манна-Уитни, присвоим нулевые значения тем пользователям, которые ничего не заказали. "
   ]
  },
  {
   "cell_type": "code",
   "execution_count": 40,
   "metadata": {},
   "outputs": [],
   "source": [
    "sampleA = pd.concat(\n",
    "    [\n",
    "        ordersByUsersA['orders'],\n",
    "        pd.Series(\n",
    "            0,\n",
    "            index=np.arange(\n",
    "                cummulative['visitorsPerDateA'].sum() - len(ordersByUsersA['orders'])\n",
    "            ),\n",
    "            name='orders',\n",
    "        ),\n",
    "    ],\n",
    "    axis=0,\n",
    ")\n",
    "\n",
    "sampleB = pd.concat(\n",
    "    [\n",
    "        ordersByUsersB['orders'],\n",
    "        pd.Series(\n",
    "            0,\n",
    "            index=np.arange(\n",
    "                cummulative['visitorsPerDateB'].sum() - len(ordersByUsersB['orders'])\n",
    "            ),\n",
    "            name='orders',\n",
    "        ),\n",
    "    ],\n",
    "    axis=0,\n",
    ")"
   ]
  },
  {
   "cell_type": "markdown",
   "metadata": {},
   "source": [
    "Воспользуемся критерием Манна-Уитни для разности двух долей.<br>\n",
    "Сформулируем гипотезы.\n",
    "\n",
    " - H0: Конверсия в группе A равна конверсии в группе B (статистически значимых различий в конверсиях между группами нет),\n",
    "\n",
    " - H1: Конверсия в группе A не равна конверсии в группе B (есть статистически значимые различия).<br>\n",
    " \n",
    "Уровнем статистической значимости alpha примем значение 0,05."
   ]
  },
  {
   "cell_type": "code",
   "execution_count": 41,
   "metadata": {},
   "outputs": [
    {
     "name": "stdout",
     "output_type": "stream",
     "text": [
      "p-value = 0.011\n",
      "Относительный прирост конверсии группы B = 0.160\n"
     ]
    }
   ],
   "source": [
    "print(\"p-value = {0:.3f}\".format(stats.mannwhitneyu(sampleA, sampleB, alternative = 'two-sided')[1]))\n",
    "print(\"Относительный прирост конверсии группы B = {0:.3f}\".format(sampleB.mean()/sampleA.mean()-1)) "
   ]
  },
  {
   "cell_type": "markdown",
   "metadata": {},
   "source": [
    "Подтвердилась гипотеза H1: конверсия в группе A не равна конверсии в группе B, есть статистически значимые различия в конверсиях между группами.<br>\n",
    "\n",
    "Относительный прирост конверсии группы В к А равен 16%"
   ]
  },
  {
   "cell_type": "markdown",
   "metadata": {},
   "source": [
    "#### Cтатистическая значимость различий в среднем чеке заказа между группами по «сырым» данным."
   ]
  },
  {
   "cell_type": "markdown",
   "metadata": {},
   "source": [
    "Снова воспользуемся критерием Манна-Уитни. <br>\n",
    "Сформулируем гипотезы.\n",
    "\n",
    " - H0: Средний чек заказов для групп A и В совпадает (статистически значимых различий в среднем чеке между группами нет),\n",
    "\n",
    " - H1: Средний чек заказов для групп A и В различаются (есть статистически значимые различия).<br>\n",
    "\n",
    "Уровнем статистической значимости alpha примем значение 0,05."
   ]
  },
  {
   "cell_type": "code",
   "execution_count": 42,
   "metadata": {},
   "outputs": [
    {
     "name": "stdout",
     "output_type": "stream",
     "text": [
      "p-value = 0.829\n",
      "Относительный показатель 'B' и 'A' = 0.287\n"
     ]
    }
   ],
   "source": [
    "print(\"p-value = {0:.3f}\".format(stats.mannwhitneyu(orders[orders['group']=='A']['revenue'], orders[orders['group']=='B']['revenue'], alternative = 'two-sided')[1]))\n",
    "print(\"Относительный показатель 'B' и 'A' = {0:.3f}\".format(orders[orders['group']=='B']['revenue'].mean()/orders[orders['group']=='A']['revenue'].mean()-1)) "
   ]
  },
  {
   "cell_type": "markdown",
   "metadata": {},
   "source": [
    "Подтвердилась гипотеза H0: по \"сырым\" данным средние чеки похожи. <br>\n",
    "Можно считать, что значимых различий в среднем чеке между группами нет.<br>\n",
    "Хотя средний чек группы B заметно больше среднего чека группы A (почти на 29%), наблюдаемые различия не являются значимыми при таком уровне значимости, а следовательно были получены случайно."
   ]
  },
  {
   "cell_type": "markdown",
   "metadata": {},
   "source": [
    "#### Статистическая значимость различий в конверсии между группами по «очищенным» данным."
   ]
  },
  {
   "cell_type": "markdown",
   "metadata": {},
   "source": [
    "Подготовим очищенные от аномалий данные.\n",
    "В предыдущих расчётах мы определили аномальных пользователей, которые совершили:\n",
    " - 3 заказа,\n",
    " - заказ дороже 53 904 рублей.<br>\n",
    "\n",
    "Сделаем срезы пользователей:\n",
    " - с числом заказов больше 2 — usersWithManyOrders\n",
    " - совершивших заказы дороже 53 904 — usersWithExpensiveOrders.<br>\n",
    " \n",
    "Объединим их в таблицу abnormalUsers. <br>Посмотрим количество аномальных пользователей методом shape()"
   ]
  },
  {
   "cell_type": "code",
   "execution_count": 62,
   "metadata": {},
   "outputs": [
    {
     "name": "stdout",
     "output_type": "stream",
     "text": [
      "Всего аномальных пользователей 16\n"
     ]
    }
   ],
   "source": [
    "usersWithManyOrders = pd.concat(\n",
    "    [\n",
    "        ordersByUsersA[ordersByUsersA['orders'] > 2]['userId'],\n",
    "        ordersByUsersB[ordersByUsersB['orders'] > 2]['userId'],\n",
    "    ],\n",
    "    axis=0,\n",
    ")\n",
    "\n",
    "usersWithExpensiveOrders = orders[orders['revenue'] > 53904]['visitorId']\n",
    "abnormalUsers = (\n",
    "    pd.concat([usersWithManyOrders, usersWithExpensiveOrders], axis=0)\n",
    "    .drop_duplicates()\n",
    "    .sort_values()\n",
    ")\n",
    "print(\"Всего аномальных пользователей\" ,len(abnormalUsers)) "
   ]
  },
  {
   "cell_type": "code",
   "execution_count": 44,
   "metadata": {},
   "outputs": [],
   "source": [
    "# Отфильтруем аномальных пользователей:\n",
    "\n",
    "sampleAFiltered = pd.concat(\n",
    "    [\n",
    "        ordersByUsersA[\n",
    "            np.logical_not(ordersByUsersA['userId'].isin(abnormalUsers))\n",
    "        ]['orders'],\n",
    "        pd.Series(\n",
    "            0,\n",
    "            index=np.arange(\n",
    "                cummulative['visitorsPerDateA'].sum() - len(ordersByUsersA['orders'])\n",
    "            ),\n",
    "            name='orders',\n",
    "        ),\n",
    "    ],\n",
    "    axis=0,\n",
    ")\n",
    "\n",
    "sampleBFiltered = pd.concat(\n",
    "    [\n",
    "        ordersByUsersB[\n",
    "            np.logical_not(ordersByUsersB['userId'].isin(abnormalUsers))\n",
    "        ]['orders'],\n",
    "        pd.Series(\n",
    "            0,\n",
    "            index=np.arange(\n",
    "                cummulative['visitorsPerDateB'].sum() - len(ordersByUsersB['orders'])\n",
    "            ),\n",
    "            name='orders',\n",
    "        ),\n",
    "    ],\n",
    "    axis=0,\n",
    ")"
   ]
  },
  {
   "cell_type": "markdown",
   "metadata": {},
   "source": [
    "Никак не обойтись без критерия Манна-Уитни для разности двух долей.<br>\n",
    "Сформулируем гипотезы.\n",
    "\n",
    " - H0: Конверсия в группе A равна конверсии в группе B (статистически значимых различий в конверсиях между группами нет),\n",
    "\n",
    " - H1: Конверсия в группе A не равна конверсии в группе B (есть статистически значимые различия).<br>\n",
    " \n",
    "Уровнем статистической значимости alpha примем значение 0,05."
   ]
  },
  {
   "cell_type": "code",
   "execution_count": 45,
   "metadata": {},
   "outputs": [
    {
     "name": "stdout",
     "output_type": "stream",
     "text": [
      "p-value = 0.007\n",
      "Относительный показатель 'B' и 'A' = 0.189\n"
     ]
    }
   ],
   "source": [
    "print(\"p-value = {0:.3f}\".format(stats.mannwhitneyu(sampleAFiltered, sampleBFiltered, alternative = 'two-sided')[1]))\n",
    "print(\"Относительный показатель 'B' и 'A' = {0:.3f}\".format(sampleBFiltered.mean()/sampleAFiltered.mean()-1)) "
   ]
  },
  {
   "cell_type": "markdown",
   "metadata": {},
   "source": [
    "В очищенных данных конверсия группы В снова превышает конверсию группы А со статистической значимостью.\n",
    "\n",
    "Значит, нулевую гипотезу Н0 о том, что конверсия в группе A равна конверсии в группе B, отвергаем.<br>\n",
    "\n",
    "Преимущество группы B над A составляет почти 19%."
   ]
  },
  {
   "cell_type": "markdown",
   "metadata": {},
   "source": [
    "#### Статистическая значимость различий в среднем чеке заказа между группами по «очищенным» данным."
   ]
  },
  {
   "cell_type": "markdown",
   "metadata": {},
   "source": [
    "Критерий Манна-Уитни, формулировка гипотез:\n",
    "\n",
    " - H0: Средний чек заказов для групп A и В совпадает (статистически значимых различий в средних чеках между группами нет),\n",
    "\n",
    " - H1: Средний чек заказов для групп A и В различается (есть статистически значимые различия).<br>\n",
    "\n",
    "Уровнем статистической значимости alpha примем значение 0,05."
   ]
  },
  {
   "cell_type": "code",
   "execution_count": 46,
   "metadata": {},
   "outputs": [
    {
     "name": "stdout",
     "output_type": "stream",
     "text": [
      "p-value = 0.788\n",
      "Относительный показатель В и А = -0.032\n"
     ]
    }
   ],
   "source": [
    "print(\n",
    "    \"p-value = {0:.3f}\".format(\n",
    "        stats.mannwhitneyu(\n",
    "            orders[\n",
    "                np.logical_and(\n",
    "                    orders['group'] == 'A',\n",
    "                    np.logical_not(orders['visitorId'].isin(abnormalUsers)),\n",
    "                )\n",
    "            ]['revenue'],\n",
    "            orders[\n",
    "                np.logical_and(\n",
    "                    orders['group'] == 'B',\n",
    "                    np.logical_not(orders['visitorId'].isin(abnormalUsers)),\n",
    "                )\n",
    "            ]['revenue'],\n",
    "        )[1]\n",
    "    )\n",
    ")\n",
    "\n",
    "print(\n",
    "    \"Относительный показатель В и А = {0:.3f}\".format(\n",
    "        orders[\n",
    "            np.logical_and(\n",
    "                orders['group'] == 'B',\n",
    "                np.logical_not(orders['visitorId'].isin(abnormalUsers)),\n",
    "            )\n",
    "        ]['revenue'].mean()\n",
    "        / orders[\n",
    "            np.logical_and(\n",
    "                orders['group'] == 'A',\n",
    "                np.logical_not(orders['visitorId'].isin(abnormalUsers)),\n",
    "            )\n",
    "        ]['revenue'].mean()\n",
    "        - 1\n",
    "    )\n",
    ")"
   ]
  },
  {
   "cell_type": "markdown",
   "metadata": {},
   "source": [
    "Гипотеза Н0 подтвердилась: мы можем считать, что в среднем чеке нет различий (P-value = 0.788, значительно больше 0.05). <br>\n",
    "\n",
    "Зато средний чек группы B оказался незначительно (на 3%) ниже среднего чека группы A, хотя по \"сырым\" данным, он был больше почти на 29% за счет влияния аномальных заказов."
   ]
  },
  {
   "cell_type": "markdown",
   "metadata": {},
   "source": [
    "**Решение по результатам теста**<br>\n",
    "\n",
    "По итогам А/В-тестирования мы выяснили:\n",
    " - у группы В конверсия выше на 19% по \"очищенным\" данным и на 16% по \"сырым\",\n",
    " - средний чек между группами не отличается.\n",
    "\n",
    "Тест можно остановить и считать успешным.<br>\n",
    "По показателю конверсии побеждает группа В.<br>"
   ]
  },
  {
   "cell_type": "markdown",
   "metadata": {},
   "source": [
    "### Общие результаты и вывод по проекту"
   ]
  },
  {
   "cell_type": "markdown",
   "metadata": {},
   "source": [
    "**В первой части проекта** мы изучили 9 гипотез и выполнили приоритизацию с помощью фреймворков ICE и RICE. <br>\n",
    "Наиболее перспективная гипотеза по ICE: \"Запустить акцию, дающую скидку на товар в день рождения\".\n",
    "\n",
    "Наиболее перспективная гипотеза по RICE (параметр охвата пользователей reach равен 10): \"Добавить форму подписки на все основные страницы, чтобы собрать базу клиентов для email-рассылок\". <br>\n",
    "\n",
    "**Во второй части проекта** мы изучили входные данные из двух файлов: с заказами orders и пользователями visitors.<br>\n",
    "Мы скорректировали неверные типы данных в столбцах со временем.\n",
    "Дубликаты не обнаружили, кроме того исключили значения, повторяющиеся в обеих группах.<br>\n",
    "\n",
    "Далее мы изучили кумулятивные метрики: группа В практически сразу стала показывать лучшую кумулятивную выручку, а в середине периода наблюдений показала резкий скачок в связи с аномальными данными.<br>\n",
    "\n",
    "Группа В лидировала по конверсии практически с самого начала теста: стабильные +15 и до 20% относительно группы А.\n",
    "\n",
    "Сосредоточившись на аномалиях, мы зафиксировали 2 выброса, один из них - заказ стоимостью почти 1,3 миллиона. Видимо, именно здесь причина резкого скачка на первых графиках кумулятивной выручки и среднего чека.\n",
    "Убрав выбросы из графика, мы увидели, что основная часть всех заказов - стоимостью до 20 000 (а границей для определения аномальных заказов определили значение 53 904).<br>\n",
    "\n",
    "Далее изучили статистическую значимость различий в среднем чеке и конверсии по \"сырым\" и очищенным данным.\n",
    " - По \"сырым\" данным:\n",
    "   - Конверсия в группе A не равна конверсии в группе B, есть статистически значимые различия в конверсиях между группами.\n",
    "     Относительный прирост конверсии группы В к А равен 16%.\n",
    "   - Средние чеки похожи.\n",
    "     Можно считать, что значимых различий в среднем чеке между группами нет.\n",
    "     Однако, средний чек группы B заметно больше среднего чека группы A (почти на 29%).<br>\n",
    "     <br>\n",
    "     \n",
    " - По очищенным данным:\n",
    "   - Конверсия группы В снова превышает конверсию группы А: преимущество составляет почти 19%.\n",
    "   - В среднем чеке нет различий, зато средний чек группы B оказался незначительно (на 3%) ниже среднего чека группы A, хотя по \"сырым\" данным, он был больше почти на 29% за счет влияния аномальных заказов.\n",
    "   \n",
    "В итоге, по результатам А/В-тестирования мы выяснили:\n",
    "\n",
    " - У группы В конверсия выше на 19% по \"очищенным\" данным и на 16% по \"сырым\",\n",
    " - Средний чек между группами не отличается.<br>\n",
    "\n",
    "Тест можно остановить и считать успешным.<br>\n",
    "По показателю конверсии побеждает группа В.<br>\n",
    "\n",
    "Этот результат передадим отделу маркетинга для разработки плана увеличения выручки нашего интернет-магазина."
   ]
  }
 ],
 "metadata": {
  "ExecuteTimeLog": [
   {
    "duration": 1221,
    "start_time": "2022-12-15T07:21:20.450Z"
   },
   {
    "duration": 84,
    "start_time": "2022-12-15T07:22:52.926Z"
   },
   {
    "duration": 33,
    "start_time": "2022-12-15T07:23:03.568Z"
   },
   {
    "duration": 32,
    "start_time": "2022-12-15T07:23:09.823Z"
   },
   {
    "duration": 32,
    "start_time": "2022-12-15T07:23:15.056Z"
   },
   {
    "duration": 31,
    "start_time": "2022-12-15T07:23:21.044Z"
   },
   {
    "duration": 13,
    "start_time": "2022-12-15T07:24:31.883Z"
   },
   {
    "duration": 4,
    "start_time": "2022-12-15T07:26:02.942Z"
   },
   {
    "duration": 11,
    "start_time": "2022-12-15T07:26:04.126Z"
   },
   {
    "duration": 7,
    "start_time": "2022-12-15T07:27:18.883Z"
   },
   {
    "duration": 10,
    "start_time": "2022-12-15T07:27:20.396Z"
   },
   {
    "duration": 11,
    "start_time": "2022-12-15T07:27:49.325Z"
   },
   {
    "duration": 31,
    "start_time": "2022-12-15T07:30:36.970Z"
   },
   {
    "duration": 11,
    "start_time": "2022-12-15T07:30:41.615Z"
   },
   {
    "duration": 6,
    "start_time": "2022-12-15T07:30:55.740Z"
   },
   {
    "duration": 9,
    "start_time": "2022-12-15T07:30:56.491Z"
   },
   {
    "duration": 14,
    "start_time": "2022-12-15T07:31:40.146Z"
   },
   {
    "duration": 13,
    "start_time": "2022-12-15T07:35:30.149Z"
   },
   {
    "duration": 12,
    "start_time": "2022-12-15T07:35:39.660Z"
   },
   {
    "duration": 12,
    "start_time": "2022-12-15T07:43:55.432Z"
   },
   {
    "duration": 33,
    "start_time": "2022-12-15T07:44:35.415Z"
   },
   {
    "duration": 810,
    "start_time": "2022-12-15T07:44:43.857Z"
   },
   {
    "duration": 6,
    "start_time": "2022-12-15T07:44:49.808Z"
   },
   {
    "duration": 31,
    "start_time": "2022-12-15T07:44:50.385Z"
   },
   {
    "duration": 10,
    "start_time": "2022-12-15T07:44:51.225Z"
   },
   {
    "duration": 6,
    "start_time": "2022-12-15T07:44:52.839Z"
   },
   {
    "duration": 10,
    "start_time": "2022-12-15T07:44:53.578Z"
   },
   {
    "duration": 13,
    "start_time": "2022-12-15T07:44:56.978Z"
   },
   {
    "duration": 11,
    "start_time": "2022-12-15T07:45:03.039Z"
   },
   {
    "duration": 9,
    "start_time": "2022-12-15T07:45:07.771Z"
   },
   {
    "duration": 56,
    "start_time": "2022-12-15T07:50:38.327Z"
   },
   {
    "duration": 10,
    "start_time": "2022-12-15T07:50:41.814Z"
   },
   {
    "duration": 163,
    "start_time": "2022-12-15T08:06:33.532Z"
   },
   {
    "duration": 11,
    "start_time": "2022-12-15T08:07:20.686Z"
   },
   {
    "duration": 8,
    "start_time": "2022-12-15T08:07:35.832Z"
   },
   {
    "duration": 14,
    "start_time": "2022-12-15T08:13:35.084Z"
   },
   {
    "duration": 9,
    "start_time": "2022-12-15T08:13:41.646Z"
   },
   {
    "duration": 12,
    "start_time": "2022-12-15T08:13:49.225Z"
   },
   {
    "duration": 12,
    "start_time": "2022-12-15T08:13:53.246Z"
   },
   {
    "duration": 15,
    "start_time": "2022-12-15T08:14:14.076Z"
   },
   {
    "duration": 721,
    "start_time": "2022-12-15T08:18:33.656Z"
   },
   {
    "duration": 5,
    "start_time": "2022-12-15T08:18:48.085Z"
   },
   {
    "duration": 6,
    "start_time": "2022-12-15T08:19:28.010Z"
   },
   {
    "duration": 5,
    "start_time": "2022-12-15T08:20:18.039Z"
   },
   {
    "duration": 14,
    "start_time": "2022-12-15T08:21:42.824Z"
   },
   {
    "duration": 8,
    "start_time": "2022-12-15T08:22:04.297Z"
   },
   {
    "duration": 5,
    "start_time": "2022-12-15T08:24:22.404Z"
   },
   {
    "duration": 10,
    "start_time": "2022-12-15T08:24:35.324Z"
   },
   {
    "duration": 6,
    "start_time": "2022-12-15T08:25:09.598Z"
   },
   {
    "duration": 15,
    "start_time": "2022-12-15T08:30:22.945Z"
   },
   {
    "duration": 8,
    "start_time": "2022-12-15T08:30:53.620Z"
   },
   {
    "duration": 8,
    "start_time": "2022-12-15T08:30:58.267Z"
   },
   {
    "duration": 9,
    "start_time": "2022-12-15T08:31:14.945Z"
   },
   {
    "duration": 52,
    "start_time": "2022-12-15T08:31:57.532Z"
   },
   {
    "duration": 45,
    "start_time": "2022-12-15T08:32:15.787Z"
   },
   {
    "duration": 719,
    "start_time": "2022-12-15T08:32:39.866Z"
   },
   {
    "duration": 12,
    "start_time": "2022-12-15T08:32:50.049Z"
   },
   {
    "duration": 50,
    "start_time": "2022-12-15T08:33:24.226Z"
   },
   {
    "duration": 73,
    "start_time": "2022-12-15T08:33:29.711Z"
   },
   {
    "duration": 51,
    "start_time": "2022-12-15T08:33:49.938Z"
   },
   {
    "duration": 67,
    "start_time": "2022-12-15T08:33:53.692Z"
   },
   {
    "duration": 9,
    "start_time": "2022-12-15T08:34:02.671Z"
   },
   {
    "duration": 9,
    "start_time": "2022-12-15T08:34:33.033Z"
   },
   {
    "duration": 9,
    "start_time": "2022-12-15T08:34:49.677Z"
   },
   {
    "duration": 825,
    "start_time": "2022-12-15T08:36:13.981Z"
   },
   {
    "duration": 13,
    "start_time": "2022-12-15T08:36:24.760Z"
   },
   {
    "duration": 16,
    "start_time": "2022-12-15T08:36:41.529Z"
   },
   {
    "duration": 18,
    "start_time": "2022-12-15T08:37:02.489Z"
   },
   {
    "duration": 18,
    "start_time": "2022-12-15T08:37:12.041Z"
   },
   {
    "duration": 16,
    "start_time": "2022-12-15T08:38:38.793Z"
   },
   {
    "duration": 1031,
    "start_time": "2022-12-15T08:40:04.832Z"
   },
   {
    "duration": 13,
    "start_time": "2022-12-15T08:40:13.090Z"
   },
   {
    "duration": 3,
    "start_time": "2022-12-15T08:41:04.479Z"
   },
   {
    "duration": 9,
    "start_time": "2022-12-15T08:41:21.383Z"
   },
   {
    "duration": 4,
    "start_time": "2022-12-15T08:41:31.153Z"
   },
   {
    "duration": 9,
    "start_time": "2022-12-15T08:41:51.075Z"
   },
   {
    "duration": 9,
    "start_time": "2022-12-15T08:41:55.257Z"
   },
   {
    "duration": 15,
    "start_time": "2022-12-15T08:42:11.512Z"
   },
   {
    "duration": 9,
    "start_time": "2022-12-15T08:42:20.208Z"
   },
   {
    "duration": 9,
    "start_time": "2022-12-15T08:43:08.782Z"
   },
   {
    "duration": 8,
    "start_time": "2022-12-15T08:43:14.730Z"
   },
   {
    "duration": 1326,
    "start_time": "2022-12-15T08:45:12.760Z"
   },
   {
    "duration": 40,
    "start_time": "2022-12-15T08:45:14.088Z"
   },
   {
    "duration": 11,
    "start_time": "2022-12-15T08:45:14.130Z"
   },
   {
    "duration": 8,
    "start_time": "2022-12-15T08:45:14.142Z"
   },
   {
    "duration": 15,
    "start_time": "2022-12-15T08:45:14.153Z"
   },
   {
    "duration": 13,
    "start_time": "2022-12-15T08:45:14.169Z"
   },
   {
    "duration": 35,
    "start_time": "2022-12-15T08:45:14.184Z"
   },
   {
    "duration": 15,
    "start_time": "2022-12-15T08:45:14.221Z"
   },
   {
    "duration": 55,
    "start_time": "2022-12-15T08:45:14.238Z"
   },
   {
    "duration": 15,
    "start_time": "2022-12-15T08:45:14.295Z"
   },
   {
    "duration": 9,
    "start_time": "2022-12-15T08:45:14.312Z"
   },
   {
    "duration": 15,
    "start_time": "2022-12-15T08:45:14.323Z"
   },
   {
    "duration": 16,
    "start_time": "2022-12-15T08:45:14.340Z"
   },
   {
    "duration": 5,
    "start_time": "2022-12-15T08:45:14.359Z"
   },
   {
    "duration": 7,
    "start_time": "2022-12-15T08:45:14.366Z"
   },
   {
    "duration": 11,
    "start_time": "2022-12-15T08:45:14.375Z"
   },
   {
    "duration": 32,
    "start_time": "2022-12-15T08:45:14.388Z"
   },
   {
    "duration": 6,
    "start_time": "2022-12-15T08:45:14.422Z"
   },
   {
    "duration": 18,
    "start_time": "2022-12-15T08:45:14.430Z"
   },
   {
    "duration": 9,
    "start_time": "2022-12-15T08:45:14.449Z"
   },
   {
    "duration": 15,
    "start_time": "2022-12-15T08:45:14.459Z"
   },
   {
    "duration": 8,
    "start_time": "2022-12-15T08:45:14.476Z"
   },
   {
    "duration": 33,
    "start_time": "2022-12-15T08:45:14.486Z"
   },
   {
    "duration": 4,
    "start_time": "2022-12-15T08:47:02.209Z"
   },
   {
    "duration": 33,
    "start_time": "2022-12-15T08:47:03.282Z"
   },
   {
    "duration": 6,
    "start_time": "2022-12-15T08:47:06.874Z"
   },
   {
    "duration": 60,
    "start_time": "2022-12-15T08:47:16.918Z"
   },
   {
    "duration": 19,
    "start_time": "2022-12-15T08:47:22.431Z"
   },
   {
    "duration": 6,
    "start_time": "2022-12-15T08:47:29.350Z"
   },
   {
    "duration": 6,
    "start_time": "2022-12-15T08:47:33.167Z"
   },
   {
    "duration": 17,
    "start_time": "2022-12-15T08:47:35.109Z"
   },
   {
    "duration": 11,
    "start_time": "2022-12-15T08:47:38.051Z"
   },
   {
    "duration": 9,
    "start_time": "2022-12-15T08:47:39.964Z"
   },
   {
    "duration": 11,
    "start_time": "2022-12-15T08:48:01.925Z"
   },
   {
    "duration": 5,
    "start_time": "2022-12-15T08:49:21.515Z"
   },
   {
    "duration": 98,
    "start_time": "2022-12-15T09:09:39.196Z"
   },
   {
    "duration": 27,
    "start_time": "2022-12-15T09:11:15.999Z"
   },
   {
    "duration": 262,
    "start_time": "2022-12-15T09:11:52.660Z"
   },
   {
    "duration": 268,
    "start_time": "2022-12-15T09:11:57.538Z"
   },
   {
    "duration": 9,
    "start_time": "2022-12-15T09:13:53.149Z"
   },
   {
    "duration": 10,
    "start_time": "2022-12-15T09:13:58.347Z"
   },
   {
    "duration": 12,
    "start_time": "2022-12-15T09:14:06.309Z"
   },
   {
    "duration": 9,
    "start_time": "2022-12-15T09:14:08.980Z"
   },
   {
    "duration": 10,
    "start_time": "2022-12-15T09:14:23.902Z"
   },
   {
    "duration": 206,
    "start_time": "2022-12-15T09:16:53.769Z"
   },
   {
    "duration": 203,
    "start_time": "2022-12-15T09:17:59.206Z"
   },
   {
    "duration": 300,
    "start_time": "2022-12-15T09:22:24.972Z"
   },
   {
    "duration": 287,
    "start_time": "2022-12-15T09:22:38.438Z"
   },
   {
    "duration": 190,
    "start_time": "2022-12-15T09:25:45.851Z"
   },
   {
    "duration": 307,
    "start_time": "2022-12-15T09:29:49.358Z"
   },
   {
    "duration": 61,
    "start_time": "2022-12-15T10:30:49.247Z"
   },
   {
    "duration": 1300,
    "start_time": "2022-12-15T10:31:43.382Z"
   },
   {
    "duration": 83,
    "start_time": "2022-12-15T10:31:44.684Z"
   },
   {
    "duration": 12,
    "start_time": "2022-12-15T10:31:45.820Z"
   },
   {
    "duration": 7,
    "start_time": "2022-12-15T10:31:46.835Z"
   },
   {
    "duration": 162,
    "start_time": "2022-12-15T10:31:57.583Z"
   },
   {
    "duration": 12,
    "start_time": "2022-12-15T10:31:59.357Z"
   },
   {
    "duration": 16,
    "start_time": "2022-12-15T10:32:02.441Z"
   },
   {
    "duration": 5,
    "start_time": "2022-12-15T10:32:06.856Z"
   },
   {
    "duration": 16,
    "start_time": "2022-12-15T10:32:11.633Z"
   },
   {
    "duration": 11,
    "start_time": "2022-12-15T10:32:14.173Z"
   },
   {
    "duration": 10,
    "start_time": "2022-12-15T10:32:14.649Z"
   },
   {
    "duration": 303,
    "start_time": "2022-12-15T10:32:17.565Z"
   },
   {
    "duration": 172,
    "start_time": "2022-12-15T10:32:32.398Z"
   },
   {
    "duration": 295,
    "start_time": "2022-12-15T10:34:20.721Z"
   },
   {
    "duration": 281,
    "start_time": "2022-12-15T10:34:28.375Z"
   },
   {
    "duration": 268,
    "start_time": "2022-12-15T10:35:53.508Z"
   },
   {
    "duration": 277,
    "start_time": "2022-12-15T10:36:00.529Z"
   },
   {
    "duration": 296,
    "start_time": "2022-12-15T10:36:04.709Z"
   },
   {
    "duration": 6,
    "start_time": "2022-12-15T10:39:23.082Z"
   },
   {
    "duration": 61,
    "start_time": "2022-12-15T10:42:58.446Z"
   },
   {
    "duration": 5,
    "start_time": "2022-12-15T10:43:16.764Z"
   },
   {
    "duration": 145,
    "start_time": "2022-12-15T10:47:02.112Z"
   },
   {
    "duration": 15,
    "start_time": "2022-12-15T10:49:37.759Z"
   },
   {
    "duration": 61,
    "start_time": "2022-12-15T10:50:23.804Z"
   },
   {
    "duration": 20,
    "start_time": "2022-12-15T10:50:29.398Z"
   },
   {
    "duration": 343,
    "start_time": "2022-12-15T10:50:37.032Z"
   },
   {
    "duration": 257,
    "start_time": "2022-12-15T10:54:24.663Z"
   },
   {
    "duration": 4,
    "start_time": "2022-12-15T10:55:48.912Z"
   },
   {
    "duration": 115,
    "start_time": "2022-12-15T11:08:44.516Z"
   },
   {
    "duration": 110,
    "start_time": "2022-12-15T11:09:19.395Z"
   },
   {
    "duration": 189,
    "start_time": "2022-12-15T11:09:34.078Z"
   },
   {
    "duration": 234,
    "start_time": "2022-12-15T11:09:46.298Z"
   },
   {
    "duration": 148,
    "start_time": "2022-12-15T11:10:56.020Z"
   },
   {
    "duration": 55,
    "start_time": "2022-12-15T11:11:21.789Z"
   },
   {
    "duration": 8,
    "start_time": "2022-12-15T11:12:10.982Z"
   },
   {
    "duration": 27,
    "start_time": "2022-12-15T11:12:54.409Z"
   },
   {
    "duration": 10,
    "start_time": "2022-12-15T11:13:28.722Z"
   },
   {
    "duration": 26,
    "start_time": "2022-12-15T11:13:43.707Z"
   },
   {
    "duration": 12,
    "start_time": "2022-12-15T11:30:36.966Z"
   },
   {
    "duration": 10,
    "start_time": "2022-12-15T11:30:46.796Z"
   },
   {
    "duration": 17,
    "start_time": "2022-12-15T11:31:10.240Z"
   },
   {
    "duration": 15,
    "start_time": "2022-12-15T11:31:16.278Z"
   },
   {
    "duration": 5,
    "start_time": "2022-12-15T11:31:25.286Z"
   },
   {
    "duration": 5,
    "start_time": "2022-12-15T11:31:30.697Z"
   },
   {
    "duration": 23,
    "start_time": "2022-12-15T11:31:54.007Z"
   },
   {
    "duration": 736,
    "start_time": "2022-12-15T11:33:22.024Z"
   },
   {
    "duration": 12,
    "start_time": "2022-12-15T11:33:30.780Z"
   },
   {
    "duration": 13,
    "start_time": "2022-12-15T11:33:36.720Z"
   },
   {
    "duration": 8,
    "start_time": "2022-12-15T11:35:20.091Z"
   },
   {
    "duration": 10,
    "start_time": "2022-12-15T11:39:03.817Z"
   },
   {
    "duration": 11,
    "start_time": "2022-12-15T11:39:13.438Z"
   },
   {
    "duration": 30,
    "start_time": "2022-12-15T11:39:18.981Z"
   },
   {
    "duration": 46,
    "start_time": "2022-12-15T11:46:16.195Z"
   },
   {
    "duration": 62,
    "start_time": "2022-12-15T11:46:37.750Z"
   },
   {
    "duration": 12,
    "start_time": "2022-12-15T11:47:20.113Z"
   },
   {
    "duration": 13,
    "start_time": "2022-12-15T11:47:28.427Z"
   },
   {
    "duration": 11,
    "start_time": "2022-12-15T11:47:41.191Z"
   },
   {
    "duration": 14,
    "start_time": "2022-12-15T12:23:33.935Z"
   },
   {
    "duration": 19,
    "start_time": "2022-12-15T12:24:56.578Z"
   },
   {
    "duration": 31,
    "start_time": "2022-12-15T12:37:46.325Z"
   },
   {
    "duration": 46,
    "start_time": "2022-12-15T13:41:10.706Z"
   },
   {
    "duration": 48,
    "start_time": "2022-12-15T13:41:15.864Z"
   },
   {
    "duration": 50,
    "start_time": "2022-12-15T13:41:36.334Z"
   },
   {
    "duration": 10,
    "start_time": "2022-12-15T13:41:44.705Z"
   },
   {
    "duration": 268,
    "start_time": "2022-12-15T13:41:49.400Z"
   },
   {
    "duration": 12,
    "start_time": "2022-12-15T13:41:52.407Z"
   },
   {
    "duration": 1199,
    "start_time": "2022-12-15T13:47:25.445Z"
   },
   {
    "duration": 40,
    "start_time": "2022-12-15T13:47:26.646Z"
   },
   {
    "duration": 12,
    "start_time": "2022-12-15T13:47:26.688Z"
   },
   {
    "duration": 8,
    "start_time": "2022-12-15T13:47:26.702Z"
   },
   {
    "duration": 17,
    "start_time": "2022-12-15T13:47:26.712Z"
   },
   {
    "duration": 16,
    "start_time": "2022-12-15T13:47:26.731Z"
   },
   {
    "duration": 12,
    "start_time": "2022-12-15T13:47:26.749Z"
   },
   {
    "duration": 19,
    "start_time": "2022-12-15T13:47:26.763Z"
   },
   {
    "duration": 62,
    "start_time": "2022-12-15T13:47:26.784Z"
   },
   {
    "duration": 11,
    "start_time": "2022-12-15T13:47:26.848Z"
   },
   {
    "duration": 17,
    "start_time": "2022-12-15T13:47:26.861Z"
   },
   {
    "duration": 17,
    "start_time": "2022-12-15T13:47:26.880Z"
   },
   {
    "duration": 16,
    "start_time": "2022-12-15T13:47:26.899Z"
   },
   {
    "duration": 10,
    "start_time": "2022-12-15T13:47:26.918Z"
   },
   {
    "duration": 9,
    "start_time": "2022-12-15T13:47:26.930Z"
   },
   {
    "duration": 11,
    "start_time": "2022-12-15T13:47:26.941Z"
   },
   {
    "duration": 15,
    "start_time": "2022-12-15T13:47:26.954Z"
   },
   {
    "duration": 5,
    "start_time": "2022-12-15T13:47:26.971Z"
   },
   {
    "duration": 35,
    "start_time": "2022-12-15T13:47:26.978Z"
   },
   {
    "duration": 13,
    "start_time": "2022-12-15T13:47:27.015Z"
   },
   {
    "duration": 7,
    "start_time": "2022-12-15T13:47:27.030Z"
   },
   {
    "duration": 17,
    "start_time": "2022-12-15T13:47:27.039Z"
   },
   {
    "duration": 10,
    "start_time": "2022-12-15T13:47:27.057Z"
   },
   {
    "duration": 10,
    "start_time": "2022-12-15T13:47:27.068Z"
   },
   {
    "duration": 405,
    "start_time": "2022-12-15T13:47:27.080Z"
   },
   {
    "duration": 11,
    "start_time": "2022-12-15T13:47:27.487Z"
   },
   {
    "duration": 300,
    "start_time": "2022-12-15T13:47:27.499Z"
   },
   {
    "duration": 217,
    "start_time": "2022-12-15T13:47:27.801Z"
   },
   {
    "duration": 296,
    "start_time": "2022-12-15T13:47:28.020Z"
   },
   {
    "duration": 232,
    "start_time": "2022-12-15T13:47:28.317Z"
   },
   {
    "duration": 313,
    "start_time": "2022-12-15T13:47:28.551Z"
   },
   {
    "duration": 296,
    "start_time": "2022-12-15T13:47:28.865Z"
   },
   {
    "duration": 5,
    "start_time": "2022-12-15T13:47:29.163Z"
   },
   {
    "duration": 155,
    "start_time": "2022-12-15T13:47:29.169Z"
   },
   {
    "duration": 375,
    "start_time": "2022-12-15T13:47:29.325Z"
   },
   {
    "duration": 6,
    "start_time": "2022-12-15T13:47:29.701Z"
   },
   {
    "duration": 243,
    "start_time": "2022-12-15T13:47:29.709Z"
   },
   {
    "duration": 137,
    "start_time": "2022-12-15T13:47:29.954Z"
   },
   {
    "duration": 0,
    "start_time": "2022-12-15T13:47:30.092Z"
   },
   {
    "duration": 0,
    "start_time": "2022-12-15T13:47:30.093Z"
   },
   {
    "duration": 0,
    "start_time": "2022-12-15T13:47:30.094Z"
   },
   {
    "duration": 0,
    "start_time": "2022-12-15T13:47:30.096Z"
   },
   {
    "duration": 0,
    "start_time": "2022-12-15T13:47:30.097Z"
   },
   {
    "duration": 0,
    "start_time": "2022-12-15T13:47:30.098Z"
   },
   {
    "duration": 0,
    "start_time": "2022-12-15T13:47:30.099Z"
   },
   {
    "duration": 17,
    "start_time": "2022-12-15T13:49:14.574Z"
   },
   {
    "duration": 165,
    "start_time": "2022-12-15T13:49:25.485Z"
   },
   {
    "duration": 1267,
    "start_time": "2022-12-15T13:50:33.693Z"
   },
   {
    "duration": 38,
    "start_time": "2022-12-15T13:50:34.962Z"
   },
   {
    "duration": 13,
    "start_time": "2022-12-15T13:50:35.002Z"
   },
   {
    "duration": 13,
    "start_time": "2022-12-15T13:50:35.016Z"
   },
   {
    "duration": 16,
    "start_time": "2022-12-15T13:50:35.031Z"
   },
   {
    "duration": 21,
    "start_time": "2022-12-15T13:50:35.049Z"
   },
   {
    "duration": 13,
    "start_time": "2022-12-15T13:50:35.072Z"
   },
   {
    "duration": 27,
    "start_time": "2022-12-15T13:50:35.087Z"
   },
   {
    "duration": 57,
    "start_time": "2022-12-15T13:50:35.116Z"
   },
   {
    "duration": 12,
    "start_time": "2022-12-15T13:50:35.174Z"
   },
   {
    "duration": 11,
    "start_time": "2022-12-15T13:50:35.188Z"
   },
   {
    "duration": 16,
    "start_time": "2022-12-15T13:50:35.201Z"
   },
   {
    "duration": 18,
    "start_time": "2022-12-15T13:50:35.219Z"
   },
   {
    "duration": 8,
    "start_time": "2022-12-15T13:50:35.240Z"
   },
   {
    "duration": 7,
    "start_time": "2022-12-15T13:50:35.250Z"
   },
   {
    "duration": 12,
    "start_time": "2022-12-15T13:50:35.258Z"
   },
   {
    "duration": 24,
    "start_time": "2022-12-15T13:50:35.272Z"
   },
   {
    "duration": 14,
    "start_time": "2022-12-15T13:50:35.298Z"
   },
   {
    "duration": 18,
    "start_time": "2022-12-15T13:50:35.314Z"
   },
   {
    "duration": 17,
    "start_time": "2022-12-15T13:50:35.334Z"
   },
   {
    "duration": 15,
    "start_time": "2022-12-15T13:50:35.353Z"
   },
   {
    "duration": 16,
    "start_time": "2022-12-15T13:50:35.369Z"
   },
   {
    "duration": 9,
    "start_time": "2022-12-15T13:50:35.387Z"
   },
   {
    "duration": 16,
    "start_time": "2022-12-15T13:50:35.397Z"
   },
   {
    "duration": 304,
    "start_time": "2022-12-15T13:50:35.414Z"
   },
   {
    "duration": 10,
    "start_time": "2022-12-15T13:50:35.720Z"
   },
   {
    "duration": 290,
    "start_time": "2022-12-15T13:50:35.731Z"
   },
   {
    "duration": 206,
    "start_time": "2022-12-15T13:50:36.022Z"
   },
   {
    "duration": 318,
    "start_time": "2022-12-15T13:50:36.230Z"
   },
   {
    "duration": 240,
    "start_time": "2022-12-15T13:50:36.550Z"
   },
   {
    "duration": 351,
    "start_time": "2022-12-15T13:50:36.792Z"
   },
   {
    "duration": 297,
    "start_time": "2022-12-15T13:50:37.145Z"
   },
   {
    "duration": 4,
    "start_time": "2022-12-15T13:50:37.444Z"
   },
   {
    "duration": 152,
    "start_time": "2022-12-15T13:50:37.450Z"
   },
   {
    "duration": 368,
    "start_time": "2022-12-15T13:50:37.604Z"
   },
   {
    "duration": 6,
    "start_time": "2022-12-15T13:50:37.973Z"
   },
   {
    "duration": 266,
    "start_time": "2022-12-15T13:50:37.981Z"
   },
   {
    "duration": 184,
    "start_time": "2022-12-15T13:50:38.249Z"
   },
   {
    "duration": 7,
    "start_time": "2022-12-15T13:50:38.436Z"
   },
   {
    "duration": 39,
    "start_time": "2022-12-15T13:50:38.445Z"
   },
   {
    "duration": 10,
    "start_time": "2022-12-15T13:50:38.488Z"
   },
   {
    "duration": 14,
    "start_time": "2022-12-15T13:50:38.500Z"
   },
   {
    "duration": 9,
    "start_time": "2022-12-15T13:50:38.516Z"
   },
   {
    "duration": 23,
    "start_time": "2022-12-15T13:50:38.526Z"
   },
   {
    "duration": 14,
    "start_time": "2022-12-15T13:50:38.551Z"
   },
   {
    "duration": 1150,
    "start_time": "2022-12-15T14:30:21.534Z"
   },
   {
    "duration": 36,
    "start_time": "2022-12-15T14:30:22.686Z"
   },
   {
    "duration": 10,
    "start_time": "2022-12-15T14:30:22.724Z"
   },
   {
    "duration": 8,
    "start_time": "2022-12-15T14:30:22.736Z"
   },
   {
    "duration": 15,
    "start_time": "2022-12-15T14:30:22.745Z"
   },
   {
    "duration": 15,
    "start_time": "2022-12-15T14:30:22.762Z"
   },
   {
    "duration": 12,
    "start_time": "2022-12-15T14:30:22.779Z"
   },
   {
    "duration": 10,
    "start_time": "2022-12-15T14:30:22.792Z"
   },
   {
    "duration": 55,
    "start_time": "2022-12-15T14:30:22.803Z"
   },
   {
    "duration": 9,
    "start_time": "2022-12-15T14:30:22.860Z"
   },
   {
    "duration": 9,
    "start_time": "2022-12-15T14:30:22.871Z"
   },
   {
    "duration": 13,
    "start_time": "2022-12-15T14:30:22.882Z"
   },
   {
    "duration": 12,
    "start_time": "2022-12-15T14:30:22.897Z"
   },
   {
    "duration": 7,
    "start_time": "2022-12-15T14:30:22.910Z"
   },
   {
    "duration": 10,
    "start_time": "2022-12-15T14:30:22.918Z"
   },
   {
    "duration": 29,
    "start_time": "2022-12-15T14:30:22.929Z"
   },
   {
    "duration": 11,
    "start_time": "2022-12-15T14:30:22.960Z"
   },
   {
    "duration": 9,
    "start_time": "2022-12-15T14:30:22.972Z"
   },
   {
    "duration": 26,
    "start_time": "2022-12-15T14:30:22.983Z"
   },
   {
    "duration": 11,
    "start_time": "2022-12-15T14:30:23.010Z"
   },
   {
    "duration": 6,
    "start_time": "2022-12-15T14:30:23.023Z"
   },
   {
    "duration": 15,
    "start_time": "2022-12-15T14:30:23.030Z"
   },
   {
    "duration": 10,
    "start_time": "2022-12-15T14:30:23.047Z"
   },
   {
    "duration": 9,
    "start_time": "2022-12-15T14:30:23.058Z"
   },
   {
    "duration": 287,
    "start_time": "2022-12-15T14:30:23.068Z"
   },
   {
    "duration": 9,
    "start_time": "2022-12-15T14:30:23.356Z"
   },
   {
    "duration": 259,
    "start_time": "2022-12-15T14:30:23.366Z"
   },
   {
    "duration": 184,
    "start_time": "2022-12-15T14:30:23.628Z"
   },
   {
    "duration": 306,
    "start_time": "2022-12-15T14:30:23.814Z"
   },
   {
    "duration": 215,
    "start_time": "2022-12-15T14:30:24.122Z"
   },
   {
    "duration": 333,
    "start_time": "2022-12-15T14:30:24.338Z"
   },
   {
    "duration": 270,
    "start_time": "2022-12-15T14:30:24.672Z"
   },
   {
    "duration": 12,
    "start_time": "2022-12-15T14:30:24.944Z"
   },
   {
    "duration": 141,
    "start_time": "2022-12-15T14:30:24.958Z"
   },
   {
    "duration": 304,
    "start_time": "2022-12-15T14:30:25.100Z"
   },
   {
    "duration": 4,
    "start_time": "2022-12-15T14:30:25.406Z"
   },
   {
    "duration": 216,
    "start_time": "2022-12-15T14:30:25.412Z"
   },
   {
    "duration": 128,
    "start_time": "2022-12-15T14:30:25.630Z"
   },
   {
    "duration": 7,
    "start_time": "2022-12-15T14:30:25.760Z"
   },
   {
    "duration": 22,
    "start_time": "2022-12-15T14:30:25.768Z"
   },
   {
    "duration": 11,
    "start_time": "2022-12-15T14:30:25.792Z"
   },
   {
    "duration": 8,
    "start_time": "2022-12-15T14:30:25.805Z"
   },
   {
    "duration": 44,
    "start_time": "2022-12-15T14:30:25.815Z"
   },
   {
    "duration": 22,
    "start_time": "2022-12-15T14:30:25.860Z"
   },
   {
    "duration": 14,
    "start_time": "2022-12-15T14:30:25.885Z"
   },
   {
    "duration": 62,
    "start_time": "2022-12-16T06:23:18.076Z"
   },
   {
    "duration": 1438,
    "start_time": "2022-12-16T06:23:24.864Z"
   },
   {
    "duration": 88,
    "start_time": "2022-12-16T06:23:26.305Z"
   },
   {
    "duration": 14,
    "start_time": "2022-12-16T06:23:26.395Z"
   },
   {
    "duration": 8,
    "start_time": "2022-12-16T06:23:26.411Z"
   },
   {
    "duration": 18,
    "start_time": "2022-12-16T06:23:26.421Z"
   },
   {
    "duration": 30,
    "start_time": "2022-12-16T06:23:26.441Z"
   },
   {
    "duration": 13,
    "start_time": "2022-12-16T06:23:26.473Z"
   },
   {
    "duration": 14,
    "start_time": "2022-12-16T06:23:26.489Z"
   },
   {
    "duration": 152,
    "start_time": "2022-12-16T06:23:26.505Z"
   },
   {
    "duration": 11,
    "start_time": "2022-12-16T06:23:26.659Z"
   },
   {
    "duration": 12,
    "start_time": "2022-12-16T06:23:26.672Z"
   },
   {
    "duration": 23,
    "start_time": "2022-12-16T06:23:26.686Z"
   },
   {
    "duration": 13,
    "start_time": "2022-12-16T06:23:26.711Z"
   },
   {
    "duration": 9,
    "start_time": "2022-12-16T06:23:26.728Z"
   },
   {
    "duration": 17,
    "start_time": "2022-12-16T06:23:26.739Z"
   },
   {
    "duration": 13,
    "start_time": "2022-12-16T06:23:26.758Z"
   },
   {
    "duration": 10,
    "start_time": "2022-12-16T06:23:26.773Z"
   },
   {
    "duration": 10,
    "start_time": "2022-12-16T06:23:26.784Z"
   },
   {
    "duration": 15,
    "start_time": "2022-12-16T06:23:26.796Z"
   },
   {
    "duration": 39,
    "start_time": "2022-12-16T06:23:26.813Z"
   },
   {
    "duration": 6,
    "start_time": "2022-12-16T06:23:26.853Z"
   },
   {
    "duration": 17,
    "start_time": "2022-12-16T06:23:26.862Z"
   },
   {
    "duration": 9,
    "start_time": "2022-12-16T06:23:26.881Z"
   },
   {
    "duration": 12,
    "start_time": "2022-12-16T06:23:26.892Z"
   },
   {
    "duration": 332,
    "start_time": "2022-12-16T06:23:26.906Z"
   },
   {
    "duration": 13,
    "start_time": "2022-12-16T06:23:27.240Z"
   },
   {
    "duration": 13,
    "start_time": "2022-12-16T06:23:27.255Z"
   },
   {
    "duration": 299,
    "start_time": "2022-12-16T06:23:27.270Z"
   },
   {
    "duration": 214,
    "start_time": "2022-12-16T06:23:27.570Z"
   },
   {
    "duration": 316,
    "start_time": "2022-12-16T06:23:27.786Z"
   },
   {
    "duration": 215,
    "start_time": "2022-12-16T06:23:28.105Z"
   },
   {
    "duration": 351,
    "start_time": "2022-12-16T06:23:28.322Z"
   },
   {
    "duration": 319,
    "start_time": "2022-12-16T06:23:28.675Z"
   },
   {
    "duration": 4,
    "start_time": "2022-12-16T06:23:28.996Z"
   },
   {
    "duration": 149,
    "start_time": "2022-12-16T06:23:29.001Z"
   },
   {
    "duration": 360,
    "start_time": "2022-12-16T06:23:29.152Z"
   },
   {
    "duration": 6,
    "start_time": "2022-12-16T06:23:29.515Z"
   },
   {
    "duration": 269,
    "start_time": "2022-12-16T06:23:29.523Z"
   },
   {
    "duration": 174,
    "start_time": "2022-12-16T06:23:29.794Z"
   },
   {
    "duration": 8,
    "start_time": "2022-12-16T06:23:29.969Z"
   },
   {
    "duration": 38,
    "start_time": "2022-12-16T06:23:29.981Z"
   },
   {
    "duration": 27,
    "start_time": "2022-12-16T06:23:30.021Z"
   },
   {
    "duration": 36,
    "start_time": "2022-12-16T06:23:30.050Z"
   },
   {
    "duration": 29,
    "start_time": "2022-12-16T06:23:30.088Z"
   },
   {
    "duration": 51,
    "start_time": "2022-12-16T06:23:30.119Z"
   },
   {
    "duration": 27,
    "start_time": "2022-12-16T06:23:30.172Z"
   },
   {
    "duration": 16,
    "start_time": "2022-12-16T06:23:49.006Z"
   },
   {
    "duration": 4,
    "start_time": "2022-12-16T06:25:56.315Z"
   },
   {
    "duration": 6,
    "start_time": "2022-12-16T06:26:17.672Z"
   },
   {
    "duration": 6,
    "start_time": "2022-12-16T06:28:39.766Z"
   },
   {
    "duration": 6,
    "start_time": "2022-12-16T06:29:02.331Z"
   },
   {
    "duration": 6,
    "start_time": "2022-12-16T06:29:11.195Z"
   },
   {
    "duration": 6,
    "start_time": "2022-12-16T06:32:17.273Z"
   },
   {
    "duration": 7,
    "start_time": "2022-12-16T06:32:32.681Z"
   },
   {
    "duration": 5,
    "start_time": "2022-12-16T06:45:12.191Z"
   },
   {
    "duration": 77,
    "start_time": "2022-12-16T06:45:17.885Z"
   },
   {
    "duration": 128,
    "start_time": "2022-12-16T06:45:57.792Z"
   },
   {
    "duration": 19,
    "start_time": "2022-12-16T06:47:15.982Z"
   },
   {
    "duration": 21,
    "start_time": "2022-12-16T06:47:30.777Z"
   },
   {
    "duration": 1122,
    "start_time": "2022-12-16T06:49:19.731Z"
   },
   {
    "duration": 16,
    "start_time": "2022-12-16T06:49:39.992Z"
   },
   {
    "duration": 9,
    "start_time": "2022-12-16T06:50:07.617Z"
   }
  ],
  "kernelspec": {
   "display_name": "Python 3 (ipykernel)",
   "language": "python",
   "name": "python3"
  },
  "language_info": {
   "codemirror_mode": {
    "name": "ipython",
    "version": 3
   },
   "file_extension": ".py",
   "mimetype": "text/x-python",
   "name": "python",
   "nbconvert_exporter": "python",
   "pygments_lexer": "ipython3",
   "version": "3.9.5"
  },
  "toc": {
   "base_numbering": 1,
   "nav_menu": {},
   "number_sections": true,
   "sideBar": true,
   "skip_h1_title": true,
   "title_cell": "Table of Contents",
   "title_sidebar": "Contents",
   "toc_cell": false,
   "toc_position": {
    "height": "calc(100% - 180px)",
    "left": "10px",
    "top": "150px",
    "width": "319.222px"
   },
   "toc_section_display": true,
   "toc_window_display": true
  }
 },
 "nbformat": 4,
 "nbformat_minor": 2
}
