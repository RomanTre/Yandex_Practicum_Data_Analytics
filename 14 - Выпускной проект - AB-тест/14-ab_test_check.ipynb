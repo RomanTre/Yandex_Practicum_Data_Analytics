{
 "cells": [
  {
   "cell_type": "markdown",
   "metadata": {},
   "source": [
    "# A/B-тестирование\n",
    "\n",
    "В нашем распоряжении есть датасет с действиями пользователей, техническое задание и несколько вспомогательных датасетов.<br>\n",
    "\n",
    "Задача — провести оценку результатов A/B-теста, а именно:\n",
    "- Оценить корректность проведения теста,\n",
    "- Проанализировать результаты теста\n",
    "    \n",
    "**Цели исследования**\n",
    " - Оценить корректность проведения теста, обратить внимание на:\n",
    "     - Соответствие данных требованиям технического задания, проверим корректность выполнения пунктов технического задания.<br>\n",
    "     - Время проведения теста, убедимся, что оно не совпадает с маркетинговыми и другими активностями.<br>\n",
    "     - Аудиторию теста, удостоверимся, что нет пересечений с конкурирующим тестом и нет пользователей, участвующих в двух группах теста одновременно. Также проверим равномерность распределения по тестовым группам и правильность их формирования.\n",
    "    \n",
    "   <br>\n",
    "\n",
    " - Провести исследовательский анализ данных перед A/B-тестированием, ответить на вопросы:\n",
    "    - Количество событий на пользователя одинаково распределены в выборках?\n",
    "    - Как число событий в выборках распределено по дням?\n",
    "    - Как меняется конверсия в воронке в выборках на разных этапах?\n",
    "    - Какие особенности данных нужно учесть, прежде чем приступать к A/B-тестированию?\n",
    "  \n",
    "  <br>\n",
    "    \n",
    " - Провести анализ результатов A/B теста и их оценку, проверить статистическую разницу долей z-критерием.\n",
    "\n",
    "  <br>\n",
    "\n",
    " - Сделать общий вывод по исследовательскому анализу данных, проведённой оценке результатов A/B-тестирования, итоговое заключение о корректности проведения теста."
   ]
  },
  {
   "cell_type": "markdown",
   "metadata": {},
   "source": [
    "### Знакомство с данными и предобработка"
   ]
  },
  {
   "cell_type": "code",
   "execution_count": 1,
   "metadata": {},
   "outputs": [],
   "source": [
    "# Импортируем нужные библиотеки для чтения файлов, построения графиков и проведения расчетов\n",
    "\n",
    "import pandas as pd\n",
    "import numpy as np\n",
    "from matplotlib import pyplot as plt\n",
    "from datetime import timedelta\n",
    "import datetime as dt\n",
    "from scipy import stats as st\n",
    "import math as mth\n",
    "import seaborn as sns\n",
    "from scipy import stats\n",
    "from plotly import graph_objects as go\n",
    "from plotly.subplots import make_subplots"
   ]
  },
  {
   "cell_type": "code",
   "execution_count": 2,
   "metadata": {},
   "outputs": [],
   "source": [
    "# Загрузим файлы\n",
    "# Календарь маркетинговых событий на 2020 год\n",
    "marketing_events = pd.read_csv('/datasets/ab_project_marketing_events.csv')\n",
    "\n",
    "# Новые пользователи, зарегистрировавшиеся с 7 по 21 декабря 2020 года\n",
    "new_users = pd.read_csv('/datasets/final_ab_new_users.csv') \n",
    "\n",
    "# Действия новых пользователей в период с 7 декабря 2020 по 4 января 2021 года\n",
    "events = pd.read_csv('/datasets/final_ab_events.csv')\n",
    "\n",
    "# Таблица участников тестов\n",
    "participants = pd.read_csv('/datasets/final_ab_participants.csv')"
   ]
  },
  {
   "cell_type": "code",
   "execution_count": 3,
   "metadata": {
    "scrolled": true
   },
   "outputs": [
    {
     "name": "stdout",
     "output_type": "stream",
     "text": [
      "<class 'pandas.core.frame.DataFrame'>\n",
      "RangeIndex: 14 entries, 0 to 13\n",
      "Data columns (total 4 columns):\n",
      " #   Column     Non-Null Count  Dtype \n",
      "---  ------     --------------  ----- \n",
      " 0   name       14 non-null     object\n",
      " 1   regions    14 non-null     object\n",
      " 2   start_dt   14 non-null     object\n",
      " 3   finish_dt  14 non-null     object\n",
      "dtypes: object(4)\n",
      "memory usage: 576.0+ bytes\n"
     ]
    },
    {
     "data": {
      "text/plain": [
       "None"
      ]
     },
     "metadata": {},
     "output_type": "display_data"
    },
    {
     "data": {
      "text/html": [
       "<div>\n",
       "<style scoped>\n",
       "    .dataframe tbody tr th:only-of-type {\n",
       "        vertical-align: middle;\n",
       "    }\n",
       "\n",
       "    .dataframe tbody tr th {\n",
       "        vertical-align: top;\n",
       "    }\n",
       "\n",
       "    .dataframe thead th {\n",
       "        text-align: right;\n",
       "    }\n",
       "</style>\n",
       "<table border=\"1\" class=\"dataframe\">\n",
       "  <thead>\n",
       "    <tr style=\"text-align: right;\">\n",
       "      <th></th>\n",
       "      <th>name</th>\n",
       "      <th>regions</th>\n",
       "      <th>start_dt</th>\n",
       "      <th>finish_dt</th>\n",
       "    </tr>\n",
       "  </thead>\n",
       "  <tbody>\n",
       "    <tr>\n",
       "      <th>0</th>\n",
       "      <td>Christmas&amp;New Year Promo</td>\n",
       "      <td>EU, N.America</td>\n",
       "      <td>2020-12-25</td>\n",
       "      <td>2021-01-03</td>\n",
       "    </tr>\n",
       "    <tr>\n",
       "      <th>1</th>\n",
       "      <td>St. Valentine's Day Giveaway</td>\n",
       "      <td>EU, CIS, APAC, N.America</td>\n",
       "      <td>2020-02-14</td>\n",
       "      <td>2020-02-16</td>\n",
       "    </tr>\n",
       "    <tr>\n",
       "      <th>2</th>\n",
       "      <td>St. Patric's Day Promo</td>\n",
       "      <td>EU, N.America</td>\n",
       "      <td>2020-03-17</td>\n",
       "      <td>2020-03-19</td>\n",
       "    </tr>\n",
       "  </tbody>\n",
       "</table>\n",
       "</div>"
      ],
      "text/plain": [
       "                           name                   regions    start_dt  \\\n",
       "0      Christmas&New Year Promo             EU, N.America  2020-12-25   \n",
       "1  St. Valentine's Day Giveaway  EU, CIS, APAC, N.America  2020-02-14   \n",
       "2        St. Patric's Day Promo             EU, N.America  2020-03-17   \n",
       "\n",
       "    finish_dt  \n",
       "0  2021-01-03  \n",
       "1  2020-02-16  \n",
       "2  2020-03-19  "
      ]
     },
     "metadata": {},
     "output_type": "display_data"
    },
    {
     "name": "stdout",
     "output_type": "stream",
     "text": [
      "**************************************************\n",
      "\n",
      "<class 'pandas.core.frame.DataFrame'>\n",
      "RangeIndex: 61733 entries, 0 to 61732\n",
      "Data columns (total 4 columns):\n",
      " #   Column      Non-Null Count  Dtype \n",
      "---  ------      --------------  ----- \n",
      " 0   user_id     61733 non-null  object\n",
      " 1   first_date  61733 non-null  object\n",
      " 2   region      61733 non-null  object\n",
      " 3   device      61733 non-null  object\n",
      "dtypes: object(4)\n",
      "memory usage: 1.9+ MB\n"
     ]
    },
    {
     "data": {
      "text/plain": [
       "None"
      ]
     },
     "metadata": {},
     "output_type": "display_data"
    },
    {
     "data": {
      "text/html": [
       "<div>\n",
       "<style scoped>\n",
       "    .dataframe tbody tr th:only-of-type {\n",
       "        vertical-align: middle;\n",
       "    }\n",
       "\n",
       "    .dataframe tbody tr th {\n",
       "        vertical-align: top;\n",
       "    }\n",
       "\n",
       "    .dataframe thead th {\n",
       "        text-align: right;\n",
       "    }\n",
       "</style>\n",
       "<table border=\"1\" class=\"dataframe\">\n",
       "  <thead>\n",
       "    <tr style=\"text-align: right;\">\n",
       "      <th></th>\n",
       "      <th>user_id</th>\n",
       "      <th>first_date</th>\n",
       "      <th>region</th>\n",
       "      <th>device</th>\n",
       "    </tr>\n",
       "  </thead>\n",
       "  <tbody>\n",
       "    <tr>\n",
       "      <th>0</th>\n",
       "      <td>D72A72121175D8BE</td>\n",
       "      <td>2020-12-07</td>\n",
       "      <td>EU</td>\n",
       "      <td>PC</td>\n",
       "    </tr>\n",
       "    <tr>\n",
       "      <th>1</th>\n",
       "      <td>F1C668619DFE6E65</td>\n",
       "      <td>2020-12-07</td>\n",
       "      <td>N.America</td>\n",
       "      <td>Android</td>\n",
       "    </tr>\n",
       "    <tr>\n",
       "      <th>2</th>\n",
       "      <td>2E1BF1D4C37EA01F</td>\n",
       "      <td>2020-12-07</td>\n",
       "      <td>EU</td>\n",
       "      <td>PC</td>\n",
       "    </tr>\n",
       "  </tbody>\n",
       "</table>\n",
       "</div>"
      ],
      "text/plain": [
       "            user_id  first_date     region   device\n",
       "0  D72A72121175D8BE  2020-12-07         EU       PC\n",
       "1  F1C668619DFE6E65  2020-12-07  N.America  Android\n",
       "2  2E1BF1D4C37EA01F  2020-12-07         EU       PC"
      ]
     },
     "metadata": {},
     "output_type": "display_data"
    },
    {
     "name": "stdout",
     "output_type": "stream",
     "text": [
      "**************************************************\n",
      "\n",
      "<class 'pandas.core.frame.DataFrame'>\n",
      "RangeIndex: 440317 entries, 0 to 440316\n",
      "Data columns (total 4 columns):\n",
      " #   Column      Non-Null Count   Dtype  \n",
      "---  ------      --------------   -----  \n",
      " 0   user_id     440317 non-null  object \n",
      " 1   event_dt    440317 non-null  object \n",
      " 2   event_name  440317 non-null  object \n",
      " 3   details     62740 non-null   float64\n",
      "dtypes: float64(1), object(3)\n",
      "memory usage: 13.4+ MB\n"
     ]
    },
    {
     "data": {
      "text/plain": [
       "None"
      ]
     },
     "metadata": {},
     "output_type": "display_data"
    },
    {
     "data": {
      "text/html": [
       "<div>\n",
       "<style scoped>\n",
       "    .dataframe tbody tr th:only-of-type {\n",
       "        vertical-align: middle;\n",
       "    }\n",
       "\n",
       "    .dataframe tbody tr th {\n",
       "        vertical-align: top;\n",
       "    }\n",
       "\n",
       "    .dataframe thead th {\n",
       "        text-align: right;\n",
       "    }\n",
       "</style>\n",
       "<table border=\"1\" class=\"dataframe\">\n",
       "  <thead>\n",
       "    <tr style=\"text-align: right;\">\n",
       "      <th></th>\n",
       "      <th>user_id</th>\n",
       "      <th>event_dt</th>\n",
       "      <th>event_name</th>\n",
       "      <th>details</th>\n",
       "    </tr>\n",
       "  </thead>\n",
       "  <tbody>\n",
       "    <tr>\n",
       "      <th>0</th>\n",
       "      <td>E1BDDCE0DAFA2679</td>\n",
       "      <td>2020-12-07 20:22:03</td>\n",
       "      <td>purchase</td>\n",
       "      <td>99.99</td>\n",
       "    </tr>\n",
       "    <tr>\n",
       "      <th>1</th>\n",
       "      <td>7B6452F081F49504</td>\n",
       "      <td>2020-12-07 09:22:53</td>\n",
       "      <td>purchase</td>\n",
       "      <td>9.99</td>\n",
       "    </tr>\n",
       "    <tr>\n",
       "      <th>2</th>\n",
       "      <td>9CD9F34546DF254C</td>\n",
       "      <td>2020-12-07 12:59:29</td>\n",
       "      <td>purchase</td>\n",
       "      <td>4.99</td>\n",
       "    </tr>\n",
       "  </tbody>\n",
       "</table>\n",
       "</div>"
      ],
      "text/plain": [
       "            user_id             event_dt event_name  details\n",
       "0  E1BDDCE0DAFA2679  2020-12-07 20:22:03   purchase    99.99\n",
       "1  7B6452F081F49504  2020-12-07 09:22:53   purchase     9.99\n",
       "2  9CD9F34546DF254C  2020-12-07 12:59:29   purchase     4.99"
      ]
     },
     "metadata": {},
     "output_type": "display_data"
    },
    {
     "name": "stdout",
     "output_type": "stream",
     "text": [
      "**************************************************\n",
      "\n",
      "<class 'pandas.core.frame.DataFrame'>\n",
      "RangeIndex: 18268 entries, 0 to 18267\n",
      "Data columns (total 3 columns):\n",
      " #   Column   Non-Null Count  Dtype \n",
      "---  ------   --------------  ----- \n",
      " 0   user_id  18268 non-null  object\n",
      " 1   group    18268 non-null  object\n",
      " 2   ab_test  18268 non-null  object\n",
      "dtypes: object(3)\n",
      "memory usage: 428.3+ KB\n"
     ]
    },
    {
     "data": {
      "text/plain": [
       "None"
      ]
     },
     "metadata": {},
     "output_type": "display_data"
    },
    {
     "data": {
      "text/html": [
       "<div>\n",
       "<style scoped>\n",
       "    .dataframe tbody tr th:only-of-type {\n",
       "        vertical-align: middle;\n",
       "    }\n",
       "\n",
       "    .dataframe tbody tr th {\n",
       "        vertical-align: top;\n",
       "    }\n",
       "\n",
       "    .dataframe thead th {\n",
       "        text-align: right;\n",
       "    }\n",
       "</style>\n",
       "<table border=\"1\" class=\"dataframe\">\n",
       "  <thead>\n",
       "    <tr style=\"text-align: right;\">\n",
       "      <th></th>\n",
       "      <th>user_id</th>\n",
       "      <th>group</th>\n",
       "      <th>ab_test</th>\n",
       "    </tr>\n",
       "  </thead>\n",
       "  <tbody>\n",
       "    <tr>\n",
       "      <th>0</th>\n",
       "      <td>D1ABA3E2887B6A73</td>\n",
       "      <td>A</td>\n",
       "      <td>recommender_system_test</td>\n",
       "    </tr>\n",
       "    <tr>\n",
       "      <th>1</th>\n",
       "      <td>A7A3664BD6242119</td>\n",
       "      <td>A</td>\n",
       "      <td>recommender_system_test</td>\n",
       "    </tr>\n",
       "    <tr>\n",
       "      <th>2</th>\n",
       "      <td>DABC14FDDFADD29E</td>\n",
       "      <td>A</td>\n",
       "      <td>recommender_system_test</td>\n",
       "    </tr>\n",
       "  </tbody>\n",
       "</table>\n",
       "</div>"
      ],
      "text/plain": [
       "            user_id group                  ab_test\n",
       "0  D1ABA3E2887B6A73     A  recommender_system_test\n",
       "1  A7A3664BD6242119     A  recommender_system_test\n",
       "2  DABC14FDDFADD29E     A  recommender_system_test"
      ]
     },
     "metadata": {},
     "output_type": "display_data"
    },
    {
     "name": "stdout",
     "output_type": "stream",
     "text": [
      "**************************************************\n",
      "\n"
     ]
    }
   ],
   "source": [
    "# У нас целых 4 датасета, удобно будет сразу создать функцию для просмотра данных\n",
    "for df in [marketing_events, new_users, events, participants]:\n",
    "    display(df.info())\n",
    "    display(df.head(3))\n",
    "    print('*'*50)\n",
    "    print()"
   ]
  },
  {
   "cell_type": "markdown",
   "metadata": {},
   "source": [
    "На первый взгляд в основном всё корректно, даже названия столбцов уже в правильном 'змеином регистре'.<br>\n",
    "\n",
    "Только в таблице 'events' есть пропуски в столбце 'details' (в нём дополнительные данные о событии, например, для покупок, purchase, в этом поле хранится стоимость покупки в долларах).\n",
    "\n",
    "Возможно, причина пропусков - отсутствие покупок, да и заполнение этого столбца не обязательно, так как пользователь мог не платить. <br>\n",
    "Проверим:"
   ]
  },
  {
   "cell_type": "code",
   "execution_count": 4,
   "metadata": {},
   "outputs": [
    {
     "data": {
      "text/plain": [
       "login           189552\n",
       "product_page    125563\n",
       "purchase         62740\n",
       "product_cart     62462\n",
       "Name: event_name, dtype: int64"
      ]
     },
     "execution_count": 4,
     "metadata": {},
     "output_type": "execute_result"
    }
   ],
   "source": [
    "# Посчитаем количество всех событий в столбце 'event_name'\n",
    "events['event_name'].value_counts()"
   ]
  },
  {
   "cell_type": "markdown",
   "metadata": {},
   "source": [
    "Количество данных по событию 'purchase' ровно такое же, как и количество записей в столбце 'details', а все события в сумме дают нам число 440317 - в датасете именно столько строк.<br>\n",
    "\n",
    "Оставим пропуски без изменений, можно обойтись и без доп.информации."
   ]
  },
  {
   "cell_type": "markdown",
   "metadata": {},
   "source": [
    "Также тип данных в столбцах с датой и временем необходимо скорректировать:\n",
    "\n",
    " - столбцы 'start_dt' и 'finish_dt' в таблице marketing_events,\n",
    " - столбец 'first_date' в таблице new_users,\n",
    " - столбец 'event_dt' в таблице events."
   ]
  },
  {
   "cell_type": "code",
   "execution_count": 5,
   "metadata": {},
   "outputs": [
    {
     "name": "stdout",
     "output_type": "stream",
     "text": [
      "\n",
      "<class 'pandas.core.frame.DataFrame'>\n",
      "RangeIndex: 14 entries, 0 to 13\n",
      "Data columns (total 4 columns):\n",
      " #   Column     Non-Null Count  Dtype         \n",
      "---  ------     --------------  -----         \n",
      " 0   name       14 non-null     object        \n",
      " 1   regions    14 non-null     object        \n",
      " 2   start_dt   14 non-null     datetime64[ns]\n",
      " 3   finish_dt  14 non-null     datetime64[ns]\n",
      "dtypes: datetime64[ns](2), object(2)\n",
      "memory usage: 576.0+ bytes\n"
     ]
    },
    {
     "data": {
      "text/plain": [
       "None"
      ]
     },
     "metadata": {},
     "output_type": "display_data"
    },
    {
     "name": "stdout",
     "output_type": "stream",
     "text": [
      "\n",
      "<class 'pandas.core.frame.DataFrame'>\n",
      "RangeIndex: 61733 entries, 0 to 61732\n",
      "Data columns (total 4 columns):\n",
      " #   Column      Non-Null Count  Dtype         \n",
      "---  ------      --------------  -----         \n",
      " 0   user_id     61733 non-null  object        \n",
      " 1   first_date  61733 non-null  datetime64[ns]\n",
      " 2   region      61733 non-null  object        \n",
      " 3   device      61733 non-null  object        \n",
      "dtypes: datetime64[ns](1), object(3)\n",
      "memory usage: 1.9+ MB\n"
     ]
    },
    {
     "data": {
      "text/plain": [
       "None"
      ]
     },
     "metadata": {},
     "output_type": "display_data"
    },
    {
     "name": "stdout",
     "output_type": "stream",
     "text": [
      "\n",
      "<class 'pandas.core.frame.DataFrame'>\n",
      "RangeIndex: 440317 entries, 0 to 440316\n",
      "Data columns (total 4 columns):\n",
      " #   Column      Non-Null Count   Dtype         \n",
      "---  ------      --------------   -----         \n",
      " 0   user_id     440317 non-null  object        \n",
      " 1   event_dt    440317 non-null  datetime64[ns]\n",
      " 2   event_name  440317 non-null  object        \n",
      " 3   details     62740 non-null   float64       \n",
      "dtypes: datetime64[ns](1), float64(1), object(2)\n",
      "memory usage: 13.4+ MB\n"
     ]
    },
    {
     "data": {
      "text/plain": [
       "None"
      ]
     },
     "metadata": {},
     "output_type": "display_data"
    }
   ],
   "source": [
    "# Скорректируем типы данных\n",
    "marketing_events['start_dt'] = pd.to_datetime(marketing_events['start_dt'])\n",
    "marketing_events['finish_dt'] = pd.to_datetime(marketing_events['finish_dt'])\n",
    "new_users['first_date'] = pd.to_datetime(new_users['first_date'])\n",
    "events['event_dt'] = pd.to_datetime(events['event_dt'], format='%Y-%m-%d %H:%M:%S')\n",
    "\n",
    "# Проверим результат\n",
    "for df in [marketing_events, new_users, events]:\n",
    "    print()\n",
    "    display(df.info())"
   ]
  },
  {
   "cell_type": "markdown",
   "metadata": {},
   "source": [
    "Теперь проверка на дубликаты"
   ]
  },
  {
   "cell_type": "code",
   "execution_count": 6,
   "metadata": {},
   "outputs": [
    {
     "name": "stdout",
     "output_type": "stream",
     "text": [
      "\n",
      " Найдено дубликатов в датасете: 0\n",
      "\n",
      "\n",
      " Найдено дубликатов в датасете: 0\n",
      "\n",
      "\n",
      " Найдено дубликатов в датасете: 0\n",
      "\n",
      "\n",
      " Найдено дубликатов в датасете: 0\n",
      "\n"
     ]
    }
   ],
   "source": [
    "# Снова создадим функцию\n",
    "for df in [marketing_events, new_users, events, participants]:\n",
    "    print('\\n Найдено дубликатов в датасете: {}\\n'.format(df.duplicated().sum()))"
   ]
  },
  {
   "cell_type": "markdown",
   "metadata": {},
   "source": [
    "Отлично, дубликатов нет"
   ]
  },
  {
   "cell_type": "markdown",
   "metadata": {},
   "source": [
    "**Вывод по знакомству с данными и предобработке**\n",
    "\n",
    " - Названия столбцов уже были в правильном 'змеином регистре', корректировать не понадобилось.\n",
    "<br>\n",
    "\n",
    " - В таблице 'events' мы нашли пропуски в столбце 'details' (содержащий дополнительные данные о событии).<br>\n",
    "   Мы выяснили, что возможная причина пропусков - отсутствие покупок, кроме того, заполнение этого столбца не обязательно, так как пользователь мог не платить.<br>\n",
    "   Решили оставить пропуски без изменений, можно обойтись и без доп.информации.\n",
    "<br>\n",
    "\n",
    "- Также тип данных в столбцах с датой и временем необходимо было скорректировать:\n",
    "  - столбцы 'start_dt' и 'finish_dt' в таблице marketing_events,\n",
    "  - столбец 'first_date' в таблице new_users,\n",
    "  - столбец 'event_dt' в таблице events.\n",
    "<br>\n",
    "\n",
    "\n",
    "- Дубликаты в 4 датафрймах мы не обнаружили."
   ]
  },
  {
   "cell_type": "markdown",
   "metadata": {},
   "source": [
    "### Оценка корректности проведения теста"
   ]
  },
  {
   "cell_type": "markdown",
   "metadata": {},
   "source": [
    "Проверим проведенный тест на соответствие пунктам технического задания.<br>\n",
    "Вспомним, как оно звучит:\n",
    "\n",
    "- Название теста: `recommender_system_test`;\n",
    "- группы: А — контрольная, B — новая платёжная воронка;\n",
    "- дата запуска: 2020-12-07;\n",
    "- дата остановки набора новых пользователей: 2020-12-21;\n",
    "- дата остановки: 2021-01-04;\n",
    "- аудитория: 15% новых пользователей из региона EU;\n",
    "- назначение теста: тестирование изменений, связанных с внедрением улучшенной рекомендательной системы;\n",
    "- ожидаемое количество участников теста: 6000.\n",
    "- ожидаемый эффект: за 14 дней с момента регистрации пользователи покажут улучшение каждой метрики не менее, чем на 10%:\n",
    "    - конверсии в просмотр карточек товаров — событие `product_page`,\n",
    "    - просмотры корзины — `product_cart`,\n",
    "    - покупки — `purchase`."
   ]
  },
  {
   "cell_type": "markdown",
   "metadata": {},
   "source": [
    "#### Время проведения теста\n",
    "Посмотрим, совпадает ли оно с маркетинговыми и другими активностями."
   ]
  },
  {
   "cell_type": "code",
   "execution_count": 7,
   "metadata": {
    "scrolled": true
   },
   "outputs": [
    {
     "data": {
      "text/html": [
       "<div>\n",
       "<style scoped>\n",
       "    .dataframe tbody tr th:only-of-type {\n",
       "        vertical-align: middle;\n",
       "    }\n",
       "\n",
       "    .dataframe tbody tr th {\n",
       "        vertical-align: top;\n",
       "    }\n",
       "\n",
       "    .dataframe thead th {\n",
       "        text-align: right;\n",
       "    }\n",
       "</style>\n",
       "<table border=\"1\" class=\"dataframe\">\n",
       "  <thead>\n",
       "    <tr style=\"text-align: right;\">\n",
       "      <th></th>\n",
       "      <th>name</th>\n",
       "      <th>regions</th>\n",
       "      <th>start_dt</th>\n",
       "      <th>finish_dt</th>\n",
       "    </tr>\n",
       "  </thead>\n",
       "  <tbody>\n",
       "    <tr>\n",
       "      <th>6</th>\n",
       "      <td>Chinese New Year Promo</td>\n",
       "      <td>APAC</td>\n",
       "      <td>2020-01-25</td>\n",
       "      <td>2020-02-07</td>\n",
       "    </tr>\n",
       "    <tr>\n",
       "      <th>1</th>\n",
       "      <td>St. Valentine's Day Giveaway</td>\n",
       "      <td>EU, CIS, APAC, N.America</td>\n",
       "      <td>2020-02-14</td>\n",
       "      <td>2020-02-16</td>\n",
       "    </tr>\n",
       "    <tr>\n",
       "      <th>8</th>\n",
       "      <td>International Women's Day Promo</td>\n",
       "      <td>EU, CIS, APAC</td>\n",
       "      <td>2020-03-08</td>\n",
       "      <td>2020-03-10</td>\n",
       "    </tr>\n",
       "    <tr>\n",
       "      <th>2</th>\n",
       "      <td>St. Patric's Day Promo</td>\n",
       "      <td>EU, N.America</td>\n",
       "      <td>2020-03-17</td>\n",
       "      <td>2020-03-19</td>\n",
       "    </tr>\n",
       "    <tr>\n",
       "      <th>3</th>\n",
       "      <td>Easter Promo</td>\n",
       "      <td>EU, CIS, APAC, N.America</td>\n",
       "      <td>2020-04-12</td>\n",
       "      <td>2020-04-19</td>\n",
       "    </tr>\n",
       "    <tr>\n",
       "      <th>7</th>\n",
       "      <td>Labor day (May 1st) Ads Campaign</td>\n",
       "      <td>EU, CIS, APAC</td>\n",
       "      <td>2020-05-01</td>\n",
       "      <td>2020-05-03</td>\n",
       "    </tr>\n",
       "    <tr>\n",
       "      <th>9</th>\n",
       "      <td>Victory Day CIS (May 9th) Event</td>\n",
       "      <td>CIS</td>\n",
       "      <td>2020-05-09</td>\n",
       "      <td>2020-05-11</td>\n",
       "    </tr>\n",
       "    <tr>\n",
       "      <th>11</th>\n",
       "      <td>Dragon Boat Festival Giveaway</td>\n",
       "      <td>APAC</td>\n",
       "      <td>2020-06-25</td>\n",
       "      <td>2020-07-01</td>\n",
       "    </tr>\n",
       "    <tr>\n",
       "      <th>4</th>\n",
       "      <td>4th of July Promo</td>\n",
       "      <td>N.America</td>\n",
       "      <td>2020-07-04</td>\n",
       "      <td>2020-07-11</td>\n",
       "    </tr>\n",
       "    <tr>\n",
       "      <th>13</th>\n",
       "      <td>Chinese Moon Festival</td>\n",
       "      <td>APAC</td>\n",
       "      <td>2020-10-01</td>\n",
       "      <td>2020-10-07</td>\n",
       "    </tr>\n",
       "    <tr>\n",
       "      <th>12</th>\n",
       "      <td>Single's Day Gift Promo</td>\n",
       "      <td>APAC</td>\n",
       "      <td>2020-11-11</td>\n",
       "      <td>2020-11-12</td>\n",
       "    </tr>\n",
       "    <tr>\n",
       "      <th>5</th>\n",
       "      <td>Black Friday Ads Campaign</td>\n",
       "      <td>EU, CIS, APAC, N.America</td>\n",
       "      <td>2020-11-26</td>\n",
       "      <td>2020-12-01</td>\n",
       "    </tr>\n",
       "    <tr>\n",
       "      <th>0</th>\n",
       "      <td>Christmas&amp;New Year Promo</td>\n",
       "      <td>EU, N.America</td>\n",
       "      <td>2020-12-25</td>\n",
       "      <td>2021-01-03</td>\n",
       "    </tr>\n",
       "    <tr>\n",
       "      <th>10</th>\n",
       "      <td>CIS New Year Gift Lottery</td>\n",
       "      <td>CIS</td>\n",
       "      <td>2020-12-30</td>\n",
       "      <td>2021-01-07</td>\n",
       "    </tr>\n",
       "  </tbody>\n",
       "</table>\n",
       "</div>"
      ],
      "text/plain": [
       "                                name                   regions   start_dt  \\\n",
       "6             Chinese New Year Promo                      APAC 2020-01-25   \n",
       "1       St. Valentine's Day Giveaway  EU, CIS, APAC, N.America 2020-02-14   \n",
       "8    International Women's Day Promo             EU, CIS, APAC 2020-03-08   \n",
       "2             St. Patric's Day Promo             EU, N.America 2020-03-17   \n",
       "3                       Easter Promo  EU, CIS, APAC, N.America 2020-04-12   \n",
       "7   Labor day (May 1st) Ads Campaign             EU, CIS, APAC 2020-05-01   \n",
       "9    Victory Day CIS (May 9th) Event                       CIS 2020-05-09   \n",
       "11     Dragon Boat Festival Giveaway                      APAC 2020-06-25   \n",
       "4                  4th of July Promo                 N.America 2020-07-04   \n",
       "13             Chinese Moon Festival                      APAC 2020-10-01   \n",
       "12           Single's Day Gift Promo                      APAC 2020-11-11   \n",
       "5          Black Friday Ads Campaign  EU, CIS, APAC, N.America 2020-11-26   \n",
       "0           Christmas&New Year Promo             EU, N.America 2020-12-25   \n",
       "10         CIS New Year Gift Lottery                       CIS 2020-12-30   \n",
       "\n",
       "    finish_dt  \n",
       "6  2020-02-07  \n",
       "1  2020-02-16  \n",
       "8  2020-03-10  \n",
       "2  2020-03-19  \n",
       "3  2020-04-19  \n",
       "7  2020-05-03  \n",
       "9  2020-05-11  \n",
       "11 2020-07-01  \n",
       "4  2020-07-11  \n",
       "13 2020-10-07  \n",
       "12 2020-11-12  \n",
       "5  2020-12-01  \n",
       "0  2021-01-03  \n",
       "10 2021-01-07  "
      ]
     },
     "execution_count": 7,
     "metadata": {},
     "output_type": "execute_result"
    }
   ],
   "source": [
    "# Сначала откроем список маркетинговых событий в порядке их проведения  \n",
    "marketing_events.sort_values(by='start_dt', ascending=True)"
   ]
  },
  {
   "cell_type": "markdown",
   "metadata": {},
   "source": [
    "Период, указанный в тех.задании - с 7 декабря 2020 по 4 января 2021 года.<br>\n",
    "Проверим проведение маркетинговых событий между этими датами."
   ]
  },
  {
   "cell_type": "code",
   "execution_count": 8,
   "metadata": {},
   "outputs": [
    {
     "data": {
      "text/html": [
       "<div>\n",
       "<style scoped>\n",
       "    .dataframe tbody tr th:only-of-type {\n",
       "        vertical-align: middle;\n",
       "    }\n",
       "\n",
       "    .dataframe tbody tr th {\n",
       "        vertical-align: top;\n",
       "    }\n",
       "\n",
       "    .dataframe thead th {\n",
       "        text-align: right;\n",
       "    }\n",
       "</style>\n",
       "<table border=\"1\" class=\"dataframe\">\n",
       "  <thead>\n",
       "    <tr style=\"text-align: right;\">\n",
       "      <th></th>\n",
       "      <th>name</th>\n",
       "      <th>regions</th>\n",
       "      <th>start_dt</th>\n",
       "      <th>finish_dt</th>\n",
       "    </tr>\n",
       "  </thead>\n",
       "  <tbody>\n",
       "    <tr>\n",
       "      <th>0</th>\n",
       "      <td>Christmas&amp;New Year Promo</td>\n",
       "      <td>EU, N.America</td>\n",
       "      <td>2020-12-25</td>\n",
       "      <td>2021-01-03</td>\n",
       "    </tr>\n",
       "    <tr>\n",
       "      <th>10</th>\n",
       "      <td>CIS New Year Gift Lottery</td>\n",
       "      <td>CIS</td>\n",
       "      <td>2020-12-30</td>\n",
       "      <td>2021-01-07</td>\n",
       "    </tr>\n",
       "  </tbody>\n",
       "</table>\n",
       "</div>"
      ],
      "text/plain": [
       "                         name        regions   start_dt  finish_dt\n",
       "0    Christmas&New Year Promo  EU, N.America 2020-12-25 2021-01-03\n",
       "10  CIS New Year Gift Lottery            CIS 2020-12-30 2021-01-07"
      ]
     },
     "execution_count": 8,
     "metadata": {},
     "output_type": "execute_result"
    }
   ],
   "source": [
    "# Отфильтруем выбранный период\n",
    "marketing_events_tz = marketing_events[(marketing_events['start_dt']<=\"2021-01-04\") & (marketing_events['finish_dt']>=\"2020-12-07\")]\n",
    "marketing_events_tz"
   ]
  },
  {
   "cell_type": "markdown",
   "metadata": {},
   "source": [
    "В период нашего А/B теста проводилось 2 маркетинговых события, оба связаны с празднованием нового года:\n",
    "\n",
    " - Первое - Christmas&New Year Promo, проводилось 25.12.20 в Европе и Северной Америке\n",
    " - Второе - CIS New Year Gift Lottery, 30.12.20 в СНГ"
   ]
  },
  {
   "cell_type": "code",
   "execution_count": 9,
   "metadata": {},
   "outputs": [
    {
     "name": "stdout",
     "output_type": "stream",
     "text": [
      "Данные доступны за период: с 2020-12-07 00:00:33 по 2020-12-30 23:36:33\n",
      "Количество дней: 23 days 23:36:00\n"
     ]
    }
   ],
   "source": [
    "# Теперь выясним сроки действий новых пользователей из таблицы 'events'\n",
    "print(f\"Данные доступны за период: с {events['event_dt'].min()} по {events['event_dt'].max()}\")\n",
    "print(f\"Количество дней: {events['event_dt'].max() - events['event_dt'].min()}\")"
   ]
  },
  {
   "cell_type": "markdown",
   "metadata": {},
   "source": [
    "Эксперимент должен был продолжаться до 4 января 2021, но мы видим, что сбор данных закончился раньше - 30 декабря 2020.<br>\n",
    "Скорее всего, недостаток 4х дней связан с новогодними праздниками.<br>\n",
    "\n",
    "В итоге мы располагаем данными за почти 24 целых дня."
   ]
  },
  {
   "cell_type": "markdown",
   "metadata": {},
   "source": [
    "#### Аудитория теста"
   ]
  },
  {
   "cell_type": "markdown",
   "metadata": {},
   "source": [
    "Сначала проверим пересечение тестовой аудитории с конкурирующим тестом"
   ]
  },
  {
   "cell_type": "code",
   "execution_count": 10,
   "metadata": {},
   "outputs": [
    {
     "data": {
      "text/html": [
       "<div>\n",
       "<style scoped>\n",
       "    .dataframe tbody tr th:only-of-type {\n",
       "        vertical-align: middle;\n",
       "    }\n",
       "\n",
       "    .dataframe tbody tr th {\n",
       "        vertical-align: top;\n",
       "    }\n",
       "\n",
       "    .dataframe thead th {\n",
       "        text-align: right;\n",
       "    }\n",
       "</style>\n",
       "<table border=\"1\" class=\"dataframe\">\n",
       "  <thead>\n",
       "    <tr style=\"text-align: right;\">\n",
       "      <th></th>\n",
       "      <th>user_id</th>\n",
       "      <th>group</th>\n",
       "    </tr>\n",
       "    <tr>\n",
       "      <th>ab_test</th>\n",
       "      <th></th>\n",
       "      <th></th>\n",
       "    </tr>\n",
       "  </thead>\n",
       "  <tbody>\n",
       "    <tr>\n",
       "      <th>interface_eu_test</th>\n",
       "      <td>11567</td>\n",
       "      <td>2</td>\n",
       "    </tr>\n",
       "    <tr>\n",
       "      <th>recommender_system_test</th>\n",
       "      <td>6701</td>\n",
       "      <td>2</td>\n",
       "    </tr>\n",
       "  </tbody>\n",
       "</table>\n",
       "</div>"
      ],
      "text/plain": [
       "                         user_id  group\n",
       "ab_test                                \n",
       "interface_eu_test          11567      2\n",
       "recommender_system_test     6701      2"
      ]
     },
     "execution_count": 10,
     "metadata": {},
     "output_type": "execute_result"
    }
   ],
   "source": [
    "# Посмотрим количество уникальных записей в столбце 'ab_test'\n",
    "participants.groupby('ab_test').nunique()"
   ]
  },
  {
   "cell_type": "markdown",
   "metadata": {},
   "source": [
    "Видим названия двух тестов, наш тест - только 'recommender_system_test'.<br>"
   ]
  },
  {
   "cell_type": "code",
   "execution_count": 11,
   "metadata": {},
   "outputs": [
    {
     "data": {
      "text/html": [
       "<div>\n",
       "<style scoped>\n",
       "    .dataframe tbody tr th:only-of-type {\n",
       "        vertical-align: middle;\n",
       "    }\n",
       "\n",
       "    .dataframe tbody tr th {\n",
       "        vertical-align: top;\n",
       "    }\n",
       "\n",
       "    .dataframe thead th {\n",
       "        text-align: right;\n",
       "    }\n",
       "</style>\n",
       "<table border=\"1\" class=\"dataframe\">\n",
       "  <thead>\n",
       "    <tr style=\"text-align: right;\">\n",
       "      <th></th>\n",
       "      <th>user_id</th>\n",
       "      <th>groups</th>\n",
       "      <th>group_names</th>\n",
       "    </tr>\n",
       "  </thead>\n",
       "  <tbody>\n",
       "    <tr>\n",
       "      <th>0</th>\n",
       "      <td>001064FEAAB631A1</td>\n",
       "      <td>2</td>\n",
       "      <td>[recommender_system_test, interface_eu_test]</td>\n",
       "    </tr>\n",
       "    <tr>\n",
       "      <th>1</th>\n",
       "      <td>00341D8401F0F665</td>\n",
       "      <td>2</td>\n",
       "      <td>[recommender_system_test, interface_eu_test]</td>\n",
       "    </tr>\n",
       "    <tr>\n",
       "      <th>2</th>\n",
       "      <td>003B6786B4FF5B03</td>\n",
       "      <td>2</td>\n",
       "      <td>[recommender_system_test, interface_eu_test]</td>\n",
       "    </tr>\n",
       "  </tbody>\n",
       "</table>\n",
       "</div>"
      ],
      "text/plain": [
       "            user_id  groups                                   group_names\n",
       "0  001064FEAAB631A1       2  [recommender_system_test, interface_eu_test]\n",
       "1  00341D8401F0F665       2  [recommender_system_test, interface_eu_test]\n",
       "2  003B6786B4FF5B03       2  [recommender_system_test, interface_eu_test]"
      ]
     },
     "metadata": {},
     "output_type": "display_data"
    },
    {
     "data": {
      "text/plain": [
       "user_id        1602\n",
       "groups         1602\n",
       "group_names    1602\n",
       "dtype: int64"
      ]
     },
     "execution_count": 11,
     "metadata": {},
     "output_type": "execute_result"
    }
   ],
   "source": [
    "# Проверим пересечения пользователей в обоих тестах\n",
    "duplicated_users_by_test = participants.groupby('user_id').agg({'ab_test': ['nunique', 'unique']})\n",
    "duplicated_users_by_test.columns = ['groups', 'group_names']\n",
    "duplicated_users_by_test = duplicated_users_by_test.query('groups > 1').reset_index()\n",
    "\n",
    "display(duplicated_users_by_test.head(3))\n",
    "duplicated_users_by_test.count()"
   ]
  },
  {
   "cell_type": "markdown",
   "metadata": {},
   "source": [
    "1602 уникальных пользователя участвовали сразу в обоих тестах. Удалять их не станем, чтобы не исказить результаты.<br>\n",
    "\n",
    "Теперь проверим наличие пользователей, участвующих в двух группах нашего теста 'recommender_system_test' одновременно"
   ]
  },
  {
   "cell_type": "code",
   "execution_count": 12,
   "metadata": {},
   "outputs": [
    {
     "data": {
      "text/html": [
       "<div>\n",
       "<style scoped>\n",
       "    .dataframe tbody tr th:only-of-type {\n",
       "        vertical-align: middle;\n",
       "    }\n",
       "\n",
       "    .dataframe tbody tr th {\n",
       "        vertical-align: top;\n",
       "    }\n",
       "\n",
       "    .dataframe thead th {\n",
       "        text-align: right;\n",
       "    }\n",
       "</style>\n",
       "<table border=\"1\" class=\"dataframe\">\n",
       "  <thead>\n",
       "    <tr style=\"text-align: right;\">\n",
       "      <th></th>\n",
       "      <th>groups</th>\n",
       "      <th>group_names</th>\n",
       "    </tr>\n",
       "    <tr>\n",
       "      <th>user_id</th>\n",
       "      <th></th>\n",
       "      <th></th>\n",
       "    </tr>\n",
       "  </thead>\n",
       "  <tbody>\n",
       "  </tbody>\n",
       "</table>\n",
       "</div>"
      ],
      "text/plain": [
       "Empty DataFrame\n",
       "Columns: [groups, group_names]\n",
       "Index: []"
      ]
     },
     "metadata": {},
     "output_type": "display_data"
    },
    {
     "data": {
      "text/plain": [
       "0"
      ]
     },
     "execution_count": 12,
     "metadata": {},
     "output_type": "execute_result"
    }
   ],
   "source": [
    "duplicated_users_by_group = participants.query('ab_test == \"recommender_system_test\" ').groupby('user_id').agg({'group': ['nunique', 'unique']})\n",
    "duplicated_users_by_group.columns = ['groups', 'group_names']\n",
    "duplicated_users_by_group = duplicated_users_by_group.query('groups > 1')\n",
    "\n",
    "display(duplicated_users_by_group.head())\n",
    "len(duplicated_users_by_group)"
   ]
  },
  {
   "cell_type": "markdown",
   "metadata": {},
   "source": [
    "Зато между группами А и В нашего теста нет пересечений пользователей.<br>\n",
    "\n",
    "Теперь создадим новую таблицу, в которой будут только данные по нашему тесту 'recommender_system_test' без 'interface_eu_test'"
   ]
  },
  {
   "cell_type": "code",
   "execution_count": 13,
   "metadata": {},
   "outputs": [
    {
     "name": "stdout",
     "output_type": "stream",
     "text": [
      "<class 'pandas.core.frame.DataFrame'>\n",
      "Int64Index: 6701 entries, 0 to 6700\n",
      "Data columns (total 6 columns):\n",
      " #   Column      Non-Null Count  Dtype         \n",
      "---  ------      --------------  -----         \n",
      " 0   user_id     6701 non-null   object        \n",
      " 1   group       6701 non-null   object        \n",
      " 2   ab_test     6701 non-null   object        \n",
      " 3   first_date  6701 non-null   datetime64[ns]\n",
      " 4   region      6701 non-null   object        \n",
      " 5   device      6701 non-null   object        \n",
      "dtypes: datetime64[ns](1), object(5)\n",
      "memory usage: 366.5+ KB\n",
      "None\n"
     ]
    },
    {
     "data": {
      "text/html": [
       "<div>\n",
       "<style scoped>\n",
       "    .dataframe tbody tr th:only-of-type {\n",
       "        vertical-align: middle;\n",
       "    }\n",
       "\n",
       "    .dataframe tbody tr th {\n",
       "        vertical-align: top;\n",
       "    }\n",
       "\n",
       "    .dataframe thead th {\n",
       "        text-align: right;\n",
       "    }\n",
       "</style>\n",
       "<table border=\"1\" class=\"dataframe\">\n",
       "  <thead>\n",
       "    <tr style=\"text-align: right;\">\n",
       "      <th></th>\n",
       "      <th>user_id</th>\n",
       "      <th>group</th>\n",
       "      <th>ab_test</th>\n",
       "      <th>first_date</th>\n",
       "      <th>region</th>\n",
       "      <th>device</th>\n",
       "    </tr>\n",
       "  </thead>\n",
       "  <tbody>\n",
       "    <tr>\n",
       "      <th>0</th>\n",
       "      <td>D1ABA3E2887B6A73</td>\n",
       "      <td>A</td>\n",
       "      <td>recommender_system_test</td>\n",
       "      <td>2020-12-07</td>\n",
       "      <td>EU</td>\n",
       "      <td>PC</td>\n",
       "    </tr>\n",
       "    <tr>\n",
       "      <th>1</th>\n",
       "      <td>A7A3664BD6242119</td>\n",
       "      <td>A</td>\n",
       "      <td>recommender_system_test</td>\n",
       "      <td>2020-12-20</td>\n",
       "      <td>EU</td>\n",
       "      <td>iPhone</td>\n",
       "    </tr>\n",
       "    <tr>\n",
       "      <th>2</th>\n",
       "      <td>DABC14FDDFADD29E</td>\n",
       "      <td>A</td>\n",
       "      <td>recommender_system_test</td>\n",
       "      <td>2020-12-08</td>\n",
       "      <td>EU</td>\n",
       "      <td>Mac</td>\n",
       "    </tr>\n",
       "  </tbody>\n",
       "</table>\n",
       "</div>"
      ],
      "text/plain": [
       "            user_id group                  ab_test first_date region  device\n",
       "0  D1ABA3E2887B6A73     A  recommender_system_test 2020-12-07     EU      PC\n",
       "1  A7A3664BD6242119     A  recommender_system_test 2020-12-20     EU  iPhone\n",
       "2  DABC14FDDFADD29E     A  recommender_system_test 2020-12-08     EU     Mac"
      ]
     },
     "execution_count": 13,
     "metadata": {},
     "output_type": "execute_result"
    }
   ],
   "source": [
    "participants_clean = participants.loc[participants['ab_test'] == \"recommender_system_test\"]\n",
    "\n",
    "# Объединим эту очищенную таблицу с участниками и таблицу новых пользователей new_users по общим значениям 'user_id'\n",
    "participants_and_users = pd.merge(participants_clean, new_users, on = 'user_id')\n",
    "\n",
    "print(participants_and_users.info())\n",
    "participants_and_users.head(3)"
   ]
  },
  {
   "cell_type": "markdown",
   "metadata": {},
   "source": [
    "После слияния - 6701 уникальный пользователь."
   ]
  },
  {
   "cell_type": "markdown",
   "metadata": {},
   "source": [
    "#### % новых пользователей из региона EU\n",
    "\n",
    "По тех.заданию должно быть 15%."
   ]
  },
  {
   "cell_type": "code",
   "execution_count": 14,
   "metadata": {},
   "outputs": [
    {
     "data": {
      "text/html": [
       "<div>\n",
       "<style scoped>\n",
       "    .dataframe tbody tr th:only-of-type {\n",
       "        vertical-align: middle;\n",
       "    }\n",
       "\n",
       "    .dataframe tbody tr th {\n",
       "        vertical-align: top;\n",
       "    }\n",
       "\n",
       "    .dataframe thead th {\n",
       "        text-align: right;\n",
       "    }\n",
       "</style>\n",
       "<table border=\"1\" class=\"dataframe\">\n",
       "  <thead>\n",
       "    <tr style=\"text-align: right;\">\n",
       "      <th></th>\n",
       "      <th>region</th>\n",
       "      <th>user_id</th>\n",
       "      <th>%_of_all</th>\n",
       "    </tr>\n",
       "  </thead>\n",
       "  <tbody>\n",
       "    <tr>\n",
       "      <th>2</th>\n",
       "      <td>EU</td>\n",
       "      <td>6351</td>\n",
       "      <td>94.78</td>\n",
       "    </tr>\n",
       "    <tr>\n",
       "      <th>3</th>\n",
       "      <td>N.America</td>\n",
       "      <td>223</td>\n",
       "      <td>3.33</td>\n",
       "    </tr>\n",
       "    <tr>\n",
       "      <th>0</th>\n",
       "      <td>APAC</td>\n",
       "      <td>72</td>\n",
       "      <td>1.07</td>\n",
       "    </tr>\n",
       "    <tr>\n",
       "      <th>1</th>\n",
       "      <td>CIS</td>\n",
       "      <td>55</td>\n",
       "      <td>0.82</td>\n",
       "    </tr>\n",
       "  </tbody>\n",
       "</table>\n",
       "</div>"
      ],
      "text/plain": [
       "      region  user_id  %_of_all\n",
       "2         EU     6351     94.78\n",
       "3  N.America      223      3.33\n",
       "0       APAC       72      1.07\n",
       "1        CIS       55      0.82"
      ]
     },
     "execution_count": 14,
     "metadata": {},
     "output_type": "execute_result"
    }
   ],
   "source": [
    "# Сгруппируем участников по регионам проведения теста\n",
    "users_by_region = participants_and_users.groupby('region').agg({'user_id': 'nunique'}).reset_index().sort_values(by='user_id', ascending=False)\n",
    "users_by_region['%_of_all'] = (users_by_region['user_id']*100 / users_by_region['user_id'].sum()).round(2)\n",
    "users_by_region"
   ]
  },
  {
   "cell_type": "code",
   "execution_count": 15,
   "metadata": {},
   "outputs": [
    {
     "data": {
      "text/plain": [
       "15.0"
      ]
     },
     "execution_count": 15,
     "metadata": {},
     "output_type": "execute_result"
    }
   ],
   "source": [
    "# Посчитаем долю тестируемых пользователей от общего количества пользователей из Европы \n",
    "len(participants_and_users.query('region == \"EU\"')) / len(new_users.query('region == \"EU\" & first_date <= \"2020-12-21\"'))*100"
   ]
  },
  {
   "cell_type": "markdown",
   "metadata": {},
   "source": [
    "Как раз 15% - соответствует тех.заданию."
   ]
  },
  {
   "cell_type": "markdown",
   "metadata": {},
   "source": [
    "#### Дата остановки набора новых пользователей"
   ]
  },
  {
   "cell_type": "code",
   "execution_count": 16,
   "metadata": {},
   "outputs": [
    {
     "name": "stdout",
     "output_type": "stream",
     "text": [
      "Данные доступны за период: с 2020-12-07 00:00:00 по 2020-12-21 00:00:00\n",
      "Количество дней набора пользователей: 14 days 00:00:00\n"
     ]
    }
   ],
   "source": [
    "print(f\"Данные доступны за период: с {participants_and_users['first_date'].min()} по {participants_and_users['first_date'].max()}\")\n",
    "print(f\"Количество дней набора пользователей: {participants_and_users['first_date'].max() - participants_and_users['first_date'].min()}\")"
   ]
  },
  {
   "cell_type": "markdown",
   "metadata": {},
   "source": [
    "По тех.заданию та же дата, 21 декабря 2020 года, это сходится."
   ]
  },
  {
   "cell_type": "markdown",
   "metadata": {},
   "source": [
    "#### Равномерность распределения участников по группам"
   ]
  },
  {
   "cell_type": "code",
   "execution_count": 17,
   "metadata": {},
   "outputs": [
    {
     "data": {
      "text/html": [
       "<div>\n",
       "<style scoped>\n",
       "    .dataframe tbody tr th:only-of-type {\n",
       "        vertical-align: middle;\n",
       "    }\n",
       "\n",
       "    .dataframe tbody tr th {\n",
       "        vertical-align: top;\n",
       "    }\n",
       "\n",
       "    .dataframe thead th {\n",
       "        text-align: right;\n",
       "    }\n",
       "</style>\n",
       "<table border=\"1\" class=\"dataframe\">\n",
       "  <thead>\n",
       "    <tr style=\"text-align: right;\">\n",
       "      <th></th>\n",
       "      <th>test_group</th>\n",
       "      <th>users</th>\n",
       "      <th>%_of_all_users</th>\n",
       "    </tr>\n",
       "  </thead>\n",
       "  <tbody>\n",
       "    <tr>\n",
       "      <th>0</th>\n",
       "      <td>A</td>\n",
       "      <td>3824</td>\n",
       "      <td>57.07</td>\n",
       "    </tr>\n",
       "    <tr>\n",
       "      <th>1</th>\n",
       "      <td>B</td>\n",
       "      <td>2877</td>\n",
       "      <td>42.93</td>\n",
       "    </tr>\n",
       "  </tbody>\n",
       "</table>\n",
       "</div>"
      ],
      "text/plain": [
       "  test_group  users  %_of_all_users\n",
       "0          A   3824           57.07\n",
       "1          B   2877           42.93"
      ]
     },
     "execution_count": 17,
     "metadata": {},
     "output_type": "execute_result"
    }
   ],
   "source": [
    "# Сгруппируем участников по группам теста\n",
    "participants_by_groups = participants_and_users.groupby('group').agg({'user_id': 'nunique'}).reset_index()\n",
    "participants_by_groups.columns = ['test_group', 'users']\n",
    "participants_by_groups['%_of_all_users'] = (participants_by_groups['users']*100 / participants_by_groups['users'].sum()).round(2)\n",
    "\n",
    "participants_by_groups"
   ]
  },
  {
   "cell_type": "markdown",
   "metadata": {},
   "source": [
    "Распределение неравномерное, перевес на 7% (почти 1000 участников) в сторону контрольной группы 'A'"
   ]
  },
  {
   "cell_type": "markdown",
   "metadata": {},
   "source": [
    "#### Воронка событий и конверсия\n",
    "<a id='shift'></a>"
   ]
  },
  {
   "cell_type": "code",
   "execution_count": 18,
   "metadata": {},
   "outputs": [
    {
     "data": {
      "text/html": [
       "<div>\n",
       "<style scoped>\n",
       "    .dataframe tbody tr th:only-of-type {\n",
       "        vertical-align: middle;\n",
       "    }\n",
       "\n",
       "    .dataframe tbody tr th {\n",
       "        vertical-align: top;\n",
       "    }\n",
       "\n",
       "    .dataframe thead th {\n",
       "        text-align: right;\n",
       "    }\n",
       "</style>\n",
       "<table border=\"1\" class=\"dataframe\">\n",
       "  <thead>\n",
       "    <tr style=\"text-align: right;\">\n",
       "      <th></th>\n",
       "      <th>event_name</th>\n",
       "      <th>events_quantity</th>\n",
       "    </tr>\n",
       "  </thead>\n",
       "  <tbody>\n",
       "    <tr>\n",
       "      <th>0</th>\n",
       "      <td>login</td>\n",
       "      <td>58697</td>\n",
       "    </tr>\n",
       "    <tr>\n",
       "      <th>1</th>\n",
       "      <td>product_cart</td>\n",
       "      <td>19284</td>\n",
       "    </tr>\n",
       "    <tr>\n",
       "      <th>2</th>\n",
       "      <td>product_page</td>\n",
       "      <td>38929</td>\n",
       "    </tr>\n",
       "    <tr>\n",
       "      <th>3</th>\n",
       "      <td>purchase</td>\n",
       "      <td>19569</td>\n",
       "    </tr>\n",
       "  </tbody>\n",
       "</table>\n",
       "</div>"
      ],
      "text/plain": [
       "     event_name  events_quantity\n",
       "0         login            58697\n",
       "1  product_cart            19284\n",
       "2  product_page            38929\n",
       "3      purchase            19569"
      ]
     },
     "execution_count": 18,
     "metadata": {},
     "output_type": "execute_result"
    }
   ],
   "source": [
    "# Сгруппируем уникальных пользователей по событиям\n",
    "events_funnel = events.groupby('event_name').agg({'user_id':'nunique'}).reset_index()\n",
    "events_funnel.rename(columns={'user_id': 'events_quantity'}, inplace=True)\n",
    "\n",
    "events_funnel"
   ]
  },
  {
   "cell_type": "code",
   "execution_count": 19,
   "metadata": {},
   "outputs": [
    {
     "name": "stdout",
     "output_type": "stream",
     "text": [
      "% пользователей перешедших на второй этап: 66\n",
      "% пользователей перешедших на третий этап: 50\n"
     ]
    }
   ],
   "source": [
    "# Посчитаем конверсию между шагами\n",
    "conversion_step2 = round(38929/58697*100)\n",
    "conversion_step3 = round(19569/38929*100)\n",
    "\n",
    "print('% пользователей перешедших на второй этап: {}'.format(conversion_step2))\n",
    "print('% пользователей перешедших на третий этап: {}'.format(conversion_step3))"
   ]
  },
  {
   "cell_type": "markdown",
   "metadata": {},
   "source": [
    "Выводы по конверсии:\n",
    " - На втором шаге теряется 34% пользователей,\n",
    " - Больше всего теряется пользователей на третьем шаге: только 50% пользователей совершают покупку после просмотра страницы с товаром. \n",
    " - На шаге 'purchase' (покупки товара) количество событий больше, чем на стадии 'product_cart' (корзина).<br>\n",
    "   Странно, но, видимо, есть возможность совершить покупку напрямую без корзины."
   ]
  },
  {
   "cell_type": "markdown",
   "metadata": {},
   "source": [
    "#### Вывод по оценке корректности проведения теста"
   ]
  },
  {
   "cell_type": "markdown",
   "metadata": {},
   "source": [
    "**Время проведения теста**\n",
    " - Дата запуска: 2020-12-07, соответствует тех.заданию,\n",
    " - Эксперимент должен был продолжаться до 4 января 2021, но сбор данных закончился раньше - 30 декабря 2020,\n",
    " - В исследуемый период было проведено 2 маркетинговых события.\n",
    "\n",
    "**Аудитория теста**\n",
    " - В тесте участвуют 6701 пользователей (ожидаемое количество участников 6000),\n",
    " - 1602 пользователя участвовали сразу в 2х тестах,\n",
    " - Распределение пользователей по тестовым группам не пропорциональное.<br>\n",
    "   В контрольной группе 'А' 57% пользователей.\n",
    "\n",
    "**% новых пользователей из региона EU**\n",
    " - Совпадает с тех.заданием, 15%.\n",
    "\n",
    "**Дата остановки набора новых пользователей**\n",
    " - Совпадает с тех.заданием, это 21 декабря 2020 года."
   ]
  },
  {
   "cell_type": "markdown",
   "metadata": {},
   "source": [
    "### Исследовательский анализ данных"
   ]
  },
  {
   "cell_type": "markdown",
   "metadata": {},
   "source": [
    "#### События в пределах 14 дней и их количество на пользователя\n",
    "Сначала ограничим действия, которые произошли в пределах 14 дней, согласно тех.заданию."
   ]
  },
  {
   "cell_type": "code",
   "execution_count": 20,
   "metadata": {},
   "outputs": [
    {
     "data": {
      "text/html": [
       "<div>\n",
       "<style scoped>\n",
       "    .dataframe tbody tr th:only-of-type {\n",
       "        vertical-align: middle;\n",
       "    }\n",
       "\n",
       "    .dataframe tbody tr th {\n",
       "        vertical-align: top;\n",
       "    }\n",
       "\n",
       "    .dataframe thead th {\n",
       "        text-align: right;\n",
       "    }\n",
       "</style>\n",
       "<table border=\"1\" class=\"dataframe\">\n",
       "  <thead>\n",
       "    <tr style=\"text-align: right;\">\n",
       "      <th></th>\n",
       "      <th>user_id</th>\n",
       "      <th>group</th>\n",
       "      <th>ab_test</th>\n",
       "      <th>first_date</th>\n",
       "      <th>region</th>\n",
       "      <th>device</th>\n",
       "      <th>event_dt</th>\n",
       "      <th>event_name</th>\n",
       "      <th>details</th>\n",
       "      <th>event_date</th>\n",
       "      <th>delta</th>\n",
       "    </tr>\n",
       "  </thead>\n",
       "  <tbody>\n",
       "    <tr>\n",
       "      <th>0</th>\n",
       "      <td>D1ABA3E2887B6A73</td>\n",
       "      <td>A</td>\n",
       "      <td>recommender_system_test</td>\n",
       "      <td>2020-12-07</td>\n",
       "      <td>EU</td>\n",
       "      <td>PC</td>\n",
       "      <td>2020-12-07 14:43:27</td>\n",
       "      <td>purchase</td>\n",
       "      <td>99.99</td>\n",
       "      <td>2020-12-07</td>\n",
       "      <td>0 days</td>\n",
       "    </tr>\n",
       "    <tr>\n",
       "      <th>1</th>\n",
       "      <td>D1ABA3E2887B6A73</td>\n",
       "      <td>A</td>\n",
       "      <td>recommender_system_test</td>\n",
       "      <td>2020-12-07</td>\n",
       "      <td>EU</td>\n",
       "      <td>PC</td>\n",
       "      <td>2020-12-25 00:04:56</td>\n",
       "      <td>purchase</td>\n",
       "      <td>4.99</td>\n",
       "      <td>2020-12-25</td>\n",
       "      <td>18 days</td>\n",
       "    </tr>\n",
       "    <tr>\n",
       "      <th>2</th>\n",
       "      <td>D1ABA3E2887B6A73</td>\n",
       "      <td>A</td>\n",
       "      <td>recommender_system_test</td>\n",
       "      <td>2020-12-07</td>\n",
       "      <td>EU</td>\n",
       "      <td>PC</td>\n",
       "      <td>2020-12-07 14:43:29</td>\n",
       "      <td>product_cart</td>\n",
       "      <td>NaN</td>\n",
       "      <td>2020-12-07</td>\n",
       "      <td>0 days</td>\n",
       "    </tr>\n",
       "  </tbody>\n",
       "</table>\n",
       "</div>"
      ],
      "text/plain": [
       "            user_id group                  ab_test first_date region device  \\\n",
       "0  D1ABA3E2887B6A73     A  recommender_system_test 2020-12-07     EU     PC   \n",
       "1  D1ABA3E2887B6A73     A  recommender_system_test 2020-12-07     EU     PC   \n",
       "2  D1ABA3E2887B6A73     A  recommender_system_test 2020-12-07     EU     PC   \n",
       "\n",
       "             event_dt    event_name  details event_date   delta  \n",
       "0 2020-12-07 14:43:27      purchase    99.99 2020-12-07  0 days  \n",
       "1 2020-12-25 00:04:56      purchase     4.99 2020-12-25 18 days  \n",
       "2 2020-12-07 14:43:29  product_cart      NaN 2020-12-07  0 days  "
      ]
     },
     "execution_count": 20,
     "metadata": {},
     "output_type": "execute_result"
    }
   ],
   "source": [
    "# Продолжим объединять таблицы: теперь к 'participants_and_users' добавим 'events'\n",
    "participants_users_events = pd.merge(participants_and_users, events, on = 'user_id', how='left')\n",
    "\n",
    "# Добавим столбец с датой события 'event_date' (на основе 'event_dt', но оставим только дату без точного времени события)\n",
    "participants_users_events['event_date'] = participants_users_events['event_dt'].dt.date\n",
    "participants_users_events['event_date'] = pd.to_datetime(participants_users_events['event_date'])\n",
    "\n",
    "# Добавим столбец 'delta': разница в днях между датой регистрации пользователя и совершенным действием\n",
    "participants_users_events['delta'] = participants_users_events['event_date'] - participants_users_events['first_date']\n",
    "\n",
    "participants_users_events.head(3)"
   ]
  },
  {
   "cell_type": "code",
   "execution_count": 21,
   "metadata": {},
   "outputs": [
    {
     "data": {
      "text/html": [
       "<div>\n",
       "<style scoped>\n",
       "    .dataframe tbody tr th:only-of-type {\n",
       "        vertical-align: middle;\n",
       "    }\n",
       "\n",
       "    .dataframe tbody tr th {\n",
       "        vertical-align: top;\n",
       "    }\n",
       "\n",
       "    .dataframe thead th {\n",
       "        text-align: right;\n",
       "    }\n",
       "</style>\n",
       "<table border=\"1\" class=\"dataframe\">\n",
       "  <thead>\n",
       "    <tr style=\"text-align: right;\">\n",
       "      <th></th>\n",
       "      <th>user_id</th>\n",
       "      <th>group</th>\n",
       "      <th>ab_test</th>\n",
       "      <th>first_date</th>\n",
       "      <th>region</th>\n",
       "      <th>device</th>\n",
       "      <th>event_dt</th>\n",
       "      <th>event_name</th>\n",
       "      <th>details</th>\n",
       "      <th>event_date</th>\n",
       "      <th>delta</th>\n",
       "    </tr>\n",
       "  </thead>\n",
       "  <tbody>\n",
       "    <tr>\n",
       "      <th>0</th>\n",
       "      <td>D1ABA3E2887B6A73</td>\n",
       "      <td>A</td>\n",
       "      <td>recommender_system_test</td>\n",
       "      <td>2020-12-07</td>\n",
       "      <td>EU</td>\n",
       "      <td>PC</td>\n",
       "      <td>2020-12-07 14:43:27</td>\n",
       "      <td>purchase</td>\n",
       "      <td>99.99</td>\n",
       "      <td>2020-12-07</td>\n",
       "      <td>up_to_14</td>\n",
       "    </tr>\n",
       "    <tr>\n",
       "      <th>1</th>\n",
       "      <td>D1ABA3E2887B6A73</td>\n",
       "      <td>A</td>\n",
       "      <td>recommender_system_test</td>\n",
       "      <td>2020-12-07</td>\n",
       "      <td>EU</td>\n",
       "      <td>PC</td>\n",
       "      <td>2020-12-25 00:04:56</td>\n",
       "      <td>purchase</td>\n",
       "      <td>4.99</td>\n",
       "      <td>2020-12-25</td>\n",
       "      <td>more_than_14</td>\n",
       "    </tr>\n",
       "    <tr>\n",
       "      <th>2</th>\n",
       "      <td>D1ABA3E2887B6A73</td>\n",
       "      <td>A</td>\n",
       "      <td>recommender_system_test</td>\n",
       "      <td>2020-12-07</td>\n",
       "      <td>EU</td>\n",
       "      <td>PC</td>\n",
       "      <td>2020-12-07 14:43:29</td>\n",
       "      <td>product_cart</td>\n",
       "      <td>NaN</td>\n",
       "      <td>2020-12-07</td>\n",
       "      <td>up_to_14</td>\n",
       "    </tr>\n",
       "  </tbody>\n",
       "</table>\n",
       "</div>"
      ],
      "text/plain": [
       "            user_id group                  ab_test first_date region device  \\\n",
       "0  D1ABA3E2887B6A73     A  recommender_system_test 2020-12-07     EU     PC   \n",
       "1  D1ABA3E2887B6A73     A  recommender_system_test 2020-12-07     EU     PC   \n",
       "2  D1ABA3E2887B6A73     A  recommender_system_test 2020-12-07     EU     PC   \n",
       "\n",
       "             event_dt    event_name  details event_date         delta  \n",
       "0 2020-12-07 14:43:27      purchase    99.99 2020-12-07      up_to_14  \n",
       "1 2020-12-25 00:04:56      purchase     4.99 2020-12-25  more_than_14  \n",
       "2 2020-12-07 14:43:29  product_cart      NaN 2020-12-07      up_to_14  "
      ]
     },
     "metadata": {},
     "output_type": "display_data"
    },
    {
     "data": {
      "text/plain": [
       "27724"
      ]
     },
     "metadata": {},
     "output_type": "display_data"
    }
   ],
   "source": [
    "# Создадим функцию заполнения столбца 'delta' по граничному значению в 14 дней\n",
    "def timedelta(participants_users_events):\n",
    "    delta = participants_users_events['event_date'] - participants_users_events['first_date']\n",
    "    if delta.days <= 14:\n",
    "        return 'up_to_14'\n",
    "    else:\n",
    "        return 'more_than_14'\n",
    "\n",
    "participants_users_events['delta'] = participants_users_events.apply(timedelta, axis=1)\n",
    "\n",
    "display(participants_users_events.head(3))\n",
    "display(participants_users_events['delta'].count())"
   ]
  },
  {
   "cell_type": "code",
   "execution_count": 22,
   "metadata": {},
   "outputs": [
    {
     "data": {
      "text/html": [
       "<div>\n",
       "<style scoped>\n",
       "    .dataframe tbody tr th:only-of-type {\n",
       "        vertical-align: middle;\n",
       "    }\n",
       "\n",
       "    .dataframe tbody tr th {\n",
       "        vertical-align: top;\n",
       "    }\n",
       "\n",
       "    .dataframe thead th {\n",
       "        text-align: right;\n",
       "    }\n",
       "</style>\n",
       "<table border=\"1\" class=\"dataframe\">\n",
       "  <thead>\n",
       "    <tr style=\"text-align: right;\">\n",
       "      <th></th>\n",
       "      <th>delta</th>\n",
       "      <th>user_id</th>\n",
       "      <th>%_of_users</th>\n",
       "    </tr>\n",
       "  </thead>\n",
       "  <tbody>\n",
       "    <tr>\n",
       "      <th>1</th>\n",
       "      <td>up_to_14</td>\n",
       "      <td>24070</td>\n",
       "      <td>86.82</td>\n",
       "    </tr>\n",
       "    <tr>\n",
       "      <th>0</th>\n",
       "      <td>more_than_14</td>\n",
       "      <td>3654</td>\n",
       "      <td>13.18</td>\n",
       "    </tr>\n",
       "  </tbody>\n",
       "</table>\n",
       "</div>"
      ],
      "text/plain": [
       "          delta  user_id  %_of_users\n",
       "1      up_to_14    24070       86.82\n",
       "0  more_than_14     3654       13.18"
      ]
     },
     "execution_count": 22,
     "metadata": {},
     "output_type": "execute_result"
    }
   ],
   "source": [
    "# Посчитаем, сколько событий попало в обе категории\n",
    "delta_type = participants_users_events.groupby('delta',as_index=False).agg({'user_id':'count'}).sort_values(by='user_id', ascending=False)\n",
    "delta_type['%_of_users'] = (delta_type['user_id']*100 / delta_type['user_id'].sum()).round(2)\n",
    "delta_type"
   ]
  },
  {
   "cell_type": "markdown",
   "metadata": {},
   "source": [
    "<a id='delta14'></a>\n",
    "Наконец, оставим события, которые укладываются в 14 дней с момента регистрации пользователя"
   ]
  },
  {
   "cell_type": "code",
   "execution_count": 23,
   "metadata": {},
   "outputs": [
    {
     "data": {
      "text/plain": [
       "['up_to_14']"
      ]
     },
     "execution_count": 23,
     "metadata": {},
     "output_type": "execute_result"
    }
   ],
   "source": [
    "participants_users_events_delta14_ok = participants_users_events.query('delta == \"up_to_14\"')\n",
    "\n",
    "# Проверим результат\n",
    "participants_users_events_delta14_ok['delta'].unique().tolist()"
   ]
  },
  {
   "cell_type": "markdown",
   "metadata": {},
   "source": [
    "Мы избавились от событий, которые произошли в период после 14 дней с момента регистрации пользователя, это 13% от общего числа событий.<br>\n",
    "\n",
    "Теперь посчитаем количество событий на пользователя."
   ]
  },
  {
   "cell_type": "code",
   "execution_count": 24,
   "metadata": {},
   "outputs": [
    {
     "name": "stdout",
     "output_type": "stream",
     "text": [
      "Среднее количество действий на пользователя\n",
      "Группа А: 7\n",
      "Группа В: 6\n"
     ]
    }
   ],
   "source": [
    "# Сгруппируем пользователей по тестовым группам и посчитаем среднее количество действий\n",
    "group_a = participants_users_events_delta14_ok.query('group == \"A\"')\n",
    "group_b = participants_users_events_delta14_ok.query('group == \"B\"')\n",
    "\n",
    "print('Среднее количество действий на пользователя')\n",
    "print('Группа А: {:.0f}'.format(group_a.groupby('user_id')['event_name'].count().mean()))\n",
    "print('Группа В: {:.0f}'.format(group_b.groupby('user_id')['event_name'].count().mean()))"
   ]
  },
  {
   "cell_type": "markdown",
   "metadata": {},
   "source": [
    "Среднее количество действий на пользователя в контрольной группе А выше, чем в тестовой группе."
   ]
  },
  {
   "cell_type": "markdown",
   "metadata": {},
   "source": [
    "#### Как число событий в выборках распределено по дням?"
   ]
  },
  {
   "cell_type": "code",
   "execution_count": 25,
   "metadata": {},
   "outputs": [
    {
     "data": {
      "image/png": "[encoded data removed]",
      "text/plain": [
       "<Figure size 1080x576 with 1 Axes>"
      ]
     },
     "metadata": {
      "needs_background": "light"
     },
     "output_type": "display_data"
    }
   ],
   "source": [
    "# Отразим распределение кол-ва событий на графике\n",
    "plt.figure(figsize=(15,8))\n",
    "plt.hist(participants_users_events_delta14_ok.query('group == \"A\"')['event_dt'], label='Группа A', bins = 24)\n",
    "plt.hist(participants_users_events_delta14_ok.query('group == \"B\"')['event_dt'], label='Группа B', color='k', bins = 24)\n",
    "plt.xlabel('Дата')\n",
    "plt.ylabel('Количество событий')\n",
    "plt.title('Распределение кол-ва событий в группах по дням')\n",
    "plt.legend(loc='right')\n",
    "plt.show()"
   ]
  },
  {
   "cell_type": "markdown",
   "metadata": {},
   "source": [
    "Заметно сильное отличие между группами: тестовая группа В в целом гораздо менее активна.<br>\n",
    "\n",
    "В отличие от группы В, бросается в глаза рост активности контрольной группы А с 14 по 25 декабря."
   ]
  },
  {
   "cell_type": "markdown",
   "metadata": {},
   "source": [
    "#### Как меняется конверсия в воронке в выборках на разных этапах?"
   ]
  },
  {
   "cell_type": "markdown",
   "metadata": {},
   "source": [
    "Изучим конверсию подробнее, по каждой группе:"
   ]
  },
  {
   "cell_type": "code",
   "execution_count": 26,
   "metadata": {},
   "outputs": [
    {
     "data": {
      "text/html": [
       "<div>\n",
       "<style scoped>\n",
       "    .dataframe tbody tr th:only-of-type {\n",
       "        vertical-align: middle;\n",
       "    }\n",
       "\n",
       "    .dataframe tbody tr th {\n",
       "        vertical-align: top;\n",
       "    }\n",
       "\n",
       "    .dataframe thead th {\n",
       "        text-align: right;\n",
       "    }\n",
       "</style>\n",
       "<table border=\"1\" class=\"dataframe\">\n",
       "  <thead>\n",
       "    <tr style=\"text-align: right;\">\n",
       "      <th>group</th>\n",
       "      <th>event_name</th>\n",
       "      <th>A</th>\n",
       "      <th>B</th>\n",
       "      <th>total</th>\n",
       "    </tr>\n",
       "  </thead>\n",
       "  <tbody>\n",
       "    <tr>\n",
       "      <th>0</th>\n",
       "      <td>login</td>\n",
       "      <td>2747</td>\n",
       "      <td>928</td>\n",
       "      <td>3675</td>\n",
       "    </tr>\n",
       "    <tr>\n",
       "      <th>1</th>\n",
       "      <td>product_page</td>\n",
       "      <td>1780</td>\n",
       "      <td>523</td>\n",
       "      <td>2303</td>\n",
       "    </tr>\n",
       "    <tr>\n",
       "      <th>2</th>\n",
       "      <td>product_cart</td>\n",
       "      <td>824</td>\n",
       "      <td>255</td>\n",
       "      <td>1079</td>\n",
       "    </tr>\n",
       "    <tr>\n",
       "      <th>3</th>\n",
       "      <td>purchase</td>\n",
       "      <td>872</td>\n",
       "      <td>256</td>\n",
       "      <td>1128</td>\n",
       "    </tr>\n",
       "  </tbody>\n",
       "</table>\n",
       "</div>"
      ],
      "text/plain": [
       "group    event_name     A    B  total\n",
       "0             login  2747  928   3675\n",
       "1      product_page  1780  523   2303\n",
       "2      product_cart   824  255   1079\n",
       "3          purchase   872  256   1128"
      ]
     },
     "execution_count": 26,
     "metadata": {},
     "output_type": "execute_result"
    }
   ],
   "source": [
    "# Создадим сводную таблицу с разбивкой по шагам воронки\n",
    "\n",
    "test_funnel = (\n",
    "    participants_users_events.pivot_table(\n",
    "    index='event_name', columns='group', values='user_id', aggfunc='nunique')\n",
    "    .sort_values(by='A', ascending=False).reindex(['login', 'product_page', 'product_cart', 'purchase']).reset_index(drop=False)\n",
    "    )\n",
    "\n",
    "# Добавим сумму пользователей по каждому событию \n",
    "test_funnel['total'] = test_funnel.sum(axis=1)\n",
    "\n",
    "test_funnel"
   ]
  },
  {
   "cell_type": "code",
   "execution_count": 29,
   "metadata": {},
   "outputs": [
    {
     "data": {
      "application/vnd.plotly.v1+json": {
       "config": {
        "plotlyServerURL": "https://plot.ly"
       },
       "data": [
        {
         "name": "A",
         "type": "funnel",
         "x": [
          2747,
          1780,
          824,
          872
         ],
         "xaxis": "x",
         "y": [
          "login",
          "product_page",
          "product_cart",
          "purchase"
         ],
         "yaxis": "y"
        },
        {
         "name": "B",
         "type": "funnel",
         "x": [
          928,
          523,
          255,
          256
         ],
         "xaxis": "x2",
         "y": [
          "login",
          "product_page",
          "product_cart",
          "purchase"
         ],
         "yaxis": "y2"
        }
       ],
       "layout": {
        "annotations": [
         {
          "font": {
           "size": 16
          },
          "showarrow": false,
          "text": "Группа A",
          "x": 0.225,
          "xanchor": "center",
          "xref": "paper",
          "y": 1,
          "yanchor": "bottom",
          "yref": "paper"
         },
         {
          "font": {
           "size": 16
          },
          "showarrow": false,
          "text": "Группа B",
          "x": 0.775,
          "xanchor": "center",
          "xref": "paper",
          "y": 1,
          "yanchor": "bottom",
          "yref": "paper"
         }
        ],
        "template": {
         "data": {
          "bar": [
           {
            "error_x": {
             "color": "#2a3f5f"
            },
            "error_y": {
             "color": "#2a3f5f"
            },
            "marker": {
             "line": {
              "color": "#E5ECF6",
              "width": 0.5
             },
             "pattern": {
              "fillmode": "overlay",
              "size": 10,
              "solidity": 0.2
             }
            },
            "type": "bar"
           }
          ],
          "barpolar": [
           {
            "marker": {
             "line": {
              "color": "#E5ECF6",
              "width": 0.5
             },
             "pattern": {
              "fillmode": "overlay",
              "size": 10,
              "solidity": 0.2
             }
            },
            "type": "barpolar"
           }
          ],
          "carpet": [
           {
            "aaxis": {
             "endlinecolor": "#2a3f5f",
             "gridcolor": "white",
             "linecolor": "white",
             "minorgridcolor": "white",
             "startlinecolor": "#2a3f5f"
            },
            "baxis": {
             "endlinecolor": "#2a3f5f",
             "gridcolor": "white",
             "linecolor": "white",
             "minorgridcolor": "white",
             "startlinecolor": "#2a3f5f"
            },
            "type": "carpet"
           }
          ],
          "choropleth": [
           {
            "colorbar": {
             "outlinewidth": 0,
             "ticks": ""
            },
            "type": "choropleth"
           }
          ],
          "contour": [
           {
            "colorbar": {
             "outlinewidth": 0,
             "ticks": ""
            },
            "colorscale": [
             [
              0,
              "#0d0887"
             ],
             [
              0.1111111111111111,
              "#46039f"
             ],
             [
              0.2222222222222222,
              "#7201a8"
             ],
             [
              0.3333333333333333,
              "#9c179e"
             ],
             [
              0.4444444444444444,
              "#bd3786"
             ],
             [
              0.5555555555555556,
              "#d8576b"
             ],
             [
              0.6666666666666666,
              "#ed7953"
             ],
             [
              0.7777777777777778,
              "#fb9f3a"
             ],
             [
              0.8888888888888888,
              "#fdca26"
             ],
             [
              1,
              "#f0f921"
             ]
            ],
            "type": "contour"
           }
          ],
          "contourcarpet": [
           {
            "colorbar": {
             "outlinewidth": 0,
             "ticks": ""
            },
            "type": "contourcarpet"
           }
          ],
          "heatmap": [
           {
            "colorbar": {
             "outlinewidth": 0,
             "ticks": ""
            },
            "colorscale": [
             [
              0,
              "#0d0887"
             ],
             [
              0.1111111111111111,
              "#46039f"
             ],
             [
              0.2222222222222222,
              "#7201a8"
             ],
             [
              0.3333333333333333,
              "#9c179e"
             ],
             [
              0.4444444444444444,
              "#bd3786"
             ],
             [
              0.5555555555555556,
              "#d8576b"
             ],
             [
              0.6666666666666666,
              "#ed7953"
             ],
             [
              0.7777777777777778,
              "#fb9f3a"
             ],
             [
              0.8888888888888888,
              "#fdca26"
             ],
             [
              1,
              "#f0f921"
             ]
            ],
            "type": "heatmap"
           }
          ],
          "heatmapgl": [
           {
            "colorbar": {
             "outlinewidth": 0,
             "ticks": ""
            },
            "colorscale": [
             [
              0,
              "#0d0887"
             ],
             [
              0.1111111111111111,
              "#46039f"
             ],
             [
              0.2222222222222222,
              "#7201a8"
             ],
             [
              0.3333333333333333,
              "#9c179e"
             ],
             [
              0.4444444444444444,
              "#bd3786"
             ],
             [
              0.5555555555555556,
              "#d8576b"
             ],
             [
              0.6666666666666666,
              "#ed7953"
             ],
             [
              0.7777777777777778,
              "#fb9f3a"
             ],
             [
              0.8888888888888888,
              "#fdca26"
             ],
             [
              1,
              "#f0f921"
             ]
            ],
            "type": "heatmapgl"
           }
          ],
          "histogram": [
           {
            "marker": {
             "pattern": {
              "fillmode": "overlay",
              "size": 10,
              "solidity": 0.2
             }
            },
            "type": "histogram"
           }
          ],
          "histogram2d": [
           {
            "colorbar": {
             "outlinewidth": 0,
             "ticks": ""
            },
            "colorscale": [
             [
              0,
              "#0d0887"
             ],
             [
              0.1111111111111111,
              "#46039f"
             ],
             [
              0.2222222222222222,
              "#7201a8"
             ],
             [
              0.3333333333333333,
              "#9c179e"
             ],
             [
              0.4444444444444444,
              "#bd3786"
             ],
             [
              0.5555555555555556,
              "#d8576b"
             ],
             [
              0.6666666666666666,
              "#ed7953"
             ],
             [
              0.7777777777777778,
              "#fb9f3a"
             ],
             [
              0.8888888888888888,
              "#fdca26"
             ],
             [
              1,
              "#f0f921"
             ]
            ],
            "type": "histogram2d"
           }
          ],
          "histogram2dcontour": [
           {
            "colorbar": {
             "outlinewidth": 0,
             "ticks": ""
            },
            "colorscale": [
             [
              0,
              "#0d0887"
             ],
             [
              0.1111111111111111,
              "#46039f"
             ],
             [
              0.2222222222222222,
              "#7201a8"
             ],
             [
              0.3333333333333333,
              "#9c179e"
             ],
             [
              0.4444444444444444,
              "#bd3786"
             ],
             [
              0.5555555555555556,
              "#d8576b"
             ],
             [
              0.6666666666666666,
              "#ed7953"
             ],
             [
              0.7777777777777778,
              "#fb9f3a"
             ],
             [
              0.8888888888888888,
              "#fdca26"
             ],
             [
              1,
              "#f0f921"
             ]
            ],
            "type": "histogram2dcontour"
           }
          ],
          "mesh3d": [
           {
            "colorbar": {
             "outlinewidth": 0,
             "ticks": ""
            },
            "type": "mesh3d"
           }
          ],
          "parcoords": [
           {
            "line": {
             "colorbar": {
              "outlinewidth": 0,
              "ticks": ""
             }
            },
            "type": "parcoords"
           }
          ],
          "pie": [
           {
            "automargin": true,
            "type": "pie"
           }
          ],
          "scatter": [
           {
            "marker": {
             "colorbar": {
              "outlinewidth": 0,
              "ticks": ""
             }
            },
            "type": "scatter"
           }
          ],
          "scatter3d": [
           {
            "line": {
             "colorbar": {
              "outlinewidth": 0,
              "ticks": ""
             }
            },
            "marker": {
             "colorbar": {
              "outlinewidth": 0,
              "ticks": ""
             }
            },
            "type": "scatter3d"
           }
          ],
          "scattercarpet": [
           {
            "marker": {
             "colorbar": {
              "outlinewidth": 0,
              "ticks": ""
             }
            },
            "type": "scattercarpet"
           }
          ],
          "scattergeo": [
           {
            "marker": {
             "colorbar": {
              "outlinewidth": 0,
              "ticks": ""
             }
            },
            "type": "scattergeo"
           }
          ],
          "scattergl": [
           {
            "marker": {
             "colorbar": {
              "outlinewidth": 0,
              "ticks": ""
             }
            },
            "type": "scattergl"
           }
          ],
          "scattermapbox": [
           {
            "marker": {
             "colorbar": {
              "outlinewidth": 0,
              "ticks": ""
             }
            },
            "type": "scattermapbox"
           }
          ],
          "scatterpolar": [
           {
            "marker": {
             "colorbar": {
              "outlinewidth": 0,
              "ticks": ""
             }
            },
            "type": "scatterpolar"
           }
          ],
          "scatterpolargl": [
           {
            "marker": {
             "colorbar": {
              "outlinewidth": 0,
              "ticks": ""
             }
            },
            "type": "scatterpolargl"
           }
          ],
          "scatterternary": [
           {
            "marker": {
             "colorbar": {
              "outlinewidth": 0,
              "ticks": ""
             }
            },
            "type": "scatterternary"
           }
          ],
          "surface": [
           {
            "colorbar": {
             "outlinewidth": 0,
             "ticks": ""
            },
            "colorscale": [
             [
              0,
              "#0d0887"
             ],
             [
              0.1111111111111111,
              "#46039f"
             ],
             [
              0.2222222222222222,
              "#7201a8"
             ],
             [
              0.3333333333333333,
              "#9c179e"
             ],
             [
              0.4444444444444444,
              "#bd3786"
             ],
             [
              0.5555555555555556,
              "#d8576b"
             ],
             [
              0.6666666666666666,
              "#ed7953"
             ],
             [
              0.7777777777777778,
              "#fb9f3a"
             ],
             [
              0.8888888888888888,
              "#fdca26"
             ],
             [
              1,
              "#f0f921"
             ]
            ],
            "type": "surface"
           }
          ],
          "table": [
           {
            "cells": {
             "fill": {
              "color": "#EBF0F8"
             },
             "line": {
              "color": "white"
             }
            },
            "header": {
             "fill": {
              "color": "#C8D4E3"
             },
             "line": {
              "color": "white"
             }
            },
            "type": "table"
           }
          ]
         },
         "layout": {
          "annotationdefaults": {
           "arrowcolor": "#2a3f5f",
           "arrowhead": 0,
           "arrowwidth": 1
          },
          "autotypenumbers": "strict",
          "coloraxis": {
           "colorbar": {
            "outlinewidth": 0,
            "ticks": ""
           }
          },
          "colorscale": {
           "diverging": [
            [
             0,
             "#8e0152"
            ],
            [
             0.1,
             "#c51b7d"
            ],
            [
             0.2,
             "#de77ae"
            ],
            [
             0.3,
             "#f1b6da"
            ],
            [
             0.4,
             "#fde0ef"
            ],
            [
             0.5,
             "#f7f7f7"
            ],
            [
             0.6,
             "#e6f5d0"
            ],
            [
             0.7,
             "#b8e186"
            ],
            [
             0.8,
             "#7fbc41"
            ],
            [
             0.9,
             "#4d9221"
            ],
            [
             1,
             "#276419"
            ]
           ],
           "sequential": [
            [
             0,
             "#0d0887"
            ],
            [
             0.1111111111111111,
             "#46039f"
            ],
            [
             0.2222222222222222,
             "#7201a8"
            ],
            [
             0.3333333333333333,
             "#9c179e"
            ],
            [
             0.4444444444444444,
             "#bd3786"
            ],
            [
             0.5555555555555556,
             "#d8576b"
            ],
            [
             0.6666666666666666,
             "#ed7953"
            ],
            [
             0.7777777777777778,
             "#fb9f3a"
            ],
            [
             0.8888888888888888,
             "#fdca26"
            ],
            [
             1,
             "#f0f921"
            ]
           ],
           "sequentialminus": [
            [
             0,
             "#0d0887"
            ],
            [
             0.1111111111111111,
             "#46039f"
            ],
            [
             0.2222222222222222,
             "#7201a8"
            ],
            [
             0.3333333333333333,
             "#9c179e"
            ],
            [
             0.4444444444444444,
             "#bd3786"
            ],
            [
             0.5555555555555556,
             "#d8576b"
            ],
            [
             0.6666666666666666,
             "#ed7953"
            ],
            [
             0.7777777777777778,
             "#fb9f3a"
            ],
            [
             0.8888888888888888,
             "#fdca26"
            ],
            [
             1,
             "#f0f921"
            ]
           ]
          },
          "colorway": [
           "#636efa",
           "#EF553B",
           "#00cc96",
           "#ab63fa",
           "#FFA15A",
           "#19d3f3",
           "#FF6692",
           "#B6E880",
           "#FF97FF",
           "#FECB52"
          ],
          "font": {
           "color": "#2a3f5f"
          },
          "geo": {
           "bgcolor": "white",
           "lakecolor": "white",
           "landcolor": "#E5ECF6",
           "showlakes": true,
           "showland": true,
           "subunitcolor": "white"
          },
          "hoverlabel": {
           "align": "left"
          },
          "hovermode": "closest",
          "mapbox": {
           "style": "light"
          },
          "paper_bgcolor": "white",
          "plot_bgcolor": "#E5ECF6",
          "polar": {
           "angularaxis": {
            "gridcolor": "white",
            "linecolor": "white",
            "ticks": ""
           },
           "bgcolor": "#E5ECF6",
           "radialaxis": {
            "gridcolor": "white",
            "linecolor": "white",
            "ticks": ""
           }
          },
          "scene": {
           "xaxis": {
            "backgroundcolor": "#E5ECF6",
            "gridcolor": "white",
            "gridwidth": 2,
            "linecolor": "white",
            "showbackground": true,
            "ticks": "",
            "zerolinecolor": "white"
           },
           "yaxis": {
            "backgroundcolor": "#E5ECF6",
            "gridcolor": "white",
            "gridwidth": 2,
            "linecolor": "white",
            "showbackground": true,
            "ticks": "",
            "zerolinecolor": "white"
           },
           "zaxis": {
            "backgroundcolor": "#E5ECF6",
            "gridcolor": "white",
            "gridwidth": 2,
            "linecolor": "white",
            "showbackground": true,
            "ticks": "",
            "zerolinecolor": "white"
           }
          },
          "shapedefaults": {
           "line": {
            "color": "#2a3f5f"
           }
          },
          "ternary": {
           "aaxis": {
            "gridcolor": "white",
            "linecolor": "white",
            "ticks": ""
           },
           "baxis": {
            "gridcolor": "white",
            "linecolor": "white",
            "ticks": ""
           },
           "bgcolor": "#E5ECF6",
           "caxis": {
            "gridcolor": "white",
            "linecolor": "white",
            "ticks": ""
           }
          },
          "title": {
           "x": 0.05
          },
          "xaxis": {
           "automargin": true,
           "gridcolor": "white",
           "linecolor": "white",
           "ticks": "",
           "title": {
            "standoff": 15
           },
           "zerolinecolor": "white",
           "zerolinewidth": 2
          },
          "yaxis": {
           "automargin": true,
           "gridcolor": "white",
           "linecolor": "white",
           "ticks": "",
           "title": {
            "standoff": 15
           },
           "zerolinecolor": "white",
           "zerolinewidth": 2
          }
         }
        },
        "xaxis": {
         "anchor": "y",
         "domain": [
          0,
          0.45
         ]
        },
        "xaxis2": {
         "anchor": "y2",
         "domain": [
          0.55,
          1
         ]
        },
        "yaxis": {
         "anchor": "x",
         "domain": [
          0,
          1
         ]
        },
        "yaxis2": {
         "anchor": "x2",
         "domain": [
          0,
          1
         ]
        }
       }
      },
      "text/html": [
       "<div>                            <div id=\"0b39ff4d-5a76-429e-8dee-cd41a1c5bf76\" class=\"plotly-graph-div\" style=\"height:525px; width:100%;\"></div>            <script type=\"text/javascript\">                require([\"plotly\"], function(Plotly) {                    window.PLOTLYENV=window.PLOTLYENV || {};                                    if (document.getElementById(\"0b39ff4d-5a76-429e-8dee-cd41a1c5bf76\")) {                    Plotly.newPlot(                        \"0b39ff4d-5a76-429e-8dee-cd41a1c5bf76\",                        [{\"name\":\"A\",\"x\":[2747,1780,824,872],\"y\":[\"login\",\"product_page\",\"product_cart\",\"purchase\"],\"type\":\"funnel\",\"xaxis\":\"x\",\"yaxis\":\"y\"},{\"name\":\"B\",\"x\":[928,523,255,256],\"y\":[\"login\",\"product_page\",\"product_cart\",\"purchase\"],\"type\":\"funnel\",\"xaxis\":\"x2\",\"yaxis\":\"y2\"}],                        {\"template\":{\"data\":{\"bar\":[{\"error_x\":{\"color\":\"#2a3f5f\"},\"error_y\":{\"color\":\"#2a3f5f\"},\"marker\":{\"line\":{\"color\":\"#E5ECF6\",\"width\":0.5},\"pattern\":{\"fillmode\":\"overlay\",\"size\":10,\"solidity\":0.2}},\"type\":\"bar\"}],\"barpolar\":[{\"marker\":{\"line\":{\"color\":\"#E5ECF6\",\"width\":0.5},\"pattern\":{\"fillmode\":\"overlay\",\"size\":10,\"solidity\":0.2}},\"type\":\"barpolar\"}],\"carpet\":[{\"aaxis\":{\"endlinecolor\":\"#2a3f5f\",\"gridcolor\":\"white\",\"linecolor\":\"white\",\"minorgridcolor\":\"white\",\"startlinecolor\":\"#2a3f5f\"},\"baxis\":{\"endlinecolor\":\"#2a3f5f\",\"gridcolor\":\"white\",\"linecolor\":\"white\",\"minorgridcolor\":\"white\",\"startlinecolor\":\"#2a3f5f\"},\"type\":\"carpet\"}],\"choropleth\":[{\"colorbar\":{\"outlinewidth\":0,\"ticks\":\"\"},\"type\":\"choropleth\"}],\"contour\":[{\"colorbar\":{\"outlinewidth\":0,\"ticks\":\"\"},\"colorscale\":[[0.0,\"#0d0887\"],[0.1111111111111111,\"#46039f\"],[0.2222222222222222,\"#7201a8\"],[0.3333333333333333,\"#9c179e\"],[0.4444444444444444,\"#bd3786\"],[0.5555555555555556,\"#d8576b\"],[0.6666666666666666,\"#ed7953\"],[0.7777777777777778,\"#fb9f3a\"],[0.8888888888888888,\"#fdca26\"],[1.0,\"#f0f921\"]],\"type\":\"contour\"}],\"contourcarpet\":[{\"colorbar\":{\"outlinewidth\":0,\"ticks\":\"\"},\"type\":\"contourcarpet\"}],\"heatmap\":[{\"colorbar\":{\"outlinewidth\":0,\"ticks\":\"\"},\"colorscale\":[[0.0,\"#0d0887\"],[0.1111111111111111,\"#46039f\"],[0.2222222222222222,\"#7201a8\"],[0.3333333333333333,\"#9c179e\"],[0.4444444444444444,\"#bd3786\"],[0.5555555555555556,\"#d8576b\"],[0.6666666666666666,\"#ed7953\"],[0.7777777777777778,\"#fb9f3a\"],[0.8888888888888888,\"#fdca26\"],[1.0,\"#f0f921\"]],\"type\":\"heatmap\"}],\"heatmapgl\":[{\"colorbar\":{\"outlinewidth\":0,\"ticks\":\"\"},\"colorscale\":[[0.0,\"#0d0887\"],[0.1111111111111111,\"#46039f\"],[0.2222222222222222,\"#7201a8\"],[0.3333333333333333,\"#9c179e\"],[0.4444444444444444,\"#bd3786\"],[0.5555555555555556,\"#d8576b\"],[0.6666666666666666,\"#ed7953\"],[0.7777777777777778,\"#fb9f3a\"],[0.8888888888888888,\"#fdca26\"],[1.0,\"#f0f921\"]],\"type\":\"heatmapgl\"}],\"histogram\":[{\"marker\":{\"pattern\":{\"fillmode\":\"overlay\",\"size\":10,\"solidity\":0.2}},\"type\":\"histogram\"}],\"histogram2d\":[{\"colorbar\":{\"outlinewidth\":0,\"ticks\":\"\"},\"colorscale\":[[0.0,\"#0d0887\"],[0.1111111111111111,\"#46039f\"],[0.2222222222222222,\"#7201a8\"],[0.3333333333333333,\"#9c179e\"],[0.4444444444444444,\"#bd3786\"],[0.5555555555555556,\"#d8576b\"],[0.6666666666666666,\"#ed7953\"],[0.7777777777777778,\"#fb9f3a\"],[0.8888888888888888,\"#fdca26\"],[1.0,\"#f0f921\"]],\"type\":\"histogram2d\"}],\"histogram2dcontour\":[{\"colorbar\":{\"outlinewidth\":0,\"ticks\":\"\"},\"colorscale\":[[0.0,\"#0d0887\"],[0.1111111111111111,\"#46039f\"],[0.2222222222222222,\"#7201a8\"],[0.3333333333333333,\"#9c179e\"],[0.4444444444444444,\"#bd3786\"],[0.5555555555555556,\"#d8576b\"],[0.6666666666666666,\"#ed7953\"],[0.7777777777777778,\"#fb9f3a\"],[0.8888888888888888,\"#fdca26\"],[1.0,\"#f0f921\"]],\"type\":\"histogram2dcontour\"}],\"mesh3d\":[{\"colorbar\":{\"outlinewidth\":0,\"ticks\":\"\"},\"type\":\"mesh3d\"}],\"parcoords\":[{\"line\":{\"colorbar\":{\"outlinewidth\":0,\"ticks\":\"\"}},\"type\":\"parcoords\"}],\"pie\":[{\"automargin\":true,\"type\":\"pie\"}],\"scatter\":[{\"marker\":{\"colorbar\":{\"outlinewidth\":0,\"ticks\":\"\"}},\"type\":\"scatter\"}],\"scatter3d\":[{\"line\":{\"colorbar\":{\"outlinewidth\":0,\"ticks\":\"\"}},\"marker\":{\"colorbar\":{\"outlinewidth\":0,\"ticks\":\"\"}},\"type\":\"scatter3d\"}],\"scattercarpet\":[{\"marker\":{\"colorbar\":{\"outlinewidth\":0,\"ticks\":\"\"}},\"type\":\"scattercarpet\"}],\"scattergeo\":[{\"marker\":{\"colorbar\":{\"outlinewidth\":0,\"ticks\":\"\"}},\"type\":\"scattergeo\"}],\"scattergl\":[{\"marker\":{\"colorbar\":{\"outlinewidth\":0,\"ticks\":\"\"}},\"type\":\"scattergl\"}],\"scattermapbox\":[{\"marker\":{\"colorbar\":{\"outlinewidth\":0,\"ticks\":\"\"}},\"type\":\"scattermapbox\"}],\"scatterpolar\":[{\"marker\":{\"colorbar\":{\"outlinewidth\":0,\"ticks\":\"\"}},\"type\":\"scatterpolar\"}],\"scatterpolargl\":[{\"marker\":{\"colorbar\":{\"outlinewidth\":0,\"ticks\":\"\"}},\"type\":\"scatterpolargl\"}],\"scatterternary\":[{\"marker\":{\"colorbar\":{\"outlinewidth\":0,\"ticks\":\"\"}},\"type\":\"scatterternary\"}],\"surface\":[{\"colorbar\":{\"outlinewidth\":0,\"ticks\":\"\"},\"colorscale\":[[0.0,\"#0d0887\"],[0.1111111111111111,\"#46039f\"],[0.2222222222222222,\"#7201a8\"],[0.3333333333333333,\"#9c179e\"],[0.4444444444444444,\"#bd3786\"],[0.5555555555555556,\"#d8576b\"],[0.6666666666666666,\"#ed7953\"],[0.7777777777777778,\"#fb9f3a\"],[0.8888888888888888,\"#fdca26\"],[1.0,\"#f0f921\"]],\"type\":\"surface\"}],\"table\":[{\"cells\":{\"fill\":{\"color\":\"#EBF0F8\"},\"line\":{\"color\":\"white\"}},\"header\":{\"fill\":{\"color\":\"#C8D4E3\"},\"line\":{\"color\":\"white\"}},\"type\":\"table\"}]},\"layout\":{\"annotationdefaults\":{\"arrowcolor\":\"#2a3f5f\",\"arrowhead\":0,\"arrowwidth\":1},\"autotypenumbers\":\"strict\",\"coloraxis\":{\"colorbar\":{\"outlinewidth\":0,\"ticks\":\"\"}},\"colorscale\":{\"diverging\":[[0,\"#8e0152\"],[0.1,\"#c51b7d\"],[0.2,\"#de77ae\"],[0.3,\"#f1b6da\"],[0.4,\"#fde0ef\"],[0.5,\"#f7f7f7\"],[0.6,\"#e6f5d0\"],[0.7,\"#b8e186\"],[0.8,\"#7fbc41\"],[0.9,\"#4d9221\"],[1,\"#276419\"]],\"sequential\":[[0.0,\"#0d0887\"],[0.1111111111111111,\"#46039f\"],[0.2222222222222222,\"#7201a8\"],[0.3333333333333333,\"#9c179e\"],[0.4444444444444444,\"#bd3786\"],[0.5555555555555556,\"#d8576b\"],[0.6666666666666666,\"#ed7953\"],[0.7777777777777778,\"#fb9f3a\"],[0.8888888888888888,\"#fdca26\"],[1.0,\"#f0f921\"]],\"sequentialminus\":[[0.0,\"#0d0887\"],[0.1111111111111111,\"#46039f\"],[0.2222222222222222,\"#7201a8\"],[0.3333333333333333,\"#9c179e\"],[0.4444444444444444,\"#bd3786\"],[0.5555555555555556,\"#d8576b\"],[0.6666666666666666,\"#ed7953\"],[0.7777777777777778,\"#fb9f3a\"],[0.8888888888888888,\"#fdca26\"],[1.0,\"#f0f921\"]]},\"colorway\":[\"#636efa\",\"#EF553B\",\"#00cc96\",\"#ab63fa\",\"#FFA15A\",\"#19d3f3\",\"#FF6692\",\"#B6E880\",\"#FF97FF\",\"#FECB52\"],\"font\":{\"color\":\"#2a3f5f\"},\"geo\":{\"bgcolor\":\"white\",\"lakecolor\":\"white\",\"landcolor\":\"#E5ECF6\",\"showlakes\":true,\"showland\":true,\"subunitcolor\":\"white\"},\"hoverlabel\":{\"align\":\"left\"},\"hovermode\":\"closest\",\"mapbox\":{\"style\":\"light\"},\"paper_bgcolor\":\"white\",\"plot_bgcolor\":\"#E5ECF6\",\"polar\":{\"angularaxis\":{\"gridcolor\":\"white\",\"linecolor\":\"white\",\"ticks\":\"\"},\"bgcolor\":\"#E5ECF6\",\"radialaxis\":{\"gridcolor\":\"white\",\"linecolor\":\"white\",\"ticks\":\"\"}},\"scene\":{\"xaxis\":{\"backgroundcolor\":\"#E5ECF6\",\"gridcolor\":\"white\",\"gridwidth\":2,\"linecolor\":\"white\",\"showbackground\":true,\"ticks\":\"\",\"zerolinecolor\":\"white\"},\"yaxis\":{\"backgroundcolor\":\"#E5ECF6\",\"gridcolor\":\"white\",\"gridwidth\":2,\"linecolor\":\"white\",\"showbackground\":true,\"ticks\":\"\",\"zerolinecolor\":\"white\"},\"zaxis\":{\"backgroundcolor\":\"#E5ECF6\",\"gridcolor\":\"white\",\"gridwidth\":2,\"linecolor\":\"white\",\"showbackground\":true,\"ticks\":\"\",\"zerolinecolor\":\"white\"}},\"shapedefaults\":{\"line\":{\"color\":\"#2a3f5f\"}},\"ternary\":{\"aaxis\":{\"gridcolor\":\"white\",\"linecolor\":\"white\",\"ticks\":\"\"},\"baxis\":{\"gridcolor\":\"white\",\"linecolor\":\"white\",\"ticks\":\"\"},\"bgcolor\":\"#E5ECF6\",\"caxis\":{\"gridcolor\":\"white\",\"linecolor\":\"white\",\"ticks\":\"\"}},\"title\":{\"x\":0.05},\"xaxis\":{\"automargin\":true,\"gridcolor\":\"white\",\"linecolor\":\"white\",\"ticks\":\"\",\"title\":{\"standoff\":15},\"zerolinecolor\":\"white\",\"zerolinewidth\":2},\"yaxis\":{\"automargin\":true,\"gridcolor\":\"white\",\"linecolor\":\"white\",\"ticks\":\"\",\"title\":{\"standoff\":15},\"zerolinecolor\":\"white\",\"zerolinewidth\":2}}},\"xaxis\":{\"anchor\":\"y\",\"domain\":[0.0,0.45]},\"yaxis\":{\"anchor\":\"x\",\"domain\":[0.0,1.0]},\"xaxis2\":{\"anchor\":\"y2\",\"domain\":[0.55,1.0]},\"yaxis2\":{\"anchor\":\"x2\",\"domain\":[0.0,1.0]},\"annotations\":[{\"font\":{\"size\":16},\"showarrow\":false,\"text\":\"\\u0413\\u0440\\u0443\\u043f\\u043f\\u0430 A\",\"x\":0.225,\"xanchor\":\"center\",\"xref\":\"paper\",\"y\":1.0,\"yanchor\":\"bottom\",\"yref\":\"paper\"},{\"font\":{\"size\":16},\"showarrow\":false,\"text\":\"\\u0413\\u0440\\u0443\\u043f\\u043f\\u0430 B\",\"x\":0.775,\"xanchor\":\"center\",\"xref\":\"paper\",\"y\":1.0,\"yanchor\":\"bottom\",\"yref\":\"paper\"}]},                        {\"responsive\": true}                    ).then(function(){\n",
       "                            \n",
       "var gd = document.getElementById('0b39ff4d-5a76-429e-8dee-cd41a1c5bf76');\n",
       "var x = new MutationObserver(function (mutations, observer) {{\n",
       "        var display = window.getComputedStyle(gd).display;\n",
       "        if (!display || display === 'none') {{\n",
       "            console.log([gd, 'removed!']);\n",
       "            Plotly.purge(gd);\n",
       "            observer.disconnect();\n",
       "        }}\n",
       "}});\n",
       "\n",
       "// Listen for the removal of the full notebook cells\n",
       "var notebookContainer = gd.closest('#notebook-container');\n",
       "if (notebookContainer) {{\n",
       "    x.observe(notebookContainer, {childList: true});\n",
       "}}\n",
       "\n",
       "// Listen for the clearing of the current output cell\n",
       "var outputEl = gd.closest('.output');\n",
       "if (outputEl) {{\n",
       "    x.observe(outputEl, {childList: true});\n",
       "}}\n",
       "\n",
       "                        })                };                });            </script>        </div>"
      ]
     },
     "metadata": {},
     "output_type": "display_data"
    }
   ],
   "source": [
    "# Изобразим воронки\n",
    "fig = make_subplots(rows=1, cols=2,subplot_titles=(\"Группа A\",\"Группа B\"))\n",
    "\n",
    "fig.add_trace(go.Funnel(name = 'A', y = test_funnel['event_name'], x = test_funnel['A']), row=1, col=1),\n",
    "fig.add_trace(go.Funnel(name = 'B', y = test_funnel['event_name'], x = test_funnel['B']), row=1, col=2)\n",
    "\n",
    "fig.show()"
   ]
  },
  {
   "cell_type": "markdown",
   "metadata": {},
   "source": [
    "Видим следующее:<br>\n",
    "От первого шага 'login' до финального 'purchase' добралось только 14% пользователей из группы B и 13% из A.\n",
    "\n",
    "Показатели конверсии группы В отличаются на каждом этапе воронки.\n",
    "\n",
    " - На стадии 'product_page' (экран продукта) конверсия 56% у группы В против 65% в группе А,\n",
    " - На стадии 'product_cart' (корзина) коэффициент конверсии составляет 49% у группы В, и 46% у группы А,\n",
    " - На стадии 'purchase' (покупка) коэффициент конверсии (относительно стадии 'product_page') группы В составляет 100%, а у группы А 94%.\n",
    " \n",
    "Ожидаемого в группе 'B' улучшения конверсии на 10% не случилось ни на одном из шагов.\n",
    "\n",
    "Также помним, что количество пользователей на стадии 'purchase' больше, чем на стадии 'product_cart'.<br>\n",
    "Выглядит странно, но, видимо, есть возможность совершить покупку напрямую без корзины."
   ]
  },
  {
   "cell_type": "markdown",
   "metadata": {},
   "source": [
    "#### Какие особенности данных нужно учесть, прежде чем приступать к A/B-тестированию?"
   ]
  },
  {
   "cell_type": "markdown",
   "metadata": {},
   "source": [
    "Важные наблюдения:\n",
    "\n",
    " - Сбор данных по событиям закончился 30 декабря 2020, поэтому пользователи, пришедшие после 16 декабря не успеют 'прожить' 14 дней, как требуется в тех.задании.\n",
    " - Количество участников в группах отличается на 7% (почти 1000 человек), что снижает корректность проведения А/B-теста.\n",
    " - Заметная разница в активности между группами: высокая активность контрольной группы А с 14 по 25 декабря, у группы В такого не было,\n",
    " - Нетипичная воронка событий: количество пользователей на стадии 'purchase' больше, чем на стадии 'product_cart'.\n",
    " - 13% от общего числа событий произошли в период более 14 дней с момента регистрации пользователя."
   ]
  },
  {
   "cell_type": "markdown",
   "metadata": {},
   "source": [
    "### Результаты A/B-теста: оценка и анализ"
   ]
  },
  {
   "cell_type": "markdown",
   "metadata": {},
   "source": [
    "Не все условия тех.задания были выполнены при тестировании:\n",
    " - Ожидаемого в группе 'B' улучшения конверсии на 10% не случилось ни на одном из шагов,\n",
    " - Дата остановки теста 2020-12-30, что на 4 дня раньше по тех.заданию."
   ]
  },
  {
   "cell_type": "markdown",
   "metadata": {},
   "source": [
    "**Проверим статистическую разницу долей z-критерием**\n",
    "\n",
    "Сформулируем гипотезы:\n",
    "\n",
    " - H0: Cтатистически значимых различий в долях между группой A и группой B нет. \n",
    " - H1: Есть статистически значимые различия в долях между группами A и B.\n",
    "\n",
    "Для удобства создадим функцию с 3 аргументами z_test:\n",
    " - group1 - значения 1-ой группы,\n",
    " - group2 - значения 2-ой группы, \n",
    " - alpha_value - уровень статистической значимости аlpha.\n",
    "\n",
    "Критический уровень статистической значимости аlpha выберем = 0.05 и считаем его допустимым."
   ]
  },
  {
   "cell_type": "code",
   "execution_count": 30,
   "metadata": {},
   "outputs": [
    {
     "data": {
      "text/html": [
       "<div>\n",
       "<style scoped>\n",
       "    .dataframe tbody tr th:only-of-type {\n",
       "        vertical-align: middle;\n",
       "    }\n",
       "\n",
       "    .dataframe tbody tr th {\n",
       "        vertical-align: top;\n",
       "    }\n",
       "\n",
       "    .dataframe thead th {\n",
       "        text-align: right;\n",
       "    }\n",
       "</style>\n",
       "<table border=\"1\" class=\"dataframe\">\n",
       "  <thead>\n",
       "    <tr style=\"text-align: right;\">\n",
       "      <th>group</th>\n",
       "      <th>event_name</th>\n",
       "      <th>A</th>\n",
       "      <th>B</th>\n",
       "      <th>total</th>\n",
       "    </tr>\n",
       "  </thead>\n",
       "  <tbody>\n",
       "    <tr>\n",
       "      <th>0</th>\n",
       "      <td>login</td>\n",
       "      <td>2747</td>\n",
       "      <td>928</td>\n",
       "      <td>3675</td>\n",
       "    </tr>\n",
       "    <tr>\n",
       "      <th>1</th>\n",
       "      <td>product_page</td>\n",
       "      <td>1780</td>\n",
       "      <td>523</td>\n",
       "      <td>2303</td>\n",
       "    </tr>\n",
       "    <tr>\n",
       "      <th>2</th>\n",
       "      <td>product_cart</td>\n",
       "      <td>824</td>\n",
       "      <td>255</td>\n",
       "      <td>1079</td>\n",
       "    </tr>\n",
       "    <tr>\n",
       "      <th>3</th>\n",
       "      <td>purchase</td>\n",
       "      <td>872</td>\n",
       "      <td>256</td>\n",
       "      <td>1128</td>\n",
       "    </tr>\n",
       "  </tbody>\n",
       "</table>\n",
       "</div>"
      ],
      "text/plain": [
       "group    event_name     A    B  total\n",
       "0             login  2747  928   3675\n",
       "1      product_page  1780  523   2303\n",
       "2      product_cart   824  255   1079\n",
       "3          purchase   872  256   1128"
      ]
     },
     "execution_count": 30,
     "metadata": {},
     "output_type": "execute_result"
    }
   ],
   "source": [
    "# Вспомним группировку участников по событиям и А/В группам\n",
    "test_funnel"
   ]
  },
  {
   "cell_type": "code",
   "execution_count": 31,
   "metadata": {},
   "outputs": [],
   "source": [
    "# Создадим функцию для теста\n",
    "def z_test(group1, group2, alpha_value):\n",
    "    alpha = alpha_value\n",
    "    event_name = test_funnel['event_name']\n",
    "    \n",
    "    for i in range(1,len(group1)):\n",
    "        \n",
    "        successes = np.array([group1[i], group2[i]])\n",
    "        trials = np.array([group1[0], group2[0]])\n",
    "       \n",
    "        # Пропорция успехов в 1 группе\n",
    "        p1 = successes[0] / trials[0]  \n",
    "        # Пропорция успехов во 2 группе\n",
    "        p2 = successes[1] / trials[1]  \n",
    "        \n",
    "        # Пропорция успехов в комбинированном датасете\n",
    "        p_combined = (successes[0] + successes[1]) / (trials[0] + trials[1]) \n",
    "        # Разница пропорций в датасетах\n",
    "        difference = p1 - p2  \n",
    "        \n",
    "        # Посчитаем статистику в стандартных отклонениях\n",
    "        z_value = difference / mth.sqrt(p_combined * (1 - p_combined) * (1/trials[0] + 1/trials[1]))\n",
    "        \n",
    "        # Зададим стандартное нормальное распределение (среднее 0, стандартное отклонение 1)\n",
    "        distr = st.norm(0, 1)  \n",
    "        p_value = (1 - distr.cdf(abs(z_value))) * 2\n",
    "        \n",
    "        # Воспользуемся поправкой Бонферрони\n",
    "        bonferroni = alpha / 3\n",
    "    \n",
    "        print('Для события \"{}\" '.format(event_name[i]), end='')\n",
    "        print('(p-value =', p_value.round(3),'):')\n",
    "        if (p_value < bonferroni):\n",
    "            print('Отвергаем нулевую гипотезу: есть статистически значимые различия в долях между группами A и B.')\n",
    "        else:\n",
    "            print('Не получилось отвергнуть нулевую гипотезу: статистически значимых различий в долях между группой A и группой B нет.') \n",
    "            \n",
    "        print('')"
   ]
  },
  {
   "cell_type": "code",
   "execution_count": 32,
   "metadata": {},
   "outputs": [
    {
     "name": "stdout",
     "output_type": "stream",
     "text": [
      "Для события \"product_page\" (p-value = 0.0 ):\n",
      "Отвергаем нулевую гипотезу: есть статистически значимые различия в долях между группами A и B.\n",
      "\n",
      "Для события \"product_cart\" (p-value = 0.145 ):\n",
      "Не получилось отвергнуть нулевую гипотезу: статистически значимых различий в долях между группой A и группой B нет.\n",
      "\n",
      "Для события \"purchase\" (p-value = 0.018 ):\n",
      "Не получилось отвергнуть нулевую гипотезу: статистически значимых различий в долях между группой A и группой B нет.\n",
      "\n"
     ]
    }
   ],
   "source": [
    "z_test(test_funnel['A'], test_funnel['B'], 0.05)"
   ]
  },
  {
   "cell_type": "markdown",
   "metadata": {},
   "source": [
    "Статистически значимая разница в группах А и В обнаружена только для события \"product_page\".<br>\n",
    "\n",
    "Для остальных событий статистически значимых различий в долях между группой A и группой B не обнаружено."
   ]
  },
  {
   "cell_type": "markdown",
   "metadata": {},
   "source": [
    "### Общий вывод по исследовательскому анализу и оценке результатов A/B-тестирования"
   ]
  },
  {
   "cell_type": "markdown",
   "metadata": {},
   "source": [
    "**Предобработка данных**\n",
    "\n",
    " - Мы скорректировали типы данных с датой и временем в соответствующих столбцах датафреймов,\n",
    " - В таблице 'events' нашли пропуски в столбце 'details' (содержащий дополнительные данные о событии).<br>\n",
    "   Решили оставить пропуски без изменений, можно обойтись и без доп.информации.\n",
    " - Дубликаты в 4 датафрймах мы не обнаружили.\n",
    "\n",
    "**Оценка корректности проведения теста**<br>\n",
    "\n",
    "*Время проведения теста*\n",
    " - Дата запуска: 2020-12-07, соответствует тех.заданию,\n",
    " - Эксперимент должен был продолжаться до 4 января 2021, но сбор данных закончился раньше - 30 декабря 2020,\n",
    " - В исследуемый период было проведено 2 маркетинговых события.\n",
    "\n",
    "*Аудитория теста*\n",
    " - В тесте участвуют 6701 пользователей (ожидаемое количество участников 6000),\n",
    " - 1602 пользователя участвовали сразу в 2х тестах,\n",
    " - Распределение пользователей по тестовым группам не пропорциональное,<br>\n",
    "   В отличие контрольной и тестовой групп - 7% (почти 1000 человек), что снижает корректность проведения А/B-теста,\n",
    " - % новых пользователей из региона EU Совпадает с тех.заданием: 15%.\n",
    "\n",
    "*Дата остановки набора новых пользователей*\n",
    " - Совпадает с тех.заданием, это 21 декабря 2020 года.\n",
    "\n",
    "**Исследовательский анализ данных**<br>\n",
    "\n",
    "*События в пределах 14 дней и их количество на пользователя*\n",
    " - 13% от общего числа событий произошли в период более 14 дней с момента регистрации пользователя,\n",
    " - Среднее количество действий на пользователя в контрольной группе 'А' выше, чем в тестовой группе,<br>\n",
    "   Заметно сильное отличие между группами: тестовая группа 'В' в целом гораздо менее активна,<br>\n",
    "   В отличие от группы 'В', бросается в глаза рост активности контрольной группы А с 14 по 25 декабря.\n",
    "\n",
    " - От первого шага 'login' до финального 'purchase' добралось только 14% пользователей из группы B и 13% из A.\n",
    "\n",
    "*Воронка событий и конверсия*\n",
    " - Количество пользователей на стадии 'purchase' больше, чем на стадии 'product_cart': видимо, есть возможность совершить покупку напрямую без корзины,\n",
    " - Ожидаемого в тестовой группе 'B' улучшения конверсии на 10% не случилось ни на одном из шагов.\n",
    " \n",
    "**Результаты А/В теста**<br>\n",
    "Статистически значимая разница в группах А и В обнаружена только для события \"product_page\".\n",
    "Для остальных событий статистически значимых различий в долях между группой A и группой B не обнаружено.\n",
    "\n",
    "В итоге тестовая группа В не показала лучшую конверсию по сравнению с контрольной группой А.<br>\n",
    "Но у нас есть причины считать проведение теста некорректным.<br>\n",
    "Рекомендуем провести повторный тест с полным учётом требований технического задания."
   ]
  }
 ],
 "metadata": {
  "ExecuteTimeLog": [
   {
    "duration": 1367,
    "start_time": "2023-03-01T05:45:13.916Z"
   },
   {
    "duration": 1872,
    "start_time": "2023-03-01T05:45:21.663Z"
   },
   {
    "duration": 127,
    "start_time": "2023-03-01T05:45:37.844Z"
   },
   {
    "duration": 33,
    "start_time": "2023-03-01T05:46:12.584Z"
   },
   {
    "duration": 280,
    "start_time": "2023-03-01T05:46:46.228Z"
   },
   {
    "duration": 1425,
    "start_time": "2023-03-01T12:01:47.620Z"
   },
   {
    "duration": 2050,
    "start_time": "2023-03-01T12:01:49.047Z"
   },
   {
    "duration": 167,
    "start_time": "2023-03-01T12:01:51.099Z"
   },
   {
    "duration": 70,
    "start_time": "2023-03-01T12:01:51.268Z"
   },
   {
    "duration": 241,
    "start_time": "2023-03-01T12:01:51.341Z"
   },
   {
    "duration": 217,
    "start_time": "2023-03-01T12:01:58.993Z"
   },
   {
    "duration": 18,
    "start_time": "2023-03-01T12:02:58.300Z"
   },
   {
    "duration": 12,
    "start_time": "2023-03-01T12:03:16.790Z"
   },
   {
    "duration": 9,
    "start_time": "2023-03-01T12:03:42.370Z"
   },
   {
    "duration": 26,
    "start_time": "2023-03-01T12:04:15.400Z"
   },
   {
    "duration": 1027,
    "start_time": "2023-03-01T12:04:32.338Z"
   },
   {
    "duration": 395,
    "start_time": "2023-03-01T12:05:04.590Z"
   },
   {
    "duration": 62,
    "start_time": "2023-03-01T12:05:32.686Z"
   },
   {
    "duration": 17,
    "start_time": "2023-03-01T12:06:01.183Z"
   },
   {
    "duration": 18,
    "start_time": "2023-03-01T12:06:09.102Z"
   },
   {
    "duration": 5,
    "start_time": "2023-03-01T12:06:36.157Z"
   },
   {
    "duration": 14,
    "start_time": "2023-03-01T12:06:57.730Z"
   },
   {
    "duration": 148,
    "start_time": "2023-03-01T12:07:36.724Z"
   },
   {
    "duration": 5,
    "start_time": "2023-03-01T12:07:44.290Z"
   },
   {
    "duration": 137,
    "start_time": "2023-03-01T12:08:41.722Z"
   },
   {
    "duration": 22,
    "start_time": "2023-03-01T12:08:50.323Z"
   },
   {
    "duration": 398,
    "start_time": "2023-03-01T12:09:16.036Z"
   },
   {
    "duration": 10,
    "start_time": "2023-03-01T12:10:12.348Z"
   },
   {
    "duration": 28,
    "start_time": "2023-03-01T12:10:22.330Z"
   },
   {
    "duration": 190,
    "start_time": "2023-03-01T12:10:30.142Z"
   },
   {
    "duration": 11,
    "start_time": "2023-03-01T12:10:38.318Z"
   },
   {
    "duration": 76,
    "start_time": "2023-03-01T12:10:47.218Z"
   },
   {
    "duration": 8,
    "start_time": "2023-03-01T12:11:57.650Z"
   },
   {
    "duration": 6,
    "start_time": "2023-03-01T12:12:05.694Z"
   },
   {
    "duration": 9,
    "start_time": "2023-03-01T12:12:12.396Z"
   },
   {
    "duration": 1214,
    "start_time": "2023-03-01T12:13:05.029Z"
   },
   {
    "duration": 660,
    "start_time": "2023-03-01T12:13:06.245Z"
   },
   {
    "duration": 205,
    "start_time": "2023-03-01T12:13:06.908Z"
   },
   {
    "duration": 40,
    "start_time": "2023-03-01T12:13:07.124Z"
   },
   {
    "duration": 239,
    "start_time": "2023-03-01T12:13:07.166Z"
   },
   {
    "duration": 229,
    "start_time": "2023-03-01T12:13:07.408Z"
   },
   {
    "duration": 10,
    "start_time": "2023-03-01T12:13:07.639Z"
   },
   {
    "duration": 13,
    "start_time": "2023-03-01T12:13:07.651Z"
   },
   {
    "duration": 19,
    "start_time": "2023-03-01T12:13:07.666Z"
   },
   {
    "duration": 33,
    "start_time": "2023-03-01T12:13:07.688Z"
   },
   {
    "duration": 906,
    "start_time": "2023-03-01T12:13:07.722Z"
   },
   {
    "duration": 358,
    "start_time": "2023-03-01T12:13:08.629Z"
   },
   {
    "duration": 64,
    "start_time": "2023-03-01T12:13:08.989Z"
   },
   {
    "duration": 14,
    "start_time": "2023-03-01T12:13:09.055Z"
   },
   {
    "duration": 39,
    "start_time": "2023-03-01T12:13:09.071Z"
   },
   {
    "duration": 11,
    "start_time": "2023-03-01T12:13:09.112Z"
   },
   {
    "duration": 22,
    "start_time": "2023-03-01T12:13:09.125Z"
   },
   {
    "duration": 174,
    "start_time": "2023-03-01T12:13:09.148Z"
   },
   {
    "duration": 5,
    "start_time": "2023-03-01T12:13:09.324Z"
   },
   {
    "duration": 153,
    "start_time": "2023-03-01T12:13:09.331Z"
   },
   {
    "duration": 37,
    "start_time": "2023-03-01T12:13:09.486Z"
   },
   {
    "duration": 364,
    "start_time": "2023-03-01T12:13:09.525Z"
   },
   {
    "duration": 24,
    "start_time": "2023-03-01T12:13:09.891Z"
   },
   {
    "duration": 27,
    "start_time": "2023-03-01T12:13:09.920Z"
   },
   {
    "duration": 220,
    "start_time": "2023-03-01T12:13:09.949Z"
   },
   {
    "duration": 12,
    "start_time": "2023-03-01T12:13:10.171Z"
   },
   {
    "duration": 21,
    "start_time": "2023-03-01T12:13:10.185Z"
   },
   {
    "duration": 28,
    "start_time": "2023-03-01T12:13:10.210Z"
   },
   {
    "duration": 29,
    "start_time": "2023-03-01T12:13:10.239Z"
   },
   {
    "duration": 1425,
    "start_time": "2023-03-01T20:44:35.239Z"
   },
   {
    "duration": 2395,
    "start_time": "2023-03-01T20:44:36.666Z"
   },
   {
    "duration": 105,
    "start_time": "2023-03-01T20:44:39.062Z"
   },
   {
    "duration": 52,
    "start_time": "2023-03-01T20:44:39.170Z"
   },
   {
    "duration": 174,
    "start_time": "2023-03-01T20:44:39.224Z"
   },
   {
    "duration": 223,
    "start_time": "2023-03-01T20:44:39.400Z"
   },
   {
    "duration": 9,
    "start_time": "2023-03-01T20:44:39.625Z"
   },
   {
    "duration": 11,
    "start_time": "2023-03-01T20:44:39.635Z"
   },
   {
    "duration": 11,
    "start_time": "2023-03-01T20:44:39.648Z"
   },
   {
    "duration": 13,
    "start_time": "2023-03-01T20:44:39.661Z"
   },
   {
    "duration": 834,
    "start_time": "2023-03-01T20:44:39.676Z"
   },
   {
    "duration": 344,
    "start_time": "2023-03-01T20:44:40.512Z"
   },
   {
    "duration": 42,
    "start_time": "2023-03-01T20:44:40.857Z"
   },
   {
    "duration": 28,
    "start_time": "2023-03-01T20:44:40.900Z"
   },
   {
    "duration": 13,
    "start_time": "2023-03-01T20:44:40.929Z"
   },
   {
    "duration": 4,
    "start_time": "2023-03-01T20:44:40.943Z"
   },
   {
    "duration": 15,
    "start_time": "2023-03-01T20:44:40.948Z"
   },
   {
    "duration": 161,
    "start_time": "2023-03-01T20:44:40.965Z"
   },
   {
    "duration": 3,
    "start_time": "2023-03-01T20:44:41.128Z"
   },
   {
    "duration": 147,
    "start_time": "2023-03-01T20:44:41.132Z"
   },
   {
    "duration": 19,
    "start_time": "2023-03-01T20:44:41.281Z"
   },
   {
    "duration": 320,
    "start_time": "2023-03-01T20:44:41.302Z"
   },
   {
    "duration": 8,
    "start_time": "2023-03-01T20:44:41.624Z"
   },
   {
    "duration": 23,
    "start_time": "2023-03-01T20:44:41.633Z"
   },
   {
    "duration": 333,
    "start_time": "2023-03-01T20:44:41.658Z"
   },
   {
    "duration": 9,
    "start_time": "2023-03-01T20:44:41.993Z"
   },
   {
    "duration": 20,
    "start_time": "2023-03-01T20:44:42.003Z"
   },
   {
    "duration": 19,
    "start_time": "2023-03-01T20:44:42.025Z"
   },
   {
    "duration": 33,
    "start_time": "2023-03-01T20:44:42.046Z"
   },
   {
    "duration": 1491,
    "start_time": "2023-03-02T05:51:04.896Z"
   },
   {
    "duration": 1123,
    "start_time": "2023-03-02T05:51:06.389Z"
   },
   {
    "duration": 151,
    "start_time": "2023-03-02T05:51:07.514Z"
   },
   {
    "duration": 40,
    "start_time": "2023-03-02T05:51:07.667Z"
   },
   {
    "duration": 216,
    "start_time": "2023-03-02T05:51:07.709Z"
   },
   {
    "duration": 269,
    "start_time": "2023-03-02T05:51:07.927Z"
   },
   {
    "duration": 10,
    "start_time": "2023-03-02T05:51:08.198Z"
   },
   {
    "duration": 12,
    "start_time": "2023-03-02T05:51:08.209Z"
   },
   {
    "duration": 26,
    "start_time": "2023-03-02T05:51:08.222Z"
   },
   {
    "duration": 18,
    "start_time": "2023-03-02T05:51:08.251Z"
   },
   {
    "duration": 944,
    "start_time": "2023-03-02T05:51:08.271Z"
   },
   {
    "duration": 369,
    "start_time": "2023-03-02T05:51:09.216Z"
   },
   {
    "duration": 44,
    "start_time": "2023-03-02T05:51:09.586Z"
   },
   {
    "duration": 17,
    "start_time": "2023-03-02T05:51:09.647Z"
   },
   {
    "duration": 14,
    "start_time": "2023-03-02T05:51:09.666Z"
   },
   {
    "duration": 9,
    "start_time": "2023-03-02T05:51:09.682Z"
   },
   {
    "duration": 18,
    "start_time": "2023-03-02T05:51:09.692Z"
   },
   {
    "duration": 178,
    "start_time": "2023-03-02T05:51:09.712Z"
   },
   {
    "duration": 4,
    "start_time": "2023-03-02T05:51:09.892Z"
   },
   {
    "duration": 160,
    "start_time": "2023-03-02T05:51:09.898Z"
   },
   {
    "duration": 27,
    "start_time": "2023-03-02T05:51:10.060Z"
   },
   {
    "duration": 386,
    "start_time": "2023-03-02T05:51:10.088Z"
   },
   {
    "duration": 9,
    "start_time": "2023-03-02T05:51:10.476Z"
   },
   {
    "duration": 27,
    "start_time": "2023-03-02T05:51:10.487Z"
   },
   {
    "duration": 176,
    "start_time": "2023-03-02T05:51:10.515Z"
   },
   {
    "duration": 10,
    "start_time": "2023-03-02T05:51:10.693Z"
   },
   {
    "duration": 8,
    "start_time": "2023-03-02T05:51:10.705Z"
   },
   {
    "duration": 6,
    "start_time": "2023-03-02T05:51:10.715Z"
   },
   {
    "duration": 13,
    "start_time": "2023-03-02T05:51:10.748Z"
   },
   {
    "duration": 20,
    "start_time": "2023-03-02T06:21:47.178Z"
   },
   {
    "duration": 15,
    "start_time": "2023-03-02T06:21:56.161Z"
   },
   {
    "duration": 9,
    "start_time": "2023-03-02T06:22:22.869Z"
   },
   {
    "duration": 3,
    "start_time": "2023-03-02T06:22:58.142Z"
   },
   {
    "duration": 1233,
    "start_time": "2023-03-02T06:23:06.733Z"
   },
   {
    "duration": 613,
    "start_time": "2023-03-02T06:23:07.968Z"
   },
   {
    "duration": 145,
    "start_time": "2023-03-02T06:23:08.583Z"
   },
   {
    "duration": 66,
    "start_time": "2023-03-02T06:23:08.730Z"
   },
   {
    "duration": 195,
    "start_time": "2023-03-02T06:23:08.798Z"
   },
   {
    "duration": 228,
    "start_time": "2023-03-02T06:23:08.995Z"
   },
   {
    "duration": 10,
    "start_time": "2023-03-02T06:23:09.224Z"
   },
   {
    "duration": 21,
    "start_time": "2023-03-02T06:23:09.235Z"
   },
   {
    "duration": 12,
    "start_time": "2023-03-02T06:23:09.257Z"
   },
   {
    "duration": 15,
    "start_time": "2023-03-02T06:23:09.271Z"
   },
   {
    "duration": 912,
    "start_time": "2023-03-02T06:23:09.288Z"
   },
   {
    "duration": 357,
    "start_time": "2023-03-02T06:23:10.202Z"
   },
   {
    "duration": 62,
    "start_time": "2023-03-02T06:23:10.560Z"
   },
   {
    "duration": 31,
    "start_time": "2023-03-02T06:23:10.624Z"
   },
   {
    "duration": 17,
    "start_time": "2023-03-02T06:23:10.657Z"
   },
   {
    "duration": 4,
    "start_time": "2023-03-02T06:23:10.676Z"
   },
   {
    "duration": 17,
    "start_time": "2023-03-02T06:23:10.682Z"
   },
   {
    "duration": 177,
    "start_time": "2023-03-02T06:23:10.701Z"
   },
   {
    "duration": 5,
    "start_time": "2023-03-02T06:23:10.879Z"
   },
   {
    "duration": 159,
    "start_time": "2023-03-02T06:23:10.885Z"
   },
   {
    "duration": 15,
    "start_time": "2023-03-02T06:23:11.048Z"
   },
   {
    "duration": 4,
    "start_time": "2023-03-02T06:23:11.064Z"
   },
   {
    "duration": 12,
    "start_time": "2023-03-02T06:23:11.070Z"
   },
   {
    "duration": 23,
    "start_time": "2023-03-02T06:23:11.084Z"
   },
   {
    "duration": 375,
    "start_time": "2023-03-02T06:23:11.109Z"
   },
   {
    "duration": 9,
    "start_time": "2023-03-02T06:23:11.486Z"
   },
   {
    "duration": 25,
    "start_time": "2023-03-02T06:23:11.497Z"
   },
   {
    "duration": 174,
    "start_time": "2023-03-02T06:23:11.524Z"
   },
   {
    "duration": 11,
    "start_time": "2023-03-02T06:23:11.700Z"
   },
   {
    "duration": 13,
    "start_time": "2023-03-02T06:23:11.713Z"
   },
   {
    "duration": 7,
    "start_time": "2023-03-02T06:23:11.747Z"
   },
   {
    "duration": 27,
    "start_time": "2023-03-02T06:23:11.756Z"
   },
   {
    "duration": 4,
    "start_time": "2023-03-02T06:23:57.706Z"
   },
   {
    "duration": 8,
    "start_time": "2023-03-02T06:24:00.242Z"
   },
   {
    "duration": 10,
    "start_time": "2023-03-02T06:24:03.939Z"
   },
   {
    "duration": 20,
    "start_time": "2023-03-02T06:24:42.132Z"
   },
   {
    "duration": 22,
    "start_time": "2023-03-02T06:24:48.853Z"
   },
   {
    "duration": 132,
    "start_time": "2023-03-02T06:40:10.355Z"
   },
   {
    "duration": 111,
    "start_time": "2023-03-02T06:40:42.886Z"
   },
   {
    "duration": 3,
    "start_time": "2023-03-02T06:41:58.479Z"
   },
   {
    "duration": 1755,
    "start_time": "2023-03-02T06:41:59.868Z"
   },
   {
    "duration": 4,
    "start_time": "2023-03-02T06:43:09.261Z"
   },
   {
    "duration": 130,
    "start_time": "2023-03-02T06:43:12.075Z"
   },
   {
    "duration": 90,
    "start_time": "2023-03-02T06:44:17.036Z"
   },
   {
    "duration": 1195,
    "start_time": "2023-03-02T06:44:37.365Z"
   },
   {
    "duration": 598,
    "start_time": "2023-03-02T06:44:38.562Z"
   },
   {
    "duration": 141,
    "start_time": "2023-03-02T06:44:39.162Z"
   },
   {
    "duration": 53,
    "start_time": "2023-03-02T06:44:39.304Z"
   },
   {
    "duration": 209,
    "start_time": "2023-03-02T06:44:39.359Z"
   },
   {
    "duration": 241,
    "start_time": "2023-03-02T06:44:39.570Z"
   },
   {
    "duration": 11,
    "start_time": "2023-03-02T06:44:39.812Z"
   },
   {
    "duration": 25,
    "start_time": "2023-03-02T06:44:39.824Z"
   },
   {
    "duration": 14,
    "start_time": "2023-03-02T06:44:39.851Z"
   },
   {
    "duration": 21,
    "start_time": "2023-03-02T06:44:39.867Z"
   },
   {
    "duration": 846,
    "start_time": "2023-03-02T06:44:39.890Z"
   },
   {
    "duration": 354,
    "start_time": "2023-03-02T06:44:40.738Z"
   },
   {
    "duration": 59,
    "start_time": "2023-03-02T06:44:41.094Z"
   },
   {
    "duration": 15,
    "start_time": "2023-03-02T06:44:41.157Z"
   },
   {
    "duration": 14,
    "start_time": "2023-03-02T06:44:41.174Z"
   },
   {
    "duration": 6,
    "start_time": "2023-03-02T06:44:41.190Z"
   },
   {
    "duration": 52,
    "start_time": "2023-03-02T06:44:41.197Z"
   },
   {
    "duration": 167,
    "start_time": "2023-03-02T06:44:41.251Z"
   },
   {
    "duration": 3,
    "start_time": "2023-03-02T06:44:41.420Z"
   },
   {
    "duration": 158,
    "start_time": "2023-03-02T06:44:41.425Z"
   },
   {
    "duration": 2,
    "start_time": "2023-03-02T06:44:41.585Z"
   },
   {
    "duration": 9,
    "start_time": "2023-03-02T06:44:41.588Z"
   },
   {
    "duration": 232,
    "start_time": "2023-03-02T06:44:41.598Z"
   },
   {
    "duration": 0,
    "start_time": "2023-03-02T06:44:41.831Z"
   },
   {
    "duration": 0,
    "start_time": "2023-03-02T06:44:41.832Z"
   },
   {
    "duration": 0,
    "start_time": "2023-03-02T06:44:41.833Z"
   },
   {
    "duration": 0,
    "start_time": "2023-03-02T06:44:41.834Z"
   },
   {
    "duration": 0,
    "start_time": "2023-03-02T06:44:41.835Z"
   },
   {
    "duration": 0,
    "start_time": "2023-03-02T06:44:41.836Z"
   },
   {
    "duration": 0,
    "start_time": "2023-03-02T06:44:41.848Z"
   },
   {
    "duration": 0,
    "start_time": "2023-03-02T06:44:41.849Z"
   },
   {
    "duration": 0,
    "start_time": "2023-03-02T06:44:41.850Z"
   },
   {
    "duration": 173,
    "start_time": "2023-03-02T06:48:04.390Z"
   },
   {
    "duration": 15,
    "start_time": "2023-03-02T06:48:49.821Z"
   },
   {
    "duration": 19,
    "start_time": "2023-03-02T06:49:08.264Z"
   },
   {
    "duration": 1395,
    "start_time": "2023-03-02T06:50:15.298Z"
   },
   {
    "duration": 1370,
    "start_time": "2023-03-02T06:50:59.424Z"
   },
   {
    "duration": 122,
    "start_time": "2023-03-02T06:51:09.613Z"
   },
   {
    "duration": 118,
    "start_time": "2023-03-02T06:51:44.955Z"
   },
   {
    "duration": 19,
    "start_time": "2023-03-02T06:51:48.450Z"
   },
   {
    "duration": 14,
    "start_time": "2023-03-02T06:52:00.111Z"
   },
   {
    "duration": 3,
    "start_time": "2023-03-02T06:52:10.408Z"
   },
   {
    "duration": 864,
    "start_time": "2023-03-02T06:52:12.978Z"
   },
   {
    "duration": 7,
    "start_time": "2023-03-02T06:52:56.995Z"
   },
   {
    "duration": 129,
    "start_time": "2023-03-02T06:53:55.520Z"
   },
   {
    "duration": 3,
    "start_time": "2023-03-02T06:55:36.366Z"
   },
   {
    "duration": 573,
    "start_time": "2023-03-02T06:55:37.028Z"
   },
   {
    "duration": 7,
    "start_time": "2023-03-02T06:55:41.022Z"
   },
   {
    "duration": 9,
    "start_time": "2023-03-02T06:56:54.288Z"
   },
   {
    "duration": 23,
    "start_time": "2023-03-02T06:57:00.208Z"
   },
   {
    "duration": 138,
    "start_time": "2023-03-02T07:17:13.429Z"
   },
   {
    "duration": 858,
    "start_time": "2023-03-02T07:19:58.457Z"
   },
   {
    "duration": 8,
    "start_time": "2023-03-02T07:20:13.994Z"
   },
   {
    "duration": 601,
    "start_time": "2023-03-02T07:22:51.661Z"
   },
   {
    "duration": 97,
    "start_time": "2023-03-02T07:23:30.763Z"
   },
   {
    "duration": 830,
    "start_time": "2023-03-02T07:23:39.667Z"
   },
   {
    "duration": 658,
    "start_time": "2023-03-02T07:26:27.706Z"
   },
   {
    "duration": 8,
    "start_time": "2023-03-02T07:26:34.539Z"
   },
   {
    "duration": 40,
    "start_time": "2023-03-02T07:26:41.985Z"
   },
   {
    "duration": 13,
    "start_time": "2023-03-02T07:26:57.264Z"
   },
   {
    "duration": 12,
    "start_time": "2023-03-02T07:27:05.120Z"
   },
   {
    "duration": 2035,
    "start_time": "2023-03-02T07:30:03.072Z"
   },
   {
    "duration": 11,
    "start_time": "2023-03-02T07:30:16.158Z"
   },
   {
    "duration": 16,
    "start_time": "2023-03-02T07:30:43.485Z"
   },
   {
    "duration": 12,
    "start_time": "2023-03-02T07:32:28.605Z"
   },
   {
    "duration": 13,
    "start_time": "2023-03-02T07:32:32.628Z"
   },
   {
    "duration": 13,
    "start_time": "2023-03-02T07:33:02.163Z"
   },
   {
    "duration": 12,
    "start_time": "2023-03-02T07:33:25.630Z"
   },
   {
    "duration": 13,
    "start_time": "2023-03-02T07:35:17.605Z"
   },
   {
    "duration": 13,
    "start_time": "2023-03-02T07:35:38.817Z"
   },
   {
    "duration": 19,
    "start_time": "2023-03-02T07:35:42.939Z"
   },
   {
    "duration": 16,
    "start_time": "2023-03-02T07:37:58.102Z"
   },
   {
    "duration": 12,
    "start_time": "2023-03-02T07:38:05.432Z"
   },
   {
    "duration": 11,
    "start_time": "2023-03-02T07:39:29.566Z"
   },
   {
    "duration": 6,
    "start_time": "2023-03-02T07:39:45.225Z"
   },
   {
    "duration": 1191,
    "start_time": "2023-03-02T07:40:23.460Z"
   },
   {
    "duration": 590,
    "start_time": "2023-03-02T07:40:24.653Z"
   },
   {
    "duration": 162,
    "start_time": "2023-03-02T07:40:25.245Z"
   },
   {
    "duration": 57,
    "start_time": "2023-03-02T07:40:25.409Z"
   },
   {
    "duration": 195,
    "start_time": "2023-03-02T07:40:25.468Z"
   },
   {
    "duration": 215,
    "start_time": "2023-03-02T07:40:25.665Z"
   },
   {
    "duration": 11,
    "start_time": "2023-03-02T07:40:25.881Z"
   },
   {
    "duration": 14,
    "start_time": "2023-03-02T07:40:25.893Z"
   },
   {
    "duration": 32,
    "start_time": "2023-03-02T07:40:25.909Z"
   },
   {
    "duration": 27,
    "start_time": "2023-03-02T07:40:25.944Z"
   },
   {
    "duration": 828,
    "start_time": "2023-03-02T07:40:25.972Z"
   },
   {
    "duration": 357,
    "start_time": "2023-03-02T07:40:26.802Z"
   },
   {
    "duration": 47,
    "start_time": "2023-03-02T07:40:27.160Z"
   },
   {
    "duration": 13,
    "start_time": "2023-03-02T07:40:27.209Z"
   },
   {
    "duration": 35,
    "start_time": "2023-03-02T07:40:27.224Z"
   },
   {
    "duration": 4,
    "start_time": "2023-03-02T07:40:27.261Z"
   },
   {
    "duration": 15,
    "start_time": "2023-03-02T07:40:27.267Z"
   },
   {
    "duration": 177,
    "start_time": "2023-03-02T07:40:27.283Z"
   },
   {
    "duration": 4,
    "start_time": "2023-03-02T07:40:27.461Z"
   },
   {
    "duration": 178,
    "start_time": "2023-03-02T07:40:27.467Z"
   },
   {
    "duration": 843,
    "start_time": "2023-03-02T07:40:27.647Z"
   },
   {
    "duration": 7,
    "start_time": "2023-03-02T07:40:28.491Z"
   },
   {
    "duration": 6,
    "start_time": "2023-03-02T07:40:28.499Z"
   },
   {
    "duration": 43,
    "start_time": "2023-03-02T07:40:28.506Z"
   },
   {
    "duration": 330,
    "start_time": "2023-03-02T07:40:28.550Z"
   },
   {
    "duration": 9,
    "start_time": "2023-03-02T07:40:28.882Z"
   },
   {
    "duration": 25,
    "start_time": "2023-03-02T07:40:28.893Z"
   },
   {
    "duration": 191,
    "start_time": "2023-03-02T07:40:28.921Z"
   },
   {
    "duration": 8,
    "start_time": "2023-03-02T07:40:29.114Z"
   },
   {
    "duration": 8,
    "start_time": "2023-03-02T07:40:29.123Z"
   },
   {
    "duration": 11,
    "start_time": "2023-03-02T07:40:29.133Z"
   },
   {
    "duration": 14,
    "start_time": "2023-03-02T07:40:29.147Z"
   },
   {
    "duration": 12,
    "start_time": "2023-03-02T07:42:22.067Z"
   },
   {
    "duration": 13,
    "start_time": "2023-03-02T07:43:08.247Z"
   },
   {
    "duration": 15,
    "start_time": "2023-03-02T07:43:52.548Z"
   },
   {
    "duration": 21,
    "start_time": "2023-03-02T07:44:39.188Z"
   },
   {
    "duration": 769,
    "start_time": "2023-03-02T07:47:35.232Z"
   },
   {
    "duration": 16,
    "start_time": "2023-03-02T07:47:36.776Z"
   },
   {
    "duration": 18,
    "start_time": "2023-03-02T07:48:04.954Z"
   },
   {
    "duration": 110,
    "start_time": "2023-03-02T07:48:33.041Z"
   },
   {
    "duration": 21,
    "start_time": "2023-03-02T07:48:39.341Z"
   },
   {
    "duration": 19,
    "start_time": "2023-03-02T07:48:49.067Z"
   },
   {
    "duration": 18,
    "start_time": "2023-03-02T07:49:12.189Z"
   },
   {
    "duration": 11,
    "start_time": "2023-03-02T07:49:29.412Z"
   },
   {
    "duration": 14,
    "start_time": "2023-03-02T07:49:35.298Z"
   },
   {
    "duration": 25,
    "start_time": "2023-03-02T07:52:27.699Z"
   },
   {
    "duration": 240,
    "start_time": "2023-03-02T08:01:10.880Z"
   },
   {
    "duration": 23,
    "start_time": "2023-03-02T08:01:19.601Z"
   },
   {
    "duration": 18,
    "start_time": "2023-03-02T08:01:45.082Z"
   },
   {
    "duration": 787,
    "start_time": "2023-03-02T08:02:22.119Z"
   },
   {
    "duration": 760,
    "start_time": "2023-03-02T08:02:53.219Z"
   },
   {
    "duration": 813,
    "start_time": "2023-03-02T08:03:04.966Z"
   },
   {
    "duration": 722,
    "start_time": "2023-03-02T08:03:09.672Z"
   },
   {
    "duration": 832,
    "start_time": "2023-03-02T08:03:23.459Z"
   },
   {
    "duration": 796,
    "start_time": "2023-03-02T08:03:25.748Z"
   },
   {
    "duration": 846,
    "start_time": "2023-03-02T08:03:32.234Z"
   },
   {
    "duration": 791,
    "start_time": "2023-03-02T08:03:58.974Z"
   },
   {
    "duration": 839,
    "start_time": "2023-03-02T08:04:06.467Z"
   },
   {
    "duration": 674,
    "start_time": "2023-03-02T08:04:21.352Z"
   },
   {
    "duration": 757,
    "start_time": "2023-03-02T08:04:26.936Z"
   },
   {
    "duration": 875,
    "start_time": "2023-03-02T08:04:45.076Z"
   },
   {
    "duration": 784,
    "start_time": "2023-03-02T08:04:52.331Z"
   },
   {
    "duration": 878,
    "start_time": "2023-03-02T08:05:00.941Z"
   },
   {
    "duration": 779,
    "start_time": "2023-03-02T08:05:06.956Z"
   },
   {
    "duration": 26,
    "start_time": "2023-03-02T08:07:21.648Z"
   },
   {
    "duration": 292,
    "start_time": "2023-03-02T08:07:32.223Z"
   },
   {
    "duration": 15,
    "start_time": "2023-03-02T08:08:10.169Z"
   },
   {
    "duration": 34,
    "start_time": "2023-03-02T08:08:25.287Z"
   },
   {
    "duration": 37,
    "start_time": "2023-03-02T08:08:30.969Z"
   },
   {
    "duration": 27,
    "start_time": "2023-03-02T08:08:39.783Z"
   },
   {
    "duration": 11,
    "start_time": "2023-03-02T08:08:42.996Z"
   },
   {
    "duration": 11,
    "start_time": "2023-03-02T08:08:46.922Z"
   },
   {
    "duration": 12,
    "start_time": "2023-03-02T08:13:37.710Z"
   },
   {
    "duration": 8,
    "start_time": "2023-03-02T08:17:02.669Z"
   },
   {
    "duration": 11,
    "start_time": "2023-03-02T08:21:07.997Z"
   },
   {
    "duration": 26,
    "start_time": "2023-03-02T08:21:12.957Z"
   },
   {
    "duration": 17,
    "start_time": "2023-03-02T08:21:23.509Z"
   },
   {
    "duration": 28,
    "start_time": "2023-03-02T08:22:06.743Z"
   },
   {
    "duration": 34,
    "start_time": "2023-03-02T08:25:08.226Z"
   },
   {
    "duration": 30,
    "start_time": "2023-03-02T08:25:33.954Z"
   },
   {
    "duration": 17,
    "start_time": "2023-03-02T08:26:07.026Z"
   },
   {
    "duration": 8,
    "start_time": "2023-03-02T08:26:47.306Z"
   },
   {
    "duration": 8,
    "start_time": "2023-03-02T08:26:51.786Z"
   },
   {
    "duration": 67,
    "start_time": "2023-03-02T08:29:17.228Z"
   },
   {
    "duration": 29,
    "start_time": "2023-03-02T08:30:09.025Z"
   },
   {
    "duration": 11,
    "start_time": "2023-03-02T08:33:12.204Z"
   },
   {
    "duration": 27,
    "start_time": "2023-03-02T08:33:58.453Z"
   },
   {
    "duration": 24,
    "start_time": "2023-03-02T08:34:25.983Z"
   },
   {
    "duration": 26,
    "start_time": "2023-03-02T08:35:19.110Z"
   },
   {
    "duration": 121,
    "start_time": "2023-03-02T08:40:24.939Z"
   },
   {
    "duration": 11,
    "start_time": "2023-03-02T08:51:15.752Z"
   },
   {
    "duration": 10,
    "start_time": "2023-03-02T08:51:28.631Z"
   },
   {
    "duration": 9,
    "start_time": "2023-03-02T08:54:22.962Z"
   },
   {
    "duration": 11,
    "start_time": "2023-03-02T08:54:45.365Z"
   },
   {
    "duration": 9,
    "start_time": "2023-03-02T08:54:53.625Z"
   },
   {
    "duration": 97,
    "start_time": "2023-03-02T08:55:55.231Z"
   },
   {
    "duration": 99,
    "start_time": "2023-03-02T08:56:04.678Z"
   },
   {
    "duration": 80,
    "start_time": "2023-03-02T08:56:15.065Z"
   },
   {
    "duration": 70,
    "start_time": "2023-03-02T08:56:19.006Z"
   },
   {
    "duration": 103,
    "start_time": "2023-03-02T08:56:26.206Z"
   },
   {
    "duration": 177,
    "start_time": "2023-03-02T08:56:38.303Z"
   },
   {
    "duration": 5,
    "start_time": "2023-03-02T08:56:45.873Z"
   },
   {
    "duration": 9,
    "start_time": "2023-03-02T08:56:49.322Z"
   },
   {
    "duration": 9,
    "start_time": "2023-03-02T08:57:01.116Z"
   },
   {
    "duration": 8,
    "start_time": "2023-03-02T08:57:14.565Z"
   },
   {
    "duration": 128,
    "start_time": "2023-03-02T08:58:46.831Z"
   },
   {
    "duration": 95,
    "start_time": "2023-03-02T09:09:14.811Z"
   },
   {
    "duration": 1136,
    "start_time": "2023-03-02T09:11:50.723Z"
   },
   {
    "duration": 570,
    "start_time": "2023-03-02T09:11:51.861Z"
   },
   {
    "duration": 122,
    "start_time": "2023-03-02T09:11:52.432Z"
   },
   {
    "duration": 33,
    "start_time": "2023-03-02T09:11:52.556Z"
   },
   {
    "duration": 187,
    "start_time": "2023-03-02T09:11:52.591Z"
   },
   {
    "duration": 220,
    "start_time": "2023-03-02T09:11:52.779Z"
   },
   {
    "duration": 10,
    "start_time": "2023-03-02T09:11:53.000Z"
   },
   {
    "duration": 20,
    "start_time": "2023-03-02T09:11:53.011Z"
   },
   {
    "duration": 17,
    "start_time": "2023-03-02T09:11:53.033Z"
   },
   {
    "duration": 15,
    "start_time": "2023-03-02T09:11:53.052Z"
   },
   {
    "duration": 842,
    "start_time": "2023-03-02T09:11:53.068Z"
   },
   {
    "duration": 337,
    "start_time": "2023-03-02T09:11:53.912Z"
   },
   {
    "duration": 38,
    "start_time": "2023-03-02T09:11:54.251Z"
   },
   {
    "duration": 12,
    "start_time": "2023-03-02T09:11:54.291Z"
   },
   {
    "duration": 12,
    "start_time": "2023-03-02T09:11:54.304Z"
   },
   {
    "duration": 4,
    "start_time": "2023-03-02T09:11:54.317Z"
   },
   {
    "duration": 16,
    "start_time": "2023-03-02T09:11:54.349Z"
   },
   {
    "duration": 152,
    "start_time": "2023-03-02T09:11:54.367Z"
   },
   {
    "duration": 4,
    "start_time": "2023-03-02T09:11:54.521Z"
   },
   {
    "duration": 150,
    "start_time": "2023-03-02T09:11:54.527Z"
   },
   {
    "duration": 904,
    "start_time": "2023-03-02T09:11:54.679Z"
   },
   {
    "duration": 14,
    "start_time": "2023-03-02T09:11:55.585Z"
   },
   {
    "duration": 13,
    "start_time": "2023-03-02T09:11:55.601Z"
   },
   {
    "duration": 44,
    "start_time": "2023-03-02T09:11:55.617Z"
   },
   {
    "duration": 370,
    "start_time": "2023-03-02T09:11:55.663Z"
   },
   {
    "duration": 26,
    "start_time": "2023-03-02T09:11:56.035Z"
   },
   {
    "duration": 150,
    "start_time": "2023-03-02T09:11:56.062Z"
   },
   {
    "duration": 9,
    "start_time": "2023-03-02T09:11:56.214Z"
   },
   {
    "duration": 73,
    "start_time": "2023-03-02T09:11:56.224Z"
   },
   {
    "duration": 54,
    "start_time": "2023-03-02T09:11:56.299Z"
   },
   {
    "duration": 27,
    "start_time": "2023-03-02T09:11:56.354Z"
   },
   {
    "duration": 14,
    "start_time": "2023-03-02T09:11:56.383Z"
   },
   {
    "duration": 1085,
    "start_time": "2023-03-02T19:48:13.474Z"
   },
   {
    "duration": 880,
    "start_time": "2023-03-02T19:48:14.560Z"
   },
   {
    "duration": 127,
    "start_time": "2023-03-02T19:48:15.442Z"
   },
   {
    "duration": 71,
    "start_time": "2023-03-02T19:48:15.572Z"
   },
   {
    "duration": 184,
    "start_time": "2023-03-02T19:48:15.645Z"
   },
   {
    "duration": 233,
    "start_time": "2023-03-02T19:48:15.830Z"
   },
   {
    "duration": 12,
    "start_time": "2023-03-02T19:48:16.066Z"
   },
   {
    "duration": 19,
    "start_time": "2023-03-02T19:48:16.079Z"
   },
   {
    "duration": 31,
    "start_time": "2023-03-02T19:48:16.100Z"
   },
   {
    "duration": 18,
    "start_time": "2023-03-02T19:48:16.134Z"
   },
   {
    "duration": 873,
    "start_time": "2023-03-02T19:48:16.154Z"
   },
   {
    "duration": 350,
    "start_time": "2023-03-02T19:48:17.029Z"
   },
   {
    "duration": 50,
    "start_time": "2023-03-02T19:48:17.380Z"
   },
   {
    "duration": 11,
    "start_time": "2023-03-02T19:48:17.432Z"
   },
   {
    "duration": 12,
    "start_time": "2023-03-02T19:48:17.444Z"
   },
   {
    "duration": 4,
    "start_time": "2023-03-02T19:48:17.457Z"
   },
   {
    "duration": 17,
    "start_time": "2023-03-02T19:48:17.463Z"
   },
   {
    "duration": 148,
    "start_time": "2023-03-02T19:48:17.482Z"
   },
   {
    "duration": 3,
    "start_time": "2023-03-02T19:48:17.632Z"
   },
   {
    "duration": 141,
    "start_time": "2023-03-02T19:48:17.637Z"
   },
   {
    "duration": 824,
    "start_time": "2023-03-02T19:48:17.780Z"
   },
   {
    "duration": 20,
    "start_time": "2023-03-02T19:48:18.606Z"
   },
   {
    "duration": 11,
    "start_time": "2023-03-02T19:48:18.628Z"
   },
   {
    "duration": 40,
    "start_time": "2023-03-02T19:48:18.640Z"
   },
   {
    "duration": 324,
    "start_time": "2023-03-02T19:48:18.681Z"
   },
   {
    "duration": 30,
    "start_time": "2023-03-02T19:48:19.006Z"
   },
   {
    "duration": 339,
    "start_time": "2023-03-02T19:48:19.038Z"
   },
   {
    "duration": 12,
    "start_time": "2023-03-02T19:48:19.382Z"
   },
   {
    "duration": 140,
    "start_time": "2023-03-02T19:48:19.395Z"
   },
   {
    "duration": 8,
    "start_time": "2023-03-02T19:48:19.537Z"
   },
   {
    "duration": 9,
    "start_time": "2023-03-02T19:48:19.547Z"
   },
   {
    "duration": 20,
    "start_time": "2023-03-02T19:48:19.558Z"
   },
   {
    "duration": 6,
    "start_time": "2023-03-02T19:49:22.010Z"
   },
   {
    "duration": 5,
    "start_time": "2023-03-02T19:49:33.210Z"
   },
   {
    "duration": 10,
    "start_time": "2023-03-02T19:50:09.507Z"
   },
   {
    "duration": 1283,
    "start_time": "2023-03-12T08:37:44.469Z"
   },
   {
    "duration": 2032,
    "start_time": "2023-03-12T08:37:45.754Z"
   },
   {
    "duration": 142,
    "start_time": "2023-03-12T08:37:47.788Z"
   },
   {
    "duration": 35,
    "start_time": "2023-03-12T08:37:47.932Z"
   },
   {
    "duration": 231,
    "start_time": "2023-03-12T08:37:47.970Z"
   },
   {
    "duration": 283,
    "start_time": "2023-03-12T08:37:48.204Z"
   },
   {
    "duration": 11,
    "start_time": "2023-03-12T08:37:48.489Z"
   },
   {
    "duration": 24,
    "start_time": "2023-03-12T08:37:48.502Z"
   },
   {
    "duration": 14,
    "start_time": "2023-03-12T08:37:48.528Z"
   },
   {
    "duration": 17,
    "start_time": "2023-03-12T08:37:48.545Z"
   },
   {
    "duration": 987,
    "start_time": "2023-03-12T08:37:48.563Z"
   },
   {
    "duration": 459,
    "start_time": "2023-03-12T08:37:49.552Z"
   },
   {
    "duration": 51,
    "start_time": "2023-03-12T08:37:50.020Z"
   },
   {
    "duration": 16,
    "start_time": "2023-03-12T08:37:50.073Z"
   },
   {
    "duration": 39,
    "start_time": "2023-03-12T08:37:50.091Z"
   },
   {
    "duration": 18,
    "start_time": "2023-03-12T08:37:50.132Z"
   },
   {
    "duration": 42,
    "start_time": "2023-03-12T08:37:50.152Z"
   },
   {
    "duration": 238,
    "start_time": "2023-03-12T08:37:50.196Z"
   },
   {
    "duration": 6,
    "start_time": "2023-03-12T08:37:50.436Z"
   },
   {
    "duration": 231,
    "start_time": "2023-03-12T08:37:50.444Z"
   },
   {
    "duration": 913,
    "start_time": "2023-03-12T08:37:50.677Z"
   },
   {
    "duration": 16,
    "start_time": "2023-03-12T08:37:51.592Z"
   },
   {
    "duration": 18,
    "start_time": "2023-03-12T08:37:51.621Z"
   },
   {
    "duration": 45,
    "start_time": "2023-03-12T08:37:51.641Z"
   },
   {
    "duration": 407,
    "start_time": "2023-03-12T08:37:51.689Z"
   },
   {
    "duration": 48,
    "start_time": "2023-03-12T08:37:52.098Z"
   },
   {
    "duration": 179,
    "start_time": "2023-03-12T08:37:52.148Z"
   },
   {
    "duration": 10,
    "start_time": "2023-03-12T08:37:52.330Z"
   },
   {
    "duration": 138,
    "start_time": "2023-03-12T08:37:52.341Z"
   },
   {
    "duration": 46,
    "start_time": "2023-03-12T08:37:52.481Z"
   },
   {
    "duration": 10,
    "start_time": "2023-03-12T08:37:52.529Z"
   },
   {
    "duration": 13,
    "start_time": "2023-03-12T08:37:52.541Z"
   },
   {
    "duration": 12,
    "start_time": "2023-03-12T08:37:52.556Z"
   }
  ],
  "kernelspec": {
   "display_name": "Python 3 (ipykernel)",
   "language": "python",
   "name": "python3"
  },
  "language_info": {
   "codemirror_mode": {
    "name": "ipython",
    "version": 3
   },
   "file_extension": ".py",
   "mimetype": "text/x-python",
   "name": "python",
   "nbconvert_exporter": "python",
   "pygments_lexer": "ipython3",
   "version": "3.9.5"
  },
  "toc": {
   "base_numbering": 1,
   "nav_menu": {},
   "number_sections": true,
   "sideBar": true,
   "skip_h1_title": true,
   "title_cell": "Table of Contents",
   "title_sidebar": "Contents",
   "toc_cell": false,
   "toc_position": {
    "height": "calc(100% - 180px)",
    "left": "10px",
    "top": "150px",
    "width": "323.542px"
   },
   "toc_section_display": true,
   "toc_window_display": true
  }
 },
 "nbformat": 4,
 "nbformat_minor": 2
}
