{
 "cells": [
  {
   "cell_type": "markdown",
   "metadata": {},
   "source": [
    "\n",
    "# Исследование поведения пользователей мобильного приложения\n",
    "<br>\n",
    "\n",
    "\n",
    "**Описание проекта**<br>\n",
    "\n",
    "Мы работаем в стартапе, который продаёт продукты питания. <br>\n",
    "Нужно разобраться, как ведут себя пользователи нашего мобильного приложения. \n",
    "\n",
    "*Для этого изучим воронку продаж и узнаем:*<br> \n",
    " - как пользователи доходят до покупки,<br>\n",
    " - сколько пользователей доходит до покупки, а сколько — «застревает» на предыдущих шагах,<br>\n",
    " - на каких именно?\n",
    "\n",
    "*После исследуем результаты A/A/B-эксперимента.* <br>\n",
    "\n",
    "Дизайнеры захотели поменять шрифты во всём приложении, а менеджеры испугались, что пользователям будет непривычно. <br>\n",
    "Договорились принять решение по результатам A/A/B-теста.<br>\n",
    "\n",
    "Пользователей разделим на 3 группы: 2 контрольные со старыми шрифтами и одну экспериментальную — с новыми. <br>\n",
    "Выясним, какой шрифт лучше.\n",
    "\n",
    "\n",
    "**Итак, общий план исследования:**\n",
    "\n",
    "1. Обзор данных,\n",
    "2. Предобработка данных,\n",
    "3. Изучение данных,\n",
    "4. Изучение воронки событий,\n",
    "5. Анализ результатов А/А/В-теста, принятие решения по по дальнейшим действиям,\n",
    "6. Общий вывод по результатам исследования."
   ]
  },
  {
   "cell_type": "markdown",
   "metadata": {},
   "source": [
    "### Обзор данных"
   ]
  },
  {
   "cell_type": "code",
   "execution_count": 1,
   "metadata": {},
   "outputs": [],
   "source": [
    "# Импортируем нужные библиотеки для чтения файлов, построения графиков и проведения расчетов\n",
    "\n",
    "import pandas as pd\n",
    "import numpy as np\n",
    "from matplotlib import pyplot as plt\n",
    "import math as mth\n",
    "import seaborn as sns\n",
    "from scipy import stats as st\n",
    "from datetime import timedelta\n",
    "import datetime as dt\n",
    "from plotly import graph_objects as go\n",
    "\n",
    "import warnings\n",
    "warnings.filterwarnings('ignore')"
   ]
  },
  {
   "cell_type": "code",
   "execution_count": 2,
   "metadata": {},
   "outputs": [
    {
     "data": {
      "text/html": [
       "<div>\n",
       "<style scoped>\n",
       "    .dataframe tbody tr th:only-of-type {\n",
       "        vertical-align: middle;\n",
       "    }\n",
       "\n",
       "    .dataframe tbody tr th {\n",
       "        vertical-align: top;\n",
       "    }\n",
       "\n",
       "    .dataframe thead th {\n",
       "        text-align: right;\n",
       "    }\n",
       "</style>\n",
       "<table border=\"1\" class=\"dataframe\">\n",
       "  <thead>\n",
       "    <tr style=\"text-align: right;\">\n",
       "      <th></th>\n",
       "      <th>EventName</th>\n",
       "      <th>DeviceIDHash</th>\n",
       "      <th>EventTimestamp</th>\n",
       "      <th>ExpId</th>\n",
       "    </tr>\n",
       "  </thead>\n",
       "  <tbody>\n",
       "    <tr>\n",
       "      <th>0</th>\n",
       "      <td>MainScreenAppear</td>\n",
       "      <td>4575588528974610257</td>\n",
       "      <td>1564029816</td>\n",
       "      <td>246</td>\n",
       "    </tr>\n",
       "    <tr>\n",
       "      <th>1</th>\n",
       "      <td>MainScreenAppear</td>\n",
       "      <td>7416695313311560658</td>\n",
       "      <td>1564053102</td>\n",
       "      <td>246</td>\n",
       "    </tr>\n",
       "    <tr>\n",
       "      <th>2</th>\n",
       "      <td>PaymentScreenSuccessful</td>\n",
       "      <td>3518123091307005509</td>\n",
       "      <td>1564054127</td>\n",
       "      <td>248</td>\n",
       "    </tr>\n",
       "    <tr>\n",
       "      <th>3</th>\n",
       "      <td>CartScreenAppear</td>\n",
       "      <td>3518123091307005509</td>\n",
       "      <td>1564054127</td>\n",
       "      <td>248</td>\n",
       "    </tr>\n",
       "    <tr>\n",
       "      <th>4</th>\n",
       "      <td>PaymentScreenSuccessful</td>\n",
       "      <td>6217807653094995999</td>\n",
       "      <td>1564055322</td>\n",
       "      <td>248</td>\n",
       "    </tr>\n",
       "    <tr>\n",
       "      <th>...</th>\n",
       "      <td>...</td>\n",
       "      <td>...</td>\n",
       "      <td>...</td>\n",
       "      <td>...</td>\n",
       "    </tr>\n",
       "    <tr>\n",
       "      <th>244121</th>\n",
       "      <td>MainScreenAppear</td>\n",
       "      <td>4599628364049201812</td>\n",
       "      <td>1565212345</td>\n",
       "      <td>247</td>\n",
       "    </tr>\n",
       "    <tr>\n",
       "      <th>244122</th>\n",
       "      <td>MainScreenAppear</td>\n",
       "      <td>5849806612437486590</td>\n",
       "      <td>1565212439</td>\n",
       "      <td>246</td>\n",
       "    </tr>\n",
       "    <tr>\n",
       "      <th>244123</th>\n",
       "      <td>MainScreenAppear</td>\n",
       "      <td>5746969938801999050</td>\n",
       "      <td>1565212483</td>\n",
       "      <td>246</td>\n",
       "    </tr>\n",
       "    <tr>\n",
       "      <th>244124</th>\n",
       "      <td>MainScreenAppear</td>\n",
       "      <td>5746969938801999050</td>\n",
       "      <td>1565212498</td>\n",
       "      <td>246</td>\n",
       "    </tr>\n",
       "    <tr>\n",
       "      <th>244125</th>\n",
       "      <td>OffersScreenAppear</td>\n",
       "      <td>5746969938801999050</td>\n",
       "      <td>1565212517</td>\n",
       "      <td>246</td>\n",
       "    </tr>\n",
       "  </tbody>\n",
       "</table>\n",
       "<p>244126 rows × 4 columns</p>\n",
       "</div>"
      ],
      "text/plain": [
       "                      EventName         DeviceIDHash  EventTimestamp  ExpId\n",
       "0              MainScreenAppear  4575588528974610257      1564029816    246\n",
       "1              MainScreenAppear  7416695313311560658      1564053102    246\n",
       "2       PaymentScreenSuccessful  3518123091307005509      1564054127    248\n",
       "3              CartScreenAppear  3518123091307005509      1564054127    248\n",
       "4       PaymentScreenSuccessful  6217807653094995999      1564055322    248\n",
       "...                         ...                  ...             ...    ...\n",
       "244121         MainScreenAppear  4599628364049201812      1565212345    247\n",
       "244122         MainScreenAppear  5849806612437486590      1565212439    246\n",
       "244123         MainScreenAppear  5746969938801999050      1565212483    246\n",
       "244124         MainScreenAppear  5746969938801999050      1565212498    246\n",
       "244125       OffersScreenAppear  5746969938801999050      1565212517    246\n",
       "\n",
       "[244126 rows x 4 columns]"
      ]
     },
     "execution_count": 2,
     "metadata": {},
     "output_type": "execute_result"
    }
   ],
   "source": [
    "# Загрузим файл\n",
    "df = pd.read_csv('/datasets/logs_exp.csv', sep='\\t')\n",
    "pd.options.display.max_colwidth = 150  \n",
    "\n",
    "# Чтобы отображались все столбцы, добавим настройку\n",
    "pd.set_option('display.max_columns', None)\n",
    "\n",
    "df"
   ]
  },
  {
   "cell_type": "code",
   "execution_count": 3,
   "metadata": {
    "scrolled": false
   },
   "outputs": [
    {
     "name": "stdout",
     "output_type": "stream",
     "text": [
      "<class 'pandas.core.frame.DataFrame'>\n",
      "RangeIndex: 244126 entries, 0 to 244125\n",
      "Data columns (total 4 columns):\n",
      " #   Column          Non-Null Count   Dtype \n",
      "---  ------          --------------   ----- \n",
      " 0   EventName       244126 non-null  object\n",
      " 1   DeviceIDHash    244126 non-null  int64 \n",
      " 2   EventTimestamp  244126 non-null  int64 \n",
      " 3   ExpId           244126 non-null  int64 \n",
      "dtypes: int64(3), object(1)\n",
      "memory usage: 7.5+ MB\n"
     ]
    }
   ],
   "source": [
    "# Изучим общую информацию о файле\n",
    "df.info()"
   ]
  },
  {
   "cell_type": "markdown",
   "metadata": {},
   "source": [
    "**Вывод по обзору данных**<br>\n",
    "\n",
    "Пока видим следующее:\n",
    "\n",
    " - В датасете 4 столбца - логи действий пользователей.<br>\n",
    " Каждая запись в логе — это действие пользователя, или событие: \n",
    "   - EventName — название события;\n",
    "   - DeviceIDHash — уникальный идентификатор пользователя;\n",
    "   - EventTimestamp — время события;\n",
    "   - ExpId — номер эксперимента: 246 и 247 — контрольные группы, а 248 — экспериментальная.<br>\n",
    "\n",
    "\n",
    " - пропусков нет,\n",
    " - необходимо привести столбцы к нижнему регистру,\n",
    " - необходимо привести столбец со временем события EventTimestamp к корректному формату.\n",
    "<br>\n",
    "\n",
    "Кроме того, добавим столбец даты и времени, а также отдельный столбец дат."
   ]
  },
  {
   "cell_type": "markdown",
   "metadata": {},
   "source": [
    "### Предобработка данных"
   ]
  },
  {
   "cell_type": "code",
   "execution_count": 4,
   "metadata": {},
   "outputs": [
    {
     "data": {
      "text/plain": [
       "Index(['event_name', 'user_id', 'event_timestamp', 'exp_id'], dtype='object')"
      ]
     },
     "execution_count": 4,
     "metadata": {},
     "output_type": "execute_result"
    }
   ],
   "source": [
    "# Заменим названия столбцов, проверим результат\n",
    "df.columns = ['event_name', 'user_id', 'event_timestamp', 'exp_id']\n",
    "df.columns"
   ]
  },
  {
   "cell_type": "code",
   "execution_count": 5,
   "metadata": {},
   "outputs": [
    {
     "data": {
      "text/html": [
       "<div>\n",
       "<style scoped>\n",
       "    .dataframe tbody tr th:only-of-type {\n",
       "        vertical-align: middle;\n",
       "    }\n",
       "\n",
       "    .dataframe tbody tr th {\n",
       "        vertical-align: top;\n",
       "    }\n",
       "\n",
       "    .dataframe thead th {\n",
       "        text-align: right;\n",
       "    }\n",
       "</style>\n",
       "<table border=\"1\" class=\"dataframe\">\n",
       "  <thead>\n",
       "    <tr style=\"text-align: right;\">\n",
       "      <th></th>\n",
       "      <th>event_name</th>\n",
       "      <th>user_id</th>\n",
       "      <th>event_timestamp</th>\n",
       "      <th>exp_id</th>\n",
       "      <th>date_time</th>\n",
       "      <th>date</th>\n",
       "    </tr>\n",
       "  </thead>\n",
       "  <tbody>\n",
       "    <tr>\n",
       "      <th>0</th>\n",
       "      <td>MainScreenAppear</td>\n",
       "      <td>4575588528974610257</td>\n",
       "      <td>2019-07-25 04:43:36</td>\n",
       "      <td>246</td>\n",
       "      <td>2019-07-25 04:43:36</td>\n",
       "      <td>2019-07-25</td>\n",
       "    </tr>\n",
       "    <tr>\n",
       "      <th>1</th>\n",
       "      <td>MainScreenAppear</td>\n",
       "      <td>7416695313311560658</td>\n",
       "      <td>2019-07-25 11:11:42</td>\n",
       "      <td>246</td>\n",
       "      <td>2019-07-25 11:11:42</td>\n",
       "      <td>2019-07-25</td>\n",
       "    </tr>\n",
       "    <tr>\n",
       "      <th>2</th>\n",
       "      <td>PaymentScreenSuccessful</td>\n",
       "      <td>3518123091307005509</td>\n",
       "      <td>2019-07-25 11:28:47</td>\n",
       "      <td>248</td>\n",
       "      <td>2019-07-25 11:28:47</td>\n",
       "      <td>2019-07-25</td>\n",
       "    </tr>\n",
       "    <tr>\n",
       "      <th>3</th>\n",
       "      <td>CartScreenAppear</td>\n",
       "      <td>3518123091307005509</td>\n",
       "      <td>2019-07-25 11:28:47</td>\n",
       "      <td>248</td>\n",
       "      <td>2019-07-25 11:28:47</td>\n",
       "      <td>2019-07-25</td>\n",
       "    </tr>\n",
       "    <tr>\n",
       "      <th>4</th>\n",
       "      <td>PaymentScreenSuccessful</td>\n",
       "      <td>6217807653094995999</td>\n",
       "      <td>2019-07-25 11:48:42</td>\n",
       "      <td>248</td>\n",
       "      <td>2019-07-25 11:48:42</td>\n",
       "      <td>2019-07-25</td>\n",
       "    </tr>\n",
       "    <tr>\n",
       "      <th>...</th>\n",
       "      <td>...</td>\n",
       "      <td>...</td>\n",
       "      <td>...</td>\n",
       "      <td>...</td>\n",
       "      <td>...</td>\n",
       "      <td>...</td>\n",
       "    </tr>\n",
       "    <tr>\n",
       "      <th>244121</th>\n",
       "      <td>MainScreenAppear</td>\n",
       "      <td>4599628364049201812</td>\n",
       "      <td>2019-08-07 21:12:25</td>\n",
       "      <td>247</td>\n",
       "      <td>2019-08-07 21:12:25</td>\n",
       "      <td>2019-08-07</td>\n",
       "    </tr>\n",
       "    <tr>\n",
       "      <th>244122</th>\n",
       "      <td>MainScreenAppear</td>\n",
       "      <td>5849806612437486590</td>\n",
       "      <td>2019-08-07 21:13:59</td>\n",
       "      <td>246</td>\n",
       "      <td>2019-08-07 21:13:59</td>\n",
       "      <td>2019-08-07</td>\n",
       "    </tr>\n",
       "    <tr>\n",
       "      <th>244123</th>\n",
       "      <td>MainScreenAppear</td>\n",
       "      <td>5746969938801999050</td>\n",
       "      <td>2019-08-07 21:14:43</td>\n",
       "      <td>246</td>\n",
       "      <td>2019-08-07 21:14:43</td>\n",
       "      <td>2019-08-07</td>\n",
       "    </tr>\n",
       "    <tr>\n",
       "      <th>244124</th>\n",
       "      <td>MainScreenAppear</td>\n",
       "      <td>5746969938801999050</td>\n",
       "      <td>2019-08-07 21:14:58</td>\n",
       "      <td>246</td>\n",
       "      <td>2019-08-07 21:14:58</td>\n",
       "      <td>2019-08-07</td>\n",
       "    </tr>\n",
       "    <tr>\n",
       "      <th>244125</th>\n",
       "      <td>OffersScreenAppear</td>\n",
       "      <td>5746969938801999050</td>\n",
       "      <td>2019-08-07 21:15:17</td>\n",
       "      <td>246</td>\n",
       "      <td>2019-08-07 21:15:17</td>\n",
       "      <td>2019-08-07</td>\n",
       "    </tr>\n",
       "  </tbody>\n",
       "</table>\n",
       "<p>244126 rows × 6 columns</p>\n",
       "</div>"
      ],
      "text/plain": [
       "                     event_name              user_id     event_timestamp  \\\n",
       "0              MainScreenAppear  4575588528974610257 2019-07-25 04:43:36   \n",
       "1              MainScreenAppear  7416695313311560658 2019-07-25 11:11:42   \n",
       "2       PaymentScreenSuccessful  3518123091307005509 2019-07-25 11:28:47   \n",
       "3              CartScreenAppear  3518123091307005509 2019-07-25 11:28:47   \n",
       "4       PaymentScreenSuccessful  6217807653094995999 2019-07-25 11:48:42   \n",
       "...                         ...                  ...                 ...   \n",
       "244121         MainScreenAppear  4599628364049201812 2019-08-07 21:12:25   \n",
       "244122         MainScreenAppear  5849806612437486590 2019-08-07 21:13:59   \n",
       "244123         MainScreenAppear  5746969938801999050 2019-08-07 21:14:43   \n",
       "244124         MainScreenAppear  5746969938801999050 2019-08-07 21:14:58   \n",
       "244125       OffersScreenAppear  5746969938801999050 2019-08-07 21:15:17   \n",
       "\n",
       "        exp_id           date_time       date  \n",
       "0          246 2019-07-25 04:43:36 2019-07-25  \n",
       "1          246 2019-07-25 11:11:42 2019-07-25  \n",
       "2          248 2019-07-25 11:28:47 2019-07-25  \n",
       "3          248 2019-07-25 11:28:47 2019-07-25  \n",
       "4          248 2019-07-25 11:48:42 2019-07-25  \n",
       "...        ...                 ...        ...  \n",
       "244121     247 2019-08-07 21:12:25 2019-08-07  \n",
       "244122     246 2019-08-07 21:13:59 2019-08-07  \n",
       "244123     246 2019-08-07 21:14:43 2019-08-07  \n",
       "244124     246 2019-08-07 21:14:58 2019-08-07  \n",
       "244125     246 2019-08-07 21:15:17 2019-08-07  \n",
       "\n",
       "[244126 rows x 6 columns]"
      ]
     },
     "execution_count": 5,
     "metadata": {},
     "output_type": "execute_result"
    }
   ],
   "source": [
    "# Скорректируем тип данных в столбце с временем\n",
    "df['event_timestamp'] = df['event_timestamp'].astype('datetime64[s]')\n",
    "\n",
    "# Добавим столбец даты и времени, а также отдельный столбец дат\n",
    "df['date_time'] = pd.to_datetime(df['event_timestamp'], unit='s')\n",
    "df['date'] = df['date_time'].astype('datetime64[D]')\n",
    "\n",
    "df"
   ]
  },
  {
   "cell_type": "code",
   "execution_count": 6,
   "metadata": {},
   "outputs": [
    {
     "data": {
      "text/plain": [
       "413"
      ]
     },
     "execution_count": 6,
     "metadata": {},
     "output_type": "execute_result"
    }
   ],
   "source": [
    "# Проверим на дубликаты\n",
    "df.duplicated().sum()"
   ]
  },
  {
   "cell_type": "code",
   "execution_count": 7,
   "metadata": {},
   "outputs": [
    {
     "data": {
      "text/plain": [
       "0"
      ]
     },
     "execution_count": 7,
     "metadata": {},
     "output_type": "execute_result"
    }
   ],
   "source": [
    "# Удалим дубликаты, обновим индекс\n",
    "df = df.drop_duplicates().reset_index(drop=True)\n",
    "\n",
    "# Проверим результат\n",
    "df.duplicated().sum()"
   ]
  },
  {
   "cell_type": "code",
   "execution_count": 8,
   "metadata": {
    "scrolled": false
   },
   "outputs": [
    {
     "name": "stdout",
     "output_type": "stream",
     "text": [
      "<class 'pandas.core.frame.DataFrame'>\n",
      "RangeIndex: 243713 entries, 0 to 243712\n",
      "Data columns (total 6 columns):\n",
      " #   Column           Non-Null Count   Dtype         \n",
      "---  ------           --------------   -----         \n",
      " 0   event_name       243713 non-null  object        \n",
      " 1   user_id          243713 non-null  int64         \n",
      " 2   event_timestamp  243713 non-null  datetime64[ns]\n",
      " 3   exp_id           243713 non-null  int64         \n",
      " 4   date_time        243713 non-null  datetime64[ns]\n",
      " 5   date             243713 non-null  datetime64[ns]\n",
      "dtypes: datetime64[ns](3), int64(2), object(1)\n",
      "memory usage: 11.2+ MB\n"
     ]
    }
   ],
   "source": [
    "# Еще раз взглянем на общую информацию о датасете после всех изменений\n",
    "df.info()"
   ]
  },
  {
   "cell_type": "markdown",
   "metadata": {},
   "source": [
    "**Вывод по предобработке данных**\n",
    "\n",
    "Что мы сделали в результате предобработки:\n",
    "\n",
    " - перевели названия столбцов в \"змеиный регистр\",\n",
    " - скорректировали тип данных в столбце с временем event_timestamp,\n",
    " - создали столбец даты и времени timestamp, а также отдельный столбец дат,\n",
    " - немного сократили память, занимаемую столбцами user_id и exp_id (хотя на общем фоне это не так заметно из-за добавления новых столбцов),\n",
    " - удалили 413 дубликатов.\n",
    "<br>\n",
    "\n",
    "Переходим к изучению данных."
   ]
  },
  {
   "cell_type": "markdown",
   "metadata": {},
   "source": [
    "### Изучение данных"
   ]
  },
  {
   "cell_type": "code",
   "execution_count": 9,
   "metadata": {},
   "outputs": [
    {
     "name": "stdout",
     "output_type": "stream",
     "text": [
      "Всего в логе 243713 событий.\n"
     ]
    }
   ],
   "source": [
    "# Посчитаем количество событий в логе\n",
    "events = df['event_name'].count()\n",
    "print('Всего в логе', events, 'событий.')"
   ]
  },
  {
   "cell_type": "code",
   "execution_count": 10,
   "metadata": {},
   "outputs": [
    {
     "name": "stdout",
     "output_type": "stream",
     "text": [
      "Количество каждого события:\n",
      "\n",
      "MainScreenAppear           119101\n",
      "OffersScreenAppear          46808\n",
      "CartScreenAppear            42668\n",
      "PaymentScreenSuccessful     34118\n",
      "Tutorial                     1018\n",
      "Name: event_name, dtype: int64\n"
     ]
    }
   ],
   "source": [
    "# Посмотрим разбивку по каждому событию\n",
    "print('Количество каждого события:')\n",
    "print()\n",
    "print(df['event_name'].value_counts())"
   ]
  },
  {
   "cell_type": "code",
   "execution_count": 11,
   "metadata": {},
   "outputs": [
    {
     "name": "stdout",
     "output_type": "stream",
     "text": [
      "Количество пользователей в логе: 7551\n"
     ]
    }
   ],
   "source": [
    "# Посчитаем количество пользователей в логе\n",
    "users = df['user_id'].nunique()\n",
    "print('Количество пользователей в логе:', users)"
   ]
  },
  {
   "cell_type": "code",
   "execution_count": 12,
   "metadata": {},
   "outputs": [
    {
     "name": "stdout",
     "output_type": "stream",
     "text": [
      "Среднее количество событий на пользователя: 32.0\n"
     ]
    }
   ],
   "source": [
    "# Вычислим среднее количество событий на пользователя\n",
    "print('Среднее количество событий на пользователя:', (events / users).round())"
   ]
  },
  {
   "cell_type": "code",
   "execution_count": 13,
   "metadata": {},
   "outputs": [
    {
     "name": "stdout",
     "output_type": "stream",
     "text": [
      "Исследуемый период: с 2019-07-25 04:43:36 до 2019-08-07 21:15:17, разница 13 days 16:31:41.\n"
     ]
    }
   ],
   "source": [
    "# Выясним минимальную и максимальную дату исследуемого периода\n",
    "first_date = df['date_time'].min()\n",
    "last_date = df['date_time'].max()\n",
    "\n",
    "# Посчитаем величину периода\n",
    "diff = last_date - first_date\n",
    "\n",
    "# Выведем результат\n",
    "print('Исследуемый период: с %s до %s, разница %s.' % (first_date, last_date, diff))"
   ]
  },
  {
   "cell_type": "markdown",
   "metadata": {},
   "source": [
    "Построим гистограмму по дате и времени, чтобы быть уверенными, что у нас одинаково полные данные за весь период.<br>\n",
    "\n",
    "Технически в логи новых дней по некоторым пользователям могут «доезжать» события из прошлого — это может «перекашивать данные». \n",
    "<br>\n",
    "Определим, с какого момента данные полные и отбросим более старые.<br>\n",
    "\n",
    "Выясним, данными за какой период времени мы располагаем на самом деле."
   ]
  },
  {
   "cell_type": "code",
   "execution_count": 14,
   "metadata": {},
   "outputs": [
    {
     "data": {
      "image/png": "[encoded data removed]",
      "text/plain": [
       "<Figure size 1080x360 with 1 Axes>"
      ]
     },
     "metadata": {
      "needs_background": "light"
     },
     "output_type": "display_data"
    }
   ],
   "source": [
    "# Построим наглядную гистограмму\n",
    "plt.figure(figsize=(15,5))\n",
    "ax = df['event_timestamp'].hist(bins=df['date'].nunique())\n",
    "plt.title('Гистограмма даты и времени')\n",
    "plt.ylabel(\"Количество событий\")\n",
    "plt.xlabel(\"Дата\")\n",
    "plt.xticks(rotation=45)\n",
    "plt.show()"
   ]
  },
  {
   "cell_type": "markdown",
   "metadata": {},
   "source": [
    "Основная масса данных - записи второй из двух исследуемых недель.<br>\n",
    "Принимаем решение отказаться от данных первой недели (мало данных), сосредоточимся только на неделе 01 - 07 августа 2019."
   ]
  },
  {
   "cell_type": "code",
   "execution_count": 15,
   "metadata": {},
   "outputs": [
    {
     "data": {
      "text/html": [
       "<div>\n",
       "<style scoped>\n",
       "    .dataframe tbody tr th:only-of-type {\n",
       "        vertical-align: middle;\n",
       "    }\n",
       "\n",
       "    .dataframe tbody tr th {\n",
       "        vertical-align: top;\n",
       "    }\n",
       "\n",
       "    .dataframe thead th {\n",
       "        text-align: right;\n",
       "    }\n",
       "</style>\n",
       "<table border=\"1\" class=\"dataframe\">\n",
       "  <thead>\n",
       "    <tr style=\"text-align: right;\">\n",
       "      <th></th>\n",
       "      <th>event_name</th>\n",
       "      <th>user_id</th>\n",
       "      <th>event_timestamp</th>\n",
       "      <th>exp_id</th>\n",
       "      <th>date_time</th>\n",
       "      <th>date</th>\n",
       "    </tr>\n",
       "  </thead>\n",
       "  <tbody>\n",
       "    <tr>\n",
       "      <th>0</th>\n",
       "      <td>Tutorial</td>\n",
       "      <td>3737462046622621720</td>\n",
       "      <td>2019-08-01 00:07:28</td>\n",
       "      <td>246</td>\n",
       "      <td>2019-08-01 00:07:28</td>\n",
       "      <td>2019-08-01</td>\n",
       "    </tr>\n",
       "    <tr>\n",
       "      <th>1</th>\n",
       "      <td>MainScreenAppear</td>\n",
       "      <td>3737462046622621720</td>\n",
       "      <td>2019-08-01 00:08:00</td>\n",
       "      <td>246</td>\n",
       "      <td>2019-08-01 00:08:00</td>\n",
       "      <td>2019-08-01</td>\n",
       "    </tr>\n",
       "    <tr>\n",
       "      <th>2</th>\n",
       "      <td>MainScreenAppear</td>\n",
       "      <td>3737462046622621720</td>\n",
       "      <td>2019-08-01 00:08:55</td>\n",
       "      <td>246</td>\n",
       "      <td>2019-08-01 00:08:55</td>\n",
       "      <td>2019-08-01</td>\n",
       "    </tr>\n",
       "    <tr>\n",
       "      <th>3</th>\n",
       "      <td>OffersScreenAppear</td>\n",
       "      <td>3737462046622621720</td>\n",
       "      <td>2019-08-01 00:08:58</td>\n",
       "      <td>246</td>\n",
       "      <td>2019-08-01 00:08:58</td>\n",
       "      <td>2019-08-01</td>\n",
       "    </tr>\n",
       "    <tr>\n",
       "      <th>4</th>\n",
       "      <td>MainScreenAppear</td>\n",
       "      <td>1433840883824088890</td>\n",
       "      <td>2019-08-01 00:08:59</td>\n",
       "      <td>247</td>\n",
       "      <td>2019-08-01 00:08:59</td>\n",
       "      <td>2019-08-01</td>\n",
       "    </tr>\n",
       "    <tr>\n",
       "      <th>...</th>\n",
       "      <td>...</td>\n",
       "      <td>...</td>\n",
       "      <td>...</td>\n",
       "      <td>...</td>\n",
       "      <td>...</td>\n",
       "      <td>...</td>\n",
       "    </tr>\n",
       "    <tr>\n",
       "      <th>240882</th>\n",
       "      <td>MainScreenAppear</td>\n",
       "      <td>4599628364049201812</td>\n",
       "      <td>2019-08-07 21:12:25</td>\n",
       "      <td>247</td>\n",
       "      <td>2019-08-07 21:12:25</td>\n",
       "      <td>2019-08-07</td>\n",
       "    </tr>\n",
       "    <tr>\n",
       "      <th>240883</th>\n",
       "      <td>MainScreenAppear</td>\n",
       "      <td>5849806612437486590</td>\n",
       "      <td>2019-08-07 21:13:59</td>\n",
       "      <td>246</td>\n",
       "      <td>2019-08-07 21:13:59</td>\n",
       "      <td>2019-08-07</td>\n",
       "    </tr>\n",
       "    <tr>\n",
       "      <th>240884</th>\n",
       "      <td>MainScreenAppear</td>\n",
       "      <td>5746969938801999050</td>\n",
       "      <td>2019-08-07 21:14:43</td>\n",
       "      <td>246</td>\n",
       "      <td>2019-08-07 21:14:43</td>\n",
       "      <td>2019-08-07</td>\n",
       "    </tr>\n",
       "    <tr>\n",
       "      <th>240885</th>\n",
       "      <td>MainScreenAppear</td>\n",
       "      <td>5746969938801999050</td>\n",
       "      <td>2019-08-07 21:14:58</td>\n",
       "      <td>246</td>\n",
       "      <td>2019-08-07 21:14:58</td>\n",
       "      <td>2019-08-07</td>\n",
       "    </tr>\n",
       "    <tr>\n",
       "      <th>240886</th>\n",
       "      <td>OffersScreenAppear</td>\n",
       "      <td>5746969938801999050</td>\n",
       "      <td>2019-08-07 21:15:17</td>\n",
       "      <td>246</td>\n",
       "      <td>2019-08-07 21:15:17</td>\n",
       "      <td>2019-08-07</td>\n",
       "    </tr>\n",
       "  </tbody>\n",
       "</table>\n",
       "<p>240887 rows × 6 columns</p>\n",
       "</div>"
      ],
      "text/plain": [
       "                event_name              user_id     event_timestamp  exp_id  \\\n",
       "0                 Tutorial  3737462046622621720 2019-08-01 00:07:28     246   \n",
       "1         MainScreenAppear  3737462046622621720 2019-08-01 00:08:00     246   \n",
       "2         MainScreenAppear  3737462046622621720 2019-08-01 00:08:55     246   \n",
       "3       OffersScreenAppear  3737462046622621720 2019-08-01 00:08:58     246   \n",
       "4         MainScreenAppear  1433840883824088890 2019-08-01 00:08:59     247   \n",
       "...                    ...                  ...                 ...     ...   \n",
       "240882    MainScreenAppear  4599628364049201812 2019-08-07 21:12:25     247   \n",
       "240883    MainScreenAppear  5849806612437486590 2019-08-07 21:13:59     246   \n",
       "240884    MainScreenAppear  5746969938801999050 2019-08-07 21:14:43     246   \n",
       "240885    MainScreenAppear  5746969938801999050 2019-08-07 21:14:58     246   \n",
       "240886  OffersScreenAppear  5746969938801999050 2019-08-07 21:15:17     246   \n",
       "\n",
       "                 date_time       date  \n",
       "0      2019-08-01 00:07:28 2019-08-01  \n",
       "1      2019-08-01 00:08:00 2019-08-01  \n",
       "2      2019-08-01 00:08:55 2019-08-01  \n",
       "3      2019-08-01 00:08:58 2019-08-01  \n",
       "4      2019-08-01 00:08:59 2019-08-01  \n",
       "...                    ...        ...  \n",
       "240882 2019-08-07 21:12:25 2019-08-07  \n",
       "240883 2019-08-07 21:13:59 2019-08-07  \n",
       "240884 2019-08-07 21:14:43 2019-08-07  \n",
       "240885 2019-08-07 21:14:58 2019-08-07  \n",
       "240886 2019-08-07 21:15:17 2019-08-07  \n",
       "\n",
       "[240887 rows x 6 columns]"
      ]
     },
     "execution_count": 15,
     "metadata": {},
     "output_type": "execute_result"
    }
   ],
   "source": [
    "# Отфильтруем данные\n",
    "df_clean = df.loc[df['date'] > '2019-07-31'].reset_index(drop=True)\n",
    "\n",
    "# Проверим результат\n",
    "df_clean.sort_values(by='event_timestamp')"
   ]
  },
  {
   "cell_type": "markdown",
   "metadata": {},
   "source": [
    "Супер, теперь проверим, сколько событий и пользователей мы потеряли, отбросив старые данные."
   ]
  },
  {
   "cell_type": "code",
   "execution_count": 16,
   "metadata": {},
   "outputs": [
    {
     "name": "stdout",
     "output_type": "stream",
     "text": [
      "Количество оставшихся событий после фильтрации: 240887\n",
      "% оставшихся событий после фильтрации: 98.84\n",
      "\n",
      "Количество оставшихся пользователей после фильтрации: 7534\n",
      "% оставшихся пользователей после фильтрации: 99.77\n"
     ]
    }
   ],
   "source": [
    "# Количество событий\n",
    "print('Количество оставшихся событий после фильтрации:', df_clean.shape[0])\n",
    "print('% оставшихся событий после фильтрации:', round(df_clean.shape[0]/df.shape[0]*100, 2))\n",
    "\n",
    "print()\n",
    "\n",
    "# Количество уникальных пользователей\n",
    "print('Количество оставшихся пользователей после фильтрации:', len(df_clean['user_id'].unique()))\n",
    "print('% оставшихся пользователей после фильтрации:', round(df_clean['user_id'].nunique()/df['user_id'].nunique()*100, 2))"
   ]
  },
  {
   "cell_type": "code",
   "execution_count": 17,
   "metadata": {},
   "outputs": [
    {
     "data": {
      "text/html": [
       "<div>\n",
       "<style scoped>\n",
       "    .dataframe tbody tr th:only-of-type {\n",
       "        vertical-align: middle;\n",
       "    }\n",
       "\n",
       "    .dataframe tbody tr th {\n",
       "        vertical-align: top;\n",
       "    }\n",
       "\n",
       "    .dataframe thead th {\n",
       "        text-align: right;\n",
       "    }\n",
       "</style>\n",
       "<table border=\"1\" class=\"dataframe\">\n",
       "  <thead>\n",
       "    <tr style=\"text-align: right;\">\n",
       "      <th></th>\n",
       "      <th>user_id</th>\n",
       "    </tr>\n",
       "    <tr>\n",
       "      <th>exp_id</th>\n",
       "      <th></th>\n",
       "    </tr>\n",
       "  </thead>\n",
       "  <tbody>\n",
       "    <tr>\n",
       "      <th>246</th>\n",
       "      <td>2484</td>\n",
       "    </tr>\n",
       "    <tr>\n",
       "      <th>247</th>\n",
       "      <td>2513</td>\n",
       "    </tr>\n",
       "    <tr>\n",
       "      <th>248</th>\n",
       "      <td>2537</td>\n",
       "    </tr>\n",
       "  </tbody>\n",
       "</table>\n",
       "</div>"
      ],
      "text/plain": [
       "        user_id\n",
       "exp_id         \n",
       "246        2484\n",
       "247        2513\n",
       "248        2537"
      ]
     },
     "execution_count": 17,
     "metadata": {},
     "output_type": "execute_result"
    }
   ],
   "source": [
    "# Убедимся, что у нас есть пользователи из всех трёх экспериментальных групп\n",
    "df_clean.groupby('exp_id').agg({'user_id': 'nunique'})"
   ]
  },
  {
   "cell_type": "markdown",
   "metadata": {},
   "source": [
    "**Вывод по изучению данных** <br>\n",
    "\n",
    "Что мы выяснили:\n",
    "\n",
    " - изначально в логе было сохранено 243713 событий и 7551 пользователей,\n",
    " - исходный период данных находился в промежутке с 2019-07-25 04:43:36 до 2019-08-07 21:15:17,\n",
    " - основная масса данных - записи второй из двух исследуемых недель, поэтому мы отказались от данных первой недели (мало данных) и сосредоточились на неделе 01 - 07 августа 2019,\n",
    " - после фильтрации данных мы лишились только 1.16% от первоначального количества событий и 0.23% от первоначального количества пользователей, что совсем немного, \n",
    " - данные о пользователях присутствуют во всех трёх экспериментальных группах.\n",
    "\n",
    "Переходим к изучению воронки событий."
   ]
  },
  {
   "cell_type": "markdown",
   "metadata": {},
   "source": [
    "### Изучение воронки событий"
   ]
  },
  {
   "cell_type": "markdown",
   "metadata": {},
   "source": [
    "**Посмотрим, какие события есть в логах и как часто они встречаются**"
   ]
  },
  {
   "cell_type": "code",
   "execution_count": 18,
   "metadata": {},
   "outputs": [
    {
     "data": {
      "text/plain": [
       "MainScreenAppear           117328\n",
       "OffersScreenAppear          46333\n",
       "CartScreenAppear            42303\n",
       "PaymentScreenSuccessful     33918\n",
       "Tutorial                     1005\n",
       "Name: event_name, dtype: int64"
      ]
     },
     "execution_count": 18,
     "metadata": {},
     "output_type": "execute_result"
    }
   ],
   "source": [
    "# Отсортируем события по частоте\n",
    "df_clean['event_name'].value_counts()"
   ]
  },
  {
   "cell_type": "markdown",
   "metadata": {},
   "source": [
    "**Пользователи и события**"
   ]
  },
  {
   "cell_type": "code",
   "execution_count": 19,
   "metadata": {},
   "outputs": [
    {
     "data": {
      "text/html": [
       "<div>\n",
       "<style scoped>\n",
       "    .dataframe tbody tr th:only-of-type {\n",
       "        vertical-align: middle;\n",
       "    }\n",
       "\n",
       "    .dataframe tbody tr th {\n",
       "        vertical-align: top;\n",
       "    }\n",
       "\n",
       "    .dataframe thead th {\n",
       "        text-align: right;\n",
       "    }\n",
       "</style>\n",
       "<table border=\"1\" class=\"dataframe\">\n",
       "  <thead>\n",
       "    <tr style=\"text-align: right;\">\n",
       "      <th></th>\n",
       "      <th>event_name</th>\n",
       "      <th>total_users</th>\n",
       "      <th>percent</th>\n",
       "    </tr>\n",
       "  </thead>\n",
       "  <tbody>\n",
       "    <tr>\n",
       "      <th>0</th>\n",
       "      <td>MainScreenAppear</td>\n",
       "      <td>7419</td>\n",
       "      <td>98.47</td>\n",
       "    </tr>\n",
       "    <tr>\n",
       "      <th>1</th>\n",
       "      <td>OffersScreenAppear</td>\n",
       "      <td>4593</td>\n",
       "      <td>60.96</td>\n",
       "    </tr>\n",
       "    <tr>\n",
       "      <th>2</th>\n",
       "      <td>CartScreenAppear</td>\n",
       "      <td>3734</td>\n",
       "      <td>49.56</td>\n",
       "    </tr>\n",
       "    <tr>\n",
       "      <th>3</th>\n",
       "      <td>PaymentScreenSuccessful</td>\n",
       "      <td>3539</td>\n",
       "      <td>46.97</td>\n",
       "    </tr>\n",
       "    <tr>\n",
       "      <th>4</th>\n",
       "      <td>Tutorial</td>\n",
       "      <td>840</td>\n",
       "      <td>11.15</td>\n",
       "    </tr>\n",
       "  </tbody>\n",
       "</table>\n",
       "</div>"
      ],
      "text/plain": [
       "                event_name  total_users  percent\n",
       "0         MainScreenAppear         7419    98.47\n",
       "1       OffersScreenAppear         4593    60.96\n",
       "2         CartScreenAppear         3734    49.56\n",
       "3  PaymentScreenSuccessful         3539    46.97\n",
       "4                 Tutorial          840    11.15"
      ]
     },
     "execution_count": 19,
     "metadata": {},
     "output_type": "execute_result"
    }
   ],
   "source": [
    "# Выясним, сколько пользователей совершали каждое из этих событий и отсортируем события по числу пользователей\n",
    "users_events_funnel = df_clean.groupby('event_name')['user_id'].nunique().sort_values(ascending=False).to_frame().reset_index()\\\n",
    "        .rename(columns={'user_id': 'total_users'})\n",
    "\n",
    "# Посчитаем долю пользователей, которые хоть раз совершали событие.\n",
    "users_events_funnel['percent'] = (users_events_funnel['total_users'] / df_clean['user_id'].nunique() * 100).round(2)\n",
    "\n",
    "users_events_funnel"
   ]
  },
  {
   "cell_type": "markdown",
   "metadata": {},
   "source": [
    "Всего в наших записях 5 уникальных событий, в порядке популярности:\n",
    "\n",
    " - MainScreenAppear - Главный экран,\n",
    " - OffersScreenAppear - Экран предложения покупки,\n",
    " - CartScreenAppear - Экран корзины заказа,\n",
    " - PaymentScreenSuccessful - Экран успешного платежа,\n",
    " - Tutorial - Руководство пользователя.\n",
    "<br>\n",
    "\n",
    "В целом, популярность действий логично выстраивается в воронку: сначала пользователь видит основной экран, затем экран с предложением покупки, далее переходит в корзину, а в конце - экран успешной оплаты.<br>\n",
    "\n",
    "Только событие Tutorial - просмотр страницы обучения использования приложения - не связано с логикой событий.\n",
    "Значит, Tutorial не нужно учитывать при расчёте воронки.\n",
    "\n",
    "Для наглядности посмотрим то же самое на графике."
   ]
  },
  {
   "cell_type": "code",
   "execution_count": 20,
   "metadata": {},
   "outputs": [
    {
     "data": {
      "text/html": [
       "<div>\n",
       "<style scoped>\n",
       "    .dataframe tbody tr th:only-of-type {\n",
       "        vertical-align: middle;\n",
       "    }\n",
       "\n",
       "    .dataframe tbody tr th {\n",
       "        vertical-align: top;\n",
       "    }\n",
       "\n",
       "    .dataframe thead th {\n",
       "        text-align: right;\n",
       "    }\n",
       "</style>\n",
       "<table border=\"1\" class=\"dataframe\">\n",
       "  <thead>\n",
       "    <tr style=\"text-align: right;\">\n",
       "      <th></th>\n",
       "      <th>event_name</th>\n",
       "      <th>total_users</th>\n",
       "      <th>percent</th>\n",
       "    </tr>\n",
       "  </thead>\n",
       "  <tbody>\n",
       "    <tr>\n",
       "      <th>0</th>\n",
       "      <td>MainScreenAppear</td>\n",
       "      <td>7419</td>\n",
       "      <td>98.47</td>\n",
       "    </tr>\n",
       "    <tr>\n",
       "      <th>1</th>\n",
       "      <td>OffersScreenAppear</td>\n",
       "      <td>4593</td>\n",
       "      <td>60.96</td>\n",
       "    </tr>\n",
       "    <tr>\n",
       "      <th>2</th>\n",
       "      <td>CartScreenAppear</td>\n",
       "      <td>3734</td>\n",
       "      <td>49.56</td>\n",
       "    </tr>\n",
       "    <tr>\n",
       "      <th>3</th>\n",
       "      <td>PaymentScreenSuccessful</td>\n",
       "      <td>3539</td>\n",
       "      <td>46.97</td>\n",
       "    </tr>\n",
       "  </tbody>\n",
       "</table>\n",
       "</div>"
      ],
      "text/plain": [
       "                event_name  total_users  percent\n",
       "0         MainScreenAppear         7419    98.47\n",
       "1       OffersScreenAppear         4593    60.96\n",
       "2         CartScreenAppear         3734    49.56\n",
       "3  PaymentScreenSuccessful         3539    46.97"
      ]
     },
     "execution_count": 20,
     "metadata": {},
     "output_type": "execute_result"
    }
   ],
   "source": [
    "# Исключим событие Tutorial\n",
    "users_events_funnel = users_events_funnel.query('event_name != \"Tutorial\"')\n",
    "\n",
    "users_events_funnel"
   ]
  },
  {
   "cell_type": "code",
   "execution_count": 21,
   "metadata": {},
   "outputs": [
    {
     "data": {
      "image/png": "[encoded data removed]",
      "text/plain": [
       "<Figure size 1080x360 with 1 Axes>"
      ]
     },
     "metadata": {
      "needs_background": "light"
     },
     "output_type": "display_data"
    }
   ],
   "source": [
    "# Построим новую столбчатую диаграмму \n",
    "plt.figure(figsize=(15,5))\n",
    "sns.barplot(x='event_name', y='total_users', data=users_events_funnel)\n",
    "plt.title('Распределение событий по количеству пользователей')\n",
    "plt.xlabel('Событие')\n",
    "plt.ylabel('Количество пользователей')\n",
    "\n",
    "plt.show()"
   ]
  },
  {
   "cell_type": "markdown",
   "metadata": {},
   "source": [
    "**Какая доля пользователей проходит на следующий шаг воронки**\n",
    "(от числа пользователей на предыдущем)\n",
    "\n",
    "То есть для последовательности событий A → B → C посчитаем:<br>\n",
    " - отношение числа пользователей с событием B к количеству пользователей с событием A, а также <br>\n",
    " - отношение числа пользователей с событием C к количеству пользователей с событием B."
   ]
  },
  {
   "cell_type": "code",
   "execution_count": 22,
   "metadata": {},
   "outputs": [
    {
     "data": {
      "text/html": [
       "<div>\n",
       "<style scoped>\n",
       "    .dataframe tbody tr th:only-of-type {\n",
       "        vertical-align: middle;\n",
       "    }\n",
       "\n",
       "    .dataframe tbody tr th {\n",
       "        vertical-align: top;\n",
       "    }\n",
       "\n",
       "    .dataframe thead th {\n",
       "        text-align: right;\n",
       "    }\n",
       "</style>\n",
       "<table border=\"1\" class=\"dataframe\">\n",
       "  <thead>\n",
       "    <tr style=\"text-align: right;\">\n",
       "      <th></th>\n",
       "      <th>event_name</th>\n",
       "      <th>total_users</th>\n",
       "      <th>percent</th>\n",
       "      <th>funnel</th>\n",
       "    </tr>\n",
       "  </thead>\n",
       "  <tbody>\n",
       "    <tr>\n",
       "      <th>0</th>\n",
       "      <td>MainScreenAppear</td>\n",
       "      <td>7419</td>\n",
       "      <td>98.47</td>\n",
       "      <td>1.00</td>\n",
       "    </tr>\n",
       "    <tr>\n",
       "      <th>1</th>\n",
       "      <td>OffersScreenAppear</td>\n",
       "      <td>4593</td>\n",
       "      <td>60.96</td>\n",
       "      <td>0.62</td>\n",
       "    </tr>\n",
       "    <tr>\n",
       "      <th>2</th>\n",
       "      <td>CartScreenAppear</td>\n",
       "      <td>3734</td>\n",
       "      <td>49.56</td>\n",
       "      <td>0.81</td>\n",
       "    </tr>\n",
       "    <tr>\n",
       "      <th>3</th>\n",
       "      <td>PaymentScreenSuccessful</td>\n",
       "      <td>3539</td>\n",
       "      <td>46.97</td>\n",
       "      <td>0.95</td>\n",
       "    </tr>\n",
       "  </tbody>\n",
       "</table>\n",
       "</div>"
      ],
      "text/plain": [
       "                event_name  total_users  percent  funnel\n",
       "0         MainScreenAppear         7419    98.47    1.00\n",
       "1       OffersScreenAppear         4593    60.96    0.62\n",
       "2         CartScreenAppear         3734    49.56    0.81\n",
       "3  PaymentScreenSuccessful         3539    46.97    0.95"
      ]
     },
     "execution_count": 22,
     "metadata": {},
     "output_type": "execute_result"
    }
   ],
   "source": [
    "# Добавим столбец funnel - процент пользователей, перешедших на следующий шаг по отношению к предыдущему кол-ву пользователей\n",
    "users_events_funnel['funnel'] = 1\n",
    "for i in range(1, 4):\n",
    "    users_events_funnel.loc[i, 'funnel']=users_events_funnel.loc[i, 'total_users'] / (users_events_funnel.loc[i-1, 'total_users'])\n",
    "\n",
    "# Настроим отображение дробных чисел с двумя знаками после точки\n",
    "pd.options.display.float_format='{:,.2f}'.format\n",
    "\n",
    "users_events_funnel"
   ]
  },
  {
   "cell_type": "markdown",
   "metadata": {},
   "source": [
    "Самый большой разрыв в посещаемости - между главной страницей и страницей предложений - 38% пользователей отсеиваются на этом шаге. <br>\n",
    "На следующих шагах ситуация лучше - теряются всего 19% (между страницей предложений и корзиной), и 5% пользователей (от корзины до успешной оплаты).<br>\n",
    "\n",
    "До успешной оплаты и, соответственно, завершения покупки доходят лишь 47% пользователей приложения.\n",
    "\n",
    "Интересно, что и первый шаг воронки - просмотр главной страницы - совершают не 100% пользователей.<br>\n",
    "Вероятно, на главную страницу заходить не обязательно. "
   ]
  },
  {
   "cell_type": "markdown",
   "metadata": {},
   "source": [
    "**Вывод по изучению воронки событий**\n",
    "\n",
    "*Всего в наших записях 5 уникальных событий, в порядке популярности:*\n",
    "\n",
    " - MainScreenAppear - Главный экран,\n",
    " - OffersScreenAppear - Экран предложения покупки,\n",
    " - CartScreenAppear - Экран корзины заказа,\n",
    " - PaymentScreenSuccessful - Экран успешного платежа,\n",
    " - Tutorial - Руководство пользователя.\n",
    "<br>\n",
    "\n",
    "В целом, популярность действий логично выстраивается в воронку: сначала пользователь видит основной экран, затем экран с предложением покупки, далее переходит в корзину, а в конце - экран успешной оплаты.<br>\n",
    "\n",
    "Только событие Tutorial - просмотр страницы обучения использования приложения - не связано с логикой событий.<br>\n",
    "В дальнейшем мы не будем учитывать Tutorial в расчетах.\n",
    "\n",
    "*Потери пользователей от шага к шагу выглядят так:*\n",
    "\n",
    " - Самый большой разрыв в посещаемости - между главной страницей и страницей предложений: 38% пользователей отсеиваются на этом шаге. Следует проработать этот момент с отделом маркетинга, процент потерь достаточно большой.\n",
    " - Далее, между страницей предложений и корзиной, теряются всего 19%, \n",
    " - Затем, от корзины до успешной оплаты, пропадают 5% пользователей.<br>\n",
    "   Это еще один вопрос коллегам  для проверки: нет ли технических проблем при оплате?\n",
    "\n",
    "В итоге, до успешного завершения покупки доходят лишь 47% пользователей приложения."
   ]
  },
  {
   "cell_type": "markdown",
   "metadata": {},
   "source": [
    "### Изучение результатов эксперимента"
   ]
  },
  {
   "cell_type": "markdown",
   "metadata": {},
   "source": [
    "**Пользователи в каждой экспериментальной группе**<br>"
   ]
  },
  {
   "cell_type": "code",
   "execution_count": 23,
   "metadata": {},
   "outputs": [
    {
     "data": {
      "text/plain": [
       "exp_id\n",
       "246    2483\n",
       "247    2512\n",
       "248    2535\n",
       "Name: user_id, dtype: int64"
      ]
     },
     "execution_count": 23,
     "metadata": {},
     "output_type": "execute_result"
    }
   ],
   "source": [
    "# Сначала исключим событие Tutorial и сохраним данные в новом датафрейме\n",
    "df_clean_no_tutorial = df_clean.query('event_name != \"Tutorial\"')\n",
    "\n",
    "# Посчитаем, сколько пользователей в каждой экспериментальной группе\n",
    "AAB_groups = df_clean_no_tutorial.groupby('exp_id')['user_id'].nunique()\n",
    "AAB_groups"
   ]
  },
  {
   "cell_type": "markdown",
   "metadata": {},
   "source": [
    "Как мы знаем, пользователи разделены на три группы: группы 246 и 247 - контрольные, группа 248 - экспериментальная.<br>\n",
    "\n",
    "В каждой группе примерно равное число участников - около 2.5 тысяч."
   ]
  },
  {
   "cell_type": "markdown",
   "metadata": {},
   "source": [
    "**Оценка контрольных экспериментальных групп**<br>\n",
    "Есть 2 контрольные группы для А/А-эксперимента, чтобы проверить корректность всех механизмов и расчётов.<br>\n",
    "Проверим, находят ли статистические критерии разницу между контрольными группами 246 и 247.\n",
    "\n",
    "Вспомним теорию, критерии успешного A/A-теста:\n",
    " - Количество пользователей в различных группах различается не более, чем на 1%,\n",
    " - Для всех групп фиксируют и отправляют в системы аналитики данные об одном и том же,\n",
    " - Различие ключевых метрик по группам не превышает 1% и не имеет статистической значимости, \n",
    " - Попавший в одну из групп посетитель остаётся в этой группе до конца теста."
   ]
  },
  {
   "cell_type": "code",
   "execution_count": 24,
   "metadata": {},
   "outputs": [
    {
     "name": "stdout",
     "output_type": "stream",
     "text": [
      "Процент совпадения размеров групп 246 и 247: 98.8 % \n",
      "\n"
     ]
    }
   ],
   "source": [
    "print('Процент совпадения размеров групп 246 и 247:', round(AAB_groups[246]/AAB_groups[247], 3)*100, '%','\\n')"
   ]
  },
  {
   "cell_type": "markdown",
   "metadata": {},
   "source": [
    "Разница между размерами групп чуть больше 1%, будем считать её незначительной в рамках нашего анализа.<br>\n",
    "\n",
    "Теперь время проверить, есть ли пользователи, попавшие в несколько групп."
   ]
  },
  {
   "cell_type": "code",
   "execution_count": 25,
   "metadata": {},
   "outputs": [
    {
     "data": {
      "text/plain": [
       "0"
      ]
     },
     "execution_count": 25,
     "metadata": {},
     "output_type": "execute_result"
    }
   ],
   "source": [
    "# Проверим распределение пользователей по группам\n",
    "len(df_clean_no_tutorial.groupby('user_id')['exp_id'].nunique().reset_index().query('exp_id > 1')) "
   ]
  },
  {
   "cell_type": "markdown",
   "metadata": {},
   "source": [
    "Отлично, таких нет."
   ]
  },
  {
   "cell_type": "markdown",
   "metadata": {},
   "source": [
    "**Самое популярное событие**<br>\n",
    "\n",
    "Посчитаем число пользователей, совершивших самое популярное событие в каждой из контрольных групп.<br>"
   ]
  },
  {
   "cell_type": "code",
   "execution_count": 26,
   "metadata": {},
   "outputs": [
    {
     "data": {
      "text/html": [
       "<div>\n",
       "<style scoped>\n",
       "    .dataframe tbody tr th:only-of-type {\n",
       "        vertical-align: middle;\n",
       "    }\n",
       "\n",
       "    .dataframe tbody tr th {\n",
       "        vertical-align: top;\n",
       "    }\n",
       "\n",
       "    .dataframe thead th {\n",
       "        text-align: right;\n",
       "    }\n",
       "</style>\n",
       "<table border=\"1\" class=\"dataframe\">\n",
       "  <thead>\n",
       "    <tr style=\"text-align: right;\">\n",
       "      <th>exp_id</th>\n",
       "      <th>246</th>\n",
       "      <th>247</th>\n",
       "      <th>248</th>\n",
       "    </tr>\n",
       "    <tr>\n",
       "      <th>event_name</th>\n",
       "      <th></th>\n",
       "      <th></th>\n",
       "      <th></th>\n",
       "    </tr>\n",
       "  </thead>\n",
       "  <tbody>\n",
       "    <tr>\n",
       "      <th>MainScreenAppear</th>\n",
       "      <td>2450</td>\n",
       "      <td>2476</td>\n",
       "      <td>2493</td>\n",
       "    </tr>\n",
       "    <tr>\n",
       "      <th>OffersScreenAppear</th>\n",
       "      <td>1542</td>\n",
       "      <td>1520</td>\n",
       "      <td>1531</td>\n",
       "    </tr>\n",
       "    <tr>\n",
       "      <th>CartScreenAppear</th>\n",
       "      <td>1266</td>\n",
       "      <td>1238</td>\n",
       "      <td>1230</td>\n",
       "    </tr>\n",
       "    <tr>\n",
       "      <th>PaymentScreenSuccessful</th>\n",
       "      <td>1200</td>\n",
       "      <td>1158</td>\n",
       "      <td>1181</td>\n",
       "    </tr>\n",
       "  </tbody>\n",
       "</table>\n",
       "</div>"
      ],
      "text/plain": [
       "exp_id                    246   247   248\n",
       "event_name                               \n",
       "MainScreenAppear         2450  2476  2493\n",
       "OffersScreenAppear       1542  1520  1531\n",
       "CartScreenAppear         1266  1238  1230\n",
       "PaymentScreenSuccessful  1200  1158  1181"
      ]
     },
     "execution_count": 26,
     "metadata": {},
     "output_type": "execute_result"
    }
   ],
   "source": [
    "df_clean_no_tutorial.pivot_table(\n",
    "    index='event_name', columns='exp_id', values='user_id', aggfunc='nunique'\n",
    "                                ).sort_values(by=[246], ascending=False)"
   ]
  },
  {
   "cell_type": "markdown",
   "metadata": {},
   "source": [
    "Самое популярное событие во всех группах - просмотр главной страницы.<br>\n",
    "Для группы 246 количество этого события практически равно количеству пользователей.<br>\n",
    "Соответственно, меньше всего во всех группах событий успешной оплаты.\n",
    "\n",
    "**Проверим, будет ли отличие между группами статистически достоверным.**\n",
    "\n",
    "Создадим функцию для подсчёта статистической значимости между группами.\n",
    "\n",
    "Сформулируем гипотезы:\n",
    "\n",
    "  - H0 - Между долями нет значимой разницы,\n",
    "  - H1 - Между долями есть значимая разница.\n",
    "\n",
    "Пороговое значение alpha примем за 5%."
   ]
  },
  {
   "cell_type": "code",
   "execution_count": 27,
   "metadata": {},
   "outputs": [],
   "source": [
    "def ab_calc(df_clean_no_tutorial, group_ids, alpha):\n",
    "    \n",
    "    # Вычислим уникальных пользователей в каждой группе\n",
    "    users = [df_clean_no_tutorial.query('exp_id == @group_id')['user_id'].nunique() for group_id in group_ids]\n",
    "    \n",
    "    # Переберём все экспериментальные группы для каждого события, посчитаем количество пользователей и их долю\n",
    "    for event in df_clean_no_tutorial.event_name.unique():\n",
    "        events = [df_clean_no_tutorial.query('exp_id == %d and event_name == \"%s\"' % (group_id, event))['user_id'].nunique() for group_id in group_ids]\n",
    "        \n",
    "        # Cравним количество уникальных пользователей на каждом шаге группы с общим количеством уникальных пользователей в этой группе\n",
    "        p1 = events[0] / users[0] # посчитаем долю для 1 группы\n",
    "        p2 = events[1] / users[1] # посчитаем долю для 2 группы\n",
    "        \n",
    "        p_combined = sum(events) / sum(users) \n",
    "        \n",
    "        # Вычислим разницу в датасетах\n",
    "        difference = p1 - p2\n",
    "        \n",
    "        # Посчитаем z-value\n",
    "        z_value = difference / mth.sqrt(\n",
    "            p_combined * (1 - p_combined) * (1 / users[0] + 1 / users[1])\n",
    "        )\n",
    "        \n",
    "        # Посчитаем распределение и p-value\n",
    "        distr = st.norm(0, 1) \n",
    "        p_value = (1 - distr.cdf(abs(z_value))) * 2\n",
    "        \n",
    "        print(event)\n",
    "        print(p1, p2)\n",
    "        print('p_value: ', p_value)\n",
    "        \n",
    "        # Наконец, сравним значения p-value и alpha\n",
    "        if p_value < alpha:\n",
    "            print('Отвергаем нулевую гипотезу для события %s: между долями есть значимая разница' % (event))\n",
    "        else:\n",
    "            print('Не получилось отвергнуть нулевую гипотезу для события %s: нет значимой разницы' % (event))\n",
    "            \n",
    "            print(' ')"
   ]
  },
  {
   "cell_type": "markdown",
   "metadata": {},
   "source": [
    "Сначала проводим A/A тестирование для проверки корректности проведения всего эксперимента."
   ]
  },
  {
   "cell_type": "code",
   "execution_count": 28,
   "metadata": {},
   "outputs": [
    {
     "name": "stdout",
     "output_type": "stream",
     "text": [
      "MainScreenAppear\n",
      "0.9867096254530809 0.9856687898089171\n",
      "p_value:  0.7526703436483038\n",
      "Не получилось отвергнуть нулевую гипотезу для события MainScreenAppear: нет значимой разницы\n",
      " \n",
      "OffersScreenAppear\n",
      "0.6210229561014902 0.6050955414012739\n",
      "p_value:  0.24786096925282264\n",
      "Не получилось отвергнуть нулевую гипотезу для события OffersScreenAppear: нет значимой разницы\n",
      " \n",
      "CartScreenAppear\n",
      "0.5098670962545309 0.4928343949044586\n",
      "p_value:  0.22867643757335676\n",
      "Не получилось отвергнуть нулевую гипотезу для события CartScreenAppear: нет значимой разницы\n",
      " \n",
      "PaymentScreenSuccessful\n",
      "0.4832863471606927 0.4609872611464968\n",
      "p_value:  0.11446627829276612\n",
      "Не получилось отвергнуть нулевую гипотезу для события PaymentScreenSuccessful: нет значимой разницы\n",
      " \n"
     ]
    }
   ],
   "source": [
    "# Посмотрим на события в 246 и 247 группах\n",
    "ab_calc(df_clean_no_tutorial, [246, 247], 0.05)"
   ]
  },
  {
   "cell_type": "markdown",
   "metadata": {},
   "source": [
    "Супер! Для контрольных групп 246 и 247, различия по всем событиям статистически не значимы.<br>\n",
    "\n",
    "Теперь мы можем продолжить А/В-анализ любой из контрольных групп 246 и 247 с экспериментальной группой 248."
   ]
  },
  {
   "cell_type": "markdown",
   "metadata": {},
   "source": [
    "**Сравним результаты с каждой из контрольных групп в отдельности по каждому событию**"
   ]
  },
  {
   "cell_type": "code",
   "execution_count": 29,
   "metadata": {},
   "outputs": [
    {
     "name": "stdout",
     "output_type": "stream",
     "text": [
      "MainScreenAppear\n",
      "0.9867096254530809 0.9834319526627219\n",
      "p_value:  0.3387114076159288\n",
      "Не получилось отвергнуть нулевую гипотезу для события MainScreenAppear: нет значимой разницы\n",
      " \n",
      "OffersScreenAppear\n",
      "0.6210229561014902 0.6039447731755424\n",
      "p_value:  0.21442476639710506\n",
      "Не получилось отвергнуть нулевую гипотезу для события OffersScreenAppear: нет значимой разницы\n",
      " \n",
      "CartScreenAppear\n",
      "0.5098670962545309 0.48520710059171596\n",
      "p_value:  0.08067367598823139\n",
      "Не получилось отвергнуть нулевую гипотезу для события CartScreenAppear: нет значимой разницы\n",
      " \n",
      "PaymentScreenSuccessful\n",
      "0.4832863471606927 0.4658777120315582\n",
      "p_value:  0.21693033984516674\n",
      "Не получилось отвергнуть нулевую гипотезу для события PaymentScreenSuccessful: нет значимой разницы\n",
      " \n"
     ]
    }
   ],
   "source": [
    "# Начнем с 246 и 248 групп\n",
    "ab_calc(df_clean_no_tutorial, [246, 248], 0.05)"
   ]
  },
  {
   "cell_type": "markdown",
   "metadata": {},
   "source": [
    "Для групп 246 и 248 различия по всем событиям статистически не значимы."
   ]
  },
  {
   "cell_type": "code",
   "execution_count": 30,
   "metadata": {},
   "outputs": [
    {
     "name": "stdout",
     "output_type": "stream",
     "text": [
      "MainScreenAppear\n",
      "0.9856687898089171 0.9834319526627219\n",
      "p_value:  0.5194964354051703\n",
      "Не получилось отвергнуть нулевую гипотезу для события MainScreenAppear: нет значимой разницы\n",
      " \n",
      "OffersScreenAppear\n",
      "0.6050955414012739 0.6039447731755424\n",
      "p_value:  0.9333751305879443\n",
      "Не получилось отвергнуть нулевую гипотезу для события OffersScreenAppear: нет значимой разницы\n",
      " \n",
      "CartScreenAppear\n",
      "0.4928343949044586 0.48520710059171596\n",
      "p_value:  0.5878284605111943\n",
      "Не получилось отвергнуть нулевую гипотезу для события CartScreenAppear: нет значимой разницы\n",
      " \n",
      "PaymentScreenSuccessful\n",
      "0.4609872611464968 0.4658777120315582\n",
      "p_value:  0.7275718682261119\n",
      "Не получилось отвергнуть нулевую гипотезу для события PaymentScreenSuccessful: нет значимой разницы\n",
      " \n"
     ]
    }
   ],
   "source": [
    "# Теперь посмотрим на события в 247 и 248 группах\n",
    "ab_calc(df_clean_no_tutorial, [247, 248], 0.05)"
   ]
  },
  {
   "cell_type": "markdown",
   "metadata": {},
   "source": [
    "Аналогично, для групп 247 и 248 различия по всем событиям статистически не значимы."
   ]
  },
  {
   "cell_type": "code",
   "execution_count": 31,
   "metadata": {},
   "outputs": [
    {
     "data": {
      "text/plain": [
       "246    155669\n",
       "248     84213\n",
       "Name: exp_id, dtype: int64"
      ]
     },
     "execution_count": 31,
     "metadata": {},
     "output_type": "execute_result"
    }
   ],
   "source": [
    "# Добавим контрольную группу 247 к группе 246 и сохраним эту общую группу под номером 246\n",
    "df_clean_no_tutorial_AA_combo = df_clean_no_tutorial.copy()\n",
    "df_clean_no_tutorial_AA_combo[\"exp_id\"].replace({247: 246}, inplace=True)\n",
    "df_clean_no_tutorial_AA_combo[\"exp_id\"].value_counts()"
   ]
  },
  {
   "cell_type": "code",
   "execution_count": 32,
   "metadata": {},
   "outputs": [
    {
     "name": "stdout",
     "output_type": "stream",
     "text": [
      "MainScreenAppear\n",
      "0.9861861861861861 0.9834319526627219\n",
      "p_value:  0.3486684291093256\n",
      "Не получилось отвергнуть нулевую гипотезу для события MainScreenAppear: нет значимой разницы\n",
      " \n",
      "OffersScreenAppear\n",
      "0.613013013013013 0.6039447731755424\n",
      "p_value:  0.44582745409482394\n",
      "Не получилось отвергнуть нулевую гипотезу для события OffersScreenAppear: нет значимой разницы\n",
      " \n",
      "CartScreenAppear\n",
      "0.5013013013013013 0.48520710059171596\n",
      "p_value:  0.18683558686831558\n",
      "Не получилось отвергнуть нулевую гипотезу для события CartScreenAppear: нет значимой разницы\n",
      " \n",
      "PaymentScreenSuccessful\n",
      "0.4720720720720721 0.4658777120315582\n",
      "p_value:  0.6107918742187335\n",
      "Не получилось отвергнуть нулевую гипотезу для события PaymentScreenSuccessful: нет значимой разницы\n",
      " \n"
     ]
    }
   ],
   "source": [
    "# Теперь посмотрим на события в объединённой 246 группе и экспериментальной 248-ой\n",
    "ab_calc(df_clean_no_tutorial_AA_combo, [246, 248], 0.05)"
   ]
  },
  {
   "cell_type": "markdown",
   "metadata": {},
   "source": [
    "И снова различия по всем событиям двух групп статистически не значимы."
   ]
  },
  {
   "cell_type": "markdown",
   "metadata": {},
   "source": [
    "**Промежуточный вывод**\n",
    "\n",
    "При проведении z-теста гипотеза о равенстве групп ни разу не была отвергнута (в том числе и для группы, состоящей из суммы тестовых групп).\n",
    "\n",
    "Но есть нюанс: мы провели целых 16 тестов, а при таком количестве возникает вероятность ложноположительного результата.<br>\n",
    "\n",
    "Чтобы групповая вероятность ошибки в данном случае не превышала определенный уровень значимости α (в нашем случае - 0.05), нам будет нужно сравнить каждое из полученных p-value не с α, а с α / m (где m - число проверяемых гипотез), согласно поправке Бонферрони. \n",
    "\n",
    "Для этого поделим принятый ранее уровень значимости 0.05 на число сравнений 16.<br>\n",
    "Итак, новое значение α для наших тестов будет 0.05 / 16 = 0.003."
   ]
  },
  {
   "cell_type": "markdown",
   "metadata": {},
   "source": [
    "**Тесты после внесения поправки Бонферрони**\n",
    "\n",
    "Сформулируем гипотезы:\n",
    "\n",
    " - Н0 - различия между экспериментальными группами статистически не значимы (статистически значимой разницы нет),\n",
    "\n",
    " - Н1 - различия между экспериментальными группами статистически значимы (статистически значимая разница есть).\n",
    "\n",
    "Пороговое значение alpha примем за 0.3%."
   ]
  },
  {
   "cell_type": "code",
   "execution_count": 33,
   "metadata": {},
   "outputs": [
    {
     "name": "stdout",
     "output_type": "stream",
     "text": [
      "MainScreenAppear\n",
      "0.9867096254530809 0.9834319526627219\n",
      "p_value:  0.3387114076159288\n",
      "Не получилось отвергнуть нулевую гипотезу для события MainScreenAppear: нет значимой разницы\n",
      " \n",
      "OffersScreenAppear\n",
      "0.6210229561014902 0.6039447731755424\n",
      "p_value:  0.21442476639710506\n",
      "Не получилось отвергнуть нулевую гипотезу для события OffersScreenAppear: нет значимой разницы\n",
      " \n",
      "CartScreenAppear\n",
      "0.5098670962545309 0.48520710059171596\n",
      "p_value:  0.08067367598823139\n",
      "Не получилось отвергнуть нулевую гипотезу для события CartScreenAppear: нет значимой разницы\n",
      " \n",
      "PaymentScreenSuccessful\n",
      "0.4832863471606927 0.4658777120315582\n",
      "p_value:  0.21693033984516674\n",
      "Не получилось отвергнуть нулевую гипотезу для события PaymentScreenSuccessful: нет значимой разницы\n",
      " \n"
     ]
    }
   ],
   "source": [
    "# Начнем с 246 и 248 групп\n",
    "ab_calc(df_clean_no_tutorial, [246, 248], 0.003)"
   ]
  },
  {
   "cell_type": "markdown",
   "metadata": {},
   "source": [
    "Для групп 246 и 248 различия по всем событиям статистически не значимы."
   ]
  },
  {
   "cell_type": "code",
   "execution_count": 34,
   "metadata": {},
   "outputs": [
    {
     "name": "stdout",
     "output_type": "stream",
     "text": [
      "MainScreenAppear\n",
      "0.9856687898089171 0.9834319526627219\n",
      "p_value:  0.5194964354051703\n",
      "Не получилось отвергнуть нулевую гипотезу для события MainScreenAppear: нет значимой разницы\n",
      " \n",
      "OffersScreenAppear\n",
      "0.6050955414012739 0.6039447731755424\n",
      "p_value:  0.9333751305879443\n",
      "Не получилось отвергнуть нулевую гипотезу для события OffersScreenAppear: нет значимой разницы\n",
      " \n",
      "CartScreenAppear\n",
      "0.4928343949044586 0.48520710059171596\n",
      "p_value:  0.5878284605111943\n",
      "Не получилось отвергнуть нулевую гипотезу для события CartScreenAppear: нет значимой разницы\n",
      " \n",
      "PaymentScreenSuccessful\n",
      "0.4609872611464968 0.4658777120315582\n",
      "p_value:  0.7275718682261119\n",
      "Не получилось отвергнуть нулевую гипотезу для события PaymentScreenSuccessful: нет значимой разницы\n",
      " \n"
     ]
    }
   ],
   "source": [
    "# Продолжим с группами 247 и 248\n",
    "ab_calc(df_clean_no_tutorial, [247, 248], 0.003)"
   ]
  },
  {
   "cell_type": "markdown",
   "metadata": {},
   "source": [
    "Для групп 247 и 248 различия по всем событиям статистически не значимы."
   ]
  },
  {
   "cell_type": "code",
   "execution_count": 35,
   "metadata": {},
   "outputs": [
    {
     "name": "stdout",
     "output_type": "stream",
     "text": [
      "MainScreenAppear\n",
      "0.9861861861861861 0.9834319526627219\n",
      "p_value:  0.3486684291093256\n",
      "Не получилось отвергнуть нулевую гипотезу для события MainScreenAppear: нет значимой разницы\n",
      " \n",
      "OffersScreenAppear\n",
      "0.613013013013013 0.6039447731755424\n",
      "p_value:  0.44582745409482394\n",
      "Не получилось отвергнуть нулевую гипотезу для события OffersScreenAppear: нет значимой разницы\n",
      " \n",
      "CartScreenAppear\n",
      "0.5013013013013013 0.48520710059171596\n",
      "p_value:  0.18683558686831558\n",
      "Не получилось отвергнуть нулевую гипотезу для события CartScreenAppear: нет значимой разницы\n",
      " \n",
      "PaymentScreenSuccessful\n",
      "0.4720720720720721 0.4658777120315582\n",
      "p_value:  0.6107918742187335\n",
      "Не получилось отвергнуть нулевую гипотезу для события PaymentScreenSuccessful: нет значимой разницы\n",
      " \n"
     ]
    }
   ],
   "source": [
    "# Теперь посмотрим на события в объединённой 246 группе и экспериментальной 248-ой\n",
    "ab_calc(df_clean_no_tutorial_AA_combo, [246, 248], 0.003)"
   ]
  },
  {
   "cell_type": "markdown",
   "metadata": {},
   "source": [
    "Для объединенной группы 246 и экспериментальной 248 различия по всем событиям статистически не значимы.\n",
    "\n",
    "После всех тестов с учётом нашей поправки порогового значения alpha по-прежнему нет оснований отвергнуть нулевую гипотезу."
   ]
  },
  {
   "cell_type": "markdown",
   "metadata": {},
   "source": [
    "**Вывод по изучению результатов эксперимента**\n",
    "\n",
    "В нашем эксперименте пользователи разделены на три группы: группы 246 и 247 - контрольные, группа 248 - экспериментальная.<br>\n",
    "В каждой группе примерно равное число участников - около 2.5 тысяч.\n",
    "\n",
    "Тестируемые группы соответствуют условиям корректного тестирования, и отличия между всеми группами незначительны (1-2%).<br> \n",
    "Пользователей, попавших в несколько групп, мы не нашли.<br>\n",
    "В итоге, данные групп считаем корректными для анализа.\n",
    "\n",
    "Для проверки достоверности отличий между группами мы создали функцию подсчёта статистической значимости между группами и сформулировали гипотезы:\n",
    "\n",
    " - Н0 - различия между экспериментальными группами статистически не значимы (статистически значимой разницы нет),\n",
    "\n",
    " - Н1 - различия между экспериментальными группами статистически значимы (статистически значимая разница есть).\n",
    "\n",
    "Пороговое значение alpha приняли за 5%.\n",
    "\n",
    "При проведении z-теста гипотеза о равенстве групп ни разу не была отвергнута (в том числе и для группы, состоящей из суммы тестовых групп).<br>\n",
    "Мы провели целых 16 тестов, и, чтобы исключить вероятность ложноположительного результата, скорректировали уровень значимости \n",
    "до 0.003 согласно поправке Бонферрони.\n",
    "\n",
    "После всех тестов с учётом поправки порогового значения alpha по-прежнему нет оснований отвергнуть нулевую гипотезу."
   ]
  },
  {
   "cell_type": "markdown",
   "metadata": {},
   "source": [
    "### Общий вывод"
   ]
  },
  {
   "cell_type": "markdown",
   "metadata": {},
   "source": [
    "Напомним, что наши данные для анализа это лог, где каждая запись - действие пользователя мобильного приложения.<br>\n",
    "Действия разделены на 3 группы: 2 контрольные и одна экспериментальная (для её пользователей был изменен шрифт приложения).<br>\n",
    "\n",
    "У нас было 2 задачи: \n",
    " - Разобраться, как ведут себя пользователи нашего мобильного приложения,\n",
    " - Понять, изменилась ли конверсия в тестовой группе в связи с новым шрифтом приложения.\n",
    "\n",
    "*Перед работой с данными мы провели предобработку, а при изучении данных выяснили, что:*\n",
    " - Изначально в логе было сохранено более 240000 событий и более **7500 пользователей**, что достаточно много для проведения анализа,\n",
    " - Исходный период данных находился в промежутке с 25 июля 2019 по 07 августа 2019, но основная масса данных - записи второй из двух исследуемых недель, поэтому мы отказались от данных первой недели (мало данных) и сосредоточились **на неделе 01 - 07 августа 2019**,\n",
    " - Данные о пользователях присутствуют во всех трёх экспериментальных группах.\n",
    " \n",
    "*После изучения воронки событий мы узнали, что:*\n",
    "\n",
    "- Всего в наших записях 5 уникальных событий, самое популярное - просмотр Главного экрана приложения,\n",
    "- Популярность действий соответсвует логике взаимодействия с приложением: сначала пользователь видит основной экран, затем экран с предложением покупки, далее переходит в корзину, а в конце - экран успешной оплаты.\n",
    "\n",
    "- Потери пользователей от шага к шагу выглядят так:\n",
    "  - Самый большой разрыв посещаемости - **между главной страницей и страницей предложений: теряем 38% пользователей** на этом шаге,\n",
    "  - Далее, между страницей предложений и корзиной, отсеиваются 19%,\n",
    "  - Затем, от корзины до успешной оплаты, пропадают 5% пользователей.<br>\n",
    "\n",
    "В итоге, **до успешного завершения покупки доходят лишь 47%** от первоначального количества пользователей приложения.\n",
    "\n",
    "*После изучения результатов эксперимента:*\n",
    "\n",
    " - В нашем эксперименте пользователи разделены на три группы: 2 контрольные, и одна группа - экспериментальная.<br>\n",
    " - В каждой группе примерно равное число участников - около 2.5 тысяч.\n",
    " - Данные групп мы оцниваем как корректные для проведения анализа.\n",
    "\n",
    " - После проведения z-теста мы полагаем, что статистически значимой разницы между группами нет, гипотеза об отсутствии различий между конверсиями событий тестируемых групп не опровергнута.\n",
    "\n",
    "Другими словами, разницы между поведением пользователей до изменения шрифта приложения и после с большой долей вероятности нет.<br>\n",
    "**Можно поменять шрифт или оставить прежний вариант**, вероятность влияния этого изменения на конверсию не подтверждена.\n",
    "\n",
    "*Завершая вывод, предлагаем пару идей коллегам из отдела маркетинга:*\n",
    " - Процент потерь пользователей при переходе с главной страницы на страницу предложений: 38% пользователей отсеиваются на этом шаге, следует изучить этот вопрос подробнее.\n",
    " - Также, **в шаге от корзины до успешной оплаты пропадают 5% пользователей**.<br>\n",
    "   Возможно, есть технические проблемы при оплате."
   ]
  }
 ],
 "metadata": {
  "ExecuteTimeLog": [
   {
    "duration": 1235,
    "start_time": "2022-12-27T07:12:05.054Z"
   },
   {
    "duration": 132,
    "start_time": "2022-12-27T07:14:38.892Z"
   },
   {
    "duration": 588,
    "start_time": "2022-12-27T07:14:59.200Z"
   },
   {
    "duration": 282,
    "start_time": "2022-12-27T07:16:52.875Z"
   },
   {
    "duration": 150,
    "start_time": "2022-12-27T07:17:08.208Z"
   },
   {
    "duration": 151,
    "start_time": "2022-12-27T07:17:56.297Z"
   },
   {
    "duration": 157,
    "start_time": "2022-12-27T07:18:05.630Z"
   },
   {
    "duration": 157,
    "start_time": "2022-12-27T07:20:37.256Z"
   },
   {
    "duration": 151,
    "start_time": "2022-12-27T07:20:42.137Z"
   },
   {
    "duration": 155,
    "start_time": "2022-12-27T07:21:01.781Z"
   },
   {
    "duration": 26,
    "start_time": "2022-12-27T07:21:53.504Z"
   },
   {
    "duration": 9,
    "start_time": "2022-12-27T07:22:12.694Z"
   },
   {
    "duration": 18,
    "start_time": "2022-12-27T07:35:48.812Z"
   },
   {
    "duration": 41,
    "start_time": "2022-12-27T07:36:11.250Z"
   },
   {
    "duration": 221,
    "start_time": "2022-12-27T07:36:18.813Z"
   },
   {
    "duration": 184,
    "start_time": "2022-12-27T07:36:38.050Z"
   },
   {
    "duration": 1110,
    "start_time": "2022-12-27T07:37:15.565Z"
   },
   {
    "duration": 164,
    "start_time": "2022-12-27T07:37:16.676Z"
   },
   {
    "duration": 19,
    "start_time": "2022-12-27T07:37:16.841Z"
   },
   {
    "duration": 7,
    "start_time": "2022-12-27T07:37:16.861Z"
   },
   {
    "duration": 9,
    "start_time": "2022-12-27T07:37:27.802Z"
   },
   {
    "duration": 59,
    "start_time": "2022-12-27T07:37:35.853Z"
   },
   {
    "duration": 303,
    "start_time": "2022-12-27T07:38:36.477Z"
   },
   {
    "duration": 1103,
    "start_time": "2022-12-27T07:38:51.272Z"
   },
   {
    "duration": 158,
    "start_time": "2022-12-27T07:38:52.377Z"
   },
   {
    "duration": 18,
    "start_time": "2022-12-27T07:38:52.536Z"
   },
   {
    "duration": 29,
    "start_time": "2022-12-27T07:38:52.555Z"
   },
   {
    "duration": 5,
    "start_time": "2022-12-27T07:39:06.068Z"
   },
   {
    "duration": 153,
    "start_time": "2022-12-27T07:40:28.066Z"
   },
   {
    "duration": 57,
    "start_time": "2022-12-27T07:40:46.924Z"
   },
   {
    "duration": 59,
    "start_time": "2022-12-27T07:41:03.639Z"
   },
   {
    "duration": 14,
    "start_time": "2022-12-27T07:41:55.520Z"
   },
   {
    "duration": 6,
    "start_time": "2022-12-27T07:43:45.653Z"
   },
   {
    "duration": 52,
    "start_time": "2022-12-27T07:59:06.450Z"
   },
   {
    "duration": 21,
    "start_time": "2022-12-27T07:59:13.543Z"
   },
   {
    "duration": 81,
    "start_time": "2022-12-27T07:59:19.089Z"
   },
   {
    "duration": 161,
    "start_time": "2022-12-27T07:59:26.744Z"
   },
   {
    "duration": 22,
    "start_time": "2022-12-27T07:59:40.550Z"
   },
   {
    "duration": 138,
    "start_time": "2022-12-27T08:01:44.699Z"
   },
   {
    "duration": 22,
    "start_time": "2022-12-27T08:02:31.929Z"
   },
   {
    "duration": 869,
    "start_time": "2022-12-27T08:07:38.868Z"
   },
   {
    "duration": 1029,
    "start_time": "2022-12-27T08:07:58.238Z"
   },
   {
    "duration": 157,
    "start_time": "2022-12-27T08:07:59.269Z"
   },
   {
    "duration": 18,
    "start_time": "2022-12-27T08:07:59.428Z"
   },
   {
    "duration": 10,
    "start_time": "2022-12-27T08:07:59.447Z"
   },
   {
    "duration": 4,
    "start_time": "2022-12-27T08:07:59.459Z"
   },
   {
    "duration": 77,
    "start_time": "2022-12-27T08:07:59.465Z"
   },
   {
    "duration": 71,
    "start_time": "2022-12-27T08:07:59.543Z"
   },
   {
    "duration": 142,
    "start_time": "2022-12-27T08:07:59.615Z"
   },
   {
    "duration": 20,
    "start_time": "2022-12-27T08:07:59.758Z"
   },
   {
    "duration": 1619,
    "start_time": "2022-12-27T08:10:16.876Z"
   },
   {
    "duration": 1111,
    "start_time": "2022-12-27T08:10:26.375Z"
   },
   {
    "duration": 161,
    "start_time": "2022-12-27T08:10:27.488Z"
   },
   {
    "duration": 20,
    "start_time": "2022-12-27T08:10:27.651Z"
   },
   {
    "duration": 6,
    "start_time": "2022-12-27T08:10:27.673Z"
   },
   {
    "duration": 20,
    "start_time": "2022-12-27T08:10:27.680Z"
   },
   {
    "duration": 70,
    "start_time": "2022-12-27T08:10:27.702Z"
   },
   {
    "duration": 78,
    "start_time": "2022-12-27T08:10:27.774Z"
   },
   {
    "duration": 156,
    "start_time": "2022-12-27T08:10:27.854Z"
   },
   {
    "duration": 19,
    "start_time": "2022-12-27T08:10:28.012Z"
   },
   {
    "duration": 11,
    "start_time": "2022-12-27T08:23:39.993Z"
   },
   {
    "duration": 21,
    "start_time": "2022-12-27T08:24:40.963Z"
   },
   {
    "duration": 22,
    "start_time": "2022-12-27T08:24:45.509Z"
   },
   {
    "duration": 15,
    "start_time": "2022-12-27T08:25:05.378Z"
   },
   {
    "duration": 20,
    "start_time": "2022-12-27T08:26:02.750Z"
   },
   {
    "duration": 7,
    "start_time": "2022-12-27T08:26:35.223Z"
   },
   {
    "duration": 4,
    "start_time": "2022-12-27T08:27:40.061Z"
   },
   {
    "duration": 5,
    "start_time": "2022-12-27T08:55:28.698Z"
   },
   {
    "duration": 6,
    "start_time": "2022-12-27T08:56:00.124Z"
   },
   {
    "duration": 5,
    "start_time": "2022-12-27T08:56:07.954Z"
   },
   {
    "duration": 7,
    "start_time": "2022-12-27T08:56:42.014Z"
   },
   {
    "duration": 795,
    "start_time": "2022-12-27T08:59:08.082Z"
   },
   {
    "duration": 266,
    "start_time": "2022-12-27T08:59:25.136Z"
   },
   {
    "duration": 197,
    "start_time": "2022-12-27T08:59:34.288Z"
   },
   {
    "duration": 199,
    "start_time": "2022-12-27T08:59:59.792Z"
   },
   {
    "duration": 42,
    "start_time": "2022-12-27T09:05:18.451Z"
   },
   {
    "duration": 10,
    "start_time": "2022-12-27T09:11:43.135Z"
   },
   {
    "duration": 11,
    "start_time": "2022-12-27T09:12:37.963Z"
   },
   {
    "duration": 17,
    "start_time": "2022-12-27T09:14:20.558Z"
   },
   {
    "duration": 14,
    "start_time": "2022-12-27T09:15:29.657Z"
   },
   {
    "duration": 16,
    "start_time": "2022-12-27T09:15:50.205Z"
   },
   {
    "duration": 45,
    "start_time": "2022-12-27T09:16:27.887Z"
   },
   {
    "duration": 13,
    "start_time": "2022-12-27T09:16:45.802Z"
   },
   {
    "duration": 13,
    "start_time": "2022-12-27T09:17:10.824Z"
   },
   {
    "duration": 13,
    "start_time": "2022-12-27T09:17:17.145Z"
   },
   {
    "duration": 15,
    "start_time": "2022-12-27T09:17:43.988Z"
   },
   {
    "duration": 13,
    "start_time": "2022-12-27T09:17:49.602Z"
   },
   {
    "duration": 15,
    "start_time": "2022-12-27T09:19:10.117Z"
   },
   {
    "duration": 13,
    "start_time": "2022-12-27T09:19:16.662Z"
   },
   {
    "duration": 14,
    "start_time": "2022-12-27T09:19:49.626Z"
   },
   {
    "duration": 12,
    "start_time": "2022-12-27T09:19:54.530Z"
   },
   {
    "duration": 16,
    "start_time": "2022-12-27T09:20:10.926Z"
   },
   {
    "duration": 15,
    "start_time": "2022-12-27T09:20:24.628Z"
   },
   {
    "duration": 13,
    "start_time": "2022-12-27T09:36:19.313Z"
   },
   {
    "duration": 40,
    "start_time": "2022-12-27T09:38:23.845Z"
   },
   {
    "duration": 23,
    "start_time": "2022-12-27T09:49:34.982Z"
   },
   {
    "duration": 1278,
    "start_time": "2022-12-28T06:54:04.927Z"
   },
   {
    "duration": 552,
    "start_time": "2022-12-28T06:54:06.207Z"
   },
   {
    "duration": 19,
    "start_time": "2022-12-28T06:54:06.761Z"
   },
   {
    "duration": 4,
    "start_time": "2022-12-28T06:54:06.783Z"
   },
   {
    "duration": 61,
    "start_time": "2022-12-28T06:54:06.789Z"
   },
   {
    "duration": 71,
    "start_time": "2022-12-28T06:54:06.852Z"
   },
   {
    "duration": 143,
    "start_time": "2022-12-28T06:54:06.924Z"
   },
   {
    "duration": 21,
    "start_time": "2022-12-28T06:54:07.069Z"
   },
   {
    "duration": 51,
    "start_time": "2022-12-28T06:54:07.091Z"
   },
   {
    "duration": 26,
    "start_time": "2022-12-28T06:54:07.144Z"
   },
   {
    "duration": 7,
    "start_time": "2022-12-28T06:54:07.171Z"
   },
   {
    "duration": 10,
    "start_time": "2022-12-28T06:54:07.179Z"
   },
   {
    "duration": 6,
    "start_time": "2022-12-28T06:54:07.191Z"
   },
   {
    "duration": 281,
    "start_time": "2022-12-28T06:54:07.199Z"
   },
   {
    "duration": 47,
    "start_time": "2022-12-28T06:54:07.481Z"
   },
   {
    "duration": 14,
    "start_time": "2022-12-28T06:54:07.531Z"
   },
   {
    "duration": 41,
    "start_time": "2022-12-28T06:54:07.547Z"
   },
   {
    "duration": 95,
    "start_time": "2022-12-28T06:58:48.079Z"
   },
   {
    "duration": 22,
    "start_time": "2022-12-28T06:58:53.660Z"
   },
   {
    "duration": 10,
    "start_time": "2022-12-28T07:00:52.429Z"
   },
   {
    "duration": 57,
    "start_time": "2022-12-28T07:01:15.002Z"
   },
   {
    "duration": 43,
    "start_time": "2022-12-28T07:09:41.336Z"
   },
   {
    "duration": 13,
    "start_time": "2022-12-28T07:09:45.973Z"
   },
   {
    "duration": 55,
    "start_time": "2022-12-28T07:10:03.190Z"
   },
   {
    "duration": 157,
    "start_time": "2022-12-28T07:14:13.220Z"
   },
   {
    "duration": 148,
    "start_time": "2022-12-28T07:14:18.232Z"
   },
   {
    "duration": 159,
    "start_time": "2022-12-28T07:14:36.998Z"
   },
   {
    "duration": 149,
    "start_time": "2022-12-28T07:14:43.555Z"
   },
   {
    "duration": 232,
    "start_time": "2022-12-28T07:14:50.021Z"
   },
   {
    "duration": 154,
    "start_time": "2022-12-28T07:15:24.633Z"
   },
   {
    "duration": 9,
    "start_time": "2022-12-28T07:16:45.043Z"
   },
   {
    "duration": 168,
    "start_time": "2022-12-28T07:17:08.994Z"
   },
   {
    "duration": 167,
    "start_time": "2022-12-28T07:20:24.921Z"
   },
   {
    "duration": 161,
    "start_time": "2022-12-28T07:20:34.037Z"
   },
   {
    "duration": 80,
    "start_time": "2022-12-28T07:24:44.978Z"
   },
   {
    "duration": 10,
    "start_time": "2022-12-28T07:45:50.413Z"
   },
   {
    "duration": 19,
    "start_time": "2022-12-28T07:52:13.461Z"
   },
   {
    "duration": 11,
    "start_time": "2022-12-28T07:52:44.043Z"
   },
   {
    "duration": 9,
    "start_time": "2022-12-28T07:54:12.920Z"
   },
   {
    "duration": 11,
    "start_time": "2022-12-28T07:54:41.940Z"
   },
   {
    "duration": 9,
    "start_time": "2022-12-28T07:58:53.322Z"
   },
   {
    "duration": 854,
    "start_time": "2022-12-28T07:59:02.903Z"
   },
   {
    "duration": 25,
    "start_time": "2022-12-28T07:59:14.197Z"
   },
   {
    "duration": 6,
    "start_time": "2022-12-28T08:00:53.894Z"
   },
   {
    "duration": 5,
    "start_time": "2022-12-28T08:01:13.204Z"
   },
   {
    "duration": 11,
    "start_time": "2022-12-28T08:01:18.948Z"
   },
   {
    "duration": 1180,
    "start_time": "2022-12-28T08:01:58.423Z"
   },
   {
    "duration": 163,
    "start_time": "2022-12-28T08:01:59.605Z"
   },
   {
    "duration": 18,
    "start_time": "2022-12-28T08:01:59.769Z"
   },
   {
    "duration": 4,
    "start_time": "2022-12-28T08:01:59.789Z"
   },
   {
    "duration": 72,
    "start_time": "2022-12-28T08:01:59.795Z"
   },
   {
    "duration": 76,
    "start_time": "2022-12-28T08:01:59.868Z"
   },
   {
    "duration": 157,
    "start_time": "2022-12-28T08:01:59.946Z"
   },
   {
    "duration": 25,
    "start_time": "2022-12-28T08:02:00.104Z"
   },
   {
    "duration": 11,
    "start_time": "2022-12-28T08:02:00.131Z"
   },
   {
    "duration": 51,
    "start_time": "2022-12-28T08:02:00.144Z"
   },
   {
    "duration": 19,
    "start_time": "2022-12-28T08:02:00.196Z"
   },
   {
    "duration": 30,
    "start_time": "2022-12-28T08:02:00.216Z"
   },
   {
    "duration": 32,
    "start_time": "2022-12-28T08:02:00.248Z"
   },
   {
    "duration": 292,
    "start_time": "2022-12-28T08:02:00.281Z"
   },
   {
    "duration": 54,
    "start_time": "2022-12-28T08:02:00.575Z"
   },
   {
    "duration": 16,
    "start_time": "2022-12-28T08:02:00.630Z"
   },
   {
    "duration": 34,
    "start_time": "2022-12-28T08:02:00.647Z"
   },
   {
    "duration": 39,
    "start_time": "2022-12-28T08:02:00.683Z"
   },
   {
    "duration": 62,
    "start_time": "2022-12-28T08:02:00.724Z"
   },
   {
    "duration": 106,
    "start_time": "2022-12-28T08:02:00.787Z"
   },
   {
    "duration": 0,
    "start_time": "2022-12-28T08:02:00.894Z"
   },
   {
    "duration": 150,
    "start_time": "2022-12-28T08:02:42.507Z"
   },
   {
    "duration": 1131,
    "start_time": "2022-12-28T08:02:54.208Z"
   },
   {
    "duration": 161,
    "start_time": "2022-12-28T08:02:55.341Z"
   },
   {
    "duration": 25,
    "start_time": "2022-12-28T08:02:55.504Z"
   },
   {
    "duration": 7,
    "start_time": "2022-12-28T08:02:55.531Z"
   },
   {
    "duration": 68,
    "start_time": "2022-12-28T08:02:55.539Z"
   },
   {
    "duration": 68,
    "start_time": "2022-12-28T08:02:55.609Z"
   },
   {
    "duration": 156,
    "start_time": "2022-12-28T08:02:55.678Z"
   },
   {
    "duration": 18,
    "start_time": "2022-12-28T08:02:55.836Z"
   },
   {
    "duration": 14,
    "start_time": "2022-12-28T08:02:55.856Z"
   },
   {
    "duration": 49,
    "start_time": "2022-12-28T08:02:55.872Z"
   },
   {
    "duration": 23,
    "start_time": "2022-12-28T08:02:55.922Z"
   },
   {
    "duration": 18,
    "start_time": "2022-12-28T08:02:55.946Z"
   },
   {
    "duration": 17,
    "start_time": "2022-12-28T08:02:55.966Z"
   },
   {
    "duration": 285,
    "start_time": "2022-12-28T08:02:55.984Z"
   },
   {
    "duration": 40,
    "start_time": "2022-12-28T08:02:56.270Z"
   },
   {
    "duration": 16,
    "start_time": "2022-12-28T08:02:56.320Z"
   },
   {
    "duration": 53,
    "start_time": "2022-12-28T08:02:56.338Z"
   },
   {
    "duration": 21,
    "start_time": "2022-12-28T08:02:56.392Z"
   },
   {
    "duration": 68,
    "start_time": "2022-12-28T08:02:56.414Z"
   },
   {
    "duration": 152,
    "start_time": "2022-12-28T08:02:56.483Z"
   },
   {
    "duration": 9,
    "start_time": "2022-12-28T08:02:56.636Z"
   },
   {
    "duration": 13,
    "start_time": "2022-12-28T08:03:50.985Z"
   },
   {
    "duration": 1078,
    "start_time": "2022-12-28T08:04:38.443Z"
   },
   {
    "duration": 162,
    "start_time": "2022-12-28T08:04:39.523Z"
   },
   {
    "duration": 18,
    "start_time": "2022-12-28T08:04:39.687Z"
   },
   {
    "duration": 15,
    "start_time": "2022-12-28T08:04:39.707Z"
   },
   {
    "duration": 60,
    "start_time": "2022-12-28T08:04:39.723Z"
   },
   {
    "duration": 79,
    "start_time": "2022-12-28T08:04:39.784Z"
   },
   {
    "duration": 151,
    "start_time": "2022-12-28T08:04:39.864Z"
   },
   {
    "duration": 21,
    "start_time": "2022-12-28T08:04:40.017Z"
   },
   {
    "duration": 11,
    "start_time": "2022-12-28T08:04:40.040Z"
   },
   {
    "duration": 25,
    "start_time": "2022-12-28T08:04:40.053Z"
   },
   {
    "duration": 10,
    "start_time": "2022-12-28T08:04:40.080Z"
   },
   {
    "duration": 6,
    "start_time": "2022-12-28T08:04:40.091Z"
   },
   {
    "duration": 6,
    "start_time": "2022-12-28T08:04:40.122Z"
   },
   {
    "duration": 286,
    "start_time": "2022-12-28T08:04:40.130Z"
   },
   {
    "duration": 40,
    "start_time": "2022-12-28T08:04:40.420Z"
   },
   {
    "duration": 17,
    "start_time": "2022-12-28T08:04:40.462Z"
   },
   {
    "duration": 58,
    "start_time": "2022-12-28T08:04:40.481Z"
   },
   {
    "duration": 21,
    "start_time": "2022-12-28T08:04:40.541Z"
   },
   {
    "duration": 73,
    "start_time": "2022-12-28T08:04:40.564Z"
   },
   {
    "duration": 155,
    "start_time": "2022-12-28T08:04:40.639Z"
   },
   {
    "duration": 9,
    "start_time": "2022-12-28T08:04:40.796Z"
   },
   {
    "duration": 20,
    "start_time": "2022-12-28T08:04:40.806Z"
   },
   {
    "duration": 10,
    "start_time": "2022-12-28T08:05:32.948Z"
   },
   {
    "duration": 10,
    "start_time": "2022-12-28T08:05:43.435Z"
   },
   {
    "duration": 137,
    "start_time": "2022-12-28T08:06:56.819Z"
   },
   {
    "duration": 141,
    "start_time": "2022-12-28T08:07:07.621Z"
   },
   {
    "duration": 11,
    "start_time": "2022-12-28T08:09:17.730Z"
   },
   {
    "duration": 11,
    "start_time": "2022-12-28T08:09:30.922Z"
   },
   {
    "duration": 10,
    "start_time": "2022-12-28T08:13:41.798Z"
   },
   {
    "duration": 11,
    "start_time": "2022-12-28T08:13:59.327Z"
   },
   {
    "duration": 10,
    "start_time": "2022-12-28T08:15:10.036Z"
   },
   {
    "duration": 15,
    "start_time": "2022-12-28T08:49:32.591Z"
   },
   {
    "duration": 22,
    "start_time": "2022-12-28T08:52:47.420Z"
   },
   {
    "duration": 35,
    "start_time": "2022-12-28T08:52:55.030Z"
   },
   {
    "duration": 24,
    "start_time": "2022-12-28T08:53:19.989Z"
   },
   {
    "duration": 13,
    "start_time": "2022-12-28T08:53:25.390Z"
   },
   {
    "duration": 34,
    "start_time": "2022-12-28T08:53:38.741Z"
   },
   {
    "duration": 43,
    "start_time": "2022-12-28T08:55:53.005Z"
   },
   {
    "duration": 23,
    "start_time": "2022-12-28T09:09:30.907Z"
   },
   {
    "duration": 43,
    "start_time": "2022-12-28T09:10:36.619Z"
   },
   {
    "duration": 7,
    "start_time": "2022-12-28T09:11:38.453Z"
   },
   {
    "duration": 13,
    "start_time": "2022-12-28T09:13:08.828Z"
   },
   {
    "duration": 8,
    "start_time": "2022-12-28T09:13:25.136Z"
   },
   {
    "duration": 8,
    "start_time": "2022-12-28T09:13:33.958Z"
   },
   {
    "duration": 15,
    "start_time": "2022-12-28T09:14:56.153Z"
   },
   {
    "duration": 1050,
    "start_time": "2022-12-28T09:15:31.668Z"
   },
   {
    "duration": 181,
    "start_time": "2022-12-28T09:15:32.720Z"
   },
   {
    "duration": 25,
    "start_time": "2022-12-28T09:15:32.902Z"
   },
   {
    "duration": 5,
    "start_time": "2022-12-28T09:15:32.929Z"
   },
   {
    "duration": 77,
    "start_time": "2022-12-28T09:15:32.935Z"
   },
   {
    "duration": 71,
    "start_time": "2022-12-28T09:15:33.013Z"
   },
   {
    "duration": 162,
    "start_time": "2022-12-28T09:15:33.086Z"
   },
   {
    "duration": 19,
    "start_time": "2022-12-28T09:15:33.249Z"
   },
   {
    "duration": 11,
    "start_time": "2022-12-28T09:15:33.270Z"
   },
   {
    "duration": 41,
    "start_time": "2022-12-28T09:15:33.283Z"
   },
   {
    "duration": 15,
    "start_time": "2022-12-28T09:15:33.326Z"
   },
   {
    "duration": 3,
    "start_time": "2022-12-28T09:15:33.343Z"
   },
   {
    "duration": 8,
    "start_time": "2022-12-28T09:15:33.347Z"
   },
   {
    "duration": 282,
    "start_time": "2022-12-28T09:15:33.356Z"
   },
   {
    "duration": 40,
    "start_time": "2022-12-28T09:15:33.640Z"
   },
   {
    "duration": 15,
    "start_time": "2022-12-28T09:15:33.682Z"
   },
   {
    "duration": 58,
    "start_time": "2022-12-28T09:15:33.699Z"
   },
   {
    "duration": 21,
    "start_time": "2022-12-28T09:15:33.758Z"
   },
   {
    "duration": 78,
    "start_time": "2022-12-28T09:15:33.781Z"
   },
   {
    "duration": 149,
    "start_time": "2022-12-28T09:15:33.861Z"
   },
   {
    "duration": 14,
    "start_time": "2022-12-28T09:15:34.011Z"
   },
   {
    "duration": 35,
    "start_time": "2022-12-28T09:15:34.027Z"
   },
   {
    "duration": 59,
    "start_time": "2022-12-28T09:15:34.063Z"
   },
   {
    "duration": 8,
    "start_time": "2022-12-28T09:15:34.123Z"
   },
   {
    "duration": 24,
    "start_time": "2022-12-28T09:15:34.132Z"
   },
   {
    "duration": 5,
    "start_time": "2022-12-28T09:17:00.885Z"
   },
   {
    "duration": 8,
    "start_time": "2022-12-28T09:17:14.643Z"
   },
   {
    "duration": 1089,
    "start_time": "2022-12-28T09:51:27.910Z"
   },
   {
    "duration": 163,
    "start_time": "2022-12-28T09:51:29.001Z"
   },
   {
    "duration": 19,
    "start_time": "2022-12-28T09:51:29.165Z"
   },
   {
    "duration": 12,
    "start_time": "2022-12-28T09:51:29.185Z"
   },
   {
    "duration": 68,
    "start_time": "2022-12-28T09:51:29.199Z"
   },
   {
    "duration": 77,
    "start_time": "2022-12-28T09:51:29.269Z"
   },
   {
    "duration": 151,
    "start_time": "2022-12-28T09:51:29.348Z"
   },
   {
    "duration": 28,
    "start_time": "2022-12-28T09:51:29.500Z"
   },
   {
    "duration": 12,
    "start_time": "2022-12-28T09:51:29.530Z"
   },
   {
    "duration": 25,
    "start_time": "2022-12-28T09:51:29.543Z"
   },
   {
    "duration": 14,
    "start_time": "2022-12-28T09:51:29.569Z"
   },
   {
    "duration": 13,
    "start_time": "2022-12-28T09:51:29.584Z"
   },
   {
    "duration": 26,
    "start_time": "2022-12-28T09:51:29.598Z"
   },
   {
    "duration": 291,
    "start_time": "2022-12-28T09:51:29.627Z"
   },
   {
    "duration": 41,
    "start_time": "2022-12-28T09:51:29.920Z"
   },
   {
    "duration": 17,
    "start_time": "2022-12-28T09:51:29.962Z"
   },
   {
    "duration": 57,
    "start_time": "2022-12-28T09:51:29.980Z"
   },
   {
    "duration": 22,
    "start_time": "2022-12-28T09:51:30.039Z"
   },
   {
    "duration": 81,
    "start_time": "2022-12-28T09:51:30.063Z"
   },
   {
    "duration": 146,
    "start_time": "2022-12-28T09:51:30.146Z"
   },
   {
    "duration": 10,
    "start_time": "2022-12-28T09:51:30.293Z"
   },
   {
    "duration": 45,
    "start_time": "2022-12-28T09:51:30.305Z"
   },
   {
    "duration": 71,
    "start_time": "2022-12-28T09:51:30.352Z"
   },
   {
    "duration": 5,
    "start_time": "2022-12-28T09:51:30.425Z"
   },
   {
    "duration": 5,
    "start_time": "2022-12-28T09:53:31.884Z"
   },
   {
    "duration": 5,
    "start_time": "2022-12-28T09:53:36.545Z"
   },
   {
    "duration": 5,
    "start_time": "2022-12-28T09:53:45.014Z"
   },
   {
    "duration": 6,
    "start_time": "2022-12-28T09:54:20.934Z"
   },
   {
    "duration": 6,
    "start_time": "2022-12-28T09:54:26.401Z"
   },
   {
    "duration": 4,
    "start_time": "2022-12-28T09:54:41.233Z"
   },
   {
    "duration": 6,
    "start_time": "2022-12-28T09:54:45.298Z"
   },
   {
    "duration": 4,
    "start_time": "2022-12-28T09:56:33.458Z"
   },
   {
    "duration": 5,
    "start_time": "2022-12-28T09:56:37.879Z"
   },
   {
    "duration": 6,
    "start_time": "2022-12-28T09:57:09.370Z"
   },
   {
    "duration": 5,
    "start_time": "2022-12-28T09:57:21.202Z"
   },
   {
    "duration": 6,
    "start_time": "2022-12-28T09:57:35.115Z"
   },
   {
    "duration": 5,
    "start_time": "2022-12-28T09:57:41.954Z"
   },
   {
    "duration": 5,
    "start_time": "2022-12-28T09:57:46.557Z"
   },
   {
    "duration": 9,
    "start_time": "2022-12-28T09:57:50.330Z"
   },
   {
    "duration": 5,
    "start_time": "2022-12-28T09:57:53.526Z"
   },
   {
    "duration": 5,
    "start_time": "2022-12-28T09:57:56.746Z"
   },
   {
    "duration": 6,
    "start_time": "2022-12-28T09:57:59.831Z"
   },
   {
    "duration": 7,
    "start_time": "2022-12-28T09:58:05.206Z"
   },
   {
    "duration": 5,
    "start_time": "2022-12-28T09:58:28.280Z"
   },
   {
    "duration": 6,
    "start_time": "2022-12-28T09:58:32.981Z"
   },
   {
    "duration": 5,
    "start_time": "2022-12-28T09:58:38.050Z"
   },
   {
    "duration": 5,
    "start_time": "2022-12-28T09:58:42.502Z"
   },
   {
    "duration": 5,
    "start_time": "2022-12-28T09:58:47.800Z"
   },
   {
    "duration": 6,
    "start_time": "2022-12-28T09:58:56.918Z"
   },
   {
    "duration": 37,
    "start_time": "2022-12-28T10:01:11.862Z"
   },
   {
    "duration": 6,
    "start_time": "2022-12-28T10:02:45.800Z"
   },
   {
    "duration": 5,
    "start_time": "2022-12-28T10:02:50.011Z"
   },
   {
    "duration": 6,
    "start_time": "2022-12-28T10:03:04.138Z"
   },
   {
    "duration": 5,
    "start_time": "2022-12-28T10:03:07.217Z"
   },
   {
    "duration": 3,
    "start_time": "2022-12-28T10:08:58.774Z"
   },
   {
    "duration": 56,
    "start_time": "2022-12-28T10:09:36.764Z"
   },
   {
    "duration": 4,
    "start_time": "2022-12-28T10:09:45.241Z"
   },
   {
    "duration": 4,
    "start_time": "2022-12-28T10:10:13.600Z"
   },
   {
    "duration": 3,
    "start_time": "2022-12-28T10:10:18.062Z"
   },
   {
    "duration": 4,
    "start_time": "2022-12-28T10:10:20.905Z"
   },
   {
    "duration": 157,
    "start_time": "2022-12-28T10:22:02.359Z"
   },
   {
    "duration": 86,
    "start_time": "2022-12-28T10:22:32.464Z"
   },
   {
    "duration": 77,
    "start_time": "2022-12-28T10:22:55.677Z"
   },
   {
    "duration": 73,
    "start_time": "2022-12-28T10:23:06.458Z"
   },
   {
    "duration": 75,
    "start_time": "2022-12-28T10:23:26.746Z"
   },
   {
    "duration": 74,
    "start_time": "2022-12-28T10:23:54.843Z"
   },
   {
    "duration": 76,
    "start_time": "2022-12-28T10:24:03.015Z"
   },
   {
    "duration": 84,
    "start_time": "2022-12-28T10:24:17.077Z"
   },
   {
    "duration": 72,
    "start_time": "2022-12-28T10:24:22.457Z"
   },
   {
    "duration": 72,
    "start_time": "2022-12-28T10:24:33.099Z"
   },
   {
    "duration": 81,
    "start_time": "2022-12-28T10:25:19.244Z"
   },
   {
    "duration": 778,
    "start_time": "2022-12-28T10:26:45.615Z"
   },
   {
    "duration": 1014,
    "start_time": "2022-12-28T10:27:01.012Z"
   },
   {
    "duration": 979,
    "start_time": "2022-12-28T10:27:09.513Z"
   },
   {
    "duration": 65,
    "start_time": "2022-12-28T10:27:15.295Z"
   },
   {
    "duration": 46,
    "start_time": "2022-12-28T10:27:18.578Z"
   },
   {
    "duration": 81,
    "start_time": "2022-12-28T10:27:22.684Z"
   },
   {
    "duration": 74,
    "start_time": "2022-12-28T10:38:48.446Z"
   },
   {
    "duration": 52,
    "start_time": "2022-12-28T10:39:31.257Z"
   },
   {
    "duration": 48,
    "start_time": "2022-12-28T10:39:39.937Z"
   },
   {
    "duration": 75,
    "start_time": "2022-12-28T10:39:46.908Z"
   },
   {
    "duration": 79,
    "start_time": "2022-12-28T10:40:11.982Z"
   },
   {
    "duration": 77,
    "start_time": "2022-12-28T10:40:31.116Z"
   },
   {
    "duration": 9,
    "start_time": "2022-12-28T10:53:17.314Z"
   },
   {
    "duration": 6,
    "start_time": "2022-12-28T10:53:43.840Z"
   },
   {
    "duration": 48,
    "start_time": "2022-12-28T10:54:21.357Z"
   },
   {
    "duration": 8,
    "start_time": "2022-12-28T10:54:30.512Z"
   },
   {
    "duration": 26,
    "start_time": "2022-12-28T10:54:53.213Z"
   },
   {
    "duration": 6,
    "start_time": "2022-12-28T10:56:17.339Z"
   },
   {
    "duration": 58,
    "start_time": "2022-12-28T10:56:20.109Z"
   },
   {
    "duration": 4,
    "start_time": "2022-12-28T10:56:54.267Z"
   },
   {
    "duration": 8,
    "start_time": "2022-12-28T10:56:59.608Z"
   },
   {
    "duration": 62,
    "start_time": "2022-12-28T10:57:02.317Z"
   },
   {
    "duration": 4,
    "start_time": "2022-12-28T10:57:16.516Z"
   },
   {
    "duration": 8,
    "start_time": "2022-12-28T10:57:21.874Z"
   },
   {
    "duration": 109,
    "start_time": "2022-12-28T10:57:24.071Z"
   },
   {
    "duration": 6,
    "start_time": "2022-12-28T10:57:36.548Z"
   },
   {
    "duration": 111,
    "start_time": "2022-12-28T10:57:38.916Z"
   },
   {
    "duration": 9,
    "start_time": "2022-12-28T10:57:48.812Z"
   },
   {
    "duration": 117,
    "start_time": "2022-12-28T10:57:50.716Z"
   },
   {
    "duration": 6,
    "start_time": "2022-12-28T10:57:53.272Z"
   },
   {
    "duration": 105,
    "start_time": "2022-12-28T10:57:54.964Z"
   },
   {
    "duration": 105,
    "start_time": "2022-12-28T10:58:21.664Z"
   },
   {
    "duration": 6,
    "start_time": "2022-12-28T11:00:53.764Z"
   },
   {
    "duration": 107,
    "start_time": "2022-12-28T11:00:55.917Z"
   },
   {
    "duration": 5,
    "start_time": "2022-12-28T11:01:16.977Z"
   },
   {
    "duration": 111,
    "start_time": "2022-12-28T11:01:17.515Z"
   },
   {
    "duration": 6,
    "start_time": "2022-12-28T11:01:31.717Z"
   },
   {
    "duration": 111,
    "start_time": "2022-12-28T11:01:32.923Z"
   },
   {
    "duration": 6,
    "start_time": "2022-12-28T11:01:41.730Z"
   },
   {
    "duration": 109,
    "start_time": "2022-12-28T11:01:42.667Z"
   },
   {
    "duration": 126,
    "start_time": "2022-12-28T11:15:05.234Z"
   },
   {
    "duration": 102,
    "start_time": "2022-12-28T11:16:53.898Z"
   },
   {
    "duration": 45,
    "start_time": "2022-12-28T11:20:11.446Z"
   },
   {
    "duration": 43,
    "start_time": "2022-12-28T11:20:24.831Z"
   },
   {
    "duration": 46,
    "start_time": "2022-12-28T11:20:37.139Z"
   },
   {
    "duration": 40,
    "start_time": "2022-12-28T11:20:53.544Z"
   },
   {
    "duration": 45,
    "start_time": "2022-12-28T11:21:10.605Z"
   },
   {
    "duration": 42,
    "start_time": "2022-12-28T11:21:27.207Z"
   },
   {
    "duration": 8,
    "start_time": "2022-12-28T11:22:14.169Z"
   },
   {
    "duration": 13,
    "start_time": "2022-12-28T11:22:57.070Z"
   },
   {
    "duration": 18,
    "start_time": "2022-12-28T11:24:19.101Z"
   },
   {
    "duration": 41,
    "start_time": "2022-12-28T11:24:55.011Z"
   },
   {
    "duration": 125,
    "start_time": "2022-12-28T11:25:17.243Z"
   },
   {
    "duration": 115,
    "start_time": "2022-12-28T11:38:44.872Z"
   },
   {
    "duration": 108,
    "start_time": "2022-12-28T11:39:18.362Z"
   },
   {
    "duration": 115,
    "start_time": "2022-12-28T11:39:23.443Z"
   },
   {
    "duration": 107,
    "start_time": "2022-12-28T11:39:26.105Z"
   },
   {
    "duration": 108,
    "start_time": "2022-12-28T11:39:29.501Z"
   },
   {
    "duration": 120,
    "start_time": "2022-12-28T11:39:34.553Z"
   },
   {
    "duration": 109,
    "start_time": "2022-12-28T11:40:46.058Z"
   },
   {
    "duration": 109,
    "start_time": "2022-12-28T11:41:31.362Z"
   },
   {
    "duration": 114,
    "start_time": "2022-12-28T11:41:44.440Z"
   },
   {
    "duration": 1148,
    "start_time": "2022-12-28T13:12:06.918Z"
   },
   {
    "duration": 164,
    "start_time": "2022-12-28T13:12:08.068Z"
   },
   {
    "duration": 18,
    "start_time": "2022-12-28T13:12:08.233Z"
   },
   {
    "duration": 4,
    "start_time": "2022-12-28T13:12:08.253Z"
   },
   {
    "duration": 74,
    "start_time": "2022-12-28T13:12:08.259Z"
   },
   {
    "duration": 71,
    "start_time": "2022-12-28T13:12:08.334Z"
   },
   {
    "duration": 168,
    "start_time": "2022-12-28T13:12:08.407Z"
   },
   {
    "duration": 20,
    "start_time": "2022-12-28T13:12:08.576Z"
   },
   {
    "duration": 23,
    "start_time": "2022-12-28T13:12:08.598Z"
   },
   {
    "duration": 34,
    "start_time": "2022-12-28T13:12:08.624Z"
   },
   {
    "duration": 12,
    "start_time": "2022-12-28T13:12:08.660Z"
   },
   {
    "duration": 7,
    "start_time": "2022-12-28T13:12:08.674Z"
   },
   {
    "duration": 17,
    "start_time": "2022-12-28T13:12:08.683Z"
   },
   {
    "duration": 296,
    "start_time": "2022-12-28T13:12:08.702Z"
   },
   {
    "duration": 47,
    "start_time": "2022-12-28T13:12:09.000Z"
   },
   {
    "duration": 16,
    "start_time": "2022-12-28T13:12:09.049Z"
   },
   {
    "duration": 54,
    "start_time": "2022-12-28T13:12:09.067Z"
   },
   {
    "duration": 21,
    "start_time": "2022-12-28T13:12:09.123Z"
   },
   {
    "duration": 68,
    "start_time": "2022-12-28T13:12:09.146Z"
   },
   {
    "duration": 161,
    "start_time": "2022-12-28T13:12:09.216Z"
   },
   {
    "duration": 10,
    "start_time": "2022-12-28T13:12:09.379Z"
   },
   {
    "duration": 14,
    "start_time": "2022-12-28T13:12:09.391Z"
   },
   {
    "duration": 54,
    "start_time": "2022-12-28T13:12:09.407Z"
   },
   {
    "duration": 4,
    "start_time": "2022-12-28T13:12:09.463Z"
   },
   {
    "duration": 39,
    "start_time": "2022-12-28T13:12:09.468Z"
   },
   {
    "duration": 70,
    "start_time": "2022-12-28T13:12:09.521Z"
   },
   {
    "duration": 5,
    "start_time": "2022-12-28T13:12:09.593Z"
   },
   {
    "duration": 144,
    "start_time": "2022-12-28T13:12:09.600Z"
   },
   {
    "duration": 118,
    "start_time": "2022-12-28T13:12:09.745Z"
   },
   {
    "duration": 112,
    "start_time": "2022-12-28T13:12:09.864Z"
   },
   {
    "duration": 14,
    "start_time": "2022-12-28T13:12:09.978Z"
   },
   {
    "duration": 135,
    "start_time": "2022-12-28T13:12:09.993Z"
   },
   {
    "duration": 119,
    "start_time": "2022-12-28T13:12:10.130Z"
   },
   {
    "duration": 117,
    "start_time": "2022-12-28T13:12:10.251Z"
   },
   {
    "duration": 129,
    "start_time": "2022-12-28T13:12:10.370Z"
   },
   {
    "duration": 1094,
    "start_time": "2022-12-28T13:12:52.717Z"
   },
   {
    "duration": 160,
    "start_time": "2022-12-28T13:12:53.813Z"
   },
   {
    "duration": 17,
    "start_time": "2022-12-28T13:12:53.975Z"
   },
   {
    "duration": 12,
    "start_time": "2022-12-28T13:12:53.994Z"
   },
   {
    "duration": 63,
    "start_time": "2022-12-28T13:12:54.008Z"
   },
   {
    "duration": 95,
    "start_time": "2022-12-28T13:12:54.073Z"
   },
   {
    "duration": 160,
    "start_time": "2022-12-28T13:12:54.169Z"
   },
   {
    "duration": 20,
    "start_time": "2022-12-28T13:12:54.330Z"
   },
   {
    "duration": 12,
    "start_time": "2022-12-28T13:12:54.351Z"
   },
   {
    "duration": 24,
    "start_time": "2022-12-28T13:12:54.365Z"
   },
   {
    "duration": 34,
    "start_time": "2022-12-28T13:12:54.390Z"
   },
   {
    "duration": 4,
    "start_time": "2022-12-28T13:12:54.425Z"
   },
   {
    "duration": 9,
    "start_time": "2022-12-28T13:12:54.430Z"
   },
   {
    "duration": 314,
    "start_time": "2022-12-28T13:12:54.441Z"
   },
   {
    "duration": 40,
    "start_time": "2022-12-28T13:12:54.757Z"
   },
   {
    "duration": 32,
    "start_time": "2022-12-28T13:12:54.798Z"
   },
   {
    "duration": 31,
    "start_time": "2022-12-28T13:12:54.831Z"
   },
   {
    "duration": 20,
    "start_time": "2022-12-28T13:12:54.864Z"
   },
   {
    "duration": 71,
    "start_time": "2022-12-28T13:12:54.886Z"
   },
   {
    "duration": 151,
    "start_time": "2022-12-28T13:12:54.959Z"
   },
   {
    "duration": 16,
    "start_time": "2022-12-28T13:12:55.111Z"
   },
   {
    "duration": 20,
    "start_time": "2022-12-28T13:12:55.128Z"
   },
   {
    "duration": 49,
    "start_time": "2022-12-28T13:12:55.150Z"
   },
   {
    "duration": 3,
    "start_time": "2022-12-28T13:12:55.201Z"
   },
   {
    "duration": 48,
    "start_time": "2022-12-28T13:12:55.206Z"
   },
   {
    "duration": 103,
    "start_time": "2022-12-28T13:12:55.256Z"
   },
   {
    "duration": 7,
    "start_time": "2022-12-28T13:12:55.362Z"
   },
   {
    "duration": 156,
    "start_time": "2022-12-28T13:12:55.371Z"
   },
   {
    "duration": 109,
    "start_time": "2022-12-28T13:12:55.528Z"
   },
   {
    "duration": 106,
    "start_time": "2022-12-28T13:12:55.638Z"
   },
   {
    "duration": 15,
    "start_time": "2022-12-28T13:12:55.745Z"
   },
   {
    "duration": 137,
    "start_time": "2022-12-28T13:12:55.761Z"
   },
   {
    "duration": 121,
    "start_time": "2022-12-28T13:12:55.900Z"
   },
   {
    "duration": 118,
    "start_time": "2022-12-28T13:12:56.022Z"
   },
   {
    "duration": 117,
    "start_time": "2022-12-28T13:12:56.141Z"
   },
   {
    "duration": 1246,
    "start_time": "2022-12-28T19:02:37.128Z"
   },
   {
    "duration": 502,
    "start_time": "2022-12-28T19:02:38.376Z"
   },
   {
    "duration": 18,
    "start_time": "2022-12-28T19:02:38.880Z"
   },
   {
    "duration": 8,
    "start_time": "2022-12-28T19:02:38.899Z"
   },
   {
    "duration": 65,
    "start_time": "2022-12-28T19:02:38.909Z"
   },
   {
    "duration": 74,
    "start_time": "2022-12-28T19:02:38.976Z"
   },
   {
    "duration": 155,
    "start_time": "2022-12-28T19:02:39.052Z"
   },
   {
    "duration": 18,
    "start_time": "2022-12-28T19:02:39.208Z"
   },
   {
    "duration": 23,
    "start_time": "2022-12-28T19:02:39.227Z"
   },
   {
    "duration": 30,
    "start_time": "2022-12-28T19:02:39.252Z"
   },
   {
    "duration": 22,
    "start_time": "2022-12-28T19:02:39.283Z"
   },
   {
    "duration": 4,
    "start_time": "2022-12-28T19:02:39.306Z"
   },
   {
    "duration": 7,
    "start_time": "2022-12-28T19:02:39.311Z"
   },
   {
    "duration": 277,
    "start_time": "2022-12-28T19:02:39.321Z"
   },
   {
    "duration": 41,
    "start_time": "2022-12-28T19:02:39.600Z"
   },
   {
    "duration": 15,
    "start_time": "2022-12-28T19:02:39.642Z"
   },
   {
    "duration": 52,
    "start_time": "2022-12-28T19:02:39.658Z"
   },
   {
    "duration": 21,
    "start_time": "2022-12-28T19:02:39.711Z"
   },
   {
    "duration": 67,
    "start_time": "2022-12-28T19:02:39.733Z"
   },
   {
    "duration": 158,
    "start_time": "2022-12-28T19:02:39.801Z"
   },
   {
    "duration": 9,
    "start_time": "2022-12-28T19:02:39.960Z"
   },
   {
    "duration": 12,
    "start_time": "2022-12-28T19:02:39.971Z"
   },
   {
    "duration": 66,
    "start_time": "2022-12-28T19:02:39.984Z"
   },
   {
    "duration": 5,
    "start_time": "2022-12-28T19:02:40.052Z"
   },
   {
    "duration": 50,
    "start_time": "2022-12-28T19:02:40.058Z"
   },
   {
    "duration": 74,
    "start_time": "2022-12-28T19:02:40.110Z"
   },
   {
    "duration": 14,
    "start_time": "2022-12-28T19:02:40.185Z"
   },
   {
    "duration": 121,
    "start_time": "2022-12-28T19:02:40.200Z"
   },
   {
    "duration": 112,
    "start_time": "2022-12-28T19:02:40.323Z"
   },
   {
    "duration": 108,
    "start_time": "2022-12-28T19:02:40.437Z"
   },
   {
    "duration": 15,
    "start_time": "2022-12-28T19:02:40.547Z"
   },
   {
    "duration": 145,
    "start_time": "2022-12-28T19:02:40.563Z"
   },
   {
    "duration": 110,
    "start_time": "2022-12-28T19:02:40.710Z"
   },
   {
    "duration": 110,
    "start_time": "2022-12-28T19:02:40.822Z"
   },
   {
    "duration": 131,
    "start_time": "2022-12-28T19:02:40.934Z"
   },
   {
    "duration": 1282,
    "start_time": "2022-12-29T13:09:37.933Z"
   },
   {
    "duration": 1033,
    "start_time": "2022-12-29T13:09:39.216Z"
   },
   {
    "duration": 21,
    "start_time": "2022-12-29T13:09:40.251Z"
   },
   {
    "duration": 8,
    "start_time": "2022-12-29T13:09:40.276Z"
   },
   {
    "duration": 82,
    "start_time": "2022-12-29T13:09:40.285Z"
   },
   {
    "duration": 94,
    "start_time": "2022-12-29T13:09:40.370Z"
   },
   {
    "duration": 159,
    "start_time": "2022-12-29T13:09:40.466Z"
   },
   {
    "duration": 17,
    "start_time": "2022-12-29T13:09:40.626Z"
   },
   {
    "duration": 10,
    "start_time": "2022-12-29T13:09:40.645Z"
   },
   {
    "duration": 31,
    "start_time": "2022-12-29T13:09:40.657Z"
   },
   {
    "duration": 10,
    "start_time": "2022-12-29T13:09:40.690Z"
   },
   {
    "duration": 4,
    "start_time": "2022-12-29T13:09:40.712Z"
   },
   {
    "duration": 12,
    "start_time": "2022-12-29T13:09:40.717Z"
   },
   {
    "duration": 324,
    "start_time": "2022-12-29T13:09:40.731Z"
   },
   {
    "duration": 41,
    "start_time": "2022-12-29T13:09:41.056Z"
   },
   {
    "duration": 28,
    "start_time": "2022-12-29T13:09:41.099Z"
   },
   {
    "duration": 33,
    "start_time": "2022-12-29T13:09:41.129Z"
   },
   {
    "duration": 19,
    "start_time": "2022-12-29T13:09:41.164Z"
   },
   {
    "duration": 56,
    "start_time": "2022-12-29T13:09:41.212Z"
   },
   {
    "duration": 157,
    "start_time": "2022-12-29T13:09:41.270Z"
   },
   {
    "duration": 10,
    "start_time": "2022-12-29T13:09:41.429Z"
   },
   {
    "duration": 29,
    "start_time": "2022-12-29T13:09:41.441Z"
   },
   {
    "duration": 59,
    "start_time": "2022-12-29T13:09:41.472Z"
   },
   {
    "duration": 4,
    "start_time": "2022-12-29T13:09:41.533Z"
   },
   {
    "duration": 38,
    "start_time": "2022-12-29T13:09:41.539Z"
   },
   {
    "duration": 86,
    "start_time": "2022-12-29T13:09:41.579Z"
   },
   {
    "duration": 6,
    "start_time": "2022-12-29T13:09:41.667Z"
   },
   {
    "duration": 121,
    "start_time": "2022-12-29T13:09:41.676Z"
   },
   {
    "duration": 123,
    "start_time": "2022-12-29T13:09:41.799Z"
   },
   {
    "duration": 117,
    "start_time": "2022-12-29T13:09:41.924Z"
   },
   {
    "duration": 14,
    "start_time": "2022-12-29T13:09:42.043Z"
   },
   {
    "duration": 138,
    "start_time": "2022-12-29T13:09:42.059Z"
   },
   {
    "duration": 124,
    "start_time": "2022-12-29T13:09:42.198Z"
   },
   {
    "duration": 114,
    "start_time": "2022-12-29T13:09:42.324Z"
   },
   {
    "duration": 123,
    "start_time": "2022-12-29T13:09:42.440Z"
   },
   {
    "duration": 51,
    "start_time": "2022-12-29T13:10:12.793Z"
   },
   {
    "duration": 3,
    "start_time": "2022-12-29T13:11:03.498Z"
   },
   {
    "duration": 145,
    "start_time": "2022-12-29T13:11:05.729Z"
   },
   {
    "duration": 5,
    "start_time": "2022-12-29T13:11:08.842Z"
   },
   {
    "duration": 51,
    "start_time": "2022-12-29T13:11:12.794Z"
   },
   {
    "duration": 95,
    "start_time": "2022-12-29T13:20:05.333Z"
   },
   {
    "duration": 262,
    "start_time": "2022-12-29T13:20:32.134Z"
   },
   {
    "duration": 18,
    "start_time": "2022-12-29T13:20:37.634Z"
   },
   {
    "duration": 1156,
    "start_time": "2022-12-29T13:21:20.990Z"
   },
   {
    "duration": 1371,
    "start_time": "2022-12-29T13:22:24.162Z"
   },
   {
    "duration": 233,
    "start_time": "2022-12-29T13:22:51.160Z"
   },
   {
    "duration": 1109,
    "start_time": "2022-12-29T13:23:41.498Z"
   },
   {
    "duration": 156,
    "start_time": "2022-12-29T13:23:42.609Z"
   },
   {
    "duration": 17,
    "start_time": "2022-12-29T13:23:42.766Z"
   },
   {
    "duration": 4,
    "start_time": "2022-12-29T13:23:42.784Z"
   },
   {
    "duration": 69,
    "start_time": "2022-12-29T13:23:42.790Z"
   },
   {
    "duration": 89,
    "start_time": "2022-12-29T13:23:42.861Z"
   },
   {
    "duration": 155,
    "start_time": "2022-12-29T13:23:42.952Z"
   },
   {
    "duration": 17,
    "start_time": "2022-12-29T13:23:43.112Z"
   },
   {
    "duration": 11,
    "start_time": "2022-12-29T13:23:43.130Z"
   },
   {
    "duration": 24,
    "start_time": "2022-12-29T13:23:43.142Z"
   },
   {
    "duration": 10,
    "start_time": "2022-12-29T13:23:43.167Z"
   },
   {
    "duration": 4,
    "start_time": "2022-12-29T13:23:43.178Z"
   },
   {
    "duration": 33,
    "start_time": "2022-12-29T13:23:43.183Z"
   },
   {
    "duration": 281,
    "start_time": "2022-12-29T13:23:43.218Z"
   },
   {
    "duration": 53,
    "start_time": "2022-12-29T13:23:43.501Z"
   },
   {
    "duration": 17,
    "start_time": "2022-12-29T13:23:43.555Z"
   },
   {
    "duration": 49,
    "start_time": "2022-12-29T13:23:43.574Z"
   },
   {
    "duration": 18,
    "start_time": "2022-12-29T13:23:43.625Z"
   },
   {
    "duration": 74,
    "start_time": "2022-12-29T13:23:43.645Z"
   },
   {
    "duration": 153,
    "start_time": "2022-12-29T13:23:43.721Z"
   },
   {
    "duration": 146,
    "start_time": "2022-12-29T13:23:43.876Z"
   },
   {
    "duration": 10,
    "start_time": "2022-12-29T13:23:44.024Z"
   },
   {
    "duration": 19,
    "start_time": "2022-12-29T13:23:44.035Z"
   },
   {
    "duration": 100,
    "start_time": "2022-12-29T13:23:44.055Z"
   },
   {
    "duration": 5,
    "start_time": "2022-12-29T13:23:44.156Z"
   },
   {
    "duration": 69,
    "start_time": "2022-12-29T13:23:44.163Z"
   },
   {
    "duration": 89,
    "start_time": "2022-12-29T13:23:44.234Z"
   },
   {
    "duration": 7,
    "start_time": "2022-12-29T13:23:44.325Z"
   },
   {
    "duration": 120,
    "start_time": "2022-12-29T13:23:44.334Z"
   },
   {
    "duration": 119,
    "start_time": "2022-12-29T13:23:44.456Z"
   },
   {
    "duration": 141,
    "start_time": "2022-12-29T13:23:44.577Z"
   },
   {
    "duration": 16,
    "start_time": "2022-12-29T13:23:44.721Z"
   },
   {
    "duration": 150,
    "start_time": "2022-12-29T13:23:44.738Z"
   },
   {
    "duration": 130,
    "start_time": "2022-12-29T13:23:44.889Z"
   },
   {
    "duration": 118,
    "start_time": "2022-12-29T13:23:45.021Z"
   },
   {
    "duration": 125,
    "start_time": "2022-12-29T13:23:45.141Z"
   },
   {
    "duration": 10,
    "start_time": "2022-12-29T14:00:23.750Z"
   },
   {
    "duration": 138,
    "start_time": "2022-12-29T14:00:24.965Z"
   },
   {
    "duration": 10,
    "start_time": "2022-12-29T14:00:26.771Z"
   },
   {
    "duration": 1444,
    "start_time": "2022-12-30T06:33:02.053Z"
   },
   {
    "duration": 529,
    "start_time": "2022-12-30T06:33:03.499Z"
   },
   {
    "duration": 22,
    "start_time": "2022-12-30T06:33:04.029Z"
   },
   {
    "duration": 4,
    "start_time": "2022-12-30T06:33:04.053Z"
   },
   {
    "duration": 80,
    "start_time": "2022-12-30T06:33:04.060Z"
   },
   {
    "duration": 80,
    "start_time": "2022-12-30T06:33:04.141Z"
   },
   {
    "duration": 187,
    "start_time": "2022-12-30T06:33:04.223Z"
   },
   {
    "duration": 33,
    "start_time": "2022-12-30T06:33:04.412Z"
   },
   {
    "duration": 13,
    "start_time": "2022-12-30T06:33:04.447Z"
   },
   {
    "duration": 34,
    "start_time": "2022-12-30T06:33:04.462Z"
   },
   {
    "duration": 11,
    "start_time": "2022-12-30T06:33:04.498Z"
   },
   {
    "duration": 6,
    "start_time": "2022-12-30T06:33:04.511Z"
   },
   {
    "duration": 21,
    "start_time": "2022-12-30T06:33:04.519Z"
   },
   {
    "duration": 320,
    "start_time": "2022-12-30T06:33:04.544Z"
   },
   {
    "duration": 47,
    "start_time": "2022-12-30T06:33:04.865Z"
   },
   {
    "duration": 34,
    "start_time": "2022-12-30T06:33:04.913Z"
   },
   {
    "duration": 41,
    "start_time": "2022-12-30T06:33:04.949Z"
   },
   {
    "duration": 24,
    "start_time": "2022-12-30T06:33:04.991Z"
   },
   {
    "duration": 74,
    "start_time": "2022-12-30T06:33:05.017Z"
   },
   {
    "duration": 178,
    "start_time": "2022-12-30T06:33:05.093Z"
   },
   {
    "duration": 10,
    "start_time": "2022-12-30T06:33:05.273Z"
   },
   {
    "duration": 171,
    "start_time": "2022-12-30T06:33:05.285Z"
   },
   {
    "duration": 296,
    "start_time": "2022-12-30T06:33:05.457Z"
   },
   {
    "duration": 13,
    "start_time": "2022-12-30T06:33:05.756Z"
   },
   {
    "duration": 103,
    "start_time": "2022-12-30T06:33:05.770Z"
   },
   {
    "duration": 5,
    "start_time": "2022-12-30T06:33:05.875Z"
   },
   {
    "duration": 89,
    "start_time": "2022-12-30T06:33:05.881Z"
   },
   {
    "duration": 101,
    "start_time": "2022-12-30T06:33:05.971Z"
   },
   {
    "duration": 6,
    "start_time": "2022-12-30T06:33:06.073Z"
   },
   {
    "duration": 149,
    "start_time": "2022-12-30T06:33:06.081Z"
   },
   {
    "duration": 133,
    "start_time": "2022-12-30T06:33:06.232Z"
   },
   {
    "duration": 136,
    "start_time": "2022-12-30T06:33:06.367Z"
   },
   {
    "duration": 14,
    "start_time": "2022-12-30T06:33:06.504Z"
   },
   {
    "duration": 162,
    "start_time": "2022-12-30T06:33:06.520Z"
   },
   {
    "duration": 152,
    "start_time": "2022-12-30T06:33:06.684Z"
   },
   {
    "duration": 131,
    "start_time": "2022-12-30T06:33:06.838Z"
   },
   {
    "duration": 139,
    "start_time": "2022-12-30T06:33:06.971Z"
   },
   {
    "duration": 1422,
    "start_time": "2022-12-30T13:00:16.406Z"
   },
   {
    "duration": 760,
    "start_time": "2022-12-30T13:00:17.830Z"
   },
   {
    "duration": 36,
    "start_time": "2022-12-30T13:00:18.592Z"
   },
   {
    "duration": 7,
    "start_time": "2022-12-30T13:00:18.630Z"
   },
   {
    "duration": 86,
    "start_time": "2022-12-30T13:00:18.640Z"
   },
   {
    "duration": 103,
    "start_time": "2022-12-30T13:00:18.728Z"
   },
   {
    "duration": 206,
    "start_time": "2022-12-30T13:00:18.833Z"
   },
   {
    "duration": 26,
    "start_time": "2022-12-30T13:00:19.041Z"
   },
   {
    "duration": 19,
    "start_time": "2022-12-30T13:00:19.079Z"
   },
   {
    "duration": 34,
    "start_time": "2022-12-30T13:00:19.101Z"
   },
   {
    "duration": 12,
    "start_time": "2022-12-30T13:00:19.137Z"
   },
   {
    "duration": 4,
    "start_time": "2022-12-30T13:00:19.151Z"
   },
   {
    "duration": 24,
    "start_time": "2022-12-30T13:00:19.157Z"
   },
   {
    "duration": 356,
    "start_time": "2022-12-30T13:00:19.186Z"
   },
   {
    "duration": 64,
    "start_time": "2022-12-30T13:00:19.543Z"
   },
   {
    "duration": 18,
    "start_time": "2022-12-30T13:00:19.609Z"
   },
   {
    "duration": 51,
    "start_time": "2022-12-30T13:00:19.629Z"
   },
   {
    "duration": 37,
    "start_time": "2022-12-30T13:00:19.683Z"
   },
   {
    "duration": 110,
    "start_time": "2022-12-30T13:00:19.723Z"
   },
   {
    "duration": 174,
    "start_time": "2022-12-30T13:00:19.835Z"
   },
   {
    "duration": 10,
    "start_time": "2022-12-30T13:00:20.011Z"
   },
   {
    "duration": 169,
    "start_time": "2022-12-30T13:00:20.022Z"
   },
   {
    "duration": 159,
    "start_time": "2022-12-30T13:00:20.193Z"
   },
   {
    "duration": 14,
    "start_time": "2022-12-30T13:00:20.354Z"
   },
   {
    "duration": 114,
    "start_time": "2022-12-30T13:00:20.370Z"
   },
   {
    "duration": 6,
    "start_time": "2022-12-30T13:00:20.488Z"
   },
   {
    "duration": 48,
    "start_time": "2022-12-30T13:00:20.496Z"
   },
   {
    "duration": 105,
    "start_time": "2022-12-30T13:00:20.545Z"
   },
   {
    "duration": 6,
    "start_time": "2022-12-30T13:00:20.652Z"
   },
   {
    "duration": 204,
    "start_time": "2022-12-30T13:00:20.660Z"
   },
   {
    "duration": 134,
    "start_time": "2022-12-30T13:00:20.866Z"
   },
   {
    "duration": 134,
    "start_time": "2022-12-30T13:00:21.002Z"
   },
   {
    "duration": 14,
    "start_time": "2022-12-30T13:00:21.138Z"
   },
   {
    "duration": 158,
    "start_time": "2022-12-30T13:00:21.153Z"
   },
   {
    "duration": 138,
    "start_time": "2022-12-30T13:00:21.313Z"
   },
   {
    "duration": 158,
    "start_time": "2022-12-30T13:00:21.453Z"
   },
   {
    "duration": 131,
    "start_time": "2022-12-30T13:00:21.613Z"
   },
   {
    "duration": 97,
    "start_time": "2023-03-11T07:32:07.278Z"
   },
   {
    "duration": 2231,
    "start_time": "2023-03-11T07:35:29.462Z"
   },
   {
    "duration": 1513,
    "start_time": "2023-03-11T07:35:31.696Z"
   },
   {
    "duration": 43,
    "start_time": "2023-03-11T07:35:33.210Z"
   },
   {
    "duration": 34,
    "start_time": "2023-03-11T07:35:33.272Z"
   },
   {
    "duration": 147,
    "start_time": "2023-03-11T07:35:33.309Z"
   },
   {
    "duration": 125,
    "start_time": "2023-03-11T07:35:33.463Z"
   },
   {
    "duration": 303,
    "start_time": "2023-03-11T07:35:33.598Z"
   },
   {
    "duration": 46,
    "start_time": "2023-03-11T07:35:33.907Z"
   },
   {
    "duration": 194,
    "start_time": "2023-03-11T07:35:33.967Z"
   },
   {
    "duration": 145,
    "start_time": "2023-03-11T07:35:34.168Z"
   },
   {
    "duration": 29,
    "start_time": "2023-03-11T07:35:34.316Z"
   },
   {
    "duration": 62,
    "start_time": "2023-03-11T07:35:34.346Z"
   },
   {
    "duration": 40,
    "start_time": "2023-03-11T07:35:34.412Z"
   },
   {
    "duration": 592,
    "start_time": "2023-03-11T07:35:34.461Z"
   },
   {
    "duration": 65,
    "start_time": "2023-03-11T07:35:35.055Z"
   },
   {
    "duration": 35,
    "start_time": "2023-03-11T07:35:35.122Z"
   },
   {
    "duration": 115,
    "start_time": "2023-03-11T07:35:35.171Z"
   },
   {
    "duration": 67,
    "start_time": "2023-03-11T07:35:35.289Z"
   },
   {
    "duration": 136,
    "start_time": "2023-03-11T07:35:35.366Z"
   },
   {
    "duration": 11,
    "start_time": "2023-03-11T07:35:35.506Z"
   },
   {
    "duration": 323,
    "start_time": "2023-03-11T07:35:35.519Z"
   },
   {
    "duration": 21,
    "start_time": "2023-03-11T07:35:35.844Z"
   },
   {
    "duration": 99,
    "start_time": "2023-03-11T07:35:35.870Z"
   },
   {
    "duration": 8,
    "start_time": "2023-03-11T07:35:35.975Z"
   },
   {
    "duration": 138,
    "start_time": "2023-03-11T07:35:35.985Z"
   },
   {
    "duration": 218,
    "start_time": "2023-03-11T07:35:36.125Z"
   },
   {
    "duration": 12,
    "start_time": "2023-03-11T07:35:36.349Z"
   },
   {
    "duration": 219,
    "start_time": "2023-03-11T07:35:36.373Z"
   },
   {
    "duration": 226,
    "start_time": "2023-03-11T07:35:36.594Z"
   },
   {
    "duration": 222,
    "start_time": "2023-03-11T07:35:36.822Z"
   },
   {
    "duration": 35,
    "start_time": "2023-03-11T07:35:37.046Z"
   },
   {
    "duration": 233,
    "start_time": "2023-03-11T07:35:37.091Z"
   },
   {
    "duration": 227,
    "start_time": "2023-03-11T07:35:37.326Z"
   },
   {
    "duration": 223,
    "start_time": "2023-03-11T07:35:37.558Z"
   },
   {
    "duration": 231,
    "start_time": "2023-03-11T07:35:37.789Z"
   }
  ],
  "kernelspec": {
   "display_name": "Python 3 (ipykernel)",
   "language": "python",
   "name": "python3"
  },
  "language_info": {
   "codemirror_mode": {
    "name": "ipython",
    "version": 3
   },
   "file_extension": ".py",
   "mimetype": "text/x-python",
   "name": "python",
   "nbconvert_exporter": "python",
   "pygments_lexer": "ipython3",
   "version": "3.9.5"
  },
  "toc": {
   "base_numbering": 1,
   "nav_menu": {},
   "number_sections": true,
   "sideBar": true,
   "skip_h1_title": true,
   "title_cell": "Table of Contents",
   "title_sidebar": "Contents",
   "toc_cell": false,
   "toc_position": {
    "height": "calc(100% - 180px)",
    "left": "10px",
    "top": "150px",
    "width": "207.556px"
   },
   "toc_section_display": true,
   "toc_window_display": true
  }
 },
 "nbformat": 4,
 "nbformat_minor": 2
}
