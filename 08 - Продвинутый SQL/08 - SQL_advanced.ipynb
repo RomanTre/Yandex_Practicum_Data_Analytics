{
 "cells": [
  {
   "cell_type": "markdown",
   "id": "2a40d164",
   "metadata": {},
   "source": [
    "# Исследование базы данных StackOverflow\n",
    "\n",
    "**Описание проекта**<br>\n",
    "Мы будем работать с данными о постах за 2008 год из базы StackOverflow — сервиса вопросов и ответов о программировании (StackOverflow похож на социальную сеть — пользователи сервиса задают вопросы, отвечают на посты, оставляют комментарии и ставят оценки другим ответам). \n",
    "\n",
    "Проект состоит из двух частей: \n",
    " - В первой части мы решим несколько задач в SQL-тренажёре, чтобы закрепить пройденный материал.\n",
    " - Вторая часть проекта — аналитическая. <br>\n",
    "   Проверять задачи по-прежнему будет тренажёр, но рекомендуется самостоятельно анализировать полученные результаты и формулировать выводы.\n",
    "   \n",
    " \n",
    "**Цель проекта**<br>\n",
    "Анализ данных о постах: сделаем выгрузки и ответим на ряд вопросов с помощью языка SQL.<br>"
   ]
  },
  {
   "cell_type": "markdown",
   "id": "50d6ff1d",
   "metadata": {},
   "source": [
    "**Вопросы**<br>\n",
    "\n",
    "**Часть 1**"
   ]
  },
  {
   "cell_type": "markdown",
   "id": "6977b68d",
   "metadata": {},
   "source": [
    "1 - Найдите количество вопросов, которые набрали больше 300 очков или как минимум 100 раз были добавлены в «Закладки»."
   ]
  },
  {
   "cell_type": "code",
   "execution_count": null,
   "id": "e31dc8c6",
   "metadata": {},
   "outputs": [],
   "source": [
    "'''\n",
    "SELECT COUNT(p.id)\n",
    "FROM stackoverflow.posts AS p\n",
    "LEFT JOIN stackoverflow.post_types AS pt ON p.post_type_id = pt.id\n",
    "WHERE pt.type = 'Question'\n",
    "  AND (score > 300\n",
    "       OR favorites_count >= 100)\n",
    "'''"
   ]
  },
  {
   "cell_type": "markdown",
   "id": "bdcd77c1",
   "metadata": {},
   "source": [
    "2 - Сколько в среднем в день задавали вопросов с 1 по 18 ноября 2008 включительно? Результат округлите до целого числа."
   ]
  },
  {
   "cell_type": "code",
   "execution_count": null,
   "id": "713a1d71",
   "metadata": {},
   "outputs": [],
   "source": [
    "'''\n",
    "SELECT ROUND(AVG(question_cnt))\n",
    "FROM\n",
    "  (SELECT creation_date :: date AS question_date,\n",
    "          COUNT(p.id) AS question_cnt\n",
    "   FROM stackoverflow.posts AS p\n",
    "   LEFT JOIN stackoverflow.post_types AS pt ON p.post_type_id = pt.id\n",
    "   WHERE pt.type = 'Question'\n",
    "     AND creation_date :: date BETWEEN '2008-11-01' AND '2008-11-18'\n",
    "   GROUP BY creation_date :: date) AS Question\n",
    "'''"
   ]
  },
  {
   "cell_type": "markdown",
   "id": "ede82453",
   "metadata": {},
   "source": [
    "3 - Сколько пользователей получили значки сразу в день регистрации? <br>\n",
    "Выведите количество уникальных пользователей."
   ]
  },
  {
   "cell_type": "code",
   "execution_count": null,
   "id": "482955ba",
   "metadata": {},
   "outputs": [],
   "source": [
    "'''\n",
    "SELECT COUNT(DISTINCT u.id) AS USER\n",
    "FROM stackoverflow.users AS u\n",
    "JOIN stackoverflow.badges AS b ON u.id = b.user_id\n",
    "WHERE u.creation_date :: date = b.creation_date :: date\n",
    "'''"
   ]
  },
  {
   "cell_type": "markdown",
   "id": "1805e89f",
   "metadata": {},
   "source": [
    "4 - Сколько уникальных постов пользователя с именем Joel Coehoorn получили хотя бы один голос?"
   ]
  },
  {
   "cell_type": "code",
   "execution_count": null,
   "id": "70f4c43a",
   "metadata": {},
   "outputs": [],
   "source": [
    "'''\n",
    "WITH votes_cnts AS\n",
    "  (SELECT p.id AS id_post,\n",
    "          COUNT(v.id) AS votes_cnt\n",
    "   FROM stackoverflow.users AS u\n",
    "   JOIN stackoverflow.posts AS p ON p.user_id = u.id\n",
    "   JOIN stackoverflow.votes AS v ON v.post_id = p.id\n",
    "   WHERE display_name = 'Joel Coehoorn'\n",
    "   GROUP BY p.id)\n",
    "SELECT COUNT(id_post)\n",
    "FROM votes_cnts\n",
    "WHERE votes_cnt > 0\n",
    "'''"
   ]
  },
  {
   "cell_type": "markdown",
   "id": "b09f6519",
   "metadata": {},
   "source": [
    "5 - Выгрузите все поля таблицы vote_types.<br>\n",
    "Добавьте к таблице поле rank, в которое войдут номера записей в обратном порядке. <br>\n",
    "Таблица должна быть отсортирована по полю id."
   ]
  },
  {
   "cell_type": "code",
   "execution_count": null,
   "id": "f35b0100",
   "metadata": {},
   "outputs": [],
   "source": [
    "'''\n",
    "SELECT *,\n",
    "       RANK() OVER (\n",
    "                    ORDER BY id DESC)\n",
    "FROM stackoverflow.vote_types\n",
    "ORDER BY id ;\n",
    "'''"
   ]
  },
  {
   "cell_type": "markdown",
   "id": "81f20398",
   "metadata": {},
   "source": [
    "6 - Отберите 10 пользователей, которые поставили больше всего голосов типа Close. <br>\n",
    "Отобразите таблицу из двух полей: идентификатором пользователя и количеством голосов. <br>\n",
    "Отсортируйте данные сначала по убыванию количества голосов, потом по убыванию значения идентификатора пользователя."
   ]
  },
  {
   "cell_type": "code",
   "execution_count": null,
   "id": "13990939",
   "metadata": {},
   "outputs": [],
   "source": [
    "'''\n",
    "SELECT v.user_id AS user_votes,\n",
    "       COUNT (v.id) AS votes_cnt\n",
    "FROM stackoverflow.votes AS v\n",
    "JOIN stackoverflow.vote_types AS vt ON vt.id = v.vote_type_id\n",
    "WHERE name = 'Close'\n",
    "GROUP BY v.user_id\n",
    "ORDER BY votes_cnt DESC,\n",
    "         v.user_id DESC\n",
    "LIMIT 10\n",
    "'''"
   ]
  },
  {
   "cell_type": "markdown",
   "id": "d7dd38f9",
   "metadata": {},
   "source": [
    "7 - Отберите 10 пользователей по количеству значков, полученных в период с 15 ноября по 15 декабря 2008 года включительно.<br>\n",
    "Отобразите несколько полей:\n",
    " - идентификатор пользователя;\n",
    " - число значков;\n",
    " - место в рейтинге — чем больше значков, тем выше рейтинг.\n",
    " \n",
    "Пользователям, которые набрали одинаковое количество значков, присвойте одно и то же место в рейтинге.\n",
    "Отсортируйте записи по количеству значков по убыванию, а затем по возрастанию значения идентификатора пользователя."
   ]
  },
  {
   "cell_type": "code",
   "execution_count": null,
   "id": "6f534772",
   "metadata": {},
   "outputs": [],
   "source": [
    "'''\n",
    "SELECT user_id,\n",
    "       COUNT (id) AS badges_cnt,\n",
    "             DENSE_RANK() OVER (\n",
    "                                ORDER BY COUNT (id) DESC)\n",
    "FROM stackoverflow.badges\n",
    "WHERE creation_date :: date BETWEEN '2008-11-15' AND '2008-12-15'\n",
    "GROUP BY user_id\n",
    "ORDER BY badges_cnt DESC,\n",
    "         user_id\n",
    "LIMIT 10\n",
    "'''"
   ]
  },
  {
   "cell_type": "markdown",
   "id": "20b53ac8",
   "metadata": {},
   "source": [
    "8 - Сколько в среднем очков получает пост каждого пользователя?<br>\n",
    "Сформируйте таблицу из следующих полей:\n",
    " - заголовок поста;\n",
    " - идентификатор пользователя;\n",
    " - число очков поста;\n",
    " - среднее число очков пользователя за пост, округлённое до целого числа.\n",
    " \n",
    "Не учитывайте посты без заголовка, а также те, что набрали ноль очков."
   ]
  },
  {
   "cell_type": "code",
   "execution_count": null,
   "id": "5b765fa7",
   "metadata": {},
   "outputs": [],
   "source": [
    "'''\n",
    "SELECT title,\n",
    "       user_id,\n",
    "       score,\n",
    "       ROUND(AVG(score) OVER (PARTITION BY user_id))\n",
    "FROM stackoverflow.posts\n",
    "WHERE title IS NOT NULL\n",
    "  AND score != 0\n",
    "'''"
   ]
  },
  {
   "cell_type": "markdown",
   "id": "e9bed4b2",
   "metadata": {},
   "source": [
    "9 - Отобразите заголовки постов, которые были написаны пользователями, получившими более 1000 значков. <br>\n",
    "Посты без заголовков не должны попасть в список."
   ]
  },
  {
   "cell_type": "code",
   "execution_count": null,
   "id": "b69e3ca1",
   "metadata": {},
   "outputs": [],
   "source": [
    "'''\n",
    "SELECT title\n",
    "FROM stackoverflow.posts\n",
    "WHERE user_id IN\n",
    "    (SELECT user_id\n",
    "     FROM stackoverflow.badges\n",
    "     GROUP BY user_id\n",
    "     HAVING COUNT(id) > 1000)\n",
    "  AND title IS NOT NUL\n",
    "'''"
   ]
  },
  {
   "cell_type": "markdown",
   "id": "7aaa2f54",
   "metadata": {},
   "source": [
    "10 - Напишите запрос, который выгрузит данные о пользователях из США (англ. United States). <br>\n",
    "Разделите пользователей на три группы в зависимости от количества просмотров их профилей:\n",
    " - пользователям с числом просмотров больше либо равным 350 присвойте группу 1;\n",
    " - пользователям с числом просмотров меньше 350, но больше либо равно 100 — группу 2;\n",
    " - пользователям с числом просмотров меньше 100 — группу 3.\n",
    "\n",
    "Отобразите в итоговой таблице идентификатор пользователя, количество просмотров профиля и группу. <br>\n",
    "Пользователи с нулевым количеством просмотров не должны войти в итоговую таблицу."
   ]
  },
  {
   "cell_type": "code",
   "execution_count": null,
   "id": "9badcac0",
   "metadata": {},
   "outputs": [],
   "source": [
    "'''\n",
    "SELECT id,\n",
    "       VIEWS,\n",
    "       CASE\n",
    "           WHEN VIEWS < 100 THEN 3\n",
    "           WHEN VIEWS >= 100\n",
    "                AND VIEWS < 350 THEN 2\n",
    "           ELSE 1\n",
    "       END AS GROUP\n",
    "FROM stackoverflow.users\n",
    "WHERE LOCATION LIKE '%United States%'\n",
    "  AND VIEWS != 0\n",
    "ORDER BY VIEWS DESC\n",
    "'''"
   ]
  },
  {
   "cell_type": "markdown",
   "id": "9a5b3c99",
   "metadata": {},
   "source": [
    "11 - Дополните предыдущий запрос. <br>\n",
    "Отобразите лидеров каждой группы — пользователей, которые набрали максимальное число просмотров в своей группе. <br>\n",
    "Выведите поля с идентификатором пользователя, группой и количеством просмотров. <br>\n",
    "Отсортируйте таблицу по убыванию просмотров, а затем по возрастанию значения идентификатора."
   ]
  },
  {
   "cell_type": "code",
   "execution_count": null,
   "id": "7be99247",
   "metadata": {},
   "outputs": [],
   "source": [
    "'''\n",
    "WITH us_users AS\n",
    "  (SELECT id AS user_id,\n",
    "          VIEWS AS views_cnt,\n",
    "                   CASE\n",
    "                       WHEN VIEWS < 100 THEN 3\n",
    "                       WHEN VIEWS >= 100\n",
    "                            AND VIEWS < 350 THEN 2\n",
    "                       ELSE 1\n",
    "                   END AS groups\n",
    "   FROM stackoverflow.users\n",
    "   WHERE LOCATION LIKE '%United States%'\n",
    "     AND VIEWS != 0 )\n",
    "SELECT user_id,\n",
    "       groups,\n",
    "       views_cnt\n",
    "FROM\n",
    "  (SELECT user_id,\n",
    "          views_cnt,\n",
    "          groups,\n",
    "          MAX(views_cnt) OVER (PARTITION BY groups\n",
    "                               ORDER BY views_cnt DESC) AS max_views\n",
    "   FROM us_users) AS max_us\n",
    "WHERE views_cnt = max_views\n",
    "ORDER BY views_cnt DESC,\n",
    "         user_id\n",
    "'''"
   ]
  },
  {
   "cell_type": "markdown",
   "id": "8f41d8fd",
   "metadata": {},
   "source": [
    "12 - Посчитайте ежедневный прирост новых пользователей в ноябре 2008 года. <br>\n",
    "Сформируйте таблицу с полями:\n",
    " - номер дня;\n",
    " - число пользователей, зарегистрированных в этот день;\n",
    " - сумму пользователей с накоплением."
   ]
  },
  {
   "cell_type": "code",
   "execution_count": null,
   "id": "36bd455e",
   "metadata": {},
   "outputs": [],
   "source": [
    "'''\n",
    "SELECT days,\n",
    "       users_cnt,\n",
    "       SUM(users_cnt) OVER (\n",
    "                            ORDER BY days)\n",
    "FROM\n",
    "  (SELECT EXTRACT (DAY\n",
    "                   FROM creation_date) AS days,\n",
    "                  COUNT(id) AS users_cnt\n",
    "   FROM stackoverflow.users\n",
    "   WHERE creation_date :: date BETWEEN '2008-11-01' AND '2008-11-30'\n",
    "   GROUP BY EXTRACT (DAY\n",
    "                     FROM creation_date)) AS user_november\n",
    "'''"
   ]
  },
  {
   "cell_type": "markdown",
   "id": "365115d5",
   "metadata": {},
   "source": [
    "13 - Для каждого пользователя, который написал хотя бы один пост, найдите интервал между регистрацией и временем создания первого поста. <br>\n",
    "Отобразите:\n",
    " - идентификатор пользователя;\n",
    " - разницу во времени между регистрацией и первым постом."
   ]
  },
  {
   "cell_type": "code",
   "execution_count": null,
   "id": "445a6a42",
   "metadata": {},
   "outputs": [],
   "source": [
    "'''\n",
    "SELECT DISTINCT p.user_id,\n",
    "                MIN(p.creation_date) OVER (PARTITION BY p.user_id) - u.creation_date AS interval\n",
    "FROM stackoverflow.posts AS p\n",
    "LEFT JOIN stackoverflow.users AS u ON p.user_id = u.id\n",
    "'''"
   ]
  },
  {
   "cell_type": "markdown",
   "id": "c713fb72",
   "metadata": {},
   "source": [
    "**Вопросы**<br>\n",
    "\n",
    "**Часть 2**"
   ]
  },
  {
   "cell_type": "markdown",
   "id": "dac2fdab",
   "metadata": {},
   "source": [
    "1 - Выведите общую сумму просмотров постов за каждый месяц 2008 года. <br>\n",
    "Если данных за какой-либо месяц в базе нет, такой месяц можно пропустить. <br>\n",
    "Результат отсортируйте по убыванию общего количества просмотров."
   ]
  },
  {
   "cell_type": "code",
   "execution_count": null,
   "id": "35db8637",
   "metadata": {},
   "outputs": [],
   "source": [
    "'''\n",
    "SELECT CAST(DATE_TRUNC('month', creation_date) AS date) AS month_posts,\n",
    "       SUM(views_count) AS views_count\n",
    "FROM stackoverflow.posts\n",
    "WHERE EXTRACT (YEAR\n",
    "               FROM creation_date) = '2008'\n",
    "GROUP BY month_posts\n",
    "ORDER BY views_count DESC\n",
    "'''"
   ]
  },
  {
   "cell_type": "markdown",
   "id": "8a13f1d9",
   "metadata": {},
   "source": [
    "2 - Выведите имена самых активных пользователей, которые в первый месяц после регистрации (включая день регистрации) дали больше 100 ответов. Вопросы, которые задавали пользователи, не учитывайте. <br>\n",
    "Для каждого имени пользователя выведите количество уникальных значений user_id. <br>\n",
    "Отсортируйте результат по полю с именами в лексикографическом порядке."
   ]
  },
  {
   "cell_type": "code",
   "execution_count": null,
   "id": "93e27020",
   "metadata": {},
   "outputs": [],
   "source": [
    "'''\n",
    "SELECT u.display_name,\n",
    "       COUNT(DISTINCT p.user_id)\n",
    "FROM stackoverflow.users u\n",
    "JOIN stackoverflow.posts p ON u.id = p.user_id\n",
    "JOIN stackoverflow.post_types pt ON p.post_type_id = pt.id\n",
    "WHERE p.creation_date::date BETWEEN u.creation_date::date AND u.creation_date::date + INTERVAL '1 month'\n",
    "  AND pt.type = 'Answer'\n",
    "GROUP BY u.display_name\n",
    "HAVING COUNT(DISTINCT p.id) > 100\n",
    "'''"
   ]
  },
  {
   "cell_type": "markdown",
   "id": "9055afd4",
   "metadata": {},
   "source": [
    "3 - Выведите количество постов за 2008 год по месяцам. <br>\n",
    "Отберите посты от пользователей, которые зарегистрировались в сентябре 2008 года и сделали хотя бы один пост в декабре того же года. <br>\n",
    "Отсортируйте таблицу по значению месяца по убыванию."
   ]
  },
  {
   "cell_type": "code",
   "execution_count": null,
   "id": "afbaaa1f",
   "metadata": {},
   "outputs": [],
   "source": [
    "'''\n",
    "SELECT CAST(DATE_TRUNC('month', p.creation_date) AS date) AS month_posts,\n",
    "       COUNT (DISTINCT id) AS user_count\n",
    "FROM stackoverflow.posts AS p\n",
    "WHERE user_id IN\n",
    "    (SELECT DISTINCT u.id\n",
    "     FROM stackoverflow.users AS u\n",
    "     JOIN stackoverflow.posts AS p ON p.user_id = u.id\n",
    "     WHERE u.creation_date :: date BETWEEN '2008-09-01' AND '2008-09-30'\n",
    "       AND p.creation_date :: date BETWEEN '2008-12-01' AND '2008-12-31' )\n",
    "  AND p.creation_date :: date BETWEEN '2008-01-01' AND '2008-12-31'\n",
    "GROUP BY month_posts\n",
    "ORDER BY month_posts DESC\n",
    "'''"
   ]
  },
  {
   "cell_type": "markdown",
   "id": "129401da",
   "metadata": {},
   "source": [
    "4 - Используя данные о постах, выведите несколько полей:\n",
    " - идентификатор пользователя, который написал пост;\n",
    " - дата создания поста;\n",
    " - количество просмотров у текущего поста;\n",
    " - сумму просмотров постов автора с накоплением.\n",
    "\n",
    "Данные в таблице должны быть отсортированы по возрастанию идентификаторов пользователей, а данные об одном и том же пользователе — по возрастанию даты создания поста."
   ]
  },
  {
   "cell_type": "code",
   "execution_count": null,
   "id": "4c5441a6",
   "metadata": {},
   "outputs": [],
   "source": [
    "'''\n",
    "SELECT user_id,\n",
    "       creation_date,\n",
    "       views_count,\n",
    "       SUM(views_count) OVER (PARTITION BY user_id\n",
    "                              ORDER BY creation_date)\n",
    "FROM stackoverflow.posts\n",
    "ORDER BY user_id,\n",
    "         creation_date\n",
    "'''"
   ]
  },
  {
   "cell_type": "markdown",
   "id": "03b181fd",
   "metadata": {},
   "source": [
    "5 - Сколько в среднем дней в период с 1 по 7 декабря 2008 года включительно пользователи взаимодействовали с платформой? <br>\n",
    "Для каждого пользователя отберите дни, в которые он или она опубликовали хотя бы один пост. <br>\n",
    "Нужно получить одно целое число — не забудьте округлить результат."
   ]
  },
  {
   "cell_type": "code",
   "execution_count": null,
   "id": "3b4717aa",
   "metadata": {},
   "outputs": [],
   "source": [
    "'''\n",
    "SELECT ROUND(AVG(active_days))\n",
    "FROM\n",
    "  (SELECT user_id,\n",
    "          COUNT(DISTINCT creation_date :: date) AS active_days\n",
    "   FROM stackoverflow.posts\n",
    "   WHERE creation_date :: date BETWEEN '2008-12-01' AND '2008-12-07'\n",
    "   GROUP BY user_id) AS cnt\n",
    "'''"
   ]
  },
  {
   "cell_type": "markdown",
   "id": "cb846a80",
   "metadata": {},
   "source": [
    "6 - На сколько процентов менялось количество постов ежемесячно с 1 сентября по 31 декабря 2008 года? <br>\n",
    "Отобразите таблицу со следующими полями:\n",
    " - номер месяца;\n",
    " - количество постов за месяц;\n",
    " - процент, который показывает, насколько изменилось количество постов в текущем месяце по сравнению с предыдущим.\n",
    "\n",
    "Если постов стало меньше, значение процента должно быть отрицательным, если больше — положительным. <br>\n",
    "Округлите значение процента до двух знаков после запятой.<br>\n",
    "\n",
    "Напомним, что при делении одного целого числа на другое в PostgreSQL в результате получится целое число, округлённое до ближайшего целого вниз. Чтобы этого избежать, переведите делимое в тип numeric."
   ]
  },
  {
   "cell_type": "code",
   "execution_count": null,
   "id": "b737baf1",
   "metadata": {},
   "outputs": [],
   "source": [
    "'''\n",
    "WITH posts_month AS\n",
    "  (SELECT EXTRACT (MONTH\n",
    "                   FROM creation_date) AS month_number,\n",
    "                  COUNT(id) AS posts_cnt\n",
    "   FROM stackoverflow.posts\n",
    "   WHERE creation_date :: date BETWEEN '2008-09-01' AND '2008-12-31'\n",
    "   GROUP BY EXTRACT (MONTH\n",
    "                     FROM creation_date)\n",
    "   ORDER BY month_number)\n",
    "SELECT *,\n",
    "       ROUND((posts_cnt - LAG(posts_cnt) OVER ()) * 100 / LAG(posts_cnt) OVER () :: numeric, 2)\n",
    "FROM posts_month\n",
    "'''"
   ]
  },
  {
   "cell_type": "markdown",
   "id": "7705dc4a",
   "metadata": {},
   "source": [
    "7 - Выгрузите данные активности пользователя, который опубликовал больше всего постов за всё время. <br>\n",
    "Выведите данные за октябрь 2008 года в таком виде:\n",
    " - номер недели;\n",
    " - дата и время последнего поста, опубликованного на этой неделе."
   ]
  },
  {
   "cell_type": "code",
   "execution_count": null,
   "id": "cf6c82ce",
   "metadata": {},
   "outputs": [],
   "source": [
    "'''\n",
    "WITH WEEK AS\n",
    "  (SELECT EXTRACT(WEEK\n",
    "                  FROM creation_date) AS week_number,\n",
    "          MAX(creation_date) OVER (\n",
    "                                   ORDER BY EXTRACT(WEEK\n",
    "                                                    FROM creation_date))\n",
    "   FROM stackoverflow.posts\n",
    "   WHERE user_id =\n",
    "       (SELECT user_id\n",
    "        FROM stackoverflow.posts\n",
    "        GROUP BY user_id\n",
    "        ORDER BY COUNT(id) DESC\n",
    "        LIMIT 1)\n",
    "     AND creation_date :: date BETWEEN '2008-10-01' AND '2008-10-31'\n",
    "   ORDER BY creation_date)\n",
    "SELECT DISTINCT *\n",
    "FROM WEEK\n",
    "ORDER BY week_number\n",
    "'''"
   ]
  }
 ],
 "metadata": {
  "kernelspec": {
   "display_name": "Python 3 (ipykernel)",
   "language": "python",
   "name": "python3"
  },
  "language_info": {
   "codemirror_mode": {
    "name": "ipython",
    "version": 3
   },
   "file_extension": ".py",
   "mimetype": "text/x-python",
   "name": "python",
   "nbconvert_exporter": "python",
   "pygments_lexer": "ipython3",
   "version": "3.9.5"
  },
  "toc": {
   "base_numbering": 1,
   "nav_menu": {},
   "number_sections": true,
   "sideBar": true,
   "skip_h1_title": true,
   "title_cell": "Table of Contents",
   "title_sidebar": "Contents",
   "toc_cell": false,
   "toc_position": {},
   "toc_section_display": true,
   "toc_window_display": false
  }
 },
 "nbformat": 4,
 "nbformat_minor": 5
}
