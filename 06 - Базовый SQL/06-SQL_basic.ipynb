{
 "cells": [
  {
   "cell_type": "markdown",
   "id": "3863df36",
   "metadata": {},
   "source": [
    "# Исследование данных об инвестициях венчурных фондов в компании-стартапы\n",
    "\n",
    "**Описание проекта**<br>\n",
    "23 задачи с автоматической проверкой в тренажере Практикума.<br>\n",
    "Пользуемся базой данных, которая хранит информацию о венчурных фондах и инвестициях в компании-стартапы Startup Investments:<br>\n",
    "https://www.kaggle.com/justinas/startup-investments\n",
    "\n",
    "**Цель проекта**<br>\n",
    "Анализ данных о фондах и инвестициях: сделаем выгрузки данных и ответим на ряд вопросов с помощью языка SQL."
   ]
  },
  {
   "cell_type": "markdown",
   "id": "87563baf",
   "metadata": {},
   "source": [
    "**Вопросы:**"
   ]
  },
  {
   "cell_type": "markdown",
   "id": "e262cf40",
   "metadata": {},
   "source": [
    "1 - Посчитайте, сколько компаний закрылось."
   ]
  },
  {
   "cell_type": "code",
   "execution_count": null,
   "id": "f540ada6",
   "metadata": {},
   "outputs": [],
   "source": [
    "'''\n",
    "SELECT COUNT(status)\n",
    "FROM company\n",
    "WHERE status = 'closed'\n",
    "'''"
   ]
  },
  {
   "cell_type": "markdown",
   "id": "16b21979",
   "metadata": {},
   "source": [
    "2 - Отобразите количество привлечённых средств для новостных компаний США. Используйте данные из таблицы company. <br>\n",
    "Отсортируйте таблицу по убыванию значений в поле funding_total."
   ]
  },
  {
   "cell_type": "code",
   "execution_count": null,
   "id": "10625f20",
   "metadata": {},
   "outputs": [],
   "source": [
    "'''\n",
    "SELECT funding_total\n",
    "FROM company\n",
    "WHERE category_code = 'news'\n",
    "  AND country_code='USA'\n",
    "ORDER BY funding_total DESC\n",
    "'''"
   ]
  },
  {
   "cell_type": "markdown",
   "id": "33ed75ef",
   "metadata": {},
   "source": [
    "3 - Найдите общую сумму сделок по покупке одних компаний другими в долларах. <br>Отберите сделки, которые осуществлялись только за наличные с 2011 по 2013 год включительно."
   ]
  },
  {
   "cell_type": "code",
   "execution_count": null,
   "id": "185502f9",
   "metadata": {},
   "outputs": [],
   "source": [
    "'''\n",
    "SELECT SUM(price_amount)\n",
    "FROM acquisition\n",
    "WHERE EXTRACT (YEAR\n",
    "               FROM CAST(acquired_at AS date)) IN (2011,\n",
    "                                                   2012,\n",
    "                                                   2013)\n",
    "  AND term_code = 'cash'\n",
    "'''"
   ]
  },
  {
   "cell_type": "markdown",
   "id": "09c3b81f",
   "metadata": {},
   "source": [
    "4 - Отобразите имя, фамилию и названия аккаунтов людей в твиттере, у которых названия аккаунтов начинаются на 'Silver'."
   ]
  },
  {
   "cell_type": "code",
   "execution_count": null,
   "id": "b268cf29",
   "metadata": {},
   "outputs": [],
   "source": [
    "'''\n",
    "SELECT first_name,\n",
    "       last_name,\n",
    "       twitter_username\n",
    "FROM people\n",
    "WHERE twitter_username LIKE 'Silver%'\n",
    "'''"
   ]
  },
  {
   "cell_type": "markdown",
   "id": "d8a516be",
   "metadata": {},
   "source": [
    "5 - Выведите на экран всю информацию о людях, у которых названия аккаунтов в твиттере содержат подстроку 'money', а фамилия начинается на 'K'."
   ]
  },
  {
   "cell_type": "code",
   "execution_count": null,
   "id": "12e80bce",
   "metadata": {},
   "outputs": [],
   "source": [
    "'''\n",
    "SELECT *\n",
    "FROM people\n",
    "WHERE twitter_username LIKE '%money%'\n",
    "  AND last_name LIKE 'K%'\n",
    "'''"
   ]
  },
  {
   "cell_type": "markdown",
   "id": "1f21a07a",
   "metadata": {},
   "source": [
    "6 - Для каждой страны отобразите общую сумму привлечённых инвестиций, которые получили компании, зарегистрированные в этой стране. <br>\n",
    "Страну, в которой зарегистрирована компания, можно определить по коду страны. <br>\n",
    "Отсортируйте данные по убыванию суммы."
   ]
  },
  {
   "cell_type": "code",
   "execution_count": null,
   "id": "da74a1cd",
   "metadata": {},
   "outputs": [],
   "source": [
    "'''\n",
    "SELECT country_code,\n",
    "       SUM(funding_total) AS total_investments\n",
    "FROM company\n",
    "GROUP BY country_code\n",
    "ORDER BY total_investments DESC\n",
    "'''"
   ]
  },
  {
   "cell_type": "markdown",
   "id": "d65d5d9b",
   "metadata": {},
   "source": [
    "7 - Составьте таблицу, в которую войдёт дата проведения раунда, а также минимальное и максимальное значения суммы инвестиций, привлечённых в эту дату.<br>\n",
    "Оставьте в итоговой таблице только те записи, в которых минимальное значение суммы инвестиций не равно нулю и не равно максимальному значению."
   ]
  },
  {
   "cell_type": "code",
   "execution_count": null,
   "id": "4fcaf87e",
   "metadata": {},
   "outputs": [],
   "source": [
    "'''\n",
    "SELECT funded_at,\n",
    "       MIN(raised_amount) AS min_inv,\n",
    "       MAX(raised_amount) AS max_inv\n",
    "FROM funding_round\n",
    "GROUP BY funded_at\n",
    "HAVING MIN(raised_amount) <> 0\n",
    "AND MIN(raised_amount) <> MAX(raised_amount)\n",
    "'''"
   ]
  },
  {
   "cell_type": "markdown",
   "id": "1fd48d07",
   "metadata": {},
   "source": [
    "8 - Создайте поле с категориями:\n",
    " - Для фондов, которые инвестируют в 100 и более компаний, назначьте категорию high_activity.\n",
    " - Для фондов, которые инвестируют в 20 и более компаний до 100, назначьте категорию middle_activity.\n",
    " - Если количество инвестируемых компаний фонда не достигает 20, назначьте категорию low_activity.\n",
    " \n",
    "Отобразите все поля таблицы fund и новое поле с категориями."
   ]
  },
  {
   "cell_type": "code",
   "execution_count": null,
   "id": "a0dc6cf5",
   "metadata": {},
   "outputs": [],
   "source": [
    "'''\n",
    "SELECT *,\n",
    "       CASE\n",
    "           WHEN invested_companies >= 100 THEN 'high_activity'\n",
    "           WHEN invested_companies >= 20\n",
    "                AND invested_companies < 100 THEN 'middle_activity'\n",
    "           WHEN invested_companies < 20 THEN 'low_activity'\n",
    "       END\n",
    "FROM fund\n",
    "'''"
   ]
  },
  {
   "cell_type": "markdown",
   "id": "1e33a29a",
   "metadata": {},
   "source": [
    "9 - Для каждой из категорий, назначенных в предыдущем задании, посчитайте округлённое до ближайшего целого числа среднее количество инвестиционных раундов, в которых фонд принимал участие.<br>\n",
    "Выведите на экран категории и среднее число инвестиционных раундов.<br>\n",
    "Отсортируйте таблицу по возрастанию среднего."
   ]
  },
  {
   "cell_type": "code",
   "execution_count": null,
   "id": "f4a34401",
   "metadata": {},
   "outputs": [],
   "source": [
    "'''\n",
    "SELECT CASE\n",
    "           WHEN invested_companies>=100 THEN 'high_activity'\n",
    "           WHEN invested_companies>=20 THEN 'middle_activity'\n",
    "           ELSE 'low_activity'\n",
    "       END AS activity,\n",
    "       ROUND(AVG(investment_rounds))\n",
    "FROM fund\n",
    "GROUP BY activity\n",
    "ORDER BY round\n",
    "'''"
   ]
  },
  {
   "cell_type": "markdown",
   "id": "7322d5a5",
   "metadata": {},
   "source": [
    "10 - Проанализируйте, в каких странах находятся фонды, которые чаще всего инвестируют в стартапы.<br>\n",
    "Для каждой страны посчитайте минимальное, максимальное и среднее число компаний, в которые инвестировали фонды этой страны, основанные с 2010 по 2012 год включительно.<br>\n",
    "Исключите страны с фондами, у которых минимальное число компаний, получивших инвестиции, равно нулю. Выгрузите десять самых активных стран-инвесторов.<br>\n",
    "Отсортируйте таблицу по среднему количеству компаний от большего к меньшему, а затем по коду страны в лексикографическом порядке."
   ]
  },
  {
   "cell_type": "code",
   "execution_count": null,
   "id": "4627cd4e",
   "metadata": {},
   "outputs": [],
   "source": [
    "'''\n",
    "SELECT country_code,\n",
    "       MIN(invested_companies),\n",
    "       MAX(invested_companies),\n",
    "       AVG(invested_companies) AS avg_funding\n",
    "FROM fund\n",
    "WHERE EXTRACT(YEAR\n",
    "              FROM founded_at) BETWEEN 2010 AND 2012\n",
    "GROUP BY country_code\n",
    "HAVING MIN(invested_companies) != 0\n",
    "ORDER BY avg_funding DESC\n",
    "LIMIT 10\n",
    "'''"
   ]
  },
  {
   "cell_type": "markdown",
   "id": "5ed20423",
   "metadata": {},
   "source": [
    "11 - Отобразите имя и фамилию всех сотрудников стартапов.<br>\n",
    "Добавьте поле с названием учебного заведения, которое окончил сотрудник, если эта информация известна."
   ]
  },
  {
   "cell_type": "code",
   "execution_count": null,
   "id": "4085100f",
   "metadata": {},
   "outputs": [],
   "source": [
    "'''\n",
    "SELECT p.first_name,\n",
    "       p.last_name,\n",
    "       e.instituition\n",
    "FROM people AS p\n",
    "LEFT JOIN education AS e ON p.id = e.person_id\n",
    "'''"
   ]
  },
  {
   "cell_type": "markdown",
   "id": "73a4c935",
   "metadata": {},
   "source": [
    "12 - Для каждой компании найдите количество учебных заведений, которые окончили её сотрудники. <br>\n",
    "Выведите название компании и число уникальных названий учебных заведений. <br>\n",
    "Составьте топ-5 компаний по количеству университетов."
   ]
  },
  {
   "cell_type": "code",
   "execution_count": null,
   "id": "5558e844",
   "metadata": {},
   "outputs": [],
   "source": [
    "'''\n",
    "SELECT c.name,\n",
    "       COUNT(DISTINCT e.instituition)\n",
    "FROM company AS c\n",
    "INNER JOIN people AS p ON c.id = p.company_id\n",
    "INNER JOIN education AS e ON p.id = e.person_id\n",
    "GROUP BY c.name\n",
    "ORDER BY COUNT(e.instituition) DESC\n",
    "LIMIT 5\n",
    "'''"
   ]
  },
  {
   "cell_type": "markdown",
   "id": "4f5575ab",
   "metadata": {},
   "source": [
    "13 - Составьте список с уникальными названиями закрытых компаний, для которых первый раунд финансирования оказался последним."
   ]
  },
  {
   "cell_type": "code",
   "execution_count": null,
   "id": "f0448ad4",
   "metadata": {},
   "outputs": [],
   "source": [
    "'''\n",
    "SELECT DISTINCT name\n",
    "FROM company\n",
    "WHERE status = 'closed'\n",
    "  AND id IN\n",
    "    (SELECT company_id\n",
    "     FROM funding_round\n",
    "     WHERE is_first_round = 1\n",
    "       AND is_last_round = 1)\n",
    "'''"
   ]
  },
  {
   "cell_type": "markdown",
   "id": "f0ad9862",
   "metadata": {},
   "source": [
    "14 - Составьте список уникальных номеров сотрудников, которые работают в компаниях, отобранных в предыдущем задании."
   ]
  },
  {
   "cell_type": "code",
   "execution_count": null,
   "id": "91ee505b",
   "metadata": {},
   "outputs": [],
   "source": [
    "'''\n",
    "SELECT id\n",
    "FROM people AS p\n",
    "WHERE company_id IN\n",
    "    (SELECT id\n",
    "     FROM company\n",
    "     WHERE status = 'closed'\n",
    "       AND id IN\n",
    "         (SELECT company_id\n",
    "          FROM funding_round\n",
    "          WHERE is_first_round = 1\n",
    "            AND is_last_round = 1))\n",
    "'''"
   ]
  },
  {
   "cell_type": "markdown",
   "id": "ae6a626a",
   "metadata": {},
   "source": [
    "15 - Составьте таблицу, куда войдут уникальные пары с номерами сотрудников из предыдущей задачи и учебным заведением, которое окончил сотрудник."
   ]
  },
  {
   "cell_type": "code",
   "execution_count": null,
   "id": "b4882a38",
   "metadata": {},
   "outputs": [],
   "source": [
    "'''\n",
    "SELECT DISTINCT p.id,\n",
    "                e.instituition\n",
    "FROM people AS p\n",
    "INNER JOIN education AS e ON p.id = e.person_id\n",
    "WHERE company_id IN\n",
    "    (SELECT c.id\n",
    "     FROM company AS c\n",
    "     WHERE status = 'closed'\n",
    "       AND id IN\n",
    "         (SELECT fr.company_id\n",
    "          FROM funding_round AS fr\n",
    "          WHERE is_first_round = 1\n",
    "            AND is_last_round = 1))\n",
    "'''"
   ]
  },
  {
   "cell_type": "markdown",
   "id": "3ff97ab8",
   "metadata": {},
   "source": [
    "16 - Посчитайте количество учебных заведений для каждого сотрудника из предыдущего задания. <br>\n",
    "При подсчёте учитывайте, что некоторые сотрудники могли окончить одно и то же заведение дважды."
   ]
  },
  {
   "cell_type": "code",
   "execution_count": null,
   "id": "39405004",
   "metadata": {},
   "outputs": [],
   "source": [
    "'''\n",
    "SELECT DISTINCT p.id,\n",
    "                COUNT (e.instituition)\n",
    "FROM people AS p\n",
    "INNER JOIN education AS e ON p.id = e.person_id\n",
    "WHERE company_id IN\n",
    "    (SELECT c.id\n",
    "     FROM company AS c\n",
    "     WHERE status = 'closed'\n",
    "       AND id IN\n",
    "         (SELECT fr.company_id\n",
    "          FROM funding_round AS fr\n",
    "          WHERE is_first_round = 1\n",
    "            AND is_last_round = 1))\n",
    "GROUP BY p.id\n",
    "'''"
   ]
  },
  {
   "cell_type": "markdown",
   "id": "b72c1490",
   "metadata": {},
   "source": [
    "17 - Дополните предыдущий запрос и выведите среднее число учебных заведений (всех, не только уникальных), которые окончили сотрудники разных компаний. <br>\n",
    "Нужно вывести только одну запись, группировка здесь не понадобится."
   ]
  },
  {
   "cell_type": "code",
   "execution_count": null,
   "id": "8e7e21d7",
   "metadata": {},
   "outputs": [],
   "source": [
    "'''\n",
    "WITH count_institute AS\n",
    "  (SELECT p.id,\n",
    "          COUNT(e.instituition)\n",
    "   FROM people AS p\n",
    "   INNER JOIN education AS e ON p.id=e.person_id\n",
    "   WHERE p.company_id IN\n",
    "       (SELECT id\n",
    "        FROM company\n",
    "        WHERE status='closed'\n",
    "          AND id IN\n",
    "            (SELECT company_id\n",
    "             FROM funding_round\n",
    "             WHERE is_first_round=1\n",
    "               AND is_last_round=1 ) )\n",
    "   GROUP BY p.id)\n",
    "SELECT AVG(COUNT)\n",
    "FROM\n",
    "  (SELECT COUNT\n",
    "   FROM count_institute) AS avg_count\n",
    "'''"
   ]
  },
  {
   "cell_type": "markdown",
   "id": "03f86974",
   "metadata": {},
   "source": [
    "18 - Напишите похожий запрос: выведите среднее число учебных заведений (всех, не только уникальных), которые окончили сотрудники Facebook*.<br>\n",
    "*(сервис, запрещённый на территории РФ)"
   ]
  },
  {
   "cell_type": "code",
   "execution_count": null,
   "id": "cc32dfb8",
   "metadata": {},
   "outputs": [],
   "source": [
    "'''\n",
    "WITH count_institute AS\n",
    "  (SELECT p.id,\n",
    "          COUNT(e.instituition)\n",
    "   FROM people AS p\n",
    "   INNER JOIN education AS e ON p.id=e.person_id\n",
    "   WHERE p.company_id IN\n",
    "       (SELECT id\n",
    "        FROM company\n",
    "        WHERE name = 'Facebook' )\n",
    "   GROUP BY p.id)\n",
    "SELECT AVG(COUNT)\n",
    "FROM\n",
    "  (SELECT COUNT\n",
    "   FROM count_institute) AS avg_count\n",
    "'''"
   ]
  },
  {
   "cell_type": "markdown",
   "id": "b950b818",
   "metadata": {},
   "source": [
    "19 - Составьте таблицу из полей:\n",
    " - name_of_fund — название фонда;\n",
    " - name_of_company — название компании;\n",
    " - amount — сумма инвестиций, которую привлекла компания в раунде.\n",
    "\n",
    "В таблицу войдут данные о компаниях, в истории которых было больше шести важных этапов, а раунды финансирования проходили с 2012 по 2013 год включительно."
   ]
  },
  {
   "cell_type": "code",
   "execution_count": null,
   "id": "057639a9",
   "metadata": {},
   "outputs": [],
   "source": [
    "'''\n",
    "SELECT f.name AS name_of_fund,\n",
    "       c.name AS name_of_company,\n",
    "       fr.raised_amount AS amount\n",
    "FROM investment AS i\n",
    "LEFT JOIN company AS c ON i.company_id=c.id\n",
    "LEFT JOIN fund AS f ON f.id=i.fund_id\n",
    "LEFT JOIN funding_round AS fr ON i.funding_round_id = fr.id\n",
    "WHERE c.milestones > 6\n",
    "  AND EXTRACT(YEAR\n",
    "              FROM CAST(funded_at AS date)) BETWEEN 2012 AND 2013\n",
    "'''"
   ]
  },
  {
   "cell_type": "markdown",
   "id": "5594f939",
   "metadata": {},
   "source": [
    "20 - Выгрузите таблицу, в которой будут такие поля:\n",
    " - название компании-покупателя;\n",
    " - сумма сделки;\n",
    " - название компании, которую купили;\n",
    " - сумма инвестиций, вложенных в купленную компанию;\n",
    " - доля, которая отображает, во сколько раз сумма покупки превысила сумму вложенных в компанию инвестиций, округлённая до ближайшего целого числа.\n",
    "\n",
    "Не учитывайте те сделки, в которых сумма покупки равна нулю. Если сумма инвестиций в компанию равна нулю, исключите такую компанию из таблицы. <br>\n",
    "Отсортируйте таблицу по сумме сделки от большей к меньшей, а затем по названию купленной компании в лексикографическом порядке. Ограничьте таблицу первыми десятью записями."
   ]
  },
  {
   "cell_type": "code",
   "execution_count": null,
   "id": "65ac5402",
   "metadata": {},
   "outputs": [],
   "source": [
    "'''\n",
    "SELECT cmp.name AS name_acquiring_company,\n",
    "       acq.price_amount,\n",
    "       com.name AS name_acquired_company,\n",
    "       com.funding_total,\n",
    "       ROUND(acq.price_amount/com.funding_total) AS perc\n",
    "FROM acquisition AS acq\n",
    "LEFT OUTER JOIN company AS CMP ON acq.acquiring_company_id=cmp.id\n",
    "LEFT OUTER JOIN company AS com ON acq.acquired_company_id=com.id\n",
    "WHERE acq.price_amount > 0\n",
    "  AND com.funding_total > 0\n",
    "ORDER BY acq.price_amount DESC\n",
    "LIMIT 10\n",
    "'''"
   ]
  },
  {
   "cell_type": "markdown",
   "id": "10c8efc9",
   "metadata": {},
   "source": [
    "21 - Выгрузите таблицу, в которую войдут названия компаний из категории social, получившие финансирование с 2010 по 2013 год включительно.<br>\n",
    "Проверьте, что сумма инвестиций не равна нулю. <br>\n",
    "Выведите также номер месяца, в котором проходил раунд финансирования."
   ]
  },
  {
   "cell_type": "code",
   "execution_count": null,
   "id": "bf71db71",
   "metadata": {},
   "outputs": [],
   "source": [
    "'''\n",
    "SELECT c.name,\n",
    "       EXTRACT(MONTH\n",
    "               FROM CAST(fr.funded_at AS date))\n",
    "FROM company AS c\n",
    "LEFT OUTER JOIN funding_round AS fr ON fr.company_id =c.id\n",
    "WHERE c.category_code = 'social'\n",
    "  AND fr.raised_amount <> 0\n",
    "  AND EXTRACT(YEAR\n",
    "              FROM CAST(fr.funded_at AS date)) IN (2010,\n",
    "                                                   2011,\n",
    "                                                   2012,\n",
    "                                                   2013)\n",
    "'''"
   ]
  },
  {
   "cell_type": "markdown",
   "id": "20a3977a",
   "metadata": {},
   "source": [
    "22 - Отберите данные по месяцам с 2010 по 2013 год, когда проходили инвестиционные раунды. <br>\n",
    "Сгруппируйте данные по номеру месяца и получите таблицу, в которой будут поля:\n",
    " - номер месяца, в котором проходили раунды;\n",
    " - количество уникальных названий фондов из США, которые инвестировали в этом месяце;\n",
    " - количество компаний, купленных за этот месяц;\n",
    " - общая сумма сделок по покупкам в этом месяце."
   ]
  },
  {
   "cell_type": "code",
   "execution_count": null,
   "id": "92cbf437",
   "metadata": {},
   "outputs": [],
   "source": [
    "'''\n",
    "WITH fund_count AS\n",
    "  (SELECT EXTRACT(MONTH\n",
    "                  FROM CAST(fr.funded_at AS date)) AS month_number,\n",
    "          COUNT(DISTINCT f.name) AS fund_count_USA\n",
    "   FROM funding_round AS fr\n",
    "   LEFT OUTER JOIN investment AS i ON fr.id=i.funding_round_id\n",
    "   LEFT OUTER JOIN fund AS f ON i.fund_id=f.id\n",
    "   WHERE f.country_code='USA'\n",
    "     AND EXTRACT(YEAR\n",
    "                 FROM CAST(fr.funded_at AS date)) BETWEEN 2010 AND 2013\n",
    "   GROUP BY EXTRACT(MONTH\n",
    "                    FROM CAST(fr.funded_at AS date))),\n",
    "     comp_count AS\n",
    "  (SELECT EXTRACT(MONTH\n",
    "                  FROM CAST(acquired_at AS date)) AS month_number,\n",
    "          COUNT(id) AS company_count,\n",
    "          SUM(price_amount) AS total_amount\n",
    "   FROM acquisition\n",
    "   WHERE EXTRACT(YEAR\n",
    "                 FROM CAST(acquired_at AS date)) BETWEEN 2010 AND 2013\n",
    "   GROUP BY EXTRACT(MONTH\n",
    "                    FROM CAST(acquired_at AS date)))\n",
    "SELECT fund_count.month_number,\n",
    "       fund_count_USA,\n",
    "       company_count,\n",
    "       total_amount\n",
    "FROM fund_count\n",
    "LEFT JOIN comp_count ON fund_count.month_number=comp_count.month_number\n",
    "'''"
   ]
  },
  {
   "cell_type": "markdown",
   "id": "8ec515b0",
   "metadata": {},
   "source": [
    "23 - Составьте сводную таблицу и выведите среднюю сумму инвестиций для стран, в которых есть стартапы, зарегистрированные в 2011, 2012 и 2013 годах. <br>\n",
    "Данные за каждый год должны быть в отдельном поле.<br>\n",
    "Отсортируйте таблицу по среднему значению инвестиций за 2011 год от большего к меньшему."
   ]
  },
  {
   "cell_type": "code",
   "execution_count": null,
   "id": "15066f2a",
   "metadata": {},
   "outputs": [],
   "source": [
    "'''\n",
    "WITH y_2011 AS\n",
    "  (SELECT country_code,\n",
    "          AVG(funding_total) AS year_2011\n",
    "   FROM company\n",
    "   WHERE EXTRACT(YEAR\n",
    "                 FROM CAST(founded_at AS date)) = 2011\n",
    "   GROUP BY country_code),\n",
    "     y_2012 AS\n",
    "  (SELECT country_code,\n",
    "          AVG(funding_total) AS year_2012\n",
    "   FROM company\n",
    "   WHERE EXTRACT(YEAR\n",
    "                 FROM CAST(founded_at AS date)) = 2012\n",
    "   GROUP BY country_code),\n",
    "     y_2013 AS\n",
    "  (SELECT country_code,\n",
    "          AVG(funding_total) AS year_2013\n",
    "   FROM company\n",
    "   WHERE EXTRACT(YEAR\n",
    "                 FROM CAST(founded_at AS date)) = 2013\n",
    "   GROUP BY country_code)\n",
    "SELECT y_2011.country_code,\n",
    "       year_2011,\n",
    "       year_2012,\n",
    "       year_2013\n",
    "FROM y_2011\n",
    "INNER JOIN y_2012 ON y_2011.country_code = y_2012.country_code\n",
    "INNER JOIN y_2013 ON y_2011.country_code = y_2013.country_code\n",
    "ORDER BY year_2011 DESC\n",
    "'''"
   ]
  }
 ],
 "metadata": {
  "ExecuteTimeLog": [
   {
    "duration": 19,
    "start_time": "2023-03-09T09:04:05.902Z"
   }
  ],
  "kernelspec": {
   "display_name": "Python 3 (ipykernel)",
   "language": "python",
   "name": "python3"
  },
  "language_info": {
   "codemirror_mode": {
    "name": "ipython",
    "version": 3
   },
   "file_extension": ".py",
   "mimetype": "text/x-python",
   "name": "python",
   "nbconvert_exporter": "python",
   "pygments_lexer": "ipython3",
   "version": "3.9.5"
  },
  "toc": {
   "base_numbering": 1,
   "nav_menu": {},
   "number_sections": true,
   "sideBar": true,
   "skip_h1_title": true,
   "title_cell": "Table of Contents",
   "title_sidebar": "Contents",
   "toc_cell": false,
   "toc_position": {},
   "toc_section_display": true,
   "toc_window_display": false
  }
 },
 "nbformat": 4,
 "nbformat_minor": 5
}
