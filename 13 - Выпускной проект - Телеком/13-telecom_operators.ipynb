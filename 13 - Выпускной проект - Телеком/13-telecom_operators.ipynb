{
 "cells": [
  {
   "cell_type": "markdown",
   "metadata": {},
   "source": [
    "# Телеком — Определение неэффективных операторов\n",
    "<br>\n",
    "\n",
    "\n",
    "**Описание проекта**<br>\n",
    "Телеком провайдер «Нупозвони» хочет помочь своим клиентам (колл-центрам) найти неэффективных операторов и предложить новый сервис для регулярного мониторинга.<br>\n",
    "\n",
    "**Цель исследования**<br>\n",
    "Помочь «Нупозвони» найти самых неэффективных операторов.<br>\n",
    "Признаки низкой эффективности:\n",
    "  - много пропущенных входящих вызовов,\n",
    "  - долгое ожидания ответа при входящих внешних вызовах,\n",
    "  - мало исходящих вывозов — в случае тех колл-центров, что специализируются на обзвонах, а не обработке входящих звонков.<br>\n",
    "\n",
    "**Описание доступных данных**<br>\n",
    "Есть 2 датасета: \n",
    "1. `telecom_clients.csv` - содержит данные об использовании услуг «Нупозвони» — провайдера виртуальный телефонии.<br>\n",
    "Его клиенты — колл-центры, которые: \n",
    "  - распределяют входящие вызовы на операторов,\n",
    "  - совершают исходящие вызовы силами операторов.\n",
    "  <br>\n",
    "\n",
    "\n",
    "2. `telecom_dataset.csv` - таблица с данными о звонках операторов колл-центров<br> (операторы могут делать внутренние вызовы —  вызовы друг между другом внутри сети виртуальной телефонии).\n",
    "\n",
    "**Ход исследования**<br>\n",
    "1. Откроем оба файла с данными и изучим общую информацию,\n",
    "<br>\n",
    "\n",
    "2. Проведем предобработку данных, подготовим их к анализу (поработаем с дубликатами, пропусками, типами данных, названиями столбцов и т.п.),\n",
    "<br>\n",
    "\n",
    "3. Проведем исследовательский анализ данных:\n",
    " - определим специализации колл-центров: \n",
    "     - только на приём входящих звонков, \n",
    "     - только обзвоны - исходящие звонки,\n",
    "     - совместные - оба типа сразу,\n",
    " - выясним длительность исследуемого периода наших данных,\n",
    " - посчитаем количество операторов у клиентов.\n",
    "<br>\n",
    "\n",
    " \n",
    "4. Определим неэффективных операторов. <br>\n",
    "Снова распределим на 3 категории (в зависимости от количества пропущенных входящих, длительности ожидания ответа и количества исходящих - для \"обзванивающих\" колл-центров): высокая, средняя и низкая эффективность.\n",
    "<br>\n",
    "\n",
    "5. Проверим статистические гипотезы, есть ли статистически значимая разница, основанная на:\n",
    "  - различиях тарифных планов операторов по времени ожидания входящего звонка в зависимости от тарифного плана, \n",
    "  - зависимости количества звонков от загрузки в разные дни недели.\n",
    "  <br>\n",
    "\n",
    "\n",
    "6. Суммируем все выводы и подготовим наглядную презентацию для заказчиков."
   ]
  },
  {
   "cell_type": "markdown",
   "metadata": {},
   "source": [
    "### Обзор данных"
   ]
  },
  {
   "cell_type": "code",
   "execution_count": 2,
   "metadata": {},
   "outputs": [],
   "source": [
    "# Импортируем нужные библиотеки для чтения файлов, построения графиков и проведения расчетов\n",
    "\n",
    "import pandas as pd\n",
    "import numpy as np\n",
    "from matplotlib import pyplot as plt\n",
    "import math as mth\n",
    "import seaborn as sns\n",
    "from scipy import stats as st\n",
    "import scipy\n",
    "from datetime import timedelta\n",
    "import datetime as dt\n",
    "from plotly import graph_objects as go\n",
    "\n",
    "import warnings\n",
    "warnings.filterwarnings('ignore')"
   ]
  },
  {
   "cell_type": "code",
   "execution_count": 3,
   "metadata": {},
   "outputs": [],
   "source": [
    "# Загрузим файлы\n",
    "\n",
    "clients = pd.read_csv('/datasets/telecom_clients.csv')\n",
    "dataset = pd.read_csv('/datasets/telecom_dataset.csv')"
   ]
  },
  {
   "cell_type": "markdown",
   "metadata": {},
   "source": [
    "Начнём с файла 'clients':"
   ]
  },
  {
   "cell_type": "code",
   "execution_count": 4,
   "metadata": {},
   "outputs": [
    {
     "data": {
      "text/html": [
       "<div>\n",
       "<style scoped>\n",
       "    .dataframe tbody tr th:only-of-type {\n",
       "        vertical-align: middle;\n",
       "    }\n",
       "\n",
       "    .dataframe tbody tr th {\n",
       "        vertical-align: top;\n",
       "    }\n",
       "\n",
       "    .dataframe thead th {\n",
       "        text-align: right;\n",
       "    }\n",
       "</style>\n",
       "<table border=\"1\" class=\"dataframe\">\n",
       "  <thead>\n",
       "    <tr style=\"text-align: right;\">\n",
       "      <th></th>\n",
       "      <th>user_id</th>\n",
       "      <th>tariff_plan</th>\n",
       "      <th>date_start</th>\n",
       "    </tr>\n",
       "  </thead>\n",
       "  <tbody>\n",
       "    <tr>\n",
       "      <th>0</th>\n",
       "      <td>166713</td>\n",
       "      <td>A</td>\n",
       "      <td>2019-08-15</td>\n",
       "    </tr>\n",
       "    <tr>\n",
       "      <th>1</th>\n",
       "      <td>166901</td>\n",
       "      <td>A</td>\n",
       "      <td>2019-08-23</td>\n",
       "    </tr>\n",
       "    <tr>\n",
       "      <th>2</th>\n",
       "      <td>168527</td>\n",
       "      <td>A</td>\n",
       "      <td>2019-10-29</td>\n",
       "    </tr>\n",
       "    <tr>\n",
       "      <th>3</th>\n",
       "      <td>167097</td>\n",
       "      <td>A</td>\n",
       "      <td>2019-09-01</td>\n",
       "    </tr>\n",
       "    <tr>\n",
       "      <th>4</th>\n",
       "      <td>168193</td>\n",
       "      <td>A</td>\n",
       "      <td>2019-10-16</td>\n",
       "    </tr>\n",
       "  </tbody>\n",
       "</table>\n",
       "</div>"
      ],
      "text/plain": [
       "   user_id tariff_plan  date_start\n",
       "0   166713           A  2019-08-15\n",
       "1   166901           A  2019-08-23\n",
       "2   168527           A  2019-10-29\n",
       "3   167097           A  2019-09-01\n",
       "4   168193           A  2019-10-16"
      ]
     },
     "execution_count": 4,
     "metadata": {},
     "output_type": "execute_result"
    }
   ],
   "source": [
    "clients.head()"
   ]
  },
  {
   "cell_type": "code",
   "execution_count": 5,
   "metadata": {},
   "outputs": [
    {
     "name": "stdout",
     "output_type": "stream",
     "text": [
      "<class 'pandas.core.frame.DataFrame'>\n",
      "RangeIndex: 732 entries, 0 to 731\n",
      "Data columns (total 3 columns):\n",
      " #   Column       Non-Null Count  Dtype \n",
      "---  ------       --------------  ----- \n",
      " 0   user_id      732 non-null    int64 \n",
      " 1   tariff_plan  732 non-null    object\n",
      " 2   date_start   732 non-null    object\n",
      "dtypes: int64(1), object(2)\n",
      "memory usage: 17.3+ KB\n"
     ]
    }
   ],
   "source": [
    "clients.info()"
   ]
  },
  {
   "cell_type": "code",
   "execution_count": 6,
   "metadata": {},
   "outputs": [
    {
     "data": {
      "text/plain": [
       "0"
      ]
     },
     "execution_count": 6,
     "metadata": {},
     "output_type": "execute_result"
    }
   ],
   "source": [
    "# Проверим на дубликаты:\n",
    "clients.duplicated().sum()"
   ]
  },
  {
   "cell_type": "markdown",
   "metadata": {},
   "source": [
    "В датасете три колонки:\n",
    "\n",
    "- `user_id` — Идентификатор клиентского аккаунта в сервисе\n",
    "- `tariff_plan` — Текущий тарифный план клиента\n",
    "- `date_start` — Дата регистрации клиента в сервисе\n",
    "\n",
    "Пропусков и дубликатов нет.<br>\n",
    "В предобработке в колонке \"date_start\" будет нужно поменять тип данных на \"дату\"."
   ]
  },
  {
   "cell_type": "markdown",
   "metadata": {},
   "source": [
    "Теперь файл 'dataset':"
   ]
  },
  {
   "cell_type": "code",
   "execution_count": 7,
   "metadata": {},
   "outputs": [
    {
     "data": {
      "text/html": [
       "<div>\n",
       "<style scoped>\n",
       "    .dataframe tbody tr th:only-of-type {\n",
       "        vertical-align: middle;\n",
       "    }\n",
       "\n",
       "    .dataframe tbody tr th {\n",
       "        vertical-align: top;\n",
       "    }\n",
       "\n",
       "    .dataframe thead th {\n",
       "        text-align: right;\n",
       "    }\n",
       "</style>\n",
       "<table border=\"1\" class=\"dataframe\">\n",
       "  <thead>\n",
       "    <tr style=\"text-align: right;\">\n",
       "      <th></th>\n",
       "      <th>user_id</th>\n",
       "      <th>date</th>\n",
       "      <th>direction</th>\n",
       "      <th>internal</th>\n",
       "      <th>operator_id</th>\n",
       "      <th>is_missed_call</th>\n",
       "      <th>calls_count</th>\n",
       "      <th>call_duration</th>\n",
       "      <th>total_call_duration</th>\n",
       "    </tr>\n",
       "  </thead>\n",
       "  <tbody>\n",
       "    <tr>\n",
       "      <th>0</th>\n",
       "      <td>166377</td>\n",
       "      <td>2019-08-04 00:00:00+03:00</td>\n",
       "      <td>in</td>\n",
       "      <td>False</td>\n",
       "      <td>NaN</td>\n",
       "      <td>True</td>\n",
       "      <td>2</td>\n",
       "      <td>0</td>\n",
       "      <td>4</td>\n",
       "    </tr>\n",
       "    <tr>\n",
       "      <th>1</th>\n",
       "      <td>166377</td>\n",
       "      <td>2019-08-05 00:00:00+03:00</td>\n",
       "      <td>out</td>\n",
       "      <td>True</td>\n",
       "      <td>880022.0</td>\n",
       "      <td>True</td>\n",
       "      <td>3</td>\n",
       "      <td>0</td>\n",
       "      <td>5</td>\n",
       "    </tr>\n",
       "    <tr>\n",
       "      <th>2</th>\n",
       "      <td>166377</td>\n",
       "      <td>2019-08-05 00:00:00+03:00</td>\n",
       "      <td>out</td>\n",
       "      <td>True</td>\n",
       "      <td>880020.0</td>\n",
       "      <td>True</td>\n",
       "      <td>1</td>\n",
       "      <td>0</td>\n",
       "      <td>1</td>\n",
       "    </tr>\n",
       "    <tr>\n",
       "      <th>3</th>\n",
       "      <td>166377</td>\n",
       "      <td>2019-08-05 00:00:00+03:00</td>\n",
       "      <td>out</td>\n",
       "      <td>True</td>\n",
       "      <td>880020.0</td>\n",
       "      <td>False</td>\n",
       "      <td>1</td>\n",
       "      <td>10</td>\n",
       "      <td>18</td>\n",
       "    </tr>\n",
       "    <tr>\n",
       "      <th>4</th>\n",
       "      <td>166377</td>\n",
       "      <td>2019-08-05 00:00:00+03:00</td>\n",
       "      <td>out</td>\n",
       "      <td>False</td>\n",
       "      <td>880022.0</td>\n",
       "      <td>True</td>\n",
       "      <td>3</td>\n",
       "      <td>0</td>\n",
       "      <td>25</td>\n",
       "    </tr>\n",
       "  </tbody>\n",
       "</table>\n",
       "</div>"
      ],
      "text/plain": [
       "   user_id                       date direction internal  operator_id  \\\n",
       "0   166377  2019-08-04 00:00:00+03:00        in    False          NaN   \n",
       "1   166377  2019-08-05 00:00:00+03:00       out     True     880022.0   \n",
       "2   166377  2019-08-05 00:00:00+03:00       out     True     880020.0   \n",
       "3   166377  2019-08-05 00:00:00+03:00       out     True     880020.0   \n",
       "4   166377  2019-08-05 00:00:00+03:00       out    False     880022.0   \n",
       "\n",
       "   is_missed_call  calls_count  call_duration  total_call_duration  \n",
       "0            True            2              0                    4  \n",
       "1            True            3              0                    5  \n",
       "2            True            1              0                    1  \n",
       "3           False            1             10                   18  \n",
       "4            True            3              0                   25  "
      ]
     },
     "execution_count": 7,
     "metadata": {},
     "output_type": "execute_result"
    }
   ],
   "source": [
    "dataset.head()"
   ]
  },
  {
   "cell_type": "code",
   "execution_count": 8,
   "metadata": {},
   "outputs": [
    {
     "name": "stdout",
     "output_type": "stream",
     "text": [
      "<class 'pandas.core.frame.DataFrame'>\n",
      "RangeIndex: 53902 entries, 0 to 53901\n",
      "Data columns (total 9 columns):\n",
      " #   Column               Non-Null Count  Dtype  \n",
      "---  ------               --------------  -----  \n",
      " 0   user_id              53902 non-null  int64  \n",
      " 1   date                 53902 non-null  object \n",
      " 2   direction            53902 non-null  object \n",
      " 3   internal             53785 non-null  object \n",
      " 4   operator_id          45730 non-null  float64\n",
      " 5   is_missed_call       53902 non-null  bool   \n",
      " 6   calls_count          53902 non-null  int64  \n",
      " 7   call_duration        53902 non-null  int64  \n",
      " 8   total_call_duration  53902 non-null  int64  \n",
      "dtypes: bool(1), float64(1), int64(4), object(3)\n",
      "memory usage: 3.3+ MB\n"
     ]
    }
   ],
   "source": [
    "dataset.info()"
   ]
  },
  {
   "cell_type": "code",
   "execution_count": 9,
   "metadata": {},
   "outputs": [
    {
     "data": {
      "text/plain": [
       "4900"
      ]
     },
     "execution_count": 9,
     "metadata": {},
     "output_type": "execute_result"
    }
   ],
   "source": [
    "dataset.duplicated().sum()"
   ]
  },
  {
   "cell_type": "markdown",
   "metadata": {},
   "source": [
    "В колонках файла `dataset' следующие данные:\n",
    "\n",
    "- `user_id` — Идентификатор клиентского аккаунта колл-центра в сервисе\n",
    "- `date` — Дата статистики\n",
    "- `direction` — Направление вызовов (out - исходящий вызов, in — входящий вызов)\n",
    "- `internal` — Является ли звонок внутренним звонком между операторами клиента\n",
    "- `operator_id` — Идентификатор оператора\n",
    "- `is_missed_call` — Является ли звонок пропущенным\n",
    "- `calls_count` — Количество звонков\n",
    "- `call_duration` — Длительность звонка (без учета времени ожидания)\n",
    "- `total_call_duration` — Длительность звонка (с учетом времени ожидания)\n",
    "\n",
    "Есть пропуски в столбцах 'operator_id' и 'internal'.<br>\n",
    "\n",
    "После обработки пропусков будет нужно поменять типы данных в колонках:\n",
    " - 'date' на 'дату',\n",
    " - 'operator_id' - на целочисленные значения 'int' (после того, как разберёмся с пропусками: NaN невозможно перевести в int64),\n",
    " - 'internal' на 'bool'.\n",
    " \n",
    "Также есть дубликаты."
   ]
  },
  {
   "cell_type": "markdown",
   "metadata": {},
   "source": [
    "### Предобработка данных"
   ]
  },
  {
   "cell_type": "code",
   "execution_count": 10,
   "metadata": {},
   "outputs": [
    {
     "name": "stdout",
     "output_type": "stream",
     "text": [
      "<class 'pandas.core.frame.DataFrame'>\n",
      "RangeIndex: 732 entries, 0 to 731\n",
      "Data columns (total 3 columns):\n",
      " #   Column       Non-Null Count  Dtype         \n",
      "---  ------       --------------  -----         \n",
      " 0   user_id      732 non-null    int64         \n",
      " 1   tariff_plan  732 non-null    object        \n",
      " 2   date_start   732 non-null    datetime64[ns]\n",
      "dtypes: datetime64[ns](1), int64(1), object(1)\n",
      "memory usage: 17.3+ KB\n"
     ]
    },
    {
     "data": {
      "text/html": [
       "<div>\n",
       "<style scoped>\n",
       "    .dataframe tbody tr th:only-of-type {\n",
       "        vertical-align: middle;\n",
       "    }\n",
       "\n",
       "    .dataframe tbody tr th {\n",
       "        vertical-align: top;\n",
       "    }\n",
       "\n",
       "    .dataframe thead th {\n",
       "        text-align: right;\n",
       "    }\n",
       "</style>\n",
       "<table border=\"1\" class=\"dataframe\">\n",
       "  <thead>\n",
       "    <tr style=\"text-align: right;\">\n",
       "      <th></th>\n",
       "      <th>user_id</th>\n",
       "      <th>tariff_plan</th>\n",
       "      <th>date_start</th>\n",
       "    </tr>\n",
       "  </thead>\n",
       "  <tbody>\n",
       "    <tr>\n",
       "      <th>0</th>\n",
       "      <td>166713</td>\n",
       "      <td>A</td>\n",
       "      <td>2019-08-15</td>\n",
       "    </tr>\n",
       "    <tr>\n",
       "      <th>1</th>\n",
       "      <td>166901</td>\n",
       "      <td>A</td>\n",
       "      <td>2019-08-23</td>\n",
       "    </tr>\n",
       "    <tr>\n",
       "      <th>2</th>\n",
       "      <td>168527</td>\n",
       "      <td>A</td>\n",
       "      <td>2019-10-29</td>\n",
       "    </tr>\n",
       "    <tr>\n",
       "      <th>3</th>\n",
       "      <td>167097</td>\n",
       "      <td>A</td>\n",
       "      <td>2019-09-01</td>\n",
       "    </tr>\n",
       "    <tr>\n",
       "      <th>4</th>\n",
       "      <td>168193</td>\n",
       "      <td>A</td>\n",
       "      <td>2019-10-16</td>\n",
       "    </tr>\n",
       "  </tbody>\n",
       "</table>\n",
       "</div>"
      ],
      "text/plain": [
       "   user_id tariff_plan date_start\n",
       "0   166713           A 2019-08-15\n",
       "1   166901           A 2019-08-23\n",
       "2   168527           A 2019-10-29\n",
       "3   167097           A 2019-09-01\n",
       "4   168193           A 2019-10-16"
      ]
     },
     "execution_count": 10,
     "metadata": {},
     "output_type": "execute_result"
    }
   ],
   "source": [
    "# Поменяем в колонке 'date_start' тип данных на 'дату'\n",
    "clients['date_start'] = pd.to_datetime(clients['date_start'], format='%Y-%m-%d')\n",
    "\n",
    "# Проверим\n",
    "clients.info()\n",
    "clients.head()"
   ]
  },
  {
   "cell_type": "markdown",
   "metadata": {},
   "source": [
    "**Теперь очередь файла 'dataset'.**<br>\n",
    "\n",
    "Займёмся пропусками в столбце 'operator_id'\n",
    "\n",
    "Цель нашего исследования - определить неэффективных операторов.<br>\n",
    "\n",
    "В датасете у 8172 клиентов (15% от общего количества) нет 'operator_id', такие строки нам не помогут.<br>\n",
    "\n",
    "У нас нет возможности восстановить их, не исказив результаты анализа, поэтому просто удалим пропущенные \n",
    "значения."
   ]
  },
  {
   "cell_type": "code",
   "execution_count": 11,
   "metadata": {},
   "outputs": [
    {
     "name": "stdout",
     "output_type": "stream",
     "text": [
      "<class 'pandas.core.frame.DataFrame'>\n",
      "Int64Index: 45730 entries, 1 to 53900\n",
      "Data columns (total 9 columns):\n",
      " #   Column               Non-Null Count  Dtype  \n",
      "---  ------               --------------  -----  \n",
      " 0   user_id              45730 non-null  int64  \n",
      " 1   date                 45730 non-null  object \n",
      " 2   direction            45730 non-null  object \n",
      " 3   internal             45670 non-null  object \n",
      " 4   operator_id          45730 non-null  float64\n",
      " 5   is_missed_call       45730 non-null  bool   \n",
      " 6   calls_count          45730 non-null  int64  \n",
      " 7   call_duration        45730 non-null  int64  \n",
      " 8   total_call_duration  45730 non-null  int64  \n",
      "dtypes: bool(1), float64(1), int64(4), object(3)\n",
      "memory usage: 3.2+ MB\n"
     ]
    }
   ],
   "source": [
    "dataset.dropna(subset = ['operator_id'], inplace = True)\n",
    "\n",
    "dataset.info()"
   ]
  },
  {
   "cell_type": "markdown",
   "metadata": {},
   "source": [
    "Остаётся столбец 'internal', пропущено 60 значений.\n",
    "\n",
    "Аналогично, мы не можем быть уверены, является ли звонок внутренним звонком между операторами.<br>\n",
    "Кроме того, 60 значений - совсем немного на фоне 45 тысяч, поэтому смело их удаляем."
   ]
  },
  {
   "cell_type": "code",
   "execution_count": 12,
   "metadata": {},
   "outputs": [
    {
     "name": "stdout",
     "output_type": "stream",
     "text": [
      "<class 'pandas.core.frame.DataFrame'>\n",
      "Int64Index: 45670 entries, 1 to 53900\n",
      "Data columns (total 9 columns):\n",
      " #   Column               Non-Null Count  Dtype  \n",
      "---  ------               --------------  -----  \n",
      " 0   user_id              45670 non-null  int64  \n",
      " 1   date                 45670 non-null  object \n",
      " 2   direction            45670 non-null  object \n",
      " 3   internal             45670 non-null  object \n",
      " 4   operator_id          45670 non-null  float64\n",
      " 5   is_missed_call       45670 non-null  bool   \n",
      " 6   calls_count          45670 non-null  int64  \n",
      " 7   call_duration        45670 non-null  int64  \n",
      " 8   total_call_duration  45670 non-null  int64  \n",
      "dtypes: bool(1), float64(1), int64(4), object(3)\n",
      "memory usage: 3.2+ MB\n"
     ]
    }
   ],
   "source": [
    "dataset.dropna(subset = ['internal'], inplace = True)\n",
    "\n",
    "dataset.info()"
   ]
  },
  {
   "cell_type": "markdown",
   "metadata": {},
   "source": [
    "Отлично, пропусков не осталось.<br>\n",
    "\n",
    "Теперь исправим типы данных:"
   ]
  },
  {
   "cell_type": "code",
   "execution_count": 13,
   "metadata": {},
   "outputs": [
    {
     "name": "stdout",
     "output_type": "stream",
     "text": [
      "<class 'pandas.core.frame.DataFrame'>\n",
      "Int64Index: 45670 entries, 1 to 53900\n",
      "Data columns (total 9 columns):\n",
      " #   Column               Non-Null Count  Dtype         \n",
      "---  ------               --------------  -----         \n",
      " 0   user_id              45670 non-null  int64         \n",
      " 1   date                 45670 non-null  datetime64[ns]\n",
      " 2   direction            45670 non-null  object        \n",
      " 3   internal             45670 non-null  bool          \n",
      " 4   operator_id          45670 non-null  int64         \n",
      " 5   is_missed_call       45670 non-null  bool          \n",
      " 6   calls_count          45670 non-null  int64         \n",
      " 7   call_duration        45670 non-null  int64         \n",
      " 8   total_call_duration  45670 non-null  int64         \n",
      "dtypes: bool(2), datetime64[ns](1), int64(5), object(1)\n",
      "memory usage: 2.9+ MB\n"
     ]
    },
    {
     "data": {
      "text/html": [
       "<div>\n",
       "<style scoped>\n",
       "    .dataframe tbody tr th:only-of-type {\n",
       "        vertical-align: middle;\n",
       "    }\n",
       "\n",
       "    .dataframe tbody tr th {\n",
       "        vertical-align: top;\n",
       "    }\n",
       "\n",
       "    .dataframe thead th {\n",
       "        text-align: right;\n",
       "    }\n",
       "</style>\n",
       "<table border=\"1\" class=\"dataframe\">\n",
       "  <thead>\n",
       "    <tr style=\"text-align: right;\">\n",
       "      <th></th>\n",
       "      <th>user_id</th>\n",
       "      <th>date</th>\n",
       "      <th>direction</th>\n",
       "      <th>internal</th>\n",
       "      <th>operator_id</th>\n",
       "      <th>is_missed_call</th>\n",
       "      <th>calls_count</th>\n",
       "      <th>call_duration</th>\n",
       "      <th>total_call_duration</th>\n",
       "    </tr>\n",
       "  </thead>\n",
       "  <tbody>\n",
       "    <tr>\n",
       "      <th>1</th>\n",
       "      <td>166377</td>\n",
       "      <td>2019-08-05</td>\n",
       "      <td>out</td>\n",
       "      <td>True</td>\n",
       "      <td>880022</td>\n",
       "      <td>True</td>\n",
       "      <td>3</td>\n",
       "      <td>0</td>\n",
       "      <td>5</td>\n",
       "    </tr>\n",
       "    <tr>\n",
       "      <th>2</th>\n",
       "      <td>166377</td>\n",
       "      <td>2019-08-05</td>\n",
       "      <td>out</td>\n",
       "      <td>True</td>\n",
       "      <td>880020</td>\n",
       "      <td>True</td>\n",
       "      <td>1</td>\n",
       "      <td>0</td>\n",
       "      <td>1</td>\n",
       "    </tr>\n",
       "    <tr>\n",
       "      <th>3</th>\n",
       "      <td>166377</td>\n",
       "      <td>2019-08-05</td>\n",
       "      <td>out</td>\n",
       "      <td>True</td>\n",
       "      <td>880020</td>\n",
       "      <td>False</td>\n",
       "      <td>1</td>\n",
       "      <td>10</td>\n",
       "      <td>18</td>\n",
       "    </tr>\n",
       "    <tr>\n",
       "      <th>4</th>\n",
       "      <td>166377</td>\n",
       "      <td>2019-08-05</td>\n",
       "      <td>out</td>\n",
       "      <td>False</td>\n",
       "      <td>880022</td>\n",
       "      <td>True</td>\n",
       "      <td>3</td>\n",
       "      <td>0</td>\n",
       "      <td>25</td>\n",
       "    </tr>\n",
       "    <tr>\n",
       "      <th>5</th>\n",
       "      <td>166377</td>\n",
       "      <td>2019-08-05</td>\n",
       "      <td>out</td>\n",
       "      <td>False</td>\n",
       "      <td>880020</td>\n",
       "      <td>False</td>\n",
       "      <td>2</td>\n",
       "      <td>3</td>\n",
       "      <td>29</td>\n",
       "    </tr>\n",
       "  </tbody>\n",
       "</table>\n",
       "</div>"
      ],
      "text/plain": [
       "   user_id       date direction  internal  operator_id  is_missed_call  \\\n",
       "1   166377 2019-08-05       out      True       880022            True   \n",
       "2   166377 2019-08-05       out      True       880020            True   \n",
       "3   166377 2019-08-05       out      True       880020           False   \n",
       "4   166377 2019-08-05       out     False       880022            True   \n",
       "5   166377 2019-08-05       out     False       880020           False   \n",
       "\n",
       "   calls_count  call_duration  total_call_duration  \n",
       "1            3              0                    5  \n",
       "2            1              0                    1  \n",
       "3            1             10                   18  \n",
       "4            3              0                   25  \n",
       "5            2              3                   29  "
      ]
     },
     "execution_count": 13,
     "metadata": {},
     "output_type": "execute_result"
    }
   ],
   "source": [
    "# Столбец с датой\n",
    "# заодно уберём ненужные нулевые значения времени, оставим только дату\n",
    "dataset['date'] = pd.to_datetime(dataset['date'])\n",
    "dataset['date'] = dataset['date'].dt.date\n",
    "dataset['date'] = pd.to_datetime(dataset['date'])\n",
    "\n",
    "# Поменяем тип на целочисленные значения 'int' \n",
    "dataset['operator_id'] = dataset['operator_id'].astype('int64')\n",
    "\n",
    "# Исправим столбец 'internal'\n",
    "dataset['internal'] = dataset['internal'].astype('bool')\n",
    "\n",
    "# Проверим\n",
    "dataset.info()\n",
    "dataset.head()"
   ]
  },
  {
   "cell_type": "code",
   "execution_count": 14,
   "metadata": {},
   "outputs": [
    {
     "data": {
      "text/plain": [
       "4179"
      ]
     },
     "execution_count": 14,
     "metadata": {},
     "output_type": "execute_result"
    }
   ],
   "source": [
    "# А что у нас теперь с дубликатами?\n",
    "\n",
    "dataset.duplicated().sum()"
   ]
  },
  {
   "cell_type": "markdown",
   "metadata": {},
   "source": [
    "Много, почти 10% от общего числа строк, удаляем."
   ]
  },
  {
   "cell_type": "code",
   "execution_count": 15,
   "metadata": {},
   "outputs": [
    {
     "name": "stdout",
     "output_type": "stream",
     "text": [
      "<class 'pandas.core.frame.DataFrame'>\n",
      "Int64Index: 41491 entries, 1 to 53899\n",
      "Data columns (total 9 columns):\n",
      " #   Column               Non-Null Count  Dtype         \n",
      "---  ------               --------------  -----         \n",
      " 0   user_id              41491 non-null  int64         \n",
      " 1   date                 41491 non-null  datetime64[ns]\n",
      " 2   direction            41491 non-null  object        \n",
      " 3   internal             41491 non-null  bool          \n",
      " 4   operator_id          41491 non-null  int64         \n",
      " 5   is_missed_call       41491 non-null  bool          \n",
      " 6   calls_count          41491 non-null  int64         \n",
      " 7   call_duration        41491 non-null  int64         \n",
      " 8   total_call_duration  41491 non-null  int64         \n",
      "dtypes: bool(2), datetime64[ns](1), int64(5), object(1)\n",
      "memory usage: 2.6+ MB\n"
     ]
    }
   ],
   "source": [
    "dataset.drop_duplicates(inplace = True)\n",
    "\n",
    "dataset.info()"
   ]
  },
  {
   "cell_type": "markdown",
   "metadata": {},
   "source": [
    "#### Вывод по предобработке"
   ]
  },
  {
   "cell_type": "markdown",
   "metadata": {},
   "source": [
    "В файле 'clients' только поменяли тип данных на 'дату' в колонке 'date_start'.<br>\n",
    "\n",
    "В файле 'dataset' изменений больше:\n",
    "\n",
    " - удалили строки с пропусками в столбцах 'operator_id' (15% от общего количества строк) и 'internal' (менее 1% от общего количества),\n",
    " - поменяли типы данных: 'date' на 'дату', 'operator_id' - на целочисленные значения 'int', 'internal' на 'bool',\n",
    " - удалили дубликаты (почти 10% от общего числа строк).\n",
    "\n",
    "Названия столбцов не требуют исправлений в обоих файлах.<br>\n",
    "\n",
    "Теперь можно приступать к исследовательскому анализу."
   ]
  },
  {
   "cell_type": "markdown",
   "metadata": {},
   "source": [
    "### Исследовательский анализ данных"
   ]
  },
  {
   "cell_type": "markdown",
   "metadata": {},
   "source": [
    "Есть ощущение, что удобнее будет объединить данные двух файлов, чтобы не метаться от одного к другому.<br>\n",
    "Пусть все данные будут в одном общем датафрейме."
   ]
  },
  {
   "cell_type": "code",
   "execution_count": 16,
   "metadata": {},
   "outputs": [
    {
     "name": "stdout",
     "output_type": "stream",
     "text": [
      "<class 'pandas.core.frame.DataFrame'>\n",
      "Int64Index: 41491 entries, 0 to 41490\n",
      "Data columns (total 11 columns):\n",
      " #   Column               Non-Null Count  Dtype         \n",
      "---  ------               --------------  -----         \n",
      " 0   user_id              41491 non-null  int64         \n",
      " 1   date                 41491 non-null  datetime64[ns]\n",
      " 2   direction            41491 non-null  object        \n",
      " 3   internal             41491 non-null  bool          \n",
      " 4   operator_id          41491 non-null  int64         \n",
      " 5   is_missed_call       41491 non-null  bool          \n",
      " 6   calls_count          41491 non-null  int64         \n",
      " 7   call_duration        41491 non-null  int64         \n",
      " 8   total_call_duration  41491 non-null  int64         \n",
      " 9   tariff_plan          41491 non-null  object        \n",
      " 10  date_start           41491 non-null  datetime64[ns]\n",
      "dtypes: bool(2), datetime64[ns](2), int64(5), object(2)\n",
      "memory usage: 3.2+ MB\n"
     ]
    },
    {
     "data": {
      "text/html": [
       "<div>\n",
       "<style scoped>\n",
       "    .dataframe tbody tr th:only-of-type {\n",
       "        vertical-align: middle;\n",
       "    }\n",
       "\n",
       "    .dataframe tbody tr th {\n",
       "        vertical-align: top;\n",
       "    }\n",
       "\n",
       "    .dataframe thead th {\n",
       "        text-align: right;\n",
       "    }\n",
       "</style>\n",
       "<table border=\"1\" class=\"dataframe\">\n",
       "  <thead>\n",
       "    <tr style=\"text-align: right;\">\n",
       "      <th></th>\n",
       "      <th>user_id</th>\n",
       "      <th>date</th>\n",
       "      <th>direction</th>\n",
       "      <th>internal</th>\n",
       "      <th>operator_id</th>\n",
       "      <th>is_missed_call</th>\n",
       "      <th>calls_count</th>\n",
       "      <th>call_duration</th>\n",
       "      <th>total_call_duration</th>\n",
       "      <th>tariff_plan</th>\n",
       "      <th>date_start</th>\n",
       "    </tr>\n",
       "  </thead>\n",
       "  <tbody>\n",
       "    <tr>\n",
       "      <th>0</th>\n",
       "      <td>166377</td>\n",
       "      <td>2019-08-05</td>\n",
       "      <td>out</td>\n",
       "      <td>True</td>\n",
       "      <td>880022</td>\n",
       "      <td>True</td>\n",
       "      <td>3</td>\n",
       "      <td>0</td>\n",
       "      <td>5</td>\n",
       "      <td>B</td>\n",
       "      <td>2019-08-01</td>\n",
       "    </tr>\n",
       "    <tr>\n",
       "      <th>1</th>\n",
       "      <td>166377</td>\n",
       "      <td>2019-08-05</td>\n",
       "      <td>out</td>\n",
       "      <td>True</td>\n",
       "      <td>880020</td>\n",
       "      <td>True</td>\n",
       "      <td>1</td>\n",
       "      <td>0</td>\n",
       "      <td>1</td>\n",
       "      <td>B</td>\n",
       "      <td>2019-08-01</td>\n",
       "    </tr>\n",
       "    <tr>\n",
       "      <th>2</th>\n",
       "      <td>166377</td>\n",
       "      <td>2019-08-05</td>\n",
       "      <td>out</td>\n",
       "      <td>True</td>\n",
       "      <td>880020</td>\n",
       "      <td>False</td>\n",
       "      <td>1</td>\n",
       "      <td>10</td>\n",
       "      <td>18</td>\n",
       "      <td>B</td>\n",
       "      <td>2019-08-01</td>\n",
       "    </tr>\n",
       "    <tr>\n",
       "      <th>3</th>\n",
       "      <td>166377</td>\n",
       "      <td>2019-08-05</td>\n",
       "      <td>out</td>\n",
       "      <td>False</td>\n",
       "      <td>880022</td>\n",
       "      <td>True</td>\n",
       "      <td>3</td>\n",
       "      <td>0</td>\n",
       "      <td>25</td>\n",
       "      <td>B</td>\n",
       "      <td>2019-08-01</td>\n",
       "    </tr>\n",
       "    <tr>\n",
       "      <th>4</th>\n",
       "      <td>166377</td>\n",
       "      <td>2019-08-05</td>\n",
       "      <td>out</td>\n",
       "      <td>False</td>\n",
       "      <td>880020</td>\n",
       "      <td>False</td>\n",
       "      <td>2</td>\n",
       "      <td>3</td>\n",
       "      <td>29</td>\n",
       "      <td>B</td>\n",
       "      <td>2019-08-01</td>\n",
       "    </tr>\n",
       "  </tbody>\n",
       "</table>\n",
       "</div>"
      ],
      "text/plain": [
       "   user_id       date direction  internal  operator_id  is_missed_call  \\\n",
       "0   166377 2019-08-05       out      True       880022            True   \n",
       "1   166377 2019-08-05       out      True       880020            True   \n",
       "2   166377 2019-08-05       out      True       880020           False   \n",
       "3   166377 2019-08-05       out     False       880022            True   \n",
       "4   166377 2019-08-05       out     False       880020           False   \n",
       "\n",
       "   calls_count  call_duration  total_call_duration tariff_plan date_start  \n",
       "0            3              0                    5           B 2019-08-01  \n",
       "1            1              0                    1           B 2019-08-01  \n",
       "2            1             10                   18           B 2019-08-01  \n",
       "3            3              0                   25           B 2019-08-01  \n",
       "4            2              3                   29           B 2019-08-01  "
      ]
     },
     "execution_count": 16,
     "metadata": {},
     "output_type": "execute_result"
    }
   ],
   "source": [
    "# Объединённому датафрейму присвоим привычное название df\n",
    "# Выберем режим объединения 'left', чтобы в результате слияния обязательно вошли все строки из левого датафрейма:\n",
    "\n",
    "df = dataset.merge(clients, on='user_id', how='left')\n",
    "\n",
    "df.info()\n",
    "\n",
    "df.head()"
   ]
  },
  {
   "cell_type": "markdown",
   "metadata": {},
   "source": [
    "Отлично, дальше работаем с df."
   ]
  },
  {
   "cell_type": "markdown",
   "metadata": {},
   "source": [
    "#### Специализация колл-центров\n",
    "Разделим колл-центры на 3 категории: \n",
    " - на исходящих звонках, \n",
    " - входящих, или\n",
    " - совместно входящих и исходящих.\n",
    " \n",
    "Также посмотрим, каких больше."
   ]
  },
  {
   "cell_type": "code",
   "execution_count": 17,
   "metadata": {},
   "outputs": [
    {
     "data": {
      "text/html": [
       "<div>\n",
       "<style scoped>\n",
       "    .dataframe tbody tr th:only-of-type {\n",
       "        vertical-align: middle;\n",
       "    }\n",
       "\n",
       "    .dataframe tbody tr th {\n",
       "        vertical-align: top;\n",
       "    }\n",
       "\n",
       "    .dataframe thead th {\n",
       "        text-align: right;\n",
       "    }\n",
       "</style>\n",
       "<table border=\"1\" class=\"dataframe\">\n",
       "  <thead>\n",
       "    <tr style=\"text-align: right;\">\n",
       "      <th>direction</th>\n",
       "      <th>tariff_plan</th>\n",
       "      <th>user_id</th>\n",
       "      <th>operator_id</th>\n",
       "      <th>date</th>\n",
       "      <th>calls_count</th>\n",
       "      <th>in</th>\n",
       "      <th>out</th>\n",
       "    </tr>\n",
       "  </thead>\n",
       "  <tbody>\n",
       "    <tr>\n",
       "      <th>0</th>\n",
       "      <td>A</td>\n",
       "      <td>166407</td>\n",
       "      <td>888532</td>\n",
       "      <td>2019-08-20</td>\n",
       "      <td>1</td>\n",
       "      <td>NaN</td>\n",
       "      <td>16.0</td>\n",
       "    </tr>\n",
       "    <tr>\n",
       "      <th>1</th>\n",
       "      <td>A</td>\n",
       "      <td>166407</td>\n",
       "      <td>888532</td>\n",
       "      <td>2019-08-26</td>\n",
       "      <td>1</td>\n",
       "      <td>22.0</td>\n",
       "      <td>NaN</td>\n",
       "    </tr>\n",
       "    <tr>\n",
       "      <th>2</th>\n",
       "      <td>A</td>\n",
       "      <td>166407</td>\n",
       "      <td>888532</td>\n",
       "      <td>2019-09-09</td>\n",
       "      <td>6</td>\n",
       "      <td>NaN</td>\n",
       "      <td>22.0</td>\n",
       "    </tr>\n",
       "    <tr>\n",
       "      <th>3</th>\n",
       "      <td>A</td>\n",
       "      <td>166407</td>\n",
       "      <td>888532</td>\n",
       "      <td>2019-09-10</td>\n",
       "      <td>2</td>\n",
       "      <td>242.0</td>\n",
       "      <td>NaN</td>\n",
       "    </tr>\n",
       "    <tr>\n",
       "      <th>4</th>\n",
       "      <td>A</td>\n",
       "      <td>166407</td>\n",
       "      <td>888532</td>\n",
       "      <td>2019-09-11</td>\n",
       "      <td>1</td>\n",
       "      <td>39.0</td>\n",
       "      <td>NaN</td>\n",
       "    </tr>\n",
       "  </tbody>\n",
       "</table>\n",
       "</div>"
      ],
      "text/plain": [
       "direction tariff_plan  user_id  operator_id       date  calls_count     in  \\\n",
       "0                   A   166407       888532 2019-08-20            1    NaN   \n",
       "1                   A   166407       888532 2019-08-26            1   22.0   \n",
       "2                   A   166407       888532 2019-09-09            6    NaN   \n",
       "3                   A   166407       888532 2019-09-10            2  242.0   \n",
       "4                   A   166407       888532 2019-09-11            1   39.0   \n",
       "\n",
       "direction   out  \n",
       "0          16.0  \n",
       "1           NaN  \n",
       "2          22.0  \n",
       "3           NaN  \n",
       "4           NaN  "
      ]
     },
     "execution_count": 17,
     "metadata": {},
     "output_type": "execute_result"
    }
   ],
   "source": [
    "# Создадим сводную таблицу по категориям\n",
    "df_call_type_pivot = df.pivot_table(index=['tariff_plan','user_id','operator_id','date','calls_count'], \n",
    "    columns='direction', values='total_call_duration', aggfunc='sum').reset_index()\n",
    "\n",
    "df_call_type_pivot.head()"
   ]
  },
  {
   "cell_type": "code",
   "execution_count": 18,
   "metadata": {
    "scrolled": true
   },
   "outputs": [],
   "source": [
    "# Заменим NaN в сводной таблице на нули.\n",
    "df_call_type_pivot = df_call_type_pivot.fillna(0)\n",
    "\n",
    "# Заодно добавим столбцы с долями входящих и исходящих звонков,\n",
    "# далее это пригодится чтобы посмотреть статистику длительности звонков операторов (в разбивке на входящие и исходящие вызовы)\n",
    "\n",
    "df_call_type_pivot['call_in_%'] = df_call_type_pivot['in'] / (df_call_type_pivot['in'] + df_call_type_pivot['out']) * 100\n",
    "df_call_type_pivot['call_out_%'] = df_call_type_pivot['out'] / (df_call_type_pivot['in'] + df_call_type_pivot['out']) * 100"
   ]
  },
  {
   "cell_type": "markdown",
   "metadata": {},
   "source": [
    "Посмотрим на статистику распределения методом describe"
   ]
  },
  {
   "cell_type": "code",
   "execution_count": 19,
   "metadata": {},
   "outputs": [
    {
     "data": {
      "text/plain": [
       "count    38378.000000\n",
       "mean       280.091511\n",
       "std        998.591990\n",
       "min          0.000000\n",
       "25%          0.000000\n",
       "50%          0.000000\n",
       "75%         89.000000\n",
       "max      34280.000000\n",
       "Name: in, dtype: float64"
      ]
     },
     "execution_count": 19,
     "metadata": {},
     "output_type": "execute_result"
    }
   ],
   "source": [
    "df_call_type_pivot['in'].describe()"
   ]
  },
  {
   "cell_type": "code",
   "execution_count": 19,
   "metadata": {},
   "outputs": [
    {
     "data": {
      "text/plain": [
       "count     38378.000000\n",
       "mean       1150.388217\n",
       "std        4930.296554\n",
       "min           0.000000\n",
       "25%           0.000000\n",
       "50%          98.000000\n",
       "75%         726.000000\n",
       "max      166155.000000\n",
       "Name: out, dtype: float64"
      ]
     },
     "execution_count": 19,
     "metadata": {},
     "output_type": "execute_result"
    }
   ],
   "source": [
    "df_call_type_pivot['out'].describe()"
   ]
  },
  {
   "cell_type": "code",
   "execution_count": 20,
   "metadata": {},
   "outputs": [
    {
     "data": {
      "text/html": [
       "<div>\n",
       "<style scoped>\n",
       "    .dataframe tbody tr th:only-of-type {\n",
       "        vertical-align: middle;\n",
       "    }\n",
       "\n",
       "    .dataframe tbody tr th {\n",
       "        vertical-align: top;\n",
       "    }\n",
       "\n",
       "    .dataframe thead th {\n",
       "        text-align: right;\n",
       "    }\n",
       "</style>\n",
       "<table border=\"1\" class=\"dataframe\">\n",
       "  <thead>\n",
       "    <tr style=\"text-align: right;\">\n",
       "      <th>direction</th>\n",
       "      <th>tariff_plan</th>\n",
       "      <th>user_id</th>\n",
       "      <th>operator_id</th>\n",
       "      <th>date</th>\n",
       "      <th>calls_count</th>\n",
       "      <th>in</th>\n",
       "      <th>out</th>\n",
       "      <th>call_in_%</th>\n",
       "      <th>call_out_%</th>\n",
       "      <th>call_in</th>\n",
       "      <th>call_out</th>\n",
       "    </tr>\n",
       "  </thead>\n",
       "  <tbody>\n",
       "    <tr>\n",
       "      <th>0</th>\n",
       "      <td>A</td>\n",
       "      <td>166407</td>\n",
       "      <td>888532</td>\n",
       "      <td>2019-08-20</td>\n",
       "      <td>1</td>\n",
       "      <td>0.00</td>\n",
       "      <td>16.00</td>\n",
       "      <td>0.00</td>\n",
       "      <td>100.00</td>\n",
       "      <td>False</td>\n",
       "      <td>True</td>\n",
       "    </tr>\n",
       "    <tr>\n",
       "      <th>1</th>\n",
       "      <td>A</td>\n",
       "      <td>166407</td>\n",
       "      <td>888532</td>\n",
       "      <td>2019-08-26</td>\n",
       "      <td>1</td>\n",
       "      <td>22.00</td>\n",
       "      <td>0.00</td>\n",
       "      <td>100.00</td>\n",
       "      <td>0.00</td>\n",
       "      <td>True</td>\n",
       "      <td>False</td>\n",
       "    </tr>\n",
       "    <tr>\n",
       "      <th>2</th>\n",
       "      <td>A</td>\n",
       "      <td>166407</td>\n",
       "      <td>888532</td>\n",
       "      <td>2019-09-09</td>\n",
       "      <td>6</td>\n",
       "      <td>0.00</td>\n",
       "      <td>22.00</td>\n",
       "      <td>0.00</td>\n",
       "      <td>100.00</td>\n",
       "      <td>False</td>\n",
       "      <td>True</td>\n",
       "    </tr>\n",
       "    <tr>\n",
       "      <th>3</th>\n",
       "      <td>A</td>\n",
       "      <td>166407</td>\n",
       "      <td>888532</td>\n",
       "      <td>2019-09-10</td>\n",
       "      <td>2</td>\n",
       "      <td>242.00</td>\n",
       "      <td>0.00</td>\n",
       "      <td>100.00</td>\n",
       "      <td>0.00</td>\n",
       "      <td>True</td>\n",
       "      <td>False</td>\n",
       "    </tr>\n",
       "    <tr>\n",
       "      <th>4</th>\n",
       "      <td>A</td>\n",
       "      <td>166407</td>\n",
       "      <td>888532</td>\n",
       "      <td>2019-09-11</td>\n",
       "      <td>1</td>\n",
       "      <td>39.00</td>\n",
       "      <td>0.00</td>\n",
       "      <td>100.00</td>\n",
       "      <td>0.00</td>\n",
       "      <td>True</td>\n",
       "      <td>False</td>\n",
       "    </tr>\n",
       "  </tbody>\n",
       "</table>\n",
       "</div>"
      ],
      "text/plain": [
       "direction tariff_plan  user_id  operator_id       date  calls_count     in  \\\n",
       "0                   A   166407       888532 2019-08-20            1   0.00   \n",
       "1                   A   166407       888532 2019-08-26            1  22.00   \n",
       "2                   A   166407       888532 2019-09-09            6   0.00   \n",
       "3                   A   166407       888532 2019-09-10            2 242.00   \n",
       "4                   A   166407       888532 2019-09-11            1  39.00   \n",
       "\n",
       "direction   out  call_in_%  call_out_%  call_in  call_out  \n",
       "0         16.00       0.00      100.00    False      True  \n",
       "1          0.00     100.00        0.00     True     False  \n",
       "2         22.00       0.00      100.00    False      True  \n",
       "3          0.00     100.00        0.00     True     False  \n",
       "4          0.00     100.00        0.00     True     False  "
      ]
     },
     "execution_count": 20,
     "metadata": {},
     "output_type": "execute_result"
    }
   ],
   "source": [
    "# Проведём категоризацию по 75 % перцентилю\n",
    "# Добавим новые столбцы в нашу сводную таблицу:\n",
    "\n",
    "df_call_type_pivot['call_in'] = df_call_type_pivot['call_in_%'] >= 75\n",
    "df_call_type_pivot['call_out'] = df_call_type_pivot['call_out_%'] >= 75\n",
    "\n",
    "# Настроим отображение дробных чисел с двумя знаками после точки\n",
    "pd.options.display.float_format='{:,.2f}'.format\n",
    "\n",
    "df_call_type_pivot.head()"
   ]
  },
  {
   "cell_type": "code",
   "execution_count": 21,
   "metadata": {},
   "outputs": [
    {
     "data": {
      "text/html": [
       "<div>\n",
       "<style scoped>\n",
       "    .dataframe tbody tr th:only-of-type {\n",
       "        vertical-align: middle;\n",
       "    }\n",
       "\n",
       "    .dataframe tbody tr th {\n",
       "        vertical-align: top;\n",
       "    }\n",
       "\n",
       "    .dataframe thead th {\n",
       "        text-align: right;\n",
       "    }\n",
       "</style>\n",
       "<table border=\"1\" class=\"dataframe\">\n",
       "  <thead>\n",
       "    <tr style=\"text-align: right;\">\n",
       "      <th>direction</th>\n",
       "      <th>tariff_plan</th>\n",
       "      <th>user_id</th>\n",
       "      <th>operator_id</th>\n",
       "      <th>date</th>\n",
       "      <th>calls_count</th>\n",
       "      <th>in</th>\n",
       "      <th>out</th>\n",
       "      <th>call_in_%</th>\n",
       "      <th>call_out_%</th>\n",
       "      <th>call_in</th>\n",
       "      <th>call_out</th>\n",
       "      <th>in_and_out_calls</th>\n",
       "    </tr>\n",
       "  </thead>\n",
       "  <tbody>\n",
       "    <tr>\n",
       "      <th>0</th>\n",
       "      <td>A</td>\n",
       "      <td>166407</td>\n",
       "      <td>888532</td>\n",
       "      <td>2019-08-20</td>\n",
       "      <td>1</td>\n",
       "      <td>0.00</td>\n",
       "      <td>16.00</td>\n",
       "      <td>0.00</td>\n",
       "      <td>100.00</td>\n",
       "      <td>0</td>\n",
       "      <td>1</td>\n",
       "      <td>0</td>\n",
       "    </tr>\n",
       "    <tr>\n",
       "      <th>1</th>\n",
       "      <td>A</td>\n",
       "      <td>166407</td>\n",
       "      <td>888532</td>\n",
       "      <td>2019-08-26</td>\n",
       "      <td>1</td>\n",
       "      <td>22.00</td>\n",
       "      <td>0.00</td>\n",
       "      <td>100.00</td>\n",
       "      <td>0.00</td>\n",
       "      <td>1</td>\n",
       "      <td>0</td>\n",
       "      <td>0</td>\n",
       "    </tr>\n",
       "    <tr>\n",
       "      <th>2</th>\n",
       "      <td>A</td>\n",
       "      <td>166407</td>\n",
       "      <td>888532</td>\n",
       "      <td>2019-09-09</td>\n",
       "      <td>6</td>\n",
       "      <td>0.00</td>\n",
       "      <td>22.00</td>\n",
       "      <td>0.00</td>\n",
       "      <td>100.00</td>\n",
       "      <td>0</td>\n",
       "      <td>1</td>\n",
       "      <td>0</td>\n",
       "    </tr>\n",
       "    <tr>\n",
       "      <th>3</th>\n",
       "      <td>A</td>\n",
       "      <td>166407</td>\n",
       "      <td>888532</td>\n",
       "      <td>2019-09-10</td>\n",
       "      <td>2</td>\n",
       "      <td>242.00</td>\n",
       "      <td>0.00</td>\n",
       "      <td>100.00</td>\n",
       "      <td>0.00</td>\n",
       "      <td>1</td>\n",
       "      <td>0</td>\n",
       "      <td>0</td>\n",
       "    </tr>\n",
       "    <tr>\n",
       "      <th>4</th>\n",
       "      <td>A</td>\n",
       "      <td>166407</td>\n",
       "      <td>888532</td>\n",
       "      <td>2019-09-11</td>\n",
       "      <td>1</td>\n",
       "      <td>39.00</td>\n",
       "      <td>0.00</td>\n",
       "      <td>100.00</td>\n",
       "      <td>0.00</td>\n",
       "      <td>1</td>\n",
       "      <td>0</td>\n",
       "      <td>0</td>\n",
       "    </tr>\n",
       "  </tbody>\n",
       "</table>\n",
       "</div>"
      ],
      "text/plain": [
       "direction tariff_plan  user_id  operator_id       date  calls_count     in  \\\n",
       "0                   A   166407       888532 2019-08-20            1   0.00   \n",
       "1                   A   166407       888532 2019-08-26            1  22.00   \n",
       "2                   A   166407       888532 2019-09-09            6   0.00   \n",
       "3                   A   166407       888532 2019-09-10            2 242.00   \n",
       "4                   A   166407       888532 2019-09-11            1  39.00   \n",
       "\n",
       "direction   out  call_in_%  call_out_%  call_in  call_out  in_and_out_calls  \n",
       "0         16.00       0.00      100.00        0         1                 0  \n",
       "1          0.00     100.00        0.00        1         0                 0  \n",
       "2         22.00       0.00      100.00        0         1                 0  \n",
       "3          0.00     100.00        0.00        1         0                 0  \n",
       "4          0.00     100.00        0.00        1         0                 0  "
      ]
     },
     "execution_count": 21,
     "metadata": {},
     "output_type": "execute_result"
    }
   ],
   "source": [
    "# Ещё добавим столбец со смешанными вызовами\n",
    "df_call_type_pivot['in_and_out_calls'] = 1 - df_call_type_pivot['call_in'] - df_call_type_pivot['call_out'] \n",
    "\n",
    "# Также, для однообразия поменяем значения False на 0, а True на 1.\n",
    "df_call_type_pivot = df_call_type_pivot.replace(False, 0)   \n",
    "df_call_type_pivot = df_call_type_pivot.replace(True, 1)    \n",
    "\n",
    "df_call_type_pivot.head()"
   ]
  },
  {
   "cell_type": "code",
   "execution_count": 22,
   "metadata": {},
   "outputs": [
    {
     "data": {
      "text/html": [
       "<div>\n",
       "<style scoped>\n",
       "    .dataframe tbody tr th:only-of-type {\n",
       "        vertical-align: middle;\n",
       "    }\n",
       "\n",
       "    .dataframe tbody tr th {\n",
       "        vertical-align: top;\n",
       "    }\n",
       "\n",
       "    .dataframe thead th {\n",
       "        text-align: right;\n",
       "    }\n",
       "</style>\n",
       "<table border=\"1\" class=\"dataframe\">\n",
       "  <thead>\n",
       "    <tr style=\"text-align: right;\">\n",
       "      <th>direction</th>\n",
       "      <th>call_in</th>\n",
       "      <th>call_out</th>\n",
       "      <th>in_and_out_calls</th>\n",
       "    </tr>\n",
       "  </thead>\n",
       "  <tbody>\n",
       "    <tr>\n",
       "      <th>0</th>\n",
       "      <td>0</td>\n",
       "      <td>1</td>\n",
       "      <td>0</td>\n",
       "    </tr>\n",
       "    <tr>\n",
       "      <th>1</th>\n",
       "      <td>1</td>\n",
       "      <td>0</td>\n",
       "      <td>0</td>\n",
       "    </tr>\n",
       "    <tr>\n",
       "      <th>2</th>\n",
       "      <td>0</td>\n",
       "      <td>1</td>\n",
       "      <td>0</td>\n",
       "    </tr>\n",
       "    <tr>\n",
       "      <th>3</th>\n",
       "      <td>1</td>\n",
       "      <td>0</td>\n",
       "      <td>0</td>\n",
       "    </tr>\n",
       "    <tr>\n",
       "      <th>4</th>\n",
       "      <td>1</td>\n",
       "      <td>0</td>\n",
       "      <td>0</td>\n",
       "    </tr>\n",
       "  </tbody>\n",
       "</table>\n",
       "</div>"
      ],
      "text/plain": [
       "direction  call_in  call_out  in_and_out_calls\n",
       "0                0         1                 0\n",
       "1                1         0                 0\n",
       "2                0         1                 0\n",
       "3                1         0                 0\n",
       "4                1         0                 0"
      ]
     },
     "execution_count": 22,
     "metadata": {},
     "output_type": "execute_result"
    }
   ],
   "source": [
    "# Отделим в сводной таблице только новые столбцы с типами звонков и построим график\n",
    "call_type_pivot = df_call_type_pivot[['call_in', 'call_out', 'in_and_out_calls']]\n",
    "\n",
    "call_type_pivot.head()"
   ]
  },
  {
   "cell_type": "code",
   "execution_count": 23,
   "metadata": {},
   "outputs": [
    {
     "data": {
      "text/plain": [
       "Text(0, 0.5, 'Количество звонков')"
      ]
     },
     "execution_count": 23,
     "metadata": {},
     "output_type": "execute_result"
    },
    {
     "data": {
      "image/png": "[encoded data removed]",
      "text/plain": [
       "<Figure size 432x288 with 1 Axes>"
      ]
     },
     "metadata": {
      "needs_background": "light"
     },
     "output_type": "display_data"
    }
   ],
   "source": [
    "call_type_pivot.sum().plot(kind='bar')\n",
    "plt.title('Распределение входящих, исходящих и смешанных звонков')\n",
    "plt.xlabel('Тип звонка')\n",
    "plt.xticks(rotation=0)\n",
    "plt.ylabel('Количество звонков')"
   ]
  },
  {
   "cell_type": "markdown",
   "metadata": {},
   "source": [
    "Итак, исходящих звонков больше всего, а количество в смешанном типе минимальное."
   ]
  },
  {
   "cell_type": "markdown",
   "metadata": {},
   "source": [
    "#### Длительность исследуемого периода\n",
    "Изучим даты, за которые у нас есть данные."
   ]
  },
  {
   "cell_type": "code",
   "execution_count": 24,
   "metadata": {},
   "outputs": [
    {
     "name": "stdout",
     "output_type": "stream",
     "text": [
      "Исследуемый период: с 2019-08-02 00:00:00 до 2019-11-28 00:00:00, количество дней: 118 days 00:00:00.\n"
     ]
    }
   ],
   "source": [
    "# Выясним минимальную и максимальную дату исследуемого периода\n",
    "first_date = df['date'].min()\n",
    "last_date = df['date'].max()\n",
    "\n",
    "# Посчитаем величину периода\n",
    "diff = last_date - first_date\n",
    "\n",
    "print('Исследуемый период: с %s до %s, количество дней: %s.' % (first_date, last_date, diff))"
   ]
  },
  {
   "cell_type": "markdown",
   "metadata": {},
   "source": [
    "Значит, у нас данные за примерно 3 месяца наблюдений.<br>\n",
    "\n",
    "Теперь вытащим отдельно дни недели из столбца 'date' и проанализируем количество звонков по дням."
   ]
  },
  {
   "cell_type": "code",
   "execution_count": 25,
   "metadata": {},
   "outputs": [
    {
     "data": {
      "text/html": [
       "<div>\n",
       "<style scoped>\n",
       "    .dataframe tbody tr th:only-of-type {\n",
       "        vertical-align: middle;\n",
       "    }\n",
       "\n",
       "    .dataframe tbody tr th {\n",
       "        vertical-align: top;\n",
       "    }\n",
       "\n",
       "    .dataframe thead th {\n",
       "        text-align: right;\n",
       "    }\n",
       "</style>\n",
       "<table border=\"1\" class=\"dataframe\">\n",
       "  <thead>\n",
       "    <tr style=\"text-align: right;\">\n",
       "      <th></th>\n",
       "      <th>user_id</th>\n",
       "      <th>date</th>\n",
       "      <th>direction</th>\n",
       "      <th>internal</th>\n",
       "      <th>operator_id</th>\n",
       "      <th>is_missed_call</th>\n",
       "      <th>calls_count</th>\n",
       "      <th>call_duration</th>\n",
       "      <th>total_call_duration</th>\n",
       "      <th>tariff_plan</th>\n",
       "      <th>date_start</th>\n",
       "      <th>day</th>\n",
       "      <th>weekday</th>\n",
       "    </tr>\n",
       "  </thead>\n",
       "  <tbody>\n",
       "    <tr>\n",
       "      <th>0</th>\n",
       "      <td>166377</td>\n",
       "      <td>2019-08-05</td>\n",
       "      <td>out</td>\n",
       "      <td>True</td>\n",
       "      <td>880022</td>\n",
       "      <td>True</td>\n",
       "      <td>3</td>\n",
       "      <td>0</td>\n",
       "      <td>5</td>\n",
       "      <td>B</td>\n",
       "      <td>2019-08-01</td>\n",
       "      <td>5</td>\n",
       "      <td>Monday</td>\n",
       "    </tr>\n",
       "    <tr>\n",
       "      <th>1</th>\n",
       "      <td>166377</td>\n",
       "      <td>2019-08-05</td>\n",
       "      <td>out</td>\n",
       "      <td>True</td>\n",
       "      <td>880020</td>\n",
       "      <td>True</td>\n",
       "      <td>1</td>\n",
       "      <td>0</td>\n",
       "      <td>1</td>\n",
       "      <td>B</td>\n",
       "      <td>2019-08-01</td>\n",
       "      <td>5</td>\n",
       "      <td>Monday</td>\n",
       "    </tr>\n",
       "    <tr>\n",
       "      <th>2</th>\n",
       "      <td>166377</td>\n",
       "      <td>2019-08-05</td>\n",
       "      <td>out</td>\n",
       "      <td>True</td>\n",
       "      <td>880020</td>\n",
       "      <td>False</td>\n",
       "      <td>1</td>\n",
       "      <td>10</td>\n",
       "      <td>18</td>\n",
       "      <td>B</td>\n",
       "      <td>2019-08-01</td>\n",
       "      <td>5</td>\n",
       "      <td>Monday</td>\n",
       "    </tr>\n",
       "    <tr>\n",
       "      <th>3</th>\n",
       "      <td>166377</td>\n",
       "      <td>2019-08-05</td>\n",
       "      <td>out</td>\n",
       "      <td>False</td>\n",
       "      <td>880022</td>\n",
       "      <td>True</td>\n",
       "      <td>3</td>\n",
       "      <td>0</td>\n",
       "      <td>25</td>\n",
       "      <td>B</td>\n",
       "      <td>2019-08-01</td>\n",
       "      <td>5</td>\n",
       "      <td>Monday</td>\n",
       "    </tr>\n",
       "    <tr>\n",
       "      <th>4</th>\n",
       "      <td>166377</td>\n",
       "      <td>2019-08-05</td>\n",
       "      <td>out</td>\n",
       "      <td>False</td>\n",
       "      <td>880020</td>\n",
       "      <td>False</td>\n",
       "      <td>2</td>\n",
       "      <td>3</td>\n",
       "      <td>29</td>\n",
       "      <td>B</td>\n",
       "      <td>2019-08-01</td>\n",
       "      <td>5</td>\n",
       "      <td>Monday</td>\n",
       "    </tr>\n",
       "  </tbody>\n",
       "</table>\n",
       "</div>"
      ],
      "text/plain": [
       "   user_id       date direction  internal  operator_id  is_missed_call  \\\n",
       "0   166377 2019-08-05       out      True       880022            True   \n",
       "1   166377 2019-08-05       out      True       880020            True   \n",
       "2   166377 2019-08-05       out      True       880020           False   \n",
       "3   166377 2019-08-05       out     False       880022            True   \n",
       "4   166377 2019-08-05       out     False       880020           False   \n",
       "\n",
       "   calls_count  call_duration  total_call_duration tariff_plan date_start  \\\n",
       "0            3              0                    5           B 2019-08-01   \n",
       "1            1              0                    1           B 2019-08-01   \n",
       "2            1             10                   18           B 2019-08-01   \n",
       "3            3              0                   25           B 2019-08-01   \n",
       "4            2              3                   29           B 2019-08-01   \n",
       "\n",
       "   day weekday  \n",
       "0    5  Monday  \n",
       "1    5  Monday  \n",
       "2    5  Monday  \n",
       "3    5  Monday  \n",
       "4    5  Monday  "
      ]
     },
     "execution_count": 25,
     "metadata": {},
     "output_type": "execute_result"
    }
   ],
   "source": [
    "df['day'] = pd.DatetimeIndex(df['date']).day\n",
    "df['weekday'] = df['date'].dt.day_name()\n",
    "df.head()"
   ]
  },
  {
   "cell_type": "markdown",
   "metadata": {},
   "source": [
    "<a id='calls_by_weekday'></a>\n",
    "Построим график распределения звонков по дням недели, заодно добавим разбивку на входящие и исходящие"
   ]
  },
  {
   "cell_type": "code",
   "execution_count": 26,
   "metadata": {},
   "outputs": [
    {
     "data": {
      "text/plain": [
       "Text(0, 0.5, 'Количество звонков')"
      ]
     },
     "execution_count": 26,
     "metadata": {},
     "output_type": "execute_result"
    },
    {
     "data": {
      "image/png": "[encoded data removed]",
      "text/plain": [
       "<Figure size 864x504 with 1 Axes>"
      ]
     },
     "metadata": {
      "needs_background": "light"
     },
     "output_type": "display_data"
    }
   ],
   "source": [
    "plt.figure(figsize=(12, 7))\n",
    "ax = sns.histplot(df, x='weekday', hue='direction', multiple='stack')\n",
    "plt.xticks(['Sunday', 'Monday', 'Tuesday', 'Wednesday','Thursday', 'Friday','Saturday'],\n",
    "           ['Воскресенье', 'Понедельник', 'Вторник', 'Среда', 'Четверг', 'Пятница','Суббота'])\n",
    "ax.axes.set_title('Распределение количества звонков по дням недели')\n",
    "ax.set_xlabel('')\n",
    "ax.set_ylabel('Количество звонков')"
   ]
  },
  {
   "cell_type": "markdown",
   "metadata": {},
   "source": [
    "Пиковый результат - по четвергам, а в выходные звонков в разы меньше.<br>\n",
    "Как мы уже знаем, исходящих звонков в целом больше, чем входящих. Теперь видно, что это справедливо для каждого дня недели."
   ]
  },
  {
   "cell_type": "markdown",
   "metadata": {},
   "source": [
    "#### Количество операторов у клиентов\n",
    "Определим среднее и максимальное значения"
   ]
  },
  {
   "cell_type": "code",
   "execution_count": 28,
   "metadata": {},
   "outputs": [
    {
     "data": {
      "text/plain": [
       "290"
      ]
     },
     "execution_count": 28,
     "metadata": {},
     "output_type": "execute_result"
    }
   ],
   "source": [
    "# Посчитаем количество клиентов\n",
    "df['user_id'].nunique()"
   ]
  },
  {
   "cell_type": "code",
   "execution_count": 29,
   "metadata": {},
   "outputs": [
    {
     "data": {
      "text/plain": [
       "1092"
      ]
     },
     "execution_count": 29,
     "metadata": {},
     "output_type": "execute_result"
    }
   ],
   "source": [
    "# Посчитаем количество операторов\n",
    "df['operator_id'].nunique()"
   ]
  },
  {
   "cell_type": "markdown",
   "metadata": {},
   "source": [
    "В нашем датасете 290 уникальных значений клиентов и 1092 - операторов."
   ]
  },
  {
   "cell_type": "code",
   "execution_count": 30,
   "metadata": {},
   "outputs": [
    {
     "data": {
      "text/plain": [
       "count   290.00\n",
       "mean      3.77\n",
       "std       5.72\n",
       "min       1.00\n",
       "25%       1.00\n",
       "50%       2.00\n",
       "75%       4.00\n",
       "max      50.00\n",
       "Name: operator_id, dtype: float64"
      ]
     },
     "execution_count": 30,
     "metadata": {},
     "output_type": "execute_result"
    }
   ],
   "source": [
    "# Посмотрим статистику \n",
    "df.groupby('user_id')['operator_id'].nunique().describe()"
   ]
  },
  {
   "cell_type": "markdown",
   "metadata": {},
   "source": [
    "В среднем у каждого клиента по 3.8 оператора. <br>\n",
    "Максимальное значение - 50 операторов на клиента, многовато.\n",
    "\n",
    "Посмотрим на диаграмму размаха"
   ]
  },
  {
   "cell_type": "code",
   "execution_count": 31,
   "metadata": {
    "scrolled": true
   },
   "outputs": [
    {
     "data": {
      "text/plain": [
       "<AxesSubplot:>"
      ]
     },
     "execution_count": 31,
     "metadata": {},
     "output_type": "execute_result"
    },
    {
     "data": {
      "image/png": "[encoded data removed]",
      "text/plain": [
       "<Figure size 432x288 with 1 Axes>"
      ]
     },
     "metadata": {
      "needs_background": "light"
     },
     "output_type": "display_data"
    }
   ],
   "source": [
    "operators_count = df.groupby('user_id')['operator_id'].nunique().reset_index()\n",
    "operators_count.boxplot(column='operator_id')"
   ]
  },
  {
   "cell_type": "code",
   "execution_count": 32,
   "metadata": {
    "scrolled": true
   },
   "outputs": [
    {
     "data": {
      "text/plain": [
       "(0.0, 9.0)"
      ]
     },
     "execution_count": 32,
     "metadata": {},
     "output_type": "execute_result"
    },
    {
     "data": {
      "image/png": "[encoded data removed]",
      "text/plain": [
       "<Figure size 432x432 with 1 Axes>"
      ]
     },
     "metadata": {
      "needs_background": "light"
     },
     "output_type": "display_data"
    }
   ],
   "source": [
    "# Увеличим масштаб\n",
    "operators_count.boxplot(column='operator_id', figsize=(6,6))\n",
    "plt.ylim(0,9)"
   ]
  },
  {
   "cell_type": "code",
   "execution_count": 33,
   "metadata": {},
   "outputs": [
    {
     "data": {
      "text/plain": [
       "count   275.00\n",
       "mean      2.67\n",
       "std       2.10\n",
       "min       1.00\n",
       "25%       1.00\n",
       "50%       2.00\n",
       "75%       4.00\n",
       "max      12.00\n",
       "Name: operator_id, dtype: float64"
      ]
     },
     "execution_count": 33,
     "metadata": {},
     "output_type": "execute_result"
    }
   ],
   "source": [
    "# Избавимся от выбросов\n",
    "operators_count_clean = operators_count.query('operator_id <= operator_id.quantile(0.95)')\n",
    "operators_count_clean['operator_id'].describe()"
   ]
  },
  {
   "cell_type": "code",
   "execution_count": 34,
   "metadata": {},
   "outputs": [
    {
     "data": {
      "image/png": "[encoded data removed]",
      "text/plain": [
       "<Figure size 432x288 with 1 Axes>"
      ]
     },
     "metadata": {
      "needs_background": "light"
     },
     "output_type": "display_data"
    }
   ],
   "source": [
    "# Отобразим на графике\n",
    "sns.histplot(operators_count_clean['operator_id'])\n",
    "plt.title('Распределение операторов по клиентам')\n",
    "plt.xlabel('Количество операторов')\n",
    "plt.ylabel('Количество клиентов')\n",
    "\n",
    "plt.show()"
   ]
  },
  {
   "cell_type": "markdown",
   "metadata": {},
   "source": [
    "В итоге видим:\n",
    "\n",
    "- у большинства клиентов от 1 - 2 оператора.\n",
    "- максимальное количество операторов после удаления выбросов - 12."
   ]
  },
  {
   "cell_type": "markdown",
   "metadata": {},
   "source": [
    "#### Вывод по исследовательскому анализу данных\n",
    "\n",
    "- Исходящих звонков больше всего, затем по количеству идут входящие звонки, а в смешанном типе их минимум,\n",
    "- Больше всего звонков по четвергам, в выходные звонков в разы меньше,\n",
    "- У большинства клиентов 1 - 2 оператора, а максимальное количество операторов (после очистки от выбросов) - 12."
   ]
  },
  {
   "cell_type": "markdown",
   "metadata": {},
   "source": [
    "### Определение неэффективных операторов"
   ]
  },
  {
   "cell_type": "markdown",
   "metadata": {},
   "source": [
    "#### Первый критерий - количество пропущенных входящих звонков"
   ]
  },
  {
   "cell_type": "code",
   "execution_count": 35,
   "metadata": {},
   "outputs": [
    {
     "data": {
      "text/html": [
       "<div>\n",
       "<style scoped>\n",
       "    .dataframe tbody tr th:only-of-type {\n",
       "        vertical-align: middle;\n",
       "    }\n",
       "\n",
       "    .dataframe tbody tr th {\n",
       "        vertical-align: top;\n",
       "    }\n",
       "\n",
       "    .dataframe thead th {\n",
       "        text-align: right;\n",
       "    }\n",
       "</style>\n",
       "<table border=\"1\" class=\"dataframe\">\n",
       "  <thead>\n",
       "    <tr style=\"text-align: right;\">\n",
       "      <th></th>\n",
       "      <th>user_id</th>\n",
       "      <th>date</th>\n",
       "      <th>direction</th>\n",
       "      <th>internal</th>\n",
       "      <th>operator_id</th>\n",
       "      <th>is_missed_call</th>\n",
       "      <th>calls_count</th>\n",
       "      <th>call_duration</th>\n",
       "      <th>total_call_duration</th>\n",
       "      <th>tariff_plan</th>\n",
       "      <th>date_start</th>\n",
       "      <th>day</th>\n",
       "      <th>weekday</th>\n",
       "    </tr>\n",
       "  </thead>\n",
       "  <tbody>\n",
       "    <tr>\n",
       "      <th>0</th>\n",
       "      <td>166377</td>\n",
       "      <td>2019-08-05</td>\n",
       "      <td>out</td>\n",
       "      <td>True</td>\n",
       "      <td>880022</td>\n",
       "      <td>True</td>\n",
       "      <td>3</td>\n",
       "      <td>0</td>\n",
       "      <td>5</td>\n",
       "      <td>B</td>\n",
       "      <td>2019-08-01</td>\n",
       "      <td>5</td>\n",
       "      <td>Monday</td>\n",
       "    </tr>\n",
       "    <tr>\n",
       "      <th>1</th>\n",
       "      <td>166377</td>\n",
       "      <td>2019-08-05</td>\n",
       "      <td>out</td>\n",
       "      <td>True</td>\n",
       "      <td>880020</td>\n",
       "      <td>True</td>\n",
       "      <td>1</td>\n",
       "      <td>0</td>\n",
       "      <td>1</td>\n",
       "      <td>B</td>\n",
       "      <td>2019-08-01</td>\n",
       "      <td>5</td>\n",
       "      <td>Monday</td>\n",
       "    </tr>\n",
       "    <tr>\n",
       "      <th>2</th>\n",
       "      <td>166377</td>\n",
       "      <td>2019-08-05</td>\n",
       "      <td>out</td>\n",
       "      <td>True</td>\n",
       "      <td>880020</td>\n",
       "      <td>False</td>\n",
       "      <td>1</td>\n",
       "      <td>10</td>\n",
       "      <td>18</td>\n",
       "      <td>B</td>\n",
       "      <td>2019-08-01</td>\n",
       "      <td>5</td>\n",
       "      <td>Monday</td>\n",
       "    </tr>\n",
       "    <tr>\n",
       "      <th>3</th>\n",
       "      <td>166377</td>\n",
       "      <td>2019-08-05</td>\n",
       "      <td>out</td>\n",
       "      <td>False</td>\n",
       "      <td>880022</td>\n",
       "      <td>True</td>\n",
       "      <td>3</td>\n",
       "      <td>0</td>\n",
       "      <td>25</td>\n",
       "      <td>B</td>\n",
       "      <td>2019-08-01</td>\n",
       "      <td>5</td>\n",
       "      <td>Monday</td>\n",
       "    </tr>\n",
       "    <tr>\n",
       "      <th>4</th>\n",
       "      <td>166377</td>\n",
       "      <td>2019-08-05</td>\n",
       "      <td>out</td>\n",
       "      <td>False</td>\n",
       "      <td>880020</td>\n",
       "      <td>False</td>\n",
       "      <td>2</td>\n",
       "      <td>3</td>\n",
       "      <td>29</td>\n",
       "      <td>B</td>\n",
       "      <td>2019-08-01</td>\n",
       "      <td>5</td>\n",
       "      <td>Monday</td>\n",
       "    </tr>\n",
       "  </tbody>\n",
       "</table>\n",
       "</div>"
      ],
      "text/plain": [
       "   user_id       date direction  internal  operator_id  is_missed_call  \\\n",
       "0   166377 2019-08-05       out      True       880022            True   \n",
       "1   166377 2019-08-05       out      True       880020            True   \n",
       "2   166377 2019-08-05       out      True       880020           False   \n",
       "3   166377 2019-08-05       out     False       880022            True   \n",
       "4   166377 2019-08-05       out     False       880020           False   \n",
       "\n",
       "   calls_count  call_duration  total_call_duration tariff_plan date_start  \\\n",
       "0            3              0                    5           B 2019-08-01   \n",
       "1            1              0                    1           B 2019-08-01   \n",
       "2            1             10                   18           B 2019-08-01   \n",
       "3            3              0                   25           B 2019-08-01   \n",
       "4            2              3                   29           B 2019-08-01   \n",
       "\n",
       "   day weekday  \n",
       "0    5  Monday  \n",
       "1    5  Monday  \n",
       "2    5  Monday  \n",
       "3    5  Monday  \n",
       "4    5  Monday  "
      ]
     },
     "execution_count": 35,
     "metadata": {},
     "output_type": "execute_result"
    }
   ],
   "source": [
    "# Вспомним, как выглядят данные нашего объединённого датафрейма\n",
    "df.head()"
   ]
  },
  {
   "cell_type": "code",
   "execution_count": 37,
   "metadata": {},
   "outputs": [
    {
     "data": {
      "text/html": [
       "<div>\n",
       "<style scoped>\n",
       "    .dataframe tbody tr th:only-of-type {\n",
       "        vertical-align: middle;\n",
       "    }\n",
       "\n",
       "    .dataframe tbody tr th {\n",
       "        vertical-align: top;\n",
       "    }\n",
       "\n",
       "    .dataframe thead th {\n",
       "        text-align: right;\n",
       "    }\n",
       "</style>\n",
       "<table border=\"1\" class=\"dataframe\">\n",
       "  <thead>\n",
       "    <tr style=\"text-align: right;\">\n",
       "      <th></th>\n",
       "      <th>is_missed_call</th>\n",
       "      <th>calls_count</th>\n",
       "      <th>part_of_total, %</th>\n",
       "    </tr>\n",
       "  </thead>\n",
       "  <tbody>\n",
       "    <tr>\n",
       "      <th>0</th>\n",
       "      <td>False</td>\n",
       "      <td>429767</td>\n",
       "      <td>61.21</td>\n",
       "    </tr>\n",
       "    <tr>\n",
       "      <th>1</th>\n",
       "      <td>True</td>\n",
       "      <td>272318</td>\n",
       "      <td>38.79</td>\n",
       "    </tr>\n",
       "  </tbody>\n",
       "</table>\n",
       "</div>"
      ],
      "text/plain": [
       "   is_missed_call  calls_count  part_of_total, %\n",
       "0           False       429767             61.21\n",
       "1            True       272318             38.79"
      ]
     },
     "execution_count": 37,
     "metadata": {},
     "output_type": "execute_result"
    }
   ],
   "source": [
    "# Сгруппируем принятые и пропущенные звонки\n",
    "missed_or_not_group = df.groupby('is_missed_call', as_index=False)['calls_count'].agg('sum')\n",
    "\n",
    "# Добавим в группировку % от общего числа звонков\n",
    "missed_or_not_group['part_of_total, %'] = missed_or_not_group['calls_count'] / df['calls_count'].sum()*100\n",
    "\n",
    "missed_or_not_group"
   ]
  },
  {
   "cell_type": "markdown",
   "metadata": {},
   "source": [
    "В датасете 61% принятых звонков и 39% пропущенных."
   ]
  },
  {
   "cell_type": "markdown",
   "metadata": {},
   "source": [
    "Далее для каждого оператора посчитаем среднее количество пропущенных за день"
   ]
  },
  {
   "cell_type": "code",
   "execution_count": 47,
   "metadata": {},
   "outputs": [
    {
     "data": {
      "text/html": [
       "<div>\n",
       "<style scoped>\n",
       "    .dataframe tbody tr th:only-of-type {\n",
       "        vertical-align: middle;\n",
       "    }\n",
       "\n",
       "    .dataframe tbody tr th {\n",
       "        vertical-align: top;\n",
       "    }\n",
       "\n",
       "    .dataframe thead th {\n",
       "        text-align: right;\n",
       "    }\n",
       "</style>\n",
       "<table border=\"1\" class=\"dataframe\">\n",
       "  <thead>\n",
       "    <tr style=\"text-align: right;\">\n",
       "      <th></th>\n",
       "      <th>user_id</th>\n",
       "      <th>date</th>\n",
       "      <th>direction</th>\n",
       "      <th>internal</th>\n",
       "      <th>operator_id</th>\n",
       "      <th>is_missed_call</th>\n",
       "      <th>calls_count</th>\n",
       "      <th>call_duration</th>\n",
       "      <th>total_call_duration</th>\n",
       "      <th>tariff_plan</th>\n",
       "      <th>date_start</th>\n",
       "      <th>day</th>\n",
       "      <th>weekday</th>\n",
       "    </tr>\n",
       "  </thead>\n",
       "  <tbody>\n",
       "    <tr>\n",
       "      <th>21</th>\n",
       "      <td>166377</td>\n",
       "      <td>2019-08-12</td>\n",
       "      <td>in</td>\n",
       "      <td>False</td>\n",
       "      <td>880028</td>\n",
       "      <td>False</td>\n",
       "      <td>1</td>\n",
       "      <td>407</td>\n",
       "      <td>411</td>\n",
       "      <td>B</td>\n",
       "      <td>2019-08-01</td>\n",
       "      <td>12</td>\n",
       "      <td>Monday</td>\n",
       "    </tr>\n",
       "    <tr>\n",
       "      <th>26</th>\n",
       "      <td>166377</td>\n",
       "      <td>2019-08-13</td>\n",
       "      <td>in</td>\n",
       "      <td>False</td>\n",
       "      <td>880028</td>\n",
       "      <td>False</td>\n",
       "      <td>1</td>\n",
       "      <td>88</td>\n",
       "      <td>102</td>\n",
       "      <td>B</td>\n",
       "      <td>2019-08-01</td>\n",
       "      <td>13</td>\n",
       "      <td>Tuesday</td>\n",
       "    </tr>\n",
       "    <tr>\n",
       "      <th>29</th>\n",
       "      <td>166377</td>\n",
       "      <td>2019-08-14</td>\n",
       "      <td>in</td>\n",
       "      <td>False</td>\n",
       "      <td>880026</td>\n",
       "      <td>False</td>\n",
       "      <td>2</td>\n",
       "      <td>197</td>\n",
       "      <td>218</td>\n",
       "      <td>B</td>\n",
       "      <td>2019-08-01</td>\n",
       "      <td>14</td>\n",
       "      <td>Wednesday</td>\n",
       "    </tr>\n",
       "    <tr>\n",
       "      <th>30</th>\n",
       "      <td>166377</td>\n",
       "      <td>2019-08-14</td>\n",
       "      <td>in</td>\n",
       "      <td>False</td>\n",
       "      <td>880028</td>\n",
       "      <td>False</td>\n",
       "      <td>1</td>\n",
       "      <td>33</td>\n",
       "      <td>37</td>\n",
       "      <td>B</td>\n",
       "      <td>2019-08-01</td>\n",
       "      <td>14</td>\n",
       "      <td>Wednesday</td>\n",
       "    </tr>\n",
       "    <tr>\n",
       "      <th>38</th>\n",
       "      <td>166377</td>\n",
       "      <td>2019-08-15</td>\n",
       "      <td>in</td>\n",
       "      <td>False</td>\n",
       "      <td>880028</td>\n",
       "      <td>False</td>\n",
       "      <td>1</td>\n",
       "      <td>23</td>\n",
       "      <td>27</td>\n",
       "      <td>B</td>\n",
       "      <td>2019-08-01</td>\n",
       "      <td>15</td>\n",
       "      <td>Thursday</td>\n",
       "    </tr>\n",
       "  </tbody>\n",
       "</table>\n",
       "</div>"
      ],
      "text/plain": [
       "    user_id       date direction  internal  operator_id  is_missed_call  \\\n",
       "21   166377 2019-08-12        in     False       880028           False   \n",
       "26   166377 2019-08-13        in     False       880028           False   \n",
       "29   166377 2019-08-14        in     False       880026           False   \n",
       "30   166377 2019-08-14        in     False       880028           False   \n",
       "38   166377 2019-08-15        in     False       880028           False   \n",
       "\n",
       "    calls_count  call_duration  total_call_duration tariff_plan date_start  \\\n",
       "21            1            407                  411           B 2019-08-01   \n",
       "26            1             88                  102           B 2019-08-01   \n",
       "29            2            197                  218           B 2019-08-01   \n",
       "30            1             33                   37           B 2019-08-01   \n",
       "38            1             23                   27           B 2019-08-01   \n",
       "\n",
       "    day    weekday  \n",
       "21   12     Monday  \n",
       "26   13    Tuesday  \n",
       "29   14  Wednesday  \n",
       "30   14  Wednesday  \n",
       "38   15   Thursday  "
      ]
     },
     "execution_count": 47,
     "metadata": {},
     "output_type": "execute_result"
    }
   ],
   "source": [
    "# Создадим новый промежуточный датасет с только входящими звонками и без внутренних вызовов между операторами\n",
    "calls_in_no_int = df[(df['direction']=='in') & (df['internal']==0)]\n",
    "\n",
    "calls_in_no_int.head()"
   ]
  },
  {
   "cell_type": "code",
   "execution_count": 48,
   "metadata": {},
   "outputs": [
    {
     "data": {
      "text/html": [
       "<div>\n",
       "<style scoped>\n",
       "    .dataframe tbody tr th:only-of-type {\n",
       "        vertical-align: middle;\n",
       "    }\n",
       "\n",
       "    .dataframe tbody tr th {\n",
       "        vertical-align: top;\n",
       "    }\n",
       "\n",
       "    .dataframe thead th {\n",
       "        text-align: right;\n",
       "    }\n",
       "</style>\n",
       "<table border=\"1\" class=\"dataframe\">\n",
       "  <thead>\n",
       "    <tr style=\"text-align: right;\">\n",
       "      <th></th>\n",
       "      <th>operator_id</th>\n",
       "      <th>calls_count</th>\n",
       "      <th>percent_of_missed_calls</th>\n",
       "    </tr>\n",
       "  </thead>\n",
       "  <tbody>\n",
       "    <tr>\n",
       "      <th>285</th>\n",
       "      <td>913938</td>\n",
       "      <td>4766</td>\n",
       "      <td>51.22</td>\n",
       "    </tr>\n",
       "    <tr>\n",
       "      <th>659</th>\n",
       "      <td>952948</td>\n",
       "      <td>3540</td>\n",
       "      <td>38.04</td>\n",
       "    </tr>\n",
       "    <tr>\n",
       "      <th>286</th>\n",
       "      <td>913942</td>\n",
       "      <td>2467</td>\n",
       "      <td>26.51</td>\n",
       "    </tr>\n",
       "    <tr>\n",
       "      <th>76</th>\n",
       "      <td>893804</td>\n",
       "      <td>2427</td>\n",
       "      <td>26.08</td>\n",
       "    </tr>\n",
       "    <tr>\n",
       "      <th>355</th>\n",
       "      <td>921318</td>\n",
       "      <td>2318</td>\n",
       "      <td>24.91</td>\n",
       "    </tr>\n",
       "  </tbody>\n",
       "</table>\n",
       "</div>"
      ],
      "text/plain": [
       "     operator_id  calls_count  percent_of_missed_calls\n",
       "285       913938         4766                    51.22\n",
       "659       952948         3540                    38.04\n",
       "286       913942         2467                    26.51\n",
       "76        893804         2427                    26.08\n",
       "355       921318         2318                    24.91"
      ]
     },
     "execution_count": 48,
     "metadata": {},
     "output_type": "execute_result"
    }
   ],
   "source": [
    "# Создадим промежуточную группировку с суммой всех пропущенных по каждому оператору\n",
    "missed_calls_count_perc = calls_in_no_int.groupby(['operator_id'])['calls_count'].sum().reset_index().sort_values(by='calls_count', ascending=False)\n",
    "\n",
    "# Добавим в группировку % от общей суммы всех типов звонков\n",
    "missed_calls_count_perc['percent_of_missed_calls'] = missed_calls_count_perc['calls_count'] / calls_in_no_int['calls_count'].sum()*1000\n",
    "\n",
    "missed_calls_count_perc.head()"
   ]
  },
  {
   "cell_type": "code",
   "execution_count": 49,
   "metadata": {},
   "outputs": [
    {
     "data": {
      "text/plain": [
       "count   738.00\n",
       "mean      1.36\n",
       "std       3.86\n",
       "min       0.01\n",
       "25%       0.04\n",
       "50%       0.19\n",
       "75%       0.85\n",
       "max      51.22\n",
       "Name: percent_of_missed_calls, dtype: float64"
      ]
     },
     "execution_count": 49,
     "metadata": {},
     "output_type": "execute_result"
    }
   ],
   "source": [
    "missed_calls_count_perc['percent_of_missed_calls'].describe()"
   ]
  },
  {
   "cell_type": "markdown",
   "metadata": {},
   "source": [
    "Получается, что 75% операторов пропускают не более 0.8 % от всех звонков за день.<br>\n",
    "Примем этот показатель за границу эффективности.\n",
    "\n",
    "Будем считать так:\n",
    " - от 0 до 1% пропущенных звонков - высокая эффективность,\n",
    " - от 1% до 10% пропущенных звонков - средняя эффективность,\n",
    " - начиная с 10% пропущенных - низкая эффективность."
   ]
  },
  {
   "cell_type": "code",
   "execution_count": 50,
   "metadata": {},
   "outputs": [
    {
     "data": {
      "text/html": [
       "<div>\n",
       "<style scoped>\n",
       "    .dataframe tbody tr th:only-of-type {\n",
       "        vertical-align: middle;\n",
       "    }\n",
       "\n",
       "    .dataframe tbody tr th {\n",
       "        vertical-align: top;\n",
       "    }\n",
       "\n",
       "    .dataframe thead th {\n",
       "        text-align: right;\n",
       "    }\n",
       "</style>\n",
       "<table border=\"1\" class=\"dataframe\">\n",
       "  <thead>\n",
       "    <tr style=\"text-align: right;\">\n",
       "      <th></th>\n",
       "      <th>operator_id</th>\n",
       "      <th>calls_count</th>\n",
       "      <th>percent_of_missed_calls</th>\n",
       "      <th>efficiency_rate_by_calls_missed</th>\n",
       "    </tr>\n",
       "  </thead>\n",
       "  <tbody>\n",
       "    <tr>\n",
       "      <th>285</th>\n",
       "      <td>913938</td>\n",
       "      <td>4766</td>\n",
       "      <td>51.22</td>\n",
       "      <td>Низкая эффективность</td>\n",
       "    </tr>\n",
       "    <tr>\n",
       "      <th>659</th>\n",
       "      <td>952948</td>\n",
       "      <td>3540</td>\n",
       "      <td>38.04</td>\n",
       "      <td>Низкая эффективность</td>\n",
       "    </tr>\n",
       "    <tr>\n",
       "      <th>286</th>\n",
       "      <td>913942</td>\n",
       "      <td>2467</td>\n",
       "      <td>26.51</td>\n",
       "      <td>Низкая эффективность</td>\n",
       "    </tr>\n",
       "    <tr>\n",
       "      <th>76</th>\n",
       "      <td>893804</td>\n",
       "      <td>2427</td>\n",
       "      <td>26.08</td>\n",
       "      <td>Низкая эффективность</td>\n",
       "    </tr>\n",
       "    <tr>\n",
       "      <th>355</th>\n",
       "      <td>921318</td>\n",
       "      <td>2318</td>\n",
       "      <td>24.91</td>\n",
       "      <td>Низкая эффективность</td>\n",
       "    </tr>\n",
       "  </tbody>\n",
       "</table>\n",
       "</div>"
      ],
      "text/plain": [
       "     operator_id  calls_count  percent_of_missed_calls  \\\n",
       "285       913938         4766                    51.22   \n",
       "659       952948         3540                    38.04   \n",
       "286       913942         2467                    26.51   \n",
       "76        893804         2427                    26.08   \n",
       "355       921318         2318                    24.91   \n",
       "\n",
       "    efficiency_rate_by_calls_missed  \n",
       "285            Низкая эффективность  \n",
       "659            Низкая эффективность  \n",
       "286            Низкая эффективность  \n",
       "76             Низкая эффективность  \n",
       "355            Низкая эффективность  "
      ]
     },
     "execution_count": 50,
     "metadata": {},
     "output_type": "execute_result"
    }
   ],
   "source": [
    "# Создадим функцию, определяющую эффективность оператора\n",
    "def eff_rate_func_calls_missed(percent_of_missed_calls):\n",
    "    if percent_of_missed_calls < 1:\n",
    "        return 'Высокая эффективность'\n",
    "    elif percent_of_missed_calls > 10:\n",
    "        return 'Низкая эффективность'\n",
    "    else:\n",
    "        return 'Средняя эффективность'\n",
    "\n",
    "\n",
    "missed_calls_count_perc['efficiency_rate_by_calls_missed'] = missed_calls_count_perc['percent_of_missed_calls'].apply(eff_rate_func_calls_missed)\n",
    "\n",
    "missed_calls_count_perc.head()"
   ]
  },
  {
   "cell_type": "code",
   "execution_count": 51,
   "metadata": {},
   "outputs": [
    {
     "data": {
      "text/html": [
       "<div>\n",
       "<style scoped>\n",
       "    .dataframe tbody tr th:only-of-type {\n",
       "        vertical-align: middle;\n",
       "    }\n",
       "\n",
       "    .dataframe tbody tr th {\n",
       "        vertical-align: top;\n",
       "    }\n",
       "\n",
       "    .dataframe thead th {\n",
       "        text-align: right;\n",
       "    }\n",
       "</style>\n",
       "<table border=\"1\" class=\"dataframe\">\n",
       "  <thead>\n",
       "    <tr style=\"text-align: right;\">\n",
       "      <th></th>\n",
       "      <th>efficiency_rate_by_calls_missed</th>\n",
       "      <th>operator_id</th>\n",
       "      <th>part_of_total, %</th>\n",
       "    </tr>\n",
       "  </thead>\n",
       "  <tbody>\n",
       "    <tr>\n",
       "      <th>0</th>\n",
       "      <td>Высокая эффективность</td>\n",
       "      <td>563</td>\n",
       "      <td>76.29</td>\n",
       "    </tr>\n",
       "    <tr>\n",
       "      <th>2</th>\n",
       "      <td>Средняя эффективность</td>\n",
       "      <td>154</td>\n",
       "      <td>20.87</td>\n",
       "    </tr>\n",
       "    <tr>\n",
       "      <th>1</th>\n",
       "      <td>Низкая эффективность</td>\n",
       "      <td>21</td>\n",
       "      <td>2.85</td>\n",
       "    </tr>\n",
       "  </tbody>\n",
       "</table>\n",
       "</div>"
      ],
      "text/plain": [
       "  efficiency_rate_by_calls_missed  operator_id  part_of_total, %\n",
       "0           Высокая эффективность          563             76.29\n",
       "2           Средняя эффективность          154             20.87\n",
       "1            Низкая эффективность           21              2.85"
      ]
     },
     "execution_count": 51,
     "metadata": {},
     "output_type": "execute_result"
    }
   ],
   "source": [
    "# И, наконец, финальный рейтинг: сгруппируем по операторам среднее количество исходящих вызовов\n",
    "missed_calls_count_perc_rate = missed_calls_count_perc.groupby(\n",
    "    ['efficiency_rate_by_calls_missed']\n",
    ")['operator_id'].count().reset_index().sort_values(\n",
    "    by='operator_id',\n",
    "    ascending=False\n",
    ")\n",
    "# Добавим в группировку % от общего числа звонков и подправим названия столбцов\n",
    "missed_calls_count_perc_rate['part_of_total, %'] = missed_calls_count_perc_rate['operator_id'] / missed_calls_count_perc['operator_id'].count()*100\n",
    "\n",
    "missed_calls_count_perc_rate"
   ]
  },
  {
   "cell_type": "markdown",
   "metadata": {},
   "source": [
    "#### Второй критерий - длительность ожидания ответа"
   ]
  },
  {
   "cell_type": "markdown",
   "metadata": {},
   "source": [
    "Для расчёта длительности ожидания нам понадобятся 2 новых столбца: \n",
    " - время ожидания (разница между общей длительностью звонка 'total_call_duration' и длительностью разговора 'call_duration'),\n",
    " - среднее время ожидания."
   ]
  },
  {
   "cell_type": "code",
   "execution_count": 54,
   "metadata": {},
   "outputs": [
    {
     "data": {
      "text/html": [
       "<div>\n",
       "<style scoped>\n",
       "    .dataframe tbody tr th:only-of-type {\n",
       "        vertical-align: middle;\n",
       "    }\n",
       "\n",
       "    .dataframe tbody tr th {\n",
       "        vertical-align: top;\n",
       "    }\n",
       "\n",
       "    .dataframe thead th {\n",
       "        text-align: right;\n",
       "    }\n",
       "</style>\n",
       "<table border=\"1\" class=\"dataframe\">\n",
       "  <thead>\n",
       "    <tr style=\"text-align: right;\">\n",
       "      <th></th>\n",
       "      <th>user_id</th>\n",
       "      <th>date</th>\n",
       "      <th>day</th>\n",
       "      <th>weekday</th>\n",
       "      <th>direction</th>\n",
       "      <th>internal</th>\n",
       "      <th>operator_id</th>\n",
       "      <th>is_missed_call</th>\n",
       "      <th>calls_count</th>\n",
       "      <th>call_duration</th>\n",
       "      <th>total_call_duration</th>\n",
       "      <th>waiting_time</th>\n",
       "      <th>avg_wait_time_per_call</th>\n",
       "      <th>tariff_plan</th>\n",
       "      <th>date_start</th>\n",
       "    </tr>\n",
       "  </thead>\n",
       "  <tbody>\n",
       "    <tr>\n",
       "      <th>0</th>\n",
       "      <td>166377</td>\n",
       "      <td>2019-08-05</td>\n",
       "      <td>5</td>\n",
       "      <td>Monday</td>\n",
       "      <td>out</td>\n",
       "      <td>True</td>\n",
       "      <td>880022</td>\n",
       "      <td>True</td>\n",
       "      <td>3</td>\n",
       "      <td>0</td>\n",
       "      <td>5</td>\n",
       "      <td>5</td>\n",
       "      <td>1.67</td>\n",
       "      <td>B</td>\n",
       "      <td>2019-08-01</td>\n",
       "    </tr>\n",
       "    <tr>\n",
       "      <th>1</th>\n",
       "      <td>166377</td>\n",
       "      <td>2019-08-05</td>\n",
       "      <td>5</td>\n",
       "      <td>Monday</td>\n",
       "      <td>out</td>\n",
       "      <td>True</td>\n",
       "      <td>880020</td>\n",
       "      <td>True</td>\n",
       "      <td>1</td>\n",
       "      <td>0</td>\n",
       "      <td>1</td>\n",
       "      <td>1</td>\n",
       "      <td>1.00</td>\n",
       "      <td>B</td>\n",
       "      <td>2019-08-01</td>\n",
       "    </tr>\n",
       "    <tr>\n",
       "      <th>2</th>\n",
       "      <td>166377</td>\n",
       "      <td>2019-08-05</td>\n",
       "      <td>5</td>\n",
       "      <td>Monday</td>\n",
       "      <td>out</td>\n",
       "      <td>True</td>\n",
       "      <td>880020</td>\n",
       "      <td>False</td>\n",
       "      <td>1</td>\n",
       "      <td>10</td>\n",
       "      <td>18</td>\n",
       "      <td>8</td>\n",
       "      <td>8.00</td>\n",
       "      <td>B</td>\n",
       "      <td>2019-08-01</td>\n",
       "    </tr>\n",
       "    <tr>\n",
       "      <th>3</th>\n",
       "      <td>166377</td>\n",
       "      <td>2019-08-05</td>\n",
       "      <td>5</td>\n",
       "      <td>Monday</td>\n",
       "      <td>out</td>\n",
       "      <td>False</td>\n",
       "      <td>880022</td>\n",
       "      <td>True</td>\n",
       "      <td>3</td>\n",
       "      <td>0</td>\n",
       "      <td>25</td>\n",
       "      <td>25</td>\n",
       "      <td>8.33</td>\n",
       "      <td>B</td>\n",
       "      <td>2019-08-01</td>\n",
       "    </tr>\n",
       "    <tr>\n",
       "      <th>4</th>\n",
       "      <td>166377</td>\n",
       "      <td>2019-08-05</td>\n",
       "      <td>5</td>\n",
       "      <td>Monday</td>\n",
       "      <td>out</td>\n",
       "      <td>False</td>\n",
       "      <td>880020</td>\n",
       "      <td>False</td>\n",
       "      <td>2</td>\n",
       "      <td>3</td>\n",
       "      <td>29</td>\n",
       "      <td>26</td>\n",
       "      <td>13.00</td>\n",
       "      <td>B</td>\n",
       "      <td>2019-08-01</td>\n",
       "    </tr>\n",
       "  </tbody>\n",
       "</table>\n",
       "</div>"
      ],
      "text/plain": [
       "   user_id       date  day weekday direction  internal  operator_id  \\\n",
       "0   166377 2019-08-05    5  Monday       out      True       880022   \n",
       "1   166377 2019-08-05    5  Monday       out      True       880020   \n",
       "2   166377 2019-08-05    5  Monday       out      True       880020   \n",
       "3   166377 2019-08-05    5  Monday       out     False       880022   \n",
       "4   166377 2019-08-05    5  Monday       out     False       880020   \n",
       "\n",
       "   is_missed_call  calls_count  call_duration  total_call_duration  \\\n",
       "0            True            3              0                    5   \n",
       "1            True            1              0                    1   \n",
       "2           False            1             10                   18   \n",
       "3            True            3              0                   25   \n",
       "4           False            2              3                   29   \n",
       "\n",
       "   waiting_time  avg_wait_time_per_call tariff_plan date_start  \n",
       "0             5                    1.67           B 2019-08-01  \n",
       "1             1                    1.00           B 2019-08-01  \n",
       "2             8                    8.00           B 2019-08-01  \n",
       "3            25                    8.33           B 2019-08-01  \n",
       "4            26                   13.00           B 2019-08-01  "
      ]
     },
     "execution_count": 54,
     "metadata": {},
     "output_type": "execute_result"
    }
   ],
   "source": [
    "# Создаём новые столбцы\n",
    "df['waiting_time'] = df['total_call_duration'] - df['call_duration']\n",
    "df['avg_wait_time_per_call'] = df['waiting_time'] / df['calls_count']\n",
    "\n",
    "# Упорядочим столбцы по смыслу данных, чтобы все созданные нами столбцы были рядом с исходными:\n",
    "# дни недели рядом с датой, время ожидания - рядом с длительностью звонка\n",
    "df = df[[\n",
    " 'user_id',  \n",
    " 'date',\n",
    " 'day',\n",
    " 'weekday',\n",
    " 'direction',\n",
    " 'internal',\n",
    " 'operator_id',\n",
    " 'is_missed_call',\n",
    " 'calls_count',\n",
    " 'call_duration',\n",
    " 'total_call_duration',\n",
    " 'waiting_time',\n",
    " 'avg_wait_time_per_call',\n",
    " 'tariff_plan',  \n",
    " 'date_start'\n",
    "]]\n",
    "\n",
    "df.head()"
   ]
  },
  {
   "cell_type": "markdown",
   "metadata": {},
   "source": [
    "Красота."
   ]
  },
  {
   "cell_type": "code",
   "execution_count": 55,
   "metadata": {},
   "outputs": [
    {
     "data": {
      "text/html": [
       "<div>\n",
       "<style scoped>\n",
       "    .dataframe tbody tr th:only-of-type {\n",
       "        vertical-align: middle;\n",
       "    }\n",
       "\n",
       "    .dataframe tbody tr th {\n",
       "        vertical-align: top;\n",
       "    }\n",
       "\n",
       "    .dataframe thead th {\n",
       "        text-align: right;\n",
       "    }\n",
       "</style>\n",
       "<table border=\"1\" class=\"dataframe\">\n",
       "  <thead>\n",
       "    <tr style=\"text-align: right;\">\n",
       "      <th></th>\n",
       "      <th>user_id</th>\n",
       "      <th>date</th>\n",
       "      <th>day</th>\n",
       "      <th>weekday</th>\n",
       "      <th>direction</th>\n",
       "      <th>internal</th>\n",
       "      <th>operator_id</th>\n",
       "      <th>is_missed_call</th>\n",
       "      <th>calls_count</th>\n",
       "      <th>call_duration</th>\n",
       "      <th>total_call_duration</th>\n",
       "      <th>waiting_time</th>\n",
       "      <th>avg_wait_time_per_call</th>\n",
       "      <th>tariff_plan</th>\n",
       "      <th>date_start</th>\n",
       "    </tr>\n",
       "  </thead>\n",
       "  <tbody>\n",
       "    <tr>\n",
       "      <th>38348</th>\n",
       "      <td>168190</td>\n",
       "      <td>2019-11-01</td>\n",
       "      <td>1</td>\n",
       "      <td>Friday</td>\n",
       "      <td>in</td>\n",
       "      <td>False</td>\n",
       "      <td>952982</td>\n",
       "      <td>False</td>\n",
       "      <td>1</td>\n",
       "      <td>5</td>\n",
       "      <td>6</td>\n",
       "      <td>1</td>\n",
       "      <td>1.00</td>\n",
       "      <td>C</td>\n",
       "      <td>2019-10-16</td>\n",
       "    </tr>\n",
       "    <tr>\n",
       "      <th>16846</th>\n",
       "      <td>167053</td>\n",
       "      <td>2019-09-05</td>\n",
       "      <td>5</td>\n",
       "      <td>Thursday</td>\n",
       "      <td>in</td>\n",
       "      <td>False</td>\n",
       "      <td>903292</td>\n",
       "      <td>False</td>\n",
       "      <td>9</td>\n",
       "      <td>1668</td>\n",
       "      <td>1777</td>\n",
       "      <td>109</td>\n",
       "      <td>12.11</td>\n",
       "      <td>C</td>\n",
       "      <td>2019-08-29</td>\n",
       "    </tr>\n",
       "    <tr>\n",
       "      <th>12620</th>\n",
       "      <td>166916</td>\n",
       "      <td>2019-10-29</td>\n",
       "      <td>29</td>\n",
       "      <td>Tuesday</td>\n",
       "      <td>in</td>\n",
       "      <td>False</td>\n",
       "      <td>906404</td>\n",
       "      <td>False</td>\n",
       "      <td>11</td>\n",
       "      <td>1327</td>\n",
       "      <td>1635</td>\n",
       "      <td>308</td>\n",
       "      <td>28.00</td>\n",
       "      <td>A</td>\n",
       "      <td>2019-08-23</td>\n",
       "    </tr>\n",
       "    <tr>\n",
       "      <th>30623</th>\n",
       "      <td>167792</td>\n",
       "      <td>2019-10-11</td>\n",
       "      <td>11</td>\n",
       "      <td>Friday</td>\n",
       "      <td>in</td>\n",
       "      <td>False</td>\n",
       "      <td>933832</td>\n",
       "      <td>False</td>\n",
       "      <td>2</td>\n",
       "      <td>52</td>\n",
       "      <td>78</td>\n",
       "      <td>26</td>\n",
       "      <td>13.00</td>\n",
       "      <td>C</td>\n",
       "      <td>2019-09-30</td>\n",
       "    </tr>\n",
       "    <tr>\n",
       "      <th>36439</th>\n",
       "      <td>168187</td>\n",
       "      <td>2019-10-24</td>\n",
       "      <td>24</td>\n",
       "      <td>Thursday</td>\n",
       "      <td>in</td>\n",
       "      <td>False</td>\n",
       "      <td>937736</td>\n",
       "      <td>False</td>\n",
       "      <td>8</td>\n",
       "      <td>779</td>\n",
       "      <td>848</td>\n",
       "      <td>69</td>\n",
       "      <td>8.62</td>\n",
       "      <td>A</td>\n",
       "      <td>2019-10-16</td>\n",
       "    </tr>\n",
       "  </tbody>\n",
       "</table>\n",
       "</div>"
      ],
      "text/plain": [
       "       user_id       date  day   weekday direction  internal  operator_id  \\\n",
       "38348   168190 2019-11-01    1    Friday        in     False       952982   \n",
       "16846   167053 2019-09-05    5  Thursday        in     False       903292   \n",
       "12620   166916 2019-10-29   29   Tuesday        in     False       906404   \n",
       "30623   167792 2019-10-11   11    Friday        in     False       933832   \n",
       "36439   168187 2019-10-24   24  Thursday        in     False       937736   \n",
       "\n",
       "       is_missed_call  calls_count  call_duration  total_call_duration  \\\n",
       "38348           False            1              5                    6   \n",
       "16846           False            9           1668                 1777   \n",
       "12620           False           11           1327                 1635   \n",
       "30623           False            2             52                   78   \n",
       "36439           False            8            779                  848   \n",
       "\n",
       "       waiting_time  avg_wait_time_per_call tariff_plan date_start  \n",
       "38348             1                    1.00           C 2019-10-16  \n",
       "16846           109                   12.11           C 2019-08-29  \n",
       "12620           308                   28.00           A 2019-08-23  \n",
       "30623            26                   13.00           C 2019-09-30  \n",
       "36439            69                    8.62           A 2019-10-16  "
      ]
     },
     "execution_count": 55,
     "metadata": {},
     "output_type": "execute_result"
    }
   ],
   "source": [
    "# Создадим новый промежуточный датасет с только входящими звонками\n",
    "calls_in = df[df['direction'] == \"in\"]\n",
    "\n",
    "# Уберём внутренние звонки между операторами\n",
    "calls_in_no_internal = calls_in[calls_in['internal'] == 0]\n",
    "\n",
    "calls_in_no_internal.sample(5)"
   ]
  },
  {
   "cell_type": "code",
   "execution_count": 64,
   "metadata": {},
   "outputs": [
    {
     "data": {
      "text/html": [
       "<div>\n",
       "<style scoped>\n",
       "    .dataframe tbody tr th:only-of-type {\n",
       "        vertical-align: middle;\n",
       "    }\n",
       "\n",
       "    .dataframe tbody tr th {\n",
       "        vertical-align: top;\n",
       "    }\n",
       "\n",
       "    .dataframe thead th {\n",
       "        text-align: right;\n",
       "    }\n",
       "</style>\n",
       "<table border=\"1\" class=\"dataframe\">\n",
       "  <thead>\n",
       "    <tr style=\"text-align: right;\">\n",
       "      <th></th>\n",
       "      <th>operator_id</th>\n",
       "      <th>avg_wait_time_per_call</th>\n",
       "    </tr>\n",
       "  </thead>\n",
       "  <tbody>\n",
       "    <tr>\n",
       "      <th>197</th>\n",
       "      <td>905842</td>\n",
       "      <td>115.50</td>\n",
       "    </tr>\n",
       "    <tr>\n",
       "      <th>308</th>\n",
       "      <td>917680</td>\n",
       "      <td>100.00</td>\n",
       "    </tr>\n",
       "    <tr>\n",
       "      <th>121</th>\n",
       "      <td>899900</td>\n",
       "      <td>71.00</td>\n",
       "    </tr>\n",
       "    <tr>\n",
       "      <th>223</th>\n",
       "      <td>907174</td>\n",
       "      <td>65.19</td>\n",
       "    </tr>\n",
       "    <tr>\n",
       "      <th>700</th>\n",
       "      <td>960296</td>\n",
       "      <td>63.00</td>\n",
       "    </tr>\n",
       "  </tbody>\n",
       "</table>\n",
       "</div>"
      ],
      "text/plain": [
       "     operator_id  avg_wait_time_per_call\n",
       "197       905842                  115.50\n",
       "308       917680                  100.00\n",
       "121       899900                   71.00\n",
       "223       907174                   65.19\n",
       "700       960296                   63.00"
      ]
     },
     "execution_count": 64,
     "metadata": {},
     "output_type": "execute_result"
    }
   ],
   "source": [
    "# Создадим промежуточную группировку с суммой среднего времени ожидания по каждому оператору\n",
    "calls_in_no_internal_long_wait = calls_in_no_internal.groupby(['operator_id'])['avg_wait_time_per_call'].mean().reset_index().sort_values(by='avg_wait_time_per_call', ascending=False)\n",
    "\n",
    "calls_in_no_internal_long_wait.head()"
   ]
  },
  {
   "cell_type": "code",
   "execution_count": 65,
   "metadata": {},
   "outputs": [
    {
     "data": {
      "text/plain": [
       "count   738.00\n",
       "mean     17.94\n",
       "std      12.48\n",
       "min       0.68\n",
       "25%       9.49\n",
       "50%      14.69\n",
       "75%      22.73\n",
       "max     115.50\n",
       "Name: avg_wait_time_per_call, dtype: float64"
      ]
     },
     "execution_count": 65,
     "metadata": {},
     "output_type": "execute_result"
    }
   ],
   "source": [
    "calls_in_no_internal_long_wait['avg_wait_time_per_call'].describe()"
   ]
  },
  {
   "cell_type": "markdown",
   "metadata": {},
   "source": [
    "Выводы по статистике:\n",
    "- до 25% операторов показывают результат в 9.5 секунд\n",
    "- максимальное среднее значение - 115 секунд (то есть почти 2 минуты)\n",
    " \n",
    "Значения вполне реальные. <br>\n",
    "\n",
    "Теперь посмотрим на графики:"
   ]
  },
  {
   "cell_type": "code",
   "execution_count": 66,
   "metadata": {},
   "outputs": [
    {
     "data": {
      "image/png": "[encoded data removed]",
      "text/plain": [
       "<Figure size 1080x360 with 1 Axes>"
      ]
     },
     "metadata": {
      "needs_background": "light"
     },
     "output_type": "display_data"
    }
   ],
   "source": [
    "plt.figure(figsize=(15, 5))\n",
    "sns.histplot(calls_in_no_internal_long_wait['avg_wait_time_per_call'])\n",
    "plt.title('Распределение по операторам длительности ожидания входящих звонков клиентов')\n",
    "plt.xlabel('Длительность ожидания, секунды')\n",
    "plt.ylabel('Количество операторов')\n",
    "\n",
    "plt.show()"
   ]
  },
  {
   "cell_type": "markdown",
   "metadata": {},
   "source": [
    "Снова воспользуемся данными статистики, будем отталкиваться от среднего времени ожидания 25% операторов 9.5 секунд - это наши лучшие операторы, только округлим до 10 сек.<br>\n",
    "Будем считать так:\n",
    " - от 0 до 10 секунд - высокая эффективность,\n",
    " - от 10 до 20 секунд - средняя эффективность (здесь основная масса результатов),\n",
    " - начиная с 20 секунд ожидания - низкая эффективность."
   ]
  },
  {
   "cell_type": "code",
   "execution_count": 67,
   "metadata": {},
   "outputs": [],
   "source": [
    "# Создадим функцию, определяющую эффективность оператора \n",
    "def eff_rate_func_wait_time(avg_wait_time_per_call):\n",
    "    if avg_wait_time_per_call < 10:\n",
    "        return 'Высокая эффективность (до 10 сек. ожидания)'\n",
    "    elif avg_wait_time_per_call > 20:\n",
    "        return 'Низкая эффективность (более 20 сек. ожидания)'\n",
    "    else:\n",
    "        return 'Средняя эффективность (10-20 сек. ожидания)'\n",
    "\n",
    "\n",
    "calls_in_no_internal_long_wait['efficiency_rate_by_wait_time'] = calls_in_no_internal_long_wait['avg_wait_time_per_call'].apply(eff_rate_func_wait_time)"
   ]
  },
  {
   "cell_type": "code",
   "execution_count": 68,
   "metadata": {},
   "outputs": [
    {
     "data": {
      "text/html": [
       "<div>\n",
       "<style scoped>\n",
       "    .dataframe tbody tr th:only-of-type {\n",
       "        vertical-align: middle;\n",
       "    }\n",
       "\n",
       "    .dataframe tbody tr th {\n",
       "        vertical-align: top;\n",
       "    }\n",
       "\n",
       "    .dataframe thead th {\n",
       "        text-align: right;\n",
       "    }\n",
       "</style>\n",
       "<table border=\"1\" class=\"dataframe\">\n",
       "  <thead>\n",
       "    <tr style=\"text-align: right;\">\n",
       "      <th></th>\n",
       "      <th>efficiency_rate_by_wait_time</th>\n",
       "      <th>operator_id</th>\n",
       "      <th>part_of_total, %</th>\n",
       "    </tr>\n",
       "  </thead>\n",
       "  <tbody>\n",
       "    <tr>\n",
       "      <th>2</th>\n",
       "      <td>Средняя эффективность (10-20 сек. ожидания)</td>\n",
       "      <td>314</td>\n",
       "      <td>42.55</td>\n",
       "    </tr>\n",
       "    <tr>\n",
       "      <th>1</th>\n",
       "      <td>Низкая эффективность (более 20 сек. ожидания)</td>\n",
       "      <td>229</td>\n",
       "      <td>31.03</td>\n",
       "    </tr>\n",
       "    <tr>\n",
       "      <th>0</th>\n",
       "      <td>Высокая эффективность (до 10 сек. ожидания)</td>\n",
       "      <td>195</td>\n",
       "      <td>26.42</td>\n",
       "    </tr>\n",
       "  </tbody>\n",
       "</table>\n",
       "</div>"
      ],
      "text/plain": [
       "                    efficiency_rate_by_wait_time  operator_id  \\\n",
       "2    Средняя эффективность (10-20 сек. ожидания)          314   \n",
       "1  Низкая эффективность (более 20 сек. ожидания)          229   \n",
       "0    Высокая эффективность (до 10 сек. ожидания)          195   \n",
       "\n",
       "   part_of_total, %  \n",
       "2             42.55  \n",
       "1             31.03  \n",
       "0             26.42  "
      ]
     },
     "execution_count": 68,
     "metadata": {},
     "output_type": "execute_result"
    }
   ],
   "source": [
    "# И, наконец, финальный рейтинг: сгруппируем по операторам среднее количество исходящих вызовов\n",
    "calls_in_no_internal_long_wait_rate = calls_in_no_internal_long_wait.groupby(\n",
    "    ['efficiency_rate_by_wait_time']\n",
    ")['operator_id'].count().reset_index().sort_values(\n",
    "    by='operator_id',\n",
    "    ascending=False\n",
    ")\n",
    "# Добавим в группировку % от общего числа звонков и подправим названия столбцов\n",
    "calls_in_no_internal_long_wait_rate['part_of_total, %'] = calls_in_no_internal_long_wait_rate['operator_id'] / calls_in_no_internal_long_wait['operator_id'].count()*100\n",
    "\n",
    "calls_in_no_internal_long_wait_rate"
   ]
  },
  {
   "cell_type": "markdown",
   "metadata": {},
   "source": [
    "Низкоэффективных операторов 31%, а высокую эффективность показывают только 26% операторов."
   ]
  },
  {
   "cell_type": "markdown",
   "metadata": {},
   "source": [
    "#### Третий критерий - количество исходящих вызовов"
   ]
  },
  {
   "cell_type": "code",
   "execution_count": 80,
   "metadata": {},
   "outputs": [
    {
     "data": {
      "text/html": [
       "<div>\n",
       "<style scoped>\n",
       "    .dataframe tbody tr th:only-of-type {\n",
       "        vertical-align: middle;\n",
       "    }\n",
       "\n",
       "    .dataframe tbody tr th {\n",
       "        vertical-align: top;\n",
       "    }\n",
       "\n",
       "    .dataframe thead th {\n",
       "        text-align: right;\n",
       "    }\n",
       "</style>\n",
       "<table border=\"1\" class=\"dataframe\">\n",
       "  <thead>\n",
       "    <tr style=\"text-align: right;\">\n",
       "      <th></th>\n",
       "      <th>operator_id</th>\n",
       "      <th>calls_count</th>\n",
       "    </tr>\n",
       "  </thead>\n",
       "  <tbody>\n",
       "    <tr>\n",
       "      <th>429</th>\n",
       "      <td>925922</td>\n",
       "      <td>426.15</td>\n",
       "    </tr>\n",
       "    <tr>\n",
       "      <th>240</th>\n",
       "      <td>908640</td>\n",
       "      <td>374.58</td>\n",
       "    </tr>\n",
       "    <tr>\n",
       "      <th>23</th>\n",
       "      <td>885890</td>\n",
       "      <td>370.92</td>\n",
       "    </tr>\n",
       "    <tr>\n",
       "      <th>447</th>\n",
       "      <td>929428</td>\n",
       "      <td>365.45</td>\n",
       "    </tr>\n",
       "    <tr>\n",
       "      <th>22</th>\n",
       "      <td>885876</td>\n",
       "      <td>305.94</td>\n",
       "    </tr>\n",
       "  </tbody>\n",
       "</table>\n",
       "</div>"
      ],
      "text/plain": [
       "     operator_id  calls_count\n",
       "429       925922       426.15\n",
       "240       908640       374.58\n",
       "23        885890       370.92\n",
       "447       929428       365.45\n",
       "22        885876       305.94"
      ]
     },
     "execution_count": 80,
     "metadata": {},
     "output_type": "execute_result"
    }
   ],
   "source": [
    "# Создадим промежуточную группировку с суммой всех пропущенных по каждому оператору\n",
    "calls_out_by_operator = calls_out_no_int.groupby(['operator_id'])['calls_count'].mean().reset_index().sort_values('calls_count', ascending = False)\n",
    "\n",
    "calls_out_by_operator.head()"
   ]
  },
  {
   "cell_type": "code",
   "execution_count": 81,
   "metadata": {},
   "outputs": [
    {
     "data": {
      "text/plain": [
       "count   833.00\n",
       "mean     16.13\n",
       "std      34.82\n",
       "min       1.00\n",
       "25%       2.00\n",
       "50%       4.02\n",
       "75%      15.93\n",
       "max     426.15\n",
       "Name: calls_count, dtype: float64"
      ]
     },
     "execution_count": 81,
     "metadata": {},
     "output_type": "execute_result"
    }
   ],
   "source": [
    "calls_out_by_operator['calls_count'].describe()"
   ]
  },
  {
   "cell_type": "markdown",
   "metadata": {},
   "source": [
    "426 звонков в день - многовато, очистим данные:<br>"
   ]
  },
  {
   "cell_type": "code",
   "execution_count": 82,
   "metadata": {},
   "outputs": [
    {
     "name": "stdout",
     "output_type": "stream",
     "text": [
      "count   791.00\n",
      "mean     10.73\n",
      "std      14.72\n",
      "min       1.00\n",
      "25%       1.89\n",
      "50%       3.65\n",
      "75%      13.05\n",
      "max      66.72\n",
      "Name: calls_count, dtype: float64\n"
     ]
    },
    {
     "data": {
      "text/plain": [
       "<AxesSubplot:>"
      ]
     },
     "execution_count": 82,
     "metadata": {},
     "output_type": "execute_result"
    },
    {
     "data": {
      "image/png": "[encoded data removed]",
      "text/plain": [
       "<Figure size 432x432 with 1 Axes>"
      ]
     },
     "metadata": {
      "needs_background": "light"
     },
     "output_type": "display_data"
    }
   ],
   "source": [
    "calls_out_by_operator_clean = calls_out_by_operator.query('calls_count <= calls_count.quantile(0.95)')\n",
    "\n",
    "print(calls_out_by_operator_clean['calls_count'].describe())\n",
    "calls_out_by_operator_clean.boxplot(column='calls_count', figsize=(6,6))"
   ]
  },
  {
   "cell_type": "code",
   "execution_count": 83,
   "metadata": {},
   "outputs": [
    {
     "data": {
      "image/png": "[encoded data removed]",
      "text/plain": [
       "<Figure size 432x288 with 1 Axes>"
      ]
     },
     "metadata": {
      "needs_background": "light"
     },
     "output_type": "display_data"
    }
   ],
   "source": [
    "# Наглядная гистограмма\n",
    "sns.histplot(calls_out_by_operator_clean['calls_count'])\n",
    "plt.title('Распределение по операторам исходящих звонков')\n",
    "plt.xlabel('Количество исходящих звонков от операторов')\n",
    "plt.ylabel('Количество операторов')\n",
    "\n",
    "plt.show()"
   ]
  },
  {
   "cell_type": "markdown",
   "metadata": {},
   "source": [
    "По статистике среднее значение - 10 звонков.<br>\n",
    "75% операторов совершают в среднем 13 звонков в день, но для оператора колл-центра это не так и много.<br>\n",
    " \n",
    "Будем считать, что:\n",
    " - более 30 исходящих звонков - высокая эффективность (граница начала выбросов),\n",
    " - от 15 до 30 звонков - средняя эффективность,\n",
    " - менее 15 - низкая эффективность."
   ]
  },
  {
   "cell_type": "code",
   "execution_count": 84,
   "metadata": {},
   "outputs": [],
   "source": [
    "# Создадим функцию, определяющую эффективность оператора\n",
    "def eff_rate_func_calls_out(calls_count):\n",
    "    if calls_count > 30:\n",
    "        return 'Высокая эффективность (более 30 исходящих)'\n",
    "    elif calls_count < 15:\n",
    "        return 'Низкая эффективность (менее 15 исходящих)'\n",
    "    else:\n",
    "        return 'Средняя эффективность (15 - 30 звонков)'\n",
    "\n",
    "\n",
    "calls_out_by_operator_clean['efficiency_rate_by_calls_out'] = calls_out_by_operator_clean['calls_count'].apply(eff_rate_func_calls_out)"
   ]
  },
  {
   "cell_type": "code",
   "execution_count": 85,
   "metadata": {},
   "outputs": [
    {
     "data": {
      "text/html": [
       "<div>\n",
       "<style scoped>\n",
       "    .dataframe tbody tr th:only-of-type {\n",
       "        vertical-align: middle;\n",
       "    }\n",
       "\n",
       "    .dataframe tbody tr th {\n",
       "        vertical-align: top;\n",
       "    }\n",
       "\n",
       "    .dataframe thead th {\n",
       "        text-align: right;\n",
       "    }\n",
       "</style>\n",
       "<table border=\"1\" class=\"dataframe\">\n",
       "  <thead>\n",
       "    <tr style=\"text-align: right;\">\n",
       "      <th></th>\n",
       "      <th>efficiency_rate_by_calls_out</th>\n",
       "      <th>operator_id</th>\n",
       "      <th>part_of_total, %</th>\n",
       "    </tr>\n",
       "  </thead>\n",
       "  <tbody>\n",
       "    <tr>\n",
       "      <th>1</th>\n",
       "      <td>Низкая эффективность (менее 15 исходящих)</td>\n",
       "      <td>617</td>\n",
       "      <td>78.00</td>\n",
       "    </tr>\n",
       "    <tr>\n",
       "      <th>0</th>\n",
       "      <td>Высокая эффективность (более 30 исходящих)</td>\n",
       "      <td>88</td>\n",
       "      <td>11.13</td>\n",
       "    </tr>\n",
       "    <tr>\n",
       "      <th>2</th>\n",
       "      <td>Средняя эффективность (15 - 30 звонков)</td>\n",
       "      <td>86</td>\n",
       "      <td>10.87</td>\n",
       "    </tr>\n",
       "  </tbody>\n",
       "</table>\n",
       "</div>"
      ],
      "text/plain": [
       "                 efficiency_rate_by_calls_out  operator_id  part_of_total, %\n",
       "1   Низкая эффективность (менее 15 исходящих)          617             78.00\n",
       "0  Высокая эффективность (более 30 исходящих)           88             11.13\n",
       "2     Средняя эффективность (15 - 30 звонков)           86             10.87"
      ]
     },
     "execution_count": 85,
     "metadata": {},
     "output_type": "execute_result"
    }
   ],
   "source": [
    "# И, наконец, финальный рейтинг: сгруппируем по операторам среднее количество исходящих вызовов\n",
    "calls_out_by_operator_clean_rate = calls_out_by_operator_clean.groupby(\n",
    "    ['efficiency_rate_by_calls_out']\n",
    ")['operator_id'].count().reset_index().sort_values(\n",
    "    by='operator_id',\n",
    "    ascending=False\n",
    ")\n",
    "# Добавим в группировку % от общего числа звонков и подправим названия столбцов\n",
    "calls_out_by_operator_clean_rate['part_of_total, %'] = calls_out_by_operator_clean_rate['operator_id'] / calls_out_by_operator_clean['operator_id'].count()*100\n",
    "\n",
    "calls_out_by_operator_clean_rate"
   ]
  },
  {
   "cell_type": "markdown",
   "metadata": {},
   "source": [
    "В итоге низкоэффективных операторов (совершающих менее 15 исходящих вызовов) больше всех: 78%.<br>\n",
    "Средней и высокой эффективности примерно поровну, около 11%."
   ]
  },
  {
   "cell_type": "markdown",
   "metadata": {},
   "source": [
    "#### Вывод по неэффективности операторов\n",
    "\n",
    "Для определения эффективности операторов мы разделили их на 3 категории - высокая, средняя и низкая эффективность - по критериям:\n",
    "\n",
    " - Пропущенные входящие звонки:\n",
    "    - Больше всего высокоэффективных - почти 76%,\n",
    "    - Неэффективных операторов - 3%.\n",
    "    <br>\n",
    "    \n",
    "    \n",
    " - Длительность ожидания ответа \n",
    "    - Низкоэффективных операторов 31%, \n",
    "    - Высокую эффективность показывают только 26% операторов.\n",
    "    <br>\n",
    "    \n",
    "    \n",
    " - Количество исходящих - для \"обзванивающих\" колл-центров\n",
    "    - Низкоэффективных операторов (совершающих менее 15 исходящих вызовов) больше всех: 78%.<br>\n",
    "    - Средней и высокой эффективности примерно поровну, около 11%.\n"
   ]
  },
  {
   "cell_type": "markdown",
   "metadata": {},
   "source": [
    "### Проверка гипотез"
   ]
  },
  {
   "cell_type": "markdown",
   "metadata": {},
   "source": [
    "#### Гипотеза о зависимости времени ожидания звонка от тарифного плана"
   ]
  },
  {
   "cell_type": "markdown",
   "metadata": {},
   "source": [
    " - H0 - нет статистически значимой разницы между тарифами по времени ожидания ответа на входящий звонок,\n",
    "\n",
    " - H1 - существует статистически значимая разница между разными тарифами по времени ожидания ответа на входящий звонок."
   ]
  },
  {
   "cell_type": "code",
   "execution_count": 89,
   "metadata": {},
   "outputs": [],
   "source": [
    "sample_A = df[df['tariff_plan'] == 'A']['avg_wait_time_per_call']\n",
    "sample_B = df[df['tariff_plan'] == 'B']['avg_wait_time_per_call']\n",
    "sample_C = df[df['tariff_plan'] == 'C']['avg_wait_time_per_call']"
   ]
  },
  {
   "cell_type": "code",
   "execution_count": 90,
   "metadata": {},
   "outputs": [],
   "source": [
    "# Создадим функцию для теста mannwhitneyu\n",
    "\n",
    "def mannwhitneyu_test(a, b, c):\n",
    "    alpha = 0.05\n",
    "    results_AB_mannwhitneyu = st.mannwhitneyu(sample_A, sample_B)\n",
    "    results_BC_mannwhitneyu = st.mannwhitneyu(sample_B, sample_C)\n",
    "    results_AC_mannwhitneyu = st.mannwhitneyu(sample_A, sample_C)\n",
    "    bonferroni_alpha = alpha / 3  # произведено три сравнения\n",
    "    print('p-значение для сравнения групп А и B: ', results_AB_mannwhitneyu.pvalue)\n",
    "    print('p-значение для сравнения групп B и C: ', results_BC_mannwhitneyu.pvalue)\n",
    "    print('p-значение для сравнения групп А и C: ', results_AC_mannwhitneyu.pvalue)\n",
    "    if (results_AB_mannwhitneyu.pvalue < bonferroni_alpha):\n",
    "        print(\"Отвергаем нулевую гипотезу для сравнения тарифов А и B: разница статистически значима\")\n",
    "    else:\n",
    "        print(\"Не получилось отвергнуть нулевую гипотезу для сравнения тарифов А и B\")\n",
    "\n",
    "    if (results_BC_mannwhitneyu.pvalue < bonferroni_alpha):\n",
    "        print(\"Отвергаем нулевую гипотезу для сравнения тарифов B и C: разница статистически значима\")\n",
    "    else:\n",
    "        print(\"Не получилось отвергнуть нулевую гипотезу для сравнения тарифов B и C\")\n",
    "\n",
    "    if (results_AC_mannwhitneyu.pvalue < bonferroni_alpha):\n",
    "        print(\"Отвергаем нулевую гипотезу для сравнения тарифов А и C: разница статистически значима\")\n",
    "    else:\n",
    "        print(\"Не получилось отвергнуть нулевую гипотезу для сравнения тарифов А и C\")"
   ]
  },
  {
   "cell_type": "code",
   "execution_count": 91,
   "metadata": {},
   "outputs": [
    {
     "name": "stdout",
     "output_type": "stream",
     "text": [
      "p-значение для сравнения групп А и B:  3.986479493245058e-07\n",
      "p-значение для сравнения групп B и C:  7.416345758951299e-27\n",
      "p-значение для сравнения групп А и C:  2.469395425918094e-57\n",
      "Отвергаем нулевую гипотезу для сравнения тарифов А и B: разница статистически значима\n",
      "Отвергаем нулевую гипотезу для сравнения тарифов B и C: разница статистически значима\n",
      "Отвергаем нулевую гипотезу для сравнения тарифов А и C: разница статистически значима\n"
     ]
    }
   ],
   "source": [
    "mannwhitneyu_test(sample_A, sample_B, sample_C)"
   ]
  },
  {
   "cell_type": "markdown",
   "metadata": {},
   "source": [
    "Гипотеза H0 опровергнута: есть статистические значимые различия между временем ожидания звонка по тарифам A, B и С."
   ]
  },
  {
   "cell_type": "markdown",
   "metadata": {},
   "source": [
    "#### Гипотеза о зависимости количества звонков от дня недели"
   ]
  },
  {
   "cell_type": "markdown",
   "metadata": {},
   "source": [
    "Как мы знаем из [графика распределения звонков по дням недели](#calls_by_weekday), больше всего звонков - по четвергам, а меньше всего - по воскресеньям.<br>\n",
    "\n",
    "Можно проверить еще пару гипотез о принятых вызовах: когда загрузка колл-центров максимальная - по четвергам, и когда минимальная - по воскресеньям."
   ]
  },
  {
   "cell_type": "markdown",
   "metadata": {},
   "source": [
    "***Для наиболее загуженного дня недели - четверга***\n",
    "\n",
    " - Н0: Количество принятых звонков операторами в четверг такое же, как и в остальные дни,\n",
    "\n",
    " - Н1: Количество принятых звонков операторами в четверг и в остальные дни отличаются."
   ]
  },
  {
   "cell_type": "code",
   "execution_count": 92,
   "metadata": {},
   "outputs": [
    {
     "name": "stdout",
     "output_type": "stream",
     "text": [
      "p-значение: 0.9458972647803612\n",
      "Не получилось отвергнуть нулевую гипотезу\n"
     ]
    }
   ],
   "source": [
    "alpha = 0.05\n",
    "\n",
    "results = st.mannwhitneyu(\n",
    "    df.query('(weekday==\"Thursday\") and (direction == \"in\") and (is_missed_call == False)')['calls_count'], \n",
    "    df.query('(weekday!=\"Thursday\") and (direction == \"in\") and (is_missed_call == False)')['calls_count'],\n",
    "    )\n",
    "\n",
    "print('p-значение:', results.pvalue)\n",
    "\n",
    "if (results.pvalue < alpha):\n",
    "    print(\"Отвергаем нулевую гипотезу\")\n",
    "else:\n",
    "    print(\"Не получилось отвергнуть нулевую гипотезу\")"
   ]
  },
  {
   "cell_type": "markdown",
   "metadata": {},
   "source": [
    "***Для наименее загуженного дня недели - воскресенья***\n",
    "\n",
    " - Н0: Количество принятых звонков операторами в четверг такое же, как и в остальные дни,\n",
    "\n",
    " - Н1: Количество принятых звонков операторами в четверг и в остальные дни отличаются."
   ]
  },
  {
   "cell_type": "code",
   "execution_count": 93,
   "metadata": {},
   "outputs": [
    {
     "name": "stdout",
     "output_type": "stream",
     "text": [
      "p-значение: 0.702208972327239\n",
      "Не получилось отвергнуть нулевую гипотезу\n"
     ]
    }
   ],
   "source": [
    "alpha = 0.05\n",
    "\n",
    "results = st.mannwhitneyu(\n",
    "    df.query('(weekday==\"Sunday\") and (direction == \"in\") and (is_missed_call == False)')['calls_count'], \n",
    "    df.query('(weekday!=\"Sunday\") and (direction == \"in\") and (is_missed_call == False)')['calls_count'],\n",
    "    )\n",
    "\n",
    "print('p-значение:', results.pvalue)\n",
    "\n",
    "if (results.pvalue < alpha):\n",
    "    print(\"Отвергаем нулевую гипотезу\")\n",
    "else:\n",
    "    print(\"Не получилось отвергнуть нулевую гипотезу\")"
   ]
  },
  {
   "cell_type": "markdown",
   "metadata": {},
   "source": [
    "Нулевая гипотеза не отвергнута в обоих случаях.<br>\n",
    "Другими словами, есть статистическая вероятность, что количество принятых звонков операторами не отличается ни в четверг, ни в воскресенье, ни в остальные дни."
   ]
  },
  {
   "cell_type": "markdown",
   "metadata": {},
   "source": [
    "### Общий вывод"
   ]
  },
  {
   "cell_type": "markdown",
   "metadata": {},
   "source": [
    "**Ознакомившись с исходными файлами для анализа мы сначала занялись предобработкой данных:**<br>\n",
    "\n",
    " - В файле 'clients' поменяли тип данных на 'дату' в колонке 'date_start'.<br>\n",
    "\n",
    " - В файле 'dataset':\n",
    "\n",
    "   - удалили строки с пропусками,\n",
    "   - исправили типы данных, где необходимо,\n",
    "   - удалили дубликаты.\n",
    "\n",
    "**После исследовательского анализа узнали, что:**\n",
    "\n",
    "- Исходящих звонков больше всего, затем по количеству идут входящие звонки, а в смешанном типе их минимум,\n",
    "- Больше всего звонков по четвергам, в выходные звонков в разы меньше,\n",
    "- У большинства клиентов 1 - 2 оператора, а максимальное количество операторов (после очистки от выбросов) - 12.\n",
    "\n",
    "**Для определения эффективности операторов мы разделили их на 3 категории** - высокая, средняя и низкая эффективность - по критериям:\n",
    "\n",
    " - Пропущенные входящие звонки:\n",
    "    - Больше всего высокоэффективных - почти 76%,\n",
    "    - Неэффективных операторов - 3%.\n",
    "    <br>\n",
    "    \n",
    "    \n",
    " - Длительность ожидания ответа \n",
    "    - Низкоэффективных операторов 31%, \n",
    "    - Высокую эффективность показывают только 26% операторов.\n",
    "    <br>\n",
    "    \n",
    "    \n",
    " - Количество исходящих - для \"обзванивающих\" колл-центров\n",
    "    - Низкоэффективных операторов (совершающих менее 15 исходящих вызовов) больше всех: 78%.<br>\n",
    "    - Средней и высокой эффективности примерно поровну, около 11%.\n",
    "\n",
    "**Кроме того, выдвинули пару гипотез:**\n",
    " - О зависимости времени ожидания звонка от тарифного плана: есть статистические значимые различия между временем ожидания звонка по тарифам A, B и С.\n",
    " <br>\n",
    " \n",
    " - О зависимости количества звонков от дня недели: есть статистическая вероятность, что количество принятых звонков операторами не отличается ни в четверг, ни в воскресенье, ни в остальные дни недели."
   ]
  },
  {
   "cell_type": "markdown",
   "metadata": {},
   "source": [
    "**Презентация по проекту**\n",
    "\n",
    "https://disk.yandex.ru/i/SFVPfwdqCt21bA"
   ]
  }
 ],
 "metadata": {
  "ExecuteTimeLog": [
   {
    "duration": 1306,
    "start_time": "2023-02-20T06:57:38.598Z"
   },
   {
    "duration": 143,
    "start_time": "2023-02-20T06:59:25.356Z"
   },
   {
    "duration": 185,
    "start_time": "2023-02-20T07:00:17.606Z"
   },
   {
    "duration": 12,
    "start_time": "2023-02-20T07:00:31.723Z"
   },
   {
    "duration": 25,
    "start_time": "2023-02-20T07:00:39.210Z"
   },
   {
    "duration": 11,
    "start_time": "2023-02-20T07:02:54.453Z"
   },
   {
    "duration": 10,
    "start_time": "2023-02-20T07:03:05.770Z"
   },
   {
    "duration": 6,
    "start_time": "2023-02-20T07:08:42.900Z"
   },
   {
    "duration": 6,
    "start_time": "2023-02-20T07:09:03.325Z"
   },
   {
    "duration": 21,
    "start_time": "2023-02-20T07:09:34.829Z"
   },
   {
    "duration": 10,
    "start_time": "2023-02-20T07:31:11.755Z"
   },
   {
    "duration": 5,
    "start_time": "2023-02-20T07:31:17.960Z"
   },
   {
    "duration": 11,
    "start_time": "2023-02-20T07:31:25.715Z"
   },
   {
    "duration": 11,
    "start_time": "2023-02-20T07:32:14.925Z"
   },
   {
    "duration": 16,
    "start_time": "2023-02-20T07:35:09.153Z"
   },
   {
    "duration": 9,
    "start_time": "2023-02-20T07:35:15.820Z"
   },
   {
    "duration": 15,
    "start_time": "2023-02-20T07:35:22.152Z"
   },
   {
    "duration": 13,
    "start_time": "2023-02-20T07:35:36.110Z"
   },
   {
    "duration": 54,
    "start_time": "2023-02-20T07:37:15.363Z"
   },
   {
    "duration": 7,
    "start_time": "2023-02-20T07:37:19.882Z"
   },
   {
    "duration": 1216,
    "start_time": "2023-02-20T07:37:22.029Z"
   },
   {
    "duration": 90,
    "start_time": "2023-02-20T07:37:23.419Z"
   },
   {
    "duration": 12,
    "start_time": "2023-02-20T07:37:25.158Z"
   },
   {
    "duration": 17,
    "start_time": "2023-02-20T07:37:28.607Z"
   },
   {
    "duration": 6,
    "start_time": "2023-02-20T07:37:29.487Z"
   },
   {
    "duration": 11,
    "start_time": "2023-02-20T07:37:33.725Z"
   },
   {
    "duration": 19,
    "start_time": "2023-02-20T07:37:34.463Z"
   },
   {
    "duration": 22,
    "start_time": "2023-02-20T07:37:36.256Z"
   },
   {
    "duration": 7,
    "start_time": "2023-02-20T07:37:43.251Z"
   },
   {
    "duration": 14,
    "start_time": "2023-02-20T07:37:43.716Z"
   },
   {
    "duration": 37,
    "start_time": "2023-02-20T07:38:19.526Z"
   },
   {
    "duration": 14,
    "start_time": "2023-02-20T07:38:21.333Z"
   },
   {
    "duration": 11,
    "start_time": "2023-02-20T07:38:24.656Z"
   },
   {
    "duration": 39,
    "start_time": "2023-02-20T07:39:56.368Z"
   },
   {
    "duration": 16,
    "start_time": "2023-02-20T07:39:57.329Z"
   },
   {
    "duration": 12,
    "start_time": "2023-02-20T07:39:58.261Z"
   },
   {
    "duration": 13,
    "start_time": "2023-02-20T07:40:25.820Z"
   },
   {
    "duration": 48,
    "start_time": "2023-02-20T07:40:34.615Z"
   },
   {
    "duration": 46,
    "start_time": "2023-02-20T07:42:20.016Z"
   },
   {
    "duration": 5,
    "start_time": "2023-02-20T07:42:47.295Z"
   },
   {
    "duration": 17,
    "start_time": "2023-02-20T07:42:59.778Z"
   },
   {
    "duration": 47,
    "start_time": "2023-02-20T07:43:29.557Z"
   },
   {
    "duration": 57,
    "start_time": "2023-02-20T07:43:50.638Z"
   },
   {
    "duration": 56,
    "start_time": "2023-02-20T07:44:15.433Z"
   },
   {
    "duration": 54,
    "start_time": "2023-02-20T07:44:20.564Z"
   },
   {
    "duration": 18,
    "start_time": "2023-02-20T07:44:39.332Z"
   },
   {
    "duration": 5,
    "start_time": "2023-02-20T07:48:23.465Z"
   },
   {
    "duration": 1183,
    "start_time": "2023-02-20T07:48:36.766Z"
   },
   {
    "duration": 90,
    "start_time": "2023-02-20T07:48:37.951Z"
   },
   {
    "duration": 12,
    "start_time": "2023-02-20T07:48:39.559Z"
   },
   {
    "duration": 15,
    "start_time": "2023-02-20T07:48:42.420Z"
   },
   {
    "duration": 7,
    "start_time": "2023-02-20T07:48:43.651Z"
   },
   {
    "duration": 13,
    "start_time": "2023-02-20T07:48:48.159Z"
   },
   {
    "duration": 7,
    "start_time": "2023-02-20T07:49:00.492Z"
   },
   {
    "duration": 5,
    "start_time": "2023-02-20T07:49:41.267Z"
   },
   {
    "duration": 144,
    "start_time": "2023-02-20T07:59:54.781Z"
   },
   {
    "duration": 33,
    "start_time": "2023-02-20T08:00:13.455Z"
   },
   {
    "duration": 33,
    "start_time": "2023-02-20T08:01:26.516Z"
   },
   {
    "duration": 1224,
    "start_time": "2023-02-20T08:01:47.517Z"
   },
   {
    "duration": 99,
    "start_time": "2023-02-20T08:01:48.743Z"
   },
   {
    "duration": 11,
    "start_time": "2023-02-20T08:01:48.956Z"
   },
   {
    "duration": 13,
    "start_time": "2023-02-20T08:01:50.436Z"
   },
   {
    "duration": 5,
    "start_time": "2023-02-20T08:01:51.982Z"
   },
   {
    "duration": 11,
    "start_time": "2023-02-20T08:01:53.737Z"
   },
   {
    "duration": 19,
    "start_time": "2023-02-20T08:01:55.609Z"
   },
   {
    "duration": 6,
    "start_time": "2023-02-20T08:01:56.898Z"
   },
   {
    "duration": 22,
    "start_time": "2023-02-20T08:01:58.525Z"
   },
   {
    "duration": 18,
    "start_time": "2023-02-20T08:02:14.753Z"
   },
   {
    "duration": 19,
    "start_time": "2023-02-20T08:02:39.122Z"
   },
   {
    "duration": 30,
    "start_time": "2023-02-20T08:02:50.353Z"
   },
   {
    "duration": 21,
    "start_time": "2023-02-20T08:07:32.676Z"
   },
   {
    "duration": 70,
    "start_time": "2023-02-20T08:09:00.059Z"
   },
   {
    "duration": 54,
    "start_time": "2023-02-20T08:11:22.061Z"
   },
   {
    "duration": 5,
    "start_time": "2023-02-20T08:11:44.289Z"
   },
   {
    "duration": 56,
    "start_time": "2023-02-20T08:15:14.358Z"
   },
   {
    "duration": 17,
    "start_time": "2023-02-20T08:16:02.868Z"
   },
   {
    "duration": 18,
    "start_time": "2023-02-20T08:19:53.580Z"
   },
   {
    "duration": 20,
    "start_time": "2023-02-20T08:21:45.290Z"
   },
   {
    "duration": 17,
    "start_time": "2023-02-20T08:22:39.587Z"
   },
   {
    "duration": 101,
    "start_time": "2023-02-20T08:22:52.070Z"
   },
   {
    "duration": 17,
    "start_time": "2023-02-20T08:23:46.722Z"
   },
   {
    "duration": 34,
    "start_time": "2023-02-20T08:24:51.269Z"
   },
   {
    "duration": 18,
    "start_time": "2023-02-20T08:25:25.280Z"
   },
   {
    "duration": 31,
    "start_time": "2023-02-20T08:27:44.194Z"
   },
   {
    "duration": 15,
    "start_time": "2023-02-20T08:27:48.183Z"
   },
   {
    "duration": 1140,
    "start_time": "2023-02-20T08:37:31.594Z"
   },
   {
    "duration": 91,
    "start_time": "2023-02-20T08:37:32.736Z"
   },
   {
    "duration": 12,
    "start_time": "2023-02-20T08:37:32.829Z"
   },
   {
    "duration": 12,
    "start_time": "2023-02-20T08:37:32.843Z"
   },
   {
    "duration": 9,
    "start_time": "2023-02-20T08:37:32.857Z"
   },
   {
    "duration": 16,
    "start_time": "2023-02-20T08:37:32.867Z"
   },
   {
    "duration": 34,
    "start_time": "2023-02-20T08:37:32.884Z"
   },
   {
    "duration": 20,
    "start_time": "2023-02-20T08:37:32.920Z"
   },
   {
    "duration": 18,
    "start_time": "2023-02-20T08:37:32.942Z"
   },
   {
    "duration": 49,
    "start_time": "2023-02-20T08:37:32.963Z"
   },
   {
    "duration": 30,
    "start_time": "2023-02-20T08:37:33.013Z"
   },
   {
    "duration": 70,
    "start_time": "2023-02-20T08:37:33.046Z"
   },
   {
    "duration": 15,
    "start_time": "2023-02-20T08:37:33.118Z"
   },
   {
    "duration": 36,
    "start_time": "2023-02-20T08:37:33.135Z"
   },
   {
    "duration": 1456,
    "start_time": "2023-02-20T11:14:47.633Z"
   },
   {
    "duration": 202,
    "start_time": "2023-02-20T11:14:49.092Z"
   },
   {
    "duration": 15,
    "start_time": "2023-02-20T11:14:49.297Z"
   },
   {
    "duration": 28,
    "start_time": "2023-02-20T11:14:49.314Z"
   },
   {
    "duration": 23,
    "start_time": "2023-02-20T11:14:49.345Z"
   },
   {
    "duration": 16,
    "start_time": "2023-02-20T11:14:49.370Z"
   },
   {
    "duration": 30,
    "start_time": "2023-02-20T11:14:49.389Z"
   },
   {
    "duration": 36,
    "start_time": "2023-02-20T11:14:49.421Z"
   },
   {
    "duration": 44,
    "start_time": "2023-02-20T11:14:49.461Z"
   },
   {
    "duration": 37,
    "start_time": "2023-02-20T11:14:49.508Z"
   },
   {
    "duration": 44,
    "start_time": "2023-02-20T11:14:49.547Z"
   },
   {
    "duration": 71,
    "start_time": "2023-02-20T11:14:49.593Z"
   },
   {
    "duration": 17,
    "start_time": "2023-02-20T11:14:49.666Z"
   },
   {
    "duration": 40,
    "start_time": "2023-02-20T11:14:49.687Z"
   },
   {
    "duration": 23,
    "start_time": "2023-02-20T11:24:22.208Z"
   },
   {
    "duration": 34,
    "start_time": "2023-02-20T11:24:37.566Z"
   },
   {
    "duration": 4,
    "start_time": "2023-02-20T11:25:10.667Z"
   },
   {
    "duration": 4,
    "start_time": "2023-02-20T11:25:22.913Z"
   },
   {
    "duration": 35,
    "start_time": "2023-02-20T11:26:50.065Z"
   },
   {
    "duration": 6,
    "start_time": "2023-02-20T11:27:40.166Z"
   },
   {
    "duration": 6,
    "start_time": "2023-02-20T11:27:51.168Z"
   },
   {
    "duration": 6,
    "start_time": "2023-02-20T11:27:55.108Z"
   },
   {
    "duration": 5,
    "start_time": "2023-02-20T11:28:05.124Z"
   },
   {
    "duration": 6,
    "start_time": "2023-02-20T11:28:12.954Z"
   },
   {
    "duration": 72,
    "start_time": "2023-02-20T11:46:57.578Z"
   },
   {
    "duration": 162,
    "start_time": "2023-02-20T11:48:33.119Z"
   },
   {
    "duration": 57,
    "start_time": "2023-02-20T11:48:42.719Z"
   },
   {
    "duration": 7,
    "start_time": "2023-02-20T11:51:52.096Z"
   },
   {
    "duration": 7,
    "start_time": "2023-02-20T11:52:58.536Z"
   },
   {
    "duration": 19,
    "start_time": "2023-02-20T11:53:50.064Z"
   },
   {
    "duration": 21,
    "start_time": "2023-02-20T11:54:11.160Z"
   },
   {
    "duration": 9,
    "start_time": "2023-02-20T11:54:56.498Z"
   },
   {
    "duration": 13,
    "start_time": "2023-02-20T11:55:21.648Z"
   },
   {
    "duration": 11,
    "start_time": "2023-02-20T11:55:26.358Z"
   },
   {
    "duration": 11,
    "start_time": "2023-02-20T11:55:29.116Z"
   },
   {
    "duration": 751,
    "start_time": "2023-02-20T12:03:01.447Z"
   },
   {
    "duration": 22,
    "start_time": "2023-02-20T12:03:12.071Z"
   },
   {
    "duration": 20,
    "start_time": "2023-02-20T12:05:14.785Z"
   },
   {
    "duration": 26,
    "start_time": "2023-02-20T12:05:19.311Z"
   },
   {
    "duration": 19,
    "start_time": "2023-02-20T12:05:27.550Z"
   },
   {
    "duration": 30,
    "start_time": "2023-02-20T12:06:06.017Z"
   },
   {
    "duration": 22,
    "start_time": "2023-02-20T12:07:50.006Z"
   },
   {
    "duration": 26,
    "start_time": "2023-02-20T12:08:19.601Z"
   },
   {
    "duration": 1322,
    "start_time": "2023-02-20T12:08:28.103Z"
   },
   {
    "duration": 95,
    "start_time": "2023-02-20T12:08:29.428Z"
   },
   {
    "duration": 12,
    "start_time": "2023-02-20T12:08:29.524Z"
   },
   {
    "duration": 16,
    "start_time": "2023-02-20T12:08:29.537Z"
   },
   {
    "duration": 8,
    "start_time": "2023-02-20T12:08:29.555Z"
   },
   {
    "duration": 20,
    "start_time": "2023-02-20T12:08:29.565Z"
   },
   {
    "duration": 20,
    "start_time": "2023-02-20T12:08:29.587Z"
   },
   {
    "duration": 41,
    "start_time": "2023-02-20T12:08:29.609Z"
   },
   {
    "duration": 20,
    "start_time": "2023-02-20T12:08:29.652Z"
   },
   {
    "duration": 31,
    "start_time": "2023-02-20T12:08:29.673Z"
   },
   {
    "duration": 45,
    "start_time": "2023-02-20T12:08:29.706Z"
   },
   {
    "duration": 53,
    "start_time": "2023-02-20T12:08:29.752Z"
   },
   {
    "duration": 35,
    "start_time": "2023-02-20T12:08:29.806Z"
   },
   {
    "duration": 30,
    "start_time": "2023-02-20T12:08:29.844Z"
   },
   {
    "duration": 40,
    "start_time": "2023-02-20T12:08:29.876Z"
   },
   {
    "duration": 94,
    "start_time": "2023-02-20T12:08:29.917Z"
   },
   {
    "duration": 43,
    "start_time": "2023-02-20T12:08:30.013Z"
   },
   {
    "duration": 19,
    "start_time": "2023-02-20T12:08:30.058Z"
   },
   {
    "duration": 42,
    "start_time": "2023-02-20T12:08:30.079Z"
   },
   {
    "duration": 830,
    "start_time": "2023-02-20T12:08:30.123Z"
   },
   {
    "duration": 26,
    "start_time": "2023-02-20T12:09:14.932Z"
   },
   {
    "duration": 1246,
    "start_time": "2023-02-20T12:10:03.739Z"
   },
   {
    "duration": 89,
    "start_time": "2023-02-20T12:10:04.987Z"
   },
   {
    "duration": 17,
    "start_time": "2023-02-20T12:10:05.078Z"
   },
   {
    "duration": 15,
    "start_time": "2023-02-20T12:10:05.098Z"
   },
   {
    "duration": 19,
    "start_time": "2023-02-20T12:10:05.115Z"
   },
   {
    "duration": 36,
    "start_time": "2023-02-20T12:10:05.139Z"
   },
   {
    "duration": 26,
    "start_time": "2023-02-20T12:10:05.176Z"
   },
   {
    "duration": 26,
    "start_time": "2023-02-20T12:10:05.204Z"
   },
   {
    "duration": 19,
    "start_time": "2023-02-20T12:10:05.232Z"
   },
   {
    "duration": 22,
    "start_time": "2023-02-20T12:10:05.254Z"
   },
   {
    "duration": 24,
    "start_time": "2023-02-20T12:10:05.278Z"
   },
   {
    "duration": 80,
    "start_time": "2023-02-20T12:10:05.303Z"
   },
   {
    "duration": 14,
    "start_time": "2023-02-20T12:10:05.385Z"
   },
   {
    "duration": 49,
    "start_time": "2023-02-20T12:10:05.401Z"
   },
   {
    "duration": 38,
    "start_time": "2023-02-20T12:10:05.451Z"
   },
   {
    "duration": 86,
    "start_time": "2023-02-20T12:10:05.490Z"
   },
   {
    "duration": 20,
    "start_time": "2023-02-20T12:10:05.578Z"
   },
   {
    "duration": 17,
    "start_time": "2023-02-20T12:10:05.600Z"
   },
   {
    "duration": 24,
    "start_time": "2023-02-20T12:10:05.619Z"
   },
   {
    "duration": 21,
    "start_time": "2023-02-20T12:10:05.645Z"
   },
   {
    "duration": 20,
    "start_time": "2023-02-20T12:10:13.528Z"
   },
   {
    "duration": 4,
    "start_time": "2023-02-20T12:10:22.504Z"
   },
   {
    "duration": 19,
    "start_time": "2023-02-20T12:10:44.893Z"
   },
   {
    "duration": 56,
    "start_time": "2023-02-20T12:11:46.536Z"
   },
   {
    "duration": 13,
    "start_time": "2023-02-20T12:14:10.914Z"
   },
   {
    "duration": 15,
    "start_time": "2023-02-20T12:14:16.092Z"
   },
   {
    "duration": 66,
    "start_time": "2023-02-20T12:14:37.411Z"
   },
   {
    "duration": 18,
    "start_time": "2023-02-20T12:14:44.608Z"
   },
   {
    "duration": 9,
    "start_time": "2023-02-20T12:14:47.261Z"
   },
   {
    "duration": 10,
    "start_time": "2023-02-20T12:14:47.751Z"
   },
   {
    "duration": 14,
    "start_time": "2023-02-20T12:14:48.461Z"
   },
   {
    "duration": 14,
    "start_time": "2023-02-20T12:14:49.138Z"
   },
   {
    "duration": 80,
    "start_time": "2023-02-20T12:14:50.129Z"
   },
   {
    "duration": 11,
    "start_time": "2023-02-20T12:15:37.586Z"
   },
   {
    "duration": 9,
    "start_time": "2023-02-20T12:15:42.441Z"
   },
   {
    "duration": 215,
    "start_time": "2023-02-20T12:16:03.548Z"
   },
   {
    "duration": 176,
    "start_time": "2023-02-20T12:16:29.384Z"
   },
   {
    "duration": 191,
    "start_time": "2023-02-20T12:16:46.224Z"
   },
   {
    "duration": 185,
    "start_time": "2023-02-20T12:16:52.627Z"
   },
   {
    "duration": 193,
    "start_time": "2023-02-20T12:16:57.704Z"
   },
   {
    "duration": 231,
    "start_time": "2023-02-20T12:17:19.303Z"
   },
   {
    "duration": 188,
    "start_time": "2023-02-20T12:17:58.516Z"
   },
   {
    "duration": 1468,
    "start_time": "2023-02-21T06:06:51.021Z"
   },
   {
    "duration": 386,
    "start_time": "2023-02-21T06:06:52.492Z"
   },
   {
    "duration": 10,
    "start_time": "2023-02-21T06:06:52.879Z"
   },
   {
    "duration": 12,
    "start_time": "2023-02-21T06:06:52.891Z"
   },
   {
    "duration": 9,
    "start_time": "2023-02-21T06:06:52.905Z"
   },
   {
    "duration": 15,
    "start_time": "2023-02-21T06:06:52.915Z"
   },
   {
    "duration": 20,
    "start_time": "2023-02-21T06:06:52.932Z"
   },
   {
    "duration": 20,
    "start_time": "2023-02-21T06:06:52.954Z"
   },
   {
    "duration": 17,
    "start_time": "2023-02-21T06:06:52.976Z"
   },
   {
    "duration": 46,
    "start_time": "2023-02-21T06:06:52.995Z"
   },
   {
    "duration": 24,
    "start_time": "2023-02-21T06:06:53.043Z"
   },
   {
    "duration": 50,
    "start_time": "2023-02-21T06:06:53.069Z"
   },
   {
    "duration": 15,
    "start_time": "2023-02-21T06:06:53.138Z"
   },
   {
    "duration": 27,
    "start_time": "2023-02-21T06:06:53.156Z"
   },
   {
    "duration": 61,
    "start_time": "2023-02-21T06:06:53.185Z"
   },
   {
    "duration": 72,
    "start_time": "2023-02-21T06:06:53.248Z"
   },
   {
    "duration": 22,
    "start_time": "2023-02-21T06:06:53.337Z"
   },
   {
    "duration": 11,
    "start_time": "2023-02-21T06:06:53.361Z"
   },
   {
    "duration": 9,
    "start_time": "2023-02-21T06:06:53.374Z"
   },
   {
    "duration": 14,
    "start_time": "2023-02-21T06:06:53.385Z"
   },
   {
    "duration": 48,
    "start_time": "2023-02-21T06:06:53.401Z"
   },
   {
    "duration": 54,
    "start_time": "2023-02-21T06:06:53.451Z"
   },
   {
    "duration": 9,
    "start_time": "2023-02-21T06:06:53.507Z"
   },
   {
    "duration": 191,
    "start_time": "2023-02-21T06:06:53.537Z"
   },
   {
    "duration": 16,
    "start_time": "2023-02-21T06:13:34.822Z"
   },
   {
    "duration": 87,
    "start_time": "2023-02-21T06:15:49.108Z"
   },
   {
    "duration": 16,
    "start_time": "2023-02-21T06:16:09.560Z"
   },
   {
    "duration": 74,
    "start_time": "2023-02-21T06:16:35.491Z"
   },
   {
    "duration": 14,
    "start_time": "2023-02-21T06:16:43.230Z"
   },
   {
    "duration": 9,
    "start_time": "2023-02-21T06:18:09.930Z"
   },
   {
    "duration": 232,
    "start_time": "2023-02-21T06:21:29.902Z"
   },
   {
    "duration": 192,
    "start_time": "2023-02-21T06:22:08.879Z"
   },
   {
    "duration": 279,
    "start_time": "2023-02-21T06:22:23.794Z"
   },
   {
    "duration": 166,
    "start_time": "2023-02-21T06:22:35.554Z"
   },
   {
    "duration": 177,
    "start_time": "2023-02-21T06:23:04.838Z"
   },
   {
    "duration": 173,
    "start_time": "2023-02-21T06:23:17.625Z"
   },
   {
    "duration": 173,
    "start_time": "2023-02-21T06:24:23.258Z"
   },
   {
    "duration": 3701,
    "start_time": "2023-02-21T06:24:33.934Z"
   },
   {
    "duration": 2996,
    "start_time": "2023-02-21T06:25:14.695Z"
   },
   {
    "duration": 168,
    "start_time": "2023-02-21T06:25:42.247Z"
   },
   {
    "duration": 16,
    "start_time": "2023-02-21T06:27:51.563Z"
   },
   {
    "duration": 180,
    "start_time": "2023-02-21T06:28:46.619Z"
   },
   {
    "duration": 74,
    "start_time": "2023-02-21T06:28:57.761Z"
   },
   {
    "duration": 187,
    "start_time": "2023-02-21T06:29:05.168Z"
   },
   {
    "duration": 12,
    "start_time": "2023-02-21T06:29:10.841Z"
   },
   {
    "duration": 12,
    "start_time": "2023-02-21T06:29:36.522Z"
   },
   {
    "duration": 186,
    "start_time": "2023-02-21T06:29:42.217Z"
   },
   {
    "duration": 173,
    "start_time": "2023-02-21T06:32:57.008Z"
   },
   {
    "duration": 405,
    "start_time": "2023-02-21T06:33:41.436Z"
   },
   {
    "duration": 17,
    "start_time": "2023-02-21T06:35:34.401Z"
   },
   {
    "duration": 3893,
    "start_time": "2023-02-21T06:35:42.710Z"
   },
   {
    "duration": 246,
    "start_time": "2023-02-21T06:37:17.695Z"
   },
   {
    "duration": 284,
    "start_time": "2023-02-21T06:37:31.794Z"
   },
   {
    "duration": 228,
    "start_time": "2023-02-21T06:37:39.146Z"
   },
   {
    "duration": 242,
    "start_time": "2023-02-21T06:37:47.195Z"
   },
   {
    "duration": 241,
    "start_time": "2023-02-21T06:38:17.205Z"
   },
   {
    "duration": 233,
    "start_time": "2023-02-21T06:39:21.839Z"
   },
   {
    "duration": 241,
    "start_time": "2023-02-21T06:40:27.483Z"
   },
   {
    "duration": 264,
    "start_time": "2023-02-21T06:40:55.651Z"
   },
   {
    "duration": 167,
    "start_time": "2023-02-21T06:42:51.435Z"
   },
   {
    "duration": 145,
    "start_time": "2023-02-21T06:43:39.704Z"
   },
   {
    "duration": 2,
    "start_time": "2023-02-21T07:07:59.477Z"
   },
   {
    "duration": 7,
    "start_time": "2023-02-21T07:08:13.895Z"
   },
   {
    "duration": 12,
    "start_time": "2023-02-21T07:12:22.176Z"
   },
   {
    "duration": 14,
    "start_time": "2023-02-21T07:12:41.812Z"
   },
   {
    "duration": 11,
    "start_time": "2023-02-21T07:15:02.667Z"
   },
   {
    "duration": 19,
    "start_time": "2023-02-21T07:16:56.269Z"
   },
   {
    "duration": 4,
    "start_time": "2023-02-21T07:17:35.098Z"
   },
   {
    "duration": 11,
    "start_time": "2023-02-21T07:17:48.015Z"
   },
   {
    "duration": 5,
    "start_time": "2023-02-21T07:18:01.222Z"
   },
   {
    "duration": 14,
    "start_time": "2023-02-21T07:23:28.966Z"
   },
   {
    "duration": 17,
    "start_time": "2023-02-21T07:23:46.848Z"
   },
   {
    "duration": 30,
    "start_time": "2023-02-21T07:24:02.501Z"
   },
   {
    "duration": 14,
    "start_time": "2023-02-21T07:25:00.104Z"
   },
   {
    "duration": 15,
    "start_time": "2023-02-21T07:25:22.074Z"
   },
   {
    "duration": 14,
    "start_time": "2023-02-21T07:25:26.701Z"
   },
   {
    "duration": 9,
    "start_time": "2023-02-21T07:25:30.408Z"
   },
   {
    "duration": 8,
    "start_time": "2023-02-21T07:26:48.584Z"
   },
   {
    "duration": 13,
    "start_time": "2023-02-21T07:32:33.271Z"
   },
   {
    "duration": 126,
    "start_time": "2023-02-21T07:32:41.429Z"
   },
   {
    "duration": 341,
    "start_time": "2023-02-21T07:32:53.957Z"
   },
   {
    "duration": 12,
    "start_time": "2023-02-21T07:33:10.445Z"
   },
   {
    "duration": 127,
    "start_time": "2023-02-21T07:33:23.142Z"
   },
   {
    "duration": 120,
    "start_time": "2023-02-21T07:33:38.768Z"
   },
   {
    "duration": 130,
    "start_time": "2023-02-21T07:33:47.986Z"
   },
   {
    "duration": 133,
    "start_time": "2023-02-21T07:34:01.340Z"
   },
   {
    "duration": 12,
    "start_time": "2023-02-21T07:34:35.524Z"
   },
   {
    "duration": 1236,
    "start_time": "2023-02-21T07:34:49.034Z"
   },
   {
    "duration": 100,
    "start_time": "2023-02-21T07:34:50.272Z"
   },
   {
    "duration": 11,
    "start_time": "2023-02-21T07:34:50.374Z"
   },
   {
    "duration": 12,
    "start_time": "2023-02-21T07:34:50.388Z"
   },
   {
    "duration": 19,
    "start_time": "2023-02-21T07:34:50.402Z"
   },
   {
    "duration": 32,
    "start_time": "2023-02-21T07:34:50.422Z"
   },
   {
    "duration": 21,
    "start_time": "2023-02-21T07:34:50.456Z"
   },
   {
    "duration": 29,
    "start_time": "2023-02-21T07:34:50.480Z"
   },
   {
    "duration": 30,
    "start_time": "2023-02-21T07:34:50.511Z"
   },
   {
    "duration": 32,
    "start_time": "2023-02-21T07:34:50.544Z"
   },
   {
    "duration": 27,
    "start_time": "2023-02-21T07:34:50.577Z"
   },
   {
    "duration": 70,
    "start_time": "2023-02-21T07:34:50.605Z"
   },
   {
    "duration": 15,
    "start_time": "2023-02-21T07:34:50.676Z"
   },
   {
    "duration": 45,
    "start_time": "2023-02-21T07:34:50.693Z"
   },
   {
    "duration": 36,
    "start_time": "2023-02-21T07:34:50.739Z"
   },
   {
    "duration": 96,
    "start_time": "2023-02-21T07:34:50.777Z"
   },
   {
    "duration": 24,
    "start_time": "2023-02-21T07:34:50.875Z"
   },
   {
    "duration": 10,
    "start_time": "2023-02-21T07:34:50.901Z"
   },
   {
    "duration": 33,
    "start_time": "2023-02-21T07:34:50.912Z"
   },
   {
    "duration": 24,
    "start_time": "2023-02-21T07:34:50.947Z"
   },
   {
    "duration": 14,
    "start_time": "2023-02-21T07:34:50.972Z"
   },
   {
    "duration": 73,
    "start_time": "2023-02-21T07:34:50.988Z"
   },
   {
    "duration": 10,
    "start_time": "2023-02-21T07:34:51.062Z"
   },
   {
    "duration": 209,
    "start_time": "2023-02-21T07:34:51.074Z"
   },
   {
    "duration": 20,
    "start_time": "2023-02-21T07:34:51.284Z"
   },
   {
    "duration": 134,
    "start_time": "2023-02-21T07:34:51.305Z"
   },
   {
    "duration": 1,
    "start_time": "2023-02-21T07:34:51.441Z"
   },
   {
    "duration": 0,
    "start_time": "2023-02-21T07:34:51.443Z"
   },
   {
    "duration": 0,
    "start_time": "2023-02-21T07:34:51.444Z"
   },
   {
    "duration": 0,
    "start_time": "2023-02-21T07:34:51.446Z"
   },
   {
    "duration": 0,
    "start_time": "2023-02-21T07:34:51.447Z"
   },
   {
    "duration": 0,
    "start_time": "2023-02-21T07:34:51.448Z"
   },
   {
    "duration": 0,
    "start_time": "2023-02-21T07:34:51.449Z"
   },
   {
    "duration": 0,
    "start_time": "2023-02-21T07:34:51.451Z"
   },
   {
    "duration": 0,
    "start_time": "2023-02-21T07:34:51.452Z"
   },
   {
    "duration": 0,
    "start_time": "2023-02-21T07:34:51.453Z"
   },
   {
    "duration": 0,
    "start_time": "2023-02-21T07:34:51.454Z"
   },
   {
    "duration": 0,
    "start_time": "2023-02-21T07:34:51.456Z"
   },
   {
    "duration": 0,
    "start_time": "2023-02-21T07:34:51.456Z"
   },
   {
    "duration": 13,
    "start_time": "2023-02-21T07:36:21.100Z"
   },
   {
    "duration": 6,
    "start_time": "2023-02-21T07:36:24.780Z"
   },
   {
    "duration": 23,
    "start_time": "2023-02-21T07:36:26.321Z"
   },
   {
    "duration": 18,
    "start_time": "2023-02-21T07:36:28.468Z"
   },
   {
    "duration": 10,
    "start_time": "2023-02-21T07:36:29.618Z"
   },
   {
    "duration": 124,
    "start_time": "2023-02-21T07:36:31.723Z"
   },
   {
    "duration": 123,
    "start_time": "2023-02-21T07:36:35.523Z"
   },
   {
    "duration": 121,
    "start_time": "2023-02-21T07:36:40.054Z"
   },
   {
    "duration": 13,
    "start_time": "2023-02-21T07:37:53.544Z"
   },
   {
    "duration": 12,
    "start_time": "2023-02-21T07:38:16.131Z"
   },
   {
    "duration": 13,
    "start_time": "2023-02-21T07:38:21.743Z"
   },
   {
    "duration": 12,
    "start_time": "2023-02-21T07:38:42.724Z"
   },
   {
    "duration": 14,
    "start_time": "2023-02-21T07:38:52.952Z"
   },
   {
    "duration": 14,
    "start_time": "2023-02-21T07:38:56.483Z"
   },
   {
    "duration": 115,
    "start_time": "2023-02-21T07:40:43.081Z"
   },
   {
    "duration": 114,
    "start_time": "2023-02-21T07:42:04.463Z"
   },
   {
    "duration": 134,
    "start_time": "2023-02-21T07:42:18.897Z"
   },
   {
    "duration": 145,
    "start_time": "2023-02-21T07:42:34.473Z"
   },
   {
    "duration": 190,
    "start_time": "2023-02-21T07:43:56.216Z"
   },
   {
    "duration": 117,
    "start_time": "2023-02-21T07:44:02.810Z"
   },
   {
    "duration": 121,
    "start_time": "2023-02-21T07:44:09.746Z"
   },
   {
    "duration": 128,
    "start_time": "2023-02-21T07:44:29.533Z"
   },
   {
    "duration": 18,
    "start_time": "2023-02-21T07:46:32.035Z"
   },
   {
    "duration": 16,
    "start_time": "2023-02-21T07:46:33.192Z"
   },
   {
    "duration": 7,
    "start_time": "2023-02-21T07:46:34.371Z"
   },
   {
    "duration": 266,
    "start_time": "2023-02-21T07:46:35.476Z"
   },
   {
    "duration": 137,
    "start_time": "2023-02-21T07:46:37.510Z"
   },
   {
    "duration": 211,
    "start_time": "2023-02-21T07:47:44.342Z"
   },
   {
    "duration": 207,
    "start_time": "2023-02-21T07:47:59.765Z"
   },
   {
    "duration": 10,
    "start_time": "2023-02-21T07:48:44.497Z"
   },
   {
    "duration": 10,
    "start_time": "2023-02-21T07:48:48.780Z"
   },
   {
    "duration": 193,
    "start_time": "2023-02-21T07:48:53.680Z"
   },
   {
    "duration": 182,
    "start_time": "2023-02-21T07:49:02.947Z"
   },
   {
    "duration": 166,
    "start_time": "2023-02-21T07:49:11.884Z"
   },
   {
    "duration": 308,
    "start_time": "2023-02-21T07:49:35.619Z"
   },
   {
    "duration": 210,
    "start_time": "2023-02-21T07:49:43.304Z"
   },
   {
    "duration": 184,
    "start_time": "2023-02-21T07:49:55.075Z"
   },
   {
    "duration": 138,
    "start_time": "2023-02-21T07:50:16.287Z"
   },
   {
    "duration": 161,
    "start_time": "2023-02-21T07:50:32.377Z"
   },
   {
    "duration": 195,
    "start_time": "2023-02-21T07:53:05.462Z"
   },
   {
    "duration": 198,
    "start_time": "2023-02-21T07:53:37.285Z"
   },
   {
    "duration": 23,
    "start_time": "2023-02-21T08:00:02.031Z"
   },
   {
    "duration": 17,
    "start_time": "2023-02-21T08:00:09.590Z"
   },
   {
    "duration": 5,
    "start_time": "2023-02-21T08:00:21.859Z"
   },
   {
    "duration": 8,
    "start_time": "2023-02-21T08:12:26.175Z"
   },
   {
    "duration": 10,
    "start_time": "2023-02-21T08:12:35.811Z"
   },
   {
    "duration": 9,
    "start_time": "2023-02-21T08:12:40.420Z"
   },
   {
    "duration": 7,
    "start_time": "2023-02-21T08:13:04.780Z"
   },
   {
    "duration": 9,
    "start_time": "2023-02-21T08:13:06.283Z"
   },
   {
    "duration": 12,
    "start_time": "2023-02-21T08:13:14.387Z"
   },
   {
    "duration": 8,
    "start_time": "2023-02-21T08:13:27.955Z"
   },
   {
    "duration": 7,
    "start_time": "2023-02-21T08:16:14.932Z"
   },
   {
    "duration": 10,
    "start_time": "2023-02-21T08:16:16.548Z"
   },
   {
    "duration": 1269,
    "start_time": "2023-02-21T08:17:06.015Z"
   },
   {
    "duration": 101,
    "start_time": "2023-02-21T08:17:07.286Z"
   },
   {
    "duration": 12,
    "start_time": "2023-02-21T08:17:07.389Z"
   },
   {
    "duration": 30,
    "start_time": "2023-02-21T08:17:07.404Z"
   },
   {
    "duration": 17,
    "start_time": "2023-02-21T08:17:07.437Z"
   },
   {
    "duration": 47,
    "start_time": "2023-02-21T08:17:07.456Z"
   },
   {
    "duration": 50,
    "start_time": "2023-02-21T08:17:07.505Z"
   },
   {
    "duration": 28,
    "start_time": "2023-02-21T08:17:07.557Z"
   },
   {
    "duration": 37,
    "start_time": "2023-02-21T08:17:07.587Z"
   },
   {
    "duration": 51,
    "start_time": "2023-02-21T08:17:07.626Z"
   },
   {
    "duration": 42,
    "start_time": "2023-02-21T08:17:07.679Z"
   },
   {
    "duration": 58,
    "start_time": "2023-02-21T08:17:07.723Z"
   },
   {
    "duration": 15,
    "start_time": "2023-02-21T08:17:07.782Z"
   },
   {
    "duration": 45,
    "start_time": "2023-02-21T08:17:07.800Z"
   },
   {
    "duration": 40,
    "start_time": "2023-02-21T08:17:07.847Z"
   },
   {
    "duration": 95,
    "start_time": "2023-02-21T08:17:07.890Z"
   },
   {
    "duration": 20,
    "start_time": "2023-02-21T08:17:07.987Z"
   },
   {
    "duration": 32,
    "start_time": "2023-02-21T08:17:08.009Z"
   },
   {
    "duration": 27,
    "start_time": "2023-02-21T08:17:08.043Z"
   },
   {
    "duration": 53,
    "start_time": "2023-02-21T08:17:08.072Z"
   },
   {
    "duration": 26,
    "start_time": "2023-02-21T08:17:08.127Z"
   },
   {
    "duration": 84,
    "start_time": "2023-02-21T08:17:08.154Z"
   },
   {
    "duration": 9,
    "start_time": "2023-02-21T08:17:08.241Z"
   },
   {
    "duration": 157,
    "start_time": "2023-02-21T08:17:08.252Z"
   },
   {
    "duration": 32,
    "start_time": "2023-02-21T08:17:08.410Z"
   },
   {
    "duration": 38,
    "start_time": "2023-02-21T08:17:08.444Z"
   },
   {
    "duration": 32,
    "start_time": "2023-02-21T08:17:08.484Z"
   },
   {
    "duration": 39,
    "start_time": "2023-02-21T08:17:08.519Z"
   },
   {
    "duration": 23,
    "start_time": "2023-02-21T08:17:08.560Z"
   },
   {
    "duration": 26,
    "start_time": "2023-02-21T08:17:08.585Z"
   },
   {
    "duration": 131,
    "start_time": "2023-02-21T08:17:08.613Z"
   },
   {
    "duration": 129,
    "start_time": "2023-02-21T08:17:08.746Z"
   },
   {
    "duration": 195,
    "start_time": "2023-02-21T08:17:08.877Z"
   },
   {
    "duration": 7,
    "start_time": "2023-02-21T08:17:09.074Z"
   },
   {
    "duration": 39,
    "start_time": "2023-02-21T08:17:09.083Z"
   },
   {
    "duration": 21,
    "start_time": "2023-02-21T08:17:09.124Z"
   },
   {
    "duration": 55,
    "start_time": "2023-02-21T08:17:09.147Z"
   },
   {
    "duration": 35,
    "start_time": "2023-02-21T08:17:09.204Z"
   },
   {
    "duration": 23,
    "start_time": "2023-02-21T08:17:09.241Z"
   },
   {
    "duration": 634,
    "start_time": "2023-02-21T08:17:09.266Z"
   },
   {
    "duration": 234,
    "start_time": "2023-02-21T08:17:09.904Z"
   },
   {
    "duration": 12,
    "start_time": "2023-02-21T08:18:33.043Z"
   },
   {
    "duration": 13,
    "start_time": "2023-02-21T08:19:53.339Z"
   },
   {
    "duration": 13,
    "start_time": "2023-02-21T08:20:13.513Z"
   },
   {
    "duration": 12,
    "start_time": "2023-02-21T08:20:19.127Z"
   },
   {
    "duration": 19,
    "start_time": "2023-02-21T08:20:28.601Z"
   },
   {
    "duration": 38,
    "start_time": "2023-02-21T08:20:52.365Z"
   },
   {
    "duration": 1175,
    "start_time": "2023-02-21T08:23:18.383Z"
   },
   {
    "duration": 100,
    "start_time": "2023-02-21T08:23:19.560Z"
   },
   {
    "duration": 12,
    "start_time": "2023-02-21T08:23:19.662Z"
   },
   {
    "duration": 32,
    "start_time": "2023-02-21T08:23:19.676Z"
   },
   {
    "duration": 31,
    "start_time": "2023-02-21T08:23:19.711Z"
   },
   {
    "duration": 51,
    "start_time": "2023-02-21T08:23:19.743Z"
   },
   {
    "duration": 31,
    "start_time": "2023-02-21T08:23:19.796Z"
   },
   {
    "duration": 49,
    "start_time": "2023-02-21T08:23:19.829Z"
   },
   {
    "duration": 18,
    "start_time": "2023-02-21T08:23:19.880Z"
   },
   {
    "duration": 61,
    "start_time": "2023-02-21T08:23:19.900Z"
   },
   {
    "duration": 40,
    "start_time": "2023-02-21T08:23:19.963Z"
   },
   {
    "duration": 52,
    "start_time": "2023-02-21T08:23:20.005Z"
   },
   {
    "duration": 14,
    "start_time": "2023-02-21T08:23:20.059Z"
   },
   {
    "duration": 59,
    "start_time": "2023-02-21T08:23:20.076Z"
   },
   {
    "duration": 46,
    "start_time": "2023-02-21T08:23:20.136Z"
   },
   {
    "duration": 78,
    "start_time": "2023-02-21T08:23:20.185Z"
   },
   {
    "duration": 19,
    "start_time": "2023-02-21T08:23:20.265Z"
   },
   {
    "duration": 29,
    "start_time": "2023-02-21T08:23:20.285Z"
   },
   {
    "duration": 36,
    "start_time": "2023-02-21T08:23:20.316Z"
   },
   {
    "duration": 22,
    "start_time": "2023-02-21T08:23:20.354Z"
   },
   {
    "duration": 48,
    "start_time": "2023-02-21T08:23:20.377Z"
   },
   {
    "duration": 69,
    "start_time": "2023-02-21T08:23:20.427Z"
   },
   {
    "duration": 10,
    "start_time": "2023-02-21T08:23:20.498Z"
   },
   {
    "duration": 167,
    "start_time": "2023-02-21T08:23:20.509Z"
   },
   {
    "duration": 19,
    "start_time": "2023-02-21T08:23:20.678Z"
   },
   {
    "duration": 30,
    "start_time": "2023-02-21T08:23:20.699Z"
   },
   {
    "duration": 16,
    "start_time": "2023-02-21T08:23:20.731Z"
   },
   {
    "duration": 67,
    "start_time": "2023-02-21T08:23:20.748Z"
   },
   {
    "duration": 14,
    "start_time": "2023-02-21T08:23:20.817Z"
   },
   {
    "duration": 8,
    "start_time": "2023-02-21T08:23:20.833Z"
   },
   {
    "duration": 125,
    "start_time": "2023-02-21T08:23:20.842Z"
   },
   {
    "duration": 129,
    "start_time": "2023-02-21T08:23:20.969Z"
   },
   {
    "duration": 205,
    "start_time": "2023-02-21T08:23:21.100Z"
   },
   {
    "duration": 7,
    "start_time": "2023-02-21T08:23:21.307Z"
   },
   {
    "duration": 56,
    "start_time": "2023-02-21T08:23:21.315Z"
   },
   {
    "duration": 10,
    "start_time": "2023-02-21T08:23:21.372Z"
   },
   {
    "duration": 24,
    "start_time": "2023-02-21T08:23:21.384Z"
   },
   {
    "duration": 19,
    "start_time": "2023-02-21T08:23:21.410Z"
   },
   {
    "duration": 5,
    "start_time": "2023-02-21T08:23:21.431Z"
   },
   {
    "duration": 565,
    "start_time": "2023-02-21T08:23:21.438Z"
   },
   {
    "duration": 226,
    "start_time": "2023-02-21T08:23:22.006Z"
   },
   {
    "duration": 5,
    "start_time": "2023-02-21T08:25:24.715Z"
   },
   {
    "duration": 5,
    "start_time": "2023-02-21T08:26:03.770Z"
   },
   {
    "duration": 7,
    "start_time": "2023-02-21T08:26:33.637Z"
   },
   {
    "duration": 10,
    "start_time": "2023-02-21T08:27:36.323Z"
   },
   {
    "duration": 14,
    "start_time": "2023-02-21T08:27:43.932Z"
   },
   {
    "duration": 14,
    "start_time": "2023-02-21T08:29:55.042Z"
   },
   {
    "duration": 142,
    "start_time": "2023-02-21T08:33:32.377Z"
   },
   {
    "duration": 14,
    "start_time": "2023-02-21T08:33:42.816Z"
   },
   {
    "duration": 24,
    "start_time": "2023-02-21T08:33:48.946Z"
   },
   {
    "duration": 23,
    "start_time": "2023-02-21T08:34:03.681Z"
   },
   {
    "duration": 13,
    "start_time": "2023-02-21T08:34:13.446Z"
   },
   {
    "duration": 14,
    "start_time": "2023-02-21T08:34:26.761Z"
   },
   {
    "duration": 15,
    "start_time": "2023-02-21T08:34:36.929Z"
   },
   {
    "duration": 16,
    "start_time": "2023-02-21T08:36:52.140Z"
   },
   {
    "duration": 2206,
    "start_time": "2023-02-21T08:37:21.415Z"
   },
   {
    "duration": 1482,
    "start_time": "2023-02-21T08:37:40.497Z"
   },
   {
    "duration": 16,
    "start_time": "2023-02-21T08:38:15.876Z"
   },
   {
    "duration": 17,
    "start_time": "2023-02-21T08:38:34.471Z"
   },
   {
    "duration": 16,
    "start_time": "2023-02-21T08:38:44.238Z"
   },
   {
    "duration": 14,
    "start_time": "2023-02-21T08:38:54.239Z"
   },
   {
    "duration": 14,
    "start_time": "2023-02-21T08:39:14.723Z"
   },
   {
    "duration": 15,
    "start_time": "2023-02-21T08:39:29.743Z"
   },
   {
    "duration": 49,
    "start_time": "2023-02-21T08:40:02.464Z"
   },
   {
    "duration": 1221,
    "start_time": "2023-02-21T08:40:03.770Z"
   },
   {
    "duration": 103,
    "start_time": "2023-02-21T08:40:04.993Z"
   },
   {
    "duration": 11,
    "start_time": "2023-02-21T08:40:05.889Z"
   },
   {
    "duration": 12,
    "start_time": "2023-02-21T08:40:07.005Z"
   },
   {
    "duration": 6,
    "start_time": "2023-02-21T08:40:07.989Z"
   },
   {
    "duration": 12,
    "start_time": "2023-02-21T08:40:10.471Z"
   },
   {
    "duration": 18,
    "start_time": "2023-02-21T08:40:11.558Z"
   },
   {
    "duration": 33,
    "start_time": "2023-02-21T08:40:12.681Z"
   },
   {
    "duration": 18,
    "start_time": "2023-02-21T08:40:15.968Z"
   },
   {
    "duration": 26,
    "start_time": "2023-02-21T08:40:19.024Z"
   },
   {
    "duration": 26,
    "start_time": "2023-02-21T08:40:25.368Z"
   },
   {
    "duration": 55,
    "start_time": "2023-02-21T08:40:27.908Z"
   },
   {
    "duration": 16,
    "start_time": "2023-02-21T08:40:28.863Z"
   },
   {
    "duration": 31,
    "start_time": "2023-02-21T08:40:30.191Z"
   },
   {
    "duration": 35,
    "start_time": "2023-02-21T08:40:32.649Z"
   },
   {
    "duration": 87,
    "start_time": "2023-02-21T08:40:42.089Z"
   },
   {
    "duration": 20,
    "start_time": "2023-02-21T08:40:43.828Z"
   },
   {
    "duration": 12,
    "start_time": "2023-02-21T08:40:45.599Z"
   },
   {
    "duration": 11,
    "start_time": "2023-02-21T08:40:46.177Z"
   },
   {
    "duration": 15,
    "start_time": "2023-02-21T08:40:47.080Z"
   },
   {
    "duration": 16,
    "start_time": "2023-02-21T08:40:48.359Z"
   },
   {
    "duration": 71,
    "start_time": "2023-02-21T08:40:49.889Z"
   },
   {
    "duration": 11,
    "start_time": "2023-02-21T08:40:51.074Z"
   },
   {
    "duration": 161,
    "start_time": "2023-02-21T08:40:51.937Z"
   },
   {
    "duration": 19,
    "start_time": "2023-02-21T08:40:54.885Z"
   },
   {
    "duration": 5,
    "start_time": "2023-02-21T08:40:58.134Z"
   },
   {
    "duration": 7,
    "start_time": "2023-02-21T08:41:01.973Z"
   },
   {
    "duration": 13,
    "start_time": "2023-02-21T08:41:56.468Z"
   },
   {
    "duration": 6,
    "start_time": "2023-02-21T08:42:20.442Z"
   },
   {
    "duration": 5,
    "start_time": "2023-02-21T08:42:35.887Z"
   },
   {
    "duration": 5,
    "start_time": "2023-02-21T08:42:50.372Z"
   },
   {
    "duration": 6,
    "start_time": "2023-02-21T08:43:02.380Z"
   },
   {
    "duration": 11,
    "start_time": "2023-02-21T08:43:07.295Z"
   },
   {
    "duration": 1210,
    "start_time": "2023-02-21T08:43:34.286Z"
   },
   {
    "duration": 107,
    "start_time": "2023-02-21T08:43:35.498Z"
   },
   {
    "duration": 11,
    "start_time": "2023-02-21T08:43:35.607Z"
   },
   {
    "duration": 17,
    "start_time": "2023-02-21T08:43:35.620Z"
   },
   {
    "duration": 15,
    "start_time": "2023-02-21T08:43:35.638Z"
   },
   {
    "duration": 32,
    "start_time": "2023-02-21T08:43:35.655Z"
   },
   {
    "duration": 25,
    "start_time": "2023-02-21T08:43:35.689Z"
   },
   {
    "duration": 25,
    "start_time": "2023-02-21T08:43:35.715Z"
   },
   {
    "duration": 19,
    "start_time": "2023-02-21T08:43:35.742Z"
   },
   {
    "duration": 26,
    "start_time": "2023-02-21T08:43:35.765Z"
   },
   {
    "duration": 51,
    "start_time": "2023-02-21T08:43:35.792Z"
   },
   {
    "duration": 56,
    "start_time": "2023-02-21T08:43:35.845Z"
   },
   {
    "duration": 14,
    "start_time": "2023-02-21T08:43:35.903Z"
   },
   {
    "duration": 32,
    "start_time": "2023-02-21T08:43:35.939Z"
   },
   {
    "duration": 36,
    "start_time": "2023-02-21T08:43:35.973Z"
   },
   {
    "duration": 102,
    "start_time": "2023-02-21T08:43:36.012Z"
   },
   {
    "duration": 38,
    "start_time": "2023-02-21T08:43:36.116Z"
   },
   {
    "duration": 10,
    "start_time": "2023-02-21T08:43:36.156Z"
   },
   {
    "duration": 14,
    "start_time": "2023-02-21T08:43:36.168Z"
   },
   {
    "duration": 25,
    "start_time": "2023-02-21T08:43:36.183Z"
   },
   {
    "duration": 28,
    "start_time": "2023-02-21T08:43:36.210Z"
   },
   {
    "duration": 61,
    "start_time": "2023-02-21T08:43:36.240Z"
   },
   {
    "duration": 9,
    "start_time": "2023-02-21T08:43:36.303Z"
   },
   {
    "duration": 188,
    "start_time": "2023-02-21T08:43:36.314Z"
   },
   {
    "duration": 20,
    "start_time": "2023-02-21T08:43:36.504Z"
   },
   {
    "duration": 26,
    "start_time": "2023-02-21T08:43:36.525Z"
   },
   {
    "duration": 4,
    "start_time": "2023-02-21T08:43:36.553Z"
   },
   {
    "duration": 33,
    "start_time": "2023-02-21T08:43:36.561Z"
   },
   {
    "duration": 14,
    "start_time": "2023-02-21T08:43:36.595Z"
   },
   {
    "duration": 28,
    "start_time": "2023-02-21T08:43:36.611Z"
   },
   {
    "duration": 135,
    "start_time": "2023-02-21T08:43:36.640Z"
   },
   {
    "duration": 131,
    "start_time": "2023-02-21T08:43:36.777Z"
   },
   {
    "duration": 207,
    "start_time": "2023-02-21T08:43:36.910Z"
   },
   {
    "duration": 7,
    "start_time": "2023-02-21T08:43:37.119Z"
   },
   {
    "duration": 19,
    "start_time": "2023-02-21T08:43:37.138Z"
   },
   {
    "duration": 15,
    "start_time": "2023-02-21T08:43:37.159Z"
   },
   {
    "duration": 26,
    "start_time": "2023-02-21T08:43:37.176Z"
   },
   {
    "duration": 18,
    "start_time": "2023-02-21T08:43:37.203Z"
   },
   {
    "duration": 5,
    "start_time": "2023-02-21T08:43:37.222Z"
   },
   {
    "duration": 594,
    "start_time": "2023-02-21T08:43:37.229Z"
   },
   {
    "duration": 250,
    "start_time": "2023-02-21T08:43:37.825Z"
   },
   {
    "duration": 7,
    "start_time": "2023-02-21T08:44:24.722Z"
   },
   {
    "duration": 12,
    "start_time": "2023-02-21T08:45:18.313Z"
   },
   {
    "duration": 12,
    "start_time": "2023-02-21T08:48:06.373Z"
   },
   {
    "duration": 128,
    "start_time": "2023-02-21T08:48:41.370Z"
   },
   {
    "duration": 15,
    "start_time": "2023-02-21T08:48:50.945Z"
   },
   {
    "duration": 31,
    "start_time": "2023-02-21T08:52:36.922Z"
   },
   {
    "duration": 17,
    "start_time": "2023-02-21T08:53:57.714Z"
   },
   {
    "duration": 19,
    "start_time": "2023-02-21T08:54:07.064Z"
   },
   {
    "duration": 16,
    "start_time": "2023-02-21T08:54:16.246Z"
   },
   {
    "duration": 9,
    "start_time": "2023-02-21T08:55:16.814Z"
   },
   {
    "duration": 14,
    "start_time": "2023-02-21T08:55:34.920Z"
   },
   {
    "duration": 13,
    "start_time": "2023-02-21T08:55:53.179Z"
   },
   {
    "duration": 14,
    "start_time": "2023-02-21T08:56:00.533Z"
   },
   {
    "duration": 19,
    "start_time": "2023-02-21T08:58:39.227Z"
   },
   {
    "duration": 19,
    "start_time": "2023-02-21T08:58:46.416Z"
   },
   {
    "duration": 18,
    "start_time": "2023-02-21T08:58:56.468Z"
   },
   {
    "duration": 20,
    "start_time": "2023-02-21T08:59:02.783Z"
   },
   {
    "duration": 18,
    "start_time": "2023-02-21T08:59:21.626Z"
   },
   {
    "duration": 16,
    "start_time": "2023-02-21T09:04:53.878Z"
   },
   {
    "duration": 12,
    "start_time": "2023-02-21T09:07:53.229Z"
   },
   {
    "duration": 21,
    "start_time": "2023-02-21T09:08:01.341Z"
   },
   {
    "duration": 11,
    "start_time": "2023-02-21T09:08:06.908Z"
   },
   {
    "duration": 11,
    "start_time": "2023-02-21T09:09:18.062Z"
   },
   {
    "duration": 21,
    "start_time": "2023-02-21T09:09:26.742Z"
   },
   {
    "duration": 20,
    "start_time": "2023-02-21T09:11:00.152Z"
   },
   {
    "duration": 20,
    "start_time": "2023-02-21T09:11:27.944Z"
   },
   {
    "duration": 18,
    "start_time": "2023-02-21T09:11:57.505Z"
   },
   {
    "duration": 21,
    "start_time": "2023-02-21T09:12:04.294Z"
   },
   {
    "duration": 9,
    "start_time": "2023-02-21T09:12:11.596Z"
   },
   {
    "duration": 117,
    "start_time": "2023-02-21T09:24:35.553Z"
   },
   {
    "duration": 140,
    "start_time": "2023-02-21T09:26:38.487Z"
   },
   {
    "duration": 117,
    "start_time": "2023-02-21T09:26:53.506Z"
   },
   {
    "duration": 163,
    "start_time": "2023-02-21T09:27:42.447Z"
   },
   {
    "duration": 141,
    "start_time": "2023-02-21T09:27:50.812Z"
   },
   {
    "duration": 111,
    "start_time": "2023-02-21T09:27:58.703Z"
   },
   {
    "duration": 108,
    "start_time": "2023-02-21T09:28:04.777Z"
   },
   {
    "duration": 119,
    "start_time": "2023-02-21T09:28:53.253Z"
   },
   {
    "duration": 112,
    "start_time": "2023-02-21T09:28:57.286Z"
   },
   {
    "duration": 111,
    "start_time": "2023-02-21T09:29:42.992Z"
   },
   {
    "duration": 125,
    "start_time": "2023-02-21T09:29:50.087Z"
   },
   {
    "duration": 128,
    "start_time": "2023-02-21T09:29:58.912Z"
   },
   {
    "duration": 220,
    "start_time": "2023-02-21T09:30:03.272Z"
   },
   {
    "duration": 128,
    "start_time": "2023-02-21T09:30:08.220Z"
   },
   {
    "duration": 128,
    "start_time": "2023-02-21T09:30:31.060Z"
   },
   {
    "duration": 1242,
    "start_time": "2023-02-21T09:30:50.935Z"
   },
   {
    "duration": 103,
    "start_time": "2023-02-21T09:30:52.179Z"
   },
   {
    "duration": 14,
    "start_time": "2023-02-21T09:30:52.284Z"
   },
   {
    "duration": 46,
    "start_time": "2023-02-21T09:30:52.300Z"
   },
   {
    "duration": 23,
    "start_time": "2023-02-21T09:30:52.348Z"
   },
   {
    "duration": 33,
    "start_time": "2023-02-21T09:30:52.373Z"
   },
   {
    "duration": 66,
    "start_time": "2023-02-21T09:30:52.409Z"
   },
   {
    "duration": 41,
    "start_time": "2023-02-21T09:30:52.477Z"
   },
   {
    "duration": 24,
    "start_time": "2023-02-21T09:30:52.520Z"
   },
   {
    "duration": 42,
    "start_time": "2023-02-21T09:30:52.548Z"
   },
   {
    "duration": 52,
    "start_time": "2023-02-21T09:30:52.592Z"
   },
   {
    "duration": 87,
    "start_time": "2023-02-21T09:30:52.647Z"
   },
   {
    "duration": 16,
    "start_time": "2023-02-21T09:30:52.736Z"
   },
   {
    "duration": 40,
    "start_time": "2023-02-21T09:30:52.753Z"
   },
   {
    "duration": 47,
    "start_time": "2023-02-21T09:30:52.795Z"
   },
   {
    "duration": 78,
    "start_time": "2023-02-21T09:30:52.844Z"
   },
   {
    "duration": 33,
    "start_time": "2023-02-21T09:30:52.923Z"
   },
   {
    "duration": 25,
    "start_time": "2023-02-21T09:30:52.958Z"
   },
   {
    "duration": 27,
    "start_time": "2023-02-21T09:30:52.985Z"
   },
   {
    "duration": 42,
    "start_time": "2023-02-21T09:30:53.014Z"
   },
   {
    "duration": 31,
    "start_time": "2023-02-21T09:30:53.058Z"
   },
   {
    "duration": 82,
    "start_time": "2023-02-21T09:30:53.092Z"
   },
   {
    "duration": 11,
    "start_time": "2023-02-21T09:30:53.177Z"
   },
   {
    "duration": 197,
    "start_time": "2023-02-21T09:30:53.189Z"
   },
   {
    "duration": 14,
    "start_time": "2023-02-21T09:30:53.388Z"
   },
   {
    "duration": 34,
    "start_time": "2023-02-21T09:30:53.404Z"
   },
   {
    "duration": 27,
    "start_time": "2023-02-21T09:30:53.440Z"
   },
   {
    "duration": 56,
    "start_time": "2023-02-21T09:30:53.470Z"
   },
   {
    "duration": 37,
    "start_time": "2023-02-21T09:30:53.529Z"
   },
   {
    "duration": 14,
    "start_time": "2023-02-21T09:30:53.567Z"
   },
   {
    "duration": 143,
    "start_time": "2023-02-21T09:30:53.582Z"
   },
   {
    "duration": 134,
    "start_time": "2023-02-21T09:30:53.727Z"
   },
   {
    "duration": 211,
    "start_time": "2023-02-21T09:30:53.863Z"
   },
   {
    "duration": 7,
    "start_time": "2023-02-21T09:30:54.077Z"
   },
   {
    "duration": 46,
    "start_time": "2023-02-21T09:30:54.087Z"
   },
   {
    "duration": 34,
    "start_time": "2023-02-21T09:30:54.134Z"
   },
   {
    "duration": 20,
    "start_time": "2023-02-21T09:30:54.170Z"
   },
   {
    "duration": 27,
    "start_time": "2023-02-21T09:30:54.193Z"
   },
   {
    "duration": 120,
    "start_time": "2023-02-21T09:30:54.222Z"
   },
   {
    "duration": 139,
    "start_time": "2023-02-21T09:30:54.344Z"
   },
   {
    "duration": 2,
    "start_time": "2023-02-21T09:30:54.485Z"
   },
   {
    "duration": 26,
    "start_time": "2023-02-21T09:30:54.489Z"
   },
   {
    "duration": 32,
    "start_time": "2023-02-21T09:30:54.516Z"
   },
   {
    "duration": 9,
    "start_time": "2023-02-21T09:30:54.550Z"
   },
   {
    "duration": 679,
    "start_time": "2023-02-21T09:30:54.561Z"
   },
   {
    "duration": 158,
    "start_time": "2023-02-21T09:30:55.242Z"
   },
   {
    "duration": 137,
    "start_time": "2023-02-21T09:32:45.663Z"
   },
   {
    "duration": 134,
    "start_time": "2023-02-21T09:33:00.905Z"
   },
   {
    "duration": 134,
    "start_time": "2023-02-21T09:33:11.751Z"
   },
   {
    "duration": 127,
    "start_time": "2023-02-21T09:33:24.805Z"
   },
   {
    "duration": 127,
    "start_time": "2023-02-21T09:33:38.431Z"
   },
   {
    "duration": 129,
    "start_time": "2023-02-21T09:34:39.343Z"
   },
   {
    "duration": 136,
    "start_time": "2023-02-21T09:35:04.334Z"
   },
   {
    "duration": 119,
    "start_time": "2023-02-21T09:35:20.214Z"
   },
   {
    "duration": 113,
    "start_time": "2023-02-21T09:36:55.709Z"
   },
   {
    "duration": 302,
    "start_time": "2023-02-21T09:38:09.030Z"
   },
   {
    "duration": 142,
    "start_time": "2023-02-21T09:38:22.334Z"
   },
   {
    "duration": 127,
    "start_time": "2023-02-21T09:38:57.343Z"
   },
   {
    "duration": 122,
    "start_time": "2023-02-21T09:43:40.219Z"
   },
   {
    "duration": 212,
    "start_time": "2023-02-21T09:43:46.638Z"
   },
   {
    "duration": 1196,
    "start_time": "2023-02-21T09:43:57.477Z"
   },
   {
    "duration": 102,
    "start_time": "2023-02-21T09:43:58.676Z"
   },
   {
    "duration": 11,
    "start_time": "2023-02-21T09:43:58.780Z"
   },
   {
    "duration": 32,
    "start_time": "2023-02-21T09:43:58.793Z"
   },
   {
    "duration": 28,
    "start_time": "2023-02-21T09:43:58.827Z"
   },
   {
    "duration": 12,
    "start_time": "2023-02-21T09:43:58.857Z"
   },
   {
    "duration": 36,
    "start_time": "2023-02-21T09:43:58.871Z"
   },
   {
    "duration": 30,
    "start_time": "2023-02-21T09:43:58.910Z"
   },
   {
    "duration": 20,
    "start_time": "2023-02-21T09:43:58.943Z"
   },
   {
    "duration": 31,
    "start_time": "2023-02-21T09:43:58.964Z"
   },
   {
    "duration": 46,
    "start_time": "2023-02-21T09:43:58.997Z"
   },
   {
    "duration": 57,
    "start_time": "2023-02-21T09:43:59.045Z"
   },
   {
    "duration": 34,
    "start_time": "2023-02-21T09:43:59.104Z"
   },
   {
    "duration": 33,
    "start_time": "2023-02-21T09:43:59.141Z"
   },
   {
    "duration": 39,
    "start_time": "2023-02-21T09:43:59.176Z"
   },
   {
    "duration": 97,
    "start_time": "2023-02-21T09:43:59.217Z"
   },
   {
    "duration": 37,
    "start_time": "2023-02-21T09:43:59.316Z"
   },
   {
    "duration": 11,
    "start_time": "2023-02-21T09:43:59.355Z"
   },
   {
    "duration": 24,
    "start_time": "2023-02-21T09:43:59.368Z"
   },
   {
    "duration": 39,
    "start_time": "2023-02-21T09:43:59.394Z"
   },
   {
    "duration": 58,
    "start_time": "2023-02-21T09:43:59.434Z"
   },
   {
    "duration": 66,
    "start_time": "2023-02-21T09:43:59.494Z"
   },
   {
    "duration": 10,
    "start_time": "2023-02-21T09:43:59.563Z"
   },
   {
    "duration": 165,
    "start_time": "2023-02-21T09:43:59.575Z"
   },
   {
    "duration": 14,
    "start_time": "2023-02-21T09:43:59.742Z"
   },
   {
    "duration": 39,
    "start_time": "2023-02-21T09:43:59.757Z"
   },
   {
    "duration": 5,
    "start_time": "2023-02-21T09:43:59.798Z"
   },
   {
    "duration": 19,
    "start_time": "2023-02-21T09:43:59.804Z"
   },
   {
    "duration": 25,
    "start_time": "2023-02-21T09:43:59.825Z"
   },
   {
    "duration": 7,
    "start_time": "2023-02-21T09:43:59.852Z"
   },
   {
    "duration": 142,
    "start_time": "2023-02-21T09:43:59.861Z"
   },
   {
    "duration": 135,
    "start_time": "2023-02-21T09:44:00.004Z"
   },
   {
    "duration": 201,
    "start_time": "2023-02-21T09:44:00.141Z"
   },
   {
    "duration": 9,
    "start_time": "2023-02-21T09:44:00.344Z"
   },
   {
    "duration": 45,
    "start_time": "2023-02-21T09:44:00.355Z"
   },
   {
    "duration": 72,
    "start_time": "2023-02-21T09:44:00.401Z"
   },
   {
    "duration": 67,
    "start_time": "2023-02-21T09:44:00.475Z"
   },
   {
    "duration": 56,
    "start_time": "2023-02-21T09:44:00.544Z"
   },
   {
    "duration": 171,
    "start_time": "2023-02-21T09:44:00.601Z"
   },
   {
    "duration": 453,
    "start_time": "2023-02-21T09:44:00.773Z"
   },
   {
    "duration": 7,
    "start_time": "2023-02-21T09:44:01.230Z"
   },
   {
    "duration": 32,
    "start_time": "2023-02-21T09:44:01.239Z"
   },
   {
    "duration": 37,
    "start_time": "2023-02-21T09:44:01.273Z"
   },
   {
    "duration": 5,
    "start_time": "2023-02-21T09:44:01.312Z"
   },
   {
    "duration": 699,
    "start_time": "2023-02-21T09:44:01.319Z"
   },
   {
    "duration": 164,
    "start_time": "2023-02-21T09:44:02.020Z"
   },
   {
    "duration": 223,
    "start_time": "2023-02-21T09:45:08.971Z"
   },
   {
    "duration": 467,
    "start_time": "2023-02-21T09:45:37.450Z"
   },
   {
    "duration": 536,
    "start_time": "2023-02-21T09:46:58.490Z"
   },
   {
    "duration": 465,
    "start_time": "2023-02-21T09:47:49.184Z"
   },
   {
    "duration": 458,
    "start_time": "2023-02-21T09:48:05.171Z"
   },
   {
    "duration": 435,
    "start_time": "2023-02-21T09:48:15.874Z"
   },
   {
    "duration": 7,
    "start_time": "2023-02-21T09:55:46.932Z"
   },
   {
    "duration": 10,
    "start_time": "2023-02-21T09:55:50.270Z"
   },
   {
    "duration": 7,
    "start_time": "2023-02-21T09:57:33.095Z"
   },
   {
    "duration": 10,
    "start_time": "2023-02-21T09:57:35.449Z"
   },
   {
    "duration": 8,
    "start_time": "2023-02-21T09:58:04.169Z"
   },
   {
    "duration": 13,
    "start_time": "2023-02-21T09:58:27.038Z"
   },
   {
    "duration": 5,
    "start_time": "2023-02-21T09:59:35.370Z"
   },
   {
    "duration": 1390,
    "start_time": "2023-02-21T09:59:59.127Z"
   },
   {
    "duration": 3,
    "start_time": "2023-02-21T10:01:59.535Z"
   },
   {
    "duration": 12,
    "start_time": "2023-02-21T10:02:39.973Z"
   },
   {
    "duration": 10,
    "start_time": "2023-02-21T10:04:12.870Z"
   },
   {
    "duration": 8,
    "start_time": "2023-02-21T10:04:16.621Z"
   },
   {
    "duration": 13,
    "start_time": "2023-02-21T10:05:57.743Z"
   },
   {
    "duration": 9,
    "start_time": "2023-02-21T10:06:22.179Z"
   },
   {
    "duration": 9,
    "start_time": "2023-02-21T10:08:59.833Z"
   },
   {
    "duration": 23,
    "start_time": "2023-02-21T10:15:20.520Z"
   },
   {
    "duration": 6,
    "start_time": "2023-02-21T10:15:44.177Z"
   },
   {
    "duration": 8,
    "start_time": "2023-02-21T10:16:25.169Z"
   },
   {
    "duration": 9,
    "start_time": "2023-02-21T10:16:25.992Z"
   },
   {
    "duration": 19,
    "start_time": "2023-02-21T10:17:58.825Z"
   },
   {
    "duration": 22,
    "start_time": "2023-02-21T10:18:11.491Z"
   },
   {
    "duration": 5,
    "start_time": "2023-02-21T10:23:26.537Z"
   },
   {
    "duration": 6,
    "start_time": "2023-02-21T10:23:35.377Z"
   },
   {
    "duration": 1324,
    "start_time": "2023-02-21T10:24:32.411Z"
   },
   {
    "duration": 4,
    "start_time": "2023-02-21T10:25:08.463Z"
   },
   {
    "duration": 5,
    "start_time": "2023-02-21T10:25:13.288Z"
   },
   {
    "duration": 73,
    "start_time": "2023-02-21T10:26:05.987Z"
   },
   {
    "duration": 17,
    "start_time": "2023-02-21T10:26:26.969Z"
   },
   {
    "duration": 1110,
    "start_time": "2023-02-21T10:27:09.728Z"
   },
   {
    "duration": 9,
    "start_time": "2023-02-21T10:27:26.267Z"
   },
   {
    "duration": 16,
    "start_time": "2023-02-21T10:28:59.016Z"
   },
   {
    "duration": 15,
    "start_time": "2023-02-21T10:29:07.292Z"
   },
   {
    "duration": 9,
    "start_time": "2023-02-21T10:29:36.114Z"
   },
   {
    "duration": 1231,
    "start_time": "2023-02-22T06:31:31.683Z"
   },
   {
    "duration": 172,
    "start_time": "2023-02-22T06:31:32.916Z"
   },
   {
    "duration": 12,
    "start_time": "2023-02-22T06:31:33.089Z"
   },
   {
    "duration": 11,
    "start_time": "2023-02-22T06:31:33.103Z"
   },
   {
    "duration": 8,
    "start_time": "2023-02-22T06:31:33.116Z"
   },
   {
    "duration": 12,
    "start_time": "2023-02-22T06:31:33.126Z"
   },
   {
    "duration": 17,
    "start_time": "2023-02-22T06:31:33.140Z"
   },
   {
    "duration": 20,
    "start_time": "2023-02-22T06:31:33.159Z"
   },
   {
    "duration": 16,
    "start_time": "2023-02-22T06:31:33.181Z"
   },
   {
    "duration": 46,
    "start_time": "2023-02-22T06:31:33.198Z"
   },
   {
    "duration": 19,
    "start_time": "2023-02-22T06:31:33.245Z"
   },
   {
    "duration": 44,
    "start_time": "2023-02-22T06:31:33.266Z"
   },
   {
    "duration": 34,
    "start_time": "2023-02-22T06:31:33.311Z"
   },
   {
    "duration": 23,
    "start_time": "2023-02-22T06:31:33.348Z"
   },
   {
    "duration": 29,
    "start_time": "2023-02-22T06:31:33.373Z"
   },
   {
    "duration": 83,
    "start_time": "2023-02-22T06:31:33.404Z"
   },
   {
    "duration": 19,
    "start_time": "2023-02-22T06:31:33.489Z"
   },
   {
    "duration": 9,
    "start_time": "2023-02-22T06:31:33.510Z"
   },
   {
    "duration": 9,
    "start_time": "2023-02-22T06:31:33.538Z"
   },
   {
    "duration": 15,
    "start_time": "2023-02-22T06:31:33.548Z"
   },
   {
    "duration": 28,
    "start_time": "2023-02-22T06:31:33.564Z"
   },
   {
    "duration": 63,
    "start_time": "2023-02-22T06:31:33.594Z"
   },
   {
    "duration": 8,
    "start_time": "2023-02-22T06:31:33.659Z"
   },
   {
    "duration": 145,
    "start_time": "2023-02-22T06:31:33.668Z"
   },
   {
    "duration": 11,
    "start_time": "2023-02-22T06:31:33.815Z"
   },
   {
    "duration": 11,
    "start_time": "2023-02-22T06:31:33.837Z"
   },
   {
    "duration": 13,
    "start_time": "2023-02-22T06:31:33.849Z"
   },
   {
    "duration": 15,
    "start_time": "2023-02-22T06:31:33.864Z"
   },
   {
    "duration": 14,
    "start_time": "2023-02-22T06:31:33.880Z"
   },
   {
    "duration": 8,
    "start_time": "2023-02-22T06:31:33.895Z"
   },
   {
    "duration": 122,
    "start_time": "2023-02-22T06:31:33.904Z"
   },
   {
    "duration": 111,
    "start_time": "2023-02-22T06:31:34.028Z"
   },
   {
    "duration": 174,
    "start_time": "2023-02-22T06:31:34.141Z"
   },
   {
    "duration": 7,
    "start_time": "2023-02-22T06:31:34.317Z"
   },
   {
    "duration": 19,
    "start_time": "2023-02-22T06:31:34.326Z"
   },
   {
    "duration": 21,
    "start_time": "2023-02-22T06:31:34.346Z"
   },
   {
    "duration": 16,
    "start_time": "2023-02-22T06:31:34.369Z"
   },
   {
    "duration": 6,
    "start_time": "2023-02-22T06:31:34.387Z"
   },
   {
    "duration": 122,
    "start_time": "2023-02-22T06:31:34.395Z"
   },
   {
    "duration": 382,
    "start_time": "2023-02-22T06:31:34.519Z"
   },
   {
    "duration": 10,
    "start_time": "2023-02-22T06:31:34.905Z"
   },
   {
    "duration": 21,
    "start_time": "2023-02-22T06:31:34.917Z"
   },
   {
    "duration": 21,
    "start_time": "2023-02-22T06:31:34.939Z"
   },
   {
    "duration": 15,
    "start_time": "2023-02-22T06:31:34.962Z"
   },
   {
    "duration": 8,
    "start_time": "2023-02-22T06:31:34.979Z"
   },
   {
    "duration": 2,
    "start_time": "2023-02-22T06:31:34.989Z"
   },
   {
    "duration": 123,
    "start_time": "2023-02-22T06:31:34.993Z"
   },
   {
    "duration": 20,
    "start_time": "2023-02-22T06:31:35.118Z"
   },
   {
    "duration": 4,
    "start_time": "2023-02-22T06:31:35.139Z"
   },
   {
    "duration": 491,
    "start_time": "2023-02-22T06:31:35.144Z"
   },
   {
    "duration": 146,
    "start_time": "2023-02-22T06:31:35.637Z"
   },
   {
    "duration": 126,
    "start_time": "2023-02-22T06:35:52.527Z"
   },
   {
    "duration": 111,
    "start_time": "2023-02-22T06:37:07.897Z"
   },
   {
    "duration": 111,
    "start_time": "2023-02-22T06:37:14.917Z"
   },
   {
    "duration": 135,
    "start_time": "2023-02-22T06:37:21.111Z"
   },
   {
    "duration": 99,
    "start_time": "2023-02-22T06:37:25.720Z"
   },
   {
    "duration": 112,
    "start_time": "2023-02-22T06:37:29.284Z"
   },
   {
    "duration": 179,
    "start_time": "2023-02-22T06:37:32.807Z"
   },
   {
    "duration": 93,
    "start_time": "2023-02-22T06:37:36.501Z"
   },
   {
    "duration": 101,
    "start_time": "2023-02-22T06:37:45.221Z"
   },
   {
    "duration": 97,
    "start_time": "2023-02-22T06:37:48.087Z"
   },
   {
    "duration": 166,
    "start_time": "2023-02-22T06:39:45.089Z"
   },
   {
    "duration": 159,
    "start_time": "2023-02-22T06:41:51.636Z"
   },
   {
    "duration": 8,
    "start_time": "2023-02-22T06:48:44.683Z"
   },
   {
    "duration": 10,
    "start_time": "2023-02-22T06:48:46.446Z"
   },
   {
    "duration": 10,
    "start_time": "2023-02-22T06:53:55.747Z"
   },
   {
    "duration": 9,
    "start_time": "2023-02-22T06:56:40.427Z"
   },
   {
    "duration": 11,
    "start_time": "2023-02-22T06:57:47.874Z"
   },
   {
    "duration": 12,
    "start_time": "2023-02-22T06:57:54.400Z"
   },
   {
    "duration": 12,
    "start_time": "2023-02-22T06:58:51.968Z"
   },
   {
    "duration": 12,
    "start_time": "2023-02-22T06:58:55.208Z"
   },
   {
    "duration": 11,
    "start_time": "2023-02-22T06:58:59.156Z"
   },
   {
    "duration": 856,
    "start_time": "2023-02-22T06:59:38.064Z"
   },
   {
    "duration": 11,
    "start_time": "2023-02-22T06:59:47.243Z"
   },
   {
    "duration": 15,
    "start_time": "2023-02-22T07:03:31.852Z"
   },
   {
    "duration": 12,
    "start_time": "2023-02-22T07:04:36.183Z"
   },
   {
    "duration": 7,
    "start_time": "2023-02-22T07:06:28.635Z"
   },
   {
    "duration": 8,
    "start_time": "2023-02-22T07:06:31.075Z"
   },
   {
    "duration": 14,
    "start_time": "2023-02-22T07:06:53.123Z"
   },
   {
    "duration": 13,
    "start_time": "2023-02-22T07:07:47.253Z"
   },
   {
    "duration": 6,
    "start_time": "2023-02-22T07:09:09.342Z"
   },
   {
    "duration": 8,
    "start_time": "2023-02-22T07:09:10.436Z"
   },
   {
    "duration": 13,
    "start_time": "2023-02-22T07:09:14.799Z"
   },
   {
    "duration": 105,
    "start_time": "2023-02-22T07:09:31.414Z"
   },
   {
    "duration": 199,
    "start_time": "2023-02-22T07:09:48.170Z"
   },
   {
    "duration": 8,
    "start_time": "2023-02-22T07:09:59.533Z"
   },
   {
    "duration": 14,
    "start_time": "2023-02-22T07:10:02.460Z"
   },
   {
    "duration": 6,
    "start_time": "2023-02-22T07:10:17.463Z"
   },
   {
    "duration": 12,
    "start_time": "2023-02-22T07:10:18.616Z"
   },
   {
    "duration": 12,
    "start_time": "2023-02-22T07:10:21.426Z"
   },
   {
    "duration": 9,
    "start_time": "2023-02-22T07:12:13.923Z"
   },
   {
    "duration": 9,
    "start_time": "2023-02-22T07:12:16.053Z"
   },
   {
    "duration": 14,
    "start_time": "2023-02-22T07:12:20.095Z"
   },
   {
    "duration": 7,
    "start_time": "2023-02-22T07:12:28.973Z"
   },
   {
    "duration": 8,
    "start_time": "2023-02-22T07:12:29.866Z"
   },
   {
    "duration": 14,
    "start_time": "2023-02-22T07:12:32.526Z"
   },
   {
    "duration": 8,
    "start_time": "2023-02-22T07:12:58.573Z"
   },
   {
    "duration": 8,
    "start_time": "2023-02-22T07:12:59.130Z"
   },
   {
    "duration": 13,
    "start_time": "2023-02-22T07:13:00.363Z"
   },
   {
    "duration": 7,
    "start_time": "2023-02-22T07:13:58.023Z"
   },
   {
    "duration": 10,
    "start_time": "2023-02-22T07:13:58.441Z"
   },
   {
    "duration": 17,
    "start_time": "2023-02-22T07:13:59.535Z"
   },
   {
    "duration": 13,
    "start_time": "2023-02-22T07:17:22.889Z"
   },
   {
    "duration": 15,
    "start_time": "2023-02-22T07:18:13.989Z"
   },
   {
    "duration": 10,
    "start_time": "2023-02-22T07:18:21.396Z"
   },
   {
    "duration": 9,
    "start_time": "2023-02-22T07:20:24.745Z"
   },
   {
    "duration": 9,
    "start_time": "2023-02-22T07:22:43.877Z"
   },
   {
    "duration": 10,
    "start_time": "2023-02-22T07:22:47.858Z"
   },
   {
    "duration": 14,
    "start_time": "2023-02-22T07:23:28.223Z"
   },
   {
    "duration": 7,
    "start_time": "2023-02-22T07:25:50.777Z"
   },
   {
    "duration": 10,
    "start_time": "2023-02-22T07:25:51.426Z"
   },
   {
    "duration": 13,
    "start_time": "2023-02-22T07:25:57.189Z"
   },
   {
    "duration": 7,
    "start_time": "2023-02-22T07:26:48.059Z"
   },
   {
    "duration": 8,
    "start_time": "2023-02-22T07:26:48.595Z"
   },
   {
    "duration": 12,
    "start_time": "2023-02-22T07:26:53.409Z"
   },
   {
    "duration": 18,
    "start_time": "2023-02-22T07:27:53.881Z"
   },
   {
    "duration": 1119,
    "start_time": "2023-02-22T07:50:50.765Z"
   },
   {
    "duration": 19,
    "start_time": "2023-02-22T07:55:17.343Z"
   },
   {
    "duration": 18,
    "start_time": "2023-02-22T07:56:41.656Z"
   },
   {
    "duration": 27,
    "start_time": "2023-02-22T08:07:58.388Z"
   },
   {
    "duration": 26,
    "start_time": "2023-02-22T08:09:52.673Z"
   },
   {
    "duration": 38,
    "start_time": "2023-02-22T08:17:55.883Z"
   },
   {
    "duration": 26,
    "start_time": "2023-02-22T08:19:29.108Z"
   },
   {
    "duration": 24,
    "start_time": "2023-02-22T08:19:33.581Z"
   },
   {
    "duration": 26,
    "start_time": "2023-02-22T08:19:40.704Z"
   },
   {
    "duration": 20,
    "start_time": "2023-02-22T08:19:57.451Z"
   },
   {
    "duration": 21,
    "start_time": "2023-02-22T08:20:48.461Z"
   },
   {
    "duration": 12,
    "start_time": "2023-02-22T08:21:59.140Z"
   },
   {
    "duration": 29,
    "start_time": "2023-02-22T08:22:02.056Z"
   },
   {
    "duration": 11,
    "start_time": "2023-02-22T08:22:02.828Z"
   },
   {
    "duration": 13,
    "start_time": "2023-02-22T08:22:22.736Z"
   },
   {
    "duration": 4,
    "start_time": "2023-02-22T08:22:30.568Z"
   },
   {
    "duration": 14,
    "start_time": "2023-02-22T08:22:38.050Z"
   },
   {
    "duration": 4,
    "start_time": "2023-02-22T08:24:05.168Z"
   },
   {
    "duration": 6,
    "start_time": "2023-02-22T08:24:12.036Z"
   },
   {
    "duration": 181,
    "start_time": "2023-02-22T08:27:10.149Z"
   },
   {
    "duration": 152,
    "start_time": "2023-02-22T08:27:37.660Z"
   },
   {
    "duration": 199,
    "start_time": "2023-02-22T08:28:07.848Z"
   },
   {
    "duration": 12,
    "start_time": "2023-02-22T08:29:23.508Z"
   },
   {
    "duration": 21,
    "start_time": "2023-02-22T08:29:28.747Z"
   },
   {
    "duration": 14,
    "start_time": "2023-02-22T08:31:57.361Z"
   },
   {
    "duration": 12,
    "start_time": "2023-02-22T08:32:09.571Z"
   },
   {
    "duration": 17,
    "start_time": "2023-02-22T08:33:05.085Z"
   },
   {
    "duration": 17,
    "start_time": "2023-02-22T08:33:11.795Z"
   },
   {
    "duration": 287,
    "start_time": "2023-02-22T08:33:28.821Z"
   },
   {
    "duration": 186,
    "start_time": "2023-02-22T08:34:01.932Z"
   },
   {
    "duration": 184,
    "start_time": "2023-02-22T08:35:17.076Z"
   },
   {
    "duration": 17,
    "start_time": "2023-02-22T08:35:41.696Z"
   },
   {
    "duration": 192,
    "start_time": "2023-02-22T08:35:47.968Z"
   },
   {
    "duration": 12,
    "start_time": "2023-02-22T08:36:07.616Z"
   },
   {
    "duration": 21,
    "start_time": "2023-02-22T08:36:21.632Z"
   },
   {
    "duration": 17,
    "start_time": "2023-02-22T08:36:34.564Z"
   },
   {
    "duration": 9,
    "start_time": "2023-02-22T08:36:49.561Z"
   },
   {
    "duration": 11,
    "start_time": "2023-02-22T08:36:59.722Z"
   },
   {
    "duration": 241,
    "start_time": "2023-02-22T08:40:57.160Z"
   },
   {
    "duration": 12,
    "start_time": "2023-02-22T08:41:56.704Z"
   },
   {
    "duration": 157,
    "start_time": "2023-02-22T08:42:00.528Z"
   },
   {
    "duration": 14,
    "start_time": "2023-02-22T08:42:23.192Z"
   },
   {
    "duration": 15,
    "start_time": "2023-02-22T08:42:33.068Z"
   },
   {
    "duration": 9,
    "start_time": "2023-02-22T08:42:39.665Z"
   },
   {
    "duration": 182,
    "start_time": "2023-02-22T08:42:43.122Z"
   },
   {
    "duration": 155,
    "start_time": "2023-02-22T08:42:48.617Z"
   },
   {
    "duration": 176,
    "start_time": "2023-02-22T08:43:11.228Z"
   },
   {
    "duration": 204,
    "start_time": "2023-02-22T08:43:42.626Z"
   },
   {
    "duration": 168,
    "start_time": "2023-02-22T08:43:51.287Z"
   },
   {
    "duration": 174,
    "start_time": "2023-02-22T08:43:57.778Z"
   },
   {
    "duration": 15,
    "start_time": "2023-02-22T08:44:44.048Z"
   },
   {
    "duration": 164,
    "start_time": "2023-02-22T08:45:17.277Z"
   },
   {
    "duration": 166,
    "start_time": "2023-02-22T08:45:36.467Z"
   },
   {
    "duration": 13,
    "start_time": "2023-02-22T08:47:51.221Z"
   },
   {
    "duration": 15,
    "start_time": "2023-02-22T08:50:08.967Z"
   },
   {
    "duration": 10,
    "start_time": "2023-02-22T08:50:21.265Z"
   },
   {
    "duration": 271,
    "start_time": "2023-02-22T08:50:29.755Z"
   },
   {
    "duration": 22,
    "start_time": "2023-02-22T08:51:21.042Z"
   },
   {
    "duration": 19,
    "start_time": "2023-02-22T09:04:28.335Z"
   },
   {
    "duration": 24,
    "start_time": "2023-02-22T09:05:33.820Z"
   },
   {
    "duration": 6,
    "start_time": "2023-02-22T09:05:45.068Z"
   },
   {
    "duration": 9,
    "start_time": "2023-02-22T09:39:32.711Z"
   },
   {
    "duration": 10,
    "start_time": "2023-02-22T09:39:42.332Z"
   },
   {
    "duration": 33,
    "start_time": "2023-02-22T09:39:54.481Z"
   },
   {
    "duration": 42,
    "start_time": "2023-02-22T09:40:08.669Z"
   },
   {
    "duration": 26,
    "start_time": "2023-02-22T09:40:11.967Z"
   },
   {
    "duration": 1141,
    "start_time": "2023-02-22T09:41:40.133Z"
   },
   {
    "duration": 602,
    "start_time": "2023-02-22T09:42:29.462Z"
   },
   {
    "duration": 523,
    "start_time": "2023-02-22T09:42:36.826Z"
   },
   {
    "duration": 695,
    "start_time": "2023-02-22T09:42:45.779Z"
   },
   {
    "duration": 529,
    "start_time": "2023-02-22T09:42:58.371Z"
   },
   {
    "duration": 665,
    "start_time": "2023-02-22T09:43:59.916Z"
   },
   {
    "duration": 389,
    "start_time": "2023-02-22T09:44:25.717Z"
   },
   {
    "duration": 398,
    "start_time": "2023-02-22T09:44:31.725Z"
   },
   {
    "duration": 1313,
    "start_time": "2023-02-22T09:45:22.398Z"
   },
   {
    "duration": 36,
    "start_time": "2023-02-22T09:46:01.713Z"
   },
   {
    "duration": 8,
    "start_time": "2023-02-22T09:46:37.789Z"
   },
   {
    "duration": 6,
    "start_time": "2023-02-22T09:47:36.927Z"
   },
   {
    "duration": 20,
    "start_time": "2023-02-22T09:51:50.191Z"
   },
   {
    "duration": 26,
    "start_time": "2023-02-22T09:51:59.632Z"
   },
   {
    "duration": 14,
    "start_time": "2023-02-22T09:52:03.075Z"
   },
   {
    "duration": 1293,
    "start_time": "2023-02-22T09:52:15.933Z"
   },
   {
    "duration": 180,
    "start_time": "2023-02-22T09:52:17.229Z"
   },
   {
    "duration": 16,
    "start_time": "2023-02-22T09:52:17.410Z"
   },
   {
    "duration": 16,
    "start_time": "2023-02-22T09:52:17.428Z"
   },
   {
    "duration": 21,
    "start_time": "2023-02-22T09:52:17.448Z"
   },
   {
    "duration": 15,
    "start_time": "2023-02-22T09:52:17.471Z"
   },
   {
    "duration": 25,
    "start_time": "2023-02-22T09:52:17.488Z"
   },
   {
    "duration": 40,
    "start_time": "2023-02-22T09:52:17.515Z"
   },
   {
    "duration": 19,
    "start_time": "2023-02-22T09:52:17.557Z"
   },
   {
    "duration": 24,
    "start_time": "2023-02-22T09:52:17.577Z"
   },
   {
    "duration": 55,
    "start_time": "2023-02-22T09:52:17.603Z"
   },
   {
    "duration": 56,
    "start_time": "2023-02-22T09:52:17.660Z"
   },
   {
    "duration": 30,
    "start_time": "2023-02-22T09:52:17.718Z"
   },
   {
    "duration": 38,
    "start_time": "2023-02-22T09:52:17.755Z"
   },
   {
    "duration": 59,
    "start_time": "2023-02-22T09:52:17.795Z"
   },
   {
    "duration": 5,
    "start_time": "2023-02-22T09:52:17.856Z"
   },
   {
    "duration": 8,
    "start_time": "2023-02-22T09:52:17.863Z"
   },
   {
    "duration": 17,
    "start_time": "2023-02-22T09:52:17.873Z"
   },
   {
    "duration": 15,
    "start_time": "2023-02-22T09:52:17.892Z"
   },
   {
    "duration": 520,
    "start_time": "2023-02-22T09:52:17.938Z"
   },
   {
    "duration": 341,
    "start_time": "2023-02-22T09:52:18.460Z"
   },
   {
    "duration": 97,
    "start_time": "2023-02-22T09:52:18.803Z"
   },
   {
    "duration": 21,
    "start_time": "2023-02-22T09:52:18.902Z"
   },
   {
    "duration": 26,
    "start_time": "2023-02-22T09:52:18.925Z"
   },
   {
    "duration": 11,
    "start_time": "2023-02-22T09:52:18.955Z"
   },
   {
    "duration": 23,
    "start_time": "2023-02-22T09:52:18.968Z"
   },
   {
    "duration": 14,
    "start_time": "2023-02-22T09:52:18.993Z"
   },
   {
    "duration": 86,
    "start_time": "2023-02-22T09:52:19.009Z"
   },
   {
    "duration": 13,
    "start_time": "2023-02-22T09:52:19.097Z"
   },
   {
    "duration": 178,
    "start_time": "2023-02-22T09:52:19.112Z"
   },
   {
    "duration": 14,
    "start_time": "2023-02-22T09:52:19.291Z"
   },
   {
    "duration": 26,
    "start_time": "2023-02-22T09:52:19.306Z"
   },
   {
    "duration": 15,
    "start_time": "2023-02-22T09:52:19.339Z"
   },
   {
    "duration": 34,
    "start_time": "2023-02-22T09:52:19.357Z"
   },
   {
    "duration": 20,
    "start_time": "2023-02-22T09:52:19.393Z"
   },
   {
    "duration": 10,
    "start_time": "2023-02-22T09:52:19.416Z"
   },
   {
    "duration": 118,
    "start_time": "2023-02-22T09:52:19.447Z"
   },
   {
    "duration": 135,
    "start_time": "2023-02-22T09:52:19.568Z"
   },
   {
    "duration": 240,
    "start_time": "2023-02-22T09:52:19.705Z"
   },
   {
    "duration": 12,
    "start_time": "2023-02-22T09:52:19.947Z"
   },
   {
    "duration": 29,
    "start_time": "2023-02-22T09:52:19.963Z"
   },
   {
    "duration": 33,
    "start_time": "2023-02-22T09:52:19.994Z"
   },
   {
    "duration": 28,
    "start_time": "2023-02-22T09:52:20.029Z"
   },
   {
    "duration": 27,
    "start_time": "2023-02-22T09:52:20.059Z"
   },
   {
    "duration": 10,
    "start_time": "2023-02-22T09:52:20.087Z"
   },
   {
    "duration": 136,
    "start_time": "2023-02-22T09:52:20.098Z"
   },
   {
    "duration": 530,
    "start_time": "2023-02-22T09:52:20.236Z"
   },
   {
    "duration": 8,
    "start_time": "2023-02-22T09:52:20.768Z"
   },
   {
    "duration": 15,
    "start_time": "2023-02-22T09:52:20.778Z"
   },
   {
    "duration": 26,
    "start_time": "2023-02-22T09:52:20.795Z"
   },
   {
    "duration": 38,
    "start_time": "2023-02-22T09:52:20.823Z"
   },
   {
    "duration": 15,
    "start_time": "2023-02-22T09:52:20.863Z"
   },
   {
    "duration": 8,
    "start_time": "2023-02-22T09:52:20.880Z"
   },
   {
    "duration": 160,
    "start_time": "2023-02-22T09:52:20.890Z"
   },
   {
    "duration": 173,
    "start_time": "2023-02-22T09:52:21.053Z"
   },
   {
    "duration": 201,
    "start_time": "2023-02-22T09:52:21.237Z"
   },
   {
    "duration": 9,
    "start_time": "2023-02-22T09:52:21.450Z"
   },
   {
    "duration": 23,
    "start_time": "2023-02-22T09:52:21.461Z"
   },
   {
    "duration": 22,
    "start_time": "2023-02-22T09:52:21.486Z"
   },
   {
    "duration": 30,
    "start_time": "2023-02-22T09:52:21.510Z"
   },
   {
    "duration": 38,
    "start_time": "2023-02-22T09:52:21.545Z"
   },
   {
    "duration": 27,
    "start_time": "2023-02-22T09:52:21.585Z"
   },
   {
    "duration": 10,
    "start_time": "2023-02-22T09:52:21.614Z"
   },
   {
    "duration": 33,
    "start_time": "2023-02-22T09:52:21.626Z"
   },
   {
    "duration": 18,
    "start_time": "2023-02-22T09:52:21.661Z"
   },
   {
    "duration": 180,
    "start_time": "2023-02-22T09:52:21.681Z"
   },
   {
    "duration": 141,
    "start_time": "2023-02-22T09:52:21.863Z"
   },
   {
    "duration": 0,
    "start_time": "2023-02-22T09:52:22.007Z"
   },
   {
    "duration": 0,
    "start_time": "2023-02-22T09:52:22.008Z"
   },
   {
    "duration": 0,
    "start_time": "2023-02-22T09:52:22.009Z"
   },
   {
    "duration": 0,
    "start_time": "2023-02-22T09:52:22.010Z"
   },
   {
    "duration": 0,
    "start_time": "2023-02-22T09:52:22.011Z"
   },
   {
    "duration": 0,
    "start_time": "2023-02-22T09:52:22.012Z"
   },
   {
    "duration": 0,
    "start_time": "2023-02-22T09:52:22.013Z"
   },
   {
    "duration": 30,
    "start_time": "2023-02-22T09:55:58.797Z"
   },
   {
    "duration": 34,
    "start_time": "2023-02-22T09:56:14.389Z"
   },
   {
    "duration": 328,
    "start_time": "2023-02-22T09:56:34.997Z"
   },
   {
    "duration": 263,
    "start_time": "2023-02-22T09:57:55.856Z"
   },
   {
    "duration": 324,
    "start_time": "2023-02-22T09:58:00.396Z"
   },
   {
    "duration": 330,
    "start_time": "2023-02-22T09:58:11.530Z"
   },
   {
    "duration": 527,
    "start_time": "2023-02-22T09:58:19.767Z"
   },
   {
    "duration": 13,
    "start_time": "2023-02-22T10:10:17.090Z"
   },
   {
    "duration": 20,
    "start_time": "2023-02-22T10:10:47.064Z"
   },
   {
    "duration": 223,
    "start_time": "2023-02-22T10:11:06.758Z"
   },
   {
    "duration": 399,
    "start_time": "2023-02-22T10:11:37.021Z"
   },
   {
    "duration": 29,
    "start_time": "2023-02-22T10:12:09.419Z"
   },
   {
    "duration": 249,
    "start_time": "2023-02-22T10:12:20.716Z"
   },
   {
    "duration": 400,
    "start_time": "2023-02-22T10:13:11.363Z"
   },
   {
    "duration": 432,
    "start_time": "2023-02-22T10:13:54.566Z"
   },
   {
    "duration": 563,
    "start_time": "2023-02-22T10:14:16.459Z"
   },
   {
    "duration": 480,
    "start_time": "2023-02-22T10:14:24.306Z"
   },
   {
    "duration": 28,
    "start_time": "2023-02-22T10:15:25.325Z"
   },
   {
    "duration": 15,
    "start_time": "2023-02-22T10:16:42.056Z"
   },
   {
    "duration": 81,
    "start_time": "2023-02-22T10:18:52.872Z"
   },
   {
    "duration": 24,
    "start_time": "2023-02-22T10:19:07.418Z"
   },
   {
    "duration": 11,
    "start_time": "2023-02-22T10:19:55.176Z"
   },
   {
    "duration": 21,
    "start_time": "2023-02-22T10:19:57.034Z"
   },
   {
    "duration": 17,
    "start_time": "2023-02-22T10:20:14.437Z"
   },
   {
    "duration": 16,
    "start_time": "2023-02-22T10:20:33.544Z"
   },
   {
    "duration": 56,
    "start_time": "2023-02-22T10:20:50.398Z"
   },
   {
    "duration": 13,
    "start_time": "2023-02-22T10:21:07.013Z"
   },
   {
    "duration": 197,
    "start_time": "2023-02-22T10:21:23.116Z"
   },
   {
    "duration": 70,
    "start_time": "2023-02-22T10:23:20.494Z"
   },
   {
    "duration": 285,
    "start_time": "2023-02-22T10:30:00.729Z"
   },
   {
    "duration": 430,
    "start_time": "2023-02-22T10:30:37.155Z"
   },
   {
    "duration": 286,
    "start_time": "2023-02-22T10:34:43.447Z"
   },
   {
    "duration": 279,
    "start_time": "2023-02-22T10:34:51.399Z"
   },
   {
    "duration": 274,
    "start_time": "2023-02-22T10:34:58.853Z"
   },
   {
    "duration": 296,
    "start_time": "2023-02-22T10:35:06.222Z"
   },
   {
    "duration": 271,
    "start_time": "2023-02-22T10:35:20.832Z"
   },
   {
    "duration": 317,
    "start_time": "2023-02-22T10:35:25.849Z"
   },
   {
    "duration": 298,
    "start_time": "2023-02-22T10:35:37.922Z"
   },
   {
    "duration": 621,
    "start_time": "2023-02-22T10:36:29.636Z"
   },
   {
    "duration": 266,
    "start_time": "2023-02-22T10:36:59.300Z"
   },
   {
    "duration": 335,
    "start_time": "2023-02-22T10:37:11.332Z"
   },
   {
    "duration": 5,
    "start_time": "2023-02-22T10:48:06.430Z"
   },
   {
    "duration": 5,
    "start_time": "2023-02-22T10:48:20.494Z"
   },
   {
    "duration": 6,
    "start_time": "2023-02-22T10:48:43.572Z"
   },
   {
    "duration": 6,
    "start_time": "2023-02-22T10:48:49.801Z"
   },
   {
    "duration": 7,
    "start_time": "2023-02-22T10:48:57.066Z"
   },
   {
    "duration": 8,
    "start_time": "2023-02-22T10:49:06.367Z"
   },
   {
    "duration": 7,
    "start_time": "2023-02-22T10:49:21.082Z"
   },
   {
    "duration": 4,
    "start_time": "2023-02-22T10:49:21.953Z"
   },
   {
    "duration": 10,
    "start_time": "2023-02-22T10:51:06.213Z"
   },
   {
    "duration": 6,
    "start_time": "2023-02-22T10:52:23.525Z"
   },
   {
    "duration": 49,
    "start_time": "2023-02-22T10:54:11.964Z"
   },
   {
    "duration": 12,
    "start_time": "2023-02-22T10:55:47.197Z"
   },
   {
    "duration": 10,
    "start_time": "2023-02-22T10:55:54.249Z"
   },
   {
    "duration": 20,
    "start_time": "2023-02-22T10:56:10.669Z"
   },
   {
    "duration": 16,
    "start_time": "2023-02-22T10:56:20.760Z"
   },
   {
    "duration": 24,
    "start_time": "2023-02-22T10:56:49.127Z"
   },
   {
    "duration": 10,
    "start_time": "2023-02-22T10:57:04.923Z"
   },
   {
    "duration": 14,
    "start_time": "2023-02-22T10:57:09.954Z"
   },
   {
    "duration": 19,
    "start_time": "2023-02-22T10:57:20.385Z"
   },
   {
    "duration": 12,
    "start_time": "2023-02-22T10:57:51.090Z"
   },
   {
    "duration": 131,
    "start_time": "2023-02-22T10:58:06.865Z"
   },
   {
    "duration": 138,
    "start_time": "2023-02-22T10:58:21.051Z"
   },
   {
    "duration": 115,
    "start_time": "2023-02-22T10:58:34.681Z"
   },
   {
    "duration": 125,
    "start_time": "2023-02-22T10:58:48.776Z"
   },
   {
    "duration": 12,
    "start_time": "2023-02-22T10:59:05.971Z"
   },
   {
    "duration": 130,
    "start_time": "2023-02-22T10:59:12.265Z"
   },
   {
    "duration": 124,
    "start_time": "2023-02-22T10:59:19.527Z"
   },
   {
    "duration": 118,
    "start_time": "2023-02-22T10:59:52.784Z"
   },
   {
    "duration": 28,
    "start_time": "2023-02-22T11:07:01.082Z"
   },
   {
    "duration": 16,
    "start_time": "2023-02-22T11:07:15.332Z"
   },
   {
    "duration": 16,
    "start_time": "2023-02-22T11:07:25.965Z"
   },
   {
    "duration": 182,
    "start_time": "2023-02-22T11:08:24.533Z"
   },
   {
    "duration": 148,
    "start_time": "2023-02-22T11:08:59.689Z"
   },
   {
    "duration": 145,
    "start_time": "2023-02-22T11:09:11.752Z"
   },
   {
    "duration": 195,
    "start_time": "2023-02-22T11:10:37.478Z"
   },
   {
    "duration": 151,
    "start_time": "2023-02-22T11:11:24.471Z"
   },
   {
    "duration": 18,
    "start_time": "2023-02-22T11:11:42.435Z"
   },
   {
    "duration": 159,
    "start_time": "2023-02-22T11:11:48.892Z"
   },
   {
    "duration": 1464,
    "start_time": "2023-02-23T06:38:17.135Z"
   },
   {
    "duration": 190,
    "start_time": "2023-02-23T06:38:18.602Z"
   },
   {
    "duration": 12,
    "start_time": "2023-02-23T06:38:18.794Z"
   },
   {
    "duration": 12,
    "start_time": "2023-02-23T06:38:18.808Z"
   },
   {
    "duration": 10,
    "start_time": "2023-02-23T06:38:18.822Z"
   },
   {
    "duration": 21,
    "start_time": "2023-02-23T06:38:18.834Z"
   },
   {
    "duration": 26,
    "start_time": "2023-02-23T06:38:18.856Z"
   },
   {
    "duration": 23,
    "start_time": "2023-02-23T06:38:18.884Z"
   },
   {
    "duration": 19,
    "start_time": "2023-02-23T06:38:18.908Z"
   },
   {
    "duration": 45,
    "start_time": "2023-02-23T06:38:18.929Z"
   },
   {
    "duration": 25,
    "start_time": "2023-02-23T06:38:18.975Z"
   },
   {
    "duration": 71,
    "start_time": "2023-02-23T06:38:19.001Z"
   },
   {
    "duration": 14,
    "start_time": "2023-02-23T06:38:19.074Z"
   },
   {
    "duration": 37,
    "start_time": "2023-02-23T06:38:19.090Z"
   },
   {
    "duration": 53,
    "start_time": "2023-02-23T06:38:19.129Z"
   },
   {
    "duration": 83,
    "start_time": "2023-02-23T06:38:19.185Z"
   },
   {
    "duration": 22,
    "start_time": "2023-02-23T06:38:19.270Z"
   },
   {
    "duration": 10,
    "start_time": "2023-02-23T06:38:19.294Z"
   },
   {
    "duration": 10,
    "start_time": "2023-02-23T06:38:19.305Z"
   },
   {
    "duration": 46,
    "start_time": "2023-02-23T06:38:19.316Z"
   },
   {
    "duration": 13,
    "start_time": "2023-02-23T06:38:19.364Z"
   },
   {
    "duration": 56,
    "start_time": "2023-02-23T06:38:19.379Z"
   },
   {
    "duration": 22,
    "start_time": "2023-02-23T06:38:19.437Z"
   },
   {
    "duration": 167,
    "start_time": "2023-02-23T06:38:19.461Z"
   },
   {
    "duration": 6,
    "start_time": "2023-02-23T06:38:19.629Z"
   },
   {
    "duration": 40,
    "start_time": "2023-02-23T06:38:19.636Z"
   },
   {
    "duration": 314,
    "start_time": "2023-02-23T06:38:19.677Z"
   },
   {
    "duration": 441,
    "start_time": "2023-02-23T06:38:19.995Z"
   },
   {
    "duration": 4,
    "start_time": "2023-02-23T06:38:20.438Z"
   },
   {
    "duration": 17,
    "start_time": "2023-02-23T06:38:20.453Z"
   },
   {
    "duration": 33,
    "start_time": "2023-02-23T06:38:20.471Z"
   },
   {
    "duration": 99,
    "start_time": "2023-02-23T06:38:20.506Z"
   },
   {
    "duration": 119,
    "start_time": "2023-02-23T06:38:20.607Z"
   },
   {
    "duration": 11,
    "start_time": "2023-02-23T06:38:20.727Z"
   },
   {
    "duration": 156,
    "start_time": "2023-02-23T06:38:20.752Z"
   },
   {
    "duration": 12,
    "start_time": "2023-02-23T06:38:20.910Z"
   },
   {
    "duration": 36,
    "start_time": "2023-02-23T06:38:20.924Z"
   },
   {
    "duration": 5,
    "start_time": "2023-02-23T06:38:20.962Z"
   },
   {
    "duration": 21,
    "start_time": "2023-02-23T06:38:20.968Z"
   },
   {
    "duration": 14,
    "start_time": "2023-02-23T06:38:20.991Z"
   },
   {
    "duration": 8,
    "start_time": "2023-02-23T06:38:21.006Z"
   },
   {
    "duration": 147,
    "start_time": "2023-02-23T06:38:21.015Z"
   },
   {
    "duration": 195,
    "start_time": "2023-02-23T06:38:21.163Z"
   },
   {
    "duration": 218,
    "start_time": "2023-02-23T06:38:21.359Z"
   },
   {
    "duration": 7,
    "start_time": "2023-02-23T06:38:21.579Z"
   },
   {
    "duration": 12,
    "start_time": "2023-02-23T06:38:21.587Z"
   },
   {
    "duration": 19,
    "start_time": "2023-02-23T06:38:21.600Z"
   },
   {
    "duration": 40,
    "start_time": "2023-02-23T06:38:21.621Z"
   },
   {
    "duration": 19,
    "start_time": "2023-02-23T06:38:21.663Z"
   },
   {
    "duration": 11,
    "start_time": "2023-02-23T06:38:21.684Z"
   },
   {
    "duration": 136,
    "start_time": "2023-02-23T06:38:21.696Z"
   },
   {
    "duration": 460,
    "start_time": "2023-02-23T06:38:21.834Z"
   },
   {
    "duration": 8,
    "start_time": "2023-02-23T06:38:22.295Z"
   },
   {
    "duration": 21,
    "start_time": "2023-02-23T06:38:22.305Z"
   },
   {
    "duration": 25,
    "start_time": "2023-02-23T06:38:22.328Z"
   },
   {
    "duration": 22,
    "start_time": "2023-02-23T06:38:22.355Z"
   },
   {
    "duration": 15,
    "start_time": "2023-02-23T06:38:22.379Z"
   },
   {
    "duration": 8,
    "start_time": "2023-02-23T06:38:22.396Z"
   },
   {
    "duration": 155,
    "start_time": "2023-02-23T06:38:22.406Z"
   },
   {
    "duration": 128,
    "start_time": "2023-02-23T06:38:22.563Z"
   },
   {
    "duration": 188,
    "start_time": "2023-02-23T06:38:22.693Z"
   },
   {
    "duration": 7,
    "start_time": "2023-02-23T06:38:22.883Z"
   },
   {
    "duration": 10,
    "start_time": "2023-02-23T06:38:22.891Z"
   },
   {
    "duration": 19,
    "start_time": "2023-02-23T06:38:22.902Z"
   },
   {
    "duration": 39,
    "start_time": "2023-02-23T06:38:22.923Z"
   },
   {
    "duration": 21,
    "start_time": "2023-02-23T06:38:22.964Z"
   },
   {
    "duration": 21,
    "start_time": "2023-02-23T06:38:22.987Z"
   },
   {
    "duration": 10,
    "start_time": "2023-02-23T06:38:23.010Z"
   },
   {
    "duration": 33,
    "start_time": "2023-02-23T06:38:23.021Z"
   },
   {
    "duration": 9,
    "start_time": "2023-02-23T06:38:23.056Z"
   },
   {
    "duration": 186,
    "start_time": "2023-02-23T06:38:23.067Z"
   },
   {
    "duration": 126,
    "start_time": "2023-02-23T06:38:23.255Z"
   },
   {
    "duration": 0,
    "start_time": "2023-02-23T06:38:23.383Z"
   },
   {
    "duration": 0,
    "start_time": "2023-02-23T06:38:23.385Z"
   },
   {
    "duration": 0,
    "start_time": "2023-02-23T06:38:23.386Z"
   },
   {
    "duration": 0,
    "start_time": "2023-02-23T06:38:23.388Z"
   },
   {
    "duration": 0,
    "start_time": "2023-02-23T06:38:23.389Z"
   },
   {
    "duration": 0,
    "start_time": "2023-02-23T06:38:23.391Z"
   },
   {
    "duration": 0,
    "start_time": "2023-02-23T06:38:23.392Z"
   },
   {
    "duration": 45,
    "start_time": "2023-02-23T06:49:33.258Z"
   },
   {
    "duration": 47,
    "start_time": "2023-02-23T06:49:45.483Z"
   },
   {
    "duration": 51,
    "start_time": "2023-02-23T06:49:52.561Z"
   },
   {
    "duration": 49,
    "start_time": "2023-02-23T06:50:03.366Z"
   },
   {
    "duration": 49,
    "start_time": "2023-02-23T06:50:13.480Z"
   },
   {
    "duration": 76,
    "start_time": "2023-02-23T06:50:32.553Z"
   },
   {
    "duration": 61,
    "start_time": "2023-02-23T06:50:40.015Z"
   },
   {
    "duration": 63,
    "start_time": "2023-02-23T06:50:59.211Z"
   },
   {
    "duration": 67,
    "start_time": "2023-02-23T06:51:06.443Z"
   },
   {
    "duration": 7,
    "start_time": "2023-02-23T07:03:50.802Z"
   },
   {
    "duration": 9,
    "start_time": "2023-02-23T07:03:52.286Z"
   },
   {
    "duration": 17,
    "start_time": "2023-02-23T07:03:55.075Z"
   },
   {
    "duration": 7,
    "start_time": "2023-02-23T07:04:42.140Z"
   },
   {
    "duration": 15,
    "start_time": "2023-02-23T07:09:09.176Z"
   },
   {
    "duration": 24,
    "start_time": "2023-02-23T07:09:28.458Z"
   },
   {
    "duration": 1194,
    "start_time": "2023-02-23T07:10:11.770Z"
   },
   {
    "duration": 93,
    "start_time": "2023-02-23T07:10:12.966Z"
   },
   {
    "duration": 12,
    "start_time": "2023-02-23T07:10:13.060Z"
   },
   {
    "duration": 16,
    "start_time": "2023-02-23T07:10:13.074Z"
   },
   {
    "duration": 10,
    "start_time": "2023-02-23T07:10:13.092Z"
   },
   {
    "duration": 15,
    "start_time": "2023-02-23T07:10:13.103Z"
   },
   {
    "duration": 18,
    "start_time": "2023-02-23T07:10:13.152Z"
   },
   {
    "duration": 33,
    "start_time": "2023-02-23T07:10:13.172Z"
   },
   {
    "duration": 48,
    "start_time": "2023-02-23T07:10:13.207Z"
   },
   {
    "duration": 23,
    "start_time": "2023-02-23T07:10:13.258Z"
   },
   {
    "duration": 28,
    "start_time": "2023-02-23T07:10:13.283Z"
   },
   {
    "duration": 85,
    "start_time": "2023-02-23T07:10:13.313Z"
   },
   {
    "duration": 22,
    "start_time": "2023-02-23T07:10:13.400Z"
   },
   {
    "duration": 60,
    "start_time": "2023-02-23T07:10:13.425Z"
   },
   {
    "duration": 49,
    "start_time": "2023-02-23T07:10:13.486Z"
   },
   {
    "duration": 100,
    "start_time": "2023-02-23T07:10:13.537Z"
   },
   {
    "duration": 29,
    "start_time": "2023-02-23T07:10:13.653Z"
   },
   {
    "duration": 13,
    "start_time": "2023-02-23T07:10:13.686Z"
   },
   {
    "duration": 18,
    "start_time": "2023-02-23T07:10:13.701Z"
   },
   {
    "duration": 39,
    "start_time": "2023-02-23T07:10:13.721Z"
   },
   {
    "duration": 21,
    "start_time": "2023-02-23T07:10:13.762Z"
   },
   {
    "duration": 111,
    "start_time": "2023-02-23T07:10:13.786Z"
   },
   {
    "duration": 10,
    "start_time": "2023-02-23T07:10:13.899Z"
   },
   {
    "duration": 204,
    "start_time": "2023-02-23T07:10:13.911Z"
   },
   {
    "duration": 6,
    "start_time": "2023-02-23T07:10:14.117Z"
   },
   {
    "duration": 50,
    "start_time": "2023-02-23T07:10:14.125Z"
   },
   {
    "duration": 337,
    "start_time": "2023-02-23T07:10:14.178Z"
   },
   {
    "duration": 502,
    "start_time": "2023-02-23T07:10:14.519Z"
   },
   {
    "duration": 6,
    "start_time": "2023-02-23T07:10:15.023Z"
   },
   {
    "duration": 24,
    "start_time": "2023-02-23T07:10:15.031Z"
   },
   {
    "duration": 30,
    "start_time": "2023-02-23T07:10:15.057Z"
   },
   {
    "duration": 129,
    "start_time": "2023-02-23T07:10:15.093Z"
   },
   {
    "duration": 146,
    "start_time": "2023-02-23T07:10:15.224Z"
   },
   {
    "duration": 14,
    "start_time": "2023-02-23T07:10:15.372Z"
   },
   {
    "duration": 191,
    "start_time": "2023-02-23T07:10:15.388Z"
   },
   {
    "duration": 13,
    "start_time": "2023-02-23T07:10:15.581Z"
   },
   {
    "duration": 22,
    "start_time": "2023-02-23T07:10:15.596Z"
   },
   {
    "duration": 43,
    "start_time": "2023-02-23T07:10:15.620Z"
   },
   {
    "duration": 21,
    "start_time": "2023-02-23T07:10:15.665Z"
   },
   {
    "duration": 10,
    "start_time": "2023-02-23T07:10:15.688Z"
   },
   {
    "duration": 154,
    "start_time": "2023-02-23T07:10:15.701Z"
   },
   {
    "duration": 215,
    "start_time": "2023-02-23T07:10:15.857Z"
   },
   {
    "duration": 269,
    "start_time": "2023-02-23T07:10:16.074Z"
   },
   {
    "duration": 16,
    "start_time": "2023-02-23T07:10:16.345Z"
   },
   {
    "duration": 33,
    "start_time": "2023-02-23T07:10:16.363Z"
   },
   {
    "duration": 26,
    "start_time": "2023-02-23T07:10:16.398Z"
   },
   {
    "duration": 43,
    "start_time": "2023-02-23T07:10:16.427Z"
   },
   {
    "duration": 30,
    "start_time": "2023-02-23T07:10:16.472Z"
   },
   {
    "duration": 11,
    "start_time": "2023-02-23T07:10:16.505Z"
   },
   {
    "duration": 161,
    "start_time": "2023-02-23T07:10:16.519Z"
   },
   {
    "duration": 488,
    "start_time": "2023-02-23T07:10:16.682Z"
   },
   {
    "duration": 10,
    "start_time": "2023-02-23T07:10:17.173Z"
   },
   {
    "duration": 26,
    "start_time": "2023-02-23T07:10:17.185Z"
   },
   {
    "duration": 21,
    "start_time": "2023-02-23T07:10:17.214Z"
   },
   {
    "duration": 52,
    "start_time": "2023-02-23T07:10:17.237Z"
   },
   {
    "duration": 22,
    "start_time": "2023-02-23T07:10:17.291Z"
   },
   {
    "duration": 11,
    "start_time": "2023-02-23T07:10:17.315Z"
   },
   {
    "duration": 169,
    "start_time": "2023-02-23T07:10:17.353Z"
   },
   {
    "duration": 185,
    "start_time": "2023-02-23T07:10:17.525Z"
   },
   {
    "duration": 202,
    "start_time": "2023-02-23T07:10:17.713Z"
   },
   {
    "duration": 9,
    "start_time": "2023-02-23T07:10:17.917Z"
   },
   {
    "duration": 15,
    "start_time": "2023-02-23T07:10:17.928Z"
   },
   {
    "duration": 13,
    "start_time": "2023-02-23T07:10:17.954Z"
   },
   {
    "duration": 22,
    "start_time": "2023-02-23T07:10:17.969Z"
   },
   {
    "duration": 20,
    "start_time": "2023-02-23T07:10:17.993Z"
   },
   {
    "duration": 48,
    "start_time": "2023-02-23T07:10:18.015Z"
   },
   {
    "duration": 12,
    "start_time": "2023-02-23T07:10:18.065Z"
   },
   {
    "duration": 7,
    "start_time": "2023-02-23T07:10:18.078Z"
   },
   {
    "duration": 10,
    "start_time": "2023-02-23T07:10:18.086Z"
   },
   {
    "duration": 211,
    "start_time": "2023-02-23T07:10:18.098Z"
   },
   {
    "duration": 18,
    "start_time": "2023-02-23T07:10:18.311Z"
   },
   {
    "duration": 6,
    "start_time": "2023-02-23T07:10:18.331Z"
   },
   {
    "duration": 5,
    "start_time": "2023-02-23T07:10:18.355Z"
   },
   {
    "duration": 21,
    "start_time": "2023-02-23T07:10:18.362Z"
   },
   {
    "duration": 17,
    "start_time": "2023-02-23T07:10:18.385Z"
   },
   {
    "duration": 4,
    "start_time": "2023-02-23T07:10:18.404Z"
   },
   {
    "duration": 684,
    "start_time": "2023-02-23T07:10:18.411Z"
   },
   {
    "duration": 172,
    "start_time": "2023-02-23T07:10:19.097Z"
   },
   {
    "duration": 20,
    "start_time": "2023-02-23T07:13:35.745Z"
   },
   {
    "duration": 8,
    "start_time": "2023-02-23T07:14:52.069Z"
   },
   {
    "duration": 9,
    "start_time": "2023-02-23T07:14:52.656Z"
   },
   {
    "duration": 14,
    "start_time": "2023-02-23T07:14:59.290Z"
   },
   {
    "duration": 23,
    "start_time": "2023-02-23T07:17:14.210Z"
   },
   {
    "duration": 22,
    "start_time": "2023-02-23T07:17:19.352Z"
   },
   {
    "duration": 18,
    "start_time": "2023-02-23T07:18:09.204Z"
   },
   {
    "duration": 30,
    "start_time": "2023-02-23T07:18:31.179Z"
   },
   {
    "duration": 8,
    "start_time": "2023-02-23T07:19:13.261Z"
   },
   {
    "duration": 11,
    "start_time": "2023-02-23T07:19:13.761Z"
   },
   {
    "duration": 21,
    "start_time": "2023-02-23T07:19:16.371Z"
   },
   {
    "duration": 1235,
    "start_time": "2023-02-23T08:13:24.585Z"
   },
   {
    "duration": 97,
    "start_time": "2023-02-23T08:13:25.822Z"
   },
   {
    "duration": 12,
    "start_time": "2023-02-23T08:13:25.921Z"
   },
   {
    "duration": 16,
    "start_time": "2023-02-23T08:13:25.935Z"
   },
   {
    "duration": 26,
    "start_time": "2023-02-23T08:13:25.954Z"
   },
   {
    "duration": 12,
    "start_time": "2023-02-23T08:13:25.982Z"
   },
   {
    "duration": 22,
    "start_time": "2023-02-23T08:13:25.996Z"
   },
   {
    "duration": 39,
    "start_time": "2023-02-23T08:13:26.020Z"
   },
   {
    "duration": 23,
    "start_time": "2023-02-23T08:13:26.065Z"
   },
   {
    "duration": 25,
    "start_time": "2023-02-23T08:13:26.090Z"
   },
   {
    "duration": 50,
    "start_time": "2023-02-23T08:13:26.118Z"
   },
   {
    "duration": 60,
    "start_time": "2023-02-23T08:13:26.173Z"
   },
   {
    "duration": 35,
    "start_time": "2023-02-23T08:13:26.234Z"
   },
   {
    "duration": 30,
    "start_time": "2023-02-23T08:13:26.273Z"
   },
   {
    "duration": 57,
    "start_time": "2023-02-23T08:13:26.305Z"
   },
   {
    "duration": 74,
    "start_time": "2023-02-23T08:13:26.364Z"
   },
   {
    "duration": 35,
    "start_time": "2023-02-23T08:13:26.440Z"
   },
   {
    "duration": 15,
    "start_time": "2023-02-23T08:13:26.481Z"
   },
   {
    "duration": 14,
    "start_time": "2023-02-23T08:13:26.498Z"
   },
   {
    "duration": 19,
    "start_time": "2023-02-23T08:13:26.514Z"
   },
   {
    "duration": 48,
    "start_time": "2023-02-23T08:13:26.535Z"
   },
   {
    "duration": 69,
    "start_time": "2023-02-23T08:13:26.585Z"
   },
   {
    "duration": 17,
    "start_time": "2023-02-23T08:13:26.656Z"
   },
   {
    "duration": 162,
    "start_time": "2023-02-23T08:13:26.675Z"
   },
   {
    "duration": 5,
    "start_time": "2023-02-23T08:13:26.839Z"
   },
   {
    "duration": 58,
    "start_time": "2023-02-23T08:13:26.855Z"
   },
   {
    "duration": 344,
    "start_time": "2023-02-23T08:13:26.915Z"
   },
   {
    "duration": 622,
    "start_time": "2023-02-23T08:13:27.265Z"
   },
   {
    "duration": 8,
    "start_time": "2023-02-23T08:13:27.888Z"
   },
   {
    "duration": 11,
    "start_time": "2023-02-23T08:13:27.898Z"
   },
   {
    "duration": 17,
    "start_time": "2023-02-23T08:13:27.911Z"
   },
   {
    "duration": 160,
    "start_time": "2023-02-23T08:13:27.930Z"
   },
   {
    "duration": 124,
    "start_time": "2023-02-23T08:13:28.094Z"
   },
   {
    "duration": 12,
    "start_time": "2023-02-23T08:13:28.220Z"
   },
   {
    "duration": 160,
    "start_time": "2023-02-23T08:13:28.234Z"
   },
   {
    "duration": 17,
    "start_time": "2023-02-23T08:13:28.396Z"
   },
   {
    "duration": 21,
    "start_time": "2023-02-23T08:13:28.415Z"
   },
   {
    "duration": 36,
    "start_time": "2023-02-23T08:13:28.438Z"
   },
   {
    "duration": 13,
    "start_time": "2023-02-23T08:13:28.476Z"
   },
   {
    "duration": 9,
    "start_time": "2023-02-23T08:13:28.491Z"
   },
   {
    "duration": 164,
    "start_time": "2023-02-23T08:13:28.504Z"
   },
   {
    "duration": 203,
    "start_time": "2023-02-23T08:13:28.669Z"
   },
   {
    "duration": 219,
    "start_time": "2023-02-23T08:13:28.874Z"
   },
   {
    "duration": 8,
    "start_time": "2023-02-23T08:13:29.095Z"
   },
   {
    "duration": 13,
    "start_time": "2023-02-23T08:13:29.105Z"
   },
   {
    "duration": 36,
    "start_time": "2023-02-23T08:13:29.120Z"
   },
   {
    "duration": 26,
    "start_time": "2023-02-23T08:13:29.162Z"
   },
   {
    "duration": 28,
    "start_time": "2023-02-23T08:13:29.190Z"
   },
   {
    "duration": 9,
    "start_time": "2023-02-23T08:13:29.220Z"
   },
   {
    "duration": 144,
    "start_time": "2023-02-23T08:13:29.231Z"
   },
   {
    "duration": 485,
    "start_time": "2023-02-23T08:13:29.376Z"
   },
   {
    "duration": 16,
    "start_time": "2023-02-23T08:13:29.864Z"
   },
   {
    "duration": 15,
    "start_time": "2023-02-23T08:13:29.882Z"
   },
   {
    "duration": 20,
    "start_time": "2023-02-23T08:13:29.899Z"
   },
   {
    "duration": 38,
    "start_time": "2023-02-23T08:13:29.921Z"
   },
   {
    "duration": 13,
    "start_time": "2023-02-23T08:13:29.965Z"
   },
   {
    "duration": 128,
    "start_time": "2023-02-23T08:13:29.980Z"
   },
   {
    "duration": 123,
    "start_time": "2023-02-23T08:13:30.110Z"
   },
   {
    "duration": 197,
    "start_time": "2023-02-23T08:13:30.235Z"
   },
   {
    "duration": 7,
    "start_time": "2023-02-23T08:13:30.435Z"
   },
   {
    "duration": 29,
    "start_time": "2023-02-23T08:13:30.456Z"
   },
   {
    "duration": 36,
    "start_time": "2023-02-23T08:13:30.487Z"
   },
   {
    "duration": 74,
    "start_time": "2023-02-23T08:13:30.526Z"
   },
   {
    "duration": 31,
    "start_time": "2023-02-23T08:13:30.602Z"
   },
   {
    "duration": 41,
    "start_time": "2023-02-23T08:13:30.635Z"
   },
   {
    "duration": 56,
    "start_time": "2023-02-23T08:13:30.679Z"
   },
   {
    "duration": 22,
    "start_time": "2023-02-23T08:13:30.738Z"
   },
   {
    "duration": 42,
    "start_time": "2023-02-23T08:13:30.763Z"
   },
   {
    "duration": 235,
    "start_time": "2023-02-23T08:13:30.807Z"
   },
   {
    "duration": 18,
    "start_time": "2023-02-23T08:13:31.044Z"
   },
   {
    "duration": 31,
    "start_time": "2023-02-23T08:13:31.063Z"
   },
   {
    "duration": 25,
    "start_time": "2023-02-23T08:13:31.096Z"
   },
   {
    "duration": 40,
    "start_time": "2023-02-23T08:13:31.123Z"
   },
   {
    "duration": 29,
    "start_time": "2023-02-23T08:13:31.164Z"
   },
   {
    "duration": 10,
    "start_time": "2023-02-23T08:13:31.195Z"
   },
   {
    "duration": 739,
    "start_time": "2023-02-23T08:13:31.207Z"
   },
   {
    "duration": 181,
    "start_time": "2023-02-23T08:13:31.947Z"
   },
   {
    "duration": 18,
    "start_time": "2023-02-23T08:26:08.761Z"
   },
   {
    "duration": 6,
    "start_time": "2023-02-23T08:26:09.874Z"
   },
   {
    "duration": 17,
    "start_time": "2023-02-23T08:26:40.006Z"
   },
   {
    "duration": 7,
    "start_time": "2023-02-23T08:26:41.249Z"
   },
   {
    "duration": 16,
    "start_time": "2023-02-23T08:27:58.233Z"
   },
   {
    "duration": 6,
    "start_time": "2023-02-23T08:27:58.678Z"
   },
   {
    "duration": 6,
    "start_time": "2023-02-23T08:38:12.439Z"
   },
   {
    "duration": 15,
    "start_time": "2023-02-23T08:39:27.605Z"
   },
   {
    "duration": 6,
    "start_time": "2023-02-23T08:39:28.302Z"
   },
   {
    "duration": 23,
    "start_time": "2023-02-23T08:40:09.920Z"
   },
   {
    "duration": 40,
    "start_time": "2023-02-23T08:43:49.975Z"
   },
   {
    "duration": 48,
    "start_time": "2023-02-23T08:44:23.777Z"
   },
   {
    "duration": 35,
    "start_time": "2023-02-23T08:44:33.571Z"
   },
   {
    "duration": 79,
    "start_time": "2023-02-23T09:16:24.510Z"
   },
   {
    "duration": 59,
    "start_time": "2023-02-23T09:19:46.871Z"
   },
   {
    "duration": 1223,
    "start_time": "2023-02-23T10:28:52.827Z"
   },
   {
    "duration": 89,
    "start_time": "2023-02-23T10:28:54.053Z"
   },
   {
    "duration": 11,
    "start_time": "2023-02-23T10:28:54.144Z"
   },
   {
    "duration": 12,
    "start_time": "2023-02-23T10:28:54.157Z"
   },
   {
    "duration": 98,
    "start_time": "2023-02-23T10:28:54.171Z"
   },
   {
    "duration": 17,
    "start_time": "2023-02-23T10:28:54.271Z"
   },
   {
    "duration": 41,
    "start_time": "2023-02-23T10:28:54.290Z"
   },
   {
    "duration": 32,
    "start_time": "2023-02-23T10:28:54.333Z"
   },
   {
    "duration": 18,
    "start_time": "2023-02-23T10:28:54.367Z"
   },
   {
    "duration": 25,
    "start_time": "2023-02-23T10:28:54.388Z"
   },
   {
    "duration": 54,
    "start_time": "2023-02-23T10:28:54.416Z"
   },
   {
    "duration": 57,
    "start_time": "2023-02-23T10:28:54.471Z"
   },
   {
    "duration": 30,
    "start_time": "2023-02-23T10:28:54.530Z"
   },
   {
    "duration": 28,
    "start_time": "2023-02-23T10:28:54.563Z"
   },
   {
    "duration": 42,
    "start_time": "2023-02-23T10:28:54.593Z"
   },
   {
    "duration": 83,
    "start_time": "2023-02-23T10:28:54.637Z"
   },
   {
    "duration": 42,
    "start_time": "2023-02-23T10:28:54.722Z"
   },
   {
    "duration": 10,
    "start_time": "2023-02-23T10:28:54.766Z"
   },
   {
    "duration": 10,
    "start_time": "2023-02-23T10:28:54.778Z"
   },
   {
    "duration": 15,
    "start_time": "2023-02-23T10:28:54.790Z"
   },
   {
    "duration": 49,
    "start_time": "2023-02-23T10:28:54.807Z"
   },
   {
    "duration": 61,
    "start_time": "2023-02-23T10:28:54.858Z"
   },
   {
    "duration": 11,
    "start_time": "2023-02-23T10:28:54.921Z"
   },
   {
    "duration": 169,
    "start_time": "2023-02-23T10:28:54.934Z"
   },
   {
    "duration": 6,
    "start_time": "2023-02-23T10:28:55.107Z"
   },
   {
    "duration": 59,
    "start_time": "2023-02-23T10:28:55.115Z"
   },
   {
    "duration": 350,
    "start_time": "2023-02-23T10:28:55.176Z"
   },
   {
    "duration": 478,
    "start_time": "2023-02-23T10:28:55.532Z"
   },
   {
    "duration": 5,
    "start_time": "2023-02-23T10:28:56.012Z"
   },
   {
    "duration": 10,
    "start_time": "2023-02-23T10:28:56.019Z"
   },
   {
    "duration": 25,
    "start_time": "2023-02-23T10:28:56.031Z"
   },
   {
    "duration": 119,
    "start_time": "2023-02-23T10:28:56.058Z"
   },
   {
    "duration": 139,
    "start_time": "2023-02-23T10:28:56.179Z"
   },
   {
    "duration": 13,
    "start_time": "2023-02-23T10:28:56.321Z"
   },
   {
    "duration": 205,
    "start_time": "2023-02-23T10:28:56.336Z"
   },
   {
    "duration": 19,
    "start_time": "2023-02-23T10:28:56.543Z"
   },
   {
    "duration": 23,
    "start_time": "2023-02-23T10:28:56.564Z"
   },
   {
    "duration": 18,
    "start_time": "2023-02-23T10:28:56.589Z"
   },
   {
    "duration": 48,
    "start_time": "2023-02-23T10:28:56.609Z"
   },
   {
    "duration": 8,
    "start_time": "2023-02-23T10:28:56.659Z"
   },
   {
    "duration": 148,
    "start_time": "2023-02-23T10:28:56.669Z"
   },
   {
    "duration": 196,
    "start_time": "2023-02-23T10:28:56.819Z"
   },
   {
    "duration": 236,
    "start_time": "2023-02-23T10:28:57.017Z"
   },
   {
    "duration": 10,
    "start_time": "2023-02-23T10:28:57.255Z"
   },
   {
    "duration": 17,
    "start_time": "2023-02-23T10:28:57.267Z"
   },
   {
    "duration": 26,
    "start_time": "2023-02-23T10:28:57.286Z"
   },
   {
    "duration": 56,
    "start_time": "2023-02-23T10:28:57.315Z"
   },
   {
    "duration": 29,
    "start_time": "2023-02-23T10:28:57.373Z"
   },
   {
    "duration": 14,
    "start_time": "2023-02-23T10:28:57.405Z"
   },
   {
    "duration": 188,
    "start_time": "2023-02-23T10:28:57.421Z"
   },
   {
    "duration": 476,
    "start_time": "2023-02-23T10:28:57.611Z"
   },
   {
    "duration": 7,
    "start_time": "2023-02-23T10:28:58.089Z"
   },
   {
    "duration": 28,
    "start_time": "2023-02-23T10:28:58.098Z"
   },
   {
    "duration": 25,
    "start_time": "2023-02-23T10:28:58.128Z"
   },
   {
    "duration": 24,
    "start_time": "2023-02-23T10:28:58.155Z"
   },
   {
    "duration": 8,
    "start_time": "2023-02-23T10:28:58.181Z"
   },
   {
    "duration": 142,
    "start_time": "2023-02-23T10:28:58.191Z"
   },
   {
    "duration": 149,
    "start_time": "2023-02-23T10:28:58.335Z"
   },
   {
    "duration": 189,
    "start_time": "2023-02-23T10:28:58.486Z"
   },
   {
    "duration": 7,
    "start_time": "2023-02-23T10:28:58.677Z"
   },
   {
    "duration": 12,
    "start_time": "2023-02-23T10:28:58.685Z"
   },
   {
    "duration": 23,
    "start_time": "2023-02-23T10:28:58.699Z"
   },
   {
    "duration": 30,
    "start_time": "2023-02-23T10:28:58.724Z"
   },
   {
    "duration": 20,
    "start_time": "2023-02-23T10:28:58.756Z"
   },
   {
    "duration": 22,
    "start_time": "2023-02-23T10:28:58.778Z"
   },
   {
    "duration": 26,
    "start_time": "2023-02-23T10:28:58.802Z"
   },
   {
    "duration": 23,
    "start_time": "2023-02-23T10:28:58.854Z"
   },
   {
    "duration": 26,
    "start_time": "2023-02-23T10:33:07.493Z"
   },
   {
    "duration": 1228,
    "start_time": "2023-02-23T10:56:35.935Z"
   },
   {
    "duration": 91,
    "start_time": "2023-02-23T10:56:37.165Z"
   },
   {
    "duration": 11,
    "start_time": "2023-02-23T10:56:37.258Z"
   },
   {
    "duration": 14,
    "start_time": "2023-02-23T10:56:37.271Z"
   },
   {
    "duration": 8,
    "start_time": "2023-02-23T10:56:37.287Z"
   },
   {
    "duration": 15,
    "start_time": "2023-02-23T10:56:37.297Z"
   },
   {
    "duration": 18,
    "start_time": "2023-02-23T10:56:37.313Z"
   },
   {
    "duration": 37,
    "start_time": "2023-02-23T10:56:37.333Z"
   },
   {
    "duration": 18,
    "start_time": "2023-02-23T10:56:37.371Z"
   },
   {
    "duration": 22,
    "start_time": "2023-02-23T10:56:37.392Z"
   },
   {
    "duration": 47,
    "start_time": "2023-02-23T10:56:37.416Z"
   },
   {
    "duration": 57,
    "start_time": "2023-02-23T10:56:37.465Z"
   },
   {
    "duration": 30,
    "start_time": "2023-02-23T10:56:37.526Z"
   },
   {
    "duration": 38,
    "start_time": "2023-02-23T10:56:37.560Z"
   },
   {
    "duration": 63,
    "start_time": "2023-02-23T10:56:37.600Z"
   },
   {
    "duration": 96,
    "start_time": "2023-02-23T10:56:37.665Z"
   },
   {
    "duration": 27,
    "start_time": "2023-02-23T10:56:37.764Z"
   },
   {
    "duration": 12,
    "start_time": "2023-02-23T10:56:37.793Z"
   },
   {
    "duration": 27,
    "start_time": "2023-02-23T10:56:37.808Z"
   },
   {
    "duration": 27,
    "start_time": "2023-02-23T10:56:37.836Z"
   },
   {
    "duration": 54,
    "start_time": "2023-02-23T10:56:37.865Z"
   },
   {
    "duration": 11,
    "start_time": "2023-02-23T10:56:37.920Z"
   },
   {
    "duration": 160,
    "start_time": "2023-02-23T10:56:37.932Z"
   },
   {
    "duration": 6,
    "start_time": "2023-02-23T10:56:38.093Z"
   },
   {
    "duration": 34,
    "start_time": "2023-02-23T10:56:38.100Z"
   },
   {
    "duration": 304,
    "start_time": "2023-02-23T10:56:38.135Z"
   },
   {
    "duration": 434,
    "start_time": "2023-02-23T10:56:38.441Z"
   },
   {
    "duration": 5,
    "start_time": "2023-02-23T10:56:38.880Z"
   },
   {
    "duration": 19,
    "start_time": "2023-02-23T10:56:38.887Z"
   },
   {
    "duration": 13,
    "start_time": "2023-02-23T10:56:38.908Z"
   },
   {
    "duration": 140,
    "start_time": "2023-02-23T10:56:38.924Z"
   },
   {
    "duration": 118,
    "start_time": "2023-02-23T10:56:39.066Z"
   },
   {
    "duration": 12,
    "start_time": "2023-02-23T10:56:39.185Z"
   },
   {
    "duration": 265,
    "start_time": "2023-02-23T10:56:39.198Z"
   },
   {
    "duration": 12,
    "start_time": "2023-02-23T10:56:39.465Z"
   },
   {
    "duration": 26,
    "start_time": "2023-02-23T10:56:39.479Z"
   },
   {
    "duration": 22,
    "start_time": "2023-02-23T10:56:39.508Z"
   },
   {
    "duration": 34,
    "start_time": "2023-02-23T10:56:39.532Z"
   },
   {
    "duration": 9,
    "start_time": "2023-02-23T10:56:39.568Z"
   },
   {
    "duration": 139,
    "start_time": "2023-02-23T10:56:39.579Z"
   },
   {
    "duration": 209,
    "start_time": "2023-02-23T10:56:39.720Z"
   },
   {
    "duration": 239,
    "start_time": "2023-02-23T10:56:39.931Z"
   },
   {
    "duration": 8,
    "start_time": "2023-02-23T10:56:40.172Z"
   },
   {
    "duration": 22,
    "start_time": "2023-02-23T10:56:40.182Z"
   },
   {
    "duration": 20,
    "start_time": "2023-02-23T10:56:40.205Z"
   },
   {
    "duration": 34,
    "start_time": "2023-02-23T10:56:40.226Z"
   },
   {
    "duration": 22,
    "start_time": "2023-02-23T10:56:40.262Z"
   },
   {
    "duration": 10,
    "start_time": "2023-02-23T10:56:40.285Z"
   },
   {
    "duration": 142,
    "start_time": "2023-02-23T10:56:40.296Z"
   },
   {
    "duration": 428,
    "start_time": "2023-02-23T10:56:40.439Z"
   },
   {
    "duration": 8,
    "start_time": "2023-02-23T10:56:40.868Z"
   },
   {
    "duration": 20,
    "start_time": "2023-02-23T10:56:40.877Z"
   },
   {
    "duration": 13,
    "start_time": "2023-02-23T10:56:40.898Z"
   },
   {
    "duration": 24,
    "start_time": "2023-02-23T10:56:40.912Z"
   },
   {
    "duration": 8,
    "start_time": "2023-02-23T10:56:40.954Z"
   },
   {
    "duration": 126,
    "start_time": "2023-02-23T10:56:40.964Z"
   },
   {
    "duration": 121,
    "start_time": "2023-02-23T10:56:41.092Z"
   },
   {
    "duration": 186,
    "start_time": "2023-02-23T10:56:41.215Z"
   },
   {
    "duration": 7,
    "start_time": "2023-02-23T10:56:41.402Z"
   },
   {
    "duration": 12,
    "start_time": "2023-02-23T10:56:41.411Z"
   },
   {
    "duration": 14,
    "start_time": "2023-02-23T10:56:41.425Z"
   },
   {
    "duration": 37,
    "start_time": "2023-02-23T10:56:41.441Z"
   },
   {
    "duration": 24,
    "start_time": "2023-02-23T10:56:41.480Z"
   },
   {
    "duration": 24,
    "start_time": "2023-02-23T10:56:41.506Z"
   },
   {
    "duration": 37,
    "start_time": "2023-02-23T10:56:41.532Z"
   },
   {
    "duration": 22,
    "start_time": "2023-02-23T10:56:41.570Z"
   },
   {
    "duration": 84,
    "start_time": "2023-02-23T22:43:43.692Z"
   },
   {
    "duration": 1788,
    "start_time": "2023-02-23T22:43:51.369Z"
   },
   {
    "duration": 722,
    "start_time": "2023-02-23T22:43:53.163Z"
   },
   {
    "duration": 18,
    "start_time": "2023-02-23T22:43:53.892Z"
   },
   {
    "duration": 45,
    "start_time": "2023-02-23T22:43:53.912Z"
   },
   {
    "duration": 47,
    "start_time": "2023-02-23T22:43:53.963Z"
   },
   {
    "duration": 48,
    "start_time": "2023-02-23T22:43:54.013Z"
   },
   {
    "duration": 90,
    "start_time": "2023-02-23T22:43:54.063Z"
   },
   {
    "duration": 40,
    "start_time": "2023-02-23T22:43:54.155Z"
   },
   {
    "duration": 23,
    "start_time": "2023-02-23T22:43:54.245Z"
   },
   {
    "duration": 95,
    "start_time": "2023-02-23T22:43:54.270Z"
   },
   {
    "duration": 84,
    "start_time": "2023-02-23T22:43:54.367Z"
   },
   {
    "duration": 140,
    "start_time": "2023-02-23T22:43:54.453Z"
   },
   {
    "duration": 88,
    "start_time": "2023-02-23T22:43:54.596Z"
   },
   {
    "duration": 102,
    "start_time": "2023-02-23T22:43:54.690Z"
   },
   {
    "duration": 160,
    "start_time": "2023-02-23T22:43:54.795Z"
   },
   {
    "duration": 189,
    "start_time": "2023-02-23T22:43:54.958Z"
   },
   {
    "duration": 36,
    "start_time": "2023-02-23T22:43:55.149Z"
   },
   {
    "duration": 14,
    "start_time": "2023-02-23T22:43:55.188Z"
   },
   {
    "duration": 12,
    "start_time": "2023-02-23T22:43:55.205Z"
   },
   {
    "duration": 42,
    "start_time": "2023-02-23T22:43:55.219Z"
   },
   {
    "duration": 121,
    "start_time": "2023-02-23T22:43:55.263Z"
   },
   {
    "duration": 15,
    "start_time": "2023-02-23T22:43:55.386Z"
   },
   {
    "duration": 232,
    "start_time": "2023-02-23T22:43:55.403Z"
   },
   {
    "duration": 11,
    "start_time": "2023-02-23T22:43:55.638Z"
   },
   {
    "duration": 87,
    "start_time": "2023-02-23T22:43:55.655Z"
   },
   {
    "duration": 427,
    "start_time": "2023-02-23T22:43:55.745Z"
   },
   {
    "duration": 547,
    "start_time": "2023-02-23T22:43:56.175Z"
   },
   {
    "duration": 7,
    "start_time": "2023-02-23T22:43:56.724Z"
   },
   {
    "duration": 36,
    "start_time": "2023-02-23T22:43:56.747Z"
   },
   {
    "duration": 17,
    "start_time": "2023-02-23T22:43:56.785Z"
   },
   {
    "duration": 144,
    "start_time": "2023-02-23T22:43:56.804Z"
   },
   {
    "duration": 162,
    "start_time": "2023-02-23T22:43:56.950Z"
   },
   {
    "duration": 16,
    "start_time": "2023-02-23T22:43:57.115Z"
   },
   {
    "duration": 184,
    "start_time": "2023-02-23T22:43:57.144Z"
   },
   {
    "duration": 45,
    "start_time": "2023-02-23T22:43:57.330Z"
   },
   {
    "duration": 20,
    "start_time": "2023-02-23T22:43:57.377Z"
   },
   {
    "duration": 28,
    "start_time": "2023-02-23T22:43:57.399Z"
   },
   {
    "duration": 25,
    "start_time": "2023-02-23T22:43:57.429Z"
   },
   {
    "duration": 17,
    "start_time": "2023-02-23T22:43:57.459Z"
   },
   {
    "duration": 181,
    "start_time": "2023-02-23T22:43:57.481Z"
   },
   {
    "duration": 252,
    "start_time": "2023-02-23T22:43:57.667Z"
   },
   {
    "duration": 330,
    "start_time": "2023-02-23T22:43:57.921Z"
   },
   {
    "duration": 14,
    "start_time": "2023-02-23T22:43:58.260Z"
   },
   {
    "duration": 18,
    "start_time": "2023-02-23T22:43:58.275Z"
   },
   {
    "duration": 20,
    "start_time": "2023-02-23T22:43:58.296Z"
   },
   {
    "duration": 43,
    "start_time": "2023-02-23T22:43:58.318Z"
   },
   {
    "duration": 36,
    "start_time": "2023-02-23T22:43:58.362Z"
   },
   {
    "duration": 10,
    "start_time": "2023-02-23T22:43:58.400Z"
   },
   {
    "duration": 187,
    "start_time": "2023-02-23T22:43:58.412Z"
   },
   {
    "duration": 674,
    "start_time": "2023-02-23T22:43:58.600Z"
   },
   {
    "duration": 12,
    "start_time": "2023-02-23T22:43:59.275Z"
   },
   {
    "duration": 36,
    "start_time": "2023-02-23T22:43:59.290Z"
   },
   {
    "duration": 47,
    "start_time": "2023-02-23T22:43:59.330Z"
   },
   {
    "duration": 60,
    "start_time": "2023-02-23T22:43:59.383Z"
   },
   {
    "duration": 42,
    "start_time": "2023-02-23T22:43:59.449Z"
   },
   {
    "duration": 42,
    "start_time": "2023-02-23T22:43:59.497Z"
   },
   {
    "duration": 240,
    "start_time": "2023-02-23T22:43:59.541Z"
   },
   {
    "duration": 167,
    "start_time": "2023-02-23T22:43:59.785Z"
   },
   {
    "duration": 228,
    "start_time": "2023-02-23T22:43:59.954Z"
   },
   {
    "duration": 14,
    "start_time": "2023-02-23T22:44:00.184Z"
   },
   {
    "duration": 19,
    "start_time": "2023-02-23T22:44:00.200Z"
   },
   {
    "duration": 23,
    "start_time": "2023-02-23T22:44:00.222Z"
   },
   {
    "duration": 60,
    "start_time": "2023-02-23T22:44:00.248Z"
   },
   {
    "duration": 32,
    "start_time": "2023-02-23T22:44:00.310Z"
   },
   {
    "duration": 31,
    "start_time": "2023-02-23T22:44:00.350Z"
   },
   {
    "duration": 71,
    "start_time": "2023-02-23T22:44:00.383Z"
   },
   {
    "duration": 60,
    "start_time": "2023-02-23T22:44:00.455Z"
   },
   {
    "duration": 1256,
    "start_time": "2023-02-24T06:56:27.965Z"
   },
   {
    "duration": 178,
    "start_time": "2023-02-24T06:56:29.223Z"
   },
   {
    "duration": 12,
    "start_time": "2023-02-24T06:56:29.402Z"
   },
   {
    "duration": 12,
    "start_time": "2023-02-24T06:56:29.416Z"
   },
   {
    "duration": 7,
    "start_time": "2023-02-24T06:56:29.430Z"
   },
   {
    "duration": 11,
    "start_time": "2023-02-24T06:56:29.439Z"
   },
   {
    "duration": 18,
    "start_time": "2023-02-24T06:56:29.452Z"
   },
   {
    "duration": 28,
    "start_time": "2023-02-24T06:56:29.472Z"
   },
   {
    "duration": 48,
    "start_time": "2023-02-24T06:56:29.502Z"
   },
   {
    "duration": 20,
    "start_time": "2023-02-24T06:56:29.552Z"
   },
   {
    "duration": 33,
    "start_time": "2023-02-24T06:56:29.574Z"
   },
   {
    "duration": 62,
    "start_time": "2023-02-24T06:56:29.609Z"
   },
   {
    "duration": 12,
    "start_time": "2023-02-24T06:56:29.673Z"
   },
   {
    "duration": 26,
    "start_time": "2023-02-24T06:56:29.687Z"
   },
   {
    "duration": 53,
    "start_time": "2023-02-24T06:56:29.714Z"
   },
   {
    "duration": 81,
    "start_time": "2023-02-24T06:56:29.768Z"
   },
   {
    "duration": 25,
    "start_time": "2023-02-24T06:56:29.851Z"
   },
   {
    "duration": 11,
    "start_time": "2023-02-24T06:56:29.878Z"
   },
   {
    "duration": 9,
    "start_time": "2023-02-24T06:56:29.891Z"
   },
   {
    "duration": 43,
    "start_time": "2023-02-24T06:56:29.902Z"
   },
   {
    "duration": 90,
    "start_time": "2023-02-24T06:56:29.947Z"
   },
   {
    "duration": 12,
    "start_time": "2023-02-24T06:56:30.039Z"
   },
   {
    "duration": 156,
    "start_time": "2023-02-24T06:56:30.053Z"
   },
   {
    "duration": 5,
    "start_time": "2023-02-24T06:56:30.211Z"
   },
   {
    "duration": 39,
    "start_time": "2023-02-24T06:56:30.217Z"
   },
   {
    "duration": 284,
    "start_time": "2023-02-24T06:56:30.258Z"
   },
   {
    "duration": 394,
    "start_time": "2023-02-24T06:56:30.544Z"
   },
   {
    "duration": 4,
    "start_time": "2023-02-24T06:56:30.940Z"
   },
   {
    "duration": 20,
    "start_time": "2023-02-24T06:56:30.946Z"
   },
   {
    "duration": 13,
    "start_time": "2023-02-24T06:56:30.967Z"
   },
   {
    "duration": 100,
    "start_time": "2023-02-24T06:56:30.982Z"
   },
   {
    "duration": 111,
    "start_time": "2023-02-24T06:56:31.084Z"
   },
   {
    "duration": 11,
    "start_time": "2023-02-24T06:56:31.197Z"
   },
   {
    "duration": 145,
    "start_time": "2023-02-24T06:56:31.209Z"
   },
   {
    "duration": 11,
    "start_time": "2023-02-24T06:56:31.356Z"
   },
   {
    "duration": 23,
    "start_time": "2023-02-24T06:56:31.368Z"
   },
   {
    "duration": 23,
    "start_time": "2023-02-24T06:56:31.393Z"
   },
   {
    "duration": 21,
    "start_time": "2023-02-24T06:56:31.418Z"
   },
   {
    "duration": 37,
    "start_time": "2023-02-24T06:56:31.440Z"
   },
   {
    "duration": 134,
    "start_time": "2023-02-24T06:56:31.478Z"
   },
   {
    "duration": 182,
    "start_time": "2023-02-24T06:56:31.616Z"
   },
   {
    "duration": 250,
    "start_time": "2023-02-24T06:56:31.800Z"
   },
   {
    "duration": 8,
    "start_time": "2023-02-24T06:56:32.052Z"
   },
   {
    "duration": 27,
    "start_time": "2023-02-24T06:56:32.062Z"
   },
   {
    "duration": 17,
    "start_time": "2023-02-24T06:56:32.091Z"
   },
   {
    "duration": 37,
    "start_time": "2023-02-24T06:56:32.110Z"
   },
   {
    "duration": 38,
    "start_time": "2023-02-24T06:56:32.149Z"
   },
   {
    "duration": 9,
    "start_time": "2023-02-24T06:56:32.189Z"
   },
   {
    "duration": 124,
    "start_time": "2023-02-24T06:56:32.200Z"
   },
   {
    "duration": 471,
    "start_time": "2023-02-24T06:56:32.325Z"
   },
   {
    "duration": 8,
    "start_time": "2023-02-24T06:56:32.798Z"
   },
   {
    "duration": 17,
    "start_time": "2023-02-24T06:56:32.807Z"
   },
   {
    "duration": 22,
    "start_time": "2023-02-24T06:56:32.826Z"
   },
   {
    "duration": 24,
    "start_time": "2023-02-24T06:56:32.849Z"
   },
   {
    "duration": 8,
    "start_time": "2023-02-24T06:56:32.874Z"
   },
   {
    "duration": 121,
    "start_time": "2023-02-24T06:56:32.883Z"
   },
   {
    "duration": 112,
    "start_time": "2023-02-24T06:56:33.005Z"
   },
   {
    "duration": 172,
    "start_time": "2023-02-24T06:56:33.119Z"
   },
   {
    "duration": 6,
    "start_time": "2023-02-24T06:56:33.293Z"
   },
   {
    "duration": 13,
    "start_time": "2023-02-24T06:56:33.301Z"
   },
   {
    "duration": 24,
    "start_time": "2023-02-24T06:56:33.316Z"
   },
   {
    "duration": 19,
    "start_time": "2023-02-24T06:56:33.341Z"
   },
   {
    "duration": 17,
    "start_time": "2023-02-24T06:56:33.362Z"
   },
   {
    "duration": 17,
    "start_time": "2023-02-24T06:56:33.380Z"
   },
   {
    "duration": 47,
    "start_time": "2023-02-24T06:56:33.399Z"
   },
   {
    "duration": 26,
    "start_time": "2023-02-24T06:56:33.448Z"
   },
   {
    "duration": 11,
    "start_time": "2023-02-24T06:59:49.244Z"
   },
   {
    "duration": 11,
    "start_time": "2023-02-24T07:01:04.147Z"
   },
   {
    "duration": 1087,
    "start_time": "2023-02-24T07:01:27.964Z"
   },
   {
    "duration": 84,
    "start_time": "2023-02-24T07:01:29.053Z"
   },
   {
    "duration": 13,
    "start_time": "2023-02-24T07:01:29.139Z"
   },
   {
    "duration": 10,
    "start_time": "2023-02-24T07:01:29.154Z"
   },
   {
    "duration": 9,
    "start_time": "2023-02-24T07:01:29.166Z"
   },
   {
    "duration": 13,
    "start_time": "2023-02-24T07:01:29.176Z"
   },
   {
    "duration": 16,
    "start_time": "2023-02-24T07:01:29.191Z"
   },
   {
    "duration": 38,
    "start_time": "2023-02-24T07:01:29.209Z"
   },
   {
    "duration": 17,
    "start_time": "2023-02-24T07:01:29.249Z"
   },
   {
    "duration": 20,
    "start_time": "2023-02-24T07:01:29.268Z"
   },
   {
    "duration": 20,
    "start_time": "2023-02-24T07:01:29.290Z"
   },
   {
    "duration": 69,
    "start_time": "2023-02-24T07:01:29.311Z"
   },
   {
    "duration": 12,
    "start_time": "2023-02-24T07:01:29.382Z"
   },
   {
    "duration": 47,
    "start_time": "2023-02-24T07:01:29.397Z"
   },
   {
    "duration": 31,
    "start_time": "2023-02-24T07:01:29.446Z"
   },
   {
    "duration": 74,
    "start_time": "2023-02-24T07:01:29.478Z"
   },
   {
    "duration": 18,
    "start_time": "2023-02-24T07:01:29.554Z"
   },
   {
    "duration": 9,
    "start_time": "2023-02-24T07:01:29.573Z"
   },
   {
    "duration": 7,
    "start_time": "2023-02-24T07:01:29.584Z"
   },
   {
    "duration": 12,
    "start_time": "2023-02-24T07:01:29.593Z"
   },
   {
    "duration": 78,
    "start_time": "2023-02-24T07:01:29.607Z"
   },
   {
    "duration": 10,
    "start_time": "2023-02-24T07:01:29.687Z"
   },
   {
    "duration": 141,
    "start_time": "2023-02-24T07:01:29.699Z"
   },
   {
    "duration": 4,
    "start_time": "2023-02-24T07:01:29.842Z"
   },
   {
    "duration": 29,
    "start_time": "2023-02-24T07:01:29.848Z"
   },
   {
    "duration": 278,
    "start_time": "2023-02-24T07:01:29.878Z"
   },
   {
    "duration": 418,
    "start_time": "2023-02-24T07:01:30.158Z"
   },
   {
    "duration": 5,
    "start_time": "2023-02-24T07:01:30.578Z"
   },
   {
    "duration": 24,
    "start_time": "2023-02-24T07:01:30.584Z"
   },
   {
    "duration": 64,
    "start_time": "2023-02-24T07:01:30.610Z"
   },
   {
    "duration": 113,
    "start_time": "2023-02-24T07:01:30.676Z"
   },
   {
    "duration": 110,
    "start_time": "2023-02-24T07:01:30.790Z"
   },
   {
    "duration": 11,
    "start_time": "2023-02-24T07:01:30.902Z"
   },
   {
    "duration": 160,
    "start_time": "2023-02-24T07:01:30.914Z"
   },
   {
    "duration": 16,
    "start_time": "2023-02-24T07:01:31.076Z"
   },
   {
    "duration": 18,
    "start_time": "2023-02-24T07:01:31.095Z"
   },
   {
    "duration": 37,
    "start_time": "2023-02-24T07:01:31.115Z"
   },
   {
    "duration": 17,
    "start_time": "2023-02-24T07:01:31.154Z"
   },
   {
    "duration": 21,
    "start_time": "2023-02-24T07:01:31.173Z"
   },
   {
    "duration": 122,
    "start_time": "2023-02-24T07:01:31.196Z"
   },
   {
    "duration": 172,
    "start_time": "2023-02-24T07:01:31.321Z"
   },
   {
    "duration": 195,
    "start_time": "2023-02-24T07:01:31.495Z"
   },
   {
    "duration": 6,
    "start_time": "2023-02-24T07:01:31.692Z"
   },
   {
    "duration": 15,
    "start_time": "2023-02-24T07:01:31.700Z"
   },
   {
    "duration": 21,
    "start_time": "2023-02-24T07:01:31.716Z"
   },
   {
    "duration": 25,
    "start_time": "2023-02-24T07:01:31.738Z"
   },
   {
    "duration": 30,
    "start_time": "2023-02-24T07:01:31.765Z"
   },
   {
    "duration": 16,
    "start_time": "2023-02-24T07:01:31.797Z"
   },
   {
    "duration": 137,
    "start_time": "2023-02-24T07:01:31.815Z"
   },
   {
    "duration": 419,
    "start_time": "2023-02-24T07:01:31.955Z"
   },
   {
    "duration": 7,
    "start_time": "2023-02-24T07:01:32.376Z"
   },
   {
    "duration": 27,
    "start_time": "2023-02-24T07:01:32.384Z"
   },
   {
    "duration": 25,
    "start_time": "2023-02-24T07:01:32.413Z"
   },
   {
    "duration": 45,
    "start_time": "2023-02-24T07:01:32.440Z"
   },
   {
    "duration": 12,
    "start_time": "2023-02-24T07:01:32.487Z"
   },
   {
    "duration": 146,
    "start_time": "2023-02-24T07:01:32.501Z"
   },
   {
    "duration": 120,
    "start_time": "2023-02-24T07:01:32.649Z"
   },
   {
    "duration": 175,
    "start_time": "2023-02-24T07:01:32.771Z"
   },
   {
    "duration": 7,
    "start_time": "2023-02-24T07:01:32.948Z"
   },
   {
    "duration": 10,
    "start_time": "2023-02-24T07:01:32.956Z"
   },
   {
    "duration": 13,
    "start_time": "2023-02-24T07:01:32.968Z"
   },
   {
    "duration": 19,
    "start_time": "2023-02-24T07:01:32.982Z"
   },
   {
    "duration": 48,
    "start_time": "2023-02-24T07:01:33.003Z"
   },
   {
    "duration": 26,
    "start_time": "2023-02-24T07:01:33.053Z"
   },
   {
    "duration": 24,
    "start_time": "2023-02-24T07:01:33.082Z"
   },
   {
    "duration": 43,
    "start_time": "2023-02-24T07:01:33.108Z"
   },
   {
    "duration": 10,
    "start_time": "2023-02-24T07:02:28.057Z"
   },
   {
    "duration": 13,
    "start_time": "2023-02-24T07:03:23.811Z"
   },
   {
    "duration": 219,
    "start_time": "2023-02-24T07:15:19.782Z"
   },
   {
    "duration": 299,
    "start_time": "2023-02-24T07:15:32.125Z"
   },
   {
    "duration": 222,
    "start_time": "2023-02-24T07:15:54.023Z"
   },
   {
    "duration": 18,
    "start_time": "2023-02-24T07:20:19.156Z"
   },
   {
    "duration": 20,
    "start_time": "2023-02-24T07:21:41.954Z"
   },
   {
    "duration": 10,
    "start_time": "2023-02-24T07:28:44.767Z"
   },
   {
    "duration": 17,
    "start_time": "2023-02-24T07:30:05.247Z"
   },
   {
    "duration": 5,
    "start_time": "2023-02-24T07:30:25.873Z"
   },
   {
    "duration": 7,
    "start_time": "2023-02-24T07:30:36.407Z"
   },
   {
    "duration": 12,
    "start_time": "2023-02-24T07:30:54.517Z"
   },
   {
    "duration": 12,
    "start_time": "2023-02-24T07:32:27.875Z"
   },
   {
    "duration": 11,
    "start_time": "2023-02-24T07:32:30.903Z"
   },
   {
    "duration": 93,
    "start_time": "2023-02-24T07:44:38.468Z"
   },
   {
    "duration": 23,
    "start_time": "2023-02-24T07:44:42.937Z"
   },
   {
    "duration": 12,
    "start_time": "2023-02-24T07:44:48.587Z"
   },
   {
    "duration": 4,
    "start_time": "2023-02-24T07:45:25.356Z"
   },
   {
    "duration": 5,
    "start_time": "2023-02-24T07:45:31.233Z"
   },
   {
    "duration": 16,
    "start_time": "2023-02-24T07:46:53.436Z"
   },
   {
    "duration": 10,
    "start_time": "2023-02-24T07:48:04.500Z"
   },
   {
    "duration": 16,
    "start_time": "2023-02-24T07:48:23.569Z"
   },
   {
    "duration": 11,
    "start_time": "2023-02-24T07:49:26.417Z"
   },
   {
    "duration": 11,
    "start_time": "2023-02-24T07:49:35.014Z"
   },
   {
    "duration": 4,
    "start_time": "2023-02-24T07:50:35.786Z"
   },
   {
    "duration": 4,
    "start_time": "2023-02-24T07:50:39.769Z"
   },
   {
    "duration": 11,
    "start_time": "2023-02-24T07:51:23.614Z"
   },
   {
    "duration": 14,
    "start_time": "2023-02-24T07:51:31.149Z"
   },
   {
    "duration": 44,
    "start_time": "2023-02-24T07:52:28.786Z"
   },
   {
    "duration": 13,
    "start_time": "2023-02-24T07:52:40.267Z"
   },
   {
    "duration": 11,
    "start_time": "2023-02-24T07:52:55.706Z"
   },
   {
    "duration": 16,
    "start_time": "2023-02-24T07:54:14.099Z"
   },
   {
    "duration": 12,
    "start_time": "2023-02-24T07:55:02.570Z"
   },
   {
    "duration": 14,
    "start_time": "2023-02-24T07:55:25.172Z"
   },
   {
    "duration": 20,
    "start_time": "2023-02-24T07:55:39.426Z"
   },
   {
    "duration": 13,
    "start_time": "2023-02-24T07:56:20.025Z"
   },
   {
    "duration": 12,
    "start_time": "2023-02-24T07:56:35.418Z"
   },
   {
    "duration": 4,
    "start_time": "2023-02-24T07:57:46.632Z"
   },
   {
    "duration": 18,
    "start_time": "2023-02-24T07:58:22.589Z"
   },
   {
    "duration": 16,
    "start_time": "2023-02-24T07:59:08.172Z"
   },
   {
    "duration": 19,
    "start_time": "2023-02-24T07:59:17.830Z"
   },
   {
    "duration": 31,
    "start_time": "2023-02-24T08:00:02.035Z"
   },
   {
    "duration": 14,
    "start_time": "2023-02-24T08:00:21.406Z"
   },
   {
    "duration": 15,
    "start_time": "2023-02-24T08:00:28.968Z"
   },
   {
    "duration": 29,
    "start_time": "2023-02-24T08:02:02.455Z"
   },
   {
    "duration": 5,
    "start_time": "2023-02-24T08:02:22.821Z"
   },
   {
    "duration": 14,
    "start_time": "2023-02-24T08:02:36.261Z"
   },
   {
    "duration": 18,
    "start_time": "2023-02-24T08:06:15.198Z"
   },
   {
    "duration": 9,
    "start_time": "2023-02-24T08:07:04.967Z"
   },
   {
    "duration": 108,
    "start_time": "2023-02-24T08:07:56.199Z"
   },
   {
    "duration": 797,
    "start_time": "2023-02-24T08:08:23.467Z"
   },
   {
    "duration": 9,
    "start_time": "2023-02-24T08:10:16.680Z"
   },
   {
    "duration": 117,
    "start_time": "2023-02-24T08:11:19.204Z"
   },
   {
    "duration": 32,
    "start_time": "2023-02-24T08:12:15.586Z"
   },
   {
    "duration": 35,
    "start_time": "2023-02-24T08:13:44.736Z"
   },
   {
    "duration": 236,
    "start_time": "2023-02-24T08:14:03.392Z"
   },
   {
    "duration": 13,
    "start_time": "2023-02-24T08:14:27.082Z"
   },
   {
    "duration": 107,
    "start_time": "2023-02-24T08:14:33.369Z"
   },
   {
    "duration": 25,
    "start_time": "2023-02-24T08:14:52.807Z"
   },
   {
    "duration": 47,
    "start_time": "2023-02-24T08:15:24.536Z"
   },
   {
    "duration": 16,
    "start_time": "2023-02-24T08:16:00.059Z"
   },
   {
    "duration": 52,
    "start_time": "2023-02-24T08:16:17.639Z"
   },
   {
    "duration": 18,
    "start_time": "2023-02-24T08:16:37.663Z"
   },
   {
    "duration": 109,
    "start_time": "2023-02-24T08:16:58.789Z"
   },
   {
    "duration": 112,
    "start_time": "2023-02-24T08:17:07.571Z"
   },
   {
    "duration": 114,
    "start_time": "2023-02-24T08:17:21.294Z"
   },
   {
    "duration": 786,
    "start_time": "2023-02-24T08:17:36.410Z"
   },
   {
    "duration": 280,
    "start_time": "2023-02-24T08:17:51.285Z"
   },
   {
    "duration": 129,
    "start_time": "2023-02-24T08:18:31.868Z"
   },
   {
    "duration": 237,
    "start_time": "2023-02-24T08:19:22.364Z"
   },
   {
    "duration": 154,
    "start_time": "2023-02-24T08:21:09.699Z"
   },
   {
    "duration": 190,
    "start_time": "2023-02-24T08:21:16.914Z"
   },
   {
    "duration": 36,
    "start_time": "2023-02-24T08:24:25.857Z"
   },
   {
    "duration": 10,
    "start_time": "2023-02-24T08:24:45.173Z"
   },
   {
    "duration": 14,
    "start_time": "2023-02-24T08:24:55.930Z"
   },
   {
    "duration": 39,
    "start_time": "2023-02-24T08:26:37.427Z"
   },
   {
    "duration": 11,
    "start_time": "2023-02-24T08:26:59.069Z"
   },
   {
    "duration": 21,
    "start_time": "2023-02-24T08:27:23.593Z"
   },
   {
    "duration": 12,
    "start_time": "2023-02-24T08:28:11.588Z"
   },
   {
    "duration": 107,
    "start_time": "2023-02-24T08:28:17.411Z"
   },
   {
    "duration": 152,
    "start_time": "2023-02-24T08:28:21.479Z"
   },
   {
    "duration": 209,
    "start_time": "2023-02-24T08:28:25.375Z"
   },
   {
    "duration": 142,
    "start_time": "2023-02-24T08:29:01.993Z"
   },
   {
    "duration": 218,
    "start_time": "2023-02-24T08:29:08.467Z"
   },
   {
    "duration": 18,
    "start_time": "2023-02-24T08:29:55.367Z"
   },
   {
    "duration": 23,
    "start_time": "2023-02-24T08:30:12.967Z"
   },
   {
    "duration": 13,
    "start_time": "2023-02-24T08:30:16.687Z"
   },
   {
    "duration": 23,
    "start_time": "2023-02-24T08:32:31.955Z"
   },
   {
    "duration": 4,
    "start_time": "2023-02-24T08:45:24.494Z"
   },
   {
    "duration": 5,
    "start_time": "2023-02-24T08:47:08.189Z"
   },
   {
    "duration": 3,
    "start_time": "2023-02-24T08:52:39.008Z"
   },
   {
    "duration": 1140,
    "start_time": "2023-02-24T08:56:40.369Z"
   },
   {
    "duration": 101,
    "start_time": "2023-02-24T08:56:41.511Z"
   },
   {
    "duration": 9,
    "start_time": "2023-02-24T08:56:41.613Z"
   },
   {
    "duration": 13,
    "start_time": "2023-02-24T08:56:41.624Z"
   },
   {
    "duration": 26,
    "start_time": "2023-02-24T08:56:41.649Z"
   },
   {
    "duration": 11,
    "start_time": "2023-02-24T08:56:41.677Z"
   },
   {
    "duration": 16,
    "start_time": "2023-02-24T08:56:41.690Z"
   },
   {
    "duration": 19,
    "start_time": "2023-02-24T08:56:41.708Z"
   },
   {
    "duration": 21,
    "start_time": "2023-02-24T08:56:41.728Z"
   },
   {
    "duration": 47,
    "start_time": "2023-02-24T08:56:41.751Z"
   },
   {
    "duration": 19,
    "start_time": "2023-02-24T08:56:41.800Z"
   },
   {
    "duration": 57,
    "start_time": "2023-02-24T08:56:41.820Z"
   },
   {
    "duration": 12,
    "start_time": "2023-02-24T08:56:41.878Z"
   },
   {
    "duration": 25,
    "start_time": "2023-02-24T08:56:41.893Z"
   },
   {
    "duration": 58,
    "start_time": "2023-02-24T08:56:41.919Z"
   },
   {
    "duration": 84,
    "start_time": "2023-02-24T08:56:41.978Z"
   },
   {
    "duration": 28,
    "start_time": "2023-02-24T08:56:42.064Z"
   },
   {
    "duration": 11,
    "start_time": "2023-02-24T08:56:42.093Z"
   },
   {
    "duration": 11,
    "start_time": "2023-02-24T08:56:42.106Z"
   },
   {
    "duration": 41,
    "start_time": "2023-02-24T08:56:42.119Z"
   },
   {
    "duration": 66,
    "start_time": "2023-02-24T08:56:42.161Z"
   },
   {
    "duration": 22,
    "start_time": "2023-02-24T08:56:42.229Z"
   },
   {
    "duration": 168,
    "start_time": "2023-02-24T08:56:42.255Z"
   },
   {
    "duration": 5,
    "start_time": "2023-02-24T08:56:42.425Z"
   },
   {
    "duration": 48,
    "start_time": "2023-02-24T08:56:42.432Z"
   },
   {
    "duration": 336,
    "start_time": "2023-02-24T08:56:42.482Z"
   },
   {
    "duration": 3,
    "start_time": "2023-02-24T08:56:42.822Z"
   },
   {
    "duration": 56,
    "start_time": "2023-02-24T08:56:42.827Z"
   },
   {
    "duration": 9,
    "start_time": "2023-02-24T08:56:42.885Z"
   },
   {
    "duration": 11,
    "start_time": "2023-02-24T08:56:42.896Z"
   },
   {
    "duration": 97,
    "start_time": "2023-02-24T08:56:42.908Z"
   },
   {
    "duration": 139,
    "start_time": "2023-02-24T08:56:43.006Z"
   },
   {
    "duration": 25,
    "start_time": "2023-02-24T08:56:43.147Z"
   },
   {
    "duration": 150,
    "start_time": "2023-02-24T08:56:43.174Z"
   },
   {
    "duration": 32,
    "start_time": "2023-02-24T08:56:43.326Z"
   },
   {
    "duration": 34,
    "start_time": "2023-02-24T08:56:43.360Z"
   },
   {
    "duration": 17,
    "start_time": "2023-02-24T08:56:43.395Z"
   },
   {
    "duration": 13,
    "start_time": "2023-02-24T08:56:43.413Z"
   },
   {
    "duration": 7,
    "start_time": "2023-02-24T08:56:43.428Z"
   },
   {
    "duration": 111,
    "start_time": "2023-02-24T08:56:43.436Z"
   },
   {
    "duration": 120,
    "start_time": "2023-02-24T08:56:43.554Z"
   },
   {
    "duration": 214,
    "start_time": "2023-02-24T08:56:43.676Z"
   },
   {
    "duration": 12,
    "start_time": "2023-02-24T08:56:43.891Z"
   },
   {
    "duration": 20,
    "start_time": "2023-02-24T08:56:43.905Z"
   },
   {
    "duration": 20,
    "start_time": "2023-02-24T08:56:43.927Z"
   },
   {
    "duration": 56,
    "start_time": "2023-02-24T08:56:43.949Z"
   },
   {
    "duration": 12,
    "start_time": "2023-02-24T08:56:44.007Z"
   },
   {
    "duration": 203,
    "start_time": "2023-02-24T08:56:44.021Z"
   },
   {
    "duration": 157,
    "start_time": "2023-02-24T08:56:44.226Z"
   },
   {
    "duration": 234,
    "start_time": "2023-02-24T08:56:44.385Z"
   },
   {
    "duration": 36,
    "start_time": "2023-02-24T08:56:44.620Z"
   },
   {
    "duration": 27,
    "start_time": "2023-02-24T08:56:44.657Z"
   },
   {
    "duration": 13,
    "start_time": "2023-02-24T08:56:44.685Z"
   },
   {
    "duration": 10,
    "start_time": "2023-02-24T08:56:44.699Z"
   },
   {
    "duration": 148,
    "start_time": "2023-02-24T08:56:44.710Z"
   },
   {
    "duration": 436,
    "start_time": "2023-02-24T08:56:44.867Z"
   },
   {
    "duration": 8,
    "start_time": "2023-02-24T08:56:45.304Z"
   },
   {
    "duration": 14,
    "start_time": "2023-02-24T08:56:45.313Z"
   },
   {
    "duration": 25,
    "start_time": "2023-02-24T08:56:45.336Z"
   },
   {
    "duration": 29,
    "start_time": "2023-02-24T08:56:45.364Z"
   },
   {
    "duration": 7,
    "start_time": "2023-02-24T08:56:45.395Z"
   },
   {
    "duration": 119,
    "start_time": "2023-02-24T08:56:45.403Z"
   },
   {
    "duration": 5,
    "start_time": "2023-02-24T08:56:45.524Z"
   },
   {
    "duration": 155,
    "start_time": "2023-02-24T08:56:45.531Z"
   },
   {
    "duration": 177,
    "start_time": "2023-02-24T08:56:45.687Z"
   },
   {
    "duration": 8,
    "start_time": "2023-02-24T08:56:45.866Z"
   },
   {
    "duration": 11,
    "start_time": "2023-02-24T08:56:45.876Z"
   },
   {
    "duration": 16,
    "start_time": "2023-02-24T08:56:45.889Z"
   },
   {
    "duration": 36,
    "start_time": "2023-02-24T08:56:45.907Z"
   },
   {
    "duration": 29,
    "start_time": "2023-02-24T08:56:45.953Z"
   },
   {
    "duration": 23,
    "start_time": "2023-02-24T08:56:45.983Z"
   },
   {
    "duration": 23,
    "start_time": "2023-02-24T08:56:46.008Z"
   },
   {
    "duration": 29,
    "start_time": "2023-02-24T08:56:46.036Z"
   },
   {
    "duration": 15,
    "start_time": "2023-02-24T08:59:36.828Z"
   },
   {
    "duration": 13,
    "start_time": "2023-02-24T09:01:49.196Z"
   },
   {
    "duration": 118,
    "start_time": "2023-02-24T09:01:52.599Z"
   },
   {
    "duration": 204,
    "start_time": "2023-02-24T09:01:55.425Z"
   },
   {
    "duration": 195,
    "start_time": "2023-02-24T09:02:00.657Z"
   },
   {
    "duration": 6,
    "start_time": "2023-02-24T09:02:55.884Z"
   },
   {
    "duration": 18,
    "start_time": "2023-02-24T09:03:37.799Z"
   },
   {
    "duration": 139,
    "start_time": "2023-02-24T09:04:00.729Z"
   },
   {
    "duration": 169,
    "start_time": "2023-02-24T09:04:09.923Z"
   },
   {
    "duration": 318,
    "start_time": "2023-02-24T09:04:17.416Z"
   },
   {
    "duration": 126,
    "start_time": "2023-02-24T09:04:27.125Z"
   },
   {
    "duration": 221,
    "start_time": "2023-02-24T09:04:30.535Z"
   },
   {
    "duration": 128,
    "start_time": "2023-02-24T09:05:44.571Z"
   },
   {
    "duration": 176,
    "start_time": "2023-02-24T09:08:25.799Z"
   },
   {
    "duration": 11,
    "start_time": "2023-02-24T09:14:38.619Z"
   },
   {
    "duration": 15,
    "start_time": "2023-02-24T09:21:14.207Z"
   },
   {
    "duration": 20,
    "start_time": "2023-02-24T09:21:21.219Z"
   },
   {
    "duration": 150,
    "start_time": "2023-02-24T09:22:09.736Z"
   },
   {
    "duration": 167,
    "start_time": "2023-02-24T09:22:15.168Z"
   },
   {
    "duration": 10,
    "start_time": "2023-02-24T09:26:20.768Z"
   },
   {
    "duration": 9,
    "start_time": "2023-02-24T09:26:25.472Z"
   },
   {
    "duration": 11,
    "start_time": "2023-02-24T09:26:37.425Z"
   },
   {
    "duration": 21,
    "start_time": "2023-02-24T09:27:36.663Z"
   },
   {
    "duration": 14,
    "start_time": "2023-02-24T09:27:55.979Z"
   },
   {
    "duration": 23,
    "start_time": "2023-02-24T09:28:06.536Z"
   },
   {
    "duration": 14,
    "start_time": "2023-02-24T09:28:16.322Z"
   },
   {
    "duration": 22,
    "start_time": "2023-02-24T09:28:23.346Z"
   },
   {
    "duration": 45,
    "start_time": "2023-02-24T09:28:29.863Z"
   },
   {
    "duration": 10,
    "start_time": "2023-02-24T09:28:34.723Z"
   },
   {
    "duration": 15,
    "start_time": "2023-02-24T09:28:42.795Z"
   },
   {
    "duration": 13,
    "start_time": "2023-02-24T09:35:33.685Z"
   },
   {
    "duration": 21,
    "start_time": "2023-02-24T09:38:54.474Z"
   },
   {
    "duration": 129,
    "start_time": "2023-02-24T09:40:30.375Z"
   },
   {
    "duration": 20,
    "start_time": "2023-02-24T09:40:46.628Z"
   },
   {
    "duration": 16,
    "start_time": "2023-02-24T09:40:51.510Z"
   },
   {
    "duration": 4,
    "start_time": "2023-02-24T09:42:25.169Z"
   },
   {
    "duration": 4,
    "start_time": "2023-02-24T09:42:40.836Z"
   },
   {
    "duration": 4,
    "start_time": "2023-02-24T09:42:57.032Z"
   },
   {
    "duration": 13,
    "start_time": "2023-02-24T09:43:10.424Z"
   },
   {
    "duration": 12,
    "start_time": "2023-02-24T09:43:28.001Z"
   },
   {
    "duration": 13,
    "start_time": "2023-02-24T09:43:32.782Z"
   },
   {
    "duration": 10,
    "start_time": "2023-02-24T09:47:18.482Z"
   },
   {
    "duration": 13,
    "start_time": "2023-02-24T09:48:22.591Z"
   },
   {
    "duration": 13,
    "start_time": "2023-02-24T09:49:10.068Z"
   },
   {
    "duration": 24,
    "start_time": "2023-02-24T09:49:48.833Z"
   },
   {
    "duration": 16,
    "start_time": "2023-02-24T09:53:36.674Z"
   },
   {
    "duration": 56,
    "start_time": "2023-02-24T09:53:51.777Z"
   },
   {
    "duration": 8,
    "start_time": "2023-02-24T09:54:03.381Z"
   },
   {
    "duration": 23,
    "start_time": "2023-02-24T09:54:26.827Z"
   },
   {
    "duration": 26,
    "start_time": "2023-02-24T09:55:32.002Z"
   },
   {
    "duration": 34,
    "start_time": "2023-02-24T09:56:09.722Z"
   },
   {
    "duration": 11,
    "start_time": "2023-02-24T09:56:46.719Z"
   },
   {
    "duration": 10,
    "start_time": "2023-02-24T09:56:53.095Z"
   },
   {
    "duration": 16,
    "start_time": "2023-02-24T09:57:07.084Z"
   },
   {
    "duration": 13,
    "start_time": "2023-02-24T09:58:35.419Z"
   },
   {
    "duration": 20,
    "start_time": "2023-02-24T09:58:39.503Z"
   },
   {
    "duration": 15,
    "start_time": "2023-02-24T09:58:57.724Z"
   },
   {
    "duration": 19,
    "start_time": "2023-02-24T10:01:02.674Z"
   },
   {
    "duration": 22,
    "start_time": "2023-02-24T10:01:20.381Z"
   },
   {
    "duration": 43,
    "start_time": "2023-02-24T10:03:07.779Z"
   },
   {
    "duration": 67,
    "start_time": "2023-02-24T10:03:12.496Z"
   },
   {
    "duration": 22,
    "start_time": "2023-02-24T10:03:15.681Z"
   },
   {
    "duration": 1253,
    "start_time": "2023-02-24T10:03:34.681Z"
   },
   {
    "duration": 1104,
    "start_time": "2023-02-24T10:03:48.115Z"
   },
   {
    "duration": 12,
    "start_time": "2023-02-24T10:04:07.781Z"
   },
   {
    "duration": 13,
    "start_time": "2023-02-24T10:05:29.392Z"
   },
   {
    "duration": 11,
    "start_time": "2023-02-24T10:06:08.100Z"
   },
   {
    "duration": 10,
    "start_time": "2023-02-24T10:06:17.111Z"
   },
   {
    "duration": 12,
    "start_time": "2023-02-24T10:06:54.389Z"
   },
   {
    "duration": 10,
    "start_time": "2023-02-24T10:07:08.884Z"
   },
   {
    "duration": 4,
    "start_time": "2023-02-24T10:07:29.990Z"
   },
   {
    "duration": 12,
    "start_time": "2023-02-24T10:07:41.282Z"
   },
   {
    "duration": 35,
    "start_time": "2023-02-24T10:08:18.424Z"
   },
   {
    "duration": 18,
    "start_time": "2023-02-24T10:09:57.284Z"
   },
   {
    "duration": 20,
    "start_time": "2023-02-24T10:10:12.572Z"
   },
   {
    "duration": 14,
    "start_time": "2023-02-24T10:10:56.600Z"
   },
   {
    "duration": 16,
    "start_time": "2023-02-24T10:11:23.104Z"
   },
   {
    "duration": 20,
    "start_time": "2023-02-24T10:11:33.511Z"
   },
   {
    "duration": 22,
    "start_time": "2023-02-24T10:11:58.879Z"
   },
   {
    "duration": 17,
    "start_time": "2023-02-24T10:12:12.617Z"
   },
   {
    "duration": 17,
    "start_time": "2023-02-24T10:12:19.603Z"
   },
   {
    "duration": 29,
    "start_time": "2023-02-24T10:12:35.963Z"
   },
   {
    "duration": 5,
    "start_time": "2023-02-24T10:15:42.792Z"
   },
   {
    "duration": 4,
    "start_time": "2023-02-24T10:16:04.592Z"
   },
   {
    "duration": 9,
    "start_time": "2023-02-24T10:17:01.997Z"
   },
   {
    "duration": 6,
    "start_time": "2023-02-24T10:17:19.789Z"
   },
   {
    "duration": 5,
    "start_time": "2023-02-24T10:17:29.503Z"
   },
   {
    "duration": 27,
    "start_time": "2023-02-24T10:19:34.521Z"
   },
   {
    "duration": 152,
    "start_time": "2023-02-24T10:20:59.718Z"
   },
   {
    "duration": 472,
    "start_time": "2023-02-24T10:21:25.337Z"
   },
   {
    "duration": 29,
    "start_time": "2023-02-24T10:24:15.389Z"
   },
   {
    "duration": 14,
    "start_time": "2023-02-24T10:24:27.889Z"
   },
   {
    "duration": 25,
    "start_time": "2023-02-24T10:27:59.574Z"
   },
   {
    "duration": 16,
    "start_time": "2023-02-24T10:28:07.010Z"
   },
   {
    "duration": 32,
    "start_time": "2023-02-24T10:32:31.160Z"
   },
   {
    "duration": 30,
    "start_time": "2023-02-24T10:32:46.671Z"
   },
   {
    "duration": 67,
    "start_time": "2023-02-24T10:32:58.035Z"
   },
   {
    "duration": 16,
    "start_time": "2023-02-24T10:33:05.088Z"
   },
   {
    "duration": 18,
    "start_time": "2023-02-24T10:37:45.483Z"
   },
   {
    "duration": 20,
    "start_time": "2023-02-24T10:38:01.984Z"
   },
   {
    "duration": 234,
    "start_time": "2023-02-24T10:39:37.668Z"
   },
   {
    "duration": 342,
    "start_time": "2023-02-24T10:40:36.623Z"
   },
   {
    "duration": 30,
    "start_time": "2023-02-24T10:40:55.603Z"
   },
   {
    "duration": 19,
    "start_time": "2023-02-24T10:40:56.293Z"
   },
   {
    "duration": 8,
    "start_time": "2023-02-24T10:40:58.377Z"
   },
   {
    "duration": 152,
    "start_time": "2023-02-24T10:41:03.274Z"
   },
   {
    "duration": 244,
    "start_time": "2023-02-24T10:41:06.489Z"
   },
   {
    "duration": 13,
    "start_time": "2023-02-24T10:41:22.128Z"
   },
   {
    "duration": 22,
    "start_time": "2023-02-24T10:41:55.533Z"
   },
   {
    "duration": 16,
    "start_time": "2023-02-24T10:43:10.286Z"
   },
   {
    "duration": 13,
    "start_time": "2023-02-24T10:43:58.578Z"
   },
   {
    "duration": 14,
    "start_time": "2023-02-24T10:45:03.483Z"
   },
   {
    "duration": 20,
    "start_time": "2023-02-24T10:46:09.827Z"
   },
   {
    "duration": 27,
    "start_time": "2023-02-24T10:46:18.680Z"
   },
   {
    "duration": 25,
    "start_time": "2023-02-24T10:46:24.269Z"
   },
   {
    "duration": 16,
    "start_time": "2023-02-24T10:46:37.084Z"
   },
   {
    "duration": 4,
    "start_time": "2023-02-24T10:52:26.064Z"
   },
   {
    "duration": 9,
    "start_time": "2023-02-24T10:52:36.673Z"
   },
   {
    "duration": 4,
    "start_time": "2023-02-24T10:52:44.026Z"
   },
   {
    "duration": 4,
    "start_time": "2023-02-24T10:53:03.393Z"
   },
   {
    "duration": 9,
    "start_time": "2023-02-24T10:53:08.587Z"
   },
   {
    "duration": 38,
    "start_time": "2023-02-24T10:54:46.688Z"
   },
   {
    "duration": 5,
    "start_time": "2023-02-24T10:54:54.167Z"
   },
   {
    "duration": 10,
    "start_time": "2023-02-24T10:55:00.220Z"
   },
   {
    "duration": 747,
    "start_time": "2023-02-24T10:55:32.600Z"
   },
   {
    "duration": 699,
    "start_time": "2023-02-24T10:55:44.247Z"
   },
   {
    "duration": 16,
    "start_time": "2023-02-24T10:58:14.198Z"
   },
   {
    "duration": 82,
    "start_time": "2023-02-24T11:05:17.631Z"
   },
   {
    "duration": 116,
    "start_time": "2023-02-24T11:05:22.441Z"
   },
   {
    "duration": 10,
    "start_time": "2023-02-24T11:05:49.755Z"
   },
   {
    "duration": 9,
    "start_time": "2023-02-24T11:05:53.875Z"
   },
   {
    "duration": 20,
    "start_time": "2023-02-24T11:08:22.087Z"
   },
   {
    "duration": 14,
    "start_time": "2023-02-24T11:09:44.491Z"
   },
   {
    "duration": 15,
    "start_time": "2023-02-24T11:10:28.835Z"
   },
   {
    "duration": 13,
    "start_time": "2023-02-24T11:10:49.878Z"
   },
   {
    "duration": 9,
    "start_time": "2023-02-24T11:11:06.973Z"
   },
   {
    "duration": 9,
    "start_time": "2023-02-24T11:11:30.098Z"
   },
   {
    "duration": 22,
    "start_time": "2023-02-24T11:11:38.632Z"
   },
   {
    "duration": 4,
    "start_time": "2023-02-24T11:13:13.731Z"
   },
   {
    "duration": 14,
    "start_time": "2023-02-24T11:22:17.678Z"
   },
   {
    "duration": 5,
    "start_time": "2023-02-24T11:22:43.176Z"
   },
   {
    "duration": 1288,
    "start_time": "2023-02-24T11:31:30.062Z"
   },
   {
    "duration": 133,
    "start_time": "2023-02-24T11:31:31.353Z"
   },
   {
    "duration": 15,
    "start_time": "2023-02-24T11:31:31.487Z"
   },
   {
    "duration": 19,
    "start_time": "2023-02-24T11:31:31.505Z"
   },
   {
    "duration": 44,
    "start_time": "2023-02-24T11:31:31.526Z"
   },
   {
    "duration": 48,
    "start_time": "2023-02-24T11:31:31.572Z"
   },
   {
    "duration": 37,
    "start_time": "2023-02-24T11:31:31.622Z"
   },
   {
    "duration": 49,
    "start_time": "2023-02-24T11:31:31.660Z"
   },
   {
    "duration": 24,
    "start_time": "2023-02-24T11:31:31.710Z"
   },
   {
    "duration": 46,
    "start_time": "2023-02-24T11:31:31.737Z"
   },
   {
    "duration": 31,
    "start_time": "2023-02-24T11:31:31.786Z"
   },
   {
    "duration": 78,
    "start_time": "2023-02-24T11:31:31.819Z"
   },
   {
    "duration": 18,
    "start_time": "2023-02-24T11:31:31.900Z"
   },
   {
    "duration": 56,
    "start_time": "2023-02-24T11:31:31.920Z"
   },
   {
    "duration": 48,
    "start_time": "2023-02-24T11:31:31.978Z"
   },
   {
    "duration": 89,
    "start_time": "2023-02-24T11:31:32.029Z"
   },
   {
    "duration": 30,
    "start_time": "2023-02-24T11:31:32.120Z"
   },
   {
    "duration": 14,
    "start_time": "2023-02-24T11:31:32.163Z"
   },
   {
    "duration": 12,
    "start_time": "2023-02-24T11:31:32.179Z"
   },
   {
    "duration": 21,
    "start_time": "2023-02-24T11:31:32.193Z"
   },
   {
    "duration": 78,
    "start_time": "2023-02-24T11:31:32.216Z"
   },
   {
    "duration": 12,
    "start_time": "2023-02-24T11:31:32.296Z"
   },
   {
    "duration": 195,
    "start_time": "2023-02-24T11:31:32.309Z"
   },
   {
    "duration": 11,
    "start_time": "2023-02-24T11:31:32.506Z"
   },
   {
    "duration": 54,
    "start_time": "2023-02-24T11:31:32.519Z"
   },
   {
    "duration": 391,
    "start_time": "2023-02-24T11:31:32.575Z"
   },
   {
    "duration": 6,
    "start_time": "2023-02-24T11:31:32.968Z"
   },
   {
    "duration": 33,
    "start_time": "2023-02-24T11:31:32.982Z"
   },
   {
    "duration": 5,
    "start_time": "2023-02-24T11:31:33.018Z"
   },
   {
    "duration": 28,
    "start_time": "2023-02-24T11:31:33.025Z"
   },
   {
    "duration": 116,
    "start_time": "2023-02-24T11:31:33.059Z"
   },
   {
    "duration": 146,
    "start_time": "2023-02-24T11:31:33.177Z"
   },
   {
    "duration": 12,
    "start_time": "2023-02-24T11:31:33.325Z"
   },
   {
    "duration": 162,
    "start_time": "2023-02-24T11:31:33.339Z"
   },
   {
    "duration": 15,
    "start_time": "2023-02-24T11:31:33.503Z"
   },
   {
    "duration": 37,
    "start_time": "2023-02-24T11:31:33.520Z"
   },
   {
    "duration": 20,
    "start_time": "2023-02-24T11:31:33.562Z"
   },
   {
    "duration": 18,
    "start_time": "2023-02-24T11:31:33.584Z"
   },
   {
    "duration": 38,
    "start_time": "2023-02-24T11:31:33.604Z"
   },
   {
    "duration": 142,
    "start_time": "2023-02-24T11:31:33.644Z"
   },
   {
    "duration": 159,
    "start_time": "2023-02-24T11:31:33.788Z"
   },
   {
    "duration": 317,
    "start_time": "2023-02-24T11:31:33.953Z"
   },
   {
    "duration": 7,
    "start_time": "2023-02-24T11:31:34.272Z"
   },
   {
    "duration": 14,
    "start_time": "2023-02-24T11:31:34.281Z"
   },
   {
    "duration": 18,
    "start_time": "2023-02-24T11:31:34.297Z"
   },
   {
    "duration": 38,
    "start_time": "2023-02-24T11:31:34.317Z"
   },
   {
    "duration": 116,
    "start_time": "2023-02-24T11:31:34.358Z"
   },
   {
    "duration": 5,
    "start_time": "2023-02-24T11:31:34.476Z"
   },
   {
    "duration": 149,
    "start_time": "2023-02-24T11:31:34.484Z"
   },
   {
    "duration": 14,
    "start_time": "2023-02-24T11:31:34.637Z"
   },
   {
    "duration": 31,
    "start_time": "2023-02-24T11:31:34.657Z"
   },
   {
    "duration": 24,
    "start_time": "2023-02-24T11:31:34.690Z"
   },
   {
    "duration": 37,
    "start_time": "2023-02-24T11:31:34.716Z"
   },
   {
    "duration": 16,
    "start_time": "2023-02-24T11:31:34.755Z"
   },
   {
    "duration": 10,
    "start_time": "2023-02-24T11:31:34.773Z"
   },
   {
    "duration": 173,
    "start_time": "2023-02-24T11:31:34.785Z"
   },
   {
    "duration": 509,
    "start_time": "2023-02-24T11:31:34.965Z"
   },
   {
    "duration": 7,
    "start_time": "2023-02-24T11:31:35.476Z"
   },
   {
    "duration": 18,
    "start_time": "2023-02-24T11:31:35.485Z"
   },
   {
    "duration": 13,
    "start_time": "2023-02-24T11:31:35.506Z"
   },
   {
    "duration": 36,
    "start_time": "2023-02-24T11:31:35.521Z"
   },
   {
    "duration": 18,
    "start_time": "2023-02-24T11:31:35.560Z"
   },
   {
    "duration": 28,
    "start_time": "2023-02-24T11:31:35.583Z"
   },
   {
    "duration": 8,
    "start_time": "2023-02-24T11:31:35.613Z"
   },
   {
    "duration": 163,
    "start_time": "2023-02-24T11:31:35.646Z"
   },
   {
    "duration": 7,
    "start_time": "2023-02-24T11:31:35.811Z"
   },
   {
    "duration": 166,
    "start_time": "2023-02-24T11:31:35.819Z"
   },
   {
    "duration": 217,
    "start_time": "2023-02-24T11:31:35.987Z"
   },
   {
    "duration": 7,
    "start_time": "2023-02-24T11:31:36.206Z"
   },
   {
    "duration": 26,
    "start_time": "2023-02-24T11:31:36.214Z"
   },
   {
    "duration": 28,
    "start_time": "2023-02-24T11:31:36.243Z"
   },
   {
    "duration": 20,
    "start_time": "2023-02-24T11:31:36.273Z"
   },
   {
    "duration": 8,
    "start_time": "2023-02-24T11:31:36.295Z"
   },
   {
    "duration": 38,
    "start_time": "2023-02-24T11:31:36.304Z"
   },
   {
    "duration": 42,
    "start_time": "2023-02-24T11:31:36.344Z"
   },
   {
    "duration": 31,
    "start_time": "2023-02-24T11:31:36.388Z"
   },
   {
    "duration": 43,
    "start_time": "2023-02-24T11:31:36.421Z"
   },
   {
    "duration": 30,
    "start_time": "2023-02-24T11:31:36.466Z"
   },
   {
    "duration": 971,
    "start_time": "2023-02-24T11:32:10.626Z"
   },
   {
    "duration": 18,
    "start_time": "2023-02-24T11:32:57.109Z"
   },
   {
    "duration": 18,
    "start_time": "2023-02-24T11:33:10.668Z"
   },
   {
    "duration": 8,
    "start_time": "2023-02-24T11:34:46.536Z"
   },
   {
    "duration": 10,
    "start_time": "2023-02-24T11:35:56.423Z"
   },
   {
    "duration": 28,
    "start_time": "2023-02-24T11:37:23.691Z"
   },
   {
    "duration": 42,
    "start_time": "2023-02-24T11:37:25.412Z"
   },
   {
    "duration": 6,
    "start_time": "2023-02-24T11:37:27.282Z"
   },
   {
    "duration": 136,
    "start_time": "2023-02-24T11:37:28.592Z"
   },
   {
    "duration": 11,
    "start_time": "2023-02-24T11:37:31.018Z"
   },
   {
    "duration": 10,
    "start_time": "2023-02-24T11:37:36.099Z"
   },
   {
    "duration": 37,
    "start_time": "2023-02-24T11:37:37.026Z"
   },
   {
    "duration": 14,
    "start_time": "2023-02-24T11:41:45.622Z"
   },
   {
    "duration": 14,
    "start_time": "2023-02-24T11:41:57.600Z"
   },
   {
    "duration": 10,
    "start_time": "2023-02-24T11:42:01.266Z"
   },
   {
    "duration": 125,
    "start_time": "2023-02-24T11:43:41.367Z"
   },
   {
    "duration": 559,
    "start_time": "2023-02-24T11:43:56.291Z"
   },
   {
    "duration": 268,
    "start_time": "2023-02-24T11:44:12.791Z"
   },
   {
    "duration": 218,
    "start_time": "2023-02-24T11:44:18.634Z"
   },
   {
    "duration": 209,
    "start_time": "2023-02-24T11:44:28.491Z"
   },
   {
    "duration": 110,
    "start_time": "2023-02-24T11:45:06.582Z"
   },
   {
    "duration": 15,
    "start_time": "2023-02-24T11:46:15.569Z"
   },
   {
    "duration": 16,
    "start_time": "2023-02-24T11:47:31.763Z"
   },
   {
    "duration": 21,
    "start_time": "2023-02-24T11:47:43.834Z"
   },
   {
    "duration": 5,
    "start_time": "2023-02-24T11:47:56.809Z"
   },
   {
    "duration": 11,
    "start_time": "2023-02-24T11:48:00.747Z"
   },
   {
    "duration": 28,
    "start_time": "2023-02-24T11:48:05.233Z"
   },
   {
    "duration": 10,
    "start_time": "2023-02-24T11:48:50.721Z"
   },
   {
    "duration": 8,
    "start_time": "2023-02-24T11:49:36.225Z"
   },
   {
    "duration": 17,
    "start_time": "2023-02-24T11:49:43.847Z"
   },
   {
    "duration": 222,
    "start_time": "2023-02-24T11:50:33.807Z"
   },
   {
    "duration": 277,
    "start_time": "2023-02-24T11:50:38.465Z"
   },
   {
    "duration": 14,
    "start_time": "2023-02-24T11:51:25.234Z"
   },
   {
    "duration": 62,
    "start_time": "2023-02-24T11:53:19.807Z"
   },
   {
    "duration": 123,
    "start_time": "2023-02-24T11:53:33.361Z"
   },
   {
    "duration": 126,
    "start_time": "2023-02-24T11:53:45.856Z"
   },
   {
    "duration": 140,
    "start_time": "2023-02-24T11:53:51.112Z"
   },
   {
    "duration": 345,
    "start_time": "2023-02-24T11:56:38.510Z"
   },
   {
    "duration": 46,
    "start_time": "2023-02-24T12:00:25.268Z"
   },
   {
    "duration": 201,
    "start_time": "2023-02-24T12:01:26.731Z"
   },
   {
    "duration": 5,
    "start_time": "2023-02-24T12:04:19.263Z"
   },
   {
    "duration": 12,
    "start_time": "2023-02-24T12:05:30.967Z"
   },
   {
    "duration": 4,
    "start_time": "2023-02-24T12:07:22.215Z"
   },
   {
    "duration": 16,
    "start_time": "2023-02-24T12:07:24.605Z"
   },
   {
    "duration": 4,
    "start_time": "2023-02-24T12:07:33.916Z"
   },
   {
    "duration": 13,
    "start_time": "2023-02-24T12:07:35.414Z"
   },
   {
    "duration": 142,
    "start_time": "2023-02-24T12:08:45.520Z"
   },
   {
    "duration": 110,
    "start_time": "2023-02-24T12:08:50.857Z"
   },
   {
    "duration": 140,
    "start_time": "2023-02-24T12:09:02.104Z"
   },
   {
    "duration": 20,
    "start_time": "2023-02-24T12:10:57.053Z"
   },
   {
    "duration": 8,
    "start_time": "2023-02-24T12:11:05.627Z"
   },
   {
    "duration": 19,
    "start_time": "2023-02-24T12:13:38.904Z"
   },
   {
    "duration": 18,
    "start_time": "2023-02-24T12:13:52.052Z"
   },
   {
    "duration": 24,
    "start_time": "2023-02-24T12:14:11.605Z"
   },
   {
    "duration": 21,
    "start_time": "2023-02-24T12:14:23.749Z"
   },
   {
    "duration": 19,
    "start_time": "2023-02-24T12:14:46.875Z"
   },
   {
    "duration": 9,
    "start_time": "2023-02-24T12:15:04.407Z"
   },
   {
    "duration": 146,
    "start_time": "2023-02-24T12:17:31.696Z"
   },
   {
    "duration": 97,
    "start_time": "2023-02-24T12:17:39.107Z"
   },
   {
    "duration": 127,
    "start_time": "2023-02-24T12:17:51.331Z"
   },
   {
    "duration": 215,
    "start_time": "2023-02-24T12:18:57.798Z"
   },
   {
    "duration": 168,
    "start_time": "2023-02-24T12:19:40.880Z"
   },
   {
    "duration": 17,
    "start_time": "2023-02-24T12:42:44.083Z"
   },
   {
    "duration": 8,
    "start_time": "2023-02-24T12:42:45.127Z"
   },
   {
    "duration": 124,
    "start_time": "2023-02-24T12:42:46.394Z"
   },
   {
    "duration": 163,
    "start_time": "2023-02-24T12:42:48.088Z"
   },
   {
    "duration": 5,
    "start_time": "2023-02-24T12:43:12.123Z"
   },
   {
    "duration": 11,
    "start_time": "2023-02-24T12:43:18.431Z"
   },
   {
    "duration": 22,
    "start_time": "2023-02-24T12:44:22.532Z"
   },
   {
    "duration": 12,
    "start_time": "2023-02-24T12:45:24.860Z"
   },
   {
    "duration": 4,
    "start_time": "2023-02-24T12:46:22.875Z"
   },
   {
    "duration": 18,
    "start_time": "2023-02-24T12:46:24.087Z"
   },
   {
    "duration": 21,
    "start_time": "2023-02-24T12:58:25.180Z"
   },
   {
    "duration": 25,
    "start_time": "2023-02-24T13:02:10.077Z"
   },
   {
    "duration": 21,
    "start_time": "2023-02-24T13:16:53.117Z"
   },
   {
    "duration": 14,
    "start_time": "2023-02-24T13:17:10.162Z"
   },
   {
    "duration": 692,
    "start_time": "2023-02-24T13:17:18.211Z"
   },
   {
    "duration": 24,
    "start_time": "2023-02-24T13:17:26.558Z"
   },
   {
    "duration": 23,
    "start_time": "2023-02-24T13:22:40.658Z"
   },
   {
    "duration": 29,
    "start_time": "2023-02-24T13:22:52.357Z"
   },
   {
    "duration": 19,
    "start_time": "2023-02-24T13:23:45.580Z"
   },
   {
    "duration": 23,
    "start_time": "2023-02-24T13:23:50.919Z"
   },
   {
    "duration": 20,
    "start_time": "2023-02-24T13:25:34.007Z"
   },
   {
    "duration": 35,
    "start_time": "2023-02-24T13:26:48.537Z"
   },
   {
    "duration": 21,
    "start_time": "2023-02-24T13:28:04.633Z"
   },
   {
    "duration": 20,
    "start_time": "2023-02-24T13:29:00.273Z"
   },
   {
    "duration": 32,
    "start_time": "2023-02-24T13:29:04.331Z"
   },
   {
    "duration": 33,
    "start_time": "2023-02-24T13:31:36.067Z"
   },
   {
    "duration": 1542,
    "start_time": "2023-02-24T13:39:22.083Z"
   },
   {
    "duration": 19,
    "start_time": "2023-02-24T13:39:38.459Z"
   },
   {
    "duration": 15,
    "start_time": "2023-02-24T13:40:03.418Z"
   },
   {
    "duration": 16,
    "start_time": "2023-02-24T13:40:08.973Z"
   },
   {
    "duration": 13,
    "start_time": "2023-02-24T13:41:02.028Z"
   },
   {
    "duration": 14,
    "start_time": "2023-02-24T13:41:05.878Z"
   },
   {
    "duration": 27,
    "start_time": "2023-02-24T13:45:07.270Z"
   },
   {
    "duration": 17,
    "start_time": "2023-02-24T13:50:38.429Z"
   },
   {
    "duration": 16,
    "start_time": "2023-02-24T13:50:58.815Z"
   },
   {
    "duration": 17,
    "start_time": "2023-02-24T13:52:34.287Z"
   },
   {
    "duration": 19,
    "start_time": "2023-02-24T13:52:39.433Z"
   },
   {
    "duration": 22,
    "start_time": "2023-02-24T13:54:02.236Z"
   },
   {
    "duration": 14,
    "start_time": "2023-02-24T13:54:05.495Z"
   },
   {
    "duration": 13,
    "start_time": "2023-02-24T13:55:31.850Z"
   },
   {
    "duration": 15,
    "start_time": "2023-02-24T13:55:49.171Z"
   },
   {
    "duration": 16,
    "start_time": "2023-02-24T13:55:53.801Z"
   },
   {
    "duration": 4,
    "start_time": "2023-02-24T13:57:19.148Z"
   },
   {
    "duration": 26,
    "start_time": "2023-02-24T13:57:30.931Z"
   },
   {
    "duration": 5,
    "start_time": "2023-02-24T13:57:36.014Z"
   },
   {
    "duration": 14,
    "start_time": "2023-02-24T13:57:44.727Z"
   },
   {
    "duration": 17,
    "start_time": "2023-02-24T13:58:05.668Z"
   },
   {
    "duration": 18,
    "start_time": "2023-02-24T13:58:12.632Z"
   },
   {
    "duration": 13,
    "start_time": "2023-02-24T13:58:24.949Z"
   },
   {
    "duration": 13,
    "start_time": "2023-02-24T13:58:34.569Z"
   },
   {
    "duration": 14,
    "start_time": "2023-02-24T13:59:23.680Z"
   },
   {
    "duration": 13,
    "start_time": "2023-02-24T13:59:54.201Z"
   },
   {
    "duration": 14,
    "start_time": "2023-02-24T14:00:04.306Z"
   },
   {
    "duration": 13,
    "start_time": "2023-02-24T14:00:23.549Z"
   },
   {
    "duration": 17,
    "start_time": "2023-02-24T14:00:34.384Z"
   },
   {
    "duration": 17,
    "start_time": "2023-02-24T14:00:37.211Z"
   },
   {
    "duration": 12,
    "start_time": "2023-02-24T14:01:00.780Z"
   },
   {
    "duration": 12,
    "start_time": "2023-02-24T14:01:08.184Z"
   },
   {
    "duration": 679,
    "start_time": "2023-02-24T14:02:05.598Z"
   },
   {
    "duration": 18,
    "start_time": "2023-02-24T14:03:20.978Z"
   },
   {
    "duration": 113,
    "start_time": "2023-02-24T14:03:36.524Z"
   },
   {
    "duration": 12,
    "start_time": "2023-02-24T14:05:06.445Z"
   },
   {
    "duration": 13,
    "start_time": "2023-02-24T14:05:09.978Z"
   },
   {
    "duration": 13,
    "start_time": "2023-02-24T14:05:13.989Z"
   },
   {
    "duration": 12,
    "start_time": "2023-02-24T14:05:33.139Z"
   },
   {
    "duration": 12,
    "start_time": "2023-02-24T14:05:37.731Z"
   },
   {
    "duration": 12,
    "start_time": "2023-02-24T14:05:56.053Z"
   },
   {
    "duration": 13,
    "start_time": "2023-02-24T14:06:04.410Z"
   },
   {
    "duration": 211,
    "start_time": "2023-02-24T14:06:06.339Z"
   },
   {
    "duration": 12,
    "start_time": "2023-02-24T14:06:58.075Z"
   },
   {
    "duration": 22,
    "start_time": "2023-02-24T14:07:07.935Z"
   },
   {
    "duration": 526,
    "start_time": "2023-02-24T14:08:23.601Z"
   },
   {
    "duration": 104,
    "start_time": "2023-02-24T14:09:10.193Z"
   },
   {
    "duration": 557,
    "start_time": "2023-02-24T14:09:14.897Z"
   },
   {
    "duration": 110,
    "start_time": "2023-02-24T14:09:25.160Z"
   },
   {
    "duration": 641,
    "start_time": "2023-02-24T14:09:25.616Z"
   },
   {
    "duration": 8,
    "start_time": "2023-02-24T14:09:57.069Z"
   },
   {
    "duration": 104,
    "start_time": "2023-02-24T14:10:28.909Z"
   },
   {
    "duration": 26,
    "start_time": "2023-02-24T14:10:54.487Z"
   },
   {
    "duration": 151,
    "start_time": "2023-02-24T14:11:00.922Z"
   },
   {
    "duration": 144,
    "start_time": "2023-02-24T14:11:08.023Z"
   },
   {
    "duration": 12,
    "start_time": "2023-02-24T14:11:34.579Z"
   },
   {
    "duration": 11,
    "start_time": "2023-02-24T14:11:42.769Z"
   },
   {
    "duration": 15,
    "start_time": "2023-02-24T14:12:02.577Z"
   },
   {
    "duration": 25,
    "start_time": "2023-02-24T14:21:02.322Z"
   },
   {
    "duration": 24,
    "start_time": "2023-02-24T14:21:16.750Z"
   },
   {
    "duration": 17,
    "start_time": "2023-02-24T14:22:27.512Z"
   },
   {
    "duration": 29,
    "start_time": "2023-02-24T14:22:30.926Z"
   },
   {
    "duration": 19,
    "start_time": "2023-02-24T14:23:49.171Z"
   },
   {
    "duration": 33,
    "start_time": "2023-02-24T14:23:56.914Z"
   },
   {
    "duration": 21,
    "start_time": "2023-02-24T14:23:58.366Z"
   },
   {
    "duration": 11,
    "start_time": "2023-02-24T14:24:40.983Z"
   },
   {
    "duration": 144,
    "start_time": "2023-02-24T14:24:50.776Z"
   },
   {
    "duration": 15,
    "start_time": "2023-02-24T14:24:59.759Z"
   },
   {
    "duration": 115,
    "start_time": "2023-02-24T14:25:00.412Z"
   },
   {
    "duration": 147,
    "start_time": "2023-02-24T14:25:01.384Z"
   },
   {
    "duration": 248,
    "start_time": "2023-02-24T14:25:03.784Z"
   },
   {
    "duration": 677,
    "start_time": "2023-02-24T14:25:56.471Z"
   },
   {
    "duration": 21,
    "start_time": "2023-02-24T14:26:38.597Z"
   },
   {
    "duration": 13,
    "start_time": "2023-02-24T14:26:59.894Z"
   },
   {
    "duration": 19,
    "start_time": "2023-02-24T14:28:01.032Z"
   },
   {
    "duration": 8,
    "start_time": "2023-02-24T14:28:05.425Z"
   },
   {
    "duration": 14,
    "start_time": "2023-02-24T14:30:34.265Z"
   },
   {
    "duration": 12,
    "start_time": "2023-02-24T14:30:45.820Z"
   },
   {
    "duration": 16,
    "start_time": "2023-02-24T14:30:55.167Z"
   },
   {
    "duration": 15,
    "start_time": "2023-02-24T14:31:08.433Z"
   },
   {
    "duration": 13,
    "start_time": "2023-02-24T14:32:48.075Z"
   },
   {
    "duration": 12,
    "start_time": "2023-02-24T14:32:59.451Z"
   },
   {
    "duration": 10,
    "start_time": "2023-02-24T14:34:08.092Z"
   },
   {
    "duration": 14,
    "start_time": "2023-02-24T14:34:10.696Z"
   },
   {
    "duration": 11,
    "start_time": "2023-02-24T14:34:22.673Z"
   },
   {
    "duration": 16,
    "start_time": "2023-02-24T14:34:24.080Z"
   },
   {
    "duration": 15,
    "start_time": "2023-02-24T14:34:33.593Z"
   },
   {
    "duration": 6,
    "start_time": "2023-02-24T14:39:28.568Z"
   },
   {
    "duration": 5,
    "start_time": "2023-02-24T14:39:48.166Z"
   },
   {
    "duration": 15,
    "start_time": "2023-02-24T14:39:51.608Z"
   },
   {
    "duration": 5,
    "start_time": "2023-02-24T14:42:21.206Z"
   },
   {
    "duration": 16,
    "start_time": "2023-02-24T14:42:22.290Z"
   },
   {
    "duration": 4,
    "start_time": "2023-02-24T14:42:39.258Z"
   },
   {
    "duration": 14,
    "start_time": "2023-02-24T14:42:43.995Z"
   },
   {
    "duration": 5,
    "start_time": "2023-02-24T15:08:41.595Z"
   },
   {
    "duration": 26,
    "start_time": "2023-02-24T15:08:45.023Z"
   },
   {
    "duration": 6,
    "start_time": "2023-02-24T15:08:46.191Z"
   },
   {
    "duration": 61,
    "start_time": "2023-02-24T15:08:54.127Z"
   },
   {
    "duration": 50,
    "start_time": "2023-02-24T15:11:13.076Z"
   },
   {
    "duration": 5,
    "start_time": "2023-02-24T15:19:20.960Z"
   },
   {
    "duration": 56,
    "start_time": "2023-02-24T15:19:21.401Z"
   },
   {
    "duration": 8,
    "start_time": "2023-02-24T15:22:54.793Z"
   },
   {
    "duration": 1168,
    "start_time": "2023-02-24T15:27:59.301Z"
   },
   {
    "duration": 92,
    "start_time": "2023-02-24T15:28:00.471Z"
   },
   {
    "duration": 15,
    "start_time": "2023-02-24T15:28:00.565Z"
   },
   {
    "duration": 31,
    "start_time": "2023-02-24T15:28:00.583Z"
   },
   {
    "duration": 28,
    "start_time": "2023-02-24T15:28:00.617Z"
   },
   {
    "duration": 31,
    "start_time": "2023-02-24T15:28:00.647Z"
   },
   {
    "duration": 33,
    "start_time": "2023-02-24T15:28:00.679Z"
   },
   {
    "duration": 39,
    "start_time": "2023-02-24T15:28:00.715Z"
   },
   {
    "duration": 20,
    "start_time": "2023-02-24T15:28:00.759Z"
   },
   {
    "duration": 32,
    "start_time": "2023-02-24T15:28:00.782Z"
   },
   {
    "duration": 24,
    "start_time": "2023-02-24T15:28:00.815Z"
   },
   {
    "duration": 57,
    "start_time": "2023-02-24T15:28:00.842Z"
   },
   {
    "duration": 14,
    "start_time": "2023-02-24T15:28:00.901Z"
   },
   {
    "duration": 48,
    "start_time": "2023-02-24T15:28:00.917Z"
   },
   {
    "duration": 34,
    "start_time": "2023-02-24T15:28:00.967Z"
   },
   {
    "duration": 94,
    "start_time": "2023-02-24T15:28:01.002Z"
   },
   {
    "duration": 10,
    "start_time": "2023-02-24T15:28:01.098Z"
   },
   {
    "duration": 20,
    "start_time": "2023-02-24T15:28:01.110Z"
   },
   {
    "duration": 32,
    "start_time": "2023-02-24T15:28:01.148Z"
   },
   {
    "duration": 26,
    "start_time": "2023-02-24T15:28:01.182Z"
   },
   {
    "duration": 77,
    "start_time": "2023-02-24T15:28:01.209Z"
   },
   {
    "duration": 13,
    "start_time": "2023-02-24T15:28:01.288Z"
   },
   {
    "duration": 159,
    "start_time": "2023-02-24T15:28:01.303Z"
   },
   {
    "duration": 6,
    "start_time": "2023-02-24T15:28:01.463Z"
   },
   {
    "duration": 32,
    "start_time": "2023-02-24T15:28:01.470Z"
   },
   {
    "duration": 350,
    "start_time": "2023-02-24T15:28:01.503Z"
   },
   {
    "duration": 3,
    "start_time": "2023-02-24T15:28:01.855Z"
   },
   {
    "duration": 36,
    "start_time": "2023-02-24T15:28:01.862Z"
   },
   {
    "duration": 19,
    "start_time": "2023-02-24T15:28:01.900Z"
   },
   {
    "duration": 25,
    "start_time": "2023-02-24T15:28:01.920Z"
   },
   {
    "duration": 170,
    "start_time": "2023-02-24T15:28:01.947Z"
   },
   {
    "duration": 180,
    "start_time": "2023-02-24T15:28:02.119Z"
   },
   {
    "duration": 13,
    "start_time": "2023-02-24T15:28:02.301Z"
   },
   {
    "duration": 229,
    "start_time": "2023-02-24T15:28:02.316Z"
   },
   {
    "duration": 19,
    "start_time": "2023-02-24T15:28:02.547Z"
   },
   {
    "duration": 42,
    "start_time": "2023-02-24T15:28:02.568Z"
   },
   {
    "duration": 26,
    "start_time": "2023-02-24T15:28:02.612Z"
   },
   {
    "duration": 62,
    "start_time": "2023-02-24T15:28:02.640Z"
   },
   {
    "duration": 21,
    "start_time": "2023-02-24T15:28:02.704Z"
   },
   {
    "duration": 162,
    "start_time": "2023-02-24T15:28:02.727Z"
   },
   {
    "duration": 121,
    "start_time": "2023-02-24T15:28:02.890Z"
   },
   {
    "duration": 246,
    "start_time": "2023-02-24T15:28:03.013Z"
   },
   {
    "duration": 7,
    "start_time": "2023-02-24T15:28:03.260Z"
   },
   {
    "duration": 16,
    "start_time": "2023-02-24T15:28:03.269Z"
   },
   {
    "duration": 19,
    "start_time": "2023-02-24T15:28:03.287Z"
   },
   {
    "duration": 18,
    "start_time": "2023-02-24T15:28:03.308Z"
   },
   {
    "duration": 90,
    "start_time": "2023-02-24T15:28:03.338Z"
   },
   {
    "duration": 20,
    "start_time": "2023-02-24T15:28:03.439Z"
   },
   {
    "duration": 15,
    "start_time": "2023-02-24T15:28:03.461Z"
   },
   {
    "duration": 15,
    "start_time": "2023-02-24T15:28:03.478Z"
   },
   {
    "duration": 28,
    "start_time": "2023-02-24T15:28:03.495Z"
   },
   {
    "duration": 40,
    "start_time": "2023-02-24T15:28:03.524Z"
   },
   {
    "duration": 16,
    "start_time": "2023-02-24T15:28:03.565Z"
   },
   {
    "duration": 14,
    "start_time": "2023-02-24T15:28:03.584Z"
   },
   {
    "duration": 154,
    "start_time": "2023-02-24T15:28:03.600Z"
   },
   {
    "duration": 432,
    "start_time": "2023-02-24T15:28:03.756Z"
   },
   {
    "duration": 7,
    "start_time": "2023-02-24T15:28:04.190Z"
   },
   {
    "duration": 15,
    "start_time": "2023-02-24T15:28:04.199Z"
   },
   {
    "duration": 33,
    "start_time": "2023-02-24T15:28:04.216Z"
   },
   {
    "duration": 138,
    "start_time": "2023-02-24T15:28:04.254Z"
   },
   {
    "duration": 0,
    "start_time": "2023-02-24T15:28:04.393Z"
   },
   {
    "duration": 0,
    "start_time": "2023-02-24T15:28:04.395Z"
   },
   {
    "duration": 0,
    "start_time": "2023-02-24T15:28:04.396Z"
   },
   {
    "duration": 0,
    "start_time": "2023-02-24T15:28:04.398Z"
   },
   {
    "duration": 0,
    "start_time": "2023-02-24T15:28:04.399Z"
   },
   {
    "duration": 0,
    "start_time": "2023-02-24T15:28:04.400Z"
   },
   {
    "duration": 0,
    "start_time": "2023-02-24T15:28:04.401Z"
   },
   {
    "duration": 0,
    "start_time": "2023-02-24T15:28:04.402Z"
   },
   {
    "duration": 0,
    "start_time": "2023-02-24T15:28:04.404Z"
   },
   {
    "duration": 0,
    "start_time": "2023-02-24T15:28:04.406Z"
   },
   {
    "duration": 0,
    "start_time": "2023-02-24T15:28:04.406Z"
   },
   {
    "duration": 0,
    "start_time": "2023-02-24T15:28:04.408Z"
   },
   {
    "duration": 0,
    "start_time": "2023-02-24T15:28:04.408Z"
   },
   {
    "duration": 0,
    "start_time": "2023-02-24T15:28:04.441Z"
   },
   {
    "duration": 0,
    "start_time": "2023-02-24T15:28:04.441Z"
   },
   {
    "duration": 0,
    "start_time": "2023-02-24T15:28:04.442Z"
   },
   {
    "duration": 0,
    "start_time": "2023-02-24T15:28:04.443Z"
   },
   {
    "duration": 0,
    "start_time": "2023-02-24T15:28:04.443Z"
   },
   {
    "duration": 0,
    "start_time": "2023-02-24T15:28:04.444Z"
   },
   {
    "duration": 0,
    "start_time": "2023-02-24T15:28:04.445Z"
   },
   {
    "duration": 0,
    "start_time": "2023-02-24T15:28:04.446Z"
   },
   {
    "duration": 0,
    "start_time": "2023-02-24T15:28:04.447Z"
   },
   {
    "duration": 0,
    "start_time": "2023-02-24T15:28:04.448Z"
   },
   {
    "duration": 0,
    "start_time": "2023-02-24T15:28:04.449Z"
   },
   {
    "duration": 13,
    "start_time": "2023-02-24T15:30:00.864Z"
   },
   {
    "duration": 1206,
    "start_time": "2023-02-24T15:30:08.653Z"
   },
   {
    "duration": 102,
    "start_time": "2023-02-24T15:30:09.861Z"
   },
   {
    "duration": 16,
    "start_time": "2023-02-24T15:30:09.965Z"
   },
   {
    "duration": 17,
    "start_time": "2023-02-24T15:30:09.983Z"
   },
   {
    "duration": 19,
    "start_time": "2023-02-24T15:30:10.004Z"
   },
   {
    "duration": 25,
    "start_time": "2023-02-24T15:30:10.025Z"
   },
   {
    "duration": 23,
    "start_time": "2023-02-24T15:30:10.052Z"
   },
   {
    "duration": 31,
    "start_time": "2023-02-24T15:30:10.077Z"
   },
   {
    "duration": 41,
    "start_time": "2023-02-24T15:30:10.110Z"
   },
   {
    "duration": 36,
    "start_time": "2023-02-24T15:30:10.153Z"
   },
   {
    "duration": 25,
    "start_time": "2023-02-24T15:30:10.190Z"
   },
   {
    "duration": 75,
    "start_time": "2023-02-24T15:30:10.217Z"
   },
   {
    "duration": 15,
    "start_time": "2023-02-24T15:30:10.294Z"
   },
   {
    "duration": 57,
    "start_time": "2023-02-24T15:30:10.312Z"
   },
   {
    "duration": 38,
    "start_time": "2023-02-24T15:30:10.371Z"
   },
   {
    "duration": 101,
    "start_time": "2023-02-24T15:30:10.411Z"
   },
   {
    "duration": 12,
    "start_time": "2023-02-24T15:30:10.514Z"
   },
   {
    "duration": 23,
    "start_time": "2023-02-24T15:30:10.528Z"
   },
   {
    "duration": 19,
    "start_time": "2023-02-24T15:30:10.553Z"
   },
   {
    "duration": 21,
    "start_time": "2023-02-24T15:30:10.574Z"
   },
   {
    "duration": 84,
    "start_time": "2023-02-24T15:30:10.597Z"
   },
   {
    "duration": 10,
    "start_time": "2023-02-24T15:30:10.683Z"
   },
   {
    "duration": 176,
    "start_time": "2023-02-24T15:30:10.695Z"
   },
   {
    "duration": 5,
    "start_time": "2023-02-24T15:30:10.873Z"
   },
   {
    "duration": 35,
    "start_time": "2023-02-24T15:30:10.880Z"
   },
   {
    "duration": 393,
    "start_time": "2023-02-24T15:30:10.917Z"
   },
   {
    "duration": 3,
    "start_time": "2023-02-24T15:30:11.311Z"
   },
   {
    "duration": 9,
    "start_time": "2023-02-24T15:30:11.317Z"
   },
   {
    "duration": 7,
    "start_time": "2023-02-24T15:30:11.340Z"
   },
   {
    "duration": 25,
    "start_time": "2023-02-24T15:30:11.348Z"
   },
   {
    "duration": 123,
    "start_time": "2023-02-24T15:30:11.374Z"
   },
   {
    "duration": 157,
    "start_time": "2023-02-24T15:30:11.499Z"
   },
   {
    "duration": 12,
    "start_time": "2023-02-24T15:30:11.657Z"
   },
   {
    "duration": 176,
    "start_time": "2023-02-24T15:30:11.671Z"
   },
   {
    "duration": 17,
    "start_time": "2023-02-24T15:30:11.850Z"
   },
   {
    "duration": 19,
    "start_time": "2023-02-24T15:30:11.870Z"
   },
   {
    "duration": 19,
    "start_time": "2023-02-24T15:30:11.890Z"
   },
   {
    "duration": 43,
    "start_time": "2023-02-24T15:30:11.910Z"
   },
   {
    "duration": 10,
    "start_time": "2023-02-24T15:30:11.958Z"
   },
   {
    "duration": 149,
    "start_time": "2023-02-24T15:30:11.969Z"
   },
   {
    "duration": 160,
    "start_time": "2023-02-24T15:30:12.123Z"
   },
   {
    "duration": 273,
    "start_time": "2023-02-24T15:30:12.285Z"
   },
   {
    "duration": 9,
    "start_time": "2023-02-24T15:30:12.564Z"
   },
   {
    "duration": 21,
    "start_time": "2023-02-24T15:30:12.575Z"
   },
   {
    "duration": 37,
    "start_time": "2023-02-24T15:30:12.598Z"
   },
   {
    "duration": 49,
    "start_time": "2023-02-24T15:30:12.637Z"
   },
   {
    "duration": 16,
    "start_time": "2023-02-24T15:30:12.688Z"
   },
   {
    "duration": 13,
    "start_time": "2023-02-24T15:30:12.708Z"
   },
   {
    "duration": 108,
    "start_time": "2023-02-24T15:30:12.724Z"
   },
   {
    "duration": 34,
    "start_time": "2023-02-24T15:30:12.834Z"
   },
   {
    "duration": 28,
    "start_time": "2023-02-24T15:30:12.870Z"
   },
   {
    "duration": 19,
    "start_time": "2023-02-24T15:30:12.900Z"
   },
   {
    "duration": 30,
    "start_time": "2023-02-24T15:30:12.921Z"
   },
   {
    "duration": 11,
    "start_time": "2023-02-24T15:30:12.957Z"
   },
   {
    "duration": 121,
    "start_time": "2023-02-24T15:30:12.970Z"
   },
   {
    "duration": 435,
    "start_time": "2023-02-24T15:30:13.093Z"
   },
   {
    "duration": 19,
    "start_time": "2023-02-24T15:30:13.530Z"
   },
   {
    "duration": 18,
    "start_time": "2023-02-24T15:30:13.555Z"
   },
   {
    "duration": 17,
    "start_time": "2023-02-24T15:30:13.575Z"
   },
   {
    "duration": 12,
    "start_time": "2023-02-24T15:30:13.594Z"
   },
   {
    "duration": 44,
    "start_time": "2023-02-24T15:30:13.607Z"
   },
   {
    "duration": 144,
    "start_time": "2023-02-24T15:30:13.655Z"
   },
   {
    "duration": 213,
    "start_time": "2023-02-24T15:30:13.801Z"
   },
   {
    "duration": 5,
    "start_time": "2023-02-24T15:30:14.016Z"
   },
   {
    "duration": 26,
    "start_time": "2023-02-24T15:30:14.023Z"
   },
   {
    "duration": 43,
    "start_time": "2023-02-24T15:30:14.051Z"
   },
   {
    "duration": 8,
    "start_time": "2023-02-24T15:30:14.096Z"
   },
   {
    "duration": 151,
    "start_time": "2023-02-24T15:30:14.106Z"
   },
   {
    "duration": 143,
    "start_time": "2023-02-24T15:30:14.260Z"
   },
   {
    "duration": 221,
    "start_time": "2023-02-24T15:30:14.405Z"
   },
   {
    "duration": 31,
    "start_time": "2023-02-24T15:30:14.628Z"
   },
   {
    "duration": 8,
    "start_time": "2023-02-24T15:30:14.661Z"
   },
   {
    "duration": 159,
    "start_time": "2023-02-24T15:30:14.671Z"
   },
   {
    "duration": 212,
    "start_time": "2023-02-24T15:30:14.832Z"
   },
   {
    "duration": 8,
    "start_time": "2023-02-24T15:30:15.045Z"
   },
   {
    "duration": 25,
    "start_time": "2023-02-24T15:30:15.055Z"
   },
   {
    "duration": 34,
    "start_time": "2023-02-24T15:30:15.082Z"
   },
   {
    "duration": 131,
    "start_time": "2023-02-24T15:30:15.118Z"
   },
   {
    "duration": 29,
    "start_time": "2023-02-24T15:30:15.256Z"
   },
   {
    "duration": 16,
    "start_time": "2023-02-24T15:30:15.287Z"
   },
   {
    "duration": 6,
    "start_time": "2023-02-24T15:30:15.304Z"
   },
   {
    "duration": 97,
    "start_time": "2023-02-24T15:30:15.312Z"
   },
   {
    "duration": 27,
    "start_time": "2023-02-24T15:30:15.411Z"
   },
   {
    "duration": 32,
    "start_time": "2023-02-24T15:30:15.441Z"
   },
   {
    "duration": 53,
    "start_time": "2023-02-25T11:51:27.749Z"
   },
   {
    "duration": 1313,
    "start_time": "2023-02-25T11:51:34.980Z"
   },
   {
    "duration": 98,
    "start_time": "2023-02-25T11:51:36.295Z"
   },
   {
    "duration": 18,
    "start_time": "2023-02-25T11:51:36.395Z"
   },
   {
    "duration": 25,
    "start_time": "2023-02-25T11:51:36.416Z"
   },
   {
    "duration": 12,
    "start_time": "2023-02-25T11:51:36.444Z"
   },
   {
    "duration": 16,
    "start_time": "2023-02-25T11:51:36.458Z"
   },
   {
    "duration": 28,
    "start_time": "2023-02-25T11:51:36.477Z"
   },
   {
    "duration": 54,
    "start_time": "2023-02-25T11:51:36.507Z"
   },
   {
    "duration": 26,
    "start_time": "2023-02-25T11:51:36.563Z"
   },
   {
    "duration": 48,
    "start_time": "2023-02-25T11:51:36.592Z"
   },
   {
    "duration": 29,
    "start_time": "2023-02-25T11:51:36.642Z"
   },
   {
    "duration": 72,
    "start_time": "2023-02-25T11:51:36.673Z"
   },
   {
    "duration": 16,
    "start_time": "2023-02-25T11:51:36.747Z"
   },
   {
    "duration": 43,
    "start_time": "2023-02-25T11:51:36.765Z"
   },
   {
    "duration": 59,
    "start_time": "2023-02-25T11:51:36.811Z"
   },
   {
    "duration": 84,
    "start_time": "2023-02-25T11:51:36.872Z"
   },
   {
    "duration": 12,
    "start_time": "2023-02-25T11:51:36.958Z"
   },
   {
    "duration": 11,
    "start_time": "2023-02-25T11:51:36.972Z"
   },
   {
    "duration": 9,
    "start_time": "2023-02-25T11:51:36.985Z"
   },
   {
    "duration": 45,
    "start_time": "2023-02-25T11:51:36.996Z"
   },
   {
    "duration": 102,
    "start_time": "2023-02-25T11:51:37.044Z"
   },
   {
    "duration": 11,
    "start_time": "2023-02-25T11:51:37.148Z"
   },
   {
    "duration": 179,
    "start_time": "2023-02-25T11:51:37.161Z"
   },
   {
    "duration": 6,
    "start_time": "2023-02-25T11:51:37.342Z"
   },
   {
    "duration": 32,
    "start_time": "2023-02-25T11:51:37.349Z"
   },
   {
    "duration": 368,
    "start_time": "2023-02-25T11:51:37.384Z"
   },
   {
    "duration": 3,
    "start_time": "2023-02-25T11:51:37.754Z"
   },
   {
    "duration": 6,
    "start_time": "2023-02-25T11:51:37.762Z"
   },
   {
    "duration": 7,
    "start_time": "2023-02-25T11:51:37.770Z"
   },
   {
    "duration": 14,
    "start_time": "2023-02-25T11:51:37.779Z"
   },
   {
    "duration": 155,
    "start_time": "2023-02-25T11:51:37.795Z"
   },
   {
    "duration": 145,
    "start_time": "2023-02-25T11:51:37.952Z"
   },
   {
    "duration": 12,
    "start_time": "2023-02-25T11:51:38.099Z"
   },
   {
    "duration": 185,
    "start_time": "2023-02-25T11:51:38.114Z"
   },
   {
    "duration": 13,
    "start_time": "2023-02-25T11:51:38.301Z"
   },
   {
    "duration": 36,
    "start_time": "2023-02-25T11:51:38.316Z"
   },
   {
    "duration": 19,
    "start_time": "2023-02-25T11:51:38.353Z"
   },
   {
    "duration": 15,
    "start_time": "2023-02-25T11:51:38.374Z"
   },
   {
    "duration": 8,
    "start_time": "2023-02-25T11:51:38.391Z"
   },
   {
    "duration": 160,
    "start_time": "2023-02-25T11:51:38.401Z"
   },
   {
    "duration": 138,
    "start_time": "2023-02-25T11:51:38.562Z"
   },
   {
    "duration": 248,
    "start_time": "2023-02-25T11:51:38.702Z"
   },
   {
    "duration": 10,
    "start_time": "2023-02-25T11:51:38.953Z"
   },
   {
    "duration": 16,
    "start_time": "2023-02-25T11:51:38.965Z"
   },
   {
    "duration": 28,
    "start_time": "2023-02-25T11:51:38.984Z"
   },
   {
    "duration": 33,
    "start_time": "2023-02-25T11:51:39.014Z"
   },
   {
    "duration": 44,
    "start_time": "2023-02-25T11:51:39.049Z"
   },
   {
    "duration": 116,
    "start_time": "2023-02-25T11:51:39.095Z"
   },
   {
    "duration": 9,
    "start_time": "2023-02-25T11:51:39.213Z"
   },
   {
    "duration": 24,
    "start_time": "2023-02-25T11:51:39.224Z"
   },
   {
    "duration": 24,
    "start_time": "2023-02-25T11:51:39.249Z"
   },
   {
    "duration": 48,
    "start_time": "2023-02-25T11:51:39.275Z"
   },
   {
    "duration": 26,
    "start_time": "2023-02-25T11:51:39.325Z"
   },
   {
    "duration": 16,
    "start_time": "2023-02-25T11:51:39.353Z"
   },
   {
    "duration": 10,
    "start_time": "2023-02-25T11:51:39.371Z"
   },
   {
    "duration": 141,
    "start_time": "2023-02-25T11:51:39.383Z"
   },
   {
    "duration": 490,
    "start_time": "2023-02-25T11:51:39.525Z"
   },
   {
    "duration": 8,
    "start_time": "2023-02-25T11:51:40.017Z"
   },
   {
    "duration": 23,
    "start_time": "2023-02-25T11:51:40.027Z"
   },
   {
    "duration": 15,
    "start_time": "2023-02-25T11:51:40.052Z"
   },
   {
    "duration": 12,
    "start_time": "2023-02-25T11:51:40.069Z"
   },
   {
    "duration": 13,
    "start_time": "2023-02-25T11:51:40.083Z"
   },
   {
    "duration": 185,
    "start_time": "2023-02-25T11:51:40.098Z"
   },
   {
    "duration": 232,
    "start_time": "2023-02-25T11:51:40.285Z"
   },
   {
    "duration": 6,
    "start_time": "2023-02-25T11:51:40.519Z"
   },
   {
    "duration": 25,
    "start_time": "2023-02-25T11:51:40.526Z"
   },
   {
    "duration": 28,
    "start_time": "2023-02-25T11:51:40.552Z"
   },
   {
    "duration": 11,
    "start_time": "2023-02-25T11:51:40.581Z"
   },
   {
    "duration": 163,
    "start_time": "2023-02-25T11:51:40.594Z"
   },
   {
    "duration": 147,
    "start_time": "2023-02-25T11:51:40.759Z"
   },
   {
    "duration": 213,
    "start_time": "2023-02-25T11:51:40.908Z"
   },
   {
    "duration": 36,
    "start_time": "2023-02-25T11:51:41.123Z"
   },
   {
    "duration": 9,
    "start_time": "2023-02-25T11:51:41.161Z"
   },
   {
    "duration": 183,
    "start_time": "2023-02-25T11:51:41.172Z"
   },
   {
    "duration": 201,
    "start_time": "2023-02-25T11:51:41.357Z"
   },
   {
    "duration": 5,
    "start_time": "2023-02-25T11:51:41.560Z"
   },
   {
    "duration": 25,
    "start_time": "2023-02-25T11:51:41.568Z"
   },
   {
    "duration": 123,
    "start_time": "2023-02-25T11:51:41.594Z"
   },
   {
    "duration": 27,
    "start_time": "2023-02-25T11:51:41.718Z"
   },
   {
    "duration": 21,
    "start_time": "2023-02-25T11:51:41.747Z"
   },
   {
    "duration": 15,
    "start_time": "2023-02-25T11:51:41.770Z"
   },
   {
    "duration": 5,
    "start_time": "2023-02-25T11:51:41.790Z"
   },
   {
    "duration": 87,
    "start_time": "2023-02-25T11:51:41.797Z"
   },
   {
    "duration": 32,
    "start_time": "2023-02-25T11:51:41.886Z"
   },
   {
    "duration": 57,
    "start_time": "2023-02-25T11:51:41.921Z"
   },
   {
    "duration": 12,
    "start_time": "2023-02-25T11:52:23.563Z"
   },
   {
    "duration": 16,
    "start_time": "2023-02-25T11:55:35.160Z"
   },
   {
    "duration": 26,
    "start_time": "2023-02-25T11:58:16.741Z"
   },
   {
    "duration": 13,
    "start_time": "2023-02-25T12:00:04.763Z"
   },
   {
    "duration": 8,
    "start_time": "2023-02-25T12:01:08.758Z"
   },
   {
    "duration": 24,
    "start_time": "2023-02-25T12:01:25.783Z"
   },
   {
    "duration": 11,
    "start_time": "2023-02-25T12:01:42.465Z"
   },
   {
    "duration": 143,
    "start_time": "2023-02-25T12:01:54.808Z"
   },
   {
    "duration": 32,
    "start_time": "2023-02-25T12:02:05.303Z"
   },
   {
    "duration": 22,
    "start_time": "2023-02-25T12:02:18.052Z"
   },
   {
    "duration": 13,
    "start_time": "2023-02-25T12:02:26.299Z"
   },
   {
    "duration": 21,
    "start_time": "2023-02-25T12:02:30.453Z"
   },
   {
    "duration": 7,
    "start_time": "2023-02-25T12:02:54.381Z"
   },
   {
    "duration": 8,
    "start_time": "2023-02-25T12:03:02.571Z"
   },
   {
    "duration": 1322,
    "start_time": "2023-02-25T14:59:55.985Z"
   },
   {
    "duration": 184,
    "start_time": "2023-02-25T14:59:57.308Z"
   },
   {
    "duration": 11,
    "start_time": "2023-02-25T14:59:57.494Z"
   },
   {
    "duration": 16,
    "start_time": "2023-02-25T14:59:57.507Z"
   },
   {
    "duration": 15,
    "start_time": "2023-02-25T14:59:57.524Z"
   },
   {
    "duration": 18,
    "start_time": "2023-02-25T14:59:57.540Z"
   },
   {
    "duration": 56,
    "start_time": "2023-02-25T14:59:57.560Z"
   },
   {
    "duration": 48,
    "start_time": "2023-02-25T14:59:57.617Z"
   },
   {
    "duration": 83,
    "start_time": "2023-02-25T14:59:57.666Z"
   },
   {
    "duration": 39,
    "start_time": "2023-02-25T14:59:57.752Z"
   },
   {
    "duration": 21,
    "start_time": "2023-02-25T14:59:57.792Z"
   },
   {
    "duration": 73,
    "start_time": "2023-02-25T14:59:57.814Z"
   },
   {
    "duration": 13,
    "start_time": "2023-02-25T14:59:57.888Z"
   },
   {
    "duration": 31,
    "start_time": "2023-02-25T14:59:57.902Z"
   },
   {
    "duration": 34,
    "start_time": "2023-02-25T14:59:57.934Z"
   },
   {
    "duration": 76,
    "start_time": "2023-02-25T14:59:57.970Z"
   },
   {
    "duration": 9,
    "start_time": "2023-02-25T14:59:58.047Z"
   },
   {
    "duration": 22,
    "start_time": "2023-02-25T14:59:58.058Z"
   },
   {
    "duration": 10,
    "start_time": "2023-02-25T14:59:58.085Z"
   },
   {
    "duration": 36,
    "start_time": "2023-02-25T14:59:58.097Z"
   },
   {
    "duration": 56,
    "start_time": "2023-02-25T14:59:58.134Z"
   },
   {
    "duration": 9,
    "start_time": "2023-02-25T14:59:58.192Z"
   },
   {
    "duration": 134,
    "start_time": "2023-02-25T14:59:58.202Z"
   },
   {
    "duration": 4,
    "start_time": "2023-02-25T14:59:58.338Z"
   },
   {
    "duration": 42,
    "start_time": "2023-02-25T14:59:58.344Z"
   },
   {
    "duration": 279,
    "start_time": "2023-02-25T14:59:58.388Z"
   },
   {
    "duration": 2,
    "start_time": "2023-02-25T14:59:58.668Z"
   },
   {
    "duration": 14,
    "start_time": "2023-02-25T14:59:58.674Z"
   },
   {
    "duration": 13,
    "start_time": "2023-02-25T14:59:58.689Z"
   },
   {
    "duration": 15,
    "start_time": "2023-02-25T14:59:58.704Z"
   },
   {
    "duration": 95,
    "start_time": "2023-02-25T14:59:58.721Z"
   },
   {
    "duration": 120,
    "start_time": "2023-02-25T14:59:58.817Z"
   },
   {
    "duration": 12,
    "start_time": "2023-02-25T14:59:58.939Z"
   },
   {
    "duration": 162,
    "start_time": "2023-02-25T14:59:58.953Z"
   },
   {
    "duration": 12,
    "start_time": "2023-02-25T14:59:59.116Z"
   },
   {
    "duration": 26,
    "start_time": "2023-02-25T14:59:59.129Z"
   },
   {
    "duration": 31,
    "start_time": "2023-02-25T14:59:59.157Z"
   },
   {
    "duration": 15,
    "start_time": "2023-02-25T14:59:59.190Z"
   },
   {
    "duration": 9,
    "start_time": "2023-02-25T14:59:59.206Z"
   },
   {
    "duration": 126,
    "start_time": "2023-02-25T14:59:59.216Z"
   },
   {
    "duration": 109,
    "start_time": "2023-02-25T14:59:59.344Z"
   },
   {
    "duration": 217,
    "start_time": "2023-02-25T14:59:59.454Z"
   },
   {
    "duration": 13,
    "start_time": "2023-02-25T14:59:59.673Z"
   },
   {
    "duration": 17,
    "start_time": "2023-02-25T14:59:59.688Z"
   },
   {
    "duration": 21,
    "start_time": "2023-02-25T14:59:59.706Z"
   },
   {
    "duration": 16,
    "start_time": "2023-02-25T14:59:59.728Z"
   },
   {
    "duration": 78,
    "start_time": "2023-02-25T14:59:59.746Z"
   },
   {
    "duration": 7,
    "start_time": "2023-02-25T14:59:59.825Z"
   },
   {
    "duration": 13,
    "start_time": "2023-02-25T14:59:59.833Z"
   },
   {
    "duration": 28,
    "start_time": "2023-02-25T14:59:59.847Z"
   },
   {
    "duration": 14,
    "start_time": "2023-02-25T14:59:59.876Z"
   },
   {
    "duration": 24,
    "start_time": "2023-02-25T14:59:59.891Z"
   },
   {
    "duration": 38,
    "start_time": "2023-02-25T14:59:59.916Z"
   },
   {
    "duration": 17,
    "start_time": "2023-02-25T14:59:59.956Z"
   },
   {
    "duration": 12,
    "start_time": "2023-02-25T14:59:59.974Z"
   },
   {
    "duration": 12,
    "start_time": "2023-02-25T14:59:59.987Z"
   },
   {
    "duration": 120,
    "start_time": "2023-02-25T15:00:00.001Z"
   },
   {
    "duration": 411,
    "start_time": "2023-02-25T15:00:00.123Z"
   },
   {
    "duration": 7,
    "start_time": "2023-02-25T15:00:00.536Z"
   },
   {
    "duration": 46,
    "start_time": "2023-02-25T15:00:00.544Z"
   },
   {
    "duration": 33,
    "start_time": "2023-02-25T15:00:00.592Z"
   },
   {
    "duration": 32,
    "start_time": "2023-02-25T15:00:00.627Z"
   },
   {
    "duration": 53,
    "start_time": "2023-02-25T15:00:00.661Z"
   },
   {
    "duration": 157,
    "start_time": "2023-02-25T15:00:00.716Z"
   },
   {
    "duration": 213,
    "start_time": "2023-02-25T15:00:00.874Z"
   },
   {
    "duration": 5,
    "start_time": "2023-02-25T15:00:01.089Z"
   },
   {
    "duration": 46,
    "start_time": "2023-02-25T15:00:01.095Z"
   },
   {
    "duration": 81,
    "start_time": "2023-02-25T15:00:01.143Z"
   },
   {
    "duration": 76,
    "start_time": "2023-02-25T15:00:01.226Z"
   },
   {
    "duration": 142,
    "start_time": "2023-02-25T15:00:01.304Z"
   },
   {
    "duration": 122,
    "start_time": "2023-02-25T15:00:01.447Z"
   },
   {
    "duration": 173,
    "start_time": "2023-02-25T15:00:01.571Z"
   },
   {
    "duration": 46,
    "start_time": "2023-02-25T15:00:01.745Z"
   },
   {
    "duration": 237,
    "start_time": "2023-02-25T15:00:01.793Z"
   },
   {
    "duration": 294,
    "start_time": "2023-02-25T15:00:02.031Z"
   },
   {
    "duration": 150,
    "start_time": "2023-02-25T15:00:02.327Z"
   },
   {
    "duration": 4,
    "start_time": "2023-02-25T15:00:02.485Z"
   },
   {
    "duration": 39,
    "start_time": "2023-02-25T15:00:02.491Z"
   },
   {
    "duration": 28,
    "start_time": "2023-02-25T15:00:02.531Z"
   },
   {
    "duration": 118,
    "start_time": "2023-02-25T15:00:02.560Z"
   },
   {
    "duration": 51,
    "start_time": "2023-02-25T15:00:02.680Z"
   },
   {
    "duration": 70,
    "start_time": "2023-02-25T15:00:02.736Z"
   },
   {
    "duration": 18,
    "start_time": "2023-02-25T15:00:02.808Z"
   },
   {
    "duration": 33,
    "start_time": "2023-02-25T15:00:02.828Z"
   },
   {
    "duration": 156,
    "start_time": "2023-02-25T15:00:02.863Z"
   },
   {
    "duration": 23,
    "start_time": "2023-02-25T15:00:03.021Z"
   },
   {
    "duration": 46,
    "start_time": "2023-02-25T15:00:03.045Z"
   },
   {
    "duration": 12,
    "start_time": "2023-02-25T15:00:27.072Z"
   },
   {
    "duration": 11,
    "start_time": "2023-02-25T15:00:46.885Z"
   },
   {
    "duration": 10,
    "start_time": "2023-02-25T15:02:16.806Z"
   },
   {
    "duration": 12,
    "start_time": "2023-02-25T15:02:40.980Z"
   },
   {
    "duration": 10,
    "start_time": "2023-02-25T15:03:48.931Z"
   },
   {
    "duration": 9,
    "start_time": "2023-02-25T15:04:00.894Z"
   },
   {
    "duration": 120,
    "start_time": "2023-02-25T15:04:16.283Z"
   },
   {
    "duration": 112,
    "start_time": "2023-02-25T15:04:29.276Z"
   },
   {
    "duration": 194,
    "start_time": "2023-02-25T15:05:52.381Z"
   },
   {
    "duration": 210,
    "start_time": "2023-02-25T15:06:36.646Z"
   },
   {
    "duration": 117,
    "start_time": "2023-02-25T15:07:59.876Z"
   },
   {
    "duration": 171,
    "start_time": "2023-02-25T15:08:15.803Z"
   },
   {
    "duration": 17,
    "start_time": "2023-02-25T15:08:58.032Z"
   },
   {
    "duration": 1305,
    "start_time": "2023-02-26T05:40:54.195Z"
   },
   {
    "duration": 375,
    "start_time": "2023-02-26T05:40:55.502Z"
   },
   {
    "duration": 12,
    "start_time": "2023-02-26T05:40:55.878Z"
   },
   {
    "duration": 15,
    "start_time": "2023-02-26T05:40:55.893Z"
   },
   {
    "duration": 8,
    "start_time": "2023-02-26T05:40:55.910Z"
   },
   {
    "duration": 15,
    "start_time": "2023-02-26T05:40:55.920Z"
   },
   {
    "duration": 26,
    "start_time": "2023-02-26T05:40:55.937Z"
   },
   {
    "duration": 42,
    "start_time": "2023-02-26T05:40:55.965Z"
   },
   {
    "duration": 19,
    "start_time": "2023-02-26T05:40:56.010Z"
   },
   {
    "duration": 32,
    "start_time": "2023-02-26T05:40:56.033Z"
   },
   {
    "duration": 41,
    "start_time": "2023-02-26T05:40:56.067Z"
   },
   {
    "duration": 51,
    "start_time": "2023-02-26T05:40:56.110Z"
   },
   {
    "duration": 31,
    "start_time": "2023-02-26T05:40:56.162Z"
   },
   {
    "duration": 27,
    "start_time": "2023-02-26T05:40:56.194Z"
   },
   {
    "duration": 32,
    "start_time": "2023-02-26T05:40:56.223Z"
   },
   {
    "duration": 89,
    "start_time": "2023-02-26T05:40:56.257Z"
   },
   {
    "duration": 10,
    "start_time": "2023-02-26T05:40:56.348Z"
   },
   {
    "duration": 8,
    "start_time": "2023-02-26T05:40:56.360Z"
   },
   {
    "duration": 26,
    "start_time": "2023-02-26T05:40:56.369Z"
   },
   {
    "duration": 15,
    "start_time": "2023-02-26T05:40:56.396Z"
   },
   {
    "duration": 81,
    "start_time": "2023-02-26T05:40:56.412Z"
   },
   {
    "duration": 10,
    "start_time": "2023-02-26T05:40:56.496Z"
   },
   {
    "duration": 146,
    "start_time": "2023-02-26T05:40:56.508Z"
   },
   {
    "duration": 5,
    "start_time": "2023-02-26T05:40:56.656Z"
   },
   {
    "duration": 41,
    "start_time": "2023-02-26T05:40:56.663Z"
   },
   {
    "duration": 283,
    "start_time": "2023-02-26T05:40:56.706Z"
   },
   {
    "duration": 2,
    "start_time": "2023-02-26T05:40:56.992Z"
   },
   {
    "duration": 7,
    "start_time": "2023-02-26T05:40:56.998Z"
   },
   {
    "duration": 5,
    "start_time": "2023-02-26T05:40:57.006Z"
   },
   {
    "duration": 10,
    "start_time": "2023-02-26T05:40:57.013Z"
   },
   {
    "duration": 125,
    "start_time": "2023-02-26T05:40:57.024Z"
   },
   {
    "duration": 123,
    "start_time": "2023-02-26T05:40:57.150Z"
   },
   {
    "duration": 20,
    "start_time": "2023-02-26T05:40:57.275Z"
   },
   {
    "duration": 151,
    "start_time": "2023-02-26T05:40:57.296Z"
   },
   {
    "duration": 13,
    "start_time": "2023-02-26T05:40:57.448Z"
   },
   {
    "duration": 30,
    "start_time": "2023-02-26T05:40:57.463Z"
   },
   {
    "duration": 13,
    "start_time": "2023-02-26T05:40:57.495Z"
   },
   {
    "duration": 15,
    "start_time": "2023-02-26T05:40:57.510Z"
   },
   {
    "duration": 12,
    "start_time": "2023-02-26T05:40:57.527Z"
   },
   {
    "duration": 7,
    "start_time": "2023-02-26T05:40:57.541Z"
   },
   {
    "duration": 132,
    "start_time": "2023-02-26T05:40:57.549Z"
   },
   {
    "duration": 119,
    "start_time": "2023-02-26T05:40:57.682Z"
   },
   {
    "duration": 270,
    "start_time": "2023-02-26T05:40:57.803Z"
   },
   {
    "duration": 7,
    "start_time": "2023-02-26T05:40:58.075Z"
   },
   {
    "duration": 10,
    "start_time": "2023-02-26T05:40:58.091Z"
   },
   {
    "duration": 15,
    "start_time": "2023-02-26T05:40:58.102Z"
   },
   {
    "duration": 16,
    "start_time": "2023-02-26T05:40:58.118Z"
   },
   {
    "duration": 18,
    "start_time": "2023-02-26T05:40:58.136Z"
   },
   {
    "duration": 13,
    "start_time": "2023-02-26T05:40:58.155Z"
   },
   {
    "duration": 28,
    "start_time": "2023-02-26T05:40:58.170Z"
   },
   {
    "duration": 12,
    "start_time": "2023-02-26T05:40:58.200Z"
   },
   {
    "duration": 11,
    "start_time": "2023-02-26T05:40:58.213Z"
   },
   {
    "duration": 12,
    "start_time": "2023-02-26T05:40:58.225Z"
   },
   {
    "duration": 24,
    "start_time": "2023-02-26T05:40:58.238Z"
   },
   {
    "duration": 42,
    "start_time": "2023-02-26T05:40:58.264Z"
   },
   {
    "duration": 12,
    "start_time": "2023-02-26T05:40:58.307Z"
   },
   {
    "duration": 8,
    "start_time": "2023-02-26T05:40:58.321Z"
   },
   {
    "duration": 121,
    "start_time": "2023-02-26T05:40:58.331Z"
   },
   {
    "duration": 413,
    "start_time": "2023-02-26T05:40:58.454Z"
   },
   {
    "duration": 7,
    "start_time": "2023-02-26T05:40:58.869Z"
   },
   {
    "duration": 20,
    "start_time": "2023-02-26T05:40:58.878Z"
   },
   {
    "duration": 14,
    "start_time": "2023-02-26T05:40:58.900Z"
   },
   {
    "duration": 10,
    "start_time": "2023-02-26T05:40:58.915Z"
   },
   {
    "duration": 9,
    "start_time": "2023-02-26T05:40:58.927Z"
   },
   {
    "duration": 11,
    "start_time": "2023-02-26T05:40:58.937Z"
   },
   {
    "duration": 225,
    "start_time": "2023-02-26T05:40:58.950Z"
   },
   {
    "duration": 99,
    "start_time": "2023-02-26T05:40:59.176Z"
   },
   {
    "duration": 0,
    "start_time": "2023-02-26T05:40:59.276Z"
   },
   {
    "duration": 0,
    "start_time": "2023-02-26T05:40:59.278Z"
   },
   {
    "duration": 0,
    "start_time": "2023-02-26T05:40:59.279Z"
   },
   {
    "duration": 0,
    "start_time": "2023-02-26T05:40:59.292Z"
   },
   {
    "duration": 0,
    "start_time": "2023-02-26T05:40:59.292Z"
   },
   {
    "duration": 0,
    "start_time": "2023-02-26T05:40:59.294Z"
   },
   {
    "duration": 0,
    "start_time": "2023-02-26T05:40:59.295Z"
   },
   {
    "duration": 0,
    "start_time": "2023-02-26T05:40:59.296Z"
   },
   {
    "duration": 0,
    "start_time": "2023-02-26T05:40:59.297Z"
   },
   {
    "duration": 0,
    "start_time": "2023-02-26T05:40:59.297Z"
   },
   {
    "duration": 0,
    "start_time": "2023-02-26T05:40:59.298Z"
   },
   {
    "duration": 0,
    "start_time": "2023-02-26T05:40:59.299Z"
   },
   {
    "duration": 0,
    "start_time": "2023-02-26T05:40:59.301Z"
   },
   {
    "duration": 0,
    "start_time": "2023-02-26T05:40:59.302Z"
   },
   {
    "duration": 0,
    "start_time": "2023-02-26T05:40:59.303Z"
   },
   {
    "duration": 0,
    "start_time": "2023-02-26T05:40:59.304Z"
   },
   {
    "duration": 0,
    "start_time": "2023-02-26T05:40:59.305Z"
   },
   {
    "duration": 0,
    "start_time": "2023-02-26T05:40:59.306Z"
   },
   {
    "duration": 0,
    "start_time": "2023-02-26T05:40:59.307Z"
   },
   {
    "duration": 0,
    "start_time": "2023-02-26T05:40:59.308Z"
   },
   {
    "duration": 0,
    "start_time": "2023-02-26T05:40:59.309Z"
   },
   {
    "duration": 0,
    "start_time": "2023-02-26T05:40:59.310Z"
   },
   {
    "duration": 5,
    "start_time": "2023-02-26T05:48:44.879Z"
   },
   {
    "duration": 5,
    "start_time": "2023-02-26T05:53:28.686Z"
   },
   {
    "duration": 5,
    "start_time": "2023-02-26T05:53:36.906Z"
   },
   {
    "duration": 5,
    "start_time": "2023-02-26T06:08:35.302Z"
   },
   {
    "duration": 13,
    "start_time": "2023-02-26T06:09:08.969Z"
   },
   {
    "duration": 15,
    "start_time": "2023-02-26T06:11:40.623Z"
   },
   {
    "duration": 5,
    "start_time": "2023-02-26T06:11:51.470Z"
   },
   {
    "duration": 12,
    "start_time": "2023-02-26T06:12:05.156Z"
   },
   {
    "duration": 11,
    "start_time": "2023-02-26T06:18:32.866Z"
   },
   {
    "duration": 26,
    "start_time": "2023-02-26T06:18:41.110Z"
   },
   {
    "duration": 8,
    "start_time": "2023-02-26T06:18:42.420Z"
   },
   {
    "duration": 111,
    "start_time": "2023-02-26T06:18:44.363Z"
   },
   {
    "duration": 106,
    "start_time": "2023-02-26T06:18:49.576Z"
   },
   {
    "duration": 172,
    "start_time": "2023-02-26T06:18:51.315Z"
   },
   {
    "duration": 18,
    "start_time": "2023-02-26T06:18:54.364Z"
   },
   {
    "duration": 8,
    "start_time": "2023-02-26T06:18:58.370Z"
   },
   {
    "duration": 123,
    "start_time": "2023-02-26T06:19:00.255Z"
   },
   {
    "duration": 5,
    "start_time": "2023-02-26T06:19:08.022Z"
   },
   {
    "duration": 12,
    "start_time": "2023-02-26T06:19:08.844Z"
   },
   {
    "duration": 10,
    "start_time": "2023-02-26T06:19:25.732Z"
   },
   {
    "duration": 18,
    "start_time": "2023-02-26T06:20:40.200Z"
   },
   {
    "duration": 7,
    "start_time": "2023-02-26T06:21:15.228Z"
   },
   {
    "duration": 5,
    "start_time": "2023-02-26T06:21:21.004Z"
   },
   {
    "duration": 20,
    "start_time": "2023-02-26T06:21:36.997Z"
   },
   {
    "duration": 10,
    "start_time": "2023-02-26T06:22:02.523Z"
   },
   {
    "duration": 10,
    "start_time": "2023-02-26T06:24:03.069Z"
   },
   {
    "duration": 133,
    "start_time": "2023-02-26T06:25:15.874Z"
   },
   {
    "duration": 207,
    "start_time": "2023-02-26T06:25:29.692Z"
   },
   {
    "duration": 105,
    "start_time": "2023-02-26T06:25:33.437Z"
   },
   {
    "duration": 101,
    "start_time": "2023-02-26T06:26:56.868Z"
   },
   {
    "duration": 102,
    "start_time": "2023-02-26T06:27:24.371Z"
   },
   {
    "duration": 151,
    "start_time": "2023-02-26T06:27:26.597Z"
   },
   {
    "duration": 5,
    "start_time": "2023-02-26T06:27:34.446Z"
   },
   {
    "duration": 11,
    "start_time": "2023-02-26T06:27:34.885Z"
   },
   {
    "duration": 116,
    "start_time": "2023-02-26T06:27:50.385Z"
   },
   {
    "duration": 166,
    "start_time": "2023-02-26T06:27:50.961Z"
   },
   {
    "duration": 1206,
    "start_time": "2023-02-26T06:28:04.090Z"
   },
   {
    "duration": 99,
    "start_time": "2023-02-26T06:28:05.299Z"
   },
   {
    "duration": 13,
    "start_time": "2023-02-26T06:28:05.400Z"
   },
   {
    "duration": 33,
    "start_time": "2023-02-26T06:28:05.415Z"
   },
   {
    "duration": 12,
    "start_time": "2023-02-26T06:28:05.451Z"
   },
   {
    "duration": 24,
    "start_time": "2023-02-26T06:28:05.464Z"
   },
   {
    "duration": 42,
    "start_time": "2023-02-26T06:28:05.490Z"
   },
   {
    "duration": 30,
    "start_time": "2023-02-26T06:28:05.534Z"
   },
   {
    "duration": 19,
    "start_time": "2023-02-26T06:28:05.566Z"
   },
   {
    "duration": 22,
    "start_time": "2023-02-26T06:28:05.586Z"
   },
   {
    "duration": 22,
    "start_time": "2023-02-26T06:28:05.609Z"
   },
   {
    "duration": 62,
    "start_time": "2023-02-26T06:28:05.633Z"
   },
   {
    "duration": 21,
    "start_time": "2023-02-26T06:28:05.696Z"
   },
   {
    "duration": 28,
    "start_time": "2023-02-26T06:28:05.721Z"
   },
   {
    "duration": 67,
    "start_time": "2023-02-26T06:28:05.751Z"
   },
   {
    "duration": 61,
    "start_time": "2023-02-26T06:28:05.820Z"
   },
   {
    "duration": 17,
    "start_time": "2023-02-26T06:28:05.883Z"
   },
   {
    "duration": 52,
    "start_time": "2023-02-26T06:28:05.903Z"
   },
   {
    "duration": 18,
    "start_time": "2023-02-26T06:28:05.957Z"
   },
   {
    "duration": 55,
    "start_time": "2023-02-26T06:28:05.977Z"
   },
   {
    "duration": 82,
    "start_time": "2023-02-26T06:28:06.034Z"
   },
   {
    "duration": 12,
    "start_time": "2023-02-26T06:28:06.118Z"
   },
   {
    "duration": 169,
    "start_time": "2023-02-26T06:28:06.131Z"
   },
   {
    "duration": 5,
    "start_time": "2023-02-26T06:28:06.302Z"
   },
   {
    "duration": 35,
    "start_time": "2023-02-26T06:28:06.308Z"
   },
   {
    "duration": 311,
    "start_time": "2023-02-26T06:28:06.346Z"
   },
   {
    "duration": 2,
    "start_time": "2023-02-26T06:28:06.659Z"
   },
   {
    "duration": 14,
    "start_time": "2023-02-26T06:28:06.663Z"
   },
   {
    "duration": 11,
    "start_time": "2023-02-26T06:28:06.678Z"
   },
   {
    "duration": 9,
    "start_time": "2023-02-26T06:28:06.692Z"
   },
   {
    "duration": 105,
    "start_time": "2023-02-26T06:28:06.703Z"
   },
   {
    "duration": 127,
    "start_time": "2023-02-26T06:28:06.810Z"
   },
   {
    "duration": 12,
    "start_time": "2023-02-26T06:28:06.939Z"
   },
   {
    "duration": 164,
    "start_time": "2023-02-26T06:28:06.952Z"
   },
   {
    "duration": 12,
    "start_time": "2023-02-26T06:28:07.119Z"
   },
   {
    "duration": 26,
    "start_time": "2023-02-26T06:28:07.133Z"
   },
   {
    "duration": 11,
    "start_time": "2023-02-26T06:28:07.161Z"
   },
   {
    "duration": 33,
    "start_time": "2023-02-26T06:28:07.173Z"
   },
   {
    "duration": 53,
    "start_time": "2023-02-26T06:28:07.208Z"
   },
   {
    "duration": 71,
    "start_time": "2023-02-26T06:28:07.263Z"
   },
   {
    "duration": 120,
    "start_time": "2023-02-26T06:28:07.338Z"
   },
   {
    "duration": 113,
    "start_time": "2023-02-26T06:28:07.460Z"
   },
   {
    "duration": 213,
    "start_time": "2023-02-26T06:28:07.575Z"
   },
   {
    "duration": 6,
    "start_time": "2023-02-26T06:28:07.791Z"
   },
   {
    "duration": 16,
    "start_time": "2023-02-26T06:28:07.799Z"
   },
   {
    "duration": 17,
    "start_time": "2023-02-26T06:28:07.816Z"
   },
   {
    "duration": 17,
    "start_time": "2023-02-26T06:28:07.835Z"
   },
   {
    "duration": 12,
    "start_time": "2023-02-26T06:28:07.853Z"
   },
   {
    "duration": 30,
    "start_time": "2023-02-26T06:28:07.866Z"
   },
   {
    "duration": 81,
    "start_time": "2023-02-26T06:28:07.898Z"
   },
   {
    "duration": 12,
    "start_time": "2023-02-26T06:28:07.992Z"
   },
   {
    "duration": 17,
    "start_time": "2023-02-26T06:28:08.006Z"
   },
   {
    "duration": 15,
    "start_time": "2023-02-26T06:28:08.024Z"
   },
   {
    "duration": 27,
    "start_time": "2023-02-26T06:28:08.040Z"
   },
   {
    "duration": 36,
    "start_time": "2023-02-26T06:28:08.068Z"
   },
   {
    "duration": 14,
    "start_time": "2023-02-26T06:28:08.106Z"
   },
   {
    "duration": 11,
    "start_time": "2023-02-26T06:28:08.121Z"
   },
   {
    "duration": 123,
    "start_time": "2023-02-26T06:28:08.133Z"
   },
   {
    "duration": 438,
    "start_time": "2023-02-26T06:28:08.258Z"
   },
   {
    "duration": 7,
    "start_time": "2023-02-26T06:28:08.698Z"
   },
   {
    "duration": 25,
    "start_time": "2023-02-26T06:28:08.706Z"
   },
   {
    "duration": 39,
    "start_time": "2023-02-26T06:28:08.733Z"
   },
   {
    "duration": 21,
    "start_time": "2023-02-26T06:28:08.773Z"
   },
   {
    "duration": 30,
    "start_time": "2023-02-26T06:28:08.796Z"
   },
   {
    "duration": 21,
    "start_time": "2023-02-26T06:28:08.828Z"
   },
   {
    "duration": 204,
    "start_time": "2023-02-26T06:28:08.851Z"
   },
   {
    "duration": 5,
    "start_time": "2023-02-26T06:28:09.057Z"
   },
   {
    "duration": 29,
    "start_time": "2023-02-26T06:28:09.064Z"
   },
   {
    "duration": 33,
    "start_time": "2023-02-26T06:28:09.094Z"
   },
   {
    "duration": 8,
    "start_time": "2023-02-26T06:28:09.129Z"
   },
   {
    "duration": 119,
    "start_time": "2023-02-26T06:28:09.139Z"
   },
   {
    "duration": 120,
    "start_time": "2023-02-26T06:28:09.260Z"
   },
   {
    "duration": 216,
    "start_time": "2023-02-26T06:28:09.392Z"
   },
   {
    "duration": 19,
    "start_time": "2023-02-26T06:28:09.610Z"
   },
   {
    "duration": 9,
    "start_time": "2023-02-26T06:28:09.630Z"
   },
   {
    "duration": 156,
    "start_time": "2023-02-26T06:28:09.641Z"
   },
   {
    "duration": 259,
    "start_time": "2023-02-26T06:28:09.799Z"
   },
   {
    "duration": 5,
    "start_time": "2023-02-26T06:28:10.060Z"
   },
   {
    "duration": 16,
    "start_time": "2023-02-26T06:28:10.066Z"
   },
   {
    "duration": 16,
    "start_time": "2023-02-26T06:28:10.084Z"
   },
   {
    "duration": 8,
    "start_time": "2023-02-26T06:28:10.102Z"
   },
   {
    "duration": 105,
    "start_time": "2023-02-26T06:28:10.112Z"
   },
   {
    "duration": 415,
    "start_time": "2023-02-26T06:28:10.219Z"
   },
   {
    "duration": 75,
    "start_time": "2023-02-26T06:28:10.635Z"
   },
   {
    "duration": 25,
    "start_time": "2023-02-26T06:28:10.712Z"
   },
   {
    "duration": 64,
    "start_time": "2023-02-26T06:28:10.739Z"
   },
   {
    "duration": 14,
    "start_time": "2023-02-26T06:28:10.804Z"
   },
   {
    "duration": 4,
    "start_time": "2023-02-26T06:28:10.820Z"
   },
   {
    "duration": 66,
    "start_time": "2023-02-26T06:28:10.826Z"
   },
   {
    "duration": 23,
    "start_time": "2023-02-26T06:28:10.893Z"
   },
   {
    "duration": 22,
    "start_time": "2023-02-26T06:28:10.918Z"
   },
   {
    "duration": 110,
    "start_time": "2023-02-26T06:34:57.358Z"
   },
   {
    "duration": 193,
    "start_time": "2023-02-26T06:35:03.102Z"
   },
   {
    "duration": 5,
    "start_time": "2023-02-26T06:39:08.071Z"
   },
   {
    "duration": 17,
    "start_time": "2023-02-26T06:39:28.652Z"
   },
   {
    "duration": 5,
    "start_time": "2023-02-26T06:39:58.851Z"
   },
   {
    "duration": 16,
    "start_time": "2023-02-26T06:39:59.551Z"
   },
   {
    "duration": 107,
    "start_time": "2023-02-26T06:40:17.106Z"
   },
   {
    "duration": 175,
    "start_time": "2023-02-26T06:40:23.967Z"
   },
   {
    "duration": 6,
    "start_time": "2023-02-26T06:40:26.460Z"
   },
   {
    "duration": 15,
    "start_time": "2023-02-26T06:40:27.216Z"
   },
   {
    "duration": 135,
    "start_time": "2023-02-26T06:40:45.160Z"
   },
   {
    "duration": 186,
    "start_time": "2023-02-26T06:40:45.716Z"
   },
   {
    "duration": 5,
    "start_time": "2023-02-26T06:40:47.235Z"
   },
   {
    "duration": 12,
    "start_time": "2023-02-26T06:40:47.968Z"
   },
   {
    "duration": 5,
    "start_time": "2023-02-26T06:41:27.245Z"
   },
   {
    "duration": 17,
    "start_time": "2023-02-26T06:41:27.955Z"
   },
   {
    "duration": 5,
    "start_time": "2023-02-26T06:44:52.147Z"
   },
   {
    "duration": 16,
    "start_time": "2023-02-26T06:44:52.697Z"
   },
   {
    "duration": 1217,
    "start_time": "2023-02-26T07:01:41.222Z"
   },
   {
    "duration": 95,
    "start_time": "2023-02-26T07:01:42.441Z"
   },
   {
    "duration": 11,
    "start_time": "2023-02-26T07:01:42.537Z"
   },
   {
    "duration": 13,
    "start_time": "2023-02-26T07:01:42.549Z"
   },
   {
    "duration": 7,
    "start_time": "2023-02-26T07:01:42.564Z"
   },
   {
    "duration": 32,
    "start_time": "2023-02-26T07:01:42.573Z"
   },
   {
    "duration": 30,
    "start_time": "2023-02-26T07:01:42.607Z"
   },
   {
    "duration": 20,
    "start_time": "2023-02-26T07:01:42.638Z"
   },
   {
    "duration": 17,
    "start_time": "2023-02-26T07:01:42.660Z"
   },
   {
    "duration": 34,
    "start_time": "2023-02-26T07:01:42.678Z"
   },
   {
    "duration": 22,
    "start_time": "2023-02-26T07:01:42.713Z"
   },
   {
    "duration": 70,
    "start_time": "2023-02-26T07:01:42.736Z"
   },
   {
    "duration": 14,
    "start_time": "2023-02-26T07:01:42.808Z"
   },
   {
    "duration": 26,
    "start_time": "2023-02-26T07:01:42.826Z"
   },
   {
    "duration": 57,
    "start_time": "2023-02-26T07:01:42.854Z"
   },
   {
    "duration": 65,
    "start_time": "2023-02-26T07:01:42.913Z"
   },
   {
    "duration": 10,
    "start_time": "2023-02-26T07:01:42.991Z"
   },
   {
    "duration": 13,
    "start_time": "2023-02-26T07:01:43.003Z"
   },
   {
    "duration": 30,
    "start_time": "2023-02-26T07:01:43.018Z"
   },
   {
    "duration": 22,
    "start_time": "2023-02-26T07:01:43.050Z"
   },
   {
    "duration": 52,
    "start_time": "2023-02-26T07:01:43.073Z"
   },
   {
    "duration": 11,
    "start_time": "2023-02-26T07:01:43.127Z"
   },
   {
    "duration": 177,
    "start_time": "2023-02-26T07:01:43.139Z"
   },
   {
    "duration": 5,
    "start_time": "2023-02-26T07:01:43.318Z"
   },
   {
    "duration": 35,
    "start_time": "2023-02-26T07:01:43.325Z"
   },
   {
    "duration": 308,
    "start_time": "2023-02-26T07:01:43.362Z"
   },
   {
    "duration": 2,
    "start_time": "2023-02-26T07:01:43.672Z"
   },
   {
    "duration": 21,
    "start_time": "2023-02-26T07:01:43.676Z"
   },
   {
    "duration": 8,
    "start_time": "2023-02-26T07:01:43.699Z"
   },
   {
    "duration": 11,
    "start_time": "2023-02-26T07:01:43.709Z"
   },
   {
    "duration": 119,
    "start_time": "2023-02-26T07:01:43.722Z"
   },
   {
    "duration": 125,
    "start_time": "2023-02-26T07:01:43.842Z"
   },
   {
    "duration": 24,
    "start_time": "2023-02-26T07:01:43.969Z"
   },
   {
    "duration": 170,
    "start_time": "2023-02-26T07:01:43.995Z"
   },
   {
    "duration": 13,
    "start_time": "2023-02-26T07:01:44.167Z"
   },
   {
    "duration": 17,
    "start_time": "2023-02-26T07:01:44.192Z"
   },
   {
    "duration": 12,
    "start_time": "2023-02-26T07:01:44.211Z"
   },
   {
    "duration": 30,
    "start_time": "2023-02-26T07:01:44.225Z"
   },
   {
    "duration": 41,
    "start_time": "2023-02-26T07:01:44.256Z"
   },
   {
    "duration": 8,
    "start_time": "2023-02-26T07:01:44.299Z"
   },
   {
    "duration": 139,
    "start_time": "2023-02-26T07:01:44.311Z"
   },
   {
    "duration": 123,
    "start_time": "2023-02-26T07:01:44.452Z"
   },
   {
    "duration": 228,
    "start_time": "2023-02-26T07:01:44.577Z"
   },
   {
    "duration": 7,
    "start_time": "2023-02-26T07:01:44.806Z"
   },
   {
    "duration": 18,
    "start_time": "2023-02-26T07:01:44.815Z"
   },
   {
    "duration": 18,
    "start_time": "2023-02-26T07:01:44.835Z"
   },
   {
    "duration": 18,
    "start_time": "2023-02-26T07:01:44.855Z"
   },
   {
    "duration": 14,
    "start_time": "2023-02-26T07:01:44.891Z"
   },
   {
    "duration": 10,
    "start_time": "2023-02-26T07:01:44.906Z"
   },
   {
    "duration": 108,
    "start_time": "2023-02-26T07:01:44.918Z"
   },
   {
    "duration": 32,
    "start_time": "2023-02-26T07:01:45.028Z"
   },
   {
    "duration": 27,
    "start_time": "2023-02-26T07:01:45.063Z"
   },
   {
    "duration": 19,
    "start_time": "2023-02-26T07:01:45.092Z"
   },
   {
    "duration": 33,
    "start_time": "2023-02-26T07:01:45.113Z"
   },
   {
    "duration": 21,
    "start_time": "2023-02-26T07:01:45.148Z"
   },
   {
    "duration": 31,
    "start_time": "2023-02-26T07:01:45.170Z"
   },
   {
    "duration": 9,
    "start_time": "2023-02-26T07:01:45.204Z"
   },
   {
    "duration": 143,
    "start_time": "2023-02-26T07:01:45.215Z"
   },
   {
    "duration": 460,
    "start_time": "2023-02-26T07:01:45.360Z"
   },
   {
    "duration": 8,
    "start_time": "2023-02-26T07:01:45.821Z"
   },
   {
    "duration": 22,
    "start_time": "2023-02-26T07:01:45.831Z"
   },
   {
    "duration": 19,
    "start_time": "2023-02-26T07:01:45.855Z"
   },
   {
    "duration": 23,
    "start_time": "2023-02-26T07:01:45.876Z"
   },
   {
    "duration": 18,
    "start_time": "2023-02-26T07:01:45.901Z"
   },
   {
    "duration": 45,
    "start_time": "2023-02-26T07:01:45.921Z"
   },
   {
    "duration": 253,
    "start_time": "2023-02-26T07:01:45.968Z"
   },
   {
    "duration": 7,
    "start_time": "2023-02-26T07:01:46.222Z"
   },
   {
    "duration": 26,
    "start_time": "2023-02-26T07:01:46.231Z"
   },
   {
    "duration": 47,
    "start_time": "2023-02-26T07:01:46.259Z"
   },
   {
    "duration": 9,
    "start_time": "2023-02-26T07:01:46.308Z"
   },
   {
    "duration": 147,
    "start_time": "2023-02-26T07:01:46.319Z"
   },
   {
    "duration": 136,
    "start_time": "2023-02-26T07:01:46.468Z"
   },
   {
    "duration": 176,
    "start_time": "2023-02-26T07:01:46.605Z"
   },
   {
    "duration": 21,
    "start_time": "2023-02-26T07:01:46.783Z"
   },
   {
    "duration": 8,
    "start_time": "2023-02-26T07:01:46.805Z"
   },
   {
    "duration": 134,
    "start_time": "2023-02-26T07:01:46.815Z"
   },
   {
    "duration": 181,
    "start_time": "2023-02-26T07:01:46.950Z"
   },
   {
    "duration": 6,
    "start_time": "2023-02-26T07:01:47.133Z"
   },
   {
    "duration": 64,
    "start_time": "2023-02-26T07:01:47.141Z"
   },
   {
    "duration": 56,
    "start_time": "2023-02-26T07:01:47.207Z"
   },
   {
    "duration": 21,
    "start_time": "2023-02-26T07:01:47.266Z"
   },
   {
    "duration": 124,
    "start_time": "2023-02-26T07:01:47.289Z"
   },
   {
    "duration": 291,
    "start_time": "2023-02-26T07:01:47.415Z"
   },
   {
    "duration": 5,
    "start_time": "2023-02-26T07:01:47.708Z"
   },
   {
    "duration": 18,
    "start_time": "2023-02-26T07:01:47.714Z"
   },
   {
    "duration": 23,
    "start_time": "2023-02-26T07:01:47.734Z"
   },
   {
    "duration": 36,
    "start_time": "2023-02-26T07:01:47.758Z"
   },
   {
    "duration": 31,
    "start_time": "2023-02-26T07:01:47.796Z"
   },
   {
    "duration": 14,
    "start_time": "2023-02-26T07:01:47.829Z"
   },
   {
    "duration": 5,
    "start_time": "2023-02-26T07:01:47.845Z"
   },
   {
    "duration": 77,
    "start_time": "2023-02-26T07:01:47.851Z"
   },
   {
    "duration": 34,
    "start_time": "2023-02-26T07:01:47.929Z"
   },
   {
    "duration": 33,
    "start_time": "2023-02-26T07:01:47.965Z"
   },
   {
    "duration": 10919,
    "start_time": "2023-02-26T07:04:03.658Z"
   },
   {
    "duration": 195,
    "start_time": "2023-02-26T07:04:52.756Z"
   },
   {
    "duration": 101,
    "start_time": "2023-02-26T07:05:14.897Z"
   },
   {
    "duration": 17,
    "start_time": "2023-02-26T07:05:28.985Z"
   },
   {
    "duration": 177,
    "start_time": "2023-02-26T07:06:21.655Z"
   },
   {
    "duration": 15,
    "start_time": "2023-02-26T07:07:52.654Z"
   },
   {
    "duration": 16,
    "start_time": "2023-02-26T07:08:06.506Z"
   },
   {
    "duration": 162,
    "start_time": "2023-02-26T07:08:37.034Z"
   },
   {
    "duration": 146,
    "start_time": "2023-02-26T07:08:47.913Z"
   },
   {
    "duration": 13,
    "start_time": "2023-02-26T07:10:04.357Z"
   },
   {
    "duration": 30,
    "start_time": "2023-02-26T07:13:34.837Z"
   },
   {
    "duration": 27,
    "start_time": "2023-02-26T07:14:27.104Z"
   },
   {
    "duration": 9,
    "start_time": "2023-02-26T07:15:16.393Z"
   },
   {
    "duration": 9,
    "start_time": "2023-02-26T07:15:39.388Z"
   },
   {
    "duration": 17,
    "start_time": "2023-02-26T07:16:07.702Z"
   },
   {
    "duration": 338,
    "start_time": "2023-02-26T07:16:20.463Z"
   },
   {
    "duration": 15,
    "start_time": "2023-02-26T07:17:02.053Z"
   },
   {
    "duration": 167,
    "start_time": "2023-02-26T07:17:16.070Z"
   },
   {
    "duration": 150,
    "start_time": "2023-02-26T07:17:24.071Z"
   },
   {
    "duration": 117,
    "start_time": "2023-02-26T07:17:37.185Z"
   },
   {
    "duration": 15,
    "start_time": "2023-02-26T07:17:42.291Z"
   },
   {
    "duration": 7,
    "start_time": "2023-02-26T07:18:27.628Z"
   },
   {
    "duration": 13,
    "start_time": "2023-02-26T07:18:39.894Z"
   },
   {
    "duration": 11,
    "start_time": "2023-02-26T07:18:54.926Z"
   },
   {
    "duration": 74,
    "start_time": "2023-02-26T07:19:08.423Z"
   },
   {
    "duration": 10,
    "start_time": "2023-02-26T07:19:12.923Z"
   },
   {
    "duration": 4,
    "start_time": "2023-02-26T07:20:08.858Z"
   },
   {
    "duration": 8,
    "start_time": "2023-02-26T07:20:48.033Z"
   },
   {
    "duration": 7,
    "start_time": "2023-02-26T07:20:59.089Z"
   },
   {
    "duration": 9,
    "start_time": "2023-02-26T07:21:03.761Z"
   },
   {
    "duration": 8,
    "start_time": "2023-02-26T07:21:30.581Z"
   },
   {
    "duration": 6,
    "start_time": "2023-02-26T07:22:37.562Z"
   },
   {
    "duration": 9,
    "start_time": "2023-02-26T07:22:45.867Z"
   },
   {
    "duration": 12,
    "start_time": "2023-02-26T07:30:29.504Z"
   },
   {
    "duration": 12,
    "start_time": "2023-02-26T07:33:26.603Z"
   },
   {
    "duration": 10,
    "start_time": "2023-02-26T07:33:39.016Z"
   },
   {
    "duration": 8,
    "start_time": "2023-02-26T07:34:44.313Z"
   },
   {
    "duration": 12,
    "start_time": "2023-02-26T07:34:55.715Z"
   },
   {
    "duration": 15,
    "start_time": "2023-02-26T07:35:56.407Z"
   },
   {
    "duration": 11,
    "start_time": "2023-02-26T07:36:14.178Z"
   },
   {
    "duration": 13,
    "start_time": "2023-02-26T07:38:20.539Z"
   },
   {
    "duration": 14,
    "start_time": "2023-02-26T07:38:37.815Z"
   },
   {
    "duration": 144,
    "start_time": "2023-02-26T07:38:48.838Z"
   },
   {
    "duration": 149,
    "start_time": "2023-02-26T07:40:06.871Z"
   },
   {
    "duration": 149,
    "start_time": "2023-02-26T07:40:41.440Z"
   },
   {
    "duration": 121,
    "start_time": "2023-02-26T07:41:18.013Z"
   },
   {
    "duration": 271,
    "start_time": "2023-02-26T07:41:38.122Z"
   },
   {
    "duration": 261,
    "start_time": "2023-02-26T07:41:47.193Z"
   },
   {
    "duration": 146,
    "start_time": "2023-02-26T07:41:56.507Z"
   },
   {
    "duration": 159,
    "start_time": "2023-02-26T07:42:03.088Z"
   },
   {
    "duration": 145,
    "start_time": "2023-02-26T07:42:42.683Z"
   },
   {
    "duration": 176,
    "start_time": "2023-02-26T07:45:00.037Z"
   },
   {
    "duration": 209,
    "start_time": "2023-02-26T07:45:05.943Z"
   },
   {
    "duration": 13,
    "start_time": "2023-02-26T07:46:07.481Z"
   },
   {
    "duration": 158,
    "start_time": "2023-02-26T07:46:09.136Z"
   },
   {
    "duration": 163,
    "start_time": "2023-02-26T07:46:42.813Z"
   },
   {
    "duration": 166,
    "start_time": "2023-02-26T07:46:55.723Z"
   },
   {
    "duration": 14,
    "start_time": "2023-02-26T07:47:43.784Z"
   },
   {
    "duration": 15,
    "start_time": "2023-02-26T07:47:48.447Z"
   },
   {
    "duration": 187,
    "start_time": "2023-02-26T07:47:58.788Z"
   },
   {
    "duration": 9,
    "start_time": "2023-02-26T07:56:21.290Z"
   },
   {
    "duration": 9,
    "start_time": "2023-02-26T07:56:57.006Z"
   },
   {
    "duration": 9,
    "start_time": "2023-02-26T07:57:39.471Z"
   },
   {
    "duration": 13,
    "start_time": "2023-02-26T07:57:52.973Z"
   },
   {
    "duration": 9,
    "start_time": "2023-02-26T07:57:53.605Z"
   },
   {
    "duration": 168,
    "start_time": "2023-02-26T07:58:11.245Z"
   },
   {
    "duration": 372,
    "start_time": "2023-02-26T08:02:16.516Z"
   },
   {
    "duration": 5,
    "start_time": "2023-02-26T08:04:02.957Z"
   },
   {
    "duration": 12,
    "start_time": "2023-02-26T08:04:12.093Z"
   },
   {
    "duration": 14,
    "start_time": "2023-02-26T08:04:25.721Z"
   },
   {
    "duration": 12,
    "start_time": "2023-02-26T08:04:49.036Z"
   },
   {
    "duration": 15,
    "start_time": "2023-02-26T08:05:00.823Z"
   },
   {
    "duration": 14,
    "start_time": "2023-02-26T08:05:06.792Z"
   },
   {
    "duration": 14,
    "start_time": "2023-02-26T08:05:27.688Z"
   },
   {
    "duration": 18,
    "start_time": "2023-02-26T08:05:31.500Z"
   },
   {
    "duration": 13,
    "start_time": "2023-02-26T08:05:37.748Z"
   },
   {
    "duration": 10,
    "start_time": "2023-02-26T08:06:31.938Z"
   },
   {
    "duration": 14,
    "start_time": "2023-02-26T08:07:21.930Z"
   },
   {
    "duration": 10,
    "start_time": "2023-02-26T08:07:39.183Z"
   },
   {
    "duration": 14,
    "start_time": "2023-02-26T08:07:52.712Z"
   },
   {
    "duration": 15,
    "start_time": "2023-02-26T08:08:01.541Z"
   },
   {
    "duration": 11,
    "start_time": "2023-02-26T08:08:14.167Z"
   },
   {
    "duration": 11,
    "start_time": "2023-02-26T08:08:18.132Z"
   },
   {
    "duration": 18,
    "start_time": "2023-02-26T08:08:37.203Z"
   },
   {
    "duration": 15,
    "start_time": "2023-02-26T08:08:44.746Z"
   },
   {
    "duration": 10,
    "start_time": "2023-02-26T08:09:01.610Z"
   },
   {
    "duration": 11,
    "start_time": "2023-02-26T08:09:06.939Z"
   },
   {
    "duration": 12,
    "start_time": "2023-02-26T08:09:11.713Z"
   },
   {
    "duration": 133,
    "start_time": "2023-02-26T08:09:27.312Z"
   },
   {
    "duration": 14,
    "start_time": "2023-02-26T08:09:33.549Z"
   },
   {
    "duration": 15,
    "start_time": "2023-02-26T08:09:56.610Z"
   },
   {
    "duration": 8,
    "start_time": "2023-02-26T08:10:21.912Z"
   },
   {
    "duration": 176,
    "start_time": "2023-02-26T08:10:30.681Z"
   },
   {
    "duration": 15,
    "start_time": "2023-02-26T08:10:46.207Z"
   },
   {
    "duration": 11,
    "start_time": "2023-02-26T08:10:53.288Z"
   },
   {
    "duration": 10,
    "start_time": "2023-02-26T08:10:58.487Z"
   },
   {
    "duration": 13,
    "start_time": "2023-02-26T08:11:26.824Z"
   },
   {
    "duration": 11,
    "start_time": "2023-02-26T08:11:31.431Z"
   },
   {
    "duration": 17,
    "start_time": "2023-02-26T08:12:05.172Z"
   },
   {
    "duration": 16,
    "start_time": "2023-02-26T08:12:25.616Z"
   },
   {
    "duration": 173,
    "start_time": "2023-02-26T08:12:27.392Z"
   },
   {
    "duration": 1244,
    "start_time": "2023-02-26T08:13:35.383Z"
   },
   {
    "duration": 92,
    "start_time": "2023-02-26T08:13:36.629Z"
   },
   {
    "duration": 10,
    "start_time": "2023-02-26T08:13:36.723Z"
   },
   {
    "duration": 10,
    "start_time": "2023-02-26T08:13:36.735Z"
   },
   {
    "duration": 7,
    "start_time": "2023-02-26T08:13:36.747Z"
   },
   {
    "duration": 12,
    "start_time": "2023-02-26T08:13:36.755Z"
   },
   {
    "duration": 38,
    "start_time": "2023-02-26T08:13:36.769Z"
   },
   {
    "duration": 22,
    "start_time": "2023-02-26T08:13:36.808Z"
   },
   {
    "duration": 17,
    "start_time": "2023-02-26T08:13:36.832Z"
   },
   {
    "duration": 48,
    "start_time": "2023-02-26T08:13:36.850Z"
   },
   {
    "duration": 22,
    "start_time": "2023-02-26T08:13:36.900Z"
   },
   {
    "duration": 49,
    "start_time": "2023-02-26T08:13:36.923Z"
   },
   {
    "duration": 14,
    "start_time": "2023-02-26T08:13:36.991Z"
   },
   {
    "duration": 29,
    "start_time": "2023-02-26T08:13:37.008Z"
   },
   {
    "duration": 55,
    "start_time": "2023-02-26T08:13:37.038Z"
   },
   {
    "duration": 66,
    "start_time": "2023-02-26T08:13:37.094Z"
   },
   {
    "duration": 11,
    "start_time": "2023-02-26T08:13:37.161Z"
   },
   {
    "duration": 28,
    "start_time": "2023-02-26T08:13:37.174Z"
   },
   {
    "duration": 9,
    "start_time": "2023-02-26T08:13:37.204Z"
   },
   {
    "duration": 17,
    "start_time": "2023-02-26T08:13:37.215Z"
   },
   {
    "duration": 75,
    "start_time": "2023-02-26T08:13:37.234Z"
   },
   {
    "duration": 10,
    "start_time": "2023-02-26T08:13:37.311Z"
   },
   {
    "duration": 160,
    "start_time": "2023-02-26T08:13:37.323Z"
   },
   {
    "duration": 10,
    "start_time": "2023-02-26T08:13:37.484Z"
   },
   {
    "duration": 34,
    "start_time": "2023-02-26T08:13:37.496Z"
   },
   {
    "duration": 305,
    "start_time": "2023-02-26T08:13:37.532Z"
   },
   {
    "duration": 3,
    "start_time": "2023-02-26T08:13:37.840Z"
   },
   {
    "duration": 11,
    "start_time": "2023-02-26T08:13:37.844Z"
   },
   {
    "duration": 8,
    "start_time": "2023-02-26T08:13:37.857Z"
   },
   {
    "duration": 11,
    "start_time": "2023-02-26T08:13:37.866Z"
   },
   {
    "duration": 101,
    "start_time": "2023-02-26T08:13:37.892Z"
   },
   {
    "duration": 120,
    "start_time": "2023-02-26T08:13:37.994Z"
   },
   {
    "duration": 11,
    "start_time": "2023-02-26T08:13:38.115Z"
   },
   {
    "duration": 158,
    "start_time": "2023-02-26T08:13:38.127Z"
   },
   {
    "duration": 15,
    "start_time": "2023-02-26T08:13:38.286Z"
   },
   {
    "duration": 19,
    "start_time": "2023-02-26T08:13:38.302Z"
   },
   {
    "duration": 11,
    "start_time": "2023-02-26T08:13:38.322Z"
   },
   {
    "duration": 15,
    "start_time": "2023-02-26T08:13:38.334Z"
   },
   {
    "duration": 12,
    "start_time": "2023-02-26T08:13:38.350Z"
   },
   {
    "duration": 7,
    "start_time": "2023-02-26T08:13:38.392Z"
   },
   {
    "duration": 123,
    "start_time": "2023-02-26T08:13:38.404Z"
   },
   {
    "duration": 121,
    "start_time": "2023-02-26T08:13:38.529Z"
   },
   {
    "duration": 228,
    "start_time": "2023-02-26T08:13:38.652Z"
   },
   {
    "duration": 16,
    "start_time": "2023-02-26T08:13:38.882Z"
   },
   {
    "duration": 21,
    "start_time": "2023-02-26T08:13:38.900Z"
   },
   {
    "duration": 16,
    "start_time": "2023-02-26T08:13:38.922Z"
   },
   {
    "duration": 20,
    "start_time": "2023-02-26T08:13:38.940Z"
   },
   {
    "duration": 12,
    "start_time": "2023-02-26T08:13:38.962Z"
   },
   {
    "duration": 23,
    "start_time": "2023-02-26T08:13:38.975Z"
   },
   {
    "duration": 93,
    "start_time": "2023-02-26T08:13:38.999Z"
   },
   {
    "duration": 11,
    "start_time": "2023-02-26T08:13:39.093Z"
   },
   {
    "duration": 10,
    "start_time": "2023-02-26T08:13:39.106Z"
   },
   {
    "duration": 13,
    "start_time": "2023-02-26T08:13:39.117Z"
   },
   {
    "duration": 25,
    "start_time": "2023-02-26T08:13:39.132Z"
   },
   {
    "duration": 43,
    "start_time": "2023-02-26T08:13:39.159Z"
   },
   {
    "duration": 17,
    "start_time": "2023-02-26T08:13:39.204Z"
   },
   {
    "duration": 17,
    "start_time": "2023-02-26T08:13:39.223Z"
   },
   {
    "duration": 122,
    "start_time": "2023-02-26T08:13:39.242Z"
   },
   {
    "duration": 457,
    "start_time": "2023-02-26T08:13:39.365Z"
   },
   {
    "duration": 7,
    "start_time": "2023-02-26T08:13:39.823Z"
   },
   {
    "duration": 14,
    "start_time": "2023-02-26T08:13:39.832Z"
   },
   {
    "duration": 14,
    "start_time": "2023-02-26T08:13:39.848Z"
   },
   {
    "duration": 33,
    "start_time": "2023-02-26T08:13:39.864Z"
   },
   {
    "duration": 12,
    "start_time": "2023-02-26T08:13:39.898Z"
   },
   {
    "duration": 9,
    "start_time": "2023-02-26T08:13:39.912Z"
   },
   {
    "duration": 235,
    "start_time": "2023-02-26T08:13:39.923Z"
   },
   {
    "duration": 4,
    "start_time": "2023-02-26T08:13:40.160Z"
   },
   {
    "duration": 27,
    "start_time": "2023-02-26T08:13:40.166Z"
   },
   {
    "duration": 28,
    "start_time": "2023-02-26T08:13:40.195Z"
   },
   {
    "duration": 7,
    "start_time": "2023-02-26T08:13:40.225Z"
   },
   {
    "duration": 125,
    "start_time": "2023-02-26T08:13:40.234Z"
   },
   {
    "duration": 133,
    "start_time": "2023-02-26T08:13:40.361Z"
   },
   {
    "duration": 208,
    "start_time": "2023-02-26T08:13:40.496Z"
   },
   {
    "duration": 18,
    "start_time": "2023-02-26T08:13:40.706Z"
   },
   {
    "duration": 8,
    "start_time": "2023-02-26T08:13:40.726Z"
   },
   {
    "duration": 157,
    "start_time": "2023-02-26T08:13:40.735Z"
   },
   {
    "duration": 188,
    "start_time": "2023-02-26T08:13:40.894Z"
   },
   {
    "duration": 8,
    "start_time": "2023-02-26T08:13:41.083Z"
   },
   {
    "duration": 14,
    "start_time": "2023-02-26T08:13:41.093Z"
   },
   {
    "duration": 18,
    "start_time": "2023-02-26T08:13:41.108Z"
   },
   {
    "duration": 8,
    "start_time": "2023-02-26T08:13:41.127Z"
   },
   {
    "duration": 148,
    "start_time": "2023-02-26T08:13:41.136Z"
   },
   {
    "duration": 290,
    "start_time": "2023-02-26T08:13:41.293Z"
   },
   {
    "duration": 9,
    "start_time": "2023-02-26T08:13:41.585Z"
   },
   {
    "duration": 17,
    "start_time": "2023-02-26T08:13:41.596Z"
   },
   {
    "duration": 23,
    "start_time": "2023-02-26T08:13:41.615Z"
   },
   {
    "duration": 22,
    "start_time": "2023-02-26T08:13:41.640Z"
   },
   {
    "duration": 43,
    "start_time": "2023-02-26T08:13:41.664Z"
   },
   {
    "duration": 15,
    "start_time": "2023-02-26T08:13:41.709Z"
   },
   {
    "duration": 5,
    "start_time": "2023-02-26T08:13:41.726Z"
   },
   {
    "duration": 90,
    "start_time": "2023-02-26T08:13:41.733Z"
   },
   {
    "duration": 34,
    "start_time": "2023-02-26T08:13:41.825Z"
   },
   {
    "duration": 38,
    "start_time": "2023-02-26T08:13:41.861Z"
   },
   {
    "duration": 1147,
    "start_time": "2023-02-26T08:27:46.875Z"
   },
   {
    "duration": 93,
    "start_time": "2023-02-26T08:27:48.024Z"
   },
   {
    "duration": 10,
    "start_time": "2023-02-26T08:27:48.119Z"
   },
   {
    "duration": 11,
    "start_time": "2023-02-26T08:27:48.130Z"
   },
   {
    "duration": 8,
    "start_time": "2023-02-26T08:27:48.143Z"
   },
   {
    "duration": 11,
    "start_time": "2023-02-26T08:27:48.153Z"
   },
   {
    "duration": 33,
    "start_time": "2023-02-26T08:27:48.165Z"
   },
   {
    "duration": 20,
    "start_time": "2023-02-26T08:27:48.200Z"
   },
   {
    "duration": 17,
    "start_time": "2023-02-26T08:27:48.221Z"
   },
   {
    "duration": 27,
    "start_time": "2023-02-26T08:27:48.240Z"
   },
   {
    "duration": 36,
    "start_time": "2023-02-26T08:27:48.269Z"
   },
   {
    "duration": 48,
    "start_time": "2023-02-26T08:27:48.307Z"
   },
   {
    "duration": 35,
    "start_time": "2023-02-26T08:27:48.357Z"
   },
   {
    "duration": 26,
    "start_time": "2023-02-26T08:27:48.395Z"
   },
   {
    "duration": 31,
    "start_time": "2023-02-26T08:27:48.422Z"
   },
   {
    "duration": 81,
    "start_time": "2023-02-26T08:27:48.454Z"
   },
   {
    "duration": 8,
    "start_time": "2023-02-26T08:27:48.536Z"
   },
   {
    "duration": 53,
    "start_time": "2023-02-26T08:27:48.546Z"
   },
   {
    "duration": 25,
    "start_time": "2023-02-26T08:27:48.600Z"
   },
   {
    "duration": 15,
    "start_time": "2023-02-26T08:27:48.627Z"
   },
   {
    "duration": 68,
    "start_time": "2023-02-26T08:27:48.644Z"
   },
   {
    "duration": 8,
    "start_time": "2023-02-26T08:27:48.714Z"
   },
   {
    "duration": 137,
    "start_time": "2023-02-26T08:27:48.724Z"
   },
   {
    "duration": 6,
    "start_time": "2023-02-26T08:27:48.862Z"
   },
   {
    "duration": 46,
    "start_time": "2023-02-26T08:27:48.870Z"
   },
   {
    "duration": 269,
    "start_time": "2023-02-26T08:27:48.918Z"
   },
   {
    "duration": 3,
    "start_time": "2023-02-26T08:27:49.192Z"
   },
   {
    "duration": 8,
    "start_time": "2023-02-26T08:27:49.197Z"
   },
   {
    "duration": 7,
    "start_time": "2023-02-26T08:27:49.207Z"
   },
   {
    "duration": 14,
    "start_time": "2023-02-26T08:27:49.216Z"
   },
   {
    "duration": 125,
    "start_time": "2023-02-26T08:27:49.231Z"
   },
   {
    "duration": 120,
    "start_time": "2023-02-26T08:27:49.357Z"
   },
   {
    "duration": 20,
    "start_time": "2023-02-26T08:27:49.478Z"
   },
   {
    "duration": 146,
    "start_time": "2023-02-26T08:27:49.500Z"
   },
   {
    "duration": 12,
    "start_time": "2023-02-26T08:27:49.647Z"
   },
   {
    "duration": 33,
    "start_time": "2023-02-26T08:27:49.661Z"
   },
   {
    "duration": 11,
    "start_time": "2023-02-26T08:27:49.696Z"
   },
   {
    "duration": 15,
    "start_time": "2023-02-26T08:27:49.708Z"
   },
   {
    "duration": 13,
    "start_time": "2023-02-26T08:27:49.725Z"
   },
   {
    "duration": 8,
    "start_time": "2023-02-26T08:27:49.739Z"
   },
   {
    "duration": 144,
    "start_time": "2023-02-26T08:27:49.751Z"
   },
   {
    "duration": 127,
    "start_time": "2023-02-26T08:27:49.897Z"
   },
   {
    "duration": 225,
    "start_time": "2023-02-26T08:27:50.026Z"
   },
   {
    "duration": 7,
    "start_time": "2023-02-26T08:27:50.253Z"
   },
   {
    "duration": 17,
    "start_time": "2023-02-26T08:27:50.261Z"
   },
   {
    "duration": 26,
    "start_time": "2023-02-26T08:27:50.279Z"
   },
   {
    "duration": 16,
    "start_time": "2023-02-26T08:27:50.307Z"
   },
   {
    "duration": 12,
    "start_time": "2023-02-26T08:27:50.325Z"
   },
   {
    "duration": 23,
    "start_time": "2023-02-26T08:27:50.339Z"
   },
   {
    "duration": 101,
    "start_time": "2023-02-26T08:27:50.363Z"
   },
   {
    "duration": 26,
    "start_time": "2023-02-26T08:27:50.466Z"
   },
   {
    "duration": 11,
    "start_time": "2023-02-26T08:27:50.493Z"
   },
   {
    "duration": 16,
    "start_time": "2023-02-26T08:27:50.505Z"
   },
   {
    "duration": 28,
    "start_time": "2023-02-26T08:27:50.523Z"
   },
   {
    "duration": 46,
    "start_time": "2023-02-26T08:27:50.553Z"
   },
   {
    "duration": 15,
    "start_time": "2023-02-26T08:27:50.601Z"
   },
   {
    "duration": 14,
    "start_time": "2023-02-26T08:27:50.618Z"
   },
   {
    "duration": 130,
    "start_time": "2023-02-26T08:27:50.633Z"
   },
   {
    "duration": 453,
    "start_time": "2023-02-26T08:27:50.765Z"
   },
   {
    "duration": 8,
    "start_time": "2023-02-26T08:27:51.220Z"
   },
   {
    "duration": 24,
    "start_time": "2023-02-26T08:27:51.231Z"
   },
   {
    "duration": 13,
    "start_time": "2023-02-26T08:27:51.257Z"
   },
   {
    "duration": 26,
    "start_time": "2023-02-26T08:27:51.272Z"
   },
   {
    "duration": 9,
    "start_time": "2023-02-26T08:27:51.299Z"
   },
   {
    "duration": 37,
    "start_time": "2023-02-26T08:27:51.310Z"
   },
   {
    "duration": 216,
    "start_time": "2023-02-26T08:27:51.349Z"
   },
   {
    "duration": 7,
    "start_time": "2023-02-26T08:27:51.567Z"
   },
   {
    "duration": 38,
    "start_time": "2023-02-26T08:27:51.576Z"
   },
   {
    "duration": 39,
    "start_time": "2023-02-26T08:27:51.616Z"
   },
   {
    "duration": 9,
    "start_time": "2023-02-26T08:27:51.657Z"
   },
   {
    "duration": 109,
    "start_time": "2023-02-26T08:27:51.668Z"
   },
   {
    "duration": 136,
    "start_time": "2023-02-26T08:27:51.779Z"
   },
   {
    "duration": 189,
    "start_time": "2023-02-26T08:27:51.917Z"
   },
   {
    "duration": 18,
    "start_time": "2023-02-26T08:27:52.107Z"
   },
   {
    "duration": 8,
    "start_time": "2023-02-26T08:27:52.128Z"
   },
   {
    "duration": 157,
    "start_time": "2023-02-26T08:27:52.138Z"
   },
   {
    "duration": 182,
    "start_time": "2023-02-26T08:27:52.296Z"
   },
   {
    "duration": 12,
    "start_time": "2023-02-26T08:27:52.480Z"
   },
   {
    "duration": 13,
    "start_time": "2023-02-26T08:27:52.493Z"
   },
   {
    "duration": 15,
    "start_time": "2023-02-26T08:27:52.508Z"
   },
   {
    "duration": 34,
    "start_time": "2023-02-26T08:27:52.525Z"
   },
   {
    "duration": 131,
    "start_time": "2023-02-26T08:27:52.561Z"
   },
   {
    "duration": 270,
    "start_time": "2023-02-26T08:27:52.693Z"
   },
   {
    "duration": 5,
    "start_time": "2023-02-26T08:27:52.965Z"
   },
   {
    "duration": 24,
    "start_time": "2023-02-26T08:27:52.971Z"
   },
   {
    "duration": 34,
    "start_time": "2023-02-26T08:27:52.997Z"
   },
   {
    "duration": 20,
    "start_time": "2023-02-26T08:27:53.032Z"
   },
   {
    "duration": 20,
    "start_time": "2023-02-26T08:27:53.054Z"
   },
   {
    "duration": 29,
    "start_time": "2023-02-26T08:27:53.076Z"
   },
   {
    "duration": 5,
    "start_time": "2023-02-26T08:27:53.107Z"
   },
   {
    "duration": 60,
    "start_time": "2023-02-26T08:27:53.114Z"
   },
   {
    "duration": 36,
    "start_time": "2023-02-26T08:27:53.176Z"
   },
   {
    "duration": 25,
    "start_time": "2023-02-26T08:27:53.214Z"
   },
   {
    "duration": 1299,
    "start_time": "2023-03-01T12:16:31.937Z"
   },
   {
    "duration": 359,
    "start_time": "2023-03-01T12:16:33.239Z"
   },
   {
    "duration": 11,
    "start_time": "2023-03-01T12:16:33.599Z"
   },
   {
    "duration": 11,
    "start_time": "2023-03-01T12:16:33.612Z"
   },
   {
    "duration": 6,
    "start_time": "2023-03-01T12:16:33.626Z"
   },
   {
    "duration": 14,
    "start_time": "2023-03-01T12:16:33.633Z"
   },
   {
    "duration": 22,
    "start_time": "2023-03-01T12:16:33.649Z"
   },
   {
    "duration": 49,
    "start_time": "2023-03-01T12:16:33.673Z"
   },
   {
    "duration": 17,
    "start_time": "2023-03-01T12:16:33.724Z"
   },
   {
    "duration": 23,
    "start_time": "2023-03-01T12:16:33.743Z"
   },
   {
    "duration": 54,
    "start_time": "2023-03-01T12:16:33.768Z"
   },
   {
    "duration": 79,
    "start_time": "2023-03-01T12:16:33.825Z"
   },
   {
    "duration": 14,
    "start_time": "2023-03-01T12:16:33.906Z"
   },
   {
    "duration": 27,
    "start_time": "2023-03-01T12:16:33.923Z"
   },
   {
    "duration": 59,
    "start_time": "2023-03-01T12:16:33.952Z"
   },
   {
    "duration": 92,
    "start_time": "2023-03-01T12:16:34.013Z"
   },
   {
    "duration": 11,
    "start_time": "2023-03-01T12:16:34.107Z"
   },
   {
    "duration": 9,
    "start_time": "2023-03-01T12:16:34.119Z"
   },
   {
    "duration": 10,
    "start_time": "2023-03-01T12:16:34.129Z"
   },
   {
    "duration": 15,
    "start_time": "2023-03-01T12:16:34.141Z"
   },
   {
    "duration": 90,
    "start_time": "2023-03-01T12:16:34.158Z"
   },
   {
    "duration": 10,
    "start_time": "2023-03-01T12:16:34.250Z"
   },
   {
    "duration": 160,
    "start_time": "2023-03-01T12:16:34.262Z"
   },
   {
    "duration": 4,
    "start_time": "2023-03-01T12:16:34.424Z"
   },
   {
    "duration": 31,
    "start_time": "2023-03-01T12:16:34.430Z"
   },
   {
    "duration": 329,
    "start_time": "2023-03-01T12:16:34.462Z"
   },
   {
    "duration": 11,
    "start_time": "2023-03-01T12:16:34.793Z"
   },
   {
    "duration": 14,
    "start_time": "2023-03-01T12:16:34.805Z"
   },
   {
    "duration": 6,
    "start_time": "2023-03-01T12:16:34.820Z"
   },
   {
    "duration": 13,
    "start_time": "2023-03-01T12:16:34.827Z"
   },
   {
    "duration": 114,
    "start_time": "2023-03-01T12:16:34.841Z"
   },
   {
    "duration": 133,
    "start_time": "2023-03-01T12:16:34.956Z"
   },
   {
    "duration": 20,
    "start_time": "2023-03-01T12:16:35.092Z"
   },
   {
    "duration": 161,
    "start_time": "2023-03-01T12:16:35.115Z"
   },
   {
    "duration": 13,
    "start_time": "2023-03-01T12:16:35.277Z"
   },
   {
    "duration": 24,
    "start_time": "2023-03-01T12:16:35.303Z"
   },
   {
    "duration": 17,
    "start_time": "2023-03-01T12:16:35.330Z"
   },
   {
    "duration": 39,
    "start_time": "2023-03-01T12:16:35.350Z"
   },
   {
    "duration": 29,
    "start_time": "2023-03-01T12:16:35.392Z"
   },
   {
    "duration": 9,
    "start_time": "2023-03-01T12:16:35.423Z"
   },
   {
    "duration": 128,
    "start_time": "2023-03-01T12:16:35.438Z"
   },
   {
    "duration": 128,
    "start_time": "2023-03-01T12:16:35.568Z"
   },
   {
    "duration": 210,
    "start_time": "2023-03-01T12:16:35.703Z"
   },
   {
    "duration": 7,
    "start_time": "2023-03-01T12:16:35.916Z"
   },
   {
    "duration": 17,
    "start_time": "2023-03-01T12:16:35.925Z"
   },
   {
    "duration": 19,
    "start_time": "2023-03-01T12:16:35.944Z"
   },
   {
    "duration": 17,
    "start_time": "2023-03-01T12:16:35.965Z"
   },
   {
    "duration": 30,
    "start_time": "2023-03-01T12:16:35.984Z"
   },
   {
    "duration": 8,
    "start_time": "2023-03-01T12:16:36.015Z"
   },
   {
    "duration": 102,
    "start_time": "2023-03-01T12:16:36.024Z"
   },
   {
    "duration": 21,
    "start_time": "2023-03-01T12:16:36.128Z"
   },
   {
    "duration": 15,
    "start_time": "2023-03-01T12:16:36.151Z"
   },
   {
    "duration": 18,
    "start_time": "2023-03-01T12:16:36.168Z"
   },
   {
    "duration": 40,
    "start_time": "2023-03-01T12:16:36.188Z"
   },
   {
    "duration": 21,
    "start_time": "2023-03-01T12:16:36.229Z"
   },
   {
    "duration": 14,
    "start_time": "2023-03-01T12:16:36.251Z"
   },
   {
    "duration": 15,
    "start_time": "2023-03-01T12:16:36.266Z"
   },
   {
    "duration": 158,
    "start_time": "2023-03-01T12:16:36.283Z"
   },
   {
    "duration": 532,
    "start_time": "2023-03-01T12:16:36.443Z"
   },
   {
    "duration": 8,
    "start_time": "2023-03-01T12:16:36.977Z"
   },
   {
    "duration": 25,
    "start_time": "2023-03-01T12:16:36.987Z"
   },
   {
    "duration": 18,
    "start_time": "2023-03-01T12:16:37.013Z"
   },
   {
    "duration": 13,
    "start_time": "2023-03-01T12:16:37.033Z"
   },
   {
    "duration": 33,
    "start_time": "2023-03-01T12:16:37.048Z"
   },
   {
    "duration": 16,
    "start_time": "2023-03-01T12:16:37.083Z"
   },
   {
    "duration": 217,
    "start_time": "2023-03-01T12:16:37.101Z"
   },
   {
    "duration": 5,
    "start_time": "2023-03-01T12:16:37.319Z"
   },
   {
    "duration": 21,
    "start_time": "2023-03-01T12:16:37.326Z"
   },
   {
    "duration": 32,
    "start_time": "2023-03-01T12:16:37.348Z"
   },
   {
    "duration": 8,
    "start_time": "2023-03-01T12:16:37.382Z"
   },
   {
    "duration": 118,
    "start_time": "2023-03-01T12:16:37.404Z"
   },
   {
    "duration": 148,
    "start_time": "2023-03-01T12:16:37.524Z"
   },
   {
    "duration": 184,
    "start_time": "2023-03-01T12:16:37.673Z"
   },
   {
    "duration": 19,
    "start_time": "2023-03-01T12:16:37.858Z"
   },
   {
    "duration": 26,
    "start_time": "2023-03-01T12:16:37.878Z"
   },
   {
    "duration": 127,
    "start_time": "2023-03-01T12:16:37.906Z"
   },
   {
    "duration": 185,
    "start_time": "2023-03-01T12:16:38.035Z"
   },
   {
    "duration": 4,
    "start_time": "2023-03-01T12:16:38.222Z"
   },
   {
    "duration": 20,
    "start_time": "2023-03-01T12:16:38.228Z"
   },
   {
    "duration": 17,
    "start_time": "2023-03-01T12:16:38.250Z"
   },
   {
    "duration": 8,
    "start_time": "2023-03-01T12:16:38.269Z"
   },
   {
    "duration": 146,
    "start_time": "2023-03-01T12:16:38.279Z"
   },
   {
    "duration": 288,
    "start_time": "2023-03-01T12:16:38.427Z"
   },
   {
    "duration": 5,
    "start_time": "2023-03-01T12:16:38.717Z"
   },
   {
    "duration": 20,
    "start_time": "2023-03-01T12:16:38.723Z"
   },
   {
    "duration": 26,
    "start_time": "2023-03-01T12:16:38.745Z"
   },
   {
    "duration": 31,
    "start_time": "2023-03-01T12:16:38.773Z"
   },
   {
    "duration": 20,
    "start_time": "2023-03-01T12:16:38.806Z"
   },
   {
    "duration": 14,
    "start_time": "2023-03-01T12:16:38.828Z"
   },
   {
    "duration": 5,
    "start_time": "2023-03-01T12:16:38.844Z"
   },
   {
    "duration": 80,
    "start_time": "2023-03-01T12:16:38.850Z"
   },
   {
    "duration": 23,
    "start_time": "2023-03-01T12:16:38.932Z"
   },
   {
    "duration": 22,
    "start_time": "2023-03-01T12:16:38.957Z"
   },
   {
    "duration": 83,
    "start_time": "2023-03-11T10:40:52.396Z"
   },
   {
    "duration": 1544,
    "start_time": "2023-03-11T10:41:24.630Z"
   },
   {
    "duration": 414,
    "start_time": "2023-03-11T10:41:26.179Z"
   },
   {
    "duration": 16,
    "start_time": "2023-03-11T10:41:26.598Z"
   },
   {
    "duration": 33,
    "start_time": "2023-03-11T10:41:27.329Z"
   },
   {
    "duration": 6,
    "start_time": "2023-03-11T10:41:27.816Z"
   },
   {
    "duration": 13,
    "start_time": "2023-03-11T10:41:29.501Z"
   },
   {
    "duration": 39,
    "start_time": "2023-03-11T10:41:29.917Z"
   },
   {
    "duration": 26,
    "start_time": "2023-03-11T10:41:30.695Z"
   },
   {
    "duration": 18,
    "start_time": "2023-03-11T10:41:32.602Z"
   },
   {
    "duration": 31,
    "start_time": "2023-03-11T10:41:33.884Z"
   },
   {
    "duration": 38,
    "start_time": "2023-03-11T10:41:35.012Z"
   },
   {
    "duration": 90,
    "start_time": "2023-03-11T10:41:36.871Z"
   },
   {
    "duration": 32,
    "start_time": "2023-03-11T10:41:38.454Z"
   },
   {
    "duration": 51,
    "start_time": "2023-03-11T10:41:39.459Z"
   },
   {
    "duration": 51,
    "start_time": "2023-03-11T10:41:47.298Z"
   },
   {
    "duration": 99,
    "start_time": "2023-03-11T10:41:50.250Z"
   },
   {
    "duration": 12,
    "start_time": "2023-03-11T10:41:51.292Z"
   },
   {
    "duration": 29,
    "start_time": "2023-03-11T10:41:59.549Z"
   }
  ],
  "kernelspec": {
   "display_name": "Python 3 (ipykernel)",
   "language": "python",
   "name": "python3"
  },
  "language_info": {
   "codemirror_mode": {
    "name": "ipython",
    "version": 3
   },
   "file_extension": ".py",
   "mimetype": "text/x-python",
   "name": "python",
   "nbconvert_exporter": "python",
   "pygments_lexer": "ipython3",
   "version": "3.9.5"
  },
  "toc": {
   "base_numbering": 1,
   "nav_menu": {},
   "number_sections": true,
   "sideBar": true,
   "skip_h1_title": true,
   "title_cell": "Table of Contents",
   "title_sidebar": "Contents",
   "toc_cell": false,
   "toc_position": {
    "height": "calc(100% - 180px)",
    "left": "10px",
    "top": "150px",
    "width": "309.194px"
   },
   "toc_section_display": true,
   "toc_window_display": true
  }
 },
 "nbformat": 4,
 "nbformat_minor": 2
}
