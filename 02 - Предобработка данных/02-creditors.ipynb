{
 "cells": [
  {
   "cell_type": "markdown",
   "id": "6f9aae4a",
   "metadata": {
    "deletable": false,
    "editable": false,
    "id": "c81daeeb"
   },
   "source": [
    "# Исследование надежности заемщиков\n"
   ]
  },
  {
   "cell_type": "markdown",
   "id": "35d3e0fc",
   "metadata": {},
   "source": [
    "**Описание проекта**<br>\n",
    "Заказчик — кредитный отдел банка. Нужно разобраться, влияет ли семейное положение и количество детей клиента на факт погашения кредита в срок. Входные данные от банка — статистика о платёжеспособности клиентов.\n",
    "\n",
    "Результаты исследования будут учтены при построении модели кредитного скоринга — специальной системы, которая оценивает способность потенциального заёмщика вернуть кредит банку.\n",
    "\n",
    "**Цель исследования — проверить гипотезы:**<br>\n",
    "Существует ли зависимость:\n",
    "\n",
    " - между наличием детей и возвратом кредита в срок,\n",
    " - между семейным положением и возвратом кредита в срок,\n",
    " - между уровнем дохода и возвратом кредита в срок,\n",
    " - между целью кредита и его возвратом в срок.\n",
    "\n",
    "\n",
    "**Ход исследования**\n",
    "Исследование пройдёт в три шага:\n",
    "\n",
    " - Обзор данных,\n",
    " - Предобработка данных,\n",
    " - Проверка гипотез."
   ]
  },
  {
   "cell_type": "markdown",
   "id": "1788a54f",
   "metadata": {
    "deletable": false,
    "editable": false,
    "id": "827c20bf"
   },
   "source": [
    "Во второй части проекта вы выполните шаги 3 и 4. Их вручную проверит ревьюер.\n",
    "Чтобы вам не пришлось писать код заново для шагов 1 и 2, мы добавили авторские решения в ячейки с кодом. \n",
    "\n"
   ]
  },
  {
   "cell_type": "markdown",
   "id": "9423a044",
   "metadata": {
    "deletable": false,
    "editable": false,
    "id": "744d7639"
   },
   "source": [
    "## Откройте таблицу и изучите общую информацию о данных"
   ]
  },
  {
   "cell_type": "markdown",
   "id": "6cf82d17",
   "metadata": {
    "deletable": false,
    "editable": false,
    "id": "e7a14c31"
   },
   "source": [
    "**Задание 1. Импортируйте библиотеку pandas. Считайте данные из csv-файла в датафрейм и сохраните в переменную `data`. Путь к файлу:**\n",
    "\n",
    "`/datasets/data.csv`"
   ]
  },
  {
   "cell_type": "code",
   "execution_count": 1,
   "id": "7d1fc190",
   "metadata": {
    "deletable": false,
    "id": "7bcf75c9"
   },
   "outputs": [],
   "source": [
    "import pandas as pd\n",
    "\n",
    "try:\n",
    "    data = pd.read_csv('/datasets/data.csv')\n",
    "except:\n",
    "    data = pd.read_csv('https://code.s3.yandex.net/datasets/data.csv')"
   ]
  },
  {
   "cell_type": "markdown",
   "id": "c7160064",
   "metadata": {
    "deletable": false,
    "editable": false,
    "id": "b8038fe3"
   },
   "source": [
    "**Задание 2. Выведите первые 20 строчек датафрейма `data` на экран.**"
   ]
  },
  {
   "cell_type": "code",
   "execution_count": 2,
   "id": "cd4cd318",
   "metadata": {
    "deletable": false,
    "id": "2a7cab99",
    "outputId": "1a8f3ef2-d323-4ec2-ddf7-89670b5944c4"
   },
   "outputs": [
    {
     "data": {
      "text/html": [
       "<div>\n",
       "<style scoped>\n",
       "    .dataframe tbody tr th:only-of-type {\n",
       "        vertical-align: middle;\n",
       "    }\n",
       "\n",
       "    .dataframe tbody tr th {\n",
       "        vertical-align: top;\n",
       "    }\n",
       "\n",
       "    .dataframe thead th {\n",
       "        text-align: right;\n",
       "    }\n",
       "</style>\n",
       "<table border=\"1\" class=\"dataframe\">\n",
       "  <thead>\n",
       "    <tr style=\"text-align: right;\">\n",
       "      <th></th>\n",
       "      <th>children</th>\n",
       "      <th>days_employed</th>\n",
       "      <th>dob_years</th>\n",
       "      <th>education</th>\n",
       "      <th>education_id</th>\n",
       "      <th>family_status</th>\n",
       "      <th>family_status_id</th>\n",
       "      <th>gender</th>\n",
       "      <th>income_type</th>\n",
       "      <th>debt</th>\n",
       "      <th>total_income</th>\n",
       "      <th>purpose</th>\n",
       "    </tr>\n",
       "  </thead>\n",
       "  <tbody>\n",
       "    <tr>\n",
       "      <th>0</th>\n",
       "      <td>1</td>\n",
       "      <td>-8437.673028</td>\n",
       "      <td>42</td>\n",
       "      <td>высшее</td>\n",
       "      <td>0</td>\n",
       "      <td>женат / замужем</td>\n",
       "      <td>0</td>\n",
       "      <td>F</td>\n",
       "      <td>сотрудник</td>\n",
       "      <td>0</td>\n",
       "      <td>253875.639453</td>\n",
       "      <td>покупка жилья</td>\n",
       "    </tr>\n",
       "    <tr>\n",
       "      <th>1</th>\n",
       "      <td>1</td>\n",
       "      <td>-4024.803754</td>\n",
       "      <td>36</td>\n",
       "      <td>среднее</td>\n",
       "      <td>1</td>\n",
       "      <td>женат / замужем</td>\n",
       "      <td>0</td>\n",
       "      <td>F</td>\n",
       "      <td>сотрудник</td>\n",
       "      <td>0</td>\n",
       "      <td>112080.014102</td>\n",
       "      <td>приобретение автомобиля</td>\n",
       "    </tr>\n",
       "    <tr>\n",
       "      <th>2</th>\n",
       "      <td>0</td>\n",
       "      <td>-5623.422610</td>\n",
       "      <td>33</td>\n",
       "      <td>Среднее</td>\n",
       "      <td>1</td>\n",
       "      <td>женат / замужем</td>\n",
       "      <td>0</td>\n",
       "      <td>M</td>\n",
       "      <td>сотрудник</td>\n",
       "      <td>0</td>\n",
       "      <td>145885.952297</td>\n",
       "      <td>покупка жилья</td>\n",
       "    </tr>\n",
       "    <tr>\n",
       "      <th>3</th>\n",
       "      <td>3</td>\n",
       "      <td>-4124.747207</td>\n",
       "      <td>32</td>\n",
       "      <td>среднее</td>\n",
       "      <td>1</td>\n",
       "      <td>женат / замужем</td>\n",
       "      <td>0</td>\n",
       "      <td>M</td>\n",
       "      <td>сотрудник</td>\n",
       "      <td>0</td>\n",
       "      <td>267628.550329</td>\n",
       "      <td>дополнительное образование</td>\n",
       "    </tr>\n",
       "    <tr>\n",
       "      <th>4</th>\n",
       "      <td>0</td>\n",
       "      <td>340266.072047</td>\n",
       "      <td>53</td>\n",
       "      <td>среднее</td>\n",
       "      <td>1</td>\n",
       "      <td>гражданский брак</td>\n",
       "      <td>1</td>\n",
       "      <td>F</td>\n",
       "      <td>пенсионер</td>\n",
       "      <td>0</td>\n",
       "      <td>158616.077870</td>\n",
       "      <td>сыграть свадьбу</td>\n",
       "    </tr>\n",
       "    <tr>\n",
       "      <th>5</th>\n",
       "      <td>0</td>\n",
       "      <td>-926.185831</td>\n",
       "      <td>27</td>\n",
       "      <td>высшее</td>\n",
       "      <td>0</td>\n",
       "      <td>гражданский брак</td>\n",
       "      <td>1</td>\n",
       "      <td>M</td>\n",
       "      <td>компаньон</td>\n",
       "      <td>0</td>\n",
       "      <td>255763.565419</td>\n",
       "      <td>покупка жилья</td>\n",
       "    </tr>\n",
       "    <tr>\n",
       "      <th>6</th>\n",
       "      <td>0</td>\n",
       "      <td>-2879.202052</td>\n",
       "      <td>43</td>\n",
       "      <td>высшее</td>\n",
       "      <td>0</td>\n",
       "      <td>женат / замужем</td>\n",
       "      <td>0</td>\n",
       "      <td>F</td>\n",
       "      <td>компаньон</td>\n",
       "      <td>0</td>\n",
       "      <td>240525.971920</td>\n",
       "      <td>операции с жильем</td>\n",
       "    </tr>\n",
       "    <tr>\n",
       "      <th>7</th>\n",
       "      <td>0</td>\n",
       "      <td>-152.779569</td>\n",
       "      <td>50</td>\n",
       "      <td>СРЕДНЕЕ</td>\n",
       "      <td>1</td>\n",
       "      <td>женат / замужем</td>\n",
       "      <td>0</td>\n",
       "      <td>M</td>\n",
       "      <td>сотрудник</td>\n",
       "      <td>0</td>\n",
       "      <td>135823.934197</td>\n",
       "      <td>образование</td>\n",
       "    </tr>\n",
       "    <tr>\n",
       "      <th>8</th>\n",
       "      <td>2</td>\n",
       "      <td>-6929.865299</td>\n",
       "      <td>35</td>\n",
       "      <td>ВЫСШЕЕ</td>\n",
       "      <td>0</td>\n",
       "      <td>гражданский брак</td>\n",
       "      <td>1</td>\n",
       "      <td>F</td>\n",
       "      <td>сотрудник</td>\n",
       "      <td>0</td>\n",
       "      <td>95856.832424</td>\n",
       "      <td>на проведение свадьбы</td>\n",
       "    </tr>\n",
       "    <tr>\n",
       "      <th>9</th>\n",
       "      <td>0</td>\n",
       "      <td>-2188.756445</td>\n",
       "      <td>41</td>\n",
       "      <td>среднее</td>\n",
       "      <td>1</td>\n",
       "      <td>женат / замужем</td>\n",
       "      <td>0</td>\n",
       "      <td>M</td>\n",
       "      <td>сотрудник</td>\n",
       "      <td>0</td>\n",
       "      <td>144425.938277</td>\n",
       "      <td>покупка жилья для семьи</td>\n",
       "    </tr>\n",
       "    <tr>\n",
       "      <th>10</th>\n",
       "      <td>2</td>\n",
       "      <td>-4171.483647</td>\n",
       "      <td>36</td>\n",
       "      <td>высшее</td>\n",
       "      <td>0</td>\n",
       "      <td>женат / замужем</td>\n",
       "      <td>0</td>\n",
       "      <td>M</td>\n",
       "      <td>компаньон</td>\n",
       "      <td>0</td>\n",
       "      <td>113943.491460</td>\n",
       "      <td>покупка недвижимости</td>\n",
       "    </tr>\n",
       "    <tr>\n",
       "      <th>11</th>\n",
       "      <td>0</td>\n",
       "      <td>-792.701887</td>\n",
       "      <td>40</td>\n",
       "      <td>среднее</td>\n",
       "      <td>1</td>\n",
       "      <td>женат / замужем</td>\n",
       "      <td>0</td>\n",
       "      <td>F</td>\n",
       "      <td>сотрудник</td>\n",
       "      <td>0</td>\n",
       "      <td>77069.234271</td>\n",
       "      <td>покупка коммерческой недвижимости</td>\n",
       "    </tr>\n",
       "    <tr>\n",
       "      <th>12</th>\n",
       "      <td>0</td>\n",
       "      <td>NaN</td>\n",
       "      <td>65</td>\n",
       "      <td>среднее</td>\n",
       "      <td>1</td>\n",
       "      <td>гражданский брак</td>\n",
       "      <td>1</td>\n",
       "      <td>M</td>\n",
       "      <td>пенсионер</td>\n",
       "      <td>0</td>\n",
       "      <td>NaN</td>\n",
       "      <td>сыграть свадьбу</td>\n",
       "    </tr>\n",
       "    <tr>\n",
       "      <th>13</th>\n",
       "      <td>0</td>\n",
       "      <td>-1846.641941</td>\n",
       "      <td>54</td>\n",
       "      <td>неоконченное высшее</td>\n",
       "      <td>2</td>\n",
       "      <td>женат / замужем</td>\n",
       "      <td>0</td>\n",
       "      <td>F</td>\n",
       "      <td>сотрудник</td>\n",
       "      <td>0</td>\n",
       "      <td>130458.228857</td>\n",
       "      <td>приобретение автомобиля</td>\n",
       "    </tr>\n",
       "    <tr>\n",
       "      <th>14</th>\n",
       "      <td>0</td>\n",
       "      <td>-1844.956182</td>\n",
       "      <td>56</td>\n",
       "      <td>высшее</td>\n",
       "      <td>0</td>\n",
       "      <td>гражданский брак</td>\n",
       "      <td>1</td>\n",
       "      <td>F</td>\n",
       "      <td>компаньон</td>\n",
       "      <td>1</td>\n",
       "      <td>165127.911772</td>\n",
       "      <td>покупка жилой недвижимости</td>\n",
       "    </tr>\n",
       "    <tr>\n",
       "      <th>15</th>\n",
       "      <td>1</td>\n",
       "      <td>-972.364419</td>\n",
       "      <td>26</td>\n",
       "      <td>среднее</td>\n",
       "      <td>1</td>\n",
       "      <td>женат / замужем</td>\n",
       "      <td>0</td>\n",
       "      <td>F</td>\n",
       "      <td>сотрудник</td>\n",
       "      <td>0</td>\n",
       "      <td>116820.904450</td>\n",
       "      <td>строительство собственной недвижимости</td>\n",
       "    </tr>\n",
       "    <tr>\n",
       "      <th>16</th>\n",
       "      <td>0</td>\n",
       "      <td>-1719.934226</td>\n",
       "      <td>35</td>\n",
       "      <td>среднее</td>\n",
       "      <td>1</td>\n",
       "      <td>женат / замужем</td>\n",
       "      <td>0</td>\n",
       "      <td>F</td>\n",
       "      <td>сотрудник</td>\n",
       "      <td>0</td>\n",
       "      <td>289202.704229</td>\n",
       "      <td>недвижимость</td>\n",
       "    </tr>\n",
       "    <tr>\n",
       "      <th>17</th>\n",
       "      <td>0</td>\n",
       "      <td>-2369.999720</td>\n",
       "      <td>33</td>\n",
       "      <td>высшее</td>\n",
       "      <td>0</td>\n",
       "      <td>гражданский брак</td>\n",
       "      <td>1</td>\n",
       "      <td>M</td>\n",
       "      <td>сотрудник</td>\n",
       "      <td>0</td>\n",
       "      <td>90410.586745</td>\n",
       "      <td>строительство недвижимости</td>\n",
       "    </tr>\n",
       "    <tr>\n",
       "      <th>18</th>\n",
       "      <td>0</td>\n",
       "      <td>400281.136913</td>\n",
       "      <td>53</td>\n",
       "      <td>среднее</td>\n",
       "      <td>1</td>\n",
       "      <td>вдовец / вдова</td>\n",
       "      <td>2</td>\n",
       "      <td>F</td>\n",
       "      <td>пенсионер</td>\n",
       "      <td>0</td>\n",
       "      <td>56823.777243</td>\n",
       "      <td>на покупку подержанного автомобиля</td>\n",
       "    </tr>\n",
       "    <tr>\n",
       "      <th>19</th>\n",
       "      <td>0</td>\n",
       "      <td>-10038.818549</td>\n",
       "      <td>48</td>\n",
       "      <td>СРЕДНЕЕ</td>\n",
       "      <td>1</td>\n",
       "      <td>в разводе</td>\n",
       "      <td>3</td>\n",
       "      <td>F</td>\n",
       "      <td>сотрудник</td>\n",
       "      <td>0</td>\n",
       "      <td>242831.107982</td>\n",
       "      <td>на покупку своего автомобиля</td>\n",
       "    </tr>\n",
       "  </tbody>\n",
       "</table>\n",
       "</div>"
      ],
      "text/plain": [
       "    children  days_employed  dob_years            education  education_id  \\\n",
       "0          1   -8437.673028         42               высшее             0   \n",
       "1          1   -4024.803754         36              среднее             1   \n",
       "2          0   -5623.422610         33              Среднее             1   \n",
       "3          3   -4124.747207         32              среднее             1   \n",
       "4          0  340266.072047         53              среднее             1   \n",
       "5          0    -926.185831         27               высшее             0   \n",
       "6          0   -2879.202052         43               высшее             0   \n",
       "7          0    -152.779569         50              СРЕДНЕЕ             1   \n",
       "8          2   -6929.865299         35               ВЫСШЕЕ             0   \n",
       "9          0   -2188.756445         41              среднее             1   \n",
       "10         2   -4171.483647         36               высшее             0   \n",
       "11         0    -792.701887         40              среднее             1   \n",
       "12         0            NaN         65              среднее             1   \n",
       "13         0   -1846.641941         54  неоконченное высшее             2   \n",
       "14         0   -1844.956182         56               высшее             0   \n",
       "15         1    -972.364419         26              среднее             1   \n",
       "16         0   -1719.934226         35              среднее             1   \n",
       "17         0   -2369.999720         33               высшее             0   \n",
       "18         0  400281.136913         53              среднее             1   \n",
       "19         0  -10038.818549         48              СРЕДНЕЕ             1   \n",
       "\n",
       "       family_status  family_status_id gender income_type  debt  \\\n",
       "0    женат / замужем                 0      F   сотрудник     0   \n",
       "1    женат / замужем                 0      F   сотрудник     0   \n",
       "2    женат / замужем                 0      M   сотрудник     0   \n",
       "3    женат / замужем                 0      M   сотрудник     0   \n",
       "4   гражданский брак                 1      F   пенсионер     0   \n",
       "5   гражданский брак                 1      M   компаньон     0   \n",
       "6    женат / замужем                 0      F   компаньон     0   \n",
       "7    женат / замужем                 0      M   сотрудник     0   \n",
       "8   гражданский брак                 1      F   сотрудник     0   \n",
       "9    женат / замужем                 0      M   сотрудник     0   \n",
       "10   женат / замужем                 0      M   компаньон     0   \n",
       "11   женат / замужем                 0      F   сотрудник     0   \n",
       "12  гражданский брак                 1      M   пенсионер     0   \n",
       "13   женат / замужем                 0      F   сотрудник     0   \n",
       "14  гражданский брак                 1      F   компаньон     1   \n",
       "15   женат / замужем                 0      F   сотрудник     0   \n",
       "16   женат / замужем                 0      F   сотрудник     0   \n",
       "17  гражданский брак                 1      M   сотрудник     0   \n",
       "18    вдовец / вдова                 2      F   пенсионер     0   \n",
       "19         в разводе                 3      F   сотрудник     0   \n",
       "\n",
       "     total_income                                 purpose  \n",
       "0   253875.639453                           покупка жилья  \n",
       "1   112080.014102                 приобретение автомобиля  \n",
       "2   145885.952297                           покупка жилья  \n",
       "3   267628.550329              дополнительное образование  \n",
       "4   158616.077870                         сыграть свадьбу  \n",
       "5   255763.565419                           покупка жилья  \n",
       "6   240525.971920                       операции с жильем  \n",
       "7   135823.934197                             образование  \n",
       "8    95856.832424                   на проведение свадьбы  \n",
       "9   144425.938277                 покупка жилья для семьи  \n",
       "10  113943.491460                    покупка недвижимости  \n",
       "11   77069.234271       покупка коммерческой недвижимости  \n",
       "12            NaN                         сыграть свадьбу  \n",
       "13  130458.228857                 приобретение автомобиля  \n",
       "14  165127.911772              покупка жилой недвижимости  \n",
       "15  116820.904450  строительство собственной недвижимости  \n",
       "16  289202.704229                            недвижимость  \n",
       "17   90410.586745              строительство недвижимости  \n",
       "18   56823.777243      на покупку подержанного автомобиля  \n",
       "19  242831.107982            на покупку своего автомобиля  "
      ]
     },
     "execution_count": 2,
     "metadata": {},
     "output_type": "execute_result"
    }
   ],
   "source": [
    "data.head(20)"
   ]
  },
  {
   "cell_type": "markdown",
   "id": "7c091ddb",
   "metadata": {
    "deletable": false,
    "editable": false,
    "id": "1c12e233"
   },
   "source": [
    "**Задание 3. Выведите основную информацию о датафрейме с помощью метода `info()`.**"
   ]
  },
  {
   "cell_type": "code",
   "execution_count": 3,
   "id": "5b1a9a2e",
   "metadata": {
    "deletable": false,
    "id": "2b757bca",
    "outputId": "15376089-8dad-46c9-b520-c05248d43158"
   },
   "outputs": [
    {
     "name": "stdout",
     "output_type": "stream",
     "text": [
      "<class 'pandas.core.frame.DataFrame'>\n",
      "RangeIndex: 21525 entries, 0 to 21524\n",
      "Data columns (total 12 columns):\n",
      " #   Column            Non-Null Count  Dtype  \n",
      "---  ------            --------------  -----  \n",
      " 0   children          21525 non-null  int64  \n",
      " 1   days_employed     19351 non-null  float64\n",
      " 2   dob_years         21525 non-null  int64  \n",
      " 3   education         21525 non-null  object \n",
      " 4   education_id      21525 non-null  int64  \n",
      " 5   family_status     21525 non-null  object \n",
      " 6   family_status_id  21525 non-null  int64  \n",
      " 7   gender            21525 non-null  object \n",
      " 8   income_type       21525 non-null  object \n",
      " 9   debt              21525 non-null  int64  \n",
      " 10  total_income      19351 non-null  float64\n",
      " 11  purpose           21525 non-null  object \n",
      "dtypes: float64(2), int64(5), object(5)\n",
      "memory usage: 2.0+ MB\n"
     ]
    }
   ],
   "source": [
    "data.info()"
   ]
  },
  {
   "cell_type": "markdown",
   "id": "d2071e33",
   "metadata": {
    "deletable": false,
    "editable": false,
    "id": "333ec665"
   },
   "source": [
    "## Предобработка данных"
   ]
  },
  {
   "cell_type": "markdown",
   "id": "bb252af8",
   "metadata": {
    "deletable": false,
    "editable": false,
    "id": "02d92d53"
   },
   "source": [
    "### Удаление пропусков"
   ]
  },
  {
   "cell_type": "markdown",
   "id": "7018542a",
   "metadata": {
    "deletable": false,
    "editable": false,
    "id": "cd84967c"
   },
   "source": [
    "**Задание 4. Выведите количество пропущенных значений для каждого столбца. Используйте комбинацию двух методов.**"
   ]
  },
  {
   "cell_type": "code",
   "execution_count": 4,
   "id": "647116e0",
   "metadata": {
    "deletable": false,
    "id": "7f9b2309",
    "outputId": "81f4d817-781c-465c-ed15-91ce4446810d"
   },
   "outputs": [
    {
     "data": {
      "text/plain": [
       "children               0\n",
       "days_employed       2174\n",
       "dob_years              0\n",
       "education              0\n",
       "education_id           0\n",
       "family_status          0\n",
       "family_status_id       0\n",
       "gender                 0\n",
       "income_type            0\n",
       "debt                   0\n",
       "total_income        2174\n",
       "purpose                0\n",
       "dtype: int64"
      ]
     },
     "execution_count": 4,
     "metadata": {},
     "output_type": "execute_result"
    }
   ],
   "source": [
    "data.isna().sum()"
   ]
  },
  {
   "cell_type": "markdown",
   "id": "09cd7416",
   "metadata": {
    "deletable": false,
    "editable": false,
    "id": "db86e27b"
   },
   "source": [
    "**Задание 5. В двух столбцах есть пропущенные значения. Один из них — `days_employed`. Пропуски в этом столбце вы обработаете на следующем этапе. Другой столбец с пропущенными значениями — `total_income` — хранит данные о доходах. На сумму дохода сильнее всего влияет тип занятости, поэтому заполнить пропуски в этом столбце нужно медианным значением по каждому типу из столбца `income_type`. Например, у человека с типом занятости `сотрудник` пропуск в столбце `total_income` должен быть заполнен медианным доходом среди всех записей с тем же типом.**"
   ]
  },
  {
   "cell_type": "code",
   "execution_count": 5,
   "id": "89f071bf",
   "metadata": {
    "deletable": false,
    "id": "42006a93"
   },
   "outputs": [],
   "source": [
    "for t in data['income_type'].unique():\n",
    "    data.loc[(data['income_type'] == t) & (data['total_income'].isna()), 'total_income'] = \\\n",
    "    data.loc[(data['income_type'] == t), 'total_income'].median()"
   ]
  },
  {
   "cell_type": "markdown",
   "id": "6cc9f1b4",
   "metadata": {
    "deletable": false,
    "editable": false,
    "id": "89da5ece"
   },
   "source": [
    "### Обработка аномальных значений"
   ]
  },
  {
   "cell_type": "markdown",
   "id": "253032c1",
   "metadata": {
    "deletable": false,
    "editable": false,
    "id": "57964554"
   },
   "source": [
    "**Задание 6. В данных могут встречаться артефакты (аномалии) — значения, которые не отражают действительность и появились по какой-то ошибке. таким артефактом будет отрицательное количество дней трудового стажа в столбце `days_employed`. Для реальных данных это нормально. Обработайте значения в этом столбце: замените все отрицательные значения положительными с помощью метода `abs()`.**"
   ]
  },
  {
   "cell_type": "code",
   "execution_count": 6,
   "id": "aafc384e",
   "metadata": {
    "deletable": false,
    "id": "f6f055bf"
   },
   "outputs": [],
   "source": [
    "data['days_employed'] = data['days_employed'].abs()"
   ]
  },
  {
   "cell_type": "markdown",
   "id": "55d47daf",
   "metadata": {
    "deletable": false,
    "editable": false,
    "id": "6107dd2f"
   },
   "source": [
    "**Задание 7. Для каждого типа занятости выведите медианное значение трудового стажа `days_employed` в днях.**"
   ]
  },
  {
   "cell_type": "code",
   "execution_count": 7,
   "id": "3db28493",
   "metadata": {
    "deletable": false,
    "id": "85a5faf6",
    "outputId": "801ef80e-522b-4668-f34e-565af7432bcf"
   },
   "outputs": [
    {
     "data": {
      "text/plain": [
       "income_type\n",
       "безработный        366413.652744\n",
       "в декрете            3296.759962\n",
       "госслужащий          2689.368353\n",
       "компаньон            1547.382223\n",
       "пенсионер          365213.306266\n",
       "предприниматель       520.848083\n",
       "сотрудник            1574.202821\n",
       "студент               578.751554\n",
       "Name: days_employed, dtype: float64"
      ]
     },
     "execution_count": 7,
     "metadata": {},
     "output_type": "execute_result"
    }
   ],
   "source": [
    "data.groupby('income_type')['days_employed'].agg('median')"
   ]
  },
  {
   "cell_type": "markdown",
   "id": "23cad97a",
   "metadata": {
    "deletable": false,
    "editable": false,
    "id": "38d1a030"
   },
   "source": [
    "У двух типов (безработные и пенсионеры) получатся аномально большие значения. Исправить такие значения сложно, поэтому оставьте их как есть. Тем более этот столбец не понадобится вам для исследования."
   ]
  },
  {
   "cell_type": "markdown",
   "id": "c4255916",
   "metadata": {
    "deletable": false,
    "editable": false,
    "id": "d8a9f147"
   },
   "source": [
    "**Задание 8. Выведите перечень уникальных значений столбца `children`.**"
   ]
  },
  {
   "cell_type": "code",
   "execution_count": 8,
   "id": "6f72b46e",
   "metadata": {
    "deletable": false,
    "id": "ef5056eb",
    "outputId": "6975b15c-7f95-4697-d16d-a0c79b657b03"
   },
   "outputs": [
    {
     "data": {
      "text/plain": [
       "array([ 1,  0,  3,  2, -1,  4, 20,  5])"
      ]
     },
     "execution_count": 8,
     "metadata": {},
     "output_type": "execute_result"
    }
   ],
   "source": [
    "data['children'].unique()"
   ]
  },
  {
   "cell_type": "markdown",
   "id": "fc391243",
   "metadata": {
    "deletable": false,
    "editable": false,
    "id": "40b9ebf2"
   },
   "source": [
    "**Задание 9. В столбце `children` есть два аномальных значения. Удалите строки, в которых встречаются такие аномальные значения из датафрейма `data`.**"
   ]
  },
  {
   "cell_type": "code",
   "execution_count": 9,
   "id": "419e2c0e",
   "metadata": {
    "deletable": false,
    "id": "3ff9801d"
   },
   "outputs": [],
   "source": [
    "data = data[(data['children'] != -1) & (data['children'] != 20)]"
   ]
  },
  {
   "cell_type": "markdown",
   "id": "02b450ff",
   "metadata": {
    "deletable": false,
    "editable": false,
    "id": "bbc4d0ce"
   },
   "source": [
    "**Задание 10. Ещё раз выведите перечень уникальных значений столбца `children`, чтобы убедиться, что артефакты удалены.**"
   ]
  },
  {
   "cell_type": "code",
   "execution_count": 10,
   "id": "c4e7ba54",
   "metadata": {
    "deletable": false,
    "id": "ad4fa8b7",
    "outputId": "b2097101-d49d-44d9-901b-32a65c9463d1"
   },
   "outputs": [
    {
     "data": {
      "text/plain": [
       "array([1, 0, 3, 2, 4, 5])"
      ]
     },
     "execution_count": 10,
     "metadata": {},
     "output_type": "execute_result"
    }
   ],
   "source": [
    "data['children'].unique()"
   ]
  },
  {
   "cell_type": "markdown",
   "id": "014edee5",
   "metadata": {
    "deletable": false,
    "editable": false,
    "id": "75440b63"
   },
   "source": [
    "### Удаление пропусков (продолжение)"
   ]
  },
  {
   "cell_type": "markdown",
   "id": "93ff0659",
   "metadata": {
    "deletable": false,
    "editable": false,
    "id": "f4ea573f"
   },
   "source": [
    "**Задание 11. Заполните пропуски в столбце `days_employed` медианными значениями по каждого типа занятости `income_type`.**"
   ]
  },
  {
   "cell_type": "code",
   "execution_count": 11,
   "id": "6410043b",
   "metadata": {
    "deletable": false,
    "id": "af6b1a7e"
   },
   "outputs": [],
   "source": [
    "for t in data['income_type'].unique():\n",
    "    data.loc[(data['income_type'] == t) & (data['days_employed'].isna()), 'days_employed'] = \\\n",
    "    data.loc[(data['income_type'] == t), 'days_employed'].median()"
   ]
  },
  {
   "cell_type": "markdown",
   "id": "2cc1b1fc",
   "metadata": {
    "deletable": false,
    "editable": false,
    "id": "2753f40d"
   },
   "source": [
    "**Задание 12. Убедитесь, что все пропуски заполнены. Проверьте себя и ещё раз выведите количество пропущенных значений для каждого столбца с помощью двух методов.**"
   ]
  },
  {
   "cell_type": "code",
   "execution_count": 12,
   "id": "2a5121e3",
   "metadata": {
    "deletable": false,
    "id": "55f78bc2",
    "outputId": "8da1e4e1-358e-4e87-98c9-f261bce0a7b2"
   },
   "outputs": [
    {
     "data": {
      "text/plain": [
       "children            0\n",
       "days_employed       0\n",
       "dob_years           0\n",
       "education           0\n",
       "education_id        0\n",
       "family_status       0\n",
       "family_status_id    0\n",
       "gender              0\n",
       "income_type         0\n",
       "debt                0\n",
       "total_income        0\n",
       "purpose             0\n",
       "dtype: int64"
      ]
     },
     "execution_count": 12,
     "metadata": {},
     "output_type": "execute_result"
    }
   ],
   "source": [
    "data.isna().sum()"
   ]
  },
  {
   "cell_type": "markdown",
   "id": "f613063c",
   "metadata": {
    "deletable": false,
    "editable": false,
    "id": "ddc81e43"
   },
   "source": [
    "### Изменение типов данных"
   ]
  },
  {
   "cell_type": "markdown",
   "id": "930a6a74",
   "metadata": {
    "deletable": false,
    "editable": false,
    "id": "42d19d24"
   },
   "source": [
    "**Задание 13. Замените вещественный тип данных в столбце `total_income` на целочисленный с помощью метода `astype()`.**"
   ]
  },
  {
   "cell_type": "code",
   "execution_count": 13,
   "id": "cb2b250d",
   "metadata": {
    "deletable": false,
    "id": "920b65ad"
   },
   "outputs": [],
   "source": [
    "data['total_income'] = data['total_income'].astype(int)"
   ]
  },
  {
   "cell_type": "markdown",
   "id": "70d64408",
   "metadata": {
    "deletable": false,
    "editable": false,
    "id": "80c420ba"
   },
   "source": [
    "### Обработка дубликатов"
   ]
  },
  {
   "cell_type": "markdown",
   "id": "f88be467",
   "metadata": {
    "deletable": false,
    "editable": false
   },
   "source": [
    "**Задание 14. Обработайте неявные дубликаты в столбце `education`. В этом столбце есть одни и те же значения, но записанные по-разному: с использованием заглавных и строчных букв. Приведите их к нижнему регистру. Проверьте остальные столбцы.**"
   ]
  },
  {
   "cell_type": "code",
   "execution_count": 14,
   "id": "e90c9104",
   "metadata": {
    "deletable": false
   },
   "outputs": [],
   "source": [
    "data['education'] = data['education'].str.lower()"
   ]
  },
  {
   "cell_type": "markdown",
   "id": "b57c5d70",
   "metadata": {
    "deletable": false,
    "editable": false,
    "id": "dc587695"
   },
   "source": [
    "**Задание 15. Выведите на экран количество строк-дубликатов в данных. Если такие строки присутствуют, удалите их.**"
   ]
  },
  {
   "cell_type": "code",
   "execution_count": 15,
   "id": "e6fb102f",
   "metadata": {
    "deletable": false,
    "id": "3ee445e4",
    "outputId": "9684deba-1934-42d1-99e1-cda61740f822"
   },
   "outputs": [
    {
     "data": {
      "text/plain": [
       "71"
      ]
     },
     "execution_count": 15,
     "metadata": {},
     "output_type": "execute_result"
    }
   ],
   "source": [
    "data.duplicated().sum()"
   ]
  },
  {
   "cell_type": "code",
   "execution_count": 16,
   "id": "ae8ba6d1",
   "metadata": {
    "deletable": false,
    "id": "8575fe05"
   },
   "outputs": [],
   "source": [
    "data = data.drop_duplicates()"
   ]
  },
  {
   "cell_type": "markdown",
   "id": "0d6200e6",
   "metadata": {
    "deletable": false,
    "editable": false,
    "id": "9904cf55"
   },
   "source": [
    "### Категоризация данных"
   ]
  },
  {
   "cell_type": "markdown",
   "id": "068b974a",
   "metadata": {
    "deletable": false,
    "editable": false,
    "id": "72fcc8a2"
   },
   "source": [
    "**Задание 16. На основании диапазонов, указанных ниже, создайте в датафрейме `data` столбец `total_income_category` с категориями:**\n",
    "\n",
    "- 0–30000 — `'E'`;\n",
    "- 30001–50000 — `'D'`;\n",
    "- 50001–200000 — `'C'`;\n",
    "- 200001–1000000 — `'B'`;\n",
    "- 1000001 и выше — `'A'`.\n",
    "\n",
    "\n",
    "**Например, кредитополучателю с доходом 25000 нужно назначить категорию `'E'`, а клиенту, получающему 235000, — `'B'`. Используйте собственную функцию с именем `categorize_income()` и метод `apply()`.**"
   ]
  },
  {
   "cell_type": "code",
   "execution_count": 17,
   "id": "3844a350",
   "metadata": {
    "deletable": false,
    "id": "e1771346"
   },
   "outputs": [],
   "source": [
    "def categorize_income(income):\n",
    "    try:\n",
    "        if 0 <= income <= 30000:\n",
    "            return 'E'\n",
    "        elif 30001 <= income <= 50000:\n",
    "            return 'D'\n",
    "        elif 50001 <= income <= 200000:\n",
    "            return 'C'\n",
    "        elif 200001 <= income <= 1000000:\n",
    "            return 'B'\n",
    "        elif income >= 1000001:\n",
    "            return 'A'\n",
    "    except:\n",
    "        pass"
   ]
  },
  {
   "cell_type": "code",
   "execution_count": 18,
   "id": "953f53eb",
   "metadata": {
    "deletable": false,
    "id": "d5f3586d"
   },
   "outputs": [],
   "source": [
    "data['total_income_category'] = data['total_income'].apply(categorize_income)"
   ]
  },
  {
   "cell_type": "markdown",
   "id": "bd78b961",
   "metadata": {
    "deletable": false,
    "editable": false,
    "id": "dde49b5c"
   },
   "source": [
    "**Задание 17. Выведите на экран перечень уникальных целей взятия кредита из столбца `purpose`.**"
   ]
  },
  {
   "cell_type": "code",
   "execution_count": 19,
   "id": "dbe45666",
   "metadata": {
    "deletable": false,
    "id": "f67ce9b3",
    "outputId": "673c12d9-7d7e-4ae0-9812-c622c89dd244"
   },
   "outputs": [
    {
     "data": {
      "text/plain": [
       "array(['покупка жилья', 'приобретение автомобиля',\n",
       "       'дополнительное образование', 'сыграть свадьбу',\n",
       "       'операции с жильем', 'образование', 'на проведение свадьбы',\n",
       "       'покупка жилья для семьи', 'покупка недвижимости',\n",
       "       'покупка коммерческой недвижимости', 'покупка жилой недвижимости',\n",
       "       'строительство собственной недвижимости', 'недвижимость',\n",
       "       'строительство недвижимости', 'на покупку подержанного автомобиля',\n",
       "       'на покупку своего автомобиля',\n",
       "       'операции с коммерческой недвижимостью',\n",
       "       'строительство жилой недвижимости', 'жилье',\n",
       "       'операции со своей недвижимостью', 'автомобили',\n",
       "       'заняться образованием', 'сделка с подержанным автомобилем',\n",
       "       'получение образования', 'автомобиль', 'свадьба',\n",
       "       'получение дополнительного образования', 'покупка своего жилья',\n",
       "       'операции с недвижимостью', 'получение высшего образования',\n",
       "       'свой автомобиль', 'сделка с автомобилем',\n",
       "       'профильное образование', 'высшее образование',\n",
       "       'покупка жилья для сдачи', 'на покупку автомобиля', 'ремонт жилью',\n",
       "       'заняться высшим образованием'], dtype=object)"
      ]
     },
     "execution_count": 19,
     "metadata": {},
     "output_type": "execute_result"
    }
   ],
   "source": [
    "data['purpose'].unique()"
   ]
  },
  {
   "cell_type": "markdown",
   "id": "fafddd73",
   "metadata": {
    "deletable": false,
    "editable": false,
    "id": "85d0aef0"
   },
   "source": [
    "**Задание 18. Создайте функцию, которая на основании данных из столбца `purpose` сформирует новый столбец `purpose_category`, в который войдут следующие категории:**\n",
    "\n",
    "- `'операции с автомобилем'`,\n",
    "- `'операции с недвижимостью'`,\n",
    "- `'проведение свадьбы'`,\n",
    "- `'получение образования'`.\n",
    "\n",
    "**Например, если в столбце `purpose` находится подстрока `'на покупку автомобиля'`, то в столбце `purpose_category` должна появиться строка `'операции с автомобилем'`.**\n",
    "\n",
    "**Используйте собственную функцию с именем `categorize_purpose()` и метод `apply()`. Изучите данные в столбце `purpose` и определите, какие подстроки помогут вам правильно определить категорию.**"
   ]
  },
  {
   "cell_type": "code",
   "execution_count": 20,
   "id": "663df281",
   "metadata": {
    "deletable": false,
    "id": "e149fab4"
   },
   "outputs": [],
   "source": [
    "def categorize_purpose(row):\n",
    "    try:\n",
    "        if 'автом' in row:\n",
    "            return 'операции с автомобилем'\n",
    "        elif 'жил' in row or 'недвиж' in row:\n",
    "            return 'операции с недвижимостью'\n",
    "        elif 'свад' in row:\n",
    "            return 'проведение свадьбы'\n",
    "        elif 'образов' in row:\n",
    "            return 'получение образования'\n",
    "    except:\n",
    "        return 'нет категории'"
   ]
  },
  {
   "cell_type": "code",
   "execution_count": 21,
   "id": "90119ec3",
   "metadata": {
    "deletable": false,
    "id": "bf36e69b"
   },
   "outputs": [],
   "source": [
    "data['purpose_category'] = data['purpose'].apply(categorize_purpose)"
   ]
  },
  {
   "cell_type": "markdown",
   "id": "3d78643d",
   "metadata": {
    "deletable": false,
    "editable": false,
    "id": "09b242bf"
   },
   "source": [
    "### Шаг 3. Исследуйте данные и ответьте на вопросы"
   ]
  },
  {
   "cell_type": "markdown",
   "id": "0ad39bd1",
   "metadata": {
    "deletable": false,
    "editable": false,
    "id": "c5d66278"
   },
   "source": [
    "#### 3.1 Есть ли зависимость между количеством детей и возвратом кредита в срок?"
   ]
  },
  {
   "cell_type": "code",
   "execution_count": 22,
   "id": "ee265565",
   "metadata": {
    "deletable": false,
    "id": "2cacfc4a"
   },
   "outputs": [
    {
     "data": {
      "text/plain": [
       "children\n",
       "0    1063\n",
       "1     444\n",
       "2     194\n",
       "3      27\n",
       "4       4\n",
       "5       0\n",
       "Name: debt, dtype: int64"
      ]
     },
     "execution_count": 22,
     "metadata": {},
     "output_type": "execute_result"
    }
   ],
   "source": [
    "# Ваш код будет здесь. Вы можете создавать новые ячейки.\n",
    "\n",
    "# Для поиска ответа нам понадобятся столбцы:\n",
    "# children (количество детей в семье) и debt (статус задолженности по возврату кредитов).\n",
    "\n",
    "# Сгруппируем должников по количеству детей:\n",
    "debt_by_children = data.groupby('children')['debt'].sum('debt')\n",
    "debt_by_children"
   ]
  },
  {
   "cell_type": "code",
   "execution_count": 23,
   "id": "f5f34a6d",
   "metadata": {},
   "outputs": [
    {
     "data": {
      "text/plain": [
       "True"
      ]
     },
     "execution_count": 23,
     "metadata": {},
     "output_type": "execute_result"
    }
   ],
   "source": [
    "# Самопроверка: убедимся, что сумма должников по группам совпадает с суммой по всему столбцу 'debt'.\n",
    "debt_by_children.sum() == data['debt'].sum()"
   ]
  },
  {
   "cell_type": "markdown",
   "id": "a20d58d4",
   "metadata": {
    "deletable": false,
    "id": "3a6b99ec"
   },
   "source": [
    "**Вывод**\n",
    "\n",
    "Видна зависимость: чем больше детей, тем меньше должников.<br>\n",
    "Ответственность за свою семью мотивирует людей на поиск дохода и избавление от долгов."
   ]
  },
  {
   "cell_type": "markdown",
   "id": "04d6939c",
   "metadata": {},
   "source": [
    "<font color=\"green\">✔️ Комментарий ревьювера    \n",
    "Вывод верный, получается, что клиенты без детей являются более ответственными при погашении кредита.</font\n",
    "\n",
    "    \n",
    "<font color=\"red\">❌ Комментарий ревьювера     \n",
    "Можно использовать функцию groupby, но крайне желательно хотя бы пару раз применить pivot_table. И подсчет процента у тебя не сделан. Это число должников конкретной категории :) . В идеале желательно сделать табличку, где будет столбец с числом людей, число должников и процентом должников: \n",
    "Всего кредитополучателей - Всего должников - Доля должников\n",
    "    \n",
    "По графику все красиво, но нужно пояснение, что по осям. Например: число должников<font>\n"
   ]
  },
  {
   "cell_type": "markdown",
   "id": "752fb6b1",
   "metadata": {},
   "source": [
    "<font color=\"darkblue\"> Для исправления применю здесь единственное решение, которое не привело к красному крестику :)<br>\n",
    "(из вопроса 3.4 \"Как разные цели кредита влияют на его возврат в срок?\") <br>\n",
    "    \n",
    "График пока добавлять не буду, чтобы не отвлекаться от самого решения."
   ]
  },
  {
   "cell_type": "code",
   "execution_count": 26,
   "id": "7943785a",
   "metadata": {},
   "outputs": [
    {
     "data": {
      "text/html": [
       "<div>\n",
       "<style scoped>\n",
       "    .dataframe tbody tr th:only-of-type {\n",
       "        vertical-align: middle;\n",
       "    }\n",
       "\n",
       "    .dataframe tbody tr th {\n",
       "        vertical-align: top;\n",
       "    }\n",
       "\n",
       "    .dataframe thead tr th {\n",
       "        text-align: left;\n",
       "    }\n",
       "\n",
       "    .dataframe thead tr:last-of-type th {\n",
       "        text-align: right;\n",
       "    }\n",
       "</style>\n",
       "<table border=\"1\" class=\"dataframe\">\n",
       "  <thead>\n",
       "    <tr>\n",
       "      <th></th>\n",
       "      <th colspan=\"3\" halign=\"left\">debt</th>\n",
       "    </tr>\n",
       "    <tr>\n",
       "      <th></th>\n",
       "      <th>count</th>\n",
       "      <th>sum</th>\n",
       "      <th>part, %</th>\n",
       "    </tr>\n",
       "    <tr>\n",
       "      <th>children</th>\n",
       "      <th></th>\n",
       "      <th></th>\n",
       "      <th></th>\n",
       "    </tr>\n",
       "  </thead>\n",
       "  <tbody>\n",
       "    <tr>\n",
       "      <th>0</th>\n",
       "      <td>14091</td>\n",
       "      <td>1063</td>\n",
       "      <td>7.543822</td>\n",
       "    </tr>\n",
       "    <tr>\n",
       "      <th>1</th>\n",
       "      <td>4808</td>\n",
       "      <td>444</td>\n",
       "      <td>9.234609</td>\n",
       "    </tr>\n",
       "    <tr>\n",
       "      <th>2</th>\n",
       "      <td>2052</td>\n",
       "      <td>194</td>\n",
       "      <td>9.454191</td>\n",
       "    </tr>\n",
       "    <tr>\n",
       "      <th>3</th>\n",
       "      <td>330</td>\n",
       "      <td>27</td>\n",
       "      <td>8.181818</td>\n",
       "    </tr>\n",
       "    <tr>\n",
       "      <th>4</th>\n",
       "      <td>41</td>\n",
       "      <td>4</td>\n",
       "      <td>9.756098</td>\n",
       "    </tr>\n",
       "    <tr>\n",
       "      <th>5</th>\n",
       "      <td>9</td>\n",
       "      <td>0</td>\n",
       "      <td>0.000000</td>\n",
       "    </tr>\n",
       "  </tbody>\n",
       "</table>\n",
       "</div>"
      ],
      "text/plain": [
       "           debt                \n",
       "          count   sum   part, %\n",
       "children                       \n",
       "0         14091  1063  7.543822\n",
       "1          4808   444  9.234609\n",
       "2          2052   194  9.454191\n",
       "3           330    27  8.181818\n",
       "4            41     4  9.756098\n",
       "5             9     0  0.000000"
      ]
     },
     "execution_count": 26,
     "metadata": {},
     "output_type": "execute_result"
    }
   ],
   "source": [
    "# Сгруппируем по столбцу 'children' (количество детей), \n",
    "# посчитаем общее количество кредитов по каждой категории через count() и суммируем все просроченные платежи через sum().\n",
    "# Эти вычисления помогут посчитать долю просрочек по каждой категории:\n",
    "\n",
    "debt_by_children = data.groupby(['children']).agg({'debt':['count', 'sum']})\n",
    "\n",
    "debt_by_children[('debt', 'part, %')] = debt_by_children[('debt', 'sum')] / debt_by_children[('debt', 'count')]*100\n",
    "\n",
    "debt_by_children"
   ]
  },
  {
   "cell_type": "markdown",
   "id": "b017c6e7",
   "metadata": {},
   "source": [
    "**Вывод**\n",
    "\n",
    "Видна зависимость: чем больше детей, тем меньше должников.<br>\n",
    "\n",
    "Но если смотреть по процентам просрочки в каждой категории, именно заемщики без детей показыват наименьший процент просрочек - 7.5%<br>\n",
    "\n",
    "Далее - рост: чем больше детей, тем больше % просрочек.<br>\n",
    "Выбивается из общей картины категория с 3 детьми, но и там процент заметно выше, чем у категории без детей."
   ]
  },
  {
   "cell_type": "markdown",
   "id": "463df295",
   "metadata": {},
   "source": [
    "<font color=\"green\">✔️ Комментарий ревьювера 2    \n",
    "Мы смотрим по процентам ,а не по абсолютным цифрам. Получается, что клиенты без детей являются более ответственными при погашении кредита. Отлично, что проверяешь еще и количество заемщиков. Видно, что база клиентов с 4 и 5 детьми очень маленькая</font>\n"
   ]
  },
  {
   "cell_type": "markdown",
   "id": "82f695ad",
   "metadata": {
    "deletable": false,
    "editable": false,
    "id": "97be82ca"
   },
   "source": [
    "#### 3.2 Есть ли зависимость между семейным положением и возвратом кредита в срок?"
   ]
  },
  {
   "cell_type": "code",
   "execution_count": 29,
   "id": "58ee57b1",
   "metadata": {
    "deletable": false,
    "id": "dc3f7ee8"
   },
   "outputs": [
    {
     "data": {
      "text/plain": [
       "family_status\n",
       "женат / замужем          927\n",
       "гражданский брак         385\n",
       "Не женат / не замужем    273\n",
       "в разводе                 84\n",
       "вдовец / вдова            63\n",
       "Name: debt, dtype: int64"
      ]
     },
     "execution_count": 29,
     "metadata": {},
     "output_type": "execute_result"
    }
   ],
   "source": [
    "# Ваш код будет здесь. Вы можете создавать новые ячейки.\n",
    "\n",
    "#  Решение аналогично предыдущему. Для поиска ответа нам понадобятся столбцы:\n",
    "# 'family_status' (семейное положение) и debt (статус задолженности по возврату кредитов)\n",
    "\n",
    "debt_by_family_status = data.groupby('family_status')['debt'].sum('debt') # Сгруппируем должников по семейному статусу.\n",
    "debt_by_family_status.sort_values(ascending=False)  # Отсортируем результаты по убыванию."
   ]
  },
  {
   "cell_type": "code",
   "execution_count": 30,
   "id": "42362839",
   "metadata": {},
   "outputs": [
    {
     "data": {
      "text/plain": [
       "True"
      ]
     },
     "execution_count": 30,
     "metadata": {},
     "output_type": "execute_result"
    }
   ],
   "source": [
    "# Самопроверка: убедимся, что сумма должников по группам совпадает с суммой по всему столбцу 'debt'.\n",
    "debt_by_family_status.sum() == data['debt'].sum()"
   ]
  },
  {
   "cell_type": "markdown",
   "id": "642aea3e",
   "metadata": {
    "deletable": false,
    "id": "1cef7837"
   },
   "source": [
    "**Вывод:** <br>\n",
    "Больше всего просрочек у женатых/замужних, а также у живущих в гражданском браке. Возможно, не торопятся с оплатой, так как уверены в своей платежеспособности. <br>\n",
    "Меньше всего просрочек у разведенных и вдовцов. Такие люди полагаются только на себя и не позволяют себе лишних долгов. <br>\n",
    "\n",
    "Зависимость прослеживается, но нарушает логику категория 'Не женат / не замужем'. <br>\n",
    "Как и разведенные, они тоже одиноки. Но, видимо, легкомысленны и не чувствуют ответственности, в том числе и перед кредиторами."
   ]
  },
  {
   "cell_type": "markdown",
   "id": "99f09b4b",
   "metadata": {},
   "source": [
    "Комментарий ревьюера ✔️\n",
    "Верно, получается что состоящие или состоявшие в браке заемщики лучше платят по кредитам чем холостые.\n",
    "\n",
    "<font color=\"red\">❌ Комментарий ревьювера       \n",
    "Такое же замечание, что и выше :)</font>  \n"
   ]
  },
  {
   "cell_type": "markdown",
   "id": "51179461",
   "metadata": {},
   "source": [
    "<font color=\"darkblue\"> Исправляю аналогично решению выше.<br>"
   ]
  },
  {
   "cell_type": "code",
   "execution_count": 31,
   "id": "3cbf1a09",
   "metadata": {},
   "outputs": [
    {
     "data": {
      "text/html": [
       "<div>\n",
       "<style scoped>\n",
       "    .dataframe tbody tr th:only-of-type {\n",
       "        vertical-align: middle;\n",
       "    }\n",
       "\n",
       "    .dataframe tbody tr th {\n",
       "        vertical-align: top;\n",
       "    }\n",
       "\n",
       "    .dataframe thead tr th {\n",
       "        text-align: left;\n",
       "    }\n",
       "\n",
       "    .dataframe thead tr:last-of-type th {\n",
       "        text-align: right;\n",
       "    }\n",
       "</style>\n",
       "<table border=\"1\" class=\"dataframe\">\n",
       "  <thead>\n",
       "    <tr>\n",
       "      <th></th>\n",
       "      <th colspan=\"3\" halign=\"left\">debt</th>\n",
       "    </tr>\n",
       "    <tr>\n",
       "      <th></th>\n",
       "      <th>count</th>\n",
       "      <th>sum</th>\n",
       "      <th>part, %</th>\n",
       "    </tr>\n",
       "    <tr>\n",
       "      <th>family_status</th>\n",
       "      <th></th>\n",
       "      <th></th>\n",
       "      <th></th>\n",
       "    </tr>\n",
       "  </thead>\n",
       "  <tbody>\n",
       "    <tr>\n",
       "      <th>Не женат / не замужем</th>\n",
       "      <td>2796</td>\n",
       "      <td>273</td>\n",
       "      <td>9.763948</td>\n",
       "    </tr>\n",
       "    <tr>\n",
       "      <th>в разводе</th>\n",
       "      <td>1189</td>\n",
       "      <td>84</td>\n",
       "      <td>7.064760</td>\n",
       "    </tr>\n",
       "    <tr>\n",
       "      <th>вдовец / вдова</th>\n",
       "      <td>951</td>\n",
       "      <td>63</td>\n",
       "      <td>6.624606</td>\n",
       "    </tr>\n",
       "    <tr>\n",
       "      <th>гражданский брак</th>\n",
       "      <td>4134</td>\n",
       "      <td>385</td>\n",
       "      <td>9.313014</td>\n",
       "    </tr>\n",
       "    <tr>\n",
       "      <th>женат / замужем</th>\n",
       "      <td>12261</td>\n",
       "      <td>927</td>\n",
       "      <td>7.560558</td>\n",
       "    </tr>\n",
       "  </tbody>\n",
       "</table>\n",
       "</div>"
      ],
      "text/plain": [
       "                        debt               \n",
       "                       count  sum   part, %\n",
       "family_status                              \n",
       "Не женат / не замужем   2796  273  9.763948\n",
       "в разводе               1189   84  7.064760\n",
       "вдовец / вдова           951   63  6.624606\n",
       "гражданский брак        4134  385  9.313014\n",
       "женат / замужем        12261  927  7.560558"
      ]
     },
     "execution_count": 31,
     "metadata": {},
     "output_type": "execute_result"
    }
   ],
   "source": [
    "# Сгруппируем по столбцу 'children' (количество детей), \n",
    "# посчитаем общее количество кредитов по каждой категории через count() и суммируем все просроченные платежи через sum().\n",
    "# Эти вычисления помогут посчитать долю просрочек по каждой категории:\n",
    "\n",
    "debt_by_family_status = data.groupby(['family_status']).agg({'debt':['count', 'sum']})\n",
    "\n",
    "debt_by_family_status[('debt', 'part, %')] = debt_by_family_status[('debt', 'sum')] / debt_by_family_status[('debt', 'count')]*100\n",
    "\n",
    "debt_by_family_status"
   ]
  },
  {
   "cell_type": "markdown",
   "id": "e8cc6236",
   "metadata": {},
   "source": [
    "**Вывод**\n",
    "\n",
    "Минимальная доля просрочек в категории вдовцов.<br>\n",
    "Такие люди полагаются только на себя и не позволяют себе лишних долгов.<br>\n",
    "Возможно, по той же причине, небольшой процент просрочек и в категории 'в разводе'.<br>\n",
    "\n",
    "У женатых / замужних тоже умеренный процент: финансовой стабильности больше.\n",
    "\n",
    "Больше всего просрочек по платежам у людей, состоящих в гражданском браке, и не женатых / не замужних.<br>\n",
    "Получается, многие из этих категорий легкомысленны и не чувствуют ответственности, в том числе и перед кредиторами."
   ]
  },
  {
   "cell_type": "markdown",
   "id": "8f54310a",
   "metadata": {},
   "source": [
    "<font color=\"brown\">⚠️ Комментарий ревьювера 2    \n",
    "Вывод верный. Если клиент не женат или не был женат - то вероятность просрочки выше. Попробуй через сводную таблицу "
   ]
  },
  {
   "cell_type": "code",
   "execution_count": 42,
   "id": "0fac905c",
   "metadata": {},
   "outputs": [
    {
     "data": {
      "text/html": [
       "<div>\n",
       "<style scoped>\n",
       "    .dataframe tbody tr th:only-of-type {\n",
       "        vertical-align: middle;\n",
       "    }\n",
       "\n",
       "    .dataframe tbody tr th {\n",
       "        vertical-align: top;\n",
       "    }\n",
       "\n",
       "    .dataframe thead tr th {\n",
       "        text-align: left;\n",
       "    }\n",
       "\n",
       "    .dataframe thead tr:last-of-type th {\n",
       "        text-align: right;\n",
       "    }\n",
       "</style>\n",
       "<table border=\"1\" class=\"dataframe\">\n",
       "  <thead>\n",
       "    <tr>\n",
       "      <th></th>\n",
       "      <th>count</th>\n",
       "      <th>sum</th>\n",
       "      <th>mean</th>\n",
       "    </tr>\n",
       "    <tr>\n",
       "      <th></th>\n",
       "      <th>debt</th>\n",
       "      <th>debt</th>\n",
       "      <th>debt</th>\n",
       "    </tr>\n",
       "    <tr>\n",
       "      <th>family_status</th>\n",
       "      <th></th>\n",
       "      <th></th>\n",
       "      <th></th>\n",
       "    </tr>\n",
       "  </thead>\n",
       "  <tbody>\n",
       "    <tr>\n",
       "      <th>Не женат / не замужем</th>\n",
       "      <td>2796</td>\n",
       "      <td>273</td>\n",
       "      <td>0.097639</td>\n",
       "    </tr>\n",
       "    <tr>\n",
       "      <th>в разводе</th>\n",
       "      <td>1189</td>\n",
       "      <td>84</td>\n",
       "      <td>0.070648</td>\n",
       "    </tr>\n",
       "    <tr>\n",
       "      <th>вдовец / вдова</th>\n",
       "      <td>951</td>\n",
       "      <td>63</td>\n",
       "      <td>0.066246</td>\n",
       "    </tr>\n",
       "    <tr>\n",
       "      <th>гражданский брак</th>\n",
       "      <td>4134</td>\n",
       "      <td>385</td>\n",
       "      <td>0.093130</td>\n",
       "    </tr>\n",
       "    <tr>\n",
       "      <th>женат / замужем</th>\n",
       "      <td>12261</td>\n",
       "      <td>927</td>\n",
       "      <td>0.075606</td>\n",
       "    </tr>\n",
       "  </tbody>\n",
       "</table>\n",
       "</div>"
      ],
      "text/plain": [
       "                       count  sum      mean\n",
       "                        debt debt      debt\n",
       "family_status                              \n",
       "Не женат / не замужем   2796  273  0.097639\n",
       "в разводе               1189   84  0.070648\n",
       "вдовец / вдова           951   63  0.066246\n",
       "гражданский брак        4134  385  0.093130\n",
       "женат / замужем        12261  927  0.075606"
      ]
     },
     "metadata": {},
     "output_type": "display_data"
    }
   ],
   "source": [
    "data_pivot_family_status = data.pivot_table(index=['family_status'], values='debt', aggfunc=['count', 'sum', 'mean'])\n",
    "\n",
    "display(data_pivot_family_status)"
   ]
  },
  {
   "cell_type": "markdown",
   "id": "21bd5ffb",
   "metadata": {},
   "source": [
    "<font color=\"darkblue\">Через сводную таблицу получается тот же результат, значит и вывод тот же."
   ]
  },
  {
   "cell_type": "markdown",
   "id": "5503364c",
   "metadata": {},
   "source": [
    "<font color=\"green\">✔️ Комментарий ревьювера  3   \n",
    "Отлично!</font>"
   ]
  },
  {
   "cell_type": "markdown",
   "id": "e464e831",
   "metadata": {
    "deletable": false,
    "editable": false,
    "id": "1e8b2fca"
   },
   "source": [
    "#### 3.3 Есть ли зависимость между уровнем дохода и возвратом кредита в срок?"
   ]
  },
  {
   "cell_type": "code",
   "execution_count": 32,
   "id": "38be4ba5",
   "metadata": {},
   "outputs": [
    {
     "data": {
      "text/plain": [
       "14585      20667\n",
       "13006      21205\n",
       "16174      21367\n",
       "1598       21695\n",
       "14276      21895\n",
       "          ...   \n",
       "17178    1711309\n",
       "20809    1715018\n",
       "9169     1726276\n",
       "19606    2200852\n",
       "12412    2265604\n",
       "Name: total_income, Length: 21331, dtype: int64"
      ]
     },
     "execution_count": 32,
     "metadata": {},
     "output_type": "execute_result"
    }
   ],
   "source": [
    "# Ваш код будет здесь. Вы можете создавать новые ячейки.\n",
    "\n",
    "# Теперь нас в первую очередь интересует столбец ежемесячного дохода 'total_income'.\n",
    "# В нем  много разных значений, значит нужно классифицировать их по нескольким уровням дохода.\n",
    "# Чтобы понять, какие группы доходов создать, посмотрим на минимальные и максимальные значения по всем данным в столбце:\n",
    "data['total_income'].sort_values()"
   ]
  },
  {
   "cell_type": "code",
   "execution_count": 33,
   "id": "a37e4b05",
   "metadata": {
    "deletable": false,
    "id": "cd7e3720"
   },
   "outputs": [
    {
     "data": {
      "text/plain": [
       "выше среднего           15413\n",
       "средний                  4073\n",
       "высокий                  1252\n",
       "низкий                    371\n",
       "крупный бизнес            197\n",
       "очень крупный бизнес       25\n",
       "Name: income_category, dtype: int64"
      ]
     },
     "metadata": {},
     "output_type": "display_data"
    },
    {
     "data": {
      "text/plain": [
       "3.0    15413\n",
       "2.0     4073\n",
       "4.0     1252\n",
       "1.0      371\n",
       "5.0      197\n",
       "6.0       25\n",
       "Name: income_category_id, dtype: int64"
      ]
     },
     "metadata": {},
     "output_type": "display_data"
    }
   ],
   "source": [
    "# Разброс значений от 20 000 до 2 000 000 и больше.\n",
    "# Разобъем по следующим категориям: \n",
    "# до 50 000 - низкий доход \n",
    "# 50 000 ... 100 000 - средний\n",
    "# 100 000 ... 300 000 - выше среднего\n",
    "# 300 000 ... 500 000 - высокий \n",
    "# 500 000 ... 1 000 000 - крупный бизнес\n",
    "# от 1 000 000 и больше - очень крупный бизнес\n",
    "\n",
    "# Добавим в датасет 2 новых столбца. \n",
    "# Первый - 'income_category' с названиями категорий дохода, второй - 'income_category_id' с числовыми индексами категорий.\n",
    "\n",
    "data.loc[data['total_income'] < 50000, ['income_category', 'income_category_id']] = ['низкий', 1]\n",
    "data.loc[(50000 <= data['total_income']) & ( data['total_income'] < 100000), ['income_category', 'income_category_id']] = ['средний', 2]\n",
    "data.loc[(100000 <= data['total_income']) & ( data['total_income'] < 300000), ['income_category', 'income_category_id']] = ['выше среднего', 3]\n",
    "data.loc[(300000 <= data['total_income']) & ( data['total_income'] < 500000), ['income_category', 'income_category_id']] = ['высокий', 4]\n",
    "data.loc[(500000 <= data['total_income']) & ( data['total_income'] < 1000000), ['income_category', 'income_category_id']] = ['крупный бизнес', 5]\n",
    "data.loc[data['total_income'] >= 1000000, ['income_category', 'income_category_id']] = ['очень крупный бизнес', 6]\n",
    "\n",
    "# Посмотрим, что получилось:\n",
    "display(data['income_category'].value_counts())\n",
    "display(data['income_category_id'].value_counts())"
   ]
  },
  {
   "cell_type": "code",
   "execution_count": 34,
   "id": "70a8fd9a",
   "metadata": {},
   "outputs": [
    {
     "name": "stdout",
     "output_type": "stream",
     "text": [
      "<class 'pandas.core.frame.DataFrame'>\n",
      "Int64Index: 21331 entries, 0 to 21524\n",
      "Data columns (total 16 columns):\n",
      " #   Column                 Non-Null Count  Dtype  \n",
      "---  ------                 --------------  -----  \n",
      " 0   children               21331 non-null  int64  \n",
      " 1   days_employed          21331 non-null  float64\n",
      " 2   dob_years              21331 non-null  int64  \n",
      " 3   education              21331 non-null  object \n",
      " 4   education_id           21331 non-null  int64  \n",
      " 5   family_status          21331 non-null  object \n",
      " 6   family_status_id       21331 non-null  int64  \n",
      " 7   gender                 21331 non-null  object \n",
      " 8   income_type            21331 non-null  object \n",
      " 9   debt                   21331 non-null  int64  \n",
      " 10  total_income           21331 non-null  int64  \n",
      " 11  purpose                21331 non-null  object \n",
      " 12  total_income_category  21331 non-null  object \n",
      " 13  purpose_category       21331 non-null  object \n",
      " 14  income_category        21331 non-null  object \n",
      " 15  income_category_id     21331 non-null  float64\n",
      "dtypes: float64(2), int64(6), object(8)\n",
      "memory usage: 3.3+ MB\n"
     ]
    }
   ],
   "source": [
    "# Проверим обновленную информацию по датасету: все ячейки новых столбцов заполнены.\n",
    "data.info()"
   ]
  },
  {
   "cell_type": "code",
   "execution_count": 35,
   "id": "cf586551",
   "metadata": {},
   "outputs": [
    {
     "data": {
      "text/html": [
       "<div>\n",
       "<style scoped>\n",
       "    .dataframe tbody tr th:only-of-type {\n",
       "        vertical-align: middle;\n",
       "    }\n",
       "\n",
       "    .dataframe tbody tr th {\n",
       "        vertical-align: top;\n",
       "    }\n",
       "\n",
       "    .dataframe thead tr th {\n",
       "        text-align: left;\n",
       "    }\n",
       "\n",
       "    .dataframe thead tr:last-of-type th {\n",
       "        text-align: right;\n",
       "    }\n",
       "</style>\n",
       "<table border=\"1\" class=\"dataframe\">\n",
       "  <thead>\n",
       "    <tr>\n",
       "      <th></th>\n",
       "      <th></th>\n",
       "      <th>debt</th>\n",
       "    </tr>\n",
       "    <tr>\n",
       "      <th></th>\n",
       "      <th></th>\n",
       "      <th>sum</th>\n",
       "    </tr>\n",
       "    <tr>\n",
       "      <th>income_category_id</th>\n",
       "      <th>income_category</th>\n",
       "      <th></th>\n",
       "    </tr>\n",
       "  </thead>\n",
       "  <tbody>\n",
       "    <tr>\n",
       "      <th>1.0</th>\n",
       "      <th>низкий</th>\n",
       "      <td>23</td>\n",
       "    </tr>\n",
       "    <tr>\n",
       "      <th>2.0</th>\n",
       "      <th>средний</th>\n",
       "      <td>331</td>\n",
       "    </tr>\n",
       "    <tr>\n",
       "      <th>3.0</th>\n",
       "      <th>выше среднего</th>\n",
       "      <td>1272</td>\n",
       "    </tr>\n",
       "    <tr>\n",
       "      <th>4.0</th>\n",
       "      <th>высокий</th>\n",
       "      <td>92</td>\n",
       "    </tr>\n",
       "    <tr>\n",
       "      <th>5.0</th>\n",
       "      <th>крупный бизнес</th>\n",
       "      <td>12</td>\n",
       "    </tr>\n",
       "    <tr>\n",
       "      <th>6.0</th>\n",
       "      <th>очень крупный бизнес</th>\n",
       "      <td>2</td>\n",
       "    </tr>\n",
       "  </tbody>\n",
       "</table>\n",
       "</div>"
      ],
      "text/plain": [
       "                                         debt\n",
       "                                          sum\n",
       "income_category_id income_category           \n",
       "1.0                низкий                  23\n",
       "2.0                средний                331\n",
       "3.0                выше среднего         1272\n",
       "4.0                высокий                 92\n",
       "5.0                крупный бизнес          12\n",
       "6.0                очень крупный бизнес     2"
      ]
     },
     "execution_count": 35,
     "metadata": {},
     "output_type": "execute_result"
    }
   ],
   "source": [
    "# Сгруппируем должников по созданным нами категориям дохода:\n",
    "\n",
    "income_rating = data.groupby(['income_category_id', 'income_category']).agg({'debt':['sum']})\n",
    "income_rating"
   ]
  },
  {
   "cell_type": "markdown",
   "id": "9aec8927",
   "metadata": {
    "deletable": false,
    "id": "e8593def"
   },
   "source": [
    "**Вывод:** <br>\n",
    "Минимальное количество просрочек у заемщиков с доходами от 500 000 (крупный и очень крупный бизнес). Такие клиенты не стеснены в средствах, проявляют деловое отношение и высокую платежную дисциплину.<br>\n",
    "\n",
    "Также небольшое количество просрочек по категории с доходом менее 50 000 (низкий доход).<br>\n",
    "Видимо, люди с небольшими доходами, осознанно решившие взять кредит, стараются избавляться от долгов и не накапливать лишних проблем.\n",
    "\n",
    "Количество просрочек возрастает на уровне среднего дохода (50 000 ... 100 000), максимум в категории 'выше среднего' (100 000 ... 300 000).<br>\n",
    "Возможно, клиенты из этих категорий неточно рассчитывают (или вообще не рассчитывают) свои финансовые возможности. Полагая, что уровень дохода позволяет не волноваться о выплатах, такие клиенты могут переоценивать свои возможности и брать лишние кредиты."
   ]
  },
  {
   "cell_type": "markdown",
   "id": "d1420988",
   "metadata": {},
   "source": [
    "<font color=\"red\">❌ Комментарий ревьювера       \n",
    "Давай посмотрим на табличку, что писал выше. А для выявления четкой зависимости желательно сравнивать самые многочисленные категории. </font>\n"
   ]
  },
  {
   "cell_type": "markdown",
   "id": "43107c81",
   "metadata": {},
   "source": [
    "<font color=\"darkblue\"> Исправляю аналогично решению выше.<br>"
   ]
  },
  {
   "cell_type": "code",
   "execution_count": 36,
   "id": "b78169f4",
   "metadata": {},
   "outputs": [
    {
     "data": {
      "text/html": [
       "<div>\n",
       "<style scoped>\n",
       "    .dataframe tbody tr th:only-of-type {\n",
       "        vertical-align: middle;\n",
       "    }\n",
       "\n",
       "    .dataframe tbody tr th {\n",
       "        vertical-align: top;\n",
       "    }\n",
       "\n",
       "    .dataframe thead tr th {\n",
       "        text-align: left;\n",
       "    }\n",
       "\n",
       "    .dataframe thead tr:last-of-type th {\n",
       "        text-align: right;\n",
       "    }\n",
       "</style>\n",
       "<table border=\"1\" class=\"dataframe\">\n",
       "  <thead>\n",
       "    <tr>\n",
       "      <th></th>\n",
       "      <th></th>\n",
       "      <th colspan=\"3\" halign=\"left\">debt</th>\n",
       "    </tr>\n",
       "    <tr>\n",
       "      <th></th>\n",
       "      <th></th>\n",
       "      <th>count</th>\n",
       "      <th>sum</th>\n",
       "      <th>part, %</th>\n",
       "    </tr>\n",
       "    <tr>\n",
       "      <th>income_category_id</th>\n",
       "      <th>income_category</th>\n",
       "      <th></th>\n",
       "      <th></th>\n",
       "      <th></th>\n",
       "    </tr>\n",
       "  </thead>\n",
       "  <tbody>\n",
       "    <tr>\n",
       "      <th>1.0</th>\n",
       "      <th>низкий</th>\n",
       "      <td>371</td>\n",
       "      <td>23</td>\n",
       "      <td>6.199461</td>\n",
       "    </tr>\n",
       "    <tr>\n",
       "      <th>2.0</th>\n",
       "      <th>средний</th>\n",
       "      <td>4073</td>\n",
       "      <td>331</td>\n",
       "      <td>8.126688</td>\n",
       "    </tr>\n",
       "    <tr>\n",
       "      <th>3.0</th>\n",
       "      <th>выше среднего</th>\n",
       "      <td>15413</td>\n",
       "      <td>1272</td>\n",
       "      <td>8.252774</td>\n",
       "    </tr>\n",
       "    <tr>\n",
       "      <th>4.0</th>\n",
       "      <th>высокий</th>\n",
       "      <td>1252</td>\n",
       "      <td>92</td>\n",
       "      <td>7.348243</td>\n",
       "    </tr>\n",
       "    <tr>\n",
       "      <th>5.0</th>\n",
       "      <th>крупный бизнес</th>\n",
       "      <td>197</td>\n",
       "      <td>12</td>\n",
       "      <td>6.091371</td>\n",
       "    </tr>\n",
       "    <tr>\n",
       "      <th>6.0</th>\n",
       "      <th>очень крупный бизнес</th>\n",
       "      <td>25</td>\n",
       "      <td>2</td>\n",
       "      <td>8.000000</td>\n",
       "    </tr>\n",
       "  </tbody>\n",
       "</table>\n",
       "</div>"
      ],
      "text/plain": [
       "                                          debt                \n",
       "                                         count   sum   part, %\n",
       "income_category_id income_category                            \n",
       "1.0                низкий                  371    23  6.199461\n",
       "2.0                средний                4073   331  8.126688\n",
       "3.0                выше среднего         15413  1272  8.252774\n",
       "4.0                высокий                1252    92  7.348243\n",
       "5.0                крупный бизнес          197    12  6.091371\n",
       "6.0                очень крупный бизнес     25     2  8.000000"
      ]
     },
     "execution_count": 36,
     "metadata": {},
     "output_type": "execute_result"
    }
   ],
   "source": [
    "# Сгруппируем должников по созданным нами категориям дохода:\n",
    "# посчитаем общее количество кредитов по каждой категории через count() и суммируем все просроченные платежи через sum().\n",
    "# Эти вычисления помогут посчитать долю просрочек по каждой категории:\n",
    "\n",
    "income_rating = data.groupby(['income_category_id','income_category']).agg({'debt':['count','sum']})\n",
    "\n",
    "income_rating[('debt', 'part, %')] = income_rating[('debt', 'sum')] / income_rating[('debt', 'count')]*100\n",
    "\n",
    "income_rating"
   ]
  },
  {
   "cell_type": "markdown",
   "id": "b31aa77d",
   "metadata": {},
   "source": [
    "**Вывод:** <br>\n",
    "Минимальное количество просрочек у заемщиков с доходами от 500 000 (крупный и очень крупный бизнес). Такие клиенты не стеснены в средствах, проявляют деловое отношение и высокую платежную дисциплину.<br>\n",
    "Отмечу, что 8% у категории с доходом более 1 млн. выглядит великовато, но это связано с числами, участвующими в расчетах (2 к 25).\n",
    "\n",
    "Также небольшое количество и низкий процент просрочек по категории с доходом менее 50 000 (низкий доход).<br>\n",
    "Видимо, люди с небольшими доходами, осознанно решившие взять кредит, стараются избавляться от долгов и не накапливать лишних проблем.\n",
    "\n",
    "Количество просрочек велико на уровне среднего дохода (50 000 ... 100 000), максимум в категории 'выше среднего' (100 000 ... 300 000).<br>\n",
    "Возможно, клиенты из этих категорий неточно рассчитывают (или вообще не рассчитывают) свои финансовые возможности. Полагая, что уровень дохода позволяет не волноваться о выплатах, такие клиенты могут переоценивать свои возможности и брать лишние кредиты."
   ]
  },
  {
   "cell_type": "markdown",
   "id": "d460ce47",
   "metadata": {},
   "source": [
    "<font color=\"green\">✔️ Комментарий ревьювера 2   \n",
    "Согласен, чаще всего должниками становятся люди с небольшим доходом. Видимо, финансовые проблемы не позволяют вовремя осуществлять платежи. Для выявления зависимости желательно сравнивать самые многочисленные категории. Категория А,  D и Е слишком малочисленны для серьезного вывода. :)</font>\n"
   ]
  },
  {
   "cell_type": "markdown",
   "id": "d19a4470",
   "metadata": {},
   "source": [
    "<font color=\"darkblue\">Понял, спасибо, ориентируемся на большую выборку данных."
   ]
  },
  {
   "cell_type": "markdown",
   "id": "9cdc0c88",
   "metadata": {},
   "source": [
    "<font color=\"green\">✔️ Комментарий ревьювера  3   \n",
    "Все верно!</font>"
   ]
  },
  {
   "cell_type": "markdown",
   "id": "e3b44c93",
   "metadata": {
    "deletable": false,
    "editable": false,
    "id": "99ecbd1f"
   },
   "source": [
    "#### 3.4 Как разные цели кредита влияют на его возврат в срок?"
   ]
  },
  {
   "cell_type": "code",
   "execution_count": 37,
   "id": "2f44898b",
   "metadata": {
    "deletable": false,
    "id": "2b687290"
   },
   "outputs": [
    {
     "data": {
      "text/html": [
       "<div>\n",
       "<style scoped>\n",
       "    .dataframe tbody tr th:only-of-type {\n",
       "        vertical-align: middle;\n",
       "    }\n",
       "\n",
       "    .dataframe tbody tr th {\n",
       "        vertical-align: top;\n",
       "    }\n",
       "\n",
       "    .dataframe thead tr th {\n",
       "        text-align: left;\n",
       "    }\n",
       "\n",
       "    .dataframe thead tr:last-of-type th {\n",
       "        text-align: right;\n",
       "    }\n",
       "</style>\n",
       "<table border=\"1\" class=\"dataframe\">\n",
       "  <thead>\n",
       "    <tr>\n",
       "      <th></th>\n",
       "      <th colspan=\"3\" halign=\"left\">debt</th>\n",
       "    </tr>\n",
       "    <tr>\n",
       "      <th></th>\n",
       "      <th>sum</th>\n",
       "      <th>count</th>\n",
       "      <th>part, %</th>\n",
       "    </tr>\n",
       "    <tr>\n",
       "      <th>purpose_category</th>\n",
       "      <th></th>\n",
       "      <th></th>\n",
       "      <th></th>\n",
       "    </tr>\n",
       "  </thead>\n",
       "  <tbody>\n",
       "    <tr>\n",
       "      <th>операции с автомобилем</th>\n",
       "      <td>400</td>\n",
       "      <td>4279</td>\n",
       "      <td>9.347978</td>\n",
       "    </tr>\n",
       "    <tr>\n",
       "      <th>операции с недвижимостью</th>\n",
       "      <td>780</td>\n",
       "      <td>10751</td>\n",
       "      <td>7.255139</td>\n",
       "    </tr>\n",
       "    <tr>\n",
       "      <th>получение образования</th>\n",
       "      <td>369</td>\n",
       "      <td>3988</td>\n",
       "      <td>9.252758</td>\n",
       "    </tr>\n",
       "    <tr>\n",
       "      <th>проведение свадьбы</th>\n",
       "      <td>183</td>\n",
       "      <td>2313</td>\n",
       "      <td>7.911803</td>\n",
       "    </tr>\n",
       "  </tbody>\n",
       "</table>\n",
       "</div>"
      ],
      "text/plain": [
       "                         debt                 \n",
       "                          sum  count   part, %\n",
       "purpose_category                              \n",
       "операции с автомобилем    400   4279  9.347978\n",
       "операции с недвижимостью  780  10751  7.255139\n",
       "получение образования     369   3988  9.252758\n",
       "проведение свадьбы        183   2313  7.911803"
      ]
     },
     "execution_count": 37,
     "metadata": {},
     "output_type": "execute_result"
    }
   ],
   "source": [
    "# Ваш код будет здесь. Вы можете создавать новые ячейки.\n",
    "\n",
    "# На этот раз сгруппируем по столбцу 'purpose_category' (категории расходов), \n",
    "# суммируем все просроченные платежи, а также посчитаем общее количество кредитов по каждой категории.\n",
    "# Эти вычисления помогут посчитать долю просрочек по каждой категории:\n",
    "\n",
    "debt_by_purpose = data.groupby(['purpose_category']).agg({'debt':['sum', 'count']})\n",
    "\n",
    "debt_by_purpose[('debt', 'part, %')] = debt_by_purpose[('debt', 'sum')] / debt_by_purpose[('debt', 'count')]*100\n",
    "\n",
    "debt_by_purpose"
   ]
  },
  {
   "cell_type": "markdown",
   "id": "f39ae044",
   "metadata": {
    "deletable": false,
    "id": "b4bb2ce6"
   },
   "source": [
    "**Вывод:**<br>\n",
    "Категории \"операции с автомобилем\" и \"получение образования\" примерно совпадают по количеству просрочек, доли невыплат здесь самые большие - около 9,3%.\n",
    "\n",
    "Меньше всего просроченых кредитов в категории \"проведение свадьбы\", доля просрочек 7,9%.\n",
    "\n",
    "Больше всего просрочек в категории \"операции с недвижимостью\", хотя доля по категории 7,25% - самая низкая."
   ]
  },
  {
   "cell_type": "markdown",
   "id": "927c4a21",
   "metadata": {},
   "source": [
    "<font color=\"green\">✔️ Комментарий ревьювера   \n",
    "Вот здесь хорошая табличка. Да, согласен, самыми проблемными выглядят автокредиты и кредиты на образование. Сложно сказать, каковы причины таких особенностей.<font>\n"
   ]
  },
  {
   "cell_type": "markdown",
   "id": "3e74d48a",
   "metadata": {
    "deletable": false,
    "editable": false,
    "id": "09c3ac4c"
   },
   "source": [
    "#### 3.5 Приведите возможные причины появления пропусков в исходных данных."
   ]
  },
  {
   "cell_type": "markdown",
   "id": "b6b14d90",
   "metadata": {
    "deletable": false,
    "id": "9da2ceda"
   },
   "source": [
    "*Ответ:* <br>\n",
    "Причина 1 - если пользователь не заполнил форму до конца, не дал сведений о себе (контактный номер, фамилию и т.п.),<br>\n",
    "Причина 2 - если произошла техническая ошибка в работе системы сбора информации,<br>\n",
    "Причина 3 - если пропуск был оставлен умышленно в расчете на автозаполнение спецсимволами."
   ]
  },
  {
   "cell_type": "markdown",
   "id": "a066c4a0",
   "metadata": {},
   "source": [
    "<font color=\"brown\">⚠️ Комментарий ревьювера    \n",
    "Все верно, но важно отметить, что пропуски в столбцах days_employed и total_income в равных пропорциях и симметричны. Возможно, они появились из-за нежелания этих пользователей оставлять эти данные или из-за ошибки. В столбце days_employed пропуски мы не заполняли, а в total_income - заполнили медианными значениями, но с учетом категории, чтоб не усреднять данные. Категорией, от которой сильнее всего зависит заработок, является income_type.    \n",
    "Помимо человеческого фактора, важно отметить и технический, как возможную причину образования пропусков.     \n",
    "Сможешь привести примеры таких причин?<font>\n"
   ]
  },
  {
   "cell_type": "markdown",
   "id": "ef79c3bc",
   "metadata": {},
   "source": [
    "<font color=\"darkblue\"> Перечитал главу о пропусках. Из технических причин нашел такую: при выгрузке данных из разных систем некорректный формат приводит к невыполнению кода. "
   ]
  },
  {
   "cell_type": "markdown",
   "id": "605f5eeb",
   "metadata": {},
   "source": [
    "<font color=\"green\">✔️ Комментарий ревьювера 2   \n",
    "Верно\n"
   ]
  },
  {
   "cell_type": "markdown",
   "id": "fe677e45",
   "metadata": {
    "deletable": false,
    "editable": false,
    "id": "7b0487d6"
   },
   "source": [
    "#### 3.6 Объясните, почему заполнить пропуски медианным значением — лучшее решение для количественных переменных."
   ]
  },
  {
   "cell_type": "markdown",
   "id": "1d0d32c6",
   "metadata": {
    "deletable": false,
    "id": "7ecf2b8e"
   },
   "source": [
    "*Ответ:* в отличие от среднего арифметического, медианное значение более объективно, так как ровно половина элементов больше него, а другая половина — меньше.\n",
    "Так исключаются \"перекосы\" в расчетах если крайние значения диапазона сильно отличаются от остальных."
   ]
  },
  {
   "cell_type": "markdown",
   "id": "994032e7",
   "metadata": {},
   "source": [
    "<font color=\"green\">✔️ Комментарий ревьювера   \n",
    "Верно, в данных могут наблюдаться \"выбросы\". Медиана обычно даёт более правдивую картину, чем среднее, т.к. менее чувствительна к выбросам<font>\n"
   ]
  },
  {
   "cell_type": "markdown",
   "id": "d327531e",
   "metadata": {
    "deletable": false,
    "editable": false,
    "id": "6db5255a"
   },
   "source": [
    "### Шаг 4: общий вывод."
   ]
  },
  {
   "cell_type": "markdown",
   "id": "16207b90",
   "metadata": {
    "deletable": false,
    "id": "bad65432"
   },
   "source": [
    "Ответы на предыдущие вопросы можно обобщить в такой вывод.<br>\n",
    "Наиболее ответственныеми заемщиками оказались:\n",
    "\n",
    "- разведенные люди или вдовцы,<br> \n",
    "- имеющие детей (чем больше, тем надежнее),<br>\n",
    "- решившие взять кредит для операций с недвижимостью (скорее всего ипотека),<br>\n",
    "- люди с доходом менее 50 000 либо более 300 000.\n"
   ]
  },
  {
   "cell_type": "markdown",
   "id": "7bf75903",
   "metadata": {},
   "source": [
    "<font color=\"red\">❌ Комментарий ревьювера     \n",
    "Общий вывод нужно написать более подробно. Укажи что сделано, основные результаты по всем шагам работы, включая первый этап. И самое важное - какие зависимости выяснены при ответах на вопросы. Также, можно дать рекомендации банку по улучшению сбора данных и построению скоринговой модели.   \n",
    "Обычно заказчик читает только общий вывод, поэтому он должен быть максимально информативным.<font>\n"
   ]
  },
  {
   "cell_type": "markdown",
   "id": "9eeda556",
   "metadata": {},
   "source": [
    "<font color=\"darkblue\">Исправляю вывод.\n",
    "\n",
    "Перед нами была поставлена задача выяснить, влияет ли семейное положение и количество детей клиента на факт погашения кредита в срок. Входные данные — статистика о платёжеспособности клиентов.\n",
    "    \n",
    "<br>\n",
    "Для корректного анализа сначала было необходимо ознакомиться с данными и исправить их.\n",
    "В столбцах с указанием общего трудового стажа и ежемесячным доходом были обнаружены пропущенные значения, которые мы заполнили медианным значением по каждому типу занятости.<br>\n",
    "Затем мы убрали задублированные строки и ввели категоризацию доходов, чтобы сгруппировать клиентов по их финансовым возможностям.\n",
    "\n",
    "<br>\n",
    "Также мы навели порядок в списке целей кредита, объединив их в 4 основные категории.\n",
    "\n",
    "При поиске ответов были выявлены зависимости своевременного погашения кредита от количества детей заемщика, его семейного положения и дохода, а также цели кредита. <br>\n",
    "    \n",
    "В итоге мы получили характеристики ответственных клиентов, показывающих наименьший процент просрочек, это:\n",
    "\n",
    "- Заемщики без детей,<br> \n",
    "- Заемщики, состоящие или ранее состоявшие в браке,<br> \n",
    "- Заемщики, взявшие кредит для операций с недвижимостью (скорее всего ипотека),<br>\n",
    "- Заемщики с высоким доходом (300 000 - 500 000).<br>\n",
    "    \n",
    "    \n",
    "В качестве рекомендаций банку по дальнейшему сбору данных предлагаю создать интерактивную форму анкеты клиента, где можно будет выбрать заранее прописанные цели кредита, уровень дохода и семейное положение. Так мы сразу можем получить категоризированные данные, удобные для обработки.\n"
   ]
  },
  {
   "cell_type": "markdown",
   "id": "6bebbc51",
   "metadata": {},
   "source": [
    "<font color=\"green\">✔️ Комментарий ревьювера   \n",
    "Молодец, хорошая работа над проектом. Есть небольшие замечания, но это не страшно - их исправление поможет сделать проект лучше и хорошо разобраться в теме. Анализ данных - не так прост, но его значение для бизнеса и принятия решений трудно переоценить.\n",
    "Основное замечание - по подсчету % должников по категориям и итоговому выводу.<font>\n"
   ]
  },
  {
   "cell_type": "markdown",
   "id": "b69e19ae",
   "metadata": {},
   "source": [
    "<font color=\"green\">✔️ Комментарий ревьювера 2  \n",
    "Хороший вывод. Осталось разобраться с pivot_table :)"
   ]
  },
  {
   "cell_type": "markdown",
   "id": "7d2b165a",
   "metadata": {},
   "source": [
    "<font color=\"darkblue\">Pivot_table заработал, спасибо еще раз :)"
   ]
  },
  {
   "cell_type": "markdown",
   "id": "b6546843",
   "metadata": {},
   "source": [
    "<font color=\"green\">✔️ Комментарий ревьювера 3 \n",
    "Молодец, ты очень тщательно подходишь к проекту, это отлично! Все верно, принимаем! \n",
    "\n",
    "<font color=\"green\">✔️ Комментарий ревьювера 3    \n",
    "После проекта обычно просят оценить работу ревьювера, оставить отзыв - поставь пожалуйста оценку, если не затруднит! Это помогает улучшить нашу работу. Только оценивай, честно, как есть :)</font>\n"
   ]
  },
  {
   "cell_type": "code",
   "execution_count": null,
   "id": "02cf94c5",
   "metadata": {},
   "outputs": [],
   "source": []
  }
 ],
 "metadata": {
  "ExecuteTimeLog": [
   {
    "duration": 376,
    "start_time": "2022-09-10T10:49:14.909Z"
   },
   {
    "duration": 24,
    "start_time": "2022-09-10T10:49:18.408Z"
   },
   {
    "duration": 12,
    "start_time": "2022-09-10T10:49:24.288Z"
   },
   {
    "duration": 9,
    "start_time": "2022-09-10T10:49:30.673Z"
   },
   {
    "duration": 29,
    "start_time": "2022-09-10T10:49:35.253Z"
   },
   {
    "duration": 29,
    "start_time": "2022-09-10T10:49:51.494Z"
   },
   {
    "duration": 3,
    "start_time": "2022-09-10T10:49:53.326Z"
   },
   {
    "duration": 7,
    "start_time": "2022-09-10T10:49:59.222Z"
   },
   {
    "duration": 4,
    "start_time": "2022-09-10T10:50:09.031Z"
   },
   {
    "duration": 8,
    "start_time": "2022-09-10T10:50:14.774Z"
   },
   {
    "duration": 4,
    "start_time": "2022-09-10T10:50:27.663Z"
   },
   {
    "duration": 31,
    "start_time": "2022-09-10T10:50:33.707Z"
   },
   {
    "duration": 8,
    "start_time": "2022-09-10T10:50:38.803Z"
   },
   {
    "duration": 3,
    "start_time": "2022-09-10T10:50:46.644Z"
   },
   {
    "duration": 10,
    "start_time": "2022-09-10T10:50:50.354Z"
   },
   {
    "duration": 10,
    "start_time": "2022-09-10T10:51:05.426Z"
   },
   {
    "duration": 19,
    "start_time": "2022-09-10T10:51:07.793Z"
   },
   {
    "duration": 16,
    "start_time": "2022-09-10T10:51:09.647Z"
   },
   {
    "duration": 4,
    "start_time": "2022-09-10T10:51:14.428Z"
   },
   {
    "duration": 9,
    "start_time": "2022-09-10T10:51:16.196Z"
   },
   {
    "duration": 6,
    "start_time": "2022-09-10T10:51:32.575Z"
   },
   {
    "duration": 3,
    "start_time": "2022-09-10T10:51:37.972Z"
   },
   {
    "duration": 8,
    "start_time": "2022-09-10T10:51:39.877Z"
   },
   {
    "duration": 19,
    "start_time": "2022-09-10T10:59:25.062Z"
   },
   {
    "duration": 3,
    "start_time": "2022-09-10T11:04:18.995Z"
   },
   {
    "duration": 28,
    "start_time": "2022-09-10T11:04:55.170Z"
   },
   {
    "duration": 20,
    "start_time": "2022-09-10T11:05:26.396Z"
   },
   {
    "duration": 21,
    "start_time": "2022-09-10T11:06:11.373Z"
   },
   {
    "duration": 19,
    "start_time": "2022-09-10T11:06:20.332Z"
   },
   {
    "duration": 14,
    "start_time": "2022-09-10T11:06:25.323Z"
   },
   {
    "duration": 20,
    "start_time": "2022-09-10T11:06:35.946Z"
   },
   {
    "duration": 24,
    "start_time": "2022-09-10T11:07:27.779Z"
   },
   {
    "duration": 4,
    "start_time": "2022-09-11T06:35:57.690Z"
   },
   {
    "duration": 11,
    "start_time": "2022-09-11T06:45:26.968Z"
   },
   {
    "duration": 12,
    "start_time": "2022-09-11T06:45:53.085Z"
   },
   {
    "duration": 301,
    "start_time": "2022-09-11T06:46:00.347Z"
   },
   {
    "duration": 17,
    "start_time": "2022-09-11T06:46:02.561Z"
   },
   {
    "duration": 14,
    "start_time": "2022-09-11T06:46:06.659Z"
   },
   {
    "duration": 435,
    "start_time": "2022-09-11T06:46:14.270Z"
   },
   {
    "duration": 21,
    "start_time": "2022-09-11T06:46:14.707Z"
   },
   {
    "duration": 25,
    "start_time": "2022-09-11T06:46:14.730Z"
   },
   {
    "duration": 13,
    "start_time": "2022-09-11T06:46:14.758Z"
   },
   {
    "duration": 50,
    "start_time": "2022-09-11T06:46:14.773Z"
   },
   {
    "duration": 3,
    "start_time": "2022-09-11T06:46:14.825Z"
   },
   {
    "duration": 24,
    "start_time": "2022-09-11T06:46:14.830Z"
   },
   {
    "duration": 11,
    "start_time": "2022-09-11T06:46:14.855Z"
   },
   {
    "duration": 9,
    "start_time": "2022-09-11T06:46:14.867Z"
   },
   {
    "duration": 4,
    "start_time": "2022-09-11T06:46:14.878Z"
   },
   {
    "duration": 36,
    "start_time": "2022-09-11T06:46:14.883Z"
   },
   {
    "duration": 9,
    "start_time": "2022-09-11T06:46:14.921Z"
   },
   {
    "duration": 7,
    "start_time": "2022-09-11T06:46:14.931Z"
   },
   {
    "duration": 13,
    "start_time": "2022-09-11T06:46:14.939Z"
   },
   {
    "duration": 22,
    "start_time": "2022-09-11T06:46:14.953Z"
   },
   {
    "duration": 16,
    "start_time": "2022-09-11T06:46:14.977Z"
   },
   {
    "duration": 17,
    "start_time": "2022-09-11T06:46:14.994Z"
   },
   {
    "duration": 34,
    "start_time": "2022-09-11T06:46:15.012Z"
   },
   {
    "duration": 11,
    "start_time": "2022-09-11T06:46:15.048Z"
   },
   {
    "duration": 9,
    "start_time": "2022-09-11T06:46:15.061Z"
   },
   {
    "duration": 21,
    "start_time": "2022-09-11T06:46:15.072Z"
   },
   {
    "duration": 996,
    "start_time": "2022-09-11T06:46:15.095Z"
   },
   {
    "duration": 3,
    "start_time": "2022-09-11T06:46:16.092Z"
   },
   {
    "duration": 10,
    "start_time": "2022-09-11T06:46:16.096Z"
   },
   {
    "duration": 6,
    "start_time": "2022-09-11T06:46:16.107Z"
   },
   {
    "duration": 7,
    "start_time": "2022-09-11T06:48:56.724Z"
   },
   {
    "duration": 7,
    "start_time": "2022-09-11T06:49:30.481Z"
   },
   {
    "duration": 5,
    "start_time": "2022-09-11T06:50:53.309Z"
   },
   {
    "duration": 5,
    "start_time": "2022-09-11T06:51:36.354Z"
   },
   {
    "duration": 5,
    "start_time": "2022-09-11T06:51:38.836Z"
   },
   {
    "duration": 5,
    "start_time": "2022-09-11T06:51:52.661Z"
   },
   {
    "duration": 5,
    "start_time": "2022-09-11T06:51:54.543Z"
   },
   {
    "duration": 7,
    "start_time": "2022-09-11T06:51:59.250Z"
   },
   {
    "duration": 6,
    "start_time": "2022-09-11T06:52:34.728Z"
   },
   {
    "duration": 967,
    "start_time": "2022-09-11T06:54:11.016Z"
   },
   {
    "duration": 4,
    "start_time": "2022-09-11T06:54:19.457Z"
   },
   {
    "duration": 49,
    "start_time": "2022-09-11T06:54:38.997Z"
   },
   {
    "duration": 5,
    "start_time": "2022-09-11T06:55:05.774Z"
   },
   {
    "duration": 109,
    "start_time": "2022-09-11T06:55:10.818Z"
   },
   {
    "duration": 45,
    "start_time": "2022-09-11T06:55:27.915Z"
   },
   {
    "duration": 4,
    "start_time": "2022-09-11T06:55:47.826Z"
   },
   {
    "duration": 4,
    "start_time": "2022-09-11T06:56:00.478Z"
   },
   {
    "duration": 119,
    "start_time": "2022-09-11T06:57:13.161Z"
   },
   {
    "duration": 173,
    "start_time": "2022-09-11T06:57:47.101Z"
   },
   {
    "duration": 115,
    "start_time": "2022-09-11T06:57:57.842Z"
   },
   {
    "duration": 198,
    "start_time": "2022-09-11T07:05:14.549Z"
   },
   {
    "duration": 17,
    "start_time": "2022-09-11T07:05:49.871Z"
   },
   {
    "duration": 17,
    "start_time": "2022-09-11T07:06:02.702Z"
   },
   {
    "duration": 6,
    "start_time": "2022-09-11T07:17:33.314Z"
   },
   {
    "duration": 5,
    "start_time": "2022-09-11T07:23:55.858Z"
   },
   {
    "duration": 5,
    "start_time": "2022-09-11T07:23:58.776Z"
   },
   {
    "duration": 6,
    "start_time": "2022-09-11T07:24:07.001Z"
   },
   {
    "duration": 6,
    "start_time": "2022-09-11T07:25:58.585Z"
   },
   {
    "duration": 6,
    "start_time": "2022-09-11T07:26:00.408Z"
   },
   {
    "duration": 7,
    "start_time": "2022-09-11T07:26:06.714Z"
   },
   {
    "duration": 6,
    "start_time": "2022-09-11T07:26:44.585Z"
   },
   {
    "duration": 115,
    "start_time": "2022-09-11T07:27:37.246Z"
   },
   {
    "duration": 129,
    "start_time": "2022-09-11T07:27:49.003Z"
   },
   {
    "duration": 20,
    "start_time": "2022-09-11T07:28:17.052Z"
   },
   {
    "duration": 19,
    "start_time": "2022-09-11T07:28:58.794Z"
   },
   {
    "duration": 24,
    "start_time": "2022-09-11T07:29:07.369Z"
   },
   {
    "duration": 16,
    "start_time": "2022-09-11T07:29:23.245Z"
   },
   {
    "duration": 19,
    "start_time": "2022-09-11T07:29:48.955Z"
   },
   {
    "duration": 102,
    "start_time": "2022-09-11T07:30:21.601Z"
   },
   {
    "duration": 10,
    "start_time": "2022-09-11T07:30:57.843Z"
   },
   {
    "duration": 9,
    "start_time": "2022-09-11T07:31:35.460Z"
   },
   {
    "duration": 9,
    "start_time": "2022-09-11T07:31:38.242Z"
   },
   {
    "duration": 6,
    "start_time": "2022-09-11T07:31:50.001Z"
   },
   {
    "duration": 4,
    "start_time": "2022-09-11T07:31:52.727Z"
   },
   {
    "duration": 9,
    "start_time": "2022-09-11T07:32:07.386Z"
   },
   {
    "duration": 5,
    "start_time": "2022-09-11T07:32:17.052Z"
   },
   {
    "duration": 4,
    "start_time": "2022-09-11T07:32:29.089Z"
   },
   {
    "duration": 5,
    "start_time": "2022-09-11T07:33:26.705Z"
   },
   {
    "duration": 5,
    "start_time": "2022-09-11T07:35:33.013Z"
   },
   {
    "duration": 4,
    "start_time": "2022-09-11T07:35:40.598Z"
   },
   {
    "duration": 4,
    "start_time": "2022-09-11T07:35:42.980Z"
   },
   {
    "duration": 15,
    "start_time": "2022-09-11T07:36:15.243Z"
   },
   {
    "duration": 5,
    "start_time": "2022-09-11T07:36:50.480Z"
   },
   {
    "duration": 5,
    "start_time": "2022-09-11T07:36:59.213Z"
   },
   {
    "duration": 3,
    "start_time": "2022-09-11T07:37:03.697Z"
   },
   {
    "duration": 3,
    "start_time": "2022-09-11T07:37:06.676Z"
   },
   {
    "duration": 4,
    "start_time": "2022-09-11T07:37:30.619Z"
   },
   {
    "duration": 3,
    "start_time": "2022-09-11T07:37:33.166Z"
   },
   {
    "duration": 5,
    "start_time": "2022-09-11T07:37:41.401Z"
   },
   {
    "duration": 4,
    "start_time": "2022-09-11T07:37:51.607Z"
   },
   {
    "duration": 5,
    "start_time": "2022-09-11T07:38:25.753Z"
   },
   {
    "duration": 3,
    "start_time": "2022-09-11T07:38:36.360Z"
   },
   {
    "duration": 138,
    "start_time": "2022-09-11T07:38:47.956Z"
   },
   {
    "duration": 5,
    "start_time": "2022-09-11T07:40:16.900Z"
   },
   {
    "duration": 201,
    "start_time": "2022-09-11T07:50:07.810Z"
   },
   {
    "duration": 132,
    "start_time": "2022-09-11T07:50:43.872Z"
   },
   {
    "duration": 239,
    "start_time": "2022-09-11T07:51:33.349Z"
   },
   {
    "duration": 190,
    "start_time": "2022-09-11T07:51:58.524Z"
   },
   {
    "duration": 12,
    "start_time": "2022-09-11T07:57:44.314Z"
   },
   {
    "duration": 9,
    "start_time": "2022-09-11T07:58:00.487Z"
   },
   {
    "duration": 6,
    "start_time": "2022-09-11T07:58:07.987Z"
   },
   {
    "duration": 159,
    "start_time": "2022-09-11T08:21:14.992Z"
   },
   {
    "duration": 126,
    "start_time": "2022-09-11T08:21:21.805Z"
   },
   {
    "duration": 113,
    "start_time": "2022-09-11T08:23:31.409Z"
   },
   {
    "duration": 10,
    "start_time": "2022-09-11T08:24:56.040Z"
   },
   {
    "duration": 8,
    "start_time": "2022-09-11T08:31:06.897Z"
   },
   {
    "duration": 15,
    "start_time": "2022-09-11T08:37:22.659Z"
   },
   {
    "duration": 9,
    "start_time": "2022-09-11T08:37:49.291Z"
   },
   {
    "duration": 9,
    "start_time": "2022-09-11T08:37:51.646Z"
   },
   {
    "duration": 11,
    "start_time": "2022-09-11T08:38:00.764Z"
   },
   {
    "duration": 9,
    "start_time": "2022-09-11T08:38:10.618Z"
   },
   {
    "duration": 12,
    "start_time": "2022-09-11T08:41:05.753Z"
   },
   {
    "duration": 9,
    "start_time": "2022-09-11T08:41:22.179Z"
   },
   {
    "duration": 6,
    "start_time": "2022-09-11T08:51:44.461Z"
   },
   {
    "duration": 4,
    "start_time": "2022-09-11T08:51:48.068Z"
   },
   {
    "duration": 5,
    "start_time": "2022-09-11T08:52:03.618Z"
   },
   {
    "duration": 15,
    "start_time": "2022-09-11T09:04:49.011Z"
   },
   {
    "duration": 12,
    "start_time": "2022-09-11T09:08:33.569Z"
   },
   {
    "duration": 13,
    "start_time": "2022-09-11T09:08:44.827Z"
   },
   {
    "duration": 24,
    "start_time": "2022-09-11T09:09:25.691Z"
   },
   {
    "duration": 22,
    "start_time": "2022-09-11T09:09:28.522Z"
   },
   {
    "duration": 16,
    "start_time": "2022-09-11T09:09:32.790Z"
   },
   {
    "duration": 10,
    "start_time": "2022-09-11T09:09:40.203Z"
   },
   {
    "duration": 4,
    "start_time": "2022-09-11T09:14:41.398Z"
   },
   {
    "duration": 4,
    "start_time": "2022-09-11T09:14:56.008Z"
   },
   {
    "duration": 5,
    "start_time": "2022-09-11T09:15:31.645Z"
   },
   {
    "duration": 12,
    "start_time": "2022-09-11T09:15:38.101Z"
   },
   {
    "duration": 9,
    "start_time": "2022-09-11T09:16:01.518Z"
   },
   {
    "duration": 8,
    "start_time": "2022-09-11T09:17:53.124Z"
   },
   {
    "duration": 26,
    "start_time": "2022-09-11T09:26:13.756Z"
   },
   {
    "duration": 23,
    "start_time": "2022-09-11T09:26:31.273Z"
   },
   {
    "duration": 32,
    "start_time": "2022-09-11T09:27:21.293Z"
   },
   {
    "duration": 23,
    "start_time": "2022-09-11T09:27:34.349Z"
   },
   {
    "duration": 22,
    "start_time": "2022-09-11T09:27:44.661Z"
   },
   {
    "duration": 24,
    "start_time": "2022-09-11T09:27:52.961Z"
   },
   {
    "duration": 26,
    "start_time": "2022-09-11T09:28:04.233Z"
   },
   {
    "duration": 22,
    "start_time": "2022-09-11T09:30:49.062Z"
   },
   {
    "duration": 11,
    "start_time": "2022-09-11T09:31:46.426Z"
   },
   {
    "duration": 13,
    "start_time": "2022-09-11T09:31:57.465Z"
   },
   {
    "duration": 12,
    "start_time": "2022-09-11T09:34:20.384Z"
   },
   {
    "duration": 14,
    "start_time": "2022-09-11T09:34:24.079Z"
   },
   {
    "duration": 63,
    "start_time": "2022-09-11T09:47:58.757Z"
   },
   {
    "duration": 45,
    "start_time": "2022-09-11T09:48:33.742Z"
   },
   {
    "duration": 69,
    "start_time": "2022-09-11T09:51:01.013Z"
   },
   {
    "duration": 49,
    "start_time": "2022-09-11T09:51:36.438Z"
   },
   {
    "duration": 67,
    "start_time": "2022-09-11T09:52:02.625Z"
   },
   {
    "duration": 50,
    "start_time": "2022-09-11T09:52:07.037Z"
   },
   {
    "duration": 49,
    "start_time": "2022-09-11T09:52:30.073Z"
   },
   {
    "duration": 61,
    "start_time": "2022-09-11T09:53:11.685Z"
   },
   {
    "duration": 47,
    "start_time": "2022-09-11T09:53:22.255Z"
   },
   {
    "duration": 94,
    "start_time": "2022-09-11T09:54:26.940Z"
   },
   {
    "duration": 53,
    "start_time": "2022-09-11T09:54:32.042Z"
   },
   {
    "duration": 48,
    "start_time": "2022-09-11T09:54:52.930Z"
   },
   {
    "duration": 26,
    "start_time": "2022-09-11T09:55:41.020Z"
   },
   {
    "duration": 38,
    "start_time": "2022-09-11T09:57:17.882Z"
   },
   {
    "duration": 36,
    "start_time": "2022-09-11T09:57:51.542Z"
   },
   {
    "duration": 37,
    "start_time": "2022-09-11T09:58:06.317Z"
   },
   {
    "duration": 52,
    "start_time": "2022-09-11T09:58:19.532Z"
   },
   {
    "duration": 58,
    "start_time": "2022-09-11T09:58:26.016Z"
   },
   {
    "duration": 61,
    "start_time": "2022-09-11T09:58:34.327Z"
   },
   {
    "duration": 48,
    "start_time": "2022-09-11T09:58:38.304Z"
   },
   {
    "duration": 37,
    "start_time": "2022-09-11T09:59:05.790Z"
   },
   {
    "duration": 35,
    "start_time": "2022-09-11T09:59:36.707Z"
   },
   {
    "duration": 8,
    "start_time": "2022-09-11T09:59:54.066Z"
   },
   {
    "duration": 26,
    "start_time": "2022-09-11T09:59:57.005Z"
   },
   {
    "duration": 19,
    "start_time": "2022-09-11T10:03:26.164Z"
   },
   {
    "duration": 3,
    "start_time": "2022-09-11T10:04:31.234Z"
   },
   {
    "duration": 19,
    "start_time": "2022-09-11T10:04:33.970Z"
   },
   {
    "duration": 23,
    "start_time": "2022-09-11T10:04:41.068Z"
   },
   {
    "duration": 19,
    "start_time": "2022-09-11T10:04:57.807Z"
   },
   {
    "duration": 10,
    "start_time": "2022-09-11T10:05:29.613Z"
   },
   {
    "duration": 8,
    "start_time": "2022-09-11T10:05:46.537Z"
   },
   {
    "duration": 23,
    "start_time": "2022-09-11T10:05:48.072Z"
   },
   {
    "duration": 20,
    "start_time": "2022-09-11T10:05:50.722Z"
   },
   {
    "duration": 23,
    "start_time": "2022-09-11T10:39:26.863Z"
   },
   {
    "duration": 26,
    "start_time": "2022-09-11T10:39:43.341Z"
   },
   {
    "duration": 23,
    "start_time": "2022-09-11T10:39:59.807Z"
   },
   {
    "duration": 52,
    "start_time": "2022-09-12T07:44:07.330Z"
   },
   {
    "duration": 700,
    "start_time": "2022-09-12T07:44:14.276Z"
   },
   {
    "duration": 20,
    "start_time": "2022-09-12T07:44:14.978Z"
   },
   {
    "duration": 13,
    "start_time": "2022-09-12T07:44:15.001Z"
   },
   {
    "duration": 8,
    "start_time": "2022-09-12T07:44:15.016Z"
   },
   {
    "duration": 47,
    "start_time": "2022-09-12T07:44:15.026Z"
   },
   {
    "duration": 14,
    "start_time": "2022-09-12T07:44:15.074Z"
   },
   {
    "duration": 55,
    "start_time": "2022-09-12T07:44:15.089Z"
   },
   {
    "duration": 103,
    "start_time": "2022-09-12T07:44:15.145Z"
   },
   {
    "duration": 10,
    "start_time": "2022-09-12T07:44:15.249Z"
   },
   {
    "duration": 5,
    "start_time": "2022-09-12T07:44:15.260Z"
   },
   {
    "duration": 38,
    "start_time": "2022-09-12T07:44:15.266Z"
   },
   {
    "duration": 9,
    "start_time": "2022-09-12T07:44:15.305Z"
   },
   {
    "duration": 6,
    "start_time": "2022-09-12T07:44:15.317Z"
   },
   {
    "duration": 14,
    "start_time": "2022-09-12T07:44:15.324Z"
   },
   {
    "duration": 22,
    "start_time": "2022-09-12T07:44:15.340Z"
   },
   {
    "duration": 37,
    "start_time": "2022-09-12T07:44:15.363Z"
   },
   {
    "duration": 3,
    "start_time": "2022-09-12T07:44:15.402Z"
   },
   {
    "duration": 10,
    "start_time": "2022-09-12T07:44:15.407Z"
   },
   {
    "duration": 12,
    "start_time": "2022-09-12T07:44:15.419Z"
   },
   {
    "duration": 5,
    "start_time": "2022-09-12T07:44:15.433Z"
   },
   {
    "duration": 12,
    "start_time": "2022-09-12T07:44:15.439Z"
   },
   {
    "duration": 9,
    "start_time": "2022-09-12T07:44:15.452Z"
   },
   {
    "duration": 5,
    "start_time": "2022-09-12T07:44:15.462Z"
   },
   {
    "duration": 6,
    "start_time": "2022-09-12T07:44:15.469Z"
   },
   {
    "duration": 1063,
    "start_time": "2022-09-12T07:44:15.477Z"
   },
   {
    "duration": 12,
    "start_time": "2022-09-12T07:44:16.542Z"
   },
   {
    "duration": 27,
    "start_time": "2022-09-12T07:44:16.556Z"
   },
   {
    "duration": 26,
    "start_time": "2022-09-12T07:44:16.585Z"
   },
   {
    "duration": 29,
    "start_time": "2022-09-12T07:44:16.613Z"
   },
   {
    "duration": 29,
    "start_time": "2022-09-12T07:44:16.645Z"
   },
   {
    "duration": 19,
    "start_time": "2022-09-12T07:44:16.675Z"
   },
   {
    "duration": 30,
    "start_time": "2022-09-12T07:44:16.695Z"
   },
   {
    "duration": 7,
    "start_time": "2022-09-12T07:44:23.469Z"
   },
   {
    "duration": 9,
    "start_time": "2022-09-12T07:46:51.122Z"
   },
   {
    "duration": 9,
    "start_time": "2022-09-12T07:47:00.403Z"
   },
   {
    "duration": 111,
    "start_time": "2022-09-12T07:56:23.486Z"
   },
   {
    "duration": 14,
    "start_time": "2022-09-12T07:59:20.478Z"
   },
   {
    "duration": 14,
    "start_time": "2022-09-12T08:00:01.375Z"
   },
   {
    "duration": 12,
    "start_time": "2022-09-12T08:03:16.834Z"
   },
   {
    "duration": 12,
    "start_time": "2022-09-12T08:03:35.792Z"
   },
   {
    "duration": 13,
    "start_time": "2022-09-12T08:03:38.735Z"
   },
   {
    "duration": 22,
    "start_time": "2022-09-12T08:04:26.280Z"
   },
   {
    "duration": 20,
    "start_time": "2022-09-12T08:04:54.443Z"
   },
   {
    "duration": 19,
    "start_time": "2022-09-12T08:05:34.359Z"
   },
   {
    "duration": 18,
    "start_time": "2022-09-12T08:05:48.744Z"
   },
   {
    "duration": 17,
    "start_time": "2022-09-12T08:05:59.029Z"
   },
   {
    "duration": 20,
    "start_time": "2022-09-12T08:06:08.549Z"
   },
   {
    "duration": 16,
    "start_time": "2022-09-12T08:06:24.647Z"
   },
   {
    "duration": 18,
    "start_time": "2022-09-12T08:06:48.591Z"
   },
   {
    "duration": 17,
    "start_time": "2022-09-12T08:07:21.756Z"
   },
   {
    "duration": 15,
    "start_time": "2022-09-12T08:07:28.478Z"
   },
   {
    "duration": 15,
    "start_time": "2022-09-12T08:07:35.796Z"
   },
   {
    "duration": 15,
    "start_time": "2022-09-12T08:07:44.638Z"
   },
   {
    "duration": 16,
    "start_time": "2022-09-12T08:12:00.332Z"
   },
   {
    "duration": 5,
    "start_time": "2022-09-12T08:12:19.509Z"
   },
   {
    "duration": 15,
    "start_time": "2022-09-12T08:12:26.130Z"
   },
   {
    "duration": 11,
    "start_time": "2022-09-12T08:13:15.593Z"
   },
   {
    "duration": 9,
    "start_time": "2022-09-12T08:13:30.439Z"
   },
   {
    "duration": 11,
    "start_time": "2022-09-12T08:14:07.742Z"
   },
   {
    "duration": 8,
    "start_time": "2022-09-12T08:14:11.188Z"
   },
   {
    "duration": 50,
    "start_time": "2022-09-12T08:49:53.309Z"
   },
   {
    "duration": 76,
    "start_time": "2022-09-12T08:50:06.514Z"
   },
   {
    "duration": 140,
    "start_time": "2022-09-12T08:50:52.820Z"
   },
   {
    "duration": 48,
    "start_time": "2022-09-12T10:26:43.033Z"
   },
   {
    "duration": 611,
    "start_time": "2022-09-12T10:26:48.963Z"
   },
   {
    "duration": 20,
    "start_time": "2022-09-12T10:26:49.576Z"
   },
   {
    "duration": 13,
    "start_time": "2022-09-12T10:26:49.597Z"
   },
   {
    "duration": 8,
    "start_time": "2022-09-12T10:26:49.612Z"
   },
   {
    "duration": 32,
    "start_time": "2022-09-12T10:26:49.621Z"
   },
   {
    "duration": 3,
    "start_time": "2022-09-12T10:26:49.654Z"
   },
   {
    "duration": 8,
    "start_time": "2022-09-12T10:26:49.659Z"
   },
   {
    "duration": 4,
    "start_time": "2022-09-12T10:26:49.669Z"
   },
   {
    "duration": 9,
    "start_time": "2022-09-12T10:26:49.674Z"
   },
   {
    "duration": 23,
    "start_time": "2022-09-12T10:26:49.686Z"
   },
   {
    "duration": 28,
    "start_time": "2022-09-12T10:26:49.711Z"
   },
   {
    "duration": 8,
    "start_time": "2022-09-12T10:26:49.741Z"
   },
   {
    "duration": 4,
    "start_time": "2022-09-12T10:26:49.750Z"
   },
   {
    "duration": 12,
    "start_time": "2022-09-12T10:26:49.755Z"
   },
   {
    "duration": 42,
    "start_time": "2022-09-12T10:26:49.768Z"
   },
   {
    "duration": 16,
    "start_time": "2022-09-12T10:26:49.811Z"
   },
   {
    "duration": 3,
    "start_time": "2022-09-12T10:26:49.829Z"
   },
   {
    "duration": 25,
    "start_time": "2022-09-12T10:26:49.833Z"
   },
   {
    "duration": 5,
    "start_time": "2022-09-12T10:26:49.860Z"
   },
   {
    "duration": 8,
    "start_time": "2022-09-12T10:26:49.866Z"
   },
   {
    "duration": 12,
    "start_time": "2022-09-12T10:26:49.876Z"
   },
   {
    "duration": 17,
    "start_time": "2022-09-12T10:26:49.889Z"
   },
   {
    "duration": 5,
    "start_time": "2022-09-12T10:26:49.907Z"
   },
   {
    "duration": 8,
    "start_time": "2022-09-12T10:26:49.913Z"
   },
   {
    "duration": 983,
    "start_time": "2022-09-12T10:26:49.922Z"
   },
   {
    "duration": 26,
    "start_time": "2022-09-12T10:26:50.909Z"
   },
   {
    "duration": 8,
    "start_time": "2022-09-12T10:26:50.937Z"
   },
   {
    "duration": 5,
    "start_time": "2022-09-12T10:26:50.949Z"
   },
   {
    "duration": 10,
    "start_time": "2022-09-12T10:26:50.955Z"
   },
   {
    "duration": 55,
    "start_time": "2022-09-12T10:26:50.967Z"
   },
   {
    "duration": 17,
    "start_time": "2022-09-12T10:26:51.024Z"
   },
   {
    "duration": 15,
    "start_time": "2022-09-12T10:26:51.043Z"
   },
   {
    "duration": 14,
    "start_time": "2022-09-12T10:26:51.059Z"
   },
   {
    "duration": 122,
    "start_time": "2022-09-12T10:28:35.136Z"
   },
   {
    "duration": 26,
    "start_time": "2022-09-12T10:30:02.645Z"
   },
   {
    "duration": 72,
    "start_time": "2022-09-12T10:31:32.462Z"
   },
   {
    "duration": 438,
    "start_time": "2022-09-12T10:31:40.642Z"
   },
   {
    "duration": 19,
    "start_time": "2022-09-12T10:31:41.082Z"
   },
   {
    "duration": 13,
    "start_time": "2022-09-12T10:31:41.103Z"
   },
   {
    "duration": 28,
    "start_time": "2022-09-12T10:31:41.119Z"
   },
   {
    "duration": 3,
    "start_time": "2022-09-12T10:31:41.149Z"
   },
   {
    "duration": 10,
    "start_time": "2022-09-12T10:31:41.153Z"
   },
   {
    "duration": 4,
    "start_time": "2022-09-12T10:31:41.164Z"
   },
   {
    "duration": 8,
    "start_time": "2022-09-12T10:31:41.169Z"
   },
   {
    "duration": 6,
    "start_time": "2022-09-12T10:31:41.178Z"
   },
   {
    "duration": 50,
    "start_time": "2022-09-12T10:31:41.187Z"
   },
   {
    "duration": 9,
    "start_time": "2022-09-12T10:31:41.239Z"
   },
   {
    "duration": 6,
    "start_time": "2022-09-12T10:31:41.249Z"
   },
   {
    "duration": 12,
    "start_time": "2022-09-12T10:31:41.256Z"
   },
   {
    "duration": 39,
    "start_time": "2022-09-12T10:31:41.270Z"
   },
   {
    "duration": 16,
    "start_time": "2022-09-12T10:31:41.311Z"
   },
   {
    "duration": 3,
    "start_time": "2022-09-12T10:31:41.329Z"
   },
   {
    "duration": 13,
    "start_time": "2022-09-12T10:31:41.333Z"
   },
   {
    "duration": 7,
    "start_time": "2022-09-12T10:31:41.348Z"
   },
   {
    "duration": 3,
    "start_time": "2022-09-12T10:31:41.357Z"
   },
   {
    "duration": 9,
    "start_time": "2022-09-12T10:31:41.361Z"
   },
   {
    "duration": 6,
    "start_time": "2022-09-12T10:31:41.372Z"
   },
   {
    "duration": 31,
    "start_time": "2022-09-12T10:31:41.379Z"
   },
   {
    "duration": 6,
    "start_time": "2022-09-12T10:31:41.411Z"
   },
   {
    "duration": 796,
    "start_time": "2022-09-12T10:31:41.418Z"
   },
   {
    "duration": 23,
    "start_time": "2022-09-12T10:31:42.215Z"
   },
   {
    "duration": 7,
    "start_time": "2022-09-12T10:31:42.240Z"
   },
   {
    "duration": 16,
    "start_time": "2022-09-12T10:31:42.248Z"
   },
   {
    "duration": 23,
    "start_time": "2022-09-12T10:31:42.267Z"
   },
   {
    "duration": 34,
    "start_time": "2022-09-12T10:31:42.291Z"
   },
   {
    "duration": 15,
    "start_time": "2022-09-12T10:31:42.326Z"
   },
   {
    "duration": 20,
    "start_time": "2022-09-12T10:31:42.342Z"
   },
   {
    "duration": 20,
    "start_time": "2022-09-12T10:31:42.363Z"
   },
   {
    "duration": 18,
    "start_time": "2022-09-12T10:32:15.236Z"
   },
   {
    "duration": 23,
    "start_time": "2022-09-12T10:32:51.036Z"
   },
   {
    "duration": 17,
    "start_time": "2022-09-12T10:32:57.328Z"
   },
   {
    "duration": 19,
    "start_time": "2022-09-12T10:38:04.883Z"
   },
   {
    "duration": 22,
    "start_time": "2022-09-12T10:38:24.290Z"
   },
   {
    "duration": 21,
    "start_time": "2022-09-12T10:39:11.594Z"
   },
   {
    "duration": 32,
    "start_time": "2022-09-12T10:39:38.136Z"
   },
   {
    "duration": 19,
    "start_time": "2022-09-12T10:39:56.731Z"
   },
   {
    "duration": 109,
    "start_time": "2022-09-12T10:40:55.166Z"
   },
   {
    "duration": 752,
    "start_time": "2022-09-12T10:41:02.733Z"
   },
   {
    "duration": 17,
    "start_time": "2022-09-12T10:45:05.449Z"
   },
   {
    "duration": 16,
    "start_time": "2022-09-12T10:48:37.984Z"
   },
   {
    "duration": 19,
    "start_time": "2022-09-12T10:48:48.299Z"
   },
   {
    "duration": 810,
    "start_time": "2022-09-12T10:49:38.687Z"
   },
   {
    "duration": 915,
    "start_time": "2022-09-12T10:50:14.379Z"
   },
   {
    "duration": 927,
    "start_time": "2022-09-12T10:51:18.271Z"
   },
   {
    "duration": 10,
    "start_time": "2022-09-12T11:01:36.346Z"
   },
   {
    "duration": 10,
    "start_time": "2022-09-12T11:02:29.681Z"
   },
   {
    "duration": 14,
    "start_time": "2022-09-12T11:02:44.405Z"
   },
   {
    "duration": 12,
    "start_time": "2022-09-12T11:04:02.416Z"
   },
   {
    "duration": 1218,
    "start_time": "2022-09-12T11:04:18.072Z"
   },
   {
    "duration": 19,
    "start_time": "2022-09-12T11:04:27.594Z"
   },
   {
    "duration": 9,
    "start_time": "2022-09-12T11:05:09.815Z"
   },
   {
    "duration": 14,
    "start_time": "2022-09-12T11:05:19.510Z"
   },
   {
    "duration": 10,
    "start_time": "2022-09-12T11:05:28.741Z"
   },
   {
    "duration": 14,
    "start_time": "2022-09-12T11:05:40.199Z"
   },
   {
    "duration": 9,
    "start_time": "2022-09-12T11:05:54.100Z"
   },
   {
    "duration": 15,
    "start_time": "2022-09-12T11:06:11.331Z"
   },
   {
    "duration": 16,
    "start_time": "2022-09-12T11:07:04.639Z"
   },
   {
    "duration": 13,
    "start_time": "2022-09-12T11:07:22.823Z"
   },
   {
    "duration": 17,
    "start_time": "2022-09-12T11:07:30.414Z"
   },
   {
    "duration": 106,
    "start_time": "2022-09-12T11:08:31.417Z"
   },
   {
    "duration": 9,
    "start_time": "2022-09-12T11:08:39.251Z"
   },
   {
    "duration": 8,
    "start_time": "2022-09-12T11:08:49.394Z"
   },
   {
    "duration": 9,
    "start_time": "2022-09-12T11:09:02.147Z"
   },
   {
    "duration": 18,
    "start_time": "2022-09-12T11:09:08.790Z"
   },
   {
    "duration": 14,
    "start_time": "2022-09-12T11:09:32.892Z"
   },
   {
    "duration": 19,
    "start_time": "2022-09-12T11:09:44.418Z"
   },
   {
    "duration": 17,
    "start_time": "2022-09-12T11:09:52.227Z"
   },
   {
    "duration": 22,
    "start_time": "2022-09-12T11:09:58.681Z"
   },
   {
    "duration": 11,
    "start_time": "2022-09-12T11:10:19.740Z"
   },
   {
    "duration": 11,
    "start_time": "2022-09-12T11:10:47.354Z"
   },
   {
    "duration": 10,
    "start_time": "2022-09-12T11:14:16.090Z"
   },
   {
    "duration": 63,
    "start_time": "2022-09-12T11:24:20.171Z"
   },
   {
    "duration": 14,
    "start_time": "2022-09-12T11:26:04.718Z"
   },
   {
    "duration": 13,
    "start_time": "2022-09-12T11:28:39.198Z"
   },
   {
    "duration": 13,
    "start_time": "2022-09-12T11:30:30.947Z"
   },
   {
    "duration": 804,
    "start_time": "2022-09-12T11:31:39.576Z"
   },
   {
    "duration": 11,
    "start_time": "2022-09-12T11:31:54.929Z"
   },
   {
    "duration": 81,
    "start_time": "2022-09-12T11:32:28.432Z"
   },
   {
    "duration": 53,
    "start_time": "2022-09-12T11:32:38.341Z"
   },
   {
    "duration": 12,
    "start_time": "2022-09-12T11:32:45.393Z"
   },
   {
    "duration": 12,
    "start_time": "2022-09-12T11:53:25.922Z"
   },
   {
    "duration": 14,
    "start_time": "2022-09-12T11:55:04.100Z"
   },
   {
    "duration": 15,
    "start_time": "2022-09-12T11:55:25.014Z"
   },
   {
    "duration": 15,
    "start_time": "2022-09-12T11:55:39.157Z"
   },
   {
    "duration": 17,
    "start_time": "2022-09-12T11:55:52.797Z"
   },
   {
    "duration": 14,
    "start_time": "2022-09-12T11:56:06.909Z"
   },
   {
    "duration": 15,
    "start_time": "2022-09-12T11:56:37.300Z"
   },
   {
    "duration": 17,
    "start_time": "2022-09-12T11:56:50.017Z"
   },
   {
    "duration": 14,
    "start_time": "2022-09-12T11:57:03.228Z"
   },
   {
    "duration": 15,
    "start_time": "2022-09-12T11:57:11.312Z"
   },
   {
    "duration": 21,
    "start_time": "2022-09-12T11:57:26.700Z"
   },
   {
    "duration": 17,
    "start_time": "2022-09-12T11:57:31.747Z"
   },
   {
    "duration": 15,
    "start_time": "2022-09-12T11:57:39.811Z"
   },
   {
    "duration": 15,
    "start_time": "2022-09-12T11:58:28.583Z"
   },
   {
    "duration": 16,
    "start_time": "2022-09-12T11:58:33.199Z"
   },
   {
    "duration": 14,
    "start_time": "2022-09-12T11:58:46.243Z"
   },
   {
    "duration": 15,
    "start_time": "2022-09-12T11:59:07.036Z"
   },
   {
    "duration": 17,
    "start_time": "2022-09-12T11:59:22.141Z"
   },
   {
    "duration": 15,
    "start_time": "2022-09-12T11:59:25.980Z"
   },
   {
    "duration": 15,
    "start_time": "2022-09-12T11:59:28.973Z"
   },
   {
    "duration": 14,
    "start_time": "2022-09-12T11:59:39.209Z"
   },
   {
    "duration": 15,
    "start_time": "2022-09-12T11:59:57.565Z"
   },
   {
    "duration": 16,
    "start_time": "2022-09-12T12:00:03.490Z"
   },
   {
    "duration": 15,
    "start_time": "2022-09-12T12:00:13.972Z"
   },
   {
    "duration": 17,
    "start_time": "2022-09-12T12:00:21.917Z"
   },
   {
    "duration": 18,
    "start_time": "2022-09-12T12:00:32.519Z"
   },
   {
    "duration": 14,
    "start_time": "2022-09-12T12:00:37.876Z"
   },
   {
    "duration": 15,
    "start_time": "2022-09-12T12:01:14.040Z"
   },
   {
    "duration": 12,
    "start_time": "2022-09-12T12:01:44.945Z"
   },
   {
    "duration": 13,
    "start_time": "2022-09-12T12:02:04.168Z"
   },
   {
    "duration": 17,
    "start_time": "2022-09-12T12:02:12.714Z"
   },
   {
    "duration": 11,
    "start_time": "2022-09-12T12:03:26.885Z"
   },
   {
    "duration": 15,
    "start_time": "2022-09-12T12:03:38.247Z"
   },
   {
    "duration": 16,
    "start_time": "2022-09-12T12:04:04.769Z"
   },
   {
    "duration": 16,
    "start_time": "2022-09-12T12:04:22.071Z"
   },
   {
    "duration": 17,
    "start_time": "2022-09-12T12:04:45.588Z"
   },
   {
    "duration": 13,
    "start_time": "2022-09-12T12:04:59.641Z"
   },
   {
    "duration": 15,
    "start_time": "2022-09-12T12:06:54.085Z"
   },
   {
    "duration": 19,
    "start_time": "2022-09-12T12:07:18.446Z"
   },
   {
    "duration": 12,
    "start_time": "2022-09-12T12:07:34.760Z"
   },
   {
    "duration": 13,
    "start_time": "2022-09-12T12:07:40.119Z"
   },
   {
    "duration": 88,
    "start_time": "2022-09-12T12:10:03.567Z"
   },
   {
    "duration": 128,
    "start_time": "2022-09-12T12:18:02.368Z"
   },
   {
    "duration": 1023,
    "start_time": "2022-09-13T05:30:34.113Z"
   },
   {
    "duration": 23,
    "start_time": "2022-09-13T05:30:35.138Z"
   },
   {
    "duration": 14,
    "start_time": "2022-09-13T05:30:35.163Z"
   },
   {
    "duration": 10,
    "start_time": "2022-09-13T05:30:35.178Z"
   },
   {
    "duration": 44,
    "start_time": "2022-09-13T05:30:35.190Z"
   },
   {
    "duration": 4,
    "start_time": "2022-09-13T05:30:35.235Z"
   },
   {
    "duration": 10,
    "start_time": "2022-09-13T05:30:35.240Z"
   },
   {
    "duration": 5,
    "start_time": "2022-09-13T05:30:35.251Z"
   },
   {
    "duration": 15,
    "start_time": "2022-09-13T05:30:35.257Z"
   },
   {
    "duration": 5,
    "start_time": "2022-09-13T05:30:35.274Z"
   },
   {
    "duration": 57,
    "start_time": "2022-09-13T05:30:35.281Z"
   },
   {
    "duration": 8,
    "start_time": "2022-09-13T05:30:35.340Z"
   },
   {
    "duration": 6,
    "start_time": "2022-09-13T05:30:35.350Z"
   },
   {
    "duration": 11,
    "start_time": "2022-09-13T05:30:35.359Z"
   },
   {
    "duration": 42,
    "start_time": "2022-09-13T05:30:35.372Z"
   },
   {
    "duration": 17,
    "start_time": "2022-09-13T05:30:35.415Z"
   },
   {
    "duration": 3,
    "start_time": "2022-09-13T05:30:35.434Z"
   },
   {
    "duration": 13,
    "start_time": "2022-09-13T05:30:35.439Z"
   },
   {
    "duration": 6,
    "start_time": "2022-09-13T05:30:35.453Z"
   },
   {
    "duration": 7,
    "start_time": "2022-09-13T05:30:35.460Z"
   },
   {
    "duration": 13,
    "start_time": "2022-09-13T05:30:35.468Z"
   },
   {
    "duration": 31,
    "start_time": "2022-09-13T05:30:35.482Z"
   },
   {
    "duration": 5,
    "start_time": "2022-09-13T05:30:35.515Z"
   },
   {
    "duration": 6,
    "start_time": "2022-09-13T05:30:35.521Z"
   },
   {
    "duration": 1030,
    "start_time": "2022-09-13T05:30:35.529Z"
   },
   {
    "duration": 16,
    "start_time": "2022-09-13T05:30:36.561Z"
   },
   {
    "duration": 19,
    "start_time": "2022-09-13T05:30:36.578Z"
   },
   {
    "duration": 8,
    "start_time": "2022-09-13T05:30:36.609Z"
   },
   {
    "duration": 6,
    "start_time": "2022-09-13T05:30:36.619Z"
   },
   {
    "duration": 26,
    "start_time": "2022-09-13T05:30:36.627Z"
   },
   {
    "duration": 7,
    "start_time": "2022-09-13T05:30:36.655Z"
   },
   {
    "duration": 50,
    "start_time": "2022-09-13T05:30:36.663Z"
   },
   {
    "duration": 17,
    "start_time": "2022-09-13T05:30:36.715Z"
   },
   {
    "duration": 14,
    "start_time": "2022-09-13T05:30:36.734Z"
   },
   {
    "duration": 15,
    "start_time": "2022-09-13T05:30:36.750Z"
   },
   {
    "duration": 14,
    "start_time": "2022-09-13T05:37:30.564Z"
   },
   {
    "duration": 51,
    "start_time": "2022-09-13T05:37:55.428Z"
   },
   {
    "duration": 34,
    "start_time": "2022-09-13T05:39:22.766Z"
   },
   {
    "duration": 26,
    "start_time": "2022-09-13T05:39:46.811Z"
   },
   {
    "duration": 28,
    "start_time": "2022-09-13T05:40:26.008Z"
   },
   {
    "duration": 17,
    "start_time": "2022-09-13T05:40:47.208Z"
   },
   {
    "duration": 130,
    "start_time": "2022-09-13T06:11:09.468Z"
   },
   {
    "duration": 21,
    "start_time": "2022-09-13T06:31:05.492Z"
   },
   {
    "duration": 21,
    "start_time": "2022-09-13T06:32:54.600Z"
   },
   {
    "duration": 100,
    "start_time": "2022-09-13T11:02:53.957Z"
   },
   {
    "duration": 47,
    "start_time": "2022-09-14T06:06:44.140Z"
   },
   {
    "duration": 753,
    "start_time": "2022-09-14T06:06:50.582Z"
   },
   {
    "duration": 31,
    "start_time": "2022-09-14T06:06:51.338Z"
   },
   {
    "duration": 22,
    "start_time": "2022-09-14T06:06:51.371Z"
   },
   {
    "duration": 15,
    "start_time": "2022-09-14T06:06:51.396Z"
   },
   {
    "duration": 78,
    "start_time": "2022-09-14T06:06:51.413Z"
   },
   {
    "duration": 4,
    "start_time": "2022-09-14T06:06:51.492Z"
   },
   {
    "duration": 28,
    "start_time": "2022-09-14T06:06:51.498Z"
   },
   {
    "duration": 16,
    "start_time": "2022-09-14T06:06:51.528Z"
   },
   {
    "duration": 10,
    "start_time": "2022-09-14T06:06:51.546Z"
   },
   {
    "duration": 6,
    "start_time": "2022-09-14T06:06:51.560Z"
   },
   {
    "duration": 61,
    "start_time": "2022-09-14T06:06:51.568Z"
   },
   {
    "duration": 12,
    "start_time": "2022-09-14T06:06:51.631Z"
   },
   {
    "duration": 13,
    "start_time": "2022-09-14T06:06:51.644Z"
   },
   {
    "duration": 17,
    "start_time": "2022-09-14T06:06:51.659Z"
   },
   {
    "duration": 19,
    "start_time": "2022-09-14T06:06:51.678Z"
   },
   {
    "duration": 39,
    "start_time": "2022-09-14T06:06:51.699Z"
   },
   {
    "duration": 18,
    "start_time": "2022-09-14T06:06:51.740Z"
   },
   {
    "duration": 19,
    "start_time": "2022-09-14T06:06:51.760Z"
   },
   {
    "duration": 10,
    "start_time": "2022-09-14T06:06:51.781Z"
   },
   {
    "duration": 9,
    "start_time": "2022-09-14T06:06:51.793Z"
   },
   {
    "duration": 18,
    "start_time": "2022-09-14T06:06:51.804Z"
   },
   {
    "duration": 16,
    "start_time": "2022-09-14T06:06:51.827Z"
   },
   {
    "duration": 8,
    "start_time": "2022-09-14T06:06:51.845Z"
   },
   {
    "duration": 15,
    "start_time": "2022-09-14T06:06:51.855Z"
   },
   {
    "duration": 1152,
    "start_time": "2022-09-14T06:06:51.872Z"
   },
   {
    "duration": 18,
    "start_time": "2022-09-14T06:06:53.026Z"
   },
   {
    "duration": 18,
    "start_time": "2022-09-14T06:06:53.046Z"
   },
   {
    "duration": 24,
    "start_time": "2022-09-14T06:06:53.067Z"
   },
   {
    "duration": 37,
    "start_time": "2022-09-14T06:06:53.093Z"
   },
   {
    "duration": 10,
    "start_time": "2022-09-14T06:06:53.132Z"
   },
   {
    "duration": 27,
    "start_time": "2022-09-14T06:06:53.144Z"
   },
   {
    "duration": 9,
    "start_time": "2022-09-14T06:06:53.173Z"
   },
   {
    "duration": 61,
    "start_time": "2022-09-14T06:06:53.184Z"
   },
   {
    "duration": 18,
    "start_time": "2022-09-14T06:06:53.246Z"
   },
   {
    "duration": 15,
    "start_time": "2022-09-14T06:06:53.266Z"
   },
   {
    "duration": 44,
    "start_time": "2022-09-14T06:06:53.282Z"
   },
   {
    "duration": 19,
    "start_time": "2022-09-14T06:06:53.328Z"
   },
   {
    "duration": 34,
    "start_time": "2022-09-14T06:13:43.438Z"
   },
   {
    "duration": 119,
    "start_time": "2022-09-14T06:14:37.678Z"
   },
   {
    "duration": 33,
    "start_time": "2022-09-14T06:15:10.567Z"
   },
   {
    "duration": 45,
    "start_time": "2022-09-14T06:15:40.641Z"
   },
   {
    "duration": 45,
    "start_time": "2022-09-14T06:15:59.163Z"
   },
   {
    "duration": 28,
    "start_time": "2022-09-14T06:17:00.061Z"
   },
   {
    "duration": 105,
    "start_time": "2022-09-14T06:18:31.885Z"
   }
  ],
  "colab": {
   "name": "dpp_template_part2.ipynb",
   "provenance": []
  },
  "kernelspec": {
   "display_name": "Python 3 (ipykernel)",
   "language": "python",
   "name": "python3"
  },
  "language_info": {
   "codemirror_mode": {
    "name": "ipython",
    "version": 3
   },
   "file_extension": ".py",
   "mimetype": "text/x-python",
   "name": "python",
   "nbconvert_exporter": "python",
   "pygments_lexer": "ipython3",
   "version": "3.9.5"
  },
  "toc": {
   "base_numbering": 1,
   "nav_menu": {},
   "number_sections": true,
   "sideBar": true,
   "skip_h1_title": true,
   "title_cell": "Table of Contents",
   "title_sidebar": "Contents",
   "toc_cell": false,
   "toc_position": {},
   "toc_section_display": true,
   "toc_window_display": false
  }
 },
 "nbformat": 4,
 "nbformat_minor": 5
}
