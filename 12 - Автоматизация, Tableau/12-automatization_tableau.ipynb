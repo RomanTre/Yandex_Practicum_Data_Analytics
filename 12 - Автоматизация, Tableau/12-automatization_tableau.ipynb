{
 "cells": [
  {
   "cell_type": "markdown",
   "id": "b5547e62",
   "metadata": {},
   "source": [
    "## Импорт из SQL и обзор данных"
   ]
  },
  {
   "cell_type": "code",
   "execution_count": 1,
   "id": "aa0b90ed",
   "metadata": {},
   "outputs": [
    {
     "name": "stdout",
     "output_type": "stream",
     "text": [
      "Defaulting to user installation because normal site-packages is not writeable\n",
      "Requirement already satisfied: psycopg2 in c:\\users\\роман\\appdata\\roaming\\python\\python39\\site-packages (2.9.5)\n"
     ]
    }
   ],
   "source": [
    "# Устанавливаем библиотеку psycopg (потребовалось для локальной работы в Jupiter notebook)\n",
    "!pip install psycopg2"
   ]
  },
  {
   "cell_type": "code",
   "execution_count": 2,
   "id": "feb3015a",
   "metadata": {},
   "outputs": [],
   "source": [
    "# Импортируем библиотеки\n",
    "import pandas as pd\n",
    "from sqlalchemy import create_engine\n",
    "\n",
    "# Создаём подключение к базе\n",
    "db_config = {'user': 'praktikum_student', # имя пользователя\n",
    "            'pwd': 'Sdf4$2;d-d30pp', # пароль\n",
    "            'host': 'rc1b-wcoijxj3yxfsf3fs.mdb.yandexcloud.net',\n",
    "            'port': 6432, # порт подключения\n",
    "            'db': 'data-analyst-zen-project-db'} # название базы данных\n",
    "\n",
    "connection_string = 'postgresql://{}:{}@{}:{}/{}'.format(db_config['user'],\n",
    "                                                db_config['pwd'],\n",
    "                                                db_config['host'],\n",
    "                                                db_config['port'],\n",
    "                                                db_config['db'])\n",
    "\n",
    "engine = create_engine(connection_string)"
   ]
  },
  {
   "cell_type": "code",
   "execution_count": 3,
   "id": "f0661ebe",
   "metadata": {},
   "outputs": [
    {
     "data": {
      "text/html": [
       "<div>\n",
       "<style scoped>\n",
       "    .dataframe tbody tr th:only-of-type {\n",
       "        vertical-align: middle;\n",
       "    }\n",
       "\n",
       "    .dataframe tbody tr th {\n",
       "        vertical-align: top;\n",
       "    }\n",
       "\n",
       "    .dataframe thead th {\n",
       "        text-align: right;\n",
       "    }\n",
       "</style>\n",
       "<table border=\"1\" class=\"dataframe\">\n",
       "  <thead>\n",
       "    <tr style=\"text-align: right;\">\n",
       "      <th></th>\n",
       "      <th>record_id</th>\n",
       "      <th>item_topic</th>\n",
       "      <th>source_topic</th>\n",
       "      <th>age_segment</th>\n",
       "      <th>dt</th>\n",
       "      <th>visits</th>\n",
       "    </tr>\n",
       "  </thead>\n",
       "  <tbody>\n",
       "    <tr>\n",
       "      <th>0</th>\n",
       "      <td>1040597</td>\n",
       "      <td>Деньги</td>\n",
       "      <td>Авто</td>\n",
       "      <td>18-25</td>\n",
       "      <td>2019-09-24 18:32:00</td>\n",
       "      <td>3</td>\n",
       "    </tr>\n",
       "    <tr>\n",
       "      <th>1</th>\n",
       "      <td>1040598</td>\n",
       "      <td>Деньги</td>\n",
       "      <td>Авто</td>\n",
       "      <td>18-25</td>\n",
       "      <td>2019-09-24 18:35:00</td>\n",
       "      <td>1</td>\n",
       "    </tr>\n",
       "    <tr>\n",
       "      <th>2</th>\n",
       "      <td>1040599</td>\n",
       "      <td>Деньги</td>\n",
       "      <td>Авто</td>\n",
       "      <td>18-25</td>\n",
       "      <td>2019-09-24 18:54:00</td>\n",
       "      <td>4</td>\n",
       "    </tr>\n",
       "    <tr>\n",
       "      <th>3</th>\n",
       "      <td>1040600</td>\n",
       "      <td>Деньги</td>\n",
       "      <td>Авто</td>\n",
       "      <td>18-25</td>\n",
       "      <td>2019-09-24 18:55:00</td>\n",
       "      <td>17</td>\n",
       "    </tr>\n",
       "    <tr>\n",
       "      <th>4</th>\n",
       "      <td>1040601</td>\n",
       "      <td>Деньги</td>\n",
       "      <td>Авто</td>\n",
       "      <td>18-25</td>\n",
       "      <td>2019-09-24 18:56:00</td>\n",
       "      <td>27</td>\n",
       "    </tr>\n",
       "  </tbody>\n",
       "</table>\n",
       "</div>"
      ],
      "text/plain": [
       "   record_id item_topic source_topic age_segment                  dt  visits\n",
       "0    1040597     Деньги         Авто       18-25 2019-09-24 18:32:00       3\n",
       "1    1040598     Деньги         Авто       18-25 2019-09-24 18:35:00       1\n",
       "2    1040599     Деньги         Авто       18-25 2019-09-24 18:54:00       4\n",
       "3    1040600     Деньги         Авто       18-25 2019-09-24 18:55:00      17\n",
       "4    1040601     Деньги         Авто       18-25 2019-09-24 18:56:00      27"
      ]
     },
     "execution_count": 3,
     "metadata": {},
     "output_type": "execute_result"
    }
   ],
   "source": [
    "# Формируем текст запроса к базе SQL\n",
    "query = ''' SELECT * \n",
    "        FROM dash_visits\n",
    "    '''\n",
    "# Сохраняем в переменную dash_visits данные, выгруженные\n",
    "# из SQL в соответствии с запросом\n",
    "dash_visits = pd.io.sql.read_sql(query, con = engine) \n",
    "\n",
    "# Смотрим результат по полученной таблице\n",
    "dash_visits.head()"
   ]
  },
  {
   "cell_type": "code",
   "execution_count": 4,
   "id": "c7b35050",
   "metadata": {},
   "outputs": [
    {
     "name": "stdout",
     "output_type": "stream",
     "text": [
      "<class 'pandas.core.frame.DataFrame'>\n",
      "RangeIndex: 30745 entries, 0 to 30744\n",
      "Data columns (total 6 columns):\n",
      " #   Column        Non-Null Count  Dtype         \n",
      "---  ------        --------------  -----         \n",
      " 0   record_id     30745 non-null  int64         \n",
      " 1   item_topic    30745 non-null  object        \n",
      " 2   source_topic  30745 non-null  object        \n",
      " 3   age_segment   30745 non-null  object        \n",
      " 4   dt            30745 non-null  datetime64[ns]\n",
      " 5   visits        30745 non-null  int64         \n",
      "dtypes: datetime64[ns](1), int64(2), object(3)\n",
      "memory usage: 1.4+ MB\n"
     ]
    }
   ],
   "source": [
    "dash_visits.info()"
   ]
  },
  {
   "cell_type": "code",
   "execution_count": 5,
   "id": "4cfa541a",
   "metadata": {},
   "outputs": [
    {
     "data": {
      "text/plain": [
       "['Деньги',\n",
       " 'Дети',\n",
       " 'Женская психология',\n",
       " 'Женщины',\n",
       " 'Здоровье',\n",
       " 'Знаменитости',\n",
       " 'Интересные факты',\n",
       " 'Искусство',\n",
       " 'История',\n",
       " 'Красота',\n",
       " 'Культура',\n",
       " 'Наука',\n",
       " 'Общество',\n",
       " 'Отношения',\n",
       " 'Подборки',\n",
       " 'Полезные советы',\n",
       " 'Психология',\n",
       " 'Путешествия',\n",
       " 'Рассказы',\n",
       " 'Россия',\n",
       " 'Семья',\n",
       " 'Скандалы',\n",
       " 'Туризм',\n",
       " 'Шоу',\n",
       " 'Юмор']"
      ]
     },
     "execution_count": 5,
     "metadata": {},
     "output_type": "execute_result"
    }
   ],
   "source": [
    "# Познакомимся с файлом поближе: посмотрим уникальные значения тем статей\n",
    "dash_visits['item_topic'].unique().tolist()"
   ]
  },
  {
   "cell_type": "code",
   "execution_count": 6,
   "id": "357035da",
   "metadata": {},
   "outputs": [
    {
     "data": {
      "text/plain": [
       "['Авто',\n",
       " 'Деньги',\n",
       " 'Дети',\n",
       " 'Еда',\n",
       " 'Здоровье',\n",
       " 'Знаменитости',\n",
       " 'Интерьеры',\n",
       " 'Искусство',\n",
       " 'История',\n",
       " 'Кино',\n",
       " 'Музыка',\n",
       " 'Одежда',\n",
       " 'Полезные советы',\n",
       " 'Политика',\n",
       " 'Психология',\n",
       " 'Путешествия',\n",
       " 'Ремонт',\n",
       " 'Россия',\n",
       " 'Сад и дача',\n",
       " 'Сделай сам',\n",
       " 'Семейные отношения',\n",
       " 'Семья',\n",
       " 'Спорт',\n",
       " 'Строительство',\n",
       " 'Технологии',\n",
       " 'Финансы']"
      ]
     },
     "execution_count": 6,
     "metadata": {},
     "output_type": "execute_result"
    }
   ],
   "source": [
    "# Уникальные значения тем источников\n",
    "dash_visits['source_topic'].unique().tolist()"
   ]
  },
  {
   "cell_type": "code",
   "execution_count": 7,
   "id": "ec889a9b",
   "metadata": {},
   "outputs": [
    {
     "data": {
      "text/plain": [
       "array(['18-25', '26-30', '31-35', '36-40', '41-45', '45+'], dtype=object)"
      ]
     },
     "execution_count": 7,
     "metadata": {},
     "output_type": "execute_result"
    }
   ],
   "source": [
    "# Уникальные значения возрастных категорий пользователей\n",
    "dash_visits['age_segment'].unique()"
   ]
  },
  {
   "cell_type": "code",
   "execution_count": 8,
   "id": "cabc316a",
   "metadata": {},
   "outputs": [
    {
     "data": {
      "text/plain": [
       "Timestamp('2019-09-24 18:28:00')"
      ]
     },
     "execution_count": 8,
     "metadata": {},
     "output_type": "execute_result"
    }
   ],
   "source": [
    "# Минимальное значение времени посещения\n",
    "dash_visits['dt'].min()"
   ]
  },
  {
   "cell_type": "code",
   "execution_count": 9,
   "id": "32b5e71f",
   "metadata": {},
   "outputs": [
    {
     "data": {
      "text/plain": [
       "Timestamp('2019-09-24 19:00:00')"
      ]
     },
     "execution_count": 9,
     "metadata": {},
     "output_type": "execute_result"
    }
   ],
   "source": [
    "# Максимальное значение времени посещения\n",
    "dash_visits['dt'].max()"
   ]
  },
  {
   "cell_type": "markdown",
   "id": "18d4ba88",
   "metadata": {},
   "source": [
    "## Выгрузка в csv-формат для работы в Tableau"
   ]
  },
  {
   "cell_type": "code",
   "execution_count": 10,
   "id": "33d59b26",
   "metadata": {},
   "outputs": [],
   "source": [
    "# Выгружаем файл в формате csv для работы в Tableau\n",
    "dash_visits.to_csv(r\"dash_visits.csv\")"
   ]
  },
  {
   "cell_type": "markdown",
   "id": "3efc58f8",
   "metadata": {},
   "source": [
    "## Ссылки на дашборд и презентацию"
   ]
  },
  {
   "cell_type": "markdown",
   "id": "4d30621a",
   "metadata": {},
   "source": [
    "Ссылка на дашборд:<br>\n",
    "https://public.tableau.com/views/YP_Tableau_Project/Dashboard1?:language=en-US&publish=yes&:display_count=n&:origin=viz_share_link\n",
    "\n",
    "Ссылка на презентацию:<br>\n",
    "https://disk.yandex.ru/i/7nqjaF-Q3KN3rw"
   ]
  }
 ],
 "metadata": {
  "ExecuteTimeLog": [
   {
    "duration": 121,
    "start_time": "2023-03-11T10:04:12.400Z"
   }
  ],
  "kernelspec": {
   "display_name": "Python 3 (ipykernel)",
   "language": "python",
   "name": "python3"
  },
  "language_info": {
   "codemirror_mode": {
    "name": "ipython",
    "version": 3
   },
   "file_extension": ".py",
   "mimetype": "text/x-python",
   "name": "python",
   "nbconvert_exporter": "python",
   "pygments_lexer": "ipython3",
   "version": "3.9.5"
  },
  "toc": {
   "base_numbering": 1,
   "nav_menu": {},
   "number_sections": true,
   "sideBar": true,
   "skip_h1_title": true,
   "title_cell": "Table of Contents",
   "title_sidebar": "Contents",
   "toc_cell": false,
   "toc_position": {},
   "toc_section_display": true,
   "toc_window_display": false
  }
 },
 "nbformat": 4,
 "nbformat_minor": 5
}
